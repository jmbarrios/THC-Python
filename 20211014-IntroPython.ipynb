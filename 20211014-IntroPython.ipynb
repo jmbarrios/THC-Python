{
  "nbformat": 4,
  "nbformat_minor": 0,
  "metadata": {
    "colab": {
      "name": "Untitled0.ipynb",
      "provenance": [],
      "authorship_tag": "ABX9TyOGpw2cA5VBhf4x7cprUxP7",
      "include_colab_link": true
    },
    "kernelspec": {
      "name": "python3",
      "display_name": "Python 3"
    },
    "language_info": {
      "name": "python"
    }
  },
  "cells": [
    {
      "cell_type": "markdown",
      "metadata": {
        "id": "view-in-github",
        "colab_type": "text"
      },
      "source": [
        "<a href=\"https://colab.research.google.com/github/jmbarrios/THC-Python/blob/main/20211014-IntroPython.ipynb\" target=\"_parent\"><img src=\"https://colab.research.google.com/assets/colab-badge.svg\" alt=\"Open In Colab\"/></a>"
      ]
    },
    {
      "cell_type": "code",
      "metadata": {
        "colab": {
          "base_uri": "https://localhost:8080/"
        },
        "id": "HuE3Vdij4QMW",
        "outputId": "84a14183-1e76-4d01-bf11-74e8ecd6418b"
      },
      "source": [
        "!pip install rich"
      ],
      "execution_count": 1,
      "outputs": [
        {
          "output_type": "stream",
          "name": "stdout",
          "text": [
            "Collecting rich\n",
            "  Downloading rich-10.12.0-py3-none-any.whl (212 kB)\n",
            "\u001b[K     |████████████████████████████████| 212 kB 5.3 MB/s \n",
            "\u001b[?25hRequirement already satisfied: typing-extensions<4.0.0,>=3.7.4 in /usr/local/lib/python3.7/dist-packages (from rich) (3.7.4.3)\n",
            "Requirement already satisfied: pygments<3.0.0,>=2.6.0 in /usr/local/lib/python3.7/dist-packages (from rich) (2.6.1)\n",
            "Collecting colorama<0.5.0,>=0.4.0\n",
            "  Downloading colorama-0.4.4-py2.py3-none-any.whl (16 kB)\n",
            "Collecting commonmark<0.10.0,>=0.9.0\n",
            "  Downloading commonmark-0.9.1-py2.py3-none-any.whl (51 kB)\n",
            "\u001b[K     |████████████████████████████████| 51 kB 4.6 MB/s \n",
            "\u001b[?25hInstalling collected packages: commonmark, colorama, rich\n",
            "Successfully installed colorama-0.4.4 commonmark-0.9.1 rich-10.12.0\n"
          ]
        }
      ]
    },
    {
      "cell_type": "code",
      "metadata": {
        "id": "AIiwu6Os4Wkz"
      },
      "source": [
        "from rich import (print,\n",
        "                  inspect)"
      ],
      "execution_count": 2,
      "outputs": []
    },
    {
      "cell_type": "markdown",
      "metadata": {
        "id": "RUTzR5Gu4Z7t"
      },
      "source": [
        "## Narración\n",
        "\n",
        "En el siguiente ejemplo tenemos 8 registros de observaciones de pingüinos, en cada observación se registraron algunos datos que se consideran importantes para realizar un estudio. Los datos registrado son:\n",
        "\n",
        " * species\n",
        " * island\n",
        " * bill_length_mm\n",
        " * bill_depth_mm\n",
        " * flipper_length_mm\n",
        " * body_mass_g\n",
        " * sex\n",
        "\n",
        "![penguin_measuremnts](https://www.researchgate.net/profile/Miguel-Ferrer-5/publication/309435923/figure/fig2/AS:421508477657089@1477506860171/Measure-of-bill-length-and-upper-bill-depth-to-the-nearest-01-mm.png)"
      ]
    },
    {
      "cell_type": "code",
      "metadata": {
        "id": "c-XzZ1k84jW3"
      },
      "source": [
        "records = [\n",
        "    ['Adelie', 'Torgersen', 39.1, 18.7, 181.0, 3750.0, 'Male'], \n",
        "    ['Adelie', 'Torgersen', 39.5, 17.4, 186.0, 3800.0, 'Female'], \n",
        "    ['Adelie', 'Torgersen', 40.3, 18.0, 195.0, 3250.0, 'Female'],\n",
        "    ['Adelie', 'Torgersen', None, None, None, None, None], \n",
        "    ['Gentoo', 'Biscoe', 46.8, 14.3, 215.0, 4850.0, 'Female'], \n",
        "    ['Gentoo', 'Biscoe', 50.4, 15.7, 222.0, 5750.0, 'Male'],\n",
        "    ['Gentoo', 'Biscoe', 45.2, 14.8, 212.0, 5200.0, 'Female'], \n",
        "    ['Gentoo', 'Biscoe', 49.9, 16.1, 213.0, 5400.0, 'Male']\n",
        "]"
      ],
      "execution_count": 3,
      "outputs": []
    },
    {
      "cell_type": "markdown",
      "metadata": {
        "id": "AJ8zdR784ujv"
      },
      "source": [
        "* Extraer un registro de la lista."
      ]
    },
    {
      "cell_type": "code",
      "metadata": {
        "id": "oPwiN9l16Thq"
      },
      "source": [
        ""
      ],
      "execution_count": null,
      "outputs": []
    },
    {
      "cell_type": "markdown",
      "metadata": {
        "id": "Uux5Su3D45ik"
      },
      "source": [
        "* Incluir el dato de la persona que hizo la medición en este caso fue **Marcus Holmes**."
      ]
    },
    {
      "cell_type": "code",
      "metadata": {
        "id": "trBrHdgZ6Upp"
      },
      "source": [
        ""
      ],
      "execution_count": null,
      "outputs": []
    },
    {
      "cell_type": "markdown",
      "metadata": {
        "id": "OzhImkcp5EAM"
      },
      "source": [
        "* Incluir el nombre científico para Adelie es _Pygoscelis adeliae_ en la primera entrada."
      ]
    },
    {
      "cell_type": "code",
      "metadata": {
        "id": "vf3mMP_J6U-d"
      },
      "source": [
        ""
      ],
      "execution_count": null,
      "outputs": []
    },
    {
      "cell_type": "markdown",
      "metadata": {
        "id": "LaUUMkvg5QkU"
      },
      "source": [
        "* Agregar el valor del continente al registro después del valor de la isla, en este caso el continente es **Antartica**."
      ]
    },
    {
      "cell_type": "code",
      "metadata": {
        "id": "W2BkXZ8v6VPa"
      },
      "source": [
        ""
      ],
      "execution_count": null,
      "outputs": []
    },
    {
      "cell_type": "markdown",
      "metadata": {
        "id": "Ojl5u-QJ5hCv"
      },
      "source": [
        "* Hacer dos conjuntos de datos uno para los pingüinos **Adelie** y otro para los **Gentoo**"
      ]
    },
    {
      "cell_type": "code",
      "metadata": {
        "id": "CWRMDVfl6WV8"
      },
      "source": [
        ""
      ],
      "execution_count": null,
      "outputs": []
    },
    {
      "cell_type": "markdown",
      "metadata": {
        "id": "1nlwCU475q1p"
      },
      "source": [
        "* Hacer un listado para los números de 5."
      ]
    },
    {
      "cell_type": "code",
      "metadata": {
        "id": "cyfy541N6M2w"
      },
      "source": [
        "nums = [1, 2, 3, 4, 5, 6, 7, 8, 9, 10, 11, 12, 13, \n",
        "        14, 15, 16, 17, 18, 19, 20, 21, 22, 23, 24, 25]"
      ],
      "execution_count": 4,
      "outputs": []
    },
    {
      "cell_type": "markdown",
      "metadata": {
        "id": "4nWd-ufm6g3v"
      },
      "source": [
        "## Narración 2\n",
        "\n",
        "Un científico (_de datos_) después de analizar las observaciones se dió cuenta que si se multiplican los valores `bill_length_mm` y `bill_depth_mm`, y además considera el valor `flipper_length_mm` puede entrenar un perceptron para predecir la especie de pingüino. Por lo que decide empezar a transformar los registros para tener este valor disponible y lo agrega al final de la lista."
      ]
    },
    {
      "cell_type": "code",
      "metadata": {
        "id": "04jC0FWI8uRK"
      },
      "source": [
        ""
      ],
      "execution_count": 4,
      "outputs": []
    },
    {
      "cell_type": "markdown",
      "metadata": {
        "id": "4POyz2w28xTp"
      },
      "source": [
        "El equipo de manejo de datos se dió cuenta que pasaron por alto incluir un dato muy importante, la fecha que se registro el dato por lo que ahora incluye este valor en la primera columna."
      ]
    },
    {
      "cell_type": "code",
      "metadata": {
        "id": "9OncPnT9_lQX"
      },
      "source": [
        "records = [\n",
        "    ['08/10/2018 04:28 AM', 'Adelie', 'Torgersen', 39.1, 18.7, 181.0, 3750.0, 'Male'], \n",
        "    ['11/22/2018 10:25 PM', 'Adelie', 'Torgersen', 39.5, 17.4, 186.0, 3800.0, 'Female'], \n",
        "    ['08/10/2018 06:53 AM', 'Adelie', 'Torgersen', 40.3, 18.0, 195.0, 3250.0, 'Female'], \n",
        "    ['02/04/2018 06:18 PM', 'Adelie', 'Torgersen', None, None, None, None, None], \n",
        "    ['10/29/2018 05:47 AM', 'Gentoo', 'Biscoe', 46.8, 14.3, 215.0, 4850.0, 'Female'], \n",
        "    ['10/11/2018 05:09 PM', 'Gentoo', 'Biscoe', 50.4, 15.7, 222.0, 5750.0, 'Male'], \n",
        "    ['05/31/2018 05:14 PM', 'Gentoo', 'Biscoe', 45.2, 14.8, 212.0, 5200.0, 'Female'], \n",
        "    ['02/04/2018 05:25 AM', 'Gentoo', 'Biscoe', 49.9, 16.1, 213.0, 5400.0, 'Male']\n",
        "]"
      ],
      "execution_count": 5,
      "outputs": []
    },
    {
      "cell_type": "markdown",
      "metadata": {
        "id": "RmYwRjXk_zNa"
      },
      "source": [
        "Es por esto que existe otra estructura de datos en **Python** los diccionarios (_hash tables_)."
      ]
    },
    {
      "cell_type": "code",
      "metadata": {
        "id": "UqqSf6WnAJhJ"
      },
      "source": [
        "columnas = ['date', 'species', 'island', 'bill_length_mm', 'bill_depth_mm', \n",
        "            'flipper_length_mm', 'body_mass_g', 'sex']"
      ],
      "execution_count": 6,
      "outputs": []
    },
    {
      "cell_type": "code",
      "metadata": {
        "id": "UlXlVVsbAPOF"
      },
      "source": [
        ""
      ],
      "execution_count": null,
      "outputs": []
    }
  ]
}