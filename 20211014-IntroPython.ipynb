{
  "nbformat": 4,
  "nbformat_minor": 0,
  "metadata": {
    "colab": {
      "name": "Untitled0.ipynb",
      "provenance": [],
      "authorship_tag": "ABX9TyPScQQ01r/HzdAqhL5mAWgb",
      "include_colab_link": true
    },
    "kernelspec": {
      "name": "python3",
      "display_name": "Python 3"
    },
    "language_info": {
      "name": "python"
    }
  },
  "cells": [
    {
      "cell_type": "markdown",
      "metadata": {
        "id": "view-in-github",
        "colab_type": "text"
      },
      "source": [
        "<a href=\"https://colab.research.google.com/github/jmbarrios/THC-Python/blob/main/20211014-IntroPython.ipynb\" target=\"_parent\"><img src=\"https://colab.research.google.com/assets/colab-badge.svg\" alt=\"Open In Colab\"/></a>"
      ]
    },
    {
      "cell_type": "code",
      "metadata": {
        "colab": {
          "base_uri": "https://localhost:8080/"
        },
        "id": "HuE3Vdij4QMW",
        "outputId": "8354dcc9-f0cf-48d7-c8de-0b84bc7eb713"
      },
      "source": [
        "!pip install rich"
      ],
      "execution_count": 1,
      "outputs": [
        {
          "output_type": "stream",
          "name": "stdout",
          "text": [
            "Collecting rich\n",
            "  Downloading rich-10.12.0-py3-none-any.whl (212 kB)\n",
            "\u001b[K     |████████████████████████████████| 212 kB 5.2 MB/s \n",
            "\u001b[?25hCollecting commonmark<0.10.0,>=0.9.0\n",
            "  Downloading commonmark-0.9.1-py2.py3-none-any.whl (51 kB)\n",
            "\u001b[K     |████████████████████████████████| 51 kB 7.5 MB/s \n",
            "\u001b[?25hCollecting colorama<0.5.0,>=0.4.0\n",
            "  Downloading colorama-0.4.4-py2.py3-none-any.whl (16 kB)\n",
            "Requirement already satisfied: pygments<3.0.0,>=2.6.0 in /usr/local/lib/python3.7/dist-packages (from rich) (2.6.1)\n",
            "Requirement already satisfied: typing-extensions<4.0.0,>=3.7.4 in /usr/local/lib/python3.7/dist-packages (from rich) (3.7.4.3)\n",
            "Installing collected packages: commonmark, colorama, rich\n",
            "Successfully installed colorama-0.4.4 commonmark-0.9.1 rich-10.12.0\n"
          ]
        }
      ]
    },
    {
      "cell_type": "code",
      "metadata": {
        "id": "AIiwu6Os4Wkz"
      },
      "source": [
        "from rich import (print,\n",
        "                  inspect)"
      ],
      "execution_count": 2,
      "outputs": []
    },
    {
      "cell_type": "markdown",
      "metadata": {
        "id": "XWtgEhuK2B-M"
      },
      "source": [
        "Para extender las funciones por defecto de Python se pueden importar bibliotecas o funciones de bibliotecas extra.\n",
        "\n",
        "La sintaxis para importar estas bibliotecas son:\n",
        "\n",
        "    import rich\n",
        "    from rich import (print, inspect)\n",
        "    import numpy as np"
      ]
    },
    {
      "cell_type": "markdown",
      "metadata": {
        "id": "RUTzR5Gu4Z7t"
      },
      "source": [
        "## Narración\n",
        "\n",
        "En el siguiente ejemplo tenemos 8 registros de observaciones de pingüinos, en cada observación se registraron algunos datos que se consideran importantes para realizar un estudio. Los datos registrado son:\n",
        "\n",
        " * species\n",
        " * island\n",
        " * bill_length_mm\n",
        " * bill_depth_mm\n",
        " * flipper_length_mm\n",
        " * body_mass_g\n",
        " * sex\n",
        "\n",
        "![penguin_measuremnts](https://www.researchgate.net/profile/Miguel-Ferrer-5/publication/309435923/figure/fig2/AS:421508477657089@1477506860171/Measure-of-bill-length-and-upper-bill-depth-to-the-nearest-01-mm.png)"
      ]
    },
    {
      "cell_type": "code",
      "metadata": {
        "id": "c-XzZ1k84jW3"
      },
      "source": [
        "records = [\n",
        "    ['Adelie', 'Torgersen', 39.1, 18.7, 181.0, 3750.0, 'Male'], \n",
        "    ['Adelie', 'Torgersen', 39.5, 17.4, 186.0, 3800.0, 'Female'], \n",
        "    ['Adelie', 'Torgersen', 40.3, 18.0, 195.0, 3250.0, 'Female'],\n",
        "    ['Adelie', 'Torgersen', None, None, None, None, None], \n",
        "    ['Gentoo', 'Biscoe', 46.8, 14.3, 215.0, 4850.0, 'Female'], \n",
        "    ['Gentoo', 'Biscoe', 50.4, 15.7, 222.0, 5750.0, 'Male'],\n",
        "    ['Gentoo', 'Biscoe', 45.2, 14.8, 212.0, 5200.0, 'Female'], \n",
        "    ['Gentoo', 'Biscoe', 49.9, 16.1, 213.0, 5400.0, 'Male']\n",
        "]"
      ],
      "execution_count": 3,
      "outputs": []
    },
    {
      "cell_type": "code",
      "metadata": {
        "id": "yoPNWpnT4S0c",
        "outputId": "ed86c00f-e15a-48f3-a69a-637325d60910",
        "colab": {
          "base_uri": "https://localhost:8080/",
          "height": 182
        }
      },
      "source": [
        "print(records)"
      ],
      "execution_count": 4,
      "outputs": [
        {
          "output_type": "display_data",
          "data": {
            "text/html": [
              "<pre style=\"white-space:pre;overflow-x:auto;line-height:normal;font-family:Menlo,'DejaVu Sans Mono',consolas,'Courier New',monospace\"><span style=\"font-weight: bold\">[</span>\n",
              "    <span style=\"font-weight: bold\">[</span><span style=\"color: #008000; text-decoration-color: #008000\">'Adelie'</span>, <span style=\"color: #008000; text-decoration-color: #008000\">'Torgersen'</span>, <span style=\"color: #008080; text-decoration-color: #008080; font-weight: bold\">39.1</span>, <span style=\"color: #008080; text-decoration-color: #008080; font-weight: bold\">18.7</span>, <span style=\"color: #008080; text-decoration-color: #008080; font-weight: bold\">181.0</span>, <span style=\"color: #008080; text-decoration-color: #008080; font-weight: bold\">3750.0</span>, <span style=\"color: #008000; text-decoration-color: #008000\">'Male'</span><span style=\"font-weight: bold\">]</span>,\n",
              "    <span style=\"font-weight: bold\">[</span><span style=\"color: #008000; text-decoration-color: #008000\">'Adelie'</span>, <span style=\"color: #008000; text-decoration-color: #008000\">'Torgersen'</span>, <span style=\"color: #008080; text-decoration-color: #008080; font-weight: bold\">39.5</span>, <span style=\"color: #008080; text-decoration-color: #008080; font-weight: bold\">17.4</span>, <span style=\"color: #008080; text-decoration-color: #008080; font-weight: bold\">186.0</span>, <span style=\"color: #008080; text-decoration-color: #008080; font-weight: bold\">3800.0</span>, <span style=\"color: #008000; text-decoration-color: #008000\">'Female'</span><span style=\"font-weight: bold\">]</span>,\n",
              "    <span style=\"font-weight: bold\">[</span><span style=\"color: #008000; text-decoration-color: #008000\">'Adelie'</span>, <span style=\"color: #008000; text-decoration-color: #008000\">'Torgersen'</span>, <span style=\"color: #008080; text-decoration-color: #008080; font-weight: bold\">40.3</span>, <span style=\"color: #008080; text-decoration-color: #008080; font-weight: bold\">18.0</span>, <span style=\"color: #008080; text-decoration-color: #008080; font-weight: bold\">195.0</span>, <span style=\"color: #008080; text-decoration-color: #008080; font-weight: bold\">3250.0</span>, <span style=\"color: #008000; text-decoration-color: #008000\">'Female'</span><span style=\"font-weight: bold\">]</span>,\n",
              "    <span style=\"font-weight: bold\">[</span><span style=\"color: #008000; text-decoration-color: #008000\">'Adelie'</span>, <span style=\"color: #008000; text-decoration-color: #008000\">'Torgersen'</span>, <span style=\"color: #800080; text-decoration-color: #800080; font-style: italic\">None</span>, <span style=\"color: #800080; text-decoration-color: #800080; font-style: italic\">None</span>, <span style=\"color: #800080; text-decoration-color: #800080; font-style: italic\">None</span>, <span style=\"color: #800080; text-decoration-color: #800080; font-style: italic\">None</span>, <span style=\"color: #800080; text-decoration-color: #800080; font-style: italic\">None</span><span style=\"font-weight: bold\">]</span>,\n",
              "    <span style=\"font-weight: bold\">[</span><span style=\"color: #008000; text-decoration-color: #008000\">'Gentoo'</span>, <span style=\"color: #008000; text-decoration-color: #008000\">'Biscoe'</span>, <span style=\"color: #008080; text-decoration-color: #008080; font-weight: bold\">46.8</span>, <span style=\"color: #008080; text-decoration-color: #008080; font-weight: bold\">14.3</span>, <span style=\"color: #008080; text-decoration-color: #008080; font-weight: bold\">215.0</span>, <span style=\"color: #008080; text-decoration-color: #008080; font-weight: bold\">4850.0</span>, <span style=\"color: #008000; text-decoration-color: #008000\">'Female'</span><span style=\"font-weight: bold\">]</span>,\n",
              "    <span style=\"font-weight: bold\">[</span><span style=\"color: #008000; text-decoration-color: #008000\">'Gentoo'</span>, <span style=\"color: #008000; text-decoration-color: #008000\">'Biscoe'</span>, <span style=\"color: #008080; text-decoration-color: #008080; font-weight: bold\">50.4</span>, <span style=\"color: #008080; text-decoration-color: #008080; font-weight: bold\">15.7</span>, <span style=\"color: #008080; text-decoration-color: #008080; font-weight: bold\">222.0</span>, <span style=\"color: #008080; text-decoration-color: #008080; font-weight: bold\">5750.0</span>, <span style=\"color: #008000; text-decoration-color: #008000\">'Male'</span><span style=\"font-weight: bold\">]</span>,\n",
              "    <span style=\"font-weight: bold\">[</span><span style=\"color: #008000; text-decoration-color: #008000\">'Gentoo'</span>, <span style=\"color: #008000; text-decoration-color: #008000\">'Biscoe'</span>, <span style=\"color: #008080; text-decoration-color: #008080; font-weight: bold\">45.2</span>, <span style=\"color: #008080; text-decoration-color: #008080; font-weight: bold\">14.8</span>, <span style=\"color: #008080; text-decoration-color: #008080; font-weight: bold\">212.0</span>, <span style=\"color: #008080; text-decoration-color: #008080; font-weight: bold\">5200.0</span>, <span style=\"color: #008000; text-decoration-color: #008000\">'Female'</span><span style=\"font-weight: bold\">]</span>,\n",
              "    <span style=\"font-weight: bold\">[</span><span style=\"color: #008000; text-decoration-color: #008000\">'Gentoo'</span>, <span style=\"color: #008000; text-decoration-color: #008000\">'Biscoe'</span>, <span style=\"color: #008080; text-decoration-color: #008080; font-weight: bold\">49.9</span>, <span style=\"color: #008080; text-decoration-color: #008080; font-weight: bold\">16.1</span>, <span style=\"color: #008080; text-decoration-color: #008080; font-weight: bold\">213.0</span>, <span style=\"color: #008080; text-decoration-color: #008080; font-weight: bold\">5400.0</span>, <span style=\"color: #008000; text-decoration-color: #008000\">'Male'</span><span style=\"font-weight: bold\">]</span>\n",
              "<span style=\"font-weight: bold\">]</span>\n",
              "</pre>\n"
            ],
            "text/plain": [
              "\u001b[1m[\u001b[0m\n",
              "    \u001b[1m[\u001b[0m\u001b[32m'Adelie'\u001b[0m, \u001b[32m'Torgersen'\u001b[0m, \u001b[1;36m39.1\u001b[0m, \u001b[1;36m18.7\u001b[0m, \u001b[1;36m181.0\u001b[0m, \u001b[1;36m3750.0\u001b[0m, \u001b[32m'Male'\u001b[0m\u001b[1m]\u001b[0m,\n",
              "    \u001b[1m[\u001b[0m\u001b[32m'Adelie'\u001b[0m, \u001b[32m'Torgersen'\u001b[0m, \u001b[1;36m39.5\u001b[0m, \u001b[1;36m17.4\u001b[0m, \u001b[1;36m186.0\u001b[0m, \u001b[1;36m3800.0\u001b[0m, \u001b[32m'Female'\u001b[0m\u001b[1m]\u001b[0m,\n",
              "    \u001b[1m[\u001b[0m\u001b[32m'Adelie'\u001b[0m, \u001b[32m'Torgersen'\u001b[0m, \u001b[1;36m40.3\u001b[0m, \u001b[1;36m18.0\u001b[0m, \u001b[1;36m195.0\u001b[0m, \u001b[1;36m3250.0\u001b[0m, \u001b[32m'Female'\u001b[0m\u001b[1m]\u001b[0m,\n",
              "    \u001b[1m[\u001b[0m\u001b[32m'Adelie'\u001b[0m, \u001b[32m'Torgersen'\u001b[0m, \u001b[3;35mNone\u001b[0m, \u001b[3;35mNone\u001b[0m, \u001b[3;35mNone\u001b[0m, \u001b[3;35mNone\u001b[0m, \u001b[3;35mNone\u001b[0m\u001b[1m]\u001b[0m,\n",
              "    \u001b[1m[\u001b[0m\u001b[32m'Gentoo'\u001b[0m, \u001b[32m'Biscoe'\u001b[0m, \u001b[1;36m46.8\u001b[0m, \u001b[1;36m14.3\u001b[0m, \u001b[1;36m215.0\u001b[0m, \u001b[1;36m4850.0\u001b[0m, \u001b[32m'Female'\u001b[0m\u001b[1m]\u001b[0m,\n",
              "    \u001b[1m[\u001b[0m\u001b[32m'Gentoo'\u001b[0m, \u001b[32m'Biscoe'\u001b[0m, \u001b[1;36m50.4\u001b[0m, \u001b[1;36m15.7\u001b[0m, \u001b[1;36m222.0\u001b[0m, \u001b[1;36m5750.0\u001b[0m, \u001b[32m'Male'\u001b[0m\u001b[1m]\u001b[0m,\n",
              "    \u001b[1m[\u001b[0m\u001b[32m'Gentoo'\u001b[0m, \u001b[32m'Biscoe'\u001b[0m, \u001b[1;36m45.2\u001b[0m, \u001b[1;36m14.8\u001b[0m, \u001b[1;36m212.0\u001b[0m, \u001b[1;36m5200.0\u001b[0m, \u001b[32m'Female'\u001b[0m\u001b[1m]\u001b[0m,\n",
              "    \u001b[1m[\u001b[0m\u001b[32m'Gentoo'\u001b[0m, \u001b[32m'Biscoe'\u001b[0m, \u001b[1;36m49.9\u001b[0m, \u001b[1;36m16.1\u001b[0m, \u001b[1;36m213.0\u001b[0m, \u001b[1;36m5400.0\u001b[0m, \u001b[32m'Male'\u001b[0m\u001b[1m]\u001b[0m\n",
              "\u001b[1m]\u001b[0m\n"
            ]
          },
          "metadata": {}
        }
      ]
    },
    {
      "cell_type": "markdown",
      "metadata": {
        "id": "AJ8zdR784ujv"
      },
      "source": [
        "* Extraer un registro de la lista."
      ]
    },
    {
      "cell_type": "code",
      "metadata": {
        "id": "byUqAtSH7hLK",
        "outputId": "52cdd64d-1610-46b6-eeb3-8773a2810c69",
        "colab": {
          "base_uri": "https://localhost:8080/",
          "height": 149
        }
      },
      "source": [
        "a = [\n",
        "    [2, 3],\n",
        "    [4, 5],\n",
        "    [8,3]\n",
        "]\n",
        "print('Valores en la lista a: ', a)\n",
        "x = a[1]\n",
        "print('El segundo elemento de la lista es: ', x)\n",
        "x.append(23)\n",
        "print('Al segundo elemento le agregue el valor 23: ', x)\n",
        "print('Valores en la lista a: ', a)"
      ],
      "execution_count": 12,
      "outputs": [
        {
          "output_type": "display_data",
          "data": {
            "text/html": [
              "<pre style=\"white-space:pre;overflow-x:auto;line-height:normal;font-family:Menlo,'DejaVu Sans Mono',consolas,'Courier New',monospace\">Valores en la lista a: \n",
              "<span style=\"font-weight: bold\">[[</span><span style=\"color: #008080; text-decoration-color: #008080; font-weight: bold\">2</span>, <span style=\"color: #008080; text-decoration-color: #008080; font-weight: bold\">3</span><span style=\"font-weight: bold\">]</span>, <span style=\"font-weight: bold\">[</span><span style=\"color: #008080; text-decoration-color: #008080; font-weight: bold\">4</span>, <span style=\"color: #008080; text-decoration-color: #008080; font-weight: bold\">5</span><span style=\"font-weight: bold\">]</span>, <span style=\"font-weight: bold\">[</span><span style=\"color: #008080; text-decoration-color: #008080; font-weight: bold\">8</span>, <span style=\"color: #008080; text-decoration-color: #008080; font-weight: bold\">3</span><span style=\"font-weight: bold\">]]</span>\n",
              "</pre>\n"
            ],
            "text/plain": [
              "Valores en la lista a: \n",
              "\u001b[1m[\u001b[0m\u001b[1m[\u001b[0m\u001b[1;36m2\u001b[0m, \u001b[1;36m3\u001b[0m\u001b[1m]\u001b[0m, \u001b[1m[\u001b[0m\u001b[1;36m4\u001b[0m, \u001b[1;36m5\u001b[0m\u001b[1m]\u001b[0m, \u001b[1m[\u001b[0m\u001b[1;36m8\u001b[0m, \u001b[1;36m3\u001b[0m\u001b[1m]\u001b[0m\u001b[1m]\u001b[0m\n"
            ]
          },
          "metadata": {}
        },
        {
          "output_type": "display_data",
          "data": {
            "text/html": [
              "<pre style=\"white-space:pre;overflow-x:auto;line-height:normal;font-family:Menlo,'DejaVu Sans Mono',consolas,'Courier New',monospace\">El segundo elemento de la lista es: \n",
              "<span style=\"font-weight: bold\">[</span><span style=\"color: #008080; text-decoration-color: #008080; font-weight: bold\">4</span>, <span style=\"color: #008080; text-decoration-color: #008080; font-weight: bold\">5</span><span style=\"font-weight: bold\">]</span>\n",
              "</pre>\n"
            ],
            "text/plain": [
              "El segundo elemento de la lista es: \n",
              "\u001b[1m[\u001b[0m\u001b[1;36m4\u001b[0m, \u001b[1;36m5\u001b[0m\u001b[1m]\u001b[0m\n"
            ]
          },
          "metadata": {}
        },
        {
          "output_type": "display_data",
          "data": {
            "text/html": [
              "<pre style=\"white-space:pre;overflow-x:auto;line-height:normal;font-family:Menlo,'DejaVu Sans Mono',consolas,'Courier New',monospace\">Al segundo elemento le agregue el valor <span style=\"color: #008080; text-decoration-color: #008080; font-weight: bold\">23</span>: \n",
              "<span style=\"font-weight: bold\">[</span><span style=\"color: #008080; text-decoration-color: #008080; font-weight: bold\">4</span>, <span style=\"color: #008080; text-decoration-color: #008080; font-weight: bold\">5</span>, <span style=\"color: #008080; text-decoration-color: #008080; font-weight: bold\">23</span><span style=\"font-weight: bold\">]</span>\n",
              "</pre>\n"
            ],
            "text/plain": [
              "Al segundo elemento le agregue el valor \u001b[1;36m23\u001b[0m: \n",
              "\u001b[1m[\u001b[0m\u001b[1;36m4\u001b[0m, \u001b[1;36m5\u001b[0m, \u001b[1;36m23\u001b[0m\u001b[1m]\u001b[0m\n"
            ]
          },
          "metadata": {}
        },
        {
          "output_type": "display_data",
          "data": {
            "text/html": [
              "<pre style=\"white-space:pre;overflow-x:auto;line-height:normal;font-family:Menlo,'DejaVu Sans Mono',consolas,'Courier New',monospace\">Valores en la lista a: \n",
              "<span style=\"font-weight: bold\">[[</span><span style=\"color: #008080; text-decoration-color: #008080; font-weight: bold\">2</span>, <span style=\"color: #008080; text-decoration-color: #008080; font-weight: bold\">3</span><span style=\"font-weight: bold\">]</span>, <span style=\"font-weight: bold\">[</span><span style=\"color: #008080; text-decoration-color: #008080; font-weight: bold\">4</span>, <span style=\"color: #008080; text-decoration-color: #008080; font-weight: bold\">5</span>, <span style=\"color: #008080; text-decoration-color: #008080; font-weight: bold\">23</span><span style=\"font-weight: bold\">]</span>, <span style=\"font-weight: bold\">[</span><span style=\"color: #008080; text-decoration-color: #008080; font-weight: bold\">8</span>, <span style=\"color: #008080; text-decoration-color: #008080; font-weight: bold\">3</span><span style=\"font-weight: bold\">]]</span>\n",
              "</pre>\n"
            ],
            "text/plain": [
              "Valores en la lista a: \n",
              "\u001b[1m[\u001b[0m\u001b[1m[\u001b[0m\u001b[1;36m2\u001b[0m, \u001b[1;36m3\u001b[0m\u001b[1m]\u001b[0m, \u001b[1m[\u001b[0m\u001b[1;36m4\u001b[0m, \u001b[1;36m5\u001b[0m, \u001b[1;36m23\u001b[0m\u001b[1m]\u001b[0m, \u001b[1m[\u001b[0m\u001b[1;36m8\u001b[0m, \u001b[1;36m3\u001b[0m\u001b[1m]\u001b[0m\u001b[1m]\u001b[0m\n"
            ]
          },
          "metadata": {}
        }
      ]
    },
    {
      "cell_type": "code",
      "metadata": {
        "id": "lR-le3MB8vRi",
        "outputId": "4688a36c-235c-4542-9b49-b46b14b79c58",
        "colab": {
          "base_uri": "https://localhost:8080/",
          "height": 149
        }
      },
      "source": [
        "a = [\n",
        "    [2, 3],\n",
        "    [4, 5],\n",
        "    [8,3]\n",
        "]\n",
        "print('Valores en la lista a: ', a)\n",
        "x = a[1].copy()\n",
        "print('El segundo elemento de la lista es: ', x)\n",
        "x.append(23)\n",
        "print('Al segundo elemento le agregue el valor 23: ', x)\n",
        "print('Valores en la lista a: ', a)"
      ],
      "execution_count": 13,
      "outputs": [
        {
          "output_type": "display_data",
          "data": {
            "text/html": [
              "<pre style=\"white-space:pre;overflow-x:auto;line-height:normal;font-family:Menlo,'DejaVu Sans Mono',consolas,'Courier New',monospace\">Valores en la lista a: \n",
              "<span style=\"font-weight: bold\">[[</span><span style=\"color: #008080; text-decoration-color: #008080; font-weight: bold\">2</span>, <span style=\"color: #008080; text-decoration-color: #008080; font-weight: bold\">3</span><span style=\"font-weight: bold\">]</span>, <span style=\"font-weight: bold\">[</span><span style=\"color: #008080; text-decoration-color: #008080; font-weight: bold\">4</span>, <span style=\"color: #008080; text-decoration-color: #008080; font-weight: bold\">5</span><span style=\"font-weight: bold\">]</span>, <span style=\"font-weight: bold\">[</span><span style=\"color: #008080; text-decoration-color: #008080; font-weight: bold\">8</span>, <span style=\"color: #008080; text-decoration-color: #008080; font-weight: bold\">3</span><span style=\"font-weight: bold\">]]</span>\n",
              "</pre>\n"
            ],
            "text/plain": [
              "Valores en la lista a: \n",
              "\u001b[1m[\u001b[0m\u001b[1m[\u001b[0m\u001b[1;36m2\u001b[0m, \u001b[1;36m3\u001b[0m\u001b[1m]\u001b[0m, \u001b[1m[\u001b[0m\u001b[1;36m4\u001b[0m, \u001b[1;36m5\u001b[0m\u001b[1m]\u001b[0m, \u001b[1m[\u001b[0m\u001b[1;36m8\u001b[0m, \u001b[1;36m3\u001b[0m\u001b[1m]\u001b[0m\u001b[1m]\u001b[0m\n"
            ]
          },
          "metadata": {}
        },
        {
          "output_type": "display_data",
          "data": {
            "text/html": [
              "<pre style=\"white-space:pre;overflow-x:auto;line-height:normal;font-family:Menlo,'DejaVu Sans Mono',consolas,'Courier New',monospace\">El segundo elemento de la lista es: \n",
              "<span style=\"font-weight: bold\">[</span><span style=\"color: #008080; text-decoration-color: #008080; font-weight: bold\">4</span>, <span style=\"color: #008080; text-decoration-color: #008080; font-weight: bold\">5</span><span style=\"font-weight: bold\">]</span>\n",
              "</pre>\n"
            ],
            "text/plain": [
              "El segundo elemento de la lista es: \n",
              "\u001b[1m[\u001b[0m\u001b[1;36m4\u001b[0m, \u001b[1;36m5\u001b[0m\u001b[1m]\u001b[0m\n"
            ]
          },
          "metadata": {}
        },
        {
          "output_type": "display_data",
          "data": {
            "text/html": [
              "<pre style=\"white-space:pre;overflow-x:auto;line-height:normal;font-family:Menlo,'DejaVu Sans Mono',consolas,'Courier New',monospace\">Al segundo elemento le agregue el valor <span style=\"color: #008080; text-decoration-color: #008080; font-weight: bold\">23</span>: \n",
              "<span style=\"font-weight: bold\">[</span><span style=\"color: #008080; text-decoration-color: #008080; font-weight: bold\">4</span>, <span style=\"color: #008080; text-decoration-color: #008080; font-weight: bold\">5</span>, <span style=\"color: #008080; text-decoration-color: #008080; font-weight: bold\">23</span><span style=\"font-weight: bold\">]</span>\n",
              "</pre>\n"
            ],
            "text/plain": [
              "Al segundo elemento le agregue el valor \u001b[1;36m23\u001b[0m: \n",
              "\u001b[1m[\u001b[0m\u001b[1;36m4\u001b[0m, \u001b[1;36m5\u001b[0m, \u001b[1;36m23\u001b[0m\u001b[1m]\u001b[0m\n"
            ]
          },
          "metadata": {}
        },
        {
          "output_type": "display_data",
          "data": {
            "text/html": [
              "<pre style=\"white-space:pre;overflow-x:auto;line-height:normal;font-family:Menlo,'DejaVu Sans Mono',consolas,'Courier New',monospace\">Valores en la lista a: \n",
              "<span style=\"font-weight: bold\">[[</span><span style=\"color: #008080; text-decoration-color: #008080; font-weight: bold\">2</span>, <span style=\"color: #008080; text-decoration-color: #008080; font-weight: bold\">3</span><span style=\"font-weight: bold\">]</span>, <span style=\"font-weight: bold\">[</span><span style=\"color: #008080; text-decoration-color: #008080; font-weight: bold\">4</span>, <span style=\"color: #008080; text-decoration-color: #008080; font-weight: bold\">5</span><span style=\"font-weight: bold\">]</span>, <span style=\"font-weight: bold\">[</span><span style=\"color: #008080; text-decoration-color: #008080; font-weight: bold\">8</span>, <span style=\"color: #008080; text-decoration-color: #008080; font-weight: bold\">3</span><span style=\"font-weight: bold\">]]</span>\n",
              "</pre>\n"
            ],
            "text/plain": [
              "Valores en la lista a: \n",
              "\u001b[1m[\u001b[0m\u001b[1m[\u001b[0m\u001b[1;36m2\u001b[0m, \u001b[1;36m3\u001b[0m\u001b[1m]\u001b[0m, \u001b[1m[\u001b[0m\u001b[1;36m4\u001b[0m, \u001b[1;36m5\u001b[0m\u001b[1m]\u001b[0m, \u001b[1m[\u001b[0m\u001b[1;36m8\u001b[0m, \u001b[1;36m3\u001b[0m\u001b[1m]\u001b[0m\u001b[1m]\u001b[0m\n"
            ]
          },
          "metadata": {}
        }
      ]
    },
    {
      "cell_type": "code",
      "metadata": {
        "id": "oPwiN9l16Thq"
      },
      "source": [
        "# obtiene el quinto registro de la lista records y lo copia a la variable record\n",
        "record = records[4].copy()"
      ],
      "execution_count": 24,
      "outputs": []
    },
    {
      "cell_type": "code",
      "metadata": {
        "id": "-h7Za52v7R7V",
        "outputId": "d232bf56-b6a2-4857-dd64-f8caf11c360e",
        "colab": {
          "base_uri": "https://localhost:8080/",
          "height": 33
        }
      },
      "source": [
        "print(record)"
      ],
      "execution_count": 9,
      "outputs": [
        {
          "output_type": "display_data",
          "data": {
            "text/html": [
              "<pre style=\"white-space:pre;overflow-x:auto;line-height:normal;font-family:Menlo,'DejaVu Sans Mono',consolas,'Courier New',monospace\"><span style=\"font-weight: bold\">[</span><span style=\"color: #008000; text-decoration-color: #008000\">'Gentoo'</span>, <span style=\"color: #008000; text-decoration-color: #008000\">'Biscoe'</span>, <span style=\"color: #008080; text-decoration-color: #008080; font-weight: bold\">46.8</span>, <span style=\"color: #008080; text-decoration-color: #008080; font-weight: bold\">14.3</span>, <span style=\"color: #008080; text-decoration-color: #008080; font-weight: bold\">215.0</span>, <span style=\"color: #008080; text-decoration-color: #008080; font-weight: bold\">4850.0</span>, <span style=\"color: #008000; text-decoration-color: #008000\">'Female'</span><span style=\"font-weight: bold\">]</span>\n",
              "</pre>\n"
            ],
            "text/plain": [
              "\u001b[1m[\u001b[0m\u001b[32m'Gentoo'\u001b[0m, \u001b[32m'Biscoe'\u001b[0m, \u001b[1;36m46.8\u001b[0m, \u001b[1;36m14.3\u001b[0m, \u001b[1;36m215.0\u001b[0m, \u001b[1;36m4850.0\u001b[0m, \u001b[32m'Female'\u001b[0m\u001b[1m]\u001b[0m\n"
            ]
          },
          "metadata": {}
        }
      ]
    },
    {
      "cell_type": "markdown",
      "metadata": {
        "id": "Uux5Su3D45ik"
      },
      "source": [
        "* Incluir el dato de la persona que hizo la medición en este caso fue **Marcus Holmes**."
      ]
    },
    {
      "cell_type": "code",
      "metadata": {
        "id": "J716qynq9PXq"
      },
      "source": [
        "record.append('Marcus Holmes')"
      ],
      "execution_count": 35,
      "outputs": []
    },
    {
      "cell_type": "code",
      "metadata": {
        "id": "qcBjAu3B9aZ7",
        "outputId": "681f8b48-2220-49bc-c5ca-d6f0f9210b44",
        "colab": {
          "base_uri": "https://localhost:8080/",
          "height": 33
        }
      },
      "source": [
        "print(record)"
      ],
      "execution_count": 17,
      "outputs": [
        {
          "output_type": "display_data",
          "data": {
            "text/html": [
              "<pre style=\"white-space:pre;overflow-x:auto;line-height:normal;font-family:Menlo,'DejaVu Sans Mono',consolas,'Courier New',monospace\"><span style=\"font-weight: bold\">[</span><span style=\"color: #008000; text-decoration-color: #008000\">'Gentoo'</span>, <span style=\"color: #008000; text-decoration-color: #008000\">'Biscoe'</span>, <span style=\"color: #008080; text-decoration-color: #008080; font-weight: bold\">46.8</span>, <span style=\"color: #008080; text-decoration-color: #008080; font-weight: bold\">14.3</span>, <span style=\"color: #008080; text-decoration-color: #008080; font-weight: bold\">215.0</span>, <span style=\"color: #008080; text-decoration-color: #008080; font-weight: bold\">4850.0</span>, <span style=\"color: #008000; text-decoration-color: #008000\">'Female'</span>, <span style=\"color: #008000; text-decoration-color: #008000\">'Marcus Holmes'</span>, <span style=\"color: #008000; text-decoration-color: #008000\">'Marcus Holmes'</span><span style=\"font-weight: bold\">]</span>\n",
              "</pre>\n"
            ],
            "text/plain": [
              "\u001b[1m[\u001b[0m\u001b[32m'Gentoo'\u001b[0m, \u001b[32m'Biscoe'\u001b[0m, \u001b[1;36m46.8\u001b[0m, \u001b[1;36m14.3\u001b[0m, \u001b[1;36m215.0\u001b[0m, \u001b[1;36m4850.0\u001b[0m, \u001b[32m'Female'\u001b[0m, \u001b[32m'Marcus Holmes'\u001b[0m, \u001b[32m'Marcus Holmes'\u001b[0m\u001b[1m]\u001b[0m\n"
            ]
          },
          "metadata": {}
        }
      ]
    },
    {
      "cell_type": "markdown",
      "metadata": {
        "id": "OzhImkcp5EAM"
      },
      "source": [
        "* Incluir el nombre científico para Adelie es _Pygoscelis adeliae_ en la primera entrada y para Gentoo es _Pygoscelis papua_."
      ]
    },
    {
      "cell_type": "code",
      "metadata": {
        "id": "rvj2YSoOAIM_"
      },
      "source": [
        "?list.extend"
      ],
      "execution_count": 22,
      "outputs": []
    },
    {
      "cell_type": "code",
      "metadata": {
        "id": "vf3mMP_J6U-d"
      },
      "source": [
        "record_extendido = ['Pygoscelis papua']\n",
        "record_extendido.extend(record)"
      ],
      "execution_count": 26,
      "outputs": []
    },
    {
      "cell_type": "code",
      "metadata": {
        "id": "ryy3XpUN_92t",
        "outputId": "9d3a5828-7aed-4031-bf41-fc3a41b8d073",
        "colab": {
          "base_uri": "https://localhost:8080/",
          "height": 33
        }
      },
      "source": [
        "print(record_extendido)"
      ],
      "execution_count": 27,
      "outputs": [
        {
          "output_type": "display_data",
          "data": {
            "text/html": [
              "<pre style=\"white-space:pre;overflow-x:auto;line-height:normal;font-family:Menlo,'DejaVu Sans Mono',consolas,'Courier New',monospace\"><span style=\"font-weight: bold\">[</span><span style=\"color: #008000; text-decoration-color: #008000\">'Pygoscelis papua'</span>, <span style=\"color: #008000; text-decoration-color: #008000\">'Gentoo'</span>, <span style=\"color: #008000; text-decoration-color: #008000\">'Biscoe'</span>, <span style=\"color: #008080; text-decoration-color: #008080; font-weight: bold\">46.8</span>, <span style=\"color: #008080; text-decoration-color: #008080; font-weight: bold\">14.3</span>, <span style=\"color: #008080; text-decoration-color: #008080; font-weight: bold\">215.0</span>, <span style=\"color: #008080; text-decoration-color: #008080; font-weight: bold\">4850.0</span>, <span style=\"color: #008000; text-decoration-color: #008000\">'Female'</span><span style=\"font-weight: bold\">]</span>\n",
              "</pre>\n"
            ],
            "text/plain": [
              "\u001b[1m[\u001b[0m\u001b[32m'Pygoscelis papua'\u001b[0m, \u001b[32m'Gentoo'\u001b[0m, \u001b[32m'Biscoe'\u001b[0m, \u001b[1;36m46.8\u001b[0m, \u001b[1;36m14.3\u001b[0m, \u001b[1;36m215.0\u001b[0m, \u001b[1;36m4850.0\u001b[0m, \u001b[32m'Female'\u001b[0m\u001b[1m]\u001b[0m\n"
            ]
          },
          "metadata": {}
        }
      ]
    },
    {
      "cell_type": "code",
      "metadata": {
        "id": "ZWJsoQLOBG3e",
        "outputId": "e62e0f97-9e89-4992-e2de-22e18b2d65d3",
        "colab": {
          "base_uri": "https://localhost:8080/",
          "height": 33
        }
      },
      "source": [
        "record.insert(0, 'Pygoscelis papua')\n",
        "print(record)"
      ],
      "execution_count": 29,
      "outputs": [
        {
          "output_type": "display_data",
          "data": {
            "text/html": [
              "<pre style=\"white-space:pre;overflow-x:auto;line-height:normal;font-family:Menlo,'DejaVu Sans Mono',consolas,'Courier New',monospace\"><span style=\"font-weight: bold\">[</span><span style=\"color: #008000; text-decoration-color: #008000\">'Pygoscelis papua'</span>, <span style=\"color: #008000; text-decoration-color: #008000\">'Gentoo'</span>, <span style=\"color: #008000; text-decoration-color: #008000\">'Biscoe'</span>, <span style=\"color: #008080; text-decoration-color: #008080; font-weight: bold\">46.8</span>, <span style=\"color: #008080; text-decoration-color: #008080; font-weight: bold\">14.3</span>, <span style=\"color: #008080; text-decoration-color: #008080; font-weight: bold\">215.0</span>, <span style=\"color: #008080; text-decoration-color: #008080; font-weight: bold\">4850.0</span>, <span style=\"color: #008000; text-decoration-color: #008000\">'Female'</span><span style=\"font-weight: bold\">]</span>\n",
              "</pre>\n"
            ],
            "text/plain": [
              "\u001b[1m[\u001b[0m\u001b[32m'Pygoscelis papua'\u001b[0m, \u001b[32m'Gentoo'\u001b[0m, \u001b[32m'Biscoe'\u001b[0m, \u001b[1;36m46.8\u001b[0m, \u001b[1;36m14.3\u001b[0m, \u001b[1;36m215.0\u001b[0m, \u001b[1;36m4850.0\u001b[0m, \u001b[32m'Female'\u001b[0m\u001b[1m]\u001b[0m\n"
            ]
          },
          "metadata": {}
        }
      ]
    },
    {
      "cell_type": "code",
      "metadata": {
        "id": "WUjUMx7ABoDU"
      },
      "source": [
        "?list.insert"
      ],
      "execution_count": 30,
      "outputs": []
    },
    {
      "cell_type": "markdown",
      "metadata": {
        "id": "LaUUMkvg5QkU"
      },
      "source": [
        "* Agregar el valor del continente al registro después del valor de la isla, en este caso el continente es **Antartica**."
      ]
    },
    {
      "cell_type": "code",
      "metadata": {
        "id": "W2BkXZ8v6VPa"
      },
      "source": [
        "record.insert(3, 'Antartica')"
      ],
      "execution_count": 32,
      "outputs": []
    },
    {
      "cell_type": "code",
      "metadata": {
        "id": "RgP5S7SCC_FH",
        "outputId": "c5e3f5c3-0b9d-47b3-92b8-893dedbdba6e",
        "colab": {
          "base_uri": "https://localhost:8080/",
          "height": 215
        }
      },
      "source": [
        "print(record)"
      ],
      "execution_count": 33,
      "outputs": [
        {
          "output_type": "display_data",
          "data": {
            "text/html": [
              "<pre style=\"white-space:pre;overflow-x:auto;line-height:normal;font-family:Menlo,'DejaVu Sans Mono',consolas,'Courier New',monospace\"><span style=\"font-weight: bold\">[</span>\n",
              "    <span style=\"color: #008000; text-decoration-color: #008000\">'Pygoscelis papua'</span>,\n",
              "    <span style=\"color: #008000; text-decoration-color: #008000\">'Gentoo'</span>,\n",
              "    <span style=\"color: #008000; text-decoration-color: #008000\">'Biscoe'</span>,\n",
              "    <span style=\"color: #008000; text-decoration-color: #008000\">'Antartica'</span>,\n",
              "    <span style=\"color: #008000; text-decoration-color: #008000\">'Antartica'</span>,\n",
              "    <span style=\"color: #008080; text-decoration-color: #008080; font-weight: bold\">46.8</span>,\n",
              "    <span style=\"color: #008080; text-decoration-color: #008080; font-weight: bold\">14.3</span>,\n",
              "    <span style=\"color: #008080; text-decoration-color: #008080; font-weight: bold\">215.0</span>,\n",
              "    <span style=\"color: #008080; text-decoration-color: #008080; font-weight: bold\">4850.0</span>,\n",
              "    <span style=\"color: #008000; text-decoration-color: #008000\">'Female'</span>\n",
              "<span style=\"font-weight: bold\">]</span>\n",
              "</pre>\n"
            ],
            "text/plain": [
              "\u001b[1m[\u001b[0m\n",
              "    \u001b[32m'Pygoscelis papua'\u001b[0m,\n",
              "    \u001b[32m'Gentoo'\u001b[0m,\n",
              "    \u001b[32m'Biscoe'\u001b[0m,\n",
              "    \u001b[32m'Antartica'\u001b[0m,\n",
              "    \u001b[32m'Antartica'\u001b[0m,\n",
              "    \u001b[1;36m46.8\u001b[0m,\n",
              "    \u001b[1;36m14.3\u001b[0m,\n",
              "    \u001b[1;36m215.0\u001b[0m,\n",
              "    \u001b[1;36m4850.0\u001b[0m,\n",
              "    \u001b[32m'Female'\u001b[0m\n",
              "\u001b[1m]\u001b[0m\n"
            ]
          },
          "metadata": {}
        }
      ]
    },
    {
      "cell_type": "markdown",
      "metadata": {
        "id": "Ojl5u-QJ5hCv"
      },
      "source": [
        "* Hacer dos conjuntos de datos uno para los pingüinos **Adelie** y otro para los **Gentoo**"
      ]
    },
    {
      "cell_type": "code",
      "metadata": {
        "id": "si-v1ICoERVE",
        "outputId": "a1a018d2-0172-4f55-c14d-6e8a362c633a",
        "colab": {
          "base_uri": "https://localhost:8080/",
          "height": 182
        }
      },
      "source": [
        "print(records)"
      ],
      "execution_count": 36,
      "outputs": [
        {
          "output_type": "display_data",
          "data": {
            "text/html": [
              "<pre style=\"white-space:pre;overflow-x:auto;line-height:normal;font-family:Menlo,'DejaVu Sans Mono',consolas,'Courier New',monospace\"><span style=\"font-weight: bold\">[</span>\n",
              "    <span style=\"font-weight: bold\">[</span><span style=\"color: #008000; text-decoration-color: #008000\">'Adelie'</span>, <span style=\"color: #008000; text-decoration-color: #008000\">'Torgersen'</span>, <span style=\"color: #008080; text-decoration-color: #008080; font-weight: bold\">39.1</span>, <span style=\"color: #008080; text-decoration-color: #008080; font-weight: bold\">18.7</span>, <span style=\"color: #008080; text-decoration-color: #008080; font-weight: bold\">181.0</span>, <span style=\"color: #008080; text-decoration-color: #008080; font-weight: bold\">3750.0</span>, <span style=\"color: #008000; text-decoration-color: #008000\">'Male'</span><span style=\"font-weight: bold\">]</span>,\n",
              "    <span style=\"font-weight: bold\">[</span><span style=\"color: #008000; text-decoration-color: #008000\">'Adelie'</span>, <span style=\"color: #008000; text-decoration-color: #008000\">'Torgersen'</span>, <span style=\"color: #008080; text-decoration-color: #008080; font-weight: bold\">39.5</span>, <span style=\"color: #008080; text-decoration-color: #008080; font-weight: bold\">17.4</span>, <span style=\"color: #008080; text-decoration-color: #008080; font-weight: bold\">186.0</span>, <span style=\"color: #008080; text-decoration-color: #008080; font-weight: bold\">3800.0</span>, <span style=\"color: #008000; text-decoration-color: #008000\">'Female'</span><span style=\"font-weight: bold\">]</span>,\n",
              "    <span style=\"font-weight: bold\">[</span><span style=\"color: #008000; text-decoration-color: #008000\">'Adelie'</span>, <span style=\"color: #008000; text-decoration-color: #008000\">'Torgersen'</span>, <span style=\"color: #008080; text-decoration-color: #008080; font-weight: bold\">40.3</span>, <span style=\"color: #008080; text-decoration-color: #008080; font-weight: bold\">18.0</span>, <span style=\"color: #008080; text-decoration-color: #008080; font-weight: bold\">195.0</span>, <span style=\"color: #008080; text-decoration-color: #008080; font-weight: bold\">3250.0</span>, <span style=\"color: #008000; text-decoration-color: #008000\">'Female'</span><span style=\"font-weight: bold\">]</span>,\n",
              "    <span style=\"font-weight: bold\">[</span><span style=\"color: #008000; text-decoration-color: #008000\">'Adelie'</span>, <span style=\"color: #008000; text-decoration-color: #008000\">'Torgersen'</span>, <span style=\"color: #800080; text-decoration-color: #800080; font-style: italic\">None</span>, <span style=\"color: #800080; text-decoration-color: #800080; font-style: italic\">None</span>, <span style=\"color: #800080; text-decoration-color: #800080; font-style: italic\">None</span>, <span style=\"color: #800080; text-decoration-color: #800080; font-style: italic\">None</span>, <span style=\"color: #800080; text-decoration-color: #800080; font-style: italic\">None</span><span style=\"font-weight: bold\">]</span>,\n",
              "    <span style=\"font-weight: bold\">[</span><span style=\"color: #008000; text-decoration-color: #008000\">'Gentoo'</span>, <span style=\"color: #008000; text-decoration-color: #008000\">'Biscoe'</span>, <span style=\"color: #008080; text-decoration-color: #008080; font-weight: bold\">46.8</span>, <span style=\"color: #008080; text-decoration-color: #008080; font-weight: bold\">14.3</span>, <span style=\"color: #008080; text-decoration-color: #008080; font-weight: bold\">215.0</span>, <span style=\"color: #008080; text-decoration-color: #008080; font-weight: bold\">4850.0</span>, <span style=\"color: #008000; text-decoration-color: #008000\">'Female'</span><span style=\"font-weight: bold\">]</span>,\n",
              "    <span style=\"font-weight: bold\">[</span><span style=\"color: #008000; text-decoration-color: #008000\">'Gentoo'</span>, <span style=\"color: #008000; text-decoration-color: #008000\">'Biscoe'</span>, <span style=\"color: #008080; text-decoration-color: #008080; font-weight: bold\">50.4</span>, <span style=\"color: #008080; text-decoration-color: #008080; font-weight: bold\">15.7</span>, <span style=\"color: #008080; text-decoration-color: #008080; font-weight: bold\">222.0</span>, <span style=\"color: #008080; text-decoration-color: #008080; font-weight: bold\">5750.0</span>, <span style=\"color: #008000; text-decoration-color: #008000\">'Male'</span><span style=\"font-weight: bold\">]</span>,\n",
              "    <span style=\"font-weight: bold\">[</span><span style=\"color: #008000; text-decoration-color: #008000\">'Gentoo'</span>, <span style=\"color: #008000; text-decoration-color: #008000\">'Biscoe'</span>, <span style=\"color: #008080; text-decoration-color: #008080; font-weight: bold\">45.2</span>, <span style=\"color: #008080; text-decoration-color: #008080; font-weight: bold\">14.8</span>, <span style=\"color: #008080; text-decoration-color: #008080; font-weight: bold\">212.0</span>, <span style=\"color: #008080; text-decoration-color: #008080; font-weight: bold\">5200.0</span>, <span style=\"color: #008000; text-decoration-color: #008000\">'Female'</span><span style=\"font-weight: bold\">]</span>,\n",
              "    <span style=\"font-weight: bold\">[</span><span style=\"color: #008000; text-decoration-color: #008000\">'Gentoo'</span>, <span style=\"color: #008000; text-decoration-color: #008000\">'Biscoe'</span>, <span style=\"color: #008080; text-decoration-color: #008080; font-weight: bold\">49.9</span>, <span style=\"color: #008080; text-decoration-color: #008080; font-weight: bold\">16.1</span>, <span style=\"color: #008080; text-decoration-color: #008080; font-weight: bold\">213.0</span>, <span style=\"color: #008080; text-decoration-color: #008080; font-weight: bold\">5400.0</span>, <span style=\"color: #008000; text-decoration-color: #008000\">'Male'</span><span style=\"font-weight: bold\">]</span>\n",
              "<span style=\"font-weight: bold\">]</span>\n",
              "</pre>\n"
            ],
            "text/plain": [
              "\u001b[1m[\u001b[0m\n",
              "    \u001b[1m[\u001b[0m\u001b[32m'Adelie'\u001b[0m, \u001b[32m'Torgersen'\u001b[0m, \u001b[1;36m39.1\u001b[0m, \u001b[1;36m18.7\u001b[0m, \u001b[1;36m181.0\u001b[0m, \u001b[1;36m3750.0\u001b[0m, \u001b[32m'Male'\u001b[0m\u001b[1m]\u001b[0m,\n",
              "    \u001b[1m[\u001b[0m\u001b[32m'Adelie'\u001b[0m, \u001b[32m'Torgersen'\u001b[0m, \u001b[1;36m39.5\u001b[0m, \u001b[1;36m17.4\u001b[0m, \u001b[1;36m186.0\u001b[0m, \u001b[1;36m3800.0\u001b[0m, \u001b[32m'Female'\u001b[0m\u001b[1m]\u001b[0m,\n",
              "    \u001b[1m[\u001b[0m\u001b[32m'Adelie'\u001b[0m, \u001b[32m'Torgersen'\u001b[0m, \u001b[1;36m40.3\u001b[0m, \u001b[1;36m18.0\u001b[0m, \u001b[1;36m195.0\u001b[0m, \u001b[1;36m3250.0\u001b[0m, \u001b[32m'Female'\u001b[0m\u001b[1m]\u001b[0m,\n",
              "    \u001b[1m[\u001b[0m\u001b[32m'Adelie'\u001b[0m, \u001b[32m'Torgersen'\u001b[0m, \u001b[3;35mNone\u001b[0m, \u001b[3;35mNone\u001b[0m, \u001b[3;35mNone\u001b[0m, \u001b[3;35mNone\u001b[0m, \u001b[3;35mNone\u001b[0m\u001b[1m]\u001b[0m,\n",
              "    \u001b[1m[\u001b[0m\u001b[32m'Gentoo'\u001b[0m, \u001b[32m'Biscoe'\u001b[0m, \u001b[1;36m46.8\u001b[0m, \u001b[1;36m14.3\u001b[0m, \u001b[1;36m215.0\u001b[0m, \u001b[1;36m4850.0\u001b[0m, \u001b[32m'Female'\u001b[0m\u001b[1m]\u001b[0m,\n",
              "    \u001b[1m[\u001b[0m\u001b[32m'Gentoo'\u001b[0m, \u001b[32m'Biscoe'\u001b[0m, \u001b[1;36m50.4\u001b[0m, \u001b[1;36m15.7\u001b[0m, \u001b[1;36m222.0\u001b[0m, \u001b[1;36m5750.0\u001b[0m, \u001b[32m'Male'\u001b[0m\u001b[1m]\u001b[0m,\n",
              "    \u001b[1m[\u001b[0m\u001b[32m'Gentoo'\u001b[0m, \u001b[32m'Biscoe'\u001b[0m, \u001b[1;36m45.2\u001b[0m, \u001b[1;36m14.8\u001b[0m, \u001b[1;36m212.0\u001b[0m, \u001b[1;36m5200.0\u001b[0m, \u001b[32m'Female'\u001b[0m\u001b[1m]\u001b[0m,\n",
              "    \u001b[1m[\u001b[0m\u001b[32m'Gentoo'\u001b[0m, \u001b[32m'Biscoe'\u001b[0m, \u001b[1;36m49.9\u001b[0m, \u001b[1;36m16.1\u001b[0m, \u001b[1;36m213.0\u001b[0m, \u001b[1;36m5400.0\u001b[0m, \u001b[32m'Male'\u001b[0m\u001b[1m]\u001b[0m\n",
              "\u001b[1m]\u001b[0m\n"
            ]
          },
          "metadata": {}
        }
      ]
    },
    {
      "cell_type": "code",
      "metadata": {
        "id": "CWRMDVfl6WV8",
        "outputId": "105bd4ff-119e-489d-f208-e3c63f0aa9a3",
        "colab": {
          "base_uri": "https://localhost:8080/",
          "height": 248
        }
      },
      "source": [
        "# Para cortar una lista usamos la notacion lista[incio:fin]\n",
        "adelie_records = records[:4]\n",
        "print('Adelie records: ', adelie_records)\n",
        "gentoo_records = records[4:]\n",
        "print('Gentoo records: ',gentoo_records)"
      ],
      "execution_count": 39,
      "outputs": [
        {
          "output_type": "display_data",
          "data": {
            "text/html": [
              "<pre style=\"white-space:pre;overflow-x:auto;line-height:normal;font-family:Menlo,'DejaVu Sans Mono',consolas,'Courier New',monospace\">Adelie records: \n",
              "<span style=\"font-weight: bold\">[</span>\n",
              "    <span style=\"font-weight: bold\">[</span><span style=\"color: #008000; text-decoration-color: #008000\">'Adelie'</span>, <span style=\"color: #008000; text-decoration-color: #008000\">'Torgersen'</span>, <span style=\"color: #008080; text-decoration-color: #008080; font-weight: bold\">39.1</span>, <span style=\"color: #008080; text-decoration-color: #008080; font-weight: bold\">18.7</span>, <span style=\"color: #008080; text-decoration-color: #008080; font-weight: bold\">181.0</span>, <span style=\"color: #008080; text-decoration-color: #008080; font-weight: bold\">3750.0</span>, <span style=\"color: #008000; text-decoration-color: #008000\">'Male'</span><span style=\"font-weight: bold\">]</span>,\n",
              "    <span style=\"font-weight: bold\">[</span><span style=\"color: #008000; text-decoration-color: #008000\">'Adelie'</span>, <span style=\"color: #008000; text-decoration-color: #008000\">'Torgersen'</span>, <span style=\"color: #008080; text-decoration-color: #008080; font-weight: bold\">39.5</span>, <span style=\"color: #008080; text-decoration-color: #008080; font-weight: bold\">17.4</span>, <span style=\"color: #008080; text-decoration-color: #008080; font-weight: bold\">186.0</span>, <span style=\"color: #008080; text-decoration-color: #008080; font-weight: bold\">3800.0</span>, <span style=\"color: #008000; text-decoration-color: #008000\">'Female'</span><span style=\"font-weight: bold\">]</span>,\n",
              "    <span style=\"font-weight: bold\">[</span><span style=\"color: #008000; text-decoration-color: #008000\">'Adelie'</span>, <span style=\"color: #008000; text-decoration-color: #008000\">'Torgersen'</span>, <span style=\"color: #008080; text-decoration-color: #008080; font-weight: bold\">40.3</span>, <span style=\"color: #008080; text-decoration-color: #008080; font-weight: bold\">18.0</span>, <span style=\"color: #008080; text-decoration-color: #008080; font-weight: bold\">195.0</span>, <span style=\"color: #008080; text-decoration-color: #008080; font-weight: bold\">3250.0</span>, <span style=\"color: #008000; text-decoration-color: #008000\">'Female'</span><span style=\"font-weight: bold\">]</span>,\n",
              "    <span style=\"font-weight: bold\">[</span><span style=\"color: #008000; text-decoration-color: #008000\">'Adelie'</span>, <span style=\"color: #008000; text-decoration-color: #008000\">'Torgersen'</span>, <span style=\"color: #800080; text-decoration-color: #800080; font-style: italic\">None</span>, <span style=\"color: #800080; text-decoration-color: #800080; font-style: italic\">None</span>, <span style=\"color: #800080; text-decoration-color: #800080; font-style: italic\">None</span>, <span style=\"color: #800080; text-decoration-color: #800080; font-style: italic\">None</span>, <span style=\"color: #800080; text-decoration-color: #800080; font-style: italic\">None</span><span style=\"font-weight: bold\">]</span>\n",
              "<span style=\"font-weight: bold\">]</span>\n",
              "</pre>\n"
            ],
            "text/plain": [
              "Adelie records: \n",
              "\u001b[1m[\u001b[0m\n",
              "    \u001b[1m[\u001b[0m\u001b[32m'Adelie'\u001b[0m, \u001b[32m'Torgersen'\u001b[0m, \u001b[1;36m39.1\u001b[0m, \u001b[1;36m18.7\u001b[0m, \u001b[1;36m181.0\u001b[0m, \u001b[1;36m3750.0\u001b[0m, \u001b[32m'Male'\u001b[0m\u001b[1m]\u001b[0m,\n",
              "    \u001b[1m[\u001b[0m\u001b[32m'Adelie'\u001b[0m, \u001b[32m'Torgersen'\u001b[0m, \u001b[1;36m39.5\u001b[0m, \u001b[1;36m17.4\u001b[0m, \u001b[1;36m186.0\u001b[0m, \u001b[1;36m3800.0\u001b[0m, \u001b[32m'Female'\u001b[0m\u001b[1m]\u001b[0m,\n",
              "    \u001b[1m[\u001b[0m\u001b[32m'Adelie'\u001b[0m, \u001b[32m'Torgersen'\u001b[0m, \u001b[1;36m40.3\u001b[0m, \u001b[1;36m18.0\u001b[0m, \u001b[1;36m195.0\u001b[0m, \u001b[1;36m3250.0\u001b[0m, \u001b[32m'Female'\u001b[0m\u001b[1m]\u001b[0m,\n",
              "    \u001b[1m[\u001b[0m\u001b[32m'Adelie'\u001b[0m, \u001b[32m'Torgersen'\u001b[0m, \u001b[3;35mNone\u001b[0m, \u001b[3;35mNone\u001b[0m, \u001b[3;35mNone\u001b[0m, \u001b[3;35mNone\u001b[0m, \u001b[3;35mNone\u001b[0m\u001b[1m]\u001b[0m\n",
              "\u001b[1m]\u001b[0m\n"
            ]
          },
          "metadata": {}
        },
        {
          "output_type": "display_data",
          "data": {
            "text/html": [
              "<pre style=\"white-space:pre;overflow-x:auto;line-height:normal;font-family:Menlo,'DejaVu Sans Mono',consolas,'Courier New',monospace\">Gentoo records: \n",
              "<span style=\"font-weight: bold\">[</span>\n",
              "    <span style=\"font-weight: bold\">[</span><span style=\"color: #008000; text-decoration-color: #008000\">'Gentoo'</span>, <span style=\"color: #008000; text-decoration-color: #008000\">'Biscoe'</span>, <span style=\"color: #008080; text-decoration-color: #008080; font-weight: bold\">46.8</span>, <span style=\"color: #008080; text-decoration-color: #008080; font-weight: bold\">14.3</span>, <span style=\"color: #008080; text-decoration-color: #008080; font-weight: bold\">215.0</span>, <span style=\"color: #008080; text-decoration-color: #008080; font-weight: bold\">4850.0</span>, <span style=\"color: #008000; text-decoration-color: #008000\">'Female'</span><span style=\"font-weight: bold\">]</span>,\n",
              "    <span style=\"font-weight: bold\">[</span><span style=\"color: #008000; text-decoration-color: #008000\">'Gentoo'</span>, <span style=\"color: #008000; text-decoration-color: #008000\">'Biscoe'</span>, <span style=\"color: #008080; text-decoration-color: #008080; font-weight: bold\">50.4</span>, <span style=\"color: #008080; text-decoration-color: #008080; font-weight: bold\">15.7</span>, <span style=\"color: #008080; text-decoration-color: #008080; font-weight: bold\">222.0</span>, <span style=\"color: #008080; text-decoration-color: #008080; font-weight: bold\">5750.0</span>, <span style=\"color: #008000; text-decoration-color: #008000\">'Male'</span><span style=\"font-weight: bold\">]</span>,\n",
              "    <span style=\"font-weight: bold\">[</span><span style=\"color: #008000; text-decoration-color: #008000\">'Gentoo'</span>, <span style=\"color: #008000; text-decoration-color: #008000\">'Biscoe'</span>, <span style=\"color: #008080; text-decoration-color: #008080; font-weight: bold\">45.2</span>, <span style=\"color: #008080; text-decoration-color: #008080; font-weight: bold\">14.8</span>, <span style=\"color: #008080; text-decoration-color: #008080; font-weight: bold\">212.0</span>, <span style=\"color: #008080; text-decoration-color: #008080; font-weight: bold\">5200.0</span>, <span style=\"color: #008000; text-decoration-color: #008000\">'Female'</span><span style=\"font-weight: bold\">]</span>,\n",
              "    <span style=\"font-weight: bold\">[</span><span style=\"color: #008000; text-decoration-color: #008000\">'Gentoo'</span>, <span style=\"color: #008000; text-decoration-color: #008000\">'Biscoe'</span>, <span style=\"color: #008080; text-decoration-color: #008080; font-weight: bold\">49.9</span>, <span style=\"color: #008080; text-decoration-color: #008080; font-weight: bold\">16.1</span>, <span style=\"color: #008080; text-decoration-color: #008080; font-weight: bold\">213.0</span>, <span style=\"color: #008080; text-decoration-color: #008080; font-weight: bold\">5400.0</span>, <span style=\"color: #008000; text-decoration-color: #008000\">'Male'</span><span style=\"font-weight: bold\">]</span>\n",
              "<span style=\"font-weight: bold\">]</span>\n",
              "</pre>\n"
            ],
            "text/plain": [
              "Gentoo records: \n",
              "\u001b[1m[\u001b[0m\n",
              "    \u001b[1m[\u001b[0m\u001b[32m'Gentoo'\u001b[0m, \u001b[32m'Biscoe'\u001b[0m, \u001b[1;36m46.8\u001b[0m, \u001b[1;36m14.3\u001b[0m, \u001b[1;36m215.0\u001b[0m, \u001b[1;36m4850.0\u001b[0m, \u001b[32m'Female'\u001b[0m\u001b[1m]\u001b[0m,\n",
              "    \u001b[1m[\u001b[0m\u001b[32m'Gentoo'\u001b[0m, \u001b[32m'Biscoe'\u001b[0m, \u001b[1;36m50.4\u001b[0m, \u001b[1;36m15.7\u001b[0m, \u001b[1;36m222.0\u001b[0m, \u001b[1;36m5750.0\u001b[0m, \u001b[32m'Male'\u001b[0m\u001b[1m]\u001b[0m,\n",
              "    \u001b[1m[\u001b[0m\u001b[32m'Gentoo'\u001b[0m, \u001b[32m'Biscoe'\u001b[0m, \u001b[1;36m45.2\u001b[0m, \u001b[1;36m14.8\u001b[0m, \u001b[1;36m212.0\u001b[0m, \u001b[1;36m5200.0\u001b[0m, \u001b[32m'Female'\u001b[0m\u001b[1m]\u001b[0m,\n",
              "    \u001b[1m[\u001b[0m\u001b[32m'Gentoo'\u001b[0m, \u001b[32m'Biscoe'\u001b[0m, \u001b[1;36m49.9\u001b[0m, \u001b[1;36m16.1\u001b[0m, \u001b[1;36m213.0\u001b[0m, \u001b[1;36m5400.0\u001b[0m, \u001b[32m'Male'\u001b[0m\u001b[1m]\u001b[0m\n",
              "\u001b[1m]\u001b[0m\n"
            ]
          },
          "metadata": {}
        }
      ]
    },
    {
      "cell_type": "markdown",
      "metadata": {
        "id": "mYsQj5-WFLPI"
      },
      "source": [
        "**Hasta aquí llegamos en la clase**"
      ]
    },
    {
      "cell_type": "markdown",
      "metadata": {
        "id": "1nlwCU475q1p"
      },
      "source": [
        "* Hacer un listado para los números de 5."
      ]
    },
    {
      "cell_type": "code",
      "metadata": {
        "id": "cyfy541N6M2w"
      },
      "source": [
        "nums = [1, 2, 3, 4, 5, 6, 7, 8, 9, 10, 11, 12, 13, \n",
        "        14, 15, 16, 17, 18, 19, 20, 21, 22, 23, 24, 25]"
      ],
      "execution_count": null,
      "outputs": []
    },
    {
      "cell_type": "markdown",
      "metadata": {
        "id": "4nWd-ufm6g3v"
      },
      "source": [
        "## Narración 2\n",
        "\n",
        "Un científico (_de datos_) después de analizar las observaciones se dió cuenta que si se multiplican los valores `bill_length_mm` y `bill_depth_mm`, y además considera el valor `flipper_length_mm` puede entrenar un perceptron para predecir la especie de pingüino. Por lo que decide empezar a transformar los registros para tener este valor disponible y lo agrega al final de la lista."
      ]
    },
    {
      "cell_type": "code",
      "metadata": {
        "id": "04jC0FWI8uRK"
      },
      "source": [
        ""
      ],
      "execution_count": null,
      "outputs": []
    },
    {
      "cell_type": "markdown",
      "metadata": {
        "id": "4POyz2w28xTp"
      },
      "source": [
        "El equipo de manejo de datos se dió cuenta que pasaron por alto incluir un dato muy importante, la fecha que se registro el dato por lo que ahora incluye este valor en la primera columna."
      ]
    },
    {
      "cell_type": "code",
      "metadata": {
        "id": "9OncPnT9_lQX"
      },
      "source": [
        "records = [\n",
        "    ['08/10/2018 04:28 AM', 'Adelie', 'Torgersen', 39.1, 18.7, 181.0, 3750.0, 'Male'], \n",
        "    ['11/22/2018 10:25 PM', 'Adelie', 'Torgersen', 39.5, 17.4, 186.0, 3800.0, 'Female'], \n",
        "    ['08/10/2018 06:53 AM', 'Adelie', 'Torgersen', 40.3, 18.0, 195.0, 3250.0, 'Female'], \n",
        "    ['02/04/2018 06:18 PM', 'Adelie', 'Torgersen', None, None, None, None, None], \n",
        "    ['10/29/2018 05:47 AM', 'Gentoo', 'Biscoe', 46.8, 14.3, 215.0, 4850.0, 'Female'], \n",
        "    ['10/11/2018 05:09 PM', 'Gentoo', 'Biscoe', 50.4, 15.7, 222.0, 5750.0, 'Male'], \n",
        "    ['05/31/2018 05:14 PM', 'Gentoo', 'Biscoe', 45.2, 14.8, 212.0, 5200.0, 'Female'], \n",
        "    ['02/04/2018 05:25 AM', 'Gentoo', 'Biscoe', 49.9, 16.1, 213.0, 5400.0, 'Male']\n",
        "]"
      ],
      "execution_count": null,
      "outputs": []
    },
    {
      "cell_type": "markdown",
      "metadata": {
        "id": "RmYwRjXk_zNa"
      },
      "source": [
        "Es por esto que existe otra estructura de datos en **Python** los diccionarios (_hash tables_)."
      ]
    },
    {
      "cell_type": "code",
      "metadata": {
        "id": "UqqSf6WnAJhJ"
      },
      "source": [
        "columnas = ['date', 'species', 'island', 'bill_length_mm', 'bill_depth_mm', \n",
        "            'flipper_length_mm', 'body_mass_g', 'sex']"
      ],
      "execution_count": 40,
      "outputs": []
    },
    {
      "cell_type": "code",
      "metadata": {
        "id": "UlXlVVsbAPOF"
      },
      "source": [
        "tests = dict(zip(columnas, records[0]))"
      ],
      "execution_count": 41,
      "outputs": []
    },
    {
      "cell_type": "code",
      "metadata": {
        "id": "fxPVZiPiHesH",
        "outputId": "d38c8869-6a58-4697-afde-859bc8c03e0f",
        "colab": {
          "base_uri": "https://localhost:8080/",
          "height": 165
        }
      },
      "source": [
        "print(tests)"
      ],
      "execution_count": 42,
      "outputs": [
        {
          "output_type": "display_data",
          "data": {
            "text/html": [
              "<pre style=\"white-space:pre;overflow-x:auto;line-height:normal;font-family:Menlo,'DejaVu Sans Mono',consolas,'Courier New',monospace\"><span style=\"font-weight: bold\">{</span>\n",
              "    <span style=\"color: #008000; text-decoration-color: #008000\">'date'</span>: <span style=\"color: #008000; text-decoration-color: #008000\">'Adelie'</span>,\n",
              "    <span style=\"color: #008000; text-decoration-color: #008000\">'species'</span>: <span style=\"color: #008000; text-decoration-color: #008000\">'Torgersen'</span>,\n",
              "    <span style=\"color: #008000; text-decoration-color: #008000\">'island'</span>: <span style=\"color: #008080; text-decoration-color: #008080; font-weight: bold\">39.1</span>,\n",
              "    <span style=\"color: #008000; text-decoration-color: #008000\">'bill_length_mm'</span>: <span style=\"color: #008080; text-decoration-color: #008080; font-weight: bold\">18.7</span>,\n",
              "    <span style=\"color: #008000; text-decoration-color: #008000\">'bill_depth_mm'</span>: <span style=\"color: #008080; text-decoration-color: #008080; font-weight: bold\">181.0</span>,\n",
              "    <span style=\"color: #008000; text-decoration-color: #008000\">'flipper_length_mm'</span>: <span style=\"color: #008080; text-decoration-color: #008080; font-weight: bold\">3750.0</span>,\n",
              "    <span style=\"color: #008000; text-decoration-color: #008000\">'body_mass_g'</span>: <span style=\"color: #008000; text-decoration-color: #008000\">'Male'</span>\n",
              "<span style=\"font-weight: bold\">}</span>\n",
              "</pre>\n"
            ],
            "text/plain": [
              "\u001b[1m{\u001b[0m\n",
              "    \u001b[32m'date'\u001b[0m: \u001b[32m'Adelie'\u001b[0m,\n",
              "    \u001b[32m'species'\u001b[0m: \u001b[32m'Torgersen'\u001b[0m,\n",
              "    \u001b[32m'island'\u001b[0m: \u001b[1;36m39.1\u001b[0m,\n",
              "    \u001b[32m'bill_length_mm'\u001b[0m: \u001b[1;36m18.7\u001b[0m,\n",
              "    \u001b[32m'bill_depth_mm'\u001b[0m: \u001b[1;36m181.0\u001b[0m,\n",
              "    \u001b[32m'flipper_length_mm'\u001b[0m: \u001b[1;36m3750.0\u001b[0m,\n",
              "    \u001b[32m'body_mass_g'\u001b[0m: \u001b[32m'Male'\u001b[0m\n",
              "\u001b[1m}\u001b[0m\n"
            ]
          },
          "metadata": {}
        }
      ]
    },
    {
      "cell_type": "code",
      "metadata": {
        "id": "X2bOJkhkHkIu"
      },
      "source": [
        "tests['precios'] = [1, 2, 3, 4, 5]"
      ],
      "execution_count": 44,
      "outputs": []
    },
    {
      "cell_type": "code",
      "metadata": {
        "id": "LT1fgjzzHq6q",
        "outputId": "ec5c2747-0775-4389-e2a1-a4507c83beb3",
        "colab": {
          "base_uri": "https://localhost:8080/",
          "height": 182
        }
      },
      "source": [
        "print(tests)"
      ],
      "execution_count": 45,
      "outputs": [
        {
          "output_type": "display_data",
          "data": {
            "text/html": [
              "<pre style=\"white-space:pre;overflow-x:auto;line-height:normal;font-family:Menlo,'DejaVu Sans Mono',consolas,'Courier New',monospace\"><span style=\"font-weight: bold\">{</span>\n",
              "    <span style=\"color: #008000; text-decoration-color: #008000\">'date'</span>: <span style=\"color: #008000; text-decoration-color: #008000\">'Adelie'</span>,\n",
              "    <span style=\"color: #008000; text-decoration-color: #008000\">'species'</span>: <span style=\"color: #008000; text-decoration-color: #008000\">'Torgersen'</span>,\n",
              "    <span style=\"color: #008000; text-decoration-color: #008000\">'island'</span>: <span style=\"color: #008080; text-decoration-color: #008080; font-weight: bold\">39.1</span>,\n",
              "    <span style=\"color: #008000; text-decoration-color: #008000\">'bill_length_mm'</span>: <span style=\"color: #008080; text-decoration-color: #008080; font-weight: bold\">18.7</span>,\n",
              "    <span style=\"color: #008000; text-decoration-color: #008000\">'bill_depth_mm'</span>: <span style=\"color: #008080; text-decoration-color: #008080; font-weight: bold\">181.0</span>,\n",
              "    <span style=\"color: #008000; text-decoration-color: #008000\">'flipper_length_mm'</span>: <span style=\"color: #008080; text-decoration-color: #008080; font-weight: bold\">3750.0</span>,\n",
              "    <span style=\"color: #008000; text-decoration-color: #008000\">'body_mass_g'</span>: <span style=\"color: #008000; text-decoration-color: #008000\">'Male'</span>,\n",
              "    <span style=\"color: #008000; text-decoration-color: #008000\">'precios'</span>: <span style=\"font-weight: bold\">[</span><span style=\"color: #008080; text-decoration-color: #008080; font-weight: bold\">1</span>, <span style=\"color: #008080; text-decoration-color: #008080; font-weight: bold\">2</span>, <span style=\"color: #008080; text-decoration-color: #008080; font-weight: bold\">3</span>, <span style=\"color: #008080; text-decoration-color: #008080; font-weight: bold\">4</span>, <span style=\"color: #008080; text-decoration-color: #008080; font-weight: bold\">5</span><span style=\"font-weight: bold\">]</span>\n",
              "<span style=\"font-weight: bold\">}</span>\n",
              "</pre>\n"
            ],
            "text/plain": [
              "\u001b[1m{\u001b[0m\n",
              "    \u001b[32m'date'\u001b[0m: \u001b[32m'Adelie'\u001b[0m,\n",
              "    \u001b[32m'species'\u001b[0m: \u001b[32m'Torgersen'\u001b[0m,\n",
              "    \u001b[32m'island'\u001b[0m: \u001b[1;36m39.1\u001b[0m,\n",
              "    \u001b[32m'bill_length_mm'\u001b[0m: \u001b[1;36m18.7\u001b[0m,\n",
              "    \u001b[32m'bill_depth_mm'\u001b[0m: \u001b[1;36m181.0\u001b[0m,\n",
              "    \u001b[32m'flipper_length_mm'\u001b[0m: \u001b[1;36m3750.0\u001b[0m,\n",
              "    \u001b[32m'body_mass_g'\u001b[0m: \u001b[32m'Male'\u001b[0m,\n",
              "    \u001b[32m'precios'\u001b[0m: \u001b[1m[\u001b[0m\u001b[1;36m1\u001b[0m, \u001b[1;36m2\u001b[0m, \u001b[1;36m3\u001b[0m, \u001b[1;36m4\u001b[0m, \u001b[1;36m5\u001b[0m\u001b[1m]\u001b[0m\n",
              "\u001b[1m}\u001b[0m\n"
            ]
          },
          "metadata": {}
        }
      ]
    },
    {
      "cell_type": "code",
      "metadata": {
        "id": "Ofz_cnGzHty6"
      },
      "source": [
        ""
      ],
      "execution_count": null,
      "outputs": []
    }
  ]
}