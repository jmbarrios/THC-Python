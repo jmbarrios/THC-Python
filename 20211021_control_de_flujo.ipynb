{
  "nbformat": 4,
  "nbformat_minor": 0,
  "metadata": {
    "colab": {
      "name": "20211021-control-de-flujo.ipynb",
      "provenance": [],
      "authorship_tag": "ABX9TyPENstmg2n3kH8LDNyhUL8f",
      "include_colab_link": true
    },
    "kernelspec": {
      "name": "python3",
      "display_name": "Python 3"
    },
    "language_info": {
      "name": "python"
    }
  },
  "cells": [
    {
      "cell_type": "markdown",
      "metadata": {
        "id": "view-in-github",
        "colab_type": "text"
      },
      "source": [
        "<a href=\"https://colab.research.google.com/github/jmbarrios/THC-Python/blob/main/20211021_control_de_flujo.ipynb\" target=\"_parent\"><img src=\"https://colab.research.google.com/assets/colab-badge.svg\" alt=\"Open In Colab\"/></a>"
      ]
    },
    {
      "cell_type": "markdown",
      "metadata": {
        "id": "H2MedxBjrz4N"
      },
      "source": [
        "# Instalación de paquetes"
      ]
    },
    {
      "cell_type": "code",
      "metadata": {
        "colab": {
          "base_uri": "https://localhost:8080/"
        },
        "id": "KeW0Rk5mr6VN",
        "outputId": "aac53dc9-1e58-4170-9a66-f3fbb863e09f"
      },
      "source": [
        "!pip install rich"
      ],
      "execution_count": 1,
      "outputs": [
        {
          "output_type": "stream",
          "name": "stdout",
          "text": [
            "Collecting rich\n",
            "  Downloading rich-10.12.0-py3-none-any.whl (212 kB)\n",
            "\u001b[K     |████████████████████████████████| 212 kB 5.2 MB/s \n",
            "\u001b[?25hCollecting commonmark<0.10.0,>=0.9.0\n",
            "  Downloading commonmark-0.9.1-py2.py3-none-any.whl (51 kB)\n",
            "\u001b[K     |████████████████████████████████| 51 kB 6.4 MB/s \n",
            "\u001b[?25hRequirement already satisfied: typing-extensions<4.0.0,>=3.7.4 in /usr/local/lib/python3.7/dist-packages (from rich) (3.7.4.3)\n",
            "Requirement already satisfied: pygments<3.0.0,>=2.6.0 in /usr/local/lib/python3.7/dist-packages (from rich) (2.6.1)\n",
            "Collecting colorama<0.5.0,>=0.4.0\n",
            "  Downloading colorama-0.4.4-py2.py3-none-any.whl (16 kB)\n",
            "Installing collected packages: commonmark, colorama, rich\n",
            "Successfully installed colorama-0.4.4 commonmark-0.9.1 rich-10.12.0\n"
          ]
        }
      ]
    },
    {
      "cell_type": "markdown",
      "metadata": {
        "id": "XpXc9CSqr_aX"
      },
      "source": [
        "# Importación de bibliotecas\n"
      ]
    },
    {
      "cell_type": "code",
      "metadata": {
        "id": "W0P0iPVlsP_Q"
      },
      "source": [
        "from rich import (print,\n",
        "                  inspect)"
      ],
      "execution_count": 2,
      "outputs": []
    },
    {
      "cell_type": "markdown",
      "metadata": {
        "id": "Y4t_rUJjsZO2"
      },
      "source": [
        "# Recordando la historia\n",
        "\n",
        "Nuestra heroína **Janet** tratará de resolver el problema que le planteo **Karime**, ver si es posible decir si los pingüinos Gentoo y los Adelie compiten por recursos. \n",
        "Para esto Janet iba a analizar los horarios de alimentación de los pingüinos, los cuales los podía inferir de cuando habían tomado las muestras."
      ]
    },
    {
      "cell_type": "code",
      "metadata": {
        "id": "C9dEV0Q2yKEl"
      },
      "source": [
        "records_w_date = [\n",
        "    ['08/10/2018 04:28 AM', 'Pygoscelis adeliae', 'Adelie', 'Torgersen', 'Antartica', 39.1, 18.7, 181.0, 3750.0, 'Male', 'Marcus Holmes'], \n",
        "    ['11/22/2018 10:25 PM', 'Pygoscelis adeliae', 'Adelie', 'Torgersen', 'Antartica', 39.5, 17.4, 186.0, 3800.0, 'Female', 'Marcus Holmes'], \n",
        "    ['08/10/2018 06:53 AM', 'Pygoscelis adeliae', 'Adelie', 'Torgersen', 'Antartica', 40.3, 18.0, 195.0, 3250.0, 'Female', 'Marcus Holmes'], \n",
        "    ['02/04/2018 06:18 PM', 'Pygoscelis adeliae', 'Adelie', 'Torgersen', 'Antartica', None, None, None, None, None, 'Marcus Holmes'], \n",
        "    ['10/29/2018 05:47 AM', 'Pygoscelis papua', 'Gentoo', 'Biscoe', 'Antartica', 46.8, 14.3, 215.0, 4850.0, 'Female', 'Marcus Holmes'], \n",
        "    ['10/11/2018 05:09 PM', 'Pygoscelis papua', 'Gentoo', 'Biscoe', 'Antartica', 50.4, 15.7, 222.0, 5750.0, 'Male', 'Marcus Holmes'], \n",
        "    ['05/31/2018 05:14 PM', 'Pygoscelis papua', 'Gentoo', 'Biscoe', 'Antartica', 45.2, 14.8, 212.0, 5200.0, 'Female', 'Marcus Holmes'], \n",
        "    ['02/04/2018 05:25 AM', 'Pygoscelis papua', 'Gentoo', 'Biscoe', 'Antartica', 49.9, 16.1, 213.0, 5400.0, 'Male', 'Marcus Holmes']\n",
        "]\n",
        "\n",
        "col_names = ['datetime', 'scientific_name', 'species', 'island', 'continent', 'bill_length_mm', 'bill_depth_mm', 'flipper_length_mm', 'body_mass_g', 'sex', 'recorded_by']"
      ],
      "execution_count": 3,
      "outputs": []
    },
    {
      "cell_type": "code",
      "metadata": {
        "id": "wcf3me7byggO",
        "outputId": "1dfc7887-d16b-4f8a-a3c2-07c6ab7d2b9e",
        "colab": {
          "base_uri": "https://localhost:8080/",
          "height": 234
        }
      },
      "source": [
        "record = records_w_date[1].copy()\n",
        "record = dict(zip(col_names, record))\n",
        "print(record)"
      ],
      "execution_count": 4,
      "outputs": [
        {
          "output_type": "display_data",
          "data": {
            "text/html": [
              "<pre style=\"white-space:pre;overflow-x:auto;line-height:normal;font-family:Menlo,'DejaVu Sans Mono',consolas,'Courier New',monospace\"><span style=\"font-weight: bold\">{</span>\n",
              "    <span style=\"color: #008000; text-decoration-color: #008000\">'datetime'</span>: <span style=\"color: #008000; text-decoration-color: #008000\">'11/22/2018 10:25 PM'</span>,\n",
              "    <span style=\"color: #008000; text-decoration-color: #008000\">'scientific_name'</span>: <span style=\"color: #008000; text-decoration-color: #008000\">'Pygoscelis adeliae'</span>,\n",
              "    <span style=\"color: #008000; text-decoration-color: #008000\">'species'</span>: <span style=\"color: #008000; text-decoration-color: #008000\">'Adelie'</span>,\n",
              "    <span style=\"color: #008000; text-decoration-color: #008000\">'island'</span>: <span style=\"color: #008000; text-decoration-color: #008000\">'Torgersen'</span>,\n",
              "    <span style=\"color: #008000; text-decoration-color: #008000\">'continent'</span>: <span style=\"color: #008000; text-decoration-color: #008000\">'Antartica'</span>,\n",
              "    <span style=\"color: #008000; text-decoration-color: #008000\">'bill_length_mm'</span>: <span style=\"color: #008080; text-decoration-color: #008080; font-weight: bold\">39.5</span>,\n",
              "    <span style=\"color: #008000; text-decoration-color: #008000\">'bill_depth_mm'</span>: <span style=\"color: #008080; text-decoration-color: #008080; font-weight: bold\">17.4</span>,\n",
              "    <span style=\"color: #008000; text-decoration-color: #008000\">'flipper_length_mm'</span>: <span style=\"color: #008080; text-decoration-color: #008080; font-weight: bold\">186.0</span>,\n",
              "    <span style=\"color: #008000; text-decoration-color: #008000\">'body_mass_g'</span>: <span style=\"color: #008080; text-decoration-color: #008080; font-weight: bold\">3800.0</span>,\n",
              "    <span style=\"color: #008000; text-decoration-color: #008000\">'sex'</span>: <span style=\"color: #008000; text-decoration-color: #008000\">'Female'</span>,\n",
              "    <span style=\"color: #008000; text-decoration-color: #008000\">'recorded_by'</span>: <span style=\"color: #008000; text-decoration-color: #008000\">'Marcus Holmes'</span>\n",
              "<span style=\"font-weight: bold\">}</span>\n",
              "</pre>\n"
            ],
            "text/plain": [
              "\u001b[1m{\u001b[0m\n",
              "    \u001b[32m'datetime'\u001b[0m: \u001b[32m'11/22/2018 10:25 PM'\u001b[0m,\n",
              "    \u001b[32m'scientific_name'\u001b[0m: \u001b[32m'Pygoscelis adeliae'\u001b[0m,\n",
              "    \u001b[32m'species'\u001b[0m: \u001b[32m'Adelie'\u001b[0m,\n",
              "    \u001b[32m'island'\u001b[0m: \u001b[32m'Torgersen'\u001b[0m,\n",
              "    \u001b[32m'continent'\u001b[0m: \u001b[32m'Antartica'\u001b[0m,\n",
              "    \u001b[32m'bill_length_mm'\u001b[0m: \u001b[1;36m39.5\u001b[0m,\n",
              "    \u001b[32m'bill_depth_mm'\u001b[0m: \u001b[1;36m17.4\u001b[0m,\n",
              "    \u001b[32m'flipper_length_mm'\u001b[0m: \u001b[1;36m186.0\u001b[0m,\n",
              "    \u001b[32m'body_mass_g'\u001b[0m: \u001b[1;36m3800.0\u001b[0m,\n",
              "    \u001b[32m'sex'\u001b[0m: \u001b[32m'Female'\u001b[0m,\n",
              "    \u001b[32m'recorded_by'\u001b[0m: \u001b[32m'Marcus Holmes'\u001b[0m\n",
              "\u001b[1m}\u001b[0m\n"
            ]
          },
          "metadata": {}
        }
      ]
    },
    {
      "cell_type": "code",
      "metadata": {
        "id": "Ie5DKh0Qy4dt",
        "outputId": "e63f1e66-bec1-4919-b855-42471b21aef8",
        "colab": {
          "base_uri": "https://localhost:8080/",
          "height": 50
        }
      },
      "source": [
        "dt = record['datetime']\n",
        "print(type(dt))\n",
        "print(dt)"
      ],
      "execution_count": 5,
      "outputs": [
        {
          "output_type": "display_data",
          "data": {
            "text/html": [
              "<pre style=\"white-space:pre;overflow-x:auto;line-height:normal;font-family:Menlo,'DejaVu Sans Mono',consolas,'Courier New',monospace\"><span style=\"font-weight: bold\">&lt;</span><span style=\"color: #ff00ff; text-decoration-color: #ff00ff; font-weight: bold\">class</span><span style=\"color: #000000; text-decoration-color: #000000\"> </span><span style=\"color: #008000; text-decoration-color: #008000\">'str'</span><span style=\"font-weight: bold\">&gt;</span>\n",
              "</pre>\n"
            ],
            "text/plain": [
              "\u001b[1m<\u001b[0m\u001b[1;95mclass\u001b[0m\u001b[39m \u001b[0m\u001b[32m'str'\u001b[0m\u001b[1m>\u001b[0m\n"
            ]
          },
          "metadata": {}
        },
        {
          "output_type": "display_data",
          "data": {
            "text/html": [
              "<pre style=\"white-space:pre;overflow-x:auto;line-height:normal;font-family:Menlo,'DejaVu Sans Mono',consolas,'Courier New',monospace\"><span style=\"color: #008080; text-decoration-color: #008080; font-weight: bold\">11</span>/<span style=\"color: #008080; text-decoration-color: #008080; font-weight: bold\">22</span>/<span style=\"color: #008080; text-decoration-color: #008080; font-weight: bold\">2018</span> <span style=\"color: #00ff00; text-decoration-color: #00ff00; font-weight: bold\">10:25</span> PM\n",
              "</pre>\n"
            ],
            "text/plain": [
              "\u001b[1;36m11\u001b[0m/\u001b[1;36m22\u001b[0m/\u001b[1;36m2018\u001b[0m \u001b[1;92m10:25\u001b[0m PM\n"
            ]
          },
          "metadata": {}
        }
      ]
    },
    {
      "cell_type": "code",
      "metadata": {
        "id": "KXXalwEEzbQx"
      },
      "source": [
        "fecha, hora = dt.split(sep=' ', maxsplit=1)"
      ],
      "execution_count": 6,
      "outputs": []
    },
    {
      "cell_type": "code",
      "metadata": {
        "id": "X0Ptr7Frz24I",
        "outputId": "b2a2d5ab-3f4b-4b1e-8d22-2bd1a901cf87",
        "colab": {
          "base_uri": "https://localhost:8080/",
          "height": 50
        }
      },
      "source": [
        "print('La fecha de medición es:', fecha,'\\n','La hora de toma de medición es:', hora)"
      ],
      "execution_count": 7,
      "outputs": [
        {
          "output_type": "display_data",
          "data": {
            "text/html": [
              "<pre style=\"white-space:pre;overflow-x:auto;line-height:normal;font-family:Menlo,'DejaVu Sans Mono',consolas,'Courier New',monospace\">La fecha de medición es: <span style=\"color: #008080; text-decoration-color: #008080; font-weight: bold\">11</span>/<span style=\"color: #008080; text-decoration-color: #008080; font-weight: bold\">22</span>/<span style=\"color: #008080; text-decoration-color: #008080; font-weight: bold\">2018</span> \n",
              " La hora de toma de medición es: <span style=\"color: #00ff00; text-decoration-color: #00ff00; font-weight: bold\">10:25</span> PM\n",
              "</pre>\n"
            ],
            "text/plain": [
              "La fecha de medición es: \u001b[1;36m11\u001b[0m/\u001b[1;36m22\u001b[0m/\u001b[1;36m2018\u001b[0m \n",
              " La hora de toma de medición es: \u001b[1;92m10:25\u001b[0m PM\n"
            ]
          },
          "metadata": {}
        }
      ]
    },
    {
      "cell_type": "markdown",
      "metadata": {
        "id": "s59hK0xL0IgN"
      },
      "source": [
        "10:25 PM -> 22:25\n",
        "\n",
        "Si la hora tiene un PM entonces tenemos 12 a las horas.\n",
        "\n",
        "Si la hora tiene un AM no tenemos que hacer nada.\n",
        "\n",
        "9:15 AM -> 9:15"
      ]
    },
    {
      "cell_type": "markdown",
      "metadata": {
        "id": "rA8IUzV04A_U"
      },
      "source": [
        "# Control de flujo"
      ]
    },
    {
      "cell_type": "markdown",
      "metadata": {
        "id": "x3BByS2e5dy2"
      },
      "source": [
        "## If"
      ]
    },
    {
      "cell_type": "markdown",
      "metadata": {
        "id": "SiHtySqm7Mxd"
      },
      "source": [
        "![img-if](https://raw.githubusercontent.com/jmbarrios/THC-Python/main/imgs/Screenshot%20from%202021-10-18%2023-18-40.png)"
      ]
    },
    {
      "cell_type": "code",
      "metadata": {
        "id": "TmZjh9us2XDo",
        "outputId": "c8f24c57-4712-4751-eeaf-63c15c4df4a8",
        "colab": {
          "base_uri": "https://localhost:8080/",
          "height": 34
        }
      },
      "source": [
        "print(hora)"
      ],
      "execution_count": 8,
      "outputs": [
        {
          "output_type": "display_data",
          "data": {
            "text/html": [
              "<pre style=\"white-space:pre;overflow-x:auto;line-height:normal;font-family:Menlo,'DejaVu Sans Mono',consolas,'Courier New',monospace\"><span style=\"color: #00ff00; text-decoration-color: #00ff00; font-weight: bold\">10:25</span> PM\n",
              "</pre>\n"
            ],
            "text/plain": [
              "\u001b[1;92m10:25\u001b[0m PM\n"
            ]
          },
          "metadata": {}
        }
      ]
    },
    {
      "cell_type": "code",
      "metadata": {
        "id": "ob66T7pV4LUG"
      },
      "source": [
        "hora = '7:13 PM'"
      ],
      "execution_count": 22,
      "outputs": []
    },
    {
      "cell_type": "code",
      "metadata": {
        "id": "Xrp_yGxN2c90",
        "outputId": "88fab943-ad7c-4f16-cb50-5ac218beb0a0",
        "colab": {
          "base_uri": "https://localhost:8080/",
          "height": 67
        }
      },
      "source": [
        "print('El valor de hora es:',hora)\n",
        "if hora[-2:] == 'PM':\n",
        "    print('Se ejecuta el primer bloque')\n",
        "    aux = hora.rstrip(' PM')\n",
        "    aux = aux.split(':')\n",
        "    nueva_hora = str(int(aux[0])+12) + ':' + aux[1]\n",
        "# elif = else if\n",
        "elif hora[-2:] == 'AM':\n",
        "    print('Se ejecuta el segundo bloque')\n",
        "    nueva_hora = hora.rstrip(' AM')\n",
        "else:\n",
        "    print('Se ejecuta el tercer bloque')\n",
        "    nueva_hora = hora\n",
        "\n",
        "print('El valor de nueva_hora es', nueva_hora)"
      ],
      "execution_count": 23,
      "outputs": [
        {
          "output_type": "display_data",
          "data": {
            "text/html": [
              "<pre style=\"white-space:pre;overflow-x:auto;line-height:normal;font-family:Menlo,'DejaVu Sans Mono',consolas,'Courier New',monospace\">El valor de hora es: <span style=\"color: #00ff00; text-decoration-color: #00ff00; font-weight: bold\">7:13</span> PM\n",
              "</pre>\n"
            ],
            "text/plain": [
              "El valor de hora es: \u001b[1;92m7:13\u001b[0m PM\n"
            ]
          },
          "metadata": {}
        },
        {
          "output_type": "display_data",
          "data": {
            "text/html": [
              "<pre style=\"white-space:pre;overflow-x:auto;line-height:normal;font-family:Menlo,'DejaVu Sans Mono',consolas,'Courier New',monospace\">Se ejecuta el primer bloque\n",
              "</pre>\n"
            ],
            "text/plain": [
              "Se ejecuta el primer bloque\n"
            ]
          },
          "metadata": {}
        },
        {
          "output_type": "display_data",
          "data": {
            "text/html": [
              "<pre style=\"white-space:pre;overflow-x:auto;line-height:normal;font-family:Menlo,'DejaVu Sans Mono',consolas,'Courier New',monospace\">El valor de nueva_hora es <span style=\"color: #00ff00; text-decoration-color: #00ff00; font-weight: bold\">19:13</span>\n",
              "</pre>\n"
            ],
            "text/plain": [
              "El valor de nueva_hora es \u001b[1;92m19:13\u001b[0m\n"
            ]
          },
          "metadata": {}
        }
      ]
    },
    {
      "cell_type": "markdown",
      "metadata": {
        "id": "8T6dlOcj5gXJ"
      },
      "source": [
        "## For"
      ]
    },
    {
      "cell_type": "markdown",
      "metadata": {
        "id": "LsvldN2u7Uge"
      },
      "source": [
        "![img-for](https://raw.githubusercontent.com/jmbarrios/THC-Python/main/imgs/Screenshot%20from%202021-10-20%2022-29-23.png)"
      ]
    },
    {
      "cell_type": "code",
      "metadata": {
        "id": "IoJ7iYxi-1dk",
        "outputId": "9f73b4c4-3ef5-446f-9d14-d49369db3ef2",
        "colab": {
          "base_uri": "https://localhost:8080/",
          "height": 67
        }
      },
      "source": [
        "frutas = ['kiwi', 'mango', 'cereza']\n",
        "for f in frutas:\n",
        "    print('Me gusta el',f)"
      ],
      "execution_count": 26,
      "outputs": [
        {
          "output_type": "display_data",
          "data": {
            "text/html": [
              "<pre style=\"white-space:pre;overflow-x:auto;line-height:normal;font-family:Menlo,'DejaVu Sans Mono',consolas,'Courier New',monospace\">Me gusta el kiwi\n",
              "</pre>\n"
            ],
            "text/plain": [
              "Me gusta el kiwi\n"
            ]
          },
          "metadata": {}
        },
        {
          "output_type": "display_data",
          "data": {
            "text/html": [
              "<pre style=\"white-space:pre;overflow-x:auto;line-height:normal;font-family:Menlo,'DejaVu Sans Mono',consolas,'Courier New',monospace\">Me gusta el mango\n",
              "</pre>\n"
            ],
            "text/plain": [
              "Me gusta el mango\n"
            ]
          },
          "metadata": {}
        },
        {
          "output_type": "display_data",
          "data": {
            "text/html": [
              "<pre style=\"white-space:pre;overflow-x:auto;line-height:normal;font-family:Menlo,'DejaVu Sans Mono',consolas,'Courier New',monospace\">Me gusta el cereza\n",
              "</pre>\n"
            ],
            "text/plain": [
              "Me gusta el cereza\n"
            ]
          },
          "metadata": {}
        }
      ]
    },
    {
      "cell_type": "code",
      "metadata": {
        "id": "GrXusHqHCCEn",
        "outputId": "2ed526cf-50d6-405e-d3d0-33e315b5fe07",
        "colab": {
          "base_uri": "https://localhost:8080/",
          "height": 67
        }
      },
      "source": [
        "for f in frutas:\n",
        "    if f == 'cereza':\n",
        "        print('Me gusta la', f)\n",
        "    else:\n",
        "        print('Me gusta el',f)"
      ],
      "execution_count": 30,
      "outputs": [
        {
          "output_type": "display_data",
          "data": {
            "text/html": [
              "<pre style=\"white-space:pre;overflow-x:auto;line-height:normal;font-family:Menlo,'DejaVu Sans Mono',consolas,'Courier New',monospace\">Ya!\n",
              "</pre>\n"
            ],
            "text/plain": [
              "Ya!\n"
            ]
          },
          "metadata": {}
        },
        {
          "output_type": "display_data",
          "data": {
            "text/html": [
              "<pre style=\"white-space:pre;overflow-x:auto;line-height:normal;font-family:Menlo,'DejaVu Sans Mono',consolas,'Courier New',monospace\">Ya!\n",
              "</pre>\n"
            ],
            "text/plain": [
              "Ya!\n"
            ]
          },
          "metadata": {}
        },
        {
          "output_type": "display_data",
          "data": {
            "text/html": [
              "<pre style=\"white-space:pre;overflow-x:auto;line-height:normal;font-family:Menlo,'DejaVu Sans Mono',consolas,'Courier New',monospace\">Me gusta la cereza\n",
              "</pre>\n"
            ],
            "text/plain": [
              "Me gusta la cereza\n"
            ]
          },
          "metadata": {}
        }
      ]
    },
    {
      "cell_type": "markdown",
      "metadata": {
        "id": "VQY4c4Sc_AXe"
      },
      "source": [
        "Hasta ahora cada cosa cosa que hago la hago solo para un record. \n",
        "\n",
        "* Convertir todos mis records a diccionarios"
      ]
    },
    {
      "cell_type": "code",
      "metadata": {
        "id": "KMzkKnLVEEFZ"
      },
      "source": [
        "records_dict = []\n",
        "for record in records_w_date:\n",
        "  records_dict.append(dict(zip(col_names, record)))"
      ],
      "execution_count": 32,
      "outputs": []
    },
    {
      "cell_type": "code",
      "metadata": {
        "id": "Hxd7NxelHEIA",
        "outputId": "abf423d9-940f-4aba-e7a3-90089ebe9a12",
        "colab": {
          "base_uri": "https://localhost:8080/",
          "height": 1000
        }
      },
      "source": [
        "print(records_dict)"
      ],
      "execution_count": 33,
      "outputs": [
        {
          "output_type": "display_data",
          "data": {
            "text/html": [
              "<pre style=\"white-space:pre;overflow-x:auto;line-height:normal;font-family:Menlo,'DejaVu Sans Mono',consolas,'Courier New',monospace\"><span style=\"font-weight: bold\">[</span>\n",
              "    <span style=\"font-weight: bold\">{</span>\n",
              "        <span style=\"color: #008000; text-decoration-color: #008000\">'datetime'</span>: <span style=\"color: #008000; text-decoration-color: #008000\">'08/10/2018 04:28 AM'</span>,\n",
              "        <span style=\"color: #008000; text-decoration-color: #008000\">'scientific_name'</span>: <span style=\"color: #008000; text-decoration-color: #008000\">'Pygoscelis adeliae'</span>,\n",
              "        <span style=\"color: #008000; text-decoration-color: #008000\">'species'</span>: <span style=\"color: #008000; text-decoration-color: #008000\">'Adelie'</span>,\n",
              "        <span style=\"color: #008000; text-decoration-color: #008000\">'island'</span>: <span style=\"color: #008000; text-decoration-color: #008000\">'Torgersen'</span>,\n",
              "        <span style=\"color: #008000; text-decoration-color: #008000\">'continent'</span>: <span style=\"color: #008000; text-decoration-color: #008000\">'Antartica'</span>,\n",
              "        <span style=\"color: #008000; text-decoration-color: #008000\">'bill_length_mm'</span>: <span style=\"color: #008080; text-decoration-color: #008080; font-weight: bold\">39.1</span>,\n",
              "        <span style=\"color: #008000; text-decoration-color: #008000\">'bill_depth_mm'</span>: <span style=\"color: #008080; text-decoration-color: #008080; font-weight: bold\">18.7</span>,\n",
              "        <span style=\"color: #008000; text-decoration-color: #008000\">'flipper_length_mm'</span>: <span style=\"color: #008080; text-decoration-color: #008080; font-weight: bold\">181.0</span>,\n",
              "        <span style=\"color: #008000; text-decoration-color: #008000\">'body_mass_g'</span>: <span style=\"color: #008080; text-decoration-color: #008080; font-weight: bold\">3750.0</span>,\n",
              "        <span style=\"color: #008000; text-decoration-color: #008000\">'sex'</span>: <span style=\"color: #008000; text-decoration-color: #008000\">'Male'</span>,\n",
              "        <span style=\"color: #008000; text-decoration-color: #008000\">'recorded_by'</span>: <span style=\"color: #008000; text-decoration-color: #008000\">'Marcus Holmes'</span>\n",
              "    <span style=\"font-weight: bold\">}</span>,\n",
              "    <span style=\"font-weight: bold\">{</span>\n",
              "        <span style=\"color: #008000; text-decoration-color: #008000\">'datetime'</span>: <span style=\"color: #008000; text-decoration-color: #008000\">'11/22/2018 10:25 PM'</span>,\n",
              "        <span style=\"color: #008000; text-decoration-color: #008000\">'scientific_name'</span>: <span style=\"color: #008000; text-decoration-color: #008000\">'Pygoscelis adeliae'</span>,\n",
              "        <span style=\"color: #008000; text-decoration-color: #008000\">'species'</span>: <span style=\"color: #008000; text-decoration-color: #008000\">'Adelie'</span>,\n",
              "        <span style=\"color: #008000; text-decoration-color: #008000\">'island'</span>: <span style=\"color: #008000; text-decoration-color: #008000\">'Torgersen'</span>,\n",
              "        <span style=\"color: #008000; text-decoration-color: #008000\">'continent'</span>: <span style=\"color: #008000; text-decoration-color: #008000\">'Antartica'</span>,\n",
              "        <span style=\"color: #008000; text-decoration-color: #008000\">'bill_length_mm'</span>: <span style=\"color: #008080; text-decoration-color: #008080; font-weight: bold\">39.5</span>,\n",
              "        <span style=\"color: #008000; text-decoration-color: #008000\">'bill_depth_mm'</span>: <span style=\"color: #008080; text-decoration-color: #008080; font-weight: bold\">17.4</span>,\n",
              "        <span style=\"color: #008000; text-decoration-color: #008000\">'flipper_length_mm'</span>: <span style=\"color: #008080; text-decoration-color: #008080; font-weight: bold\">186.0</span>,\n",
              "        <span style=\"color: #008000; text-decoration-color: #008000\">'body_mass_g'</span>: <span style=\"color: #008080; text-decoration-color: #008080; font-weight: bold\">3800.0</span>,\n",
              "        <span style=\"color: #008000; text-decoration-color: #008000\">'sex'</span>: <span style=\"color: #008000; text-decoration-color: #008000\">'Female'</span>,\n",
              "        <span style=\"color: #008000; text-decoration-color: #008000\">'recorded_by'</span>: <span style=\"color: #008000; text-decoration-color: #008000\">'Marcus Holmes'</span>\n",
              "    <span style=\"font-weight: bold\">}</span>,\n",
              "    <span style=\"font-weight: bold\">{</span>\n",
              "        <span style=\"color: #008000; text-decoration-color: #008000\">'datetime'</span>: <span style=\"color: #008000; text-decoration-color: #008000\">'08/10/2018 06:53 AM'</span>,\n",
              "        <span style=\"color: #008000; text-decoration-color: #008000\">'scientific_name'</span>: <span style=\"color: #008000; text-decoration-color: #008000\">'Pygoscelis adeliae'</span>,\n",
              "        <span style=\"color: #008000; text-decoration-color: #008000\">'species'</span>: <span style=\"color: #008000; text-decoration-color: #008000\">'Adelie'</span>,\n",
              "        <span style=\"color: #008000; text-decoration-color: #008000\">'island'</span>: <span style=\"color: #008000; text-decoration-color: #008000\">'Torgersen'</span>,\n",
              "        <span style=\"color: #008000; text-decoration-color: #008000\">'continent'</span>: <span style=\"color: #008000; text-decoration-color: #008000\">'Antartica'</span>,\n",
              "        <span style=\"color: #008000; text-decoration-color: #008000\">'bill_length_mm'</span>: <span style=\"color: #008080; text-decoration-color: #008080; font-weight: bold\">40.3</span>,\n",
              "        <span style=\"color: #008000; text-decoration-color: #008000\">'bill_depth_mm'</span>: <span style=\"color: #008080; text-decoration-color: #008080; font-weight: bold\">18.0</span>,\n",
              "        <span style=\"color: #008000; text-decoration-color: #008000\">'flipper_length_mm'</span>: <span style=\"color: #008080; text-decoration-color: #008080; font-weight: bold\">195.0</span>,\n",
              "        <span style=\"color: #008000; text-decoration-color: #008000\">'body_mass_g'</span>: <span style=\"color: #008080; text-decoration-color: #008080; font-weight: bold\">3250.0</span>,\n",
              "        <span style=\"color: #008000; text-decoration-color: #008000\">'sex'</span>: <span style=\"color: #008000; text-decoration-color: #008000\">'Female'</span>,\n",
              "        <span style=\"color: #008000; text-decoration-color: #008000\">'recorded_by'</span>: <span style=\"color: #008000; text-decoration-color: #008000\">'Marcus Holmes'</span>\n",
              "    <span style=\"font-weight: bold\">}</span>,\n",
              "    <span style=\"font-weight: bold\">{</span>\n",
              "        <span style=\"color: #008000; text-decoration-color: #008000\">'datetime'</span>: <span style=\"color: #008000; text-decoration-color: #008000\">'02/04/2018 06:18 PM'</span>,\n",
              "        <span style=\"color: #008000; text-decoration-color: #008000\">'scientific_name'</span>: <span style=\"color: #008000; text-decoration-color: #008000\">'Pygoscelis adeliae'</span>,\n",
              "        <span style=\"color: #008000; text-decoration-color: #008000\">'species'</span>: <span style=\"color: #008000; text-decoration-color: #008000\">'Adelie'</span>,\n",
              "        <span style=\"color: #008000; text-decoration-color: #008000\">'island'</span>: <span style=\"color: #008000; text-decoration-color: #008000\">'Torgersen'</span>,\n",
              "        <span style=\"color: #008000; text-decoration-color: #008000\">'continent'</span>: <span style=\"color: #008000; text-decoration-color: #008000\">'Antartica'</span>,\n",
              "        <span style=\"color: #008000; text-decoration-color: #008000\">'bill_length_mm'</span>: <span style=\"color: #800080; text-decoration-color: #800080; font-style: italic\">None</span>,\n",
              "        <span style=\"color: #008000; text-decoration-color: #008000\">'bill_depth_mm'</span>: <span style=\"color: #800080; text-decoration-color: #800080; font-style: italic\">None</span>,\n",
              "        <span style=\"color: #008000; text-decoration-color: #008000\">'flipper_length_mm'</span>: <span style=\"color: #800080; text-decoration-color: #800080; font-style: italic\">None</span>,\n",
              "        <span style=\"color: #008000; text-decoration-color: #008000\">'body_mass_g'</span>: <span style=\"color: #800080; text-decoration-color: #800080; font-style: italic\">None</span>,\n",
              "        <span style=\"color: #008000; text-decoration-color: #008000\">'sex'</span>: <span style=\"color: #800080; text-decoration-color: #800080; font-style: italic\">None</span>,\n",
              "        <span style=\"color: #008000; text-decoration-color: #008000\">'recorded_by'</span>: <span style=\"color: #008000; text-decoration-color: #008000\">'Marcus Holmes'</span>\n",
              "    <span style=\"font-weight: bold\">}</span>,\n",
              "    <span style=\"font-weight: bold\">{</span>\n",
              "        <span style=\"color: #008000; text-decoration-color: #008000\">'datetime'</span>: <span style=\"color: #008000; text-decoration-color: #008000\">'10/29/2018 05:47 AM'</span>,\n",
              "        <span style=\"color: #008000; text-decoration-color: #008000\">'scientific_name'</span>: <span style=\"color: #008000; text-decoration-color: #008000\">'Pygoscelis papua'</span>,\n",
              "        <span style=\"color: #008000; text-decoration-color: #008000\">'species'</span>: <span style=\"color: #008000; text-decoration-color: #008000\">'Gentoo'</span>,\n",
              "        <span style=\"color: #008000; text-decoration-color: #008000\">'island'</span>: <span style=\"color: #008000; text-decoration-color: #008000\">'Biscoe'</span>,\n",
              "        <span style=\"color: #008000; text-decoration-color: #008000\">'continent'</span>: <span style=\"color: #008000; text-decoration-color: #008000\">'Antartica'</span>,\n",
              "        <span style=\"color: #008000; text-decoration-color: #008000\">'bill_length_mm'</span>: <span style=\"color: #008080; text-decoration-color: #008080; font-weight: bold\">46.8</span>,\n",
              "        <span style=\"color: #008000; text-decoration-color: #008000\">'bill_depth_mm'</span>: <span style=\"color: #008080; text-decoration-color: #008080; font-weight: bold\">14.3</span>,\n",
              "        <span style=\"color: #008000; text-decoration-color: #008000\">'flipper_length_mm'</span>: <span style=\"color: #008080; text-decoration-color: #008080; font-weight: bold\">215.0</span>,\n",
              "        <span style=\"color: #008000; text-decoration-color: #008000\">'body_mass_g'</span>: <span style=\"color: #008080; text-decoration-color: #008080; font-weight: bold\">4850.0</span>,\n",
              "        <span style=\"color: #008000; text-decoration-color: #008000\">'sex'</span>: <span style=\"color: #008000; text-decoration-color: #008000\">'Female'</span>,\n",
              "        <span style=\"color: #008000; text-decoration-color: #008000\">'recorded_by'</span>: <span style=\"color: #008000; text-decoration-color: #008000\">'Marcus Holmes'</span>\n",
              "    <span style=\"font-weight: bold\">}</span>,\n",
              "    <span style=\"font-weight: bold\">{</span>\n",
              "        <span style=\"color: #008000; text-decoration-color: #008000\">'datetime'</span>: <span style=\"color: #008000; text-decoration-color: #008000\">'10/11/2018 05:09 PM'</span>,\n",
              "        <span style=\"color: #008000; text-decoration-color: #008000\">'scientific_name'</span>: <span style=\"color: #008000; text-decoration-color: #008000\">'Pygoscelis papua'</span>,\n",
              "        <span style=\"color: #008000; text-decoration-color: #008000\">'species'</span>: <span style=\"color: #008000; text-decoration-color: #008000\">'Gentoo'</span>,\n",
              "        <span style=\"color: #008000; text-decoration-color: #008000\">'island'</span>: <span style=\"color: #008000; text-decoration-color: #008000\">'Biscoe'</span>,\n",
              "        <span style=\"color: #008000; text-decoration-color: #008000\">'continent'</span>: <span style=\"color: #008000; text-decoration-color: #008000\">'Antartica'</span>,\n",
              "        <span style=\"color: #008000; text-decoration-color: #008000\">'bill_length_mm'</span>: <span style=\"color: #008080; text-decoration-color: #008080; font-weight: bold\">50.4</span>,\n",
              "        <span style=\"color: #008000; text-decoration-color: #008000\">'bill_depth_mm'</span>: <span style=\"color: #008080; text-decoration-color: #008080; font-weight: bold\">15.7</span>,\n",
              "        <span style=\"color: #008000; text-decoration-color: #008000\">'flipper_length_mm'</span>: <span style=\"color: #008080; text-decoration-color: #008080; font-weight: bold\">222.0</span>,\n",
              "        <span style=\"color: #008000; text-decoration-color: #008000\">'body_mass_g'</span>: <span style=\"color: #008080; text-decoration-color: #008080; font-weight: bold\">5750.0</span>,\n",
              "        <span style=\"color: #008000; text-decoration-color: #008000\">'sex'</span>: <span style=\"color: #008000; text-decoration-color: #008000\">'Male'</span>,\n",
              "        <span style=\"color: #008000; text-decoration-color: #008000\">'recorded_by'</span>: <span style=\"color: #008000; text-decoration-color: #008000\">'Marcus Holmes'</span>\n",
              "    <span style=\"font-weight: bold\">}</span>,\n",
              "    <span style=\"font-weight: bold\">{</span>\n",
              "        <span style=\"color: #008000; text-decoration-color: #008000\">'datetime'</span>: <span style=\"color: #008000; text-decoration-color: #008000\">'05/31/2018 05:14 PM'</span>,\n",
              "        <span style=\"color: #008000; text-decoration-color: #008000\">'scientific_name'</span>: <span style=\"color: #008000; text-decoration-color: #008000\">'Pygoscelis papua'</span>,\n",
              "        <span style=\"color: #008000; text-decoration-color: #008000\">'species'</span>: <span style=\"color: #008000; text-decoration-color: #008000\">'Gentoo'</span>,\n",
              "        <span style=\"color: #008000; text-decoration-color: #008000\">'island'</span>: <span style=\"color: #008000; text-decoration-color: #008000\">'Biscoe'</span>,\n",
              "        <span style=\"color: #008000; text-decoration-color: #008000\">'continent'</span>: <span style=\"color: #008000; text-decoration-color: #008000\">'Antartica'</span>,\n",
              "        <span style=\"color: #008000; text-decoration-color: #008000\">'bill_length_mm'</span>: <span style=\"color: #008080; text-decoration-color: #008080; font-weight: bold\">45.2</span>,\n",
              "        <span style=\"color: #008000; text-decoration-color: #008000\">'bill_depth_mm'</span>: <span style=\"color: #008080; text-decoration-color: #008080; font-weight: bold\">14.8</span>,\n",
              "        <span style=\"color: #008000; text-decoration-color: #008000\">'flipper_length_mm'</span>: <span style=\"color: #008080; text-decoration-color: #008080; font-weight: bold\">212.0</span>,\n",
              "        <span style=\"color: #008000; text-decoration-color: #008000\">'body_mass_g'</span>: <span style=\"color: #008080; text-decoration-color: #008080; font-weight: bold\">5200.0</span>,\n",
              "        <span style=\"color: #008000; text-decoration-color: #008000\">'sex'</span>: <span style=\"color: #008000; text-decoration-color: #008000\">'Female'</span>,\n",
              "        <span style=\"color: #008000; text-decoration-color: #008000\">'recorded_by'</span>: <span style=\"color: #008000; text-decoration-color: #008000\">'Marcus Holmes'</span>\n",
              "    <span style=\"font-weight: bold\">}</span>,\n",
              "    <span style=\"font-weight: bold\">{</span>\n",
              "        <span style=\"color: #008000; text-decoration-color: #008000\">'datetime'</span>: <span style=\"color: #008000; text-decoration-color: #008000\">'02/04/2018 05:25 AM'</span>,\n",
              "        <span style=\"color: #008000; text-decoration-color: #008000\">'scientific_name'</span>: <span style=\"color: #008000; text-decoration-color: #008000\">'Pygoscelis papua'</span>,\n",
              "        <span style=\"color: #008000; text-decoration-color: #008000\">'species'</span>: <span style=\"color: #008000; text-decoration-color: #008000\">'Gentoo'</span>,\n",
              "        <span style=\"color: #008000; text-decoration-color: #008000\">'island'</span>: <span style=\"color: #008000; text-decoration-color: #008000\">'Biscoe'</span>,\n",
              "        <span style=\"color: #008000; text-decoration-color: #008000\">'continent'</span>: <span style=\"color: #008000; text-decoration-color: #008000\">'Antartica'</span>,\n",
              "        <span style=\"color: #008000; text-decoration-color: #008000\">'bill_length_mm'</span>: <span style=\"color: #008080; text-decoration-color: #008080; font-weight: bold\">49.9</span>,\n",
              "        <span style=\"color: #008000; text-decoration-color: #008000\">'bill_depth_mm'</span>: <span style=\"color: #008080; text-decoration-color: #008080; font-weight: bold\">16.1</span>,\n",
              "        <span style=\"color: #008000; text-decoration-color: #008000\">'flipper_length_mm'</span>: <span style=\"color: #008080; text-decoration-color: #008080; font-weight: bold\">213.0</span>,\n",
              "        <span style=\"color: #008000; text-decoration-color: #008000\">'body_mass_g'</span>: <span style=\"color: #008080; text-decoration-color: #008080; font-weight: bold\">5400.0</span>,\n",
              "        <span style=\"color: #008000; text-decoration-color: #008000\">'sex'</span>: <span style=\"color: #008000; text-decoration-color: #008000\">'Male'</span>,\n",
              "        <span style=\"color: #008000; text-decoration-color: #008000\">'recorded_by'</span>: <span style=\"color: #008000; text-decoration-color: #008000\">'Marcus Holmes'</span>\n",
              "    <span style=\"font-weight: bold\">}</span>\n",
              "<span style=\"font-weight: bold\">]</span>\n",
              "</pre>\n"
            ],
            "text/plain": [
              "\u001b[1m[\u001b[0m\n",
              "    \u001b[1m{\u001b[0m\n",
              "        \u001b[32m'datetime'\u001b[0m: \u001b[32m'08/10/2018 04:28 AM'\u001b[0m,\n",
              "        \u001b[32m'scientific_name'\u001b[0m: \u001b[32m'Pygoscelis adeliae'\u001b[0m,\n",
              "        \u001b[32m'species'\u001b[0m: \u001b[32m'Adelie'\u001b[0m,\n",
              "        \u001b[32m'island'\u001b[0m: \u001b[32m'Torgersen'\u001b[0m,\n",
              "        \u001b[32m'continent'\u001b[0m: \u001b[32m'Antartica'\u001b[0m,\n",
              "        \u001b[32m'bill_length_mm'\u001b[0m: \u001b[1;36m39.1\u001b[0m,\n",
              "        \u001b[32m'bill_depth_mm'\u001b[0m: \u001b[1;36m18.7\u001b[0m,\n",
              "        \u001b[32m'flipper_length_mm'\u001b[0m: \u001b[1;36m181.0\u001b[0m,\n",
              "        \u001b[32m'body_mass_g'\u001b[0m: \u001b[1;36m3750.0\u001b[0m,\n",
              "        \u001b[32m'sex'\u001b[0m: \u001b[32m'Male'\u001b[0m,\n",
              "        \u001b[32m'recorded_by'\u001b[0m: \u001b[32m'Marcus Holmes'\u001b[0m\n",
              "    \u001b[1m}\u001b[0m,\n",
              "    \u001b[1m{\u001b[0m\n",
              "        \u001b[32m'datetime'\u001b[0m: \u001b[32m'11/22/2018 10:25 PM'\u001b[0m,\n",
              "        \u001b[32m'scientific_name'\u001b[0m: \u001b[32m'Pygoscelis adeliae'\u001b[0m,\n",
              "        \u001b[32m'species'\u001b[0m: \u001b[32m'Adelie'\u001b[0m,\n",
              "        \u001b[32m'island'\u001b[0m: \u001b[32m'Torgersen'\u001b[0m,\n",
              "        \u001b[32m'continent'\u001b[0m: \u001b[32m'Antartica'\u001b[0m,\n",
              "        \u001b[32m'bill_length_mm'\u001b[0m: \u001b[1;36m39.5\u001b[0m,\n",
              "        \u001b[32m'bill_depth_mm'\u001b[0m: \u001b[1;36m17.4\u001b[0m,\n",
              "        \u001b[32m'flipper_length_mm'\u001b[0m: \u001b[1;36m186.0\u001b[0m,\n",
              "        \u001b[32m'body_mass_g'\u001b[0m: \u001b[1;36m3800.0\u001b[0m,\n",
              "        \u001b[32m'sex'\u001b[0m: \u001b[32m'Female'\u001b[0m,\n",
              "        \u001b[32m'recorded_by'\u001b[0m: \u001b[32m'Marcus Holmes'\u001b[0m\n",
              "    \u001b[1m}\u001b[0m,\n",
              "    \u001b[1m{\u001b[0m\n",
              "        \u001b[32m'datetime'\u001b[0m: \u001b[32m'08/10/2018 06:53 AM'\u001b[0m,\n",
              "        \u001b[32m'scientific_name'\u001b[0m: \u001b[32m'Pygoscelis adeliae'\u001b[0m,\n",
              "        \u001b[32m'species'\u001b[0m: \u001b[32m'Adelie'\u001b[0m,\n",
              "        \u001b[32m'island'\u001b[0m: \u001b[32m'Torgersen'\u001b[0m,\n",
              "        \u001b[32m'continent'\u001b[0m: \u001b[32m'Antartica'\u001b[0m,\n",
              "        \u001b[32m'bill_length_mm'\u001b[0m: \u001b[1;36m40.3\u001b[0m,\n",
              "        \u001b[32m'bill_depth_mm'\u001b[0m: \u001b[1;36m18.0\u001b[0m,\n",
              "        \u001b[32m'flipper_length_mm'\u001b[0m: \u001b[1;36m195.0\u001b[0m,\n",
              "        \u001b[32m'body_mass_g'\u001b[0m: \u001b[1;36m3250.0\u001b[0m,\n",
              "        \u001b[32m'sex'\u001b[0m: \u001b[32m'Female'\u001b[0m,\n",
              "        \u001b[32m'recorded_by'\u001b[0m: \u001b[32m'Marcus Holmes'\u001b[0m\n",
              "    \u001b[1m}\u001b[0m,\n",
              "    \u001b[1m{\u001b[0m\n",
              "        \u001b[32m'datetime'\u001b[0m: \u001b[32m'02/04/2018 06:18 PM'\u001b[0m,\n",
              "        \u001b[32m'scientific_name'\u001b[0m: \u001b[32m'Pygoscelis adeliae'\u001b[0m,\n",
              "        \u001b[32m'species'\u001b[0m: \u001b[32m'Adelie'\u001b[0m,\n",
              "        \u001b[32m'island'\u001b[0m: \u001b[32m'Torgersen'\u001b[0m,\n",
              "        \u001b[32m'continent'\u001b[0m: \u001b[32m'Antartica'\u001b[0m,\n",
              "        \u001b[32m'bill_length_mm'\u001b[0m: \u001b[3;35mNone\u001b[0m,\n",
              "        \u001b[32m'bill_depth_mm'\u001b[0m: \u001b[3;35mNone\u001b[0m,\n",
              "        \u001b[32m'flipper_length_mm'\u001b[0m: \u001b[3;35mNone\u001b[0m,\n",
              "        \u001b[32m'body_mass_g'\u001b[0m: \u001b[3;35mNone\u001b[0m,\n",
              "        \u001b[32m'sex'\u001b[0m: \u001b[3;35mNone\u001b[0m,\n",
              "        \u001b[32m'recorded_by'\u001b[0m: \u001b[32m'Marcus Holmes'\u001b[0m\n",
              "    \u001b[1m}\u001b[0m,\n",
              "    \u001b[1m{\u001b[0m\n",
              "        \u001b[32m'datetime'\u001b[0m: \u001b[32m'10/29/2018 05:47 AM'\u001b[0m,\n",
              "        \u001b[32m'scientific_name'\u001b[0m: \u001b[32m'Pygoscelis papua'\u001b[0m,\n",
              "        \u001b[32m'species'\u001b[0m: \u001b[32m'Gentoo'\u001b[0m,\n",
              "        \u001b[32m'island'\u001b[0m: \u001b[32m'Biscoe'\u001b[0m,\n",
              "        \u001b[32m'continent'\u001b[0m: \u001b[32m'Antartica'\u001b[0m,\n",
              "        \u001b[32m'bill_length_mm'\u001b[0m: \u001b[1;36m46.8\u001b[0m,\n",
              "        \u001b[32m'bill_depth_mm'\u001b[0m: \u001b[1;36m14.3\u001b[0m,\n",
              "        \u001b[32m'flipper_length_mm'\u001b[0m: \u001b[1;36m215.0\u001b[0m,\n",
              "        \u001b[32m'body_mass_g'\u001b[0m: \u001b[1;36m4850.0\u001b[0m,\n",
              "        \u001b[32m'sex'\u001b[0m: \u001b[32m'Female'\u001b[0m,\n",
              "        \u001b[32m'recorded_by'\u001b[0m: \u001b[32m'Marcus Holmes'\u001b[0m\n",
              "    \u001b[1m}\u001b[0m,\n",
              "    \u001b[1m{\u001b[0m\n",
              "        \u001b[32m'datetime'\u001b[0m: \u001b[32m'10/11/2018 05:09 PM'\u001b[0m,\n",
              "        \u001b[32m'scientific_name'\u001b[0m: \u001b[32m'Pygoscelis papua'\u001b[0m,\n",
              "        \u001b[32m'species'\u001b[0m: \u001b[32m'Gentoo'\u001b[0m,\n",
              "        \u001b[32m'island'\u001b[0m: \u001b[32m'Biscoe'\u001b[0m,\n",
              "        \u001b[32m'continent'\u001b[0m: \u001b[32m'Antartica'\u001b[0m,\n",
              "        \u001b[32m'bill_length_mm'\u001b[0m: \u001b[1;36m50.4\u001b[0m,\n",
              "        \u001b[32m'bill_depth_mm'\u001b[0m: \u001b[1;36m15.7\u001b[0m,\n",
              "        \u001b[32m'flipper_length_mm'\u001b[0m: \u001b[1;36m222.0\u001b[0m,\n",
              "        \u001b[32m'body_mass_g'\u001b[0m: \u001b[1;36m5750.0\u001b[0m,\n",
              "        \u001b[32m'sex'\u001b[0m: \u001b[32m'Male'\u001b[0m,\n",
              "        \u001b[32m'recorded_by'\u001b[0m: \u001b[32m'Marcus Holmes'\u001b[0m\n",
              "    \u001b[1m}\u001b[0m,\n",
              "    \u001b[1m{\u001b[0m\n",
              "        \u001b[32m'datetime'\u001b[0m: \u001b[32m'05/31/2018 05:14 PM'\u001b[0m,\n",
              "        \u001b[32m'scientific_name'\u001b[0m: \u001b[32m'Pygoscelis papua'\u001b[0m,\n",
              "        \u001b[32m'species'\u001b[0m: \u001b[32m'Gentoo'\u001b[0m,\n",
              "        \u001b[32m'island'\u001b[0m: \u001b[32m'Biscoe'\u001b[0m,\n",
              "        \u001b[32m'continent'\u001b[0m: \u001b[32m'Antartica'\u001b[0m,\n",
              "        \u001b[32m'bill_length_mm'\u001b[0m: \u001b[1;36m45.2\u001b[0m,\n",
              "        \u001b[32m'bill_depth_mm'\u001b[0m: \u001b[1;36m14.8\u001b[0m,\n",
              "        \u001b[32m'flipper_length_mm'\u001b[0m: \u001b[1;36m212.0\u001b[0m,\n",
              "        \u001b[32m'body_mass_g'\u001b[0m: \u001b[1;36m5200.0\u001b[0m,\n",
              "        \u001b[32m'sex'\u001b[0m: \u001b[32m'Female'\u001b[0m,\n",
              "        \u001b[32m'recorded_by'\u001b[0m: \u001b[32m'Marcus Holmes'\u001b[0m\n",
              "    \u001b[1m}\u001b[0m,\n",
              "    \u001b[1m{\u001b[0m\n",
              "        \u001b[32m'datetime'\u001b[0m: \u001b[32m'02/04/2018 05:25 AM'\u001b[0m,\n",
              "        \u001b[32m'scientific_name'\u001b[0m: \u001b[32m'Pygoscelis papua'\u001b[0m,\n",
              "        \u001b[32m'species'\u001b[0m: \u001b[32m'Gentoo'\u001b[0m,\n",
              "        \u001b[32m'island'\u001b[0m: \u001b[32m'Biscoe'\u001b[0m,\n",
              "        \u001b[32m'continent'\u001b[0m: \u001b[32m'Antartica'\u001b[0m,\n",
              "        \u001b[32m'bill_length_mm'\u001b[0m: \u001b[1;36m49.9\u001b[0m,\n",
              "        \u001b[32m'bill_depth_mm'\u001b[0m: \u001b[1;36m16.1\u001b[0m,\n",
              "        \u001b[32m'flipper_length_mm'\u001b[0m: \u001b[1;36m213.0\u001b[0m,\n",
              "        \u001b[32m'body_mass_g'\u001b[0m: \u001b[1;36m5400.0\u001b[0m,\n",
              "        \u001b[32m'sex'\u001b[0m: \u001b[32m'Male'\u001b[0m,\n",
              "        \u001b[32m'recorded_by'\u001b[0m: \u001b[32m'Marcus Holmes'\u001b[0m\n",
              "    \u001b[1m}\u001b[0m\n",
              "\u001b[1m]\u001b[0m\n"
            ]
          },
          "metadata": {}
        }
      ]
    },
    {
      "cell_type": "code",
      "metadata": {
        "id": "r628ARRQHLEt"
      },
      "source": [
        ""
      ],
      "execution_count": null,
      "outputs": []
    },
    {
      "cell_type": "markdown",
      "metadata": {
        "id": "p4IqkCUQ5jEH"
      },
      "source": [
        "## Try-except-finally"
      ]
    },
    {
      "cell_type": "markdown",
      "metadata": {
        "id": "DbwsPg8JHdmF"
      },
      "source": [
        "* Incluir en cada record la multiplicacion de largo y ancho de pico"
      ]
    },
    {
      "cell_type": "code",
      "metadata": {
        "id": "shlOFQ8-HvGL",
        "outputId": "8b8667f8-e2d9-4598-b350-30ce204bc4e3",
        "colab": {
          "base_uri": "https://localhost:8080/",
          "height": 188
        }
      },
      "source": [
        "for record in records_dict:\n",
        "    record['my_new_feature'] = record['bill_length_mm']*record['bill_depth_mm']"
      ],
      "execution_count": 34,
      "outputs": [
        {
          "output_type": "error",
          "ename": "TypeError",
          "evalue": "ignored",
          "traceback": [
            "\u001b[0;31m---------------------------------------------------------------------------\u001b[0m",
            "\u001b[0;31mTypeError\u001b[0m                                 Traceback (most recent call last)",
            "\u001b[0;32m<ipython-input-34-2a716aaa6431>\u001b[0m in \u001b[0;36m<module>\u001b[0;34m()\u001b[0m\n\u001b[1;32m      1\u001b[0m \u001b[0;32mfor\u001b[0m \u001b[0mrecord\u001b[0m \u001b[0;32min\u001b[0m \u001b[0mrecords_dict\u001b[0m\u001b[0;34m:\u001b[0m\u001b[0;34m\u001b[0m\u001b[0;34m\u001b[0m\u001b[0m\n\u001b[0;32m----> 2\u001b[0;31m     \u001b[0mrecord\u001b[0m\u001b[0;34m[\u001b[0m\u001b[0;34m'my_new_feature'\u001b[0m\u001b[0;34m]\u001b[0m \u001b[0;34m=\u001b[0m \u001b[0mrecord\u001b[0m\u001b[0;34m[\u001b[0m\u001b[0;34m'bill_length_mm'\u001b[0m\u001b[0;34m]\u001b[0m\u001b[0;34m*\u001b[0m\u001b[0mrecord\u001b[0m\u001b[0;34m[\u001b[0m\u001b[0;34m'bill_depth_mm'\u001b[0m\u001b[0;34m]\u001b[0m\u001b[0;34m\u001b[0m\u001b[0;34m\u001b[0m\u001b[0m\n\u001b[0m",
            "\u001b[0;31mTypeError\u001b[0m: unsupported operand type(s) for *: 'NoneType' and 'NoneType'"
          ]
        }
      ]
    },
    {
      "cell_type": "code",
      "metadata": {
        "id": "hd8OVO3WIGKX"
      },
      "source": [
        "for record in records_dict:\n",
        "    try:\n",
        "      record['my_new_feature'] = record['bill_length_mm']*record['bill_depth_mm']\n",
        "    except TypeError:\n",
        "      record['my_new_feature'] = None"
      ],
      "execution_count": 35,
      "outputs": []
    },
    {
      "cell_type": "code",
      "metadata": {
        "id": "Q87M8EjwJBGH",
        "outputId": "8bfb2717-a850-40b7-c87d-f443a5868703",
        "colab": {
          "base_uri": "https://localhost:8080/",
          "height": 1000
        }
      },
      "source": [
        "print(records_dict)"
      ],
      "execution_count": 36,
      "outputs": [
        {
          "output_type": "display_data",
          "data": {
            "text/html": [
              "<pre style=\"white-space:pre;overflow-x:auto;line-height:normal;font-family:Menlo,'DejaVu Sans Mono',consolas,'Courier New',monospace\"><span style=\"font-weight: bold\">[</span>\n",
              "    <span style=\"font-weight: bold\">{</span>\n",
              "        <span style=\"color: #008000; text-decoration-color: #008000\">'datetime'</span>: <span style=\"color: #008000; text-decoration-color: #008000\">'08/10/2018 04:28 AM'</span>,\n",
              "        <span style=\"color: #008000; text-decoration-color: #008000\">'scientific_name'</span>: <span style=\"color: #008000; text-decoration-color: #008000\">'Pygoscelis adeliae'</span>,\n",
              "        <span style=\"color: #008000; text-decoration-color: #008000\">'species'</span>: <span style=\"color: #008000; text-decoration-color: #008000\">'Adelie'</span>,\n",
              "        <span style=\"color: #008000; text-decoration-color: #008000\">'island'</span>: <span style=\"color: #008000; text-decoration-color: #008000\">'Torgersen'</span>,\n",
              "        <span style=\"color: #008000; text-decoration-color: #008000\">'continent'</span>: <span style=\"color: #008000; text-decoration-color: #008000\">'Antartica'</span>,\n",
              "        <span style=\"color: #008000; text-decoration-color: #008000\">'bill_length_mm'</span>: <span style=\"color: #008080; text-decoration-color: #008080; font-weight: bold\">39.1</span>,\n",
              "        <span style=\"color: #008000; text-decoration-color: #008000\">'bill_depth_mm'</span>: <span style=\"color: #008080; text-decoration-color: #008080; font-weight: bold\">18.7</span>,\n",
              "        <span style=\"color: #008000; text-decoration-color: #008000\">'flipper_length_mm'</span>: <span style=\"color: #008080; text-decoration-color: #008080; font-weight: bold\">181.0</span>,\n",
              "        <span style=\"color: #008000; text-decoration-color: #008000\">'body_mass_g'</span>: <span style=\"color: #008080; text-decoration-color: #008080; font-weight: bold\">3750.0</span>,\n",
              "        <span style=\"color: #008000; text-decoration-color: #008000\">'sex'</span>: <span style=\"color: #008000; text-decoration-color: #008000\">'Male'</span>,\n",
              "        <span style=\"color: #008000; text-decoration-color: #008000\">'recorded_by'</span>: <span style=\"color: #008000; text-decoration-color: #008000\">'Marcus Holmes'</span>,\n",
              "        <span style=\"color: #008000; text-decoration-color: #008000\">'my_new_feature'</span>: <span style=\"color: #008080; text-decoration-color: #008080; font-weight: bold\">731.17</span>\n",
              "    <span style=\"font-weight: bold\">}</span>,\n",
              "    <span style=\"font-weight: bold\">{</span>\n",
              "        <span style=\"color: #008000; text-decoration-color: #008000\">'datetime'</span>: <span style=\"color: #008000; text-decoration-color: #008000\">'11/22/2018 10:25 PM'</span>,\n",
              "        <span style=\"color: #008000; text-decoration-color: #008000\">'scientific_name'</span>: <span style=\"color: #008000; text-decoration-color: #008000\">'Pygoscelis adeliae'</span>,\n",
              "        <span style=\"color: #008000; text-decoration-color: #008000\">'species'</span>: <span style=\"color: #008000; text-decoration-color: #008000\">'Adelie'</span>,\n",
              "        <span style=\"color: #008000; text-decoration-color: #008000\">'island'</span>: <span style=\"color: #008000; text-decoration-color: #008000\">'Torgersen'</span>,\n",
              "        <span style=\"color: #008000; text-decoration-color: #008000\">'continent'</span>: <span style=\"color: #008000; text-decoration-color: #008000\">'Antartica'</span>,\n",
              "        <span style=\"color: #008000; text-decoration-color: #008000\">'bill_length_mm'</span>: <span style=\"color: #008080; text-decoration-color: #008080; font-weight: bold\">39.5</span>,\n",
              "        <span style=\"color: #008000; text-decoration-color: #008000\">'bill_depth_mm'</span>: <span style=\"color: #008080; text-decoration-color: #008080; font-weight: bold\">17.4</span>,\n",
              "        <span style=\"color: #008000; text-decoration-color: #008000\">'flipper_length_mm'</span>: <span style=\"color: #008080; text-decoration-color: #008080; font-weight: bold\">186.0</span>,\n",
              "        <span style=\"color: #008000; text-decoration-color: #008000\">'body_mass_g'</span>: <span style=\"color: #008080; text-decoration-color: #008080; font-weight: bold\">3800.0</span>,\n",
              "        <span style=\"color: #008000; text-decoration-color: #008000\">'sex'</span>: <span style=\"color: #008000; text-decoration-color: #008000\">'Female'</span>,\n",
              "        <span style=\"color: #008000; text-decoration-color: #008000\">'recorded_by'</span>: <span style=\"color: #008000; text-decoration-color: #008000\">'Marcus Holmes'</span>,\n",
              "        <span style=\"color: #008000; text-decoration-color: #008000\">'my_new_feature'</span>: <span style=\"color: #008080; text-decoration-color: #008080; font-weight: bold\">687.3</span>\n",
              "    <span style=\"font-weight: bold\">}</span>,\n",
              "    <span style=\"font-weight: bold\">{</span>\n",
              "        <span style=\"color: #008000; text-decoration-color: #008000\">'datetime'</span>: <span style=\"color: #008000; text-decoration-color: #008000\">'08/10/2018 06:53 AM'</span>,\n",
              "        <span style=\"color: #008000; text-decoration-color: #008000\">'scientific_name'</span>: <span style=\"color: #008000; text-decoration-color: #008000\">'Pygoscelis adeliae'</span>,\n",
              "        <span style=\"color: #008000; text-decoration-color: #008000\">'species'</span>: <span style=\"color: #008000; text-decoration-color: #008000\">'Adelie'</span>,\n",
              "        <span style=\"color: #008000; text-decoration-color: #008000\">'island'</span>: <span style=\"color: #008000; text-decoration-color: #008000\">'Torgersen'</span>,\n",
              "        <span style=\"color: #008000; text-decoration-color: #008000\">'continent'</span>: <span style=\"color: #008000; text-decoration-color: #008000\">'Antartica'</span>,\n",
              "        <span style=\"color: #008000; text-decoration-color: #008000\">'bill_length_mm'</span>: <span style=\"color: #008080; text-decoration-color: #008080; font-weight: bold\">40.3</span>,\n",
              "        <span style=\"color: #008000; text-decoration-color: #008000\">'bill_depth_mm'</span>: <span style=\"color: #008080; text-decoration-color: #008080; font-weight: bold\">18.0</span>,\n",
              "        <span style=\"color: #008000; text-decoration-color: #008000\">'flipper_length_mm'</span>: <span style=\"color: #008080; text-decoration-color: #008080; font-weight: bold\">195.0</span>,\n",
              "        <span style=\"color: #008000; text-decoration-color: #008000\">'body_mass_g'</span>: <span style=\"color: #008080; text-decoration-color: #008080; font-weight: bold\">3250.0</span>,\n",
              "        <span style=\"color: #008000; text-decoration-color: #008000\">'sex'</span>: <span style=\"color: #008000; text-decoration-color: #008000\">'Female'</span>,\n",
              "        <span style=\"color: #008000; text-decoration-color: #008000\">'recorded_by'</span>: <span style=\"color: #008000; text-decoration-color: #008000\">'Marcus Holmes'</span>,\n",
              "        <span style=\"color: #008000; text-decoration-color: #008000\">'my_new_feature'</span>: <span style=\"color: #008080; text-decoration-color: #008080; font-weight: bold\">725.4</span>\n",
              "    <span style=\"font-weight: bold\">}</span>,\n",
              "    <span style=\"font-weight: bold\">{</span>\n",
              "        <span style=\"color: #008000; text-decoration-color: #008000\">'datetime'</span>: <span style=\"color: #008000; text-decoration-color: #008000\">'02/04/2018 06:18 PM'</span>,\n",
              "        <span style=\"color: #008000; text-decoration-color: #008000\">'scientific_name'</span>: <span style=\"color: #008000; text-decoration-color: #008000\">'Pygoscelis adeliae'</span>,\n",
              "        <span style=\"color: #008000; text-decoration-color: #008000\">'species'</span>: <span style=\"color: #008000; text-decoration-color: #008000\">'Adelie'</span>,\n",
              "        <span style=\"color: #008000; text-decoration-color: #008000\">'island'</span>: <span style=\"color: #008000; text-decoration-color: #008000\">'Torgersen'</span>,\n",
              "        <span style=\"color: #008000; text-decoration-color: #008000\">'continent'</span>: <span style=\"color: #008000; text-decoration-color: #008000\">'Antartica'</span>,\n",
              "        <span style=\"color: #008000; text-decoration-color: #008000\">'bill_length_mm'</span>: <span style=\"color: #800080; text-decoration-color: #800080; font-style: italic\">None</span>,\n",
              "        <span style=\"color: #008000; text-decoration-color: #008000\">'bill_depth_mm'</span>: <span style=\"color: #800080; text-decoration-color: #800080; font-style: italic\">None</span>,\n",
              "        <span style=\"color: #008000; text-decoration-color: #008000\">'flipper_length_mm'</span>: <span style=\"color: #800080; text-decoration-color: #800080; font-style: italic\">None</span>,\n",
              "        <span style=\"color: #008000; text-decoration-color: #008000\">'body_mass_g'</span>: <span style=\"color: #800080; text-decoration-color: #800080; font-style: italic\">None</span>,\n",
              "        <span style=\"color: #008000; text-decoration-color: #008000\">'sex'</span>: <span style=\"color: #800080; text-decoration-color: #800080; font-style: italic\">None</span>,\n",
              "        <span style=\"color: #008000; text-decoration-color: #008000\">'recorded_by'</span>: <span style=\"color: #008000; text-decoration-color: #008000\">'Marcus Holmes'</span>,\n",
              "        <span style=\"color: #008000; text-decoration-color: #008000\">'my_new_feature'</span>: <span style=\"color: #800080; text-decoration-color: #800080; font-style: italic\">None</span>\n",
              "    <span style=\"font-weight: bold\">}</span>,\n",
              "    <span style=\"font-weight: bold\">{</span>\n",
              "        <span style=\"color: #008000; text-decoration-color: #008000\">'datetime'</span>: <span style=\"color: #008000; text-decoration-color: #008000\">'10/29/2018 05:47 AM'</span>,\n",
              "        <span style=\"color: #008000; text-decoration-color: #008000\">'scientific_name'</span>: <span style=\"color: #008000; text-decoration-color: #008000\">'Pygoscelis papua'</span>,\n",
              "        <span style=\"color: #008000; text-decoration-color: #008000\">'species'</span>: <span style=\"color: #008000; text-decoration-color: #008000\">'Gentoo'</span>,\n",
              "        <span style=\"color: #008000; text-decoration-color: #008000\">'island'</span>: <span style=\"color: #008000; text-decoration-color: #008000\">'Biscoe'</span>,\n",
              "        <span style=\"color: #008000; text-decoration-color: #008000\">'continent'</span>: <span style=\"color: #008000; text-decoration-color: #008000\">'Antartica'</span>,\n",
              "        <span style=\"color: #008000; text-decoration-color: #008000\">'bill_length_mm'</span>: <span style=\"color: #008080; text-decoration-color: #008080; font-weight: bold\">46.8</span>,\n",
              "        <span style=\"color: #008000; text-decoration-color: #008000\">'bill_depth_mm'</span>: <span style=\"color: #008080; text-decoration-color: #008080; font-weight: bold\">14.3</span>,\n",
              "        <span style=\"color: #008000; text-decoration-color: #008000\">'flipper_length_mm'</span>: <span style=\"color: #008080; text-decoration-color: #008080; font-weight: bold\">215.0</span>,\n",
              "        <span style=\"color: #008000; text-decoration-color: #008000\">'body_mass_g'</span>: <span style=\"color: #008080; text-decoration-color: #008080; font-weight: bold\">4850.0</span>,\n",
              "        <span style=\"color: #008000; text-decoration-color: #008000\">'sex'</span>: <span style=\"color: #008000; text-decoration-color: #008000\">'Female'</span>,\n",
              "        <span style=\"color: #008000; text-decoration-color: #008000\">'recorded_by'</span>: <span style=\"color: #008000; text-decoration-color: #008000\">'Marcus Holmes'</span>,\n",
              "        <span style=\"color: #008000; text-decoration-color: #008000\">'my_new_feature'</span>: <span style=\"color: #008080; text-decoration-color: #008080; font-weight: bold\">669.24</span>\n",
              "    <span style=\"font-weight: bold\">}</span>,\n",
              "    <span style=\"font-weight: bold\">{</span>\n",
              "        <span style=\"color: #008000; text-decoration-color: #008000\">'datetime'</span>: <span style=\"color: #008000; text-decoration-color: #008000\">'10/11/2018 05:09 PM'</span>,\n",
              "        <span style=\"color: #008000; text-decoration-color: #008000\">'scientific_name'</span>: <span style=\"color: #008000; text-decoration-color: #008000\">'Pygoscelis papua'</span>,\n",
              "        <span style=\"color: #008000; text-decoration-color: #008000\">'species'</span>: <span style=\"color: #008000; text-decoration-color: #008000\">'Gentoo'</span>,\n",
              "        <span style=\"color: #008000; text-decoration-color: #008000\">'island'</span>: <span style=\"color: #008000; text-decoration-color: #008000\">'Biscoe'</span>,\n",
              "        <span style=\"color: #008000; text-decoration-color: #008000\">'continent'</span>: <span style=\"color: #008000; text-decoration-color: #008000\">'Antartica'</span>,\n",
              "        <span style=\"color: #008000; text-decoration-color: #008000\">'bill_length_mm'</span>: <span style=\"color: #008080; text-decoration-color: #008080; font-weight: bold\">50.4</span>,\n",
              "        <span style=\"color: #008000; text-decoration-color: #008000\">'bill_depth_mm'</span>: <span style=\"color: #008080; text-decoration-color: #008080; font-weight: bold\">15.7</span>,\n",
              "        <span style=\"color: #008000; text-decoration-color: #008000\">'flipper_length_mm'</span>: <span style=\"color: #008080; text-decoration-color: #008080; font-weight: bold\">222.0</span>,\n",
              "        <span style=\"color: #008000; text-decoration-color: #008000\">'body_mass_g'</span>: <span style=\"color: #008080; text-decoration-color: #008080; font-weight: bold\">5750.0</span>,\n",
              "        <span style=\"color: #008000; text-decoration-color: #008000\">'sex'</span>: <span style=\"color: #008000; text-decoration-color: #008000\">'Male'</span>,\n",
              "        <span style=\"color: #008000; text-decoration-color: #008000\">'recorded_by'</span>: <span style=\"color: #008000; text-decoration-color: #008000\">'Marcus Holmes'</span>,\n",
              "        <span style=\"color: #008000; text-decoration-color: #008000\">'my_new_feature'</span>: <span style=\"color: #008080; text-decoration-color: #008080; font-weight: bold\">791.28</span>\n",
              "    <span style=\"font-weight: bold\">}</span>,\n",
              "    <span style=\"font-weight: bold\">{</span>\n",
              "        <span style=\"color: #008000; text-decoration-color: #008000\">'datetime'</span>: <span style=\"color: #008000; text-decoration-color: #008000\">'05/31/2018 05:14 PM'</span>,\n",
              "        <span style=\"color: #008000; text-decoration-color: #008000\">'scientific_name'</span>: <span style=\"color: #008000; text-decoration-color: #008000\">'Pygoscelis papua'</span>,\n",
              "        <span style=\"color: #008000; text-decoration-color: #008000\">'species'</span>: <span style=\"color: #008000; text-decoration-color: #008000\">'Gentoo'</span>,\n",
              "        <span style=\"color: #008000; text-decoration-color: #008000\">'island'</span>: <span style=\"color: #008000; text-decoration-color: #008000\">'Biscoe'</span>,\n",
              "        <span style=\"color: #008000; text-decoration-color: #008000\">'continent'</span>: <span style=\"color: #008000; text-decoration-color: #008000\">'Antartica'</span>,\n",
              "        <span style=\"color: #008000; text-decoration-color: #008000\">'bill_length_mm'</span>: <span style=\"color: #008080; text-decoration-color: #008080; font-weight: bold\">45.2</span>,\n",
              "        <span style=\"color: #008000; text-decoration-color: #008000\">'bill_depth_mm'</span>: <span style=\"color: #008080; text-decoration-color: #008080; font-weight: bold\">14.8</span>,\n",
              "        <span style=\"color: #008000; text-decoration-color: #008000\">'flipper_length_mm'</span>: <span style=\"color: #008080; text-decoration-color: #008080; font-weight: bold\">212.0</span>,\n",
              "        <span style=\"color: #008000; text-decoration-color: #008000\">'body_mass_g'</span>: <span style=\"color: #008080; text-decoration-color: #008080; font-weight: bold\">5200.0</span>,\n",
              "        <span style=\"color: #008000; text-decoration-color: #008000\">'sex'</span>: <span style=\"color: #008000; text-decoration-color: #008000\">'Female'</span>,\n",
              "        <span style=\"color: #008000; text-decoration-color: #008000\">'recorded_by'</span>: <span style=\"color: #008000; text-decoration-color: #008000\">'Marcus Holmes'</span>,\n",
              "        <span style=\"color: #008000; text-decoration-color: #008000\">'my_new_feature'</span>: <span style=\"color: #008080; text-decoration-color: #008080; font-weight: bold\">668.96</span>\n",
              "    <span style=\"font-weight: bold\">}</span>,\n",
              "    <span style=\"font-weight: bold\">{</span>\n",
              "        <span style=\"color: #008000; text-decoration-color: #008000\">'datetime'</span>: <span style=\"color: #008000; text-decoration-color: #008000\">'02/04/2018 05:25 AM'</span>,\n",
              "        <span style=\"color: #008000; text-decoration-color: #008000\">'scientific_name'</span>: <span style=\"color: #008000; text-decoration-color: #008000\">'Pygoscelis papua'</span>,\n",
              "        <span style=\"color: #008000; text-decoration-color: #008000\">'species'</span>: <span style=\"color: #008000; text-decoration-color: #008000\">'Gentoo'</span>,\n",
              "        <span style=\"color: #008000; text-decoration-color: #008000\">'island'</span>: <span style=\"color: #008000; text-decoration-color: #008000\">'Biscoe'</span>,\n",
              "        <span style=\"color: #008000; text-decoration-color: #008000\">'continent'</span>: <span style=\"color: #008000; text-decoration-color: #008000\">'Antartica'</span>,\n",
              "        <span style=\"color: #008000; text-decoration-color: #008000\">'bill_length_mm'</span>: <span style=\"color: #008080; text-decoration-color: #008080; font-weight: bold\">49.9</span>,\n",
              "        <span style=\"color: #008000; text-decoration-color: #008000\">'bill_depth_mm'</span>: <span style=\"color: #008080; text-decoration-color: #008080; font-weight: bold\">16.1</span>,\n",
              "        <span style=\"color: #008000; text-decoration-color: #008000\">'flipper_length_mm'</span>: <span style=\"color: #008080; text-decoration-color: #008080; font-weight: bold\">213.0</span>,\n",
              "        <span style=\"color: #008000; text-decoration-color: #008000\">'body_mass_g'</span>: <span style=\"color: #008080; text-decoration-color: #008080; font-weight: bold\">5400.0</span>,\n",
              "        <span style=\"color: #008000; text-decoration-color: #008000\">'sex'</span>: <span style=\"color: #008000; text-decoration-color: #008000\">'Male'</span>,\n",
              "        <span style=\"color: #008000; text-decoration-color: #008000\">'recorded_by'</span>: <span style=\"color: #008000; text-decoration-color: #008000\">'Marcus Holmes'</span>,\n",
              "        <span style=\"color: #008000; text-decoration-color: #008000\">'my_new_feature'</span>: <span style=\"color: #008080; text-decoration-color: #008080; font-weight: bold\">803.3900000000001</span>\n",
              "    <span style=\"font-weight: bold\">}</span>\n",
              "<span style=\"font-weight: bold\">]</span>\n",
              "</pre>\n"
            ],
            "text/plain": [
              "\u001b[1m[\u001b[0m\n",
              "    \u001b[1m{\u001b[0m\n",
              "        \u001b[32m'datetime'\u001b[0m: \u001b[32m'08/10/2018 04:28 AM'\u001b[0m,\n",
              "        \u001b[32m'scientific_name'\u001b[0m: \u001b[32m'Pygoscelis adeliae'\u001b[0m,\n",
              "        \u001b[32m'species'\u001b[0m: \u001b[32m'Adelie'\u001b[0m,\n",
              "        \u001b[32m'island'\u001b[0m: \u001b[32m'Torgersen'\u001b[0m,\n",
              "        \u001b[32m'continent'\u001b[0m: \u001b[32m'Antartica'\u001b[0m,\n",
              "        \u001b[32m'bill_length_mm'\u001b[0m: \u001b[1;36m39.1\u001b[0m,\n",
              "        \u001b[32m'bill_depth_mm'\u001b[0m: \u001b[1;36m18.7\u001b[0m,\n",
              "        \u001b[32m'flipper_length_mm'\u001b[0m: \u001b[1;36m181.0\u001b[0m,\n",
              "        \u001b[32m'body_mass_g'\u001b[0m: \u001b[1;36m3750.0\u001b[0m,\n",
              "        \u001b[32m'sex'\u001b[0m: \u001b[32m'Male'\u001b[0m,\n",
              "        \u001b[32m'recorded_by'\u001b[0m: \u001b[32m'Marcus Holmes'\u001b[0m,\n",
              "        \u001b[32m'my_new_feature'\u001b[0m: \u001b[1;36m731.17\u001b[0m\n",
              "    \u001b[1m}\u001b[0m,\n",
              "    \u001b[1m{\u001b[0m\n",
              "        \u001b[32m'datetime'\u001b[0m: \u001b[32m'11/22/2018 10:25 PM'\u001b[0m,\n",
              "        \u001b[32m'scientific_name'\u001b[0m: \u001b[32m'Pygoscelis adeliae'\u001b[0m,\n",
              "        \u001b[32m'species'\u001b[0m: \u001b[32m'Adelie'\u001b[0m,\n",
              "        \u001b[32m'island'\u001b[0m: \u001b[32m'Torgersen'\u001b[0m,\n",
              "        \u001b[32m'continent'\u001b[0m: \u001b[32m'Antartica'\u001b[0m,\n",
              "        \u001b[32m'bill_length_mm'\u001b[0m: \u001b[1;36m39.5\u001b[0m,\n",
              "        \u001b[32m'bill_depth_mm'\u001b[0m: \u001b[1;36m17.4\u001b[0m,\n",
              "        \u001b[32m'flipper_length_mm'\u001b[0m: \u001b[1;36m186.0\u001b[0m,\n",
              "        \u001b[32m'body_mass_g'\u001b[0m: \u001b[1;36m3800.0\u001b[0m,\n",
              "        \u001b[32m'sex'\u001b[0m: \u001b[32m'Female'\u001b[0m,\n",
              "        \u001b[32m'recorded_by'\u001b[0m: \u001b[32m'Marcus Holmes'\u001b[0m,\n",
              "        \u001b[32m'my_new_feature'\u001b[0m: \u001b[1;36m687.3\u001b[0m\n",
              "    \u001b[1m}\u001b[0m,\n",
              "    \u001b[1m{\u001b[0m\n",
              "        \u001b[32m'datetime'\u001b[0m: \u001b[32m'08/10/2018 06:53 AM'\u001b[0m,\n",
              "        \u001b[32m'scientific_name'\u001b[0m: \u001b[32m'Pygoscelis adeliae'\u001b[0m,\n",
              "        \u001b[32m'species'\u001b[0m: \u001b[32m'Adelie'\u001b[0m,\n",
              "        \u001b[32m'island'\u001b[0m: \u001b[32m'Torgersen'\u001b[0m,\n",
              "        \u001b[32m'continent'\u001b[0m: \u001b[32m'Antartica'\u001b[0m,\n",
              "        \u001b[32m'bill_length_mm'\u001b[0m: \u001b[1;36m40.3\u001b[0m,\n",
              "        \u001b[32m'bill_depth_mm'\u001b[0m: \u001b[1;36m18.0\u001b[0m,\n",
              "        \u001b[32m'flipper_length_mm'\u001b[0m: \u001b[1;36m195.0\u001b[0m,\n",
              "        \u001b[32m'body_mass_g'\u001b[0m: \u001b[1;36m3250.0\u001b[0m,\n",
              "        \u001b[32m'sex'\u001b[0m: \u001b[32m'Female'\u001b[0m,\n",
              "        \u001b[32m'recorded_by'\u001b[0m: \u001b[32m'Marcus Holmes'\u001b[0m,\n",
              "        \u001b[32m'my_new_feature'\u001b[0m: \u001b[1;36m725.4\u001b[0m\n",
              "    \u001b[1m}\u001b[0m,\n",
              "    \u001b[1m{\u001b[0m\n",
              "        \u001b[32m'datetime'\u001b[0m: \u001b[32m'02/04/2018 06:18 PM'\u001b[0m,\n",
              "        \u001b[32m'scientific_name'\u001b[0m: \u001b[32m'Pygoscelis adeliae'\u001b[0m,\n",
              "        \u001b[32m'species'\u001b[0m: \u001b[32m'Adelie'\u001b[0m,\n",
              "        \u001b[32m'island'\u001b[0m: \u001b[32m'Torgersen'\u001b[0m,\n",
              "        \u001b[32m'continent'\u001b[0m: \u001b[32m'Antartica'\u001b[0m,\n",
              "        \u001b[32m'bill_length_mm'\u001b[0m: \u001b[3;35mNone\u001b[0m,\n",
              "        \u001b[32m'bill_depth_mm'\u001b[0m: \u001b[3;35mNone\u001b[0m,\n",
              "        \u001b[32m'flipper_length_mm'\u001b[0m: \u001b[3;35mNone\u001b[0m,\n",
              "        \u001b[32m'body_mass_g'\u001b[0m: \u001b[3;35mNone\u001b[0m,\n",
              "        \u001b[32m'sex'\u001b[0m: \u001b[3;35mNone\u001b[0m,\n",
              "        \u001b[32m'recorded_by'\u001b[0m: \u001b[32m'Marcus Holmes'\u001b[0m,\n",
              "        \u001b[32m'my_new_feature'\u001b[0m: \u001b[3;35mNone\u001b[0m\n",
              "    \u001b[1m}\u001b[0m,\n",
              "    \u001b[1m{\u001b[0m\n",
              "        \u001b[32m'datetime'\u001b[0m: \u001b[32m'10/29/2018 05:47 AM'\u001b[0m,\n",
              "        \u001b[32m'scientific_name'\u001b[0m: \u001b[32m'Pygoscelis papua'\u001b[0m,\n",
              "        \u001b[32m'species'\u001b[0m: \u001b[32m'Gentoo'\u001b[0m,\n",
              "        \u001b[32m'island'\u001b[0m: \u001b[32m'Biscoe'\u001b[0m,\n",
              "        \u001b[32m'continent'\u001b[0m: \u001b[32m'Antartica'\u001b[0m,\n",
              "        \u001b[32m'bill_length_mm'\u001b[0m: \u001b[1;36m46.8\u001b[0m,\n",
              "        \u001b[32m'bill_depth_mm'\u001b[0m: \u001b[1;36m14.3\u001b[0m,\n",
              "        \u001b[32m'flipper_length_mm'\u001b[0m: \u001b[1;36m215.0\u001b[0m,\n",
              "        \u001b[32m'body_mass_g'\u001b[0m: \u001b[1;36m4850.0\u001b[0m,\n",
              "        \u001b[32m'sex'\u001b[0m: \u001b[32m'Female'\u001b[0m,\n",
              "        \u001b[32m'recorded_by'\u001b[0m: \u001b[32m'Marcus Holmes'\u001b[0m,\n",
              "        \u001b[32m'my_new_feature'\u001b[0m: \u001b[1;36m669.24\u001b[0m\n",
              "    \u001b[1m}\u001b[0m,\n",
              "    \u001b[1m{\u001b[0m\n",
              "        \u001b[32m'datetime'\u001b[0m: \u001b[32m'10/11/2018 05:09 PM'\u001b[0m,\n",
              "        \u001b[32m'scientific_name'\u001b[0m: \u001b[32m'Pygoscelis papua'\u001b[0m,\n",
              "        \u001b[32m'species'\u001b[0m: \u001b[32m'Gentoo'\u001b[0m,\n",
              "        \u001b[32m'island'\u001b[0m: \u001b[32m'Biscoe'\u001b[0m,\n",
              "        \u001b[32m'continent'\u001b[0m: \u001b[32m'Antartica'\u001b[0m,\n",
              "        \u001b[32m'bill_length_mm'\u001b[0m: \u001b[1;36m50.4\u001b[0m,\n",
              "        \u001b[32m'bill_depth_mm'\u001b[0m: \u001b[1;36m15.7\u001b[0m,\n",
              "        \u001b[32m'flipper_length_mm'\u001b[0m: \u001b[1;36m222.0\u001b[0m,\n",
              "        \u001b[32m'body_mass_g'\u001b[0m: \u001b[1;36m5750.0\u001b[0m,\n",
              "        \u001b[32m'sex'\u001b[0m: \u001b[32m'Male'\u001b[0m,\n",
              "        \u001b[32m'recorded_by'\u001b[0m: \u001b[32m'Marcus Holmes'\u001b[0m,\n",
              "        \u001b[32m'my_new_feature'\u001b[0m: \u001b[1;36m791.28\u001b[0m\n",
              "    \u001b[1m}\u001b[0m,\n",
              "    \u001b[1m{\u001b[0m\n",
              "        \u001b[32m'datetime'\u001b[0m: \u001b[32m'05/31/2018 05:14 PM'\u001b[0m,\n",
              "        \u001b[32m'scientific_name'\u001b[0m: \u001b[32m'Pygoscelis papua'\u001b[0m,\n",
              "        \u001b[32m'species'\u001b[0m: \u001b[32m'Gentoo'\u001b[0m,\n",
              "        \u001b[32m'island'\u001b[0m: \u001b[32m'Biscoe'\u001b[0m,\n",
              "        \u001b[32m'continent'\u001b[0m: \u001b[32m'Antartica'\u001b[0m,\n",
              "        \u001b[32m'bill_length_mm'\u001b[0m: \u001b[1;36m45.2\u001b[0m,\n",
              "        \u001b[32m'bill_depth_mm'\u001b[0m: \u001b[1;36m14.8\u001b[0m,\n",
              "        \u001b[32m'flipper_length_mm'\u001b[0m: \u001b[1;36m212.0\u001b[0m,\n",
              "        \u001b[32m'body_mass_g'\u001b[0m: \u001b[1;36m5200.0\u001b[0m,\n",
              "        \u001b[32m'sex'\u001b[0m: \u001b[32m'Female'\u001b[0m,\n",
              "        \u001b[32m'recorded_by'\u001b[0m: \u001b[32m'Marcus Holmes'\u001b[0m,\n",
              "        \u001b[32m'my_new_feature'\u001b[0m: \u001b[1;36m668.96\u001b[0m\n",
              "    \u001b[1m}\u001b[0m,\n",
              "    \u001b[1m{\u001b[0m\n",
              "        \u001b[32m'datetime'\u001b[0m: \u001b[32m'02/04/2018 05:25 AM'\u001b[0m,\n",
              "        \u001b[32m'scientific_name'\u001b[0m: \u001b[32m'Pygoscelis papua'\u001b[0m,\n",
              "        \u001b[32m'species'\u001b[0m: \u001b[32m'Gentoo'\u001b[0m,\n",
              "        \u001b[32m'island'\u001b[0m: \u001b[32m'Biscoe'\u001b[0m,\n",
              "        \u001b[32m'continent'\u001b[0m: \u001b[32m'Antartica'\u001b[0m,\n",
              "        \u001b[32m'bill_length_mm'\u001b[0m: \u001b[1;36m49.9\u001b[0m,\n",
              "        \u001b[32m'bill_depth_mm'\u001b[0m: \u001b[1;36m16.1\u001b[0m,\n",
              "        \u001b[32m'flipper_length_mm'\u001b[0m: \u001b[1;36m213.0\u001b[0m,\n",
              "        \u001b[32m'body_mass_g'\u001b[0m: \u001b[1;36m5400.0\u001b[0m,\n",
              "        \u001b[32m'sex'\u001b[0m: \u001b[32m'Male'\u001b[0m,\n",
              "        \u001b[32m'recorded_by'\u001b[0m: \u001b[32m'Marcus Holmes'\u001b[0m,\n",
              "        \u001b[32m'my_new_feature'\u001b[0m: \u001b[1;36m803.3900000000001\u001b[0m\n",
              "    \u001b[1m}\u001b[0m\n",
              "\u001b[1m]\u001b[0m\n"
            ]
          },
          "metadata": {}
        }
      ]
    }
  ]
}