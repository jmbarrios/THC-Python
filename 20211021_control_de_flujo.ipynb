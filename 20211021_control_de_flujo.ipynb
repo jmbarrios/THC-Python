{
  "nbformat": 4,
  "nbformat_minor": 0,
  "metadata": {
    "colab": {
      "name": "20211021-control-de-flujo.ipynb",
      "provenance": [],
      "authorship_tag": "ABX9TyN7NqUMT2ldRyJKaV9ez+mi",
      "include_colab_link": true
    },
    "kernelspec": {
      "name": "python3",
      "display_name": "Python 3"
    },
    "language_info": {
      "name": "python"
    }
  },
  "cells": [
    {
      "cell_type": "markdown",
      "metadata": {
        "id": "view-in-github",
        "colab_type": "text"
      },
      "source": [
        "<a href=\"https://colab.research.google.com/github/jmbarrios/THC-Python/blob/main/20211021_control_de_flujo.ipynb\" target=\"_parent\"><img src=\"https://colab.research.google.com/assets/colab-badge.svg\" alt=\"Open In Colab\"/></a>"
      ]
    },
    {
      "cell_type": "markdown",
      "metadata": {
        "id": "H2MedxBjrz4N"
      },
      "source": [
        "# Instalación de paquetes"
      ]
    },
    {
      "cell_type": "code",
      "metadata": {
        "colab": {
          "base_uri": "https://localhost:8080/"
        },
        "id": "KeW0Rk5mr6VN",
        "outputId": "1d399972-0e77-486d-d9ee-359d4b97b049"
      },
      "source": [
        "!pip install rich"
      ],
      "execution_count": 3,
      "outputs": [
        {
          "output_type": "stream",
          "name": "stdout",
          "text": [
            "Requirement already satisfied: rich in /usr/local/lib/python3.7/dist-packages (10.12.0)\n",
            "Requirement already satisfied: colorama<0.5.0,>=0.4.0 in /usr/local/lib/python3.7/dist-packages (from rich) (0.4.4)\n",
            "Requirement already satisfied: typing-extensions<4.0.0,>=3.7.4 in /usr/local/lib/python3.7/dist-packages (from rich) (3.7.4.3)\n",
            "Requirement already satisfied: commonmark<0.10.0,>=0.9.0 in /usr/local/lib/python3.7/dist-packages (from rich) (0.9.1)\n",
            "Requirement already satisfied: pygments<3.0.0,>=2.6.0 in /usr/local/lib/python3.7/dist-packages (from rich) (2.6.1)\n"
          ]
        }
      ]
    },
    {
      "cell_type": "markdown",
      "metadata": {
        "id": "XpXc9CSqr_aX"
      },
      "source": [
        "# Importación de bibliotecas\n"
      ]
    },
    {
      "cell_type": "code",
      "metadata": {
        "id": "W0P0iPVlsP_Q"
      },
      "source": [
        "from rich import (print,\n",
        "                  inspect)"
      ],
      "execution_count": 4,
      "outputs": []
    },
    {
      "cell_type": "markdown",
      "metadata": {
        "id": "Y4t_rUJjsZO2"
      },
      "source": [
        "# Recordando la historia\n",
        "\n",
        "Nuestra heroína **Janet** tratará de resolver el problema que le planteo **Karime**, ver si es posible decir si los pingüinos Gentoo y los Adelie compiten por recursos. \n",
        "Para esto Janet iba a analizar los horarios de alimentación de los pingüinos, los cuales los podía inferir de cuando habían tomado las muestras."
      ]
    },
    {
      "cell_type": "code",
      "metadata": {
        "id": "C9dEV0Q2yKEl"
      },
      "source": [
        "records_w_date = [\n",
        "    ['08/10/2018 04:28 AM', 'Pygoscelis adeliae', 'Adelie', 'Torgersen', 'Antartica', 39.1, 18.7, 181.0, 3750.0, 'Male', 'Marcus Holmes'], \n",
        "    ['11/22/2018 10:25 PM', 'Pygoscelis adeliae', 'Adelie', 'Torgersen', 'Antartica', 39.5, 17.4, 186.0, 3800.0, 'Female', 'Marcus Holmes'], \n",
        "    ['08/10/2018 06:53 AM', 'Pygoscelis adeliae', 'Adelie', 'Torgersen', 'Antartica', 40.3, 18.0, 195.0, 3250.0, 'Female', 'Marcus Holmes'], \n",
        "    ['02/04/2018 06:18 PM', 'Pygoscelis adeliae', 'Adelie', 'Torgersen', 'Antartica', None, None, None, None, None, 'Marcus Holmes'], \n",
        "    ['10/29/2018 05:47 AM', 'Pygoscelis papua', 'Gentoo', 'Biscoe', 'Antartica', 46.8, 14.3, 215.0, 4850.0, 'Female', 'Marcus Holmes'], \n",
        "    ['10/11/2018 05:09 PM', 'Pygoscelis papua', 'Gentoo', 'Biscoe', 'Antartica', 50.4, 15.7, 222.0, 5750.0, 'Male', 'Marcus Holmes'], \n",
        "    ['05/31/2018 05:14 PM', 'Pygoscelis papua', 'Gentoo', 'Biscoe', 'Antartica', 45.2, 14.8, 212.0, 5200.0, 'Female', 'Marcus Holmes'], \n",
        "    ['02/04/2018 05:25 AM', 'Pygoscelis papua', 'Gentoo', 'Biscoe', 'Antartica', 49.9, 16.1, 213.0, 5400.0, 'Male', 'Marcus Holmes']\n",
        "]\n",
        "\n",
        "col_names = ['datetime', 'scientific_name', 'species', 'island', 'continent', 'bill_length_mm', 'bill_depth_mm', 'flipper_length_mm', 'body_mass_g', 'sex', 'recorded_by']"
      ],
      "execution_count": null,
      "outputs": []
    },
    {
      "cell_type": "markdown",
      "metadata": {
        "id": "rA8IUzV04A_U"
      },
      "source": [
        "# Control de flujo"
      ]
    },
    {
      "cell_type": "markdown",
      "metadata": {
        "id": "x3BByS2e5dy2"
      },
      "source": [
        "## If"
      ]
    },
    {
      "cell_type": "markdown",
      "metadata": {
        "id": "SiHtySqm7Mxd"
      },
      "source": [
        "![img-if](https://raw.githubusercontent.com/jmbarrios/THC-Python/main/imgs/Screenshot%20from%202021-10-18%2023-18-40.png)"
      ]
    },
    {
      "cell_type": "markdown",
      "metadata": {
        "id": "8T6dlOcj5gXJ"
      },
      "source": [
        "## For"
      ]
    },
    {
      "cell_type": "markdown",
      "metadata": {
        "id": "LsvldN2u7Uge"
      },
      "source": [
        "![img-for](https://raw.githubusercontent.com/jmbarrios/THC-Python/main/imgs/Screenshot%20from%202021-10-20%2022-29-23.png)"
      ]
    },
    {
      "cell_type": "markdown",
      "metadata": {
        "id": "p4IqkCUQ5jEH"
      },
      "source": [
        "## Try-except-finally"
      ]
    }
  ]
}