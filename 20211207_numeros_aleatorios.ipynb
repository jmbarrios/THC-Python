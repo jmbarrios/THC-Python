{
  "nbformat": 4,
  "nbformat_minor": 0,
  "metadata": {
    "colab": {
      "name": "20211207-numeros_aleatorios.ipynb",
      "provenance": [],
      "authorship_tag": "ABX9TyO2KBCMM1lDzXTWWxP1D7dI"
    },
    "kernelspec": {
      "name": "python3",
      "display_name": "Python 3"
    },
    "language_info": {
      "name": "python"
    }
  },
  "cells": [
    {
      "cell_type": "markdown",
      "metadata": {
        "id": "cmO1vXf9Etem"
      },
      "source": [
        "# ¿Cómo calcular $\\pi$?\n",
        "\n",
        "![calculo pi](https://raw.githubusercontent.com/jmbarrios/THC-Python/07195075ebcb12351150a3440c58e2c99f6328d0/imgs/pi.png)\n",
        "\n",
        "Una manera de calcular el valor de $\\pi$ es usando el Método Monte Carlo. Para esto se debe de hacer lo siguiente:\n",
        "\n",
        "* Generar $n$ números aleatorios en el cuadrado $[0, 1]\\times[0, 1]$. \n",
        "* Calcular el cociente entre el número de puntos que caen dentro del cuarto del círculo de radio 1 y $n$.\n",
        "* A este cociente multiplicarlo 4 y esa será una aproximación a $\\pi$.\n",
        "\n"
      ]
    },
    {
      "cell_type": "code",
      "metadata": {
        "cellView": "form",
        "id": "XPH2a03DVIts"
      },
      "source": [
        "#@title Grafica de Monte Carlo Pi\n",
        "\n",
        "import numpy as np\n",
        "from numpy.random import default_rng\n",
        "import matplotlib.pyplot as plt\n",
        "\n",
        "# Generación de datos\n",
        "x = np.linspace(0, 1)\n",
        "y = np.sqrt(1-x**2)\n",
        "\n",
        "rng = default_rng(12345)\n",
        "sample = rng.random(500).reshape(-1, 2)\n",
        "rho = np.sqrt(np.sum(sample**2, axis=1))\n",
        "\n",
        "# Graficación\n",
        "plt.figure(figsize=(10, 10))\n",
        "\n",
        "plt.fill_between(x, 0, 1)\n",
        "plt.fill_between(x, 0, y)\n",
        "\n",
        "plt.scatter(sample[rho > 1, 0], sample[rho > 1, 1], s=80, marker='o', color='r')\n",
        "plt.scatter(sample[rho <= 1, 0], sample[rho <= 1, 1], s=80, marker='o', color='b')\n",
        "\n",
        "plt.axis('square')"
      ],
      "execution_count": null,
      "outputs": []
    },
    {
      "cell_type": "code",
      "metadata": {
        "id": "1FVXI6j1Th6n"
      },
      "source": [
        "import numpy as np\n",
        "from numpy.random import default_rng # rng = Random Number Generator"
      ],
      "execution_count": 1,
      "outputs": []
    },
    {
      "cell_type": "code",
      "metadata": {
        "id": "WQYiqVxdVqIu"
      },
      "source": [
        "generador = default_rng(12345)"
      ],
      "execution_count": 2,
      "outputs": []
    },
    {
      "cell_type": "code",
      "metadata": {
        "id": "XFmFv7FUFkhh",
        "outputId": "9b777f2d-2f49-4af3-d29b-c819ffb0c0cd",
        "colab": {
          "base_uri": "https://localhost:8080/"
        }
      },
      "source": [
        "type(generador)"
      ],
      "execution_count": 3,
      "outputs": [
        {
          "output_type": "execute_result",
          "data": {
            "text/plain": [
              "numpy.random._generator.Generator"
            ]
          },
          "metadata": {},
          "execution_count": 3
        }
      ]
    },
    {
      "cell_type": "code",
      "metadata": {
        "id": "YZNEtzwnFnjU",
        "outputId": "54e4092b-9227-4a51-974c-cb6df705bb8b",
        "colab": {
          "base_uri": "https://localhost:8080/"
        }
      },
      "source": [
        "print(generador.random(10))"
      ],
      "execution_count": 4,
      "outputs": [
        {
          "output_type": "stream",
          "name": "stdout",
          "text": [
            "[0.22733602 0.31675834 0.79736546 0.67625467 0.39110955 0.33281393\n",
            " 0.59830875 0.18673419 0.67275604 0.94180287]\n"
          ]
        }
      ]
    },
    {
      "cell_type": "code",
      "metadata": {
        "id": "T95antAUGSo-",
        "outputId": "55934b2e-a797-49a9-f2a8-77482216b6a4",
        "colab": {
          "base_uri": "https://localhost:8080/"
        }
      },
      "source": [
        "print(generador.random(10))"
      ],
      "execution_count": 5,
      "outputs": [
        {
          "output_type": "stream",
          "name": "stdout",
          "text": [
            "[0.24824571 0.94888115 0.66723745 0.09589794 0.44183967 0.88647992\n",
            " 0.6974535  0.32647286 0.73392816 0.22013496]\n"
          ]
        }
      ]
    },
    {
      "cell_type": "code",
      "metadata": {
        "id": "bQ28qkmcGYUm",
        "outputId": "f3c34804-ce86-4e91-ef60-95dc54aa399a",
        "colab": {
          "base_uri": "https://localhost:8080/"
        }
      },
      "source": [
        "puntos = generador.random(2000) # sera un array con 'shape' (2000,)\n",
        "puntos = puntos.reshape((2, -1)) # array de 'shape' (2, 1000)\n",
        "print(puntos[:5, :5])"
      ],
      "execution_count": 6,
      "outputs": [
        {
          "output_type": "stream",
          "name": "stdout",
          "text": [
            "[[0.08159457 0.1598956  0.34010018 0.46519315 0.26642103]\n",
            " [0.120313   0.35923352 0.76248061 0.58898045 0.36584423]]\n"
          ]
        }
      ]
    },
    {
      "cell_type": "code",
      "metadata": {
        "id": "9k1kEeZsHxNR"
      },
      "source": [
        "import matplotlib.pyplot as plt"
      ],
      "execution_count": 7,
      "outputs": []
    },
    {
      "cell_type": "code",
      "metadata": {
        "id": "x3dzaee2Hzg6",
        "outputId": "87908a7d-dab7-44c1-fe25-719652998b47",
        "colab": {
          "base_uri": "https://localhost:8080/",
          "height": 283
        }
      },
      "source": [
        "plt.scatter(puntos[0, :], puntos[1, :])"
      ],
      "execution_count": 8,
      "outputs": [
        {
          "output_type": "execute_result",
          "data": {
            "text/plain": [
              "<matplotlib.collections.PathCollection at 0x7f24b2f22b10>"
            ]
          },
          "metadata": {},
          "execution_count": 8
        },
        {
          "output_type": "display_data",
          "data": {
            "image/png": "[encoded data removed]",
            "text/plain": [
              "<Figure size 432x288 with 1 Axes>"
            ]
          },
          "metadata": {
            "needs_background": "light"
          }
        }
      ]
    },
    {
      "cell_type": "code",
      "metadata": {
        "id": "x69EF9k0H92F",
        "outputId": "cf0280b8-5b98-4d6a-cd95-5faef661a97b",
        "colab": {
          "base_uri": "https://localhost:8080/"
        }
      },
      "source": [
        "rho = np.sqrt(puntos[0, :]**2 + puntos[1, :]**2) # 'shape' de rho sera (1000,)\n",
        "print(rho.shape)\n",
        "print(rho[:10])"
      ],
      "execution_count": 9,
      "outputs": [
        {
          "output_type": "stream",
          "name": "stdout",
          "text": [
            "(1000,)\n",
            "[0.14537156 0.39321156 0.8348921  0.7505349  0.45257283 0.96245397\n",
            " 0.19652224 0.37198635 0.69996797 0.59881669]\n"
          ]
        }
      ]
    },
    {
      "cell_type": "code",
      "metadata": {
        "id": "WyHEOMfUI7FH",
        "outputId": "f4db26b2-a910-43c1-a833-c99728fe5f85",
        "colab": {
          "base_uri": "https://localhost:8080/"
        }
      },
      "source": [
        "4*np.sum(rho <= 1)/1000"
      ],
      "execution_count": 12,
      "outputs": [
        {
          "output_type": "execute_result",
          "data": {
            "text/plain": [
              "3.22"
            ]
          },
          "metadata": {},
          "execution_count": 12
        }
      ]
    },
    {
      "cell_type": "code",
      "metadata": {
        "id": "GIY6CsOVJM6b"
      },
      "source": [
        "puntos = generador.random(500_000).reshape((2, -1))\n",
        "rho = np.sqrt(np.sum(puntos**2, axis=0))"
      ],
      "execution_count": 23,
      "outputs": []
    },
    {
      "cell_type": "code",
      "metadata": {
        "id": "85uVb_StKIrI"
      },
      "source": [
        "seq = []\n",
        "for n in range(rho.shape[0]):\n",
        "    seq.append(4*np.sum(rho[:n] <= 1)/(n+1))"
      ],
      "execution_count": 24,
      "outputs": []
    },
    {
      "cell_type": "code",
      "metadata": {
        "id": "j4EREM_6Kc8w",
        "outputId": "a1c79327-274b-4736-8a57-714665aa6ee1",
        "colab": {
          "base_uri": "https://localhost:8080/",
          "height": 614
        }
      },
      "source": [
        "plt.figure(figsize=(10, 10))\n",
        "plt.plot(seq)\n",
        "plt.hlines(np.pi, 0, rho.shape[0])\n",
        "plt.ylim(3, 3.3)"
      ],
      "execution_count": 25,
      "outputs": [
        {
          "output_type": "execute_result",
          "data": {
            "text/plain": [
              "(3.0, 3.3)"
            ]
          },
          "metadata": {},
          "execution_count": 25
        },
        {
          "output_type": "display_data",
          "data": {
            "image/png": "[encoded data removed]",
            "text/plain": [
              "<Figure size 720x720 with 1 Axes>"
            ]
          },
          "metadata": {
            "needs_background": "light"
          }
        }
      ]
    },
    {
      "cell_type": "markdown",
      "metadata": {
        "id": "mhV2UCTXWGDF"
      },
      "source": [
        "# ¿Pero como genera los número aletorios la computadora?\n",
        "## Generador lineal de congruencias\n",
        "\n",
        "Una manera de generar números aleatorios es generando la siguiente sucesión: \n",
        "\n",
        "$$\n",
        "x_{n+1} \\equiv ax_{n}+b\\quad (\\textrm{mod }n)\n",
        "$$\n"
      ]
    },
    {
      "cell_type": "code",
      "metadata": {
        "id": "1aurjR4QZcba"
      },
      "source": [
        "def our_rng(a, b, n, seed):\n",
        "    \"\"\" generador lineal de congruencias\n",
        "\n",
        "    genera numeros aleatorios con la regla x_n+1 = a*x_n+b (mod n),\n",
        "    donde x_0 = seed\n",
        "\n",
        "    Args:\n",
        "        a: int 0<=b<n\n",
        "        b: int 0<=b<n\n",
        "        n: int valor del modulo\n",
        "        seed: int 0<=b<n\n",
        "    \n",
        "    Returns:\n",
        "        int 0<=b<n numero siguiente en la iteracion\n",
        "    \"\"\"\n",
        "    return (a*seed+b) % n"
      ],
      "execution_count": 26,
      "outputs": []
    },
    {
      "cell_type": "code",
      "metadata": {
        "id": "cbPc7XzkOH-2",
        "outputId": "46db3a7d-42e4-4bad-f641-1e783f8d080a",
        "colab": {
          "base_uri": "https://localhost:8080/"
        }
      },
      "source": [
        "a = 7\n",
        "b = 11\n",
        "n = 27\n",
        "seed = 23\n",
        "\n",
        "sample = [seed]\n",
        "for i in range(20):\n",
        "    seed = our_rng(a, b, n, seed)\n",
        "    sample.append(seed)\n",
        "\n",
        "print(sample)"
      ],
      "execution_count": 27,
      "outputs": [
        {
          "output_type": "stream",
          "name": "stdout",
          "text": [
            "[23, 10, 0, 11, 7, 6, 26, 4, 12, 14, 1, 18, 2, 25, 24, 17, 22, 3, 5, 19, 9]\n"
          ]
        }
      ]
    },
    {
      "cell_type": "code",
      "metadata": {
        "id": "EyD8TrYAPj11",
        "outputId": "b3c8f6de-f9ab-4c9c-cb81-376b856d83d6",
        "colab": {
          "base_uri": "https://localhost:8080/"
        }
      },
      "source": [
        "seed = 2\n",
        "\n",
        "sample = [seed]\n",
        "for i in range(20):\n",
        "    seed = our_rng(a, b, n, seed)\n",
        "    sample.append(seed)\n",
        "\n",
        "print(sample)"
      ],
      "execution_count": 29,
      "outputs": [
        {
          "output_type": "stream",
          "name": "stdout",
          "text": [
            "[2, 25, 24, 17, 22, 3, 5, 19, 9, 20, 16, 15, 8, 13, 21, 23, 10, 0, 11, 7, 6]\n"
          ]
        }
      ]
    },
    {
      "cell_type": "code",
      "metadata": {
        "id": "hmlPCnrUPqg2"
      },
      "source": [
        "# PRIMOS DE MERSENNE"
      ],
      "execution_count": null,
      "outputs": []
    },
    {
      "cell_type": "markdown",
      "metadata": {
        "id": "R0Nti_uQZfvQ"
      },
      "source": [
        "# Calculando distribuciones de probabilidad"
      ]
    },
    {
      "cell_type": "code",
      "metadata": {
        "id": "gBDZAjZ4aDFz",
        "outputId": "a2b61f56-1b66-4959-b965-9c9dddda3424",
        "colab": {
          "base_uri": "https://localhost:8080/"
        }
      },
      "source": [
        "from google.colab import drive\n",
        "drive.mount('/gdrive')"
      ],
      "execution_count": 30,
      "outputs": [
        {
          "output_type": "stream",
          "name": "stdout",
          "text": [
            "Mounted at /gdrive\n"
          ]
        }
      ]
    },
    {
      "cell_type": "code",
      "metadata": {
        "id": "BVESqYkQaDF2"
      },
      "source": [
        "DATA_FOLDER = '/gdrive/MyDrive/ColabData/'"
      ],
      "execution_count": 31,
      "outputs": []
    },
    {
      "cell_type": "markdown",
      "metadata": {
        "id": "NChHarIGZnxN"
      },
      "source": [
        "### Distribuciones\n",
        "\n",
        "* Normal (continua) Parametros: media y la desv estandar\n",
        "* Poisson (discreta) Parametro: lambda\n",
        "* Binomial (discreta) Parametros: n y p\n",
        "* Hipergeomérica (discreta)"
      ]
    },
    {
      "cell_type": "code",
      "metadata": {
        "id": "LJ1rT1vBSg7v",
        "outputId": "848c7295-a28c-4251-f1e0-475ac16b95b1",
        "colab": {
          "base_uri": "https://localhost:8080/",
          "height": 265
        }
      },
      "source": [
        "sample = generador.normal(0, 1, 10_000)\n",
        "sample2 = generador.normal(1, 1, 10_000)\n",
        "\n",
        "plt.hist(sample, bins=100, alpha=0.5)\n",
        "plt.hist(sample2, bins=100, alpha=0.5)\n",
        "\n",
        "plt.savefig(DATA_FOLDER+'grafica_normal.pdf')"
      ],
      "execution_count": 37,
      "outputs": [
        {
          "output_type": "display_data",
          "data": {
            "image/png": "[encoded data removed]",
            "text/plain": [
              "<Figure size 432x288 with 1 Axes>"
            ]
          },
          "metadata": {
            "needs_background": "light"
          }
        }
      ]
    },
    {
      "cell_type": "code",
      "metadata": {
        "id": "bOq9wIEpUesE",
        "outputId": "cf3b8608-2fcf-4385-f363-b670172794cc",
        "colab": {
          "base_uri": "https://localhost:8080/",
          "height": 797
        }
      },
      "source": [
        "sample_poisson = generador.poisson(6, 10_000)\n",
        "\n",
        "plt.hist(sample_poisson, bins=100)"
      ],
      "execution_count": 39,
      "outputs": [
        {
          "output_type": "execute_result",
          "data": {
            "text/plain": [
              "(array([3.200e+01, 0.000e+00, 0.000e+00, 0.000e+00, 0.000e+00, 1.560e+02,\n",
              "        0.000e+00, 0.000e+00, 0.000e+00, 0.000e+00, 4.550e+02, 0.000e+00,\n",
              "        0.000e+00, 0.000e+00, 0.000e+00, 8.980e+02, 0.000e+00, 0.000e+00,\n",
              "        0.000e+00, 0.000e+00, 0.000e+00, 1.345e+03, 0.000e+00, 0.000e+00,\n",
              "        0.000e+00, 0.000e+00, 1.588e+03, 0.000e+00, 0.000e+00, 0.000e+00,\n",
              "        0.000e+00, 1.603e+03, 0.000e+00, 0.000e+00, 0.000e+00, 0.000e+00,\n",
              "        1.372e+03, 0.000e+00, 0.000e+00, 0.000e+00, 0.000e+00, 0.000e+00,\n",
              "        1.047e+03, 0.000e+00, 0.000e+00, 0.000e+00, 0.000e+00, 6.710e+02,\n",
              "        0.000e+00, 0.000e+00, 0.000e+00, 0.000e+00, 4.370e+02, 0.000e+00,\n",
              "        0.000e+00, 0.000e+00, 0.000e+00, 2.130e+02, 0.000e+00, 0.000e+00,\n",
              "        0.000e+00, 0.000e+00, 0.000e+00, 9.000e+01, 0.000e+00, 0.000e+00,\n",
              "        0.000e+00, 0.000e+00, 5.000e+01, 0.000e+00, 0.000e+00, 0.000e+00,\n",
              "        0.000e+00, 2.600e+01, 0.000e+00, 0.000e+00, 0.000e+00, 0.000e+00,\n",
              "        9.000e+00, 0.000e+00, 0.000e+00, 0.000e+00, 0.000e+00, 0.000e+00,\n",
              "        4.000e+00, 0.000e+00, 0.000e+00, 0.000e+00, 0.000e+00, 2.000e+00,\n",
              "        0.000e+00, 0.000e+00, 0.000e+00, 0.000e+00, 1.000e+00, 0.000e+00,\n",
              "        0.000e+00, 0.000e+00, 0.000e+00, 1.000e+00]),\n",
              " array([ 0.  ,  0.19,  0.38,  0.57,  0.76,  0.95,  1.14,  1.33,  1.52,\n",
              "         1.71,  1.9 ,  2.09,  2.28,  2.47,  2.66,  2.85,  3.04,  3.23,\n",
              "         3.42,  3.61,  3.8 ,  3.99,  4.18,  4.37,  4.56,  4.75,  4.94,\n",
              "         5.13,  5.32,  5.51,  5.7 ,  5.89,  6.08,  6.27,  6.46,  6.65,\n",
              "         6.84,  7.03,  7.22,  7.41,  7.6 ,  7.79,  7.98,  8.17,  8.36,\n",
              "         8.55,  8.74,  8.93,  9.12,  9.31,  9.5 ,  9.69,  9.88, 10.07,\n",
              "        10.26, 10.45, 10.64, 10.83, 11.02, 11.21, 11.4 , 11.59, 11.78,\n",
              "        11.97, 12.16, 12.35, 12.54, 12.73, 12.92, 13.11, 13.3 , 13.49,\n",
              "        13.68, 13.87, 14.06, 14.25, 14.44, 14.63, 14.82, 15.01, 15.2 ,\n",
              "        15.39, 15.58, 15.77, 15.96, 16.15, 16.34, 16.53, 16.72, 16.91,\n",
              "        17.1 , 17.29, 17.48, 17.67, 17.86, 18.05, 18.24, 18.43, 18.62,\n",
              "        18.81, 19.  ]),\n",
              " <a list of 100 Patch objects>)"
            ]
          },
          "metadata": {},
          "execution_count": 39
        },
        {
          "output_type": "display_data",
          "data": {
            "image/png": "[encoded data removed]",
            "text/plain": [
              "<Figure size 432x288 with 1 Axes>"
            ]
          },
          "metadata": {
            "needs_background": "light"
          }
        }
      ]
    },
    {
      "cell_type": "markdown",
      "metadata": {
        "id": "DXRmRuY_Z1AI"
      },
      "source": [
        "# ¿En verdad es más probable tener una hija? (Estadística bayesiana)\n",
        "\n",
        "El primero en plantearse este problema fue Laplace usando datos de los nacimientos en Paris.\n",
        "\n",
        "Nosotros veremos lo mismo con los datos de México. Según el censo del 2020 la población de México de 0 años era 1,812,977 de la cual 896,837 son mujeres. \n",
        "\n",
        "Lo que haremos es generar valores que se distribuyan Beta(a+1, b+1) con $a$ igual al número de mujeres y $b$ el número de hombres.\n",
        "\n",
        "La distribución Beta tiene densidad \n",
        "\n",
        "$$\n",
        "f(x) = c(x^{a-1}(1-x)^{b-1})\n",
        "$$\n",
        "\n",
        "para $x\\in(0, 1)$."
      ]
    },
    {
      "cell_type": "code",
      "metadata": {
        "id": "VZuBgq5mfaIF"
      },
      "source": [
        ""
      ],
      "execution_count": null,
      "outputs": []
    }
  ]
}