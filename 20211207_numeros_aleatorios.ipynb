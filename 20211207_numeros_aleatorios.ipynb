{
  "nbformat": 4,
  "nbformat_minor": 0,
  "metadata": {
    "colab": {
      "name": "20211207-numeros_aleatorios.ipynb",
      "provenance": [],
      "authorship_tag": "ABX9TyOz9k+mSQertcg7Qxh37Iqw"
    },
    "kernelspec": {
      "name": "python3",
      "display_name": "Python 3"
    },
    "language_info": {
      "name": "python"
    }
  },
  "cells": [
    {
      "cell_type": "markdown",
      "metadata": {
        "id": "cmO1vXf9Etem"
      },
      "source": [
        "# ¿Cómo calcular $\\pi$?\n",
        "\n",
        "![calculo pi](https://raw.githubusercontent.com/jmbarrios/THC-Python/07195075ebcb12351150a3440c58e2c99f6328d0/imgs/pi.png)\n",
        "\n",
        "Una manera de calcular el valor de $\\pi$ es usando el Método Monte Carlo. Para esto se debe de hacer lo siguiente:\n",
        "\n",
        "* Generar $n$ números aleatorios en el cuadrado $[0, 1]\\times[0, 1]$. \n",
        "* Calcular el cociente entre el número de puntos que caen dentro del cuarto del círculo de radio 1 y $n$.\n",
        "* A este cociente multiplicarlo 4 y esa será una aproximación a $\\pi$.\n",
        "\n"
      ]
    },
    {
      "cell_type": "code",
      "metadata": {
        "cellView": "form",
        "id": "XPH2a03DVIts"
      },
      "source": [
        "#@title Grafica de Monte Carlo Pi\n",
        "\n",
        "import numpy as np\n",
        "from numpy.random import default_rng\n",
        "import matplotlib.pyplot as plt\n",
        "\n",
        "# Generación de datos\n",
        "x = np.linspace(0, 1)\n",
        "y = np.sqrt(1-x**2)\n",
        "\n",
        "rng = default_rng(12345)\n",
        "sample = rng.random(500).reshape(-1, 2)\n",
        "rho = np.sqrt(np.sum(sample**2, axis=1))\n",
        "\n",
        "# Graficación\n",
        "plt.figure(figsize=(10, 10))\n",
        "\n",
        "plt.fill_between(x, 0, 1)\n",
        "plt.fill_between(x, 0, y)\n",
        "\n",
        "plt.scatter(sample[rho > 1, 0], sample[rho > 1, 1], s=80, marker='o', color='r')\n",
        "plt.scatter(sample[rho <= 1, 0], sample[rho <= 1, 1], s=80, marker='o', color='b')\n",
        "\n",
        "plt.axis('square')"
      ],
      "execution_count": null,
      "outputs": []
    },
    {
      "cell_type": "code",
      "metadata": {
        "id": "1FVXI6j1Th6n"
      },
      "source": [
        "import numpy as np\n",
        "from numpy.random import default_rng"
      ],
      "execution_count": null,
      "outputs": []
    },
    {
      "cell_type": "code",
      "metadata": {
        "id": "WQYiqVxdVqIu"
      },
      "source": [
        ""
      ],
      "execution_count": null,
      "outputs": []
    },
    {
      "cell_type": "markdown",
      "metadata": {
        "id": "mhV2UCTXWGDF"
      },
      "source": [
        "# ¿Pero como genera los número aletorios la computadora?\n",
        "## Generador lineal de congruencias\n",
        "\n",
        "Una manera de generar números aleatorios es generando la siguiente sucesión: \n",
        "\n",
        "$$\n",
        "x_{n+1} \\equiv ax_{n}+b\\quad (\\textrm{mod }n)\n",
        "$$\n"
      ]
    },
    {
      "cell_type": "code",
      "metadata": {
        "id": "1aurjR4QZcba"
      },
      "source": [
        ""
      ],
      "execution_count": null,
      "outputs": []
    },
    {
      "cell_type": "markdown",
      "metadata": {
        "id": "R0Nti_uQZfvQ"
      },
      "source": [
        "# Calculando distribuciones de probabilidad"
      ]
    },
    {
      "cell_type": "code",
      "metadata": {
        "id": "gBDZAjZ4aDFz"
      },
      "source": [
        "from google.colab import drive\n",
        "drive.mount('/gdrive')"
      ],
      "execution_count": null,
      "outputs": []
    },
    {
      "cell_type": "code",
      "metadata": {
        "id": "BVESqYkQaDF2"
      },
      "source": [
        "DATA_FOLDER = '/gdrive/MyDrive/ColabData/'"
      ],
      "execution_count": null,
      "outputs": []
    },
    {
      "cell_type": "code",
      "metadata": {
        "id": "NChHarIGZnxN"
      },
      "source": [
        ""
      ],
      "execution_count": null,
      "outputs": []
    },
    {
      "cell_type": "markdown",
      "metadata": {
        "id": "DXRmRuY_Z1AI"
      },
      "source": [
        "# ¿En verdad es más probable tener una hija?\n",
        "\n",
        "El primero en plantearse este problema fue Laplace usando datos de los nacimientos en Paris.\n",
        "\n",
        "Nosotros veremos lo mismo con los datos de México. Según el censo del 2020 la población de México de 0 años era 1,812,977 de la cual 896,837 son mujeres. \n",
        "\n",
        "Lo que haremos es generar valores que se distribuyan Beta(a+1, b+1) con $a$ igual al número de mujeres y $b$ el número de hombres.\n",
        "\n",
        "La distribución Beta tiene densidad \n",
        "\n",
        "$$\n",
        "f(x) = c(x^{a-1}(1-x)^{b-1})\n",
        "$$\n",
        "\n",
        "para $x\\in(0, 1)$."
      ]
    },
    {
      "cell_type": "code",
      "metadata": {
        "id": "VZuBgq5mfaIF"
      },
      "source": [
        ""
      ],
      "execution_count": null,
      "outputs": []
    }
  ]
}