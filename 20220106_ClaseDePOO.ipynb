{
  "nbformat": 4,
  "nbformat_minor": 0,
  "metadata": {
    "colab": {
      "name": "20220106-ClaseDePOO.ipynb",
      "provenance": [],
      "authorship_tag": "ABX9TyNS86tw7V3Fl0Y60Y38Ydr9",
      "include_colab_link": true
    },
    "kernelspec": {
      "name": "python3",
      "display_name": "Python 3"
    },
    "language_info": {
      "name": "python"
    }
  },
  "cells": [
    {
      "cell_type": "markdown",
      "metadata": {
        "id": "view-in-github",
        "colab_type": "text"
      },
      "source": [
        "<a href=\"https://colab.research.google.com/github/jmbarrios/THC-Python/blob/main/20220106_ClaseDePOO.ipynb\" target=\"_parent\"><img src=\"https://colab.research.google.com/assets/colab-badge.svg\" alt=\"Open In Colab\"/></a>"
      ]
    },
    {
      "cell_type": "code",
      "execution_count": 90,
      "metadata": {
        "id": "0URbgdGMhuE0"
      },
      "outputs": [],
      "source": [
        "class Graph():\n",
        "    ''' Clase gráfica '''\n",
        "    def __init__(self, graph_neigh = {}):\n",
        "        ''' Constructor de la clase gráfica\n",
        "\n",
        "        Params:\n",
        "            graph_neigh: dict dicccionario que describe el sistema\n",
        "                              de vecindades\n",
        "        '''\n",
        "        self._graph_dict = graph_neigh\n",
        "\n",
        "    def get_vertices(self):\n",
        "        ''' Regresa los vértices de la gráfica '''\n",
        "        return list(self._graph_dict.keys())\n",
        "\n",
        "    def get_edges(self):\n",
        "        ''' Regresa las aristas de la gráfica '''\n",
        "        edges = []\n",
        "\n",
        "        for vertex, neighbors in self._graph_dict.items():\n",
        "            for neighbor in neighbors:\n",
        "                if (neighbor, vertex) not in edges:\n",
        "                    edges.append((vertex, neighbor))\n",
        "\n",
        "        return edges\n",
        "\n",
        "    def get_neighbors(self, vertex):\n",
        "        ''' Regresa los vecinos de un vértice dado '''\n",
        "        return self._graph_dict.get(vertex, None)\n",
        "\n",
        "    def find_path(self, start_vertex, end_vertex, current_path=None):\n",
        "        ''' Encuentra un camnio entre los vértices star_vertex y end_vertex \n",
        "        \n",
        "        Params:\n",
        "            start_vertex: str vértice de inicio\n",
        "            end_vertex: str vértice objetivo\n",
        "            path: list camino actual\n",
        "        \n",
        "        Returns:\n",
        "            list camino entre el start_vertex y end_vertex\n",
        "        '''\n",
        "        if current_path == None:\n",
        "            current_path = []\n",
        "        graph = self._graph_dict\n",
        "\n",
        "        # Casos base\n",
        "        if start_vertex not in graph:\n",
        "            return None\n",
        "        \n",
        "        current_path.append(start_vertex)\n",
        "        if start_vertex == end_vertex:\n",
        "            return current_path\n",
        "        \n",
        "        # Recurrencia\n",
        "        for neighbor in graph[start_vertex]:\n",
        "            if neighbor not in current_path:\n",
        "                extended_path = self.find_path(neighbor, end_vertex, current_path)\n",
        "                if extended_path:\n",
        "                    return extended_path\n",
        "        \n",
        "        return None\n",
        "\n",
        "\n",
        "    def __str__(self):\n",
        "        ''' método para la impresión del objeto de clase Graph '''\n",
        "        res = [\n",
        "            'Vertices: [',\n",
        "            ', '.join(self.get_vertices()),\n",
        "            ']\\nEdges: [',\n",
        "            ', '.join([str(edge) for edge in self.get_edges()]),\n",
        "            ']'\n",
        "        ]\n",
        "\n",
        "        return ''.join(res)"
      ]
    },
    {
      "cell_type": "code",
      "source": [
        "g = Graph()"
      ],
      "metadata": {
        "id": "-cK-xIIbmCQz"
      },
      "execution_count": 2,
      "outputs": []
    },
    {
      "cell_type": "code",
      "source": [
        "graph = {\n",
        "    'a': {'c'},\n",
        "    'b': {'c', 'e'},\n",
        "    'c': {'a', 'b', 'd', 'e'},\n",
        "    'd': {'c'},\n",
        "    'e': {'b', 'c'},\n",
        "    'f': {}\n",
        "}"
      ],
      "metadata": {
        "id": "piKZfBRgmFtS"
      },
      "execution_count": 84,
      "outputs": []
    },
    {
      "cell_type": "code",
      "source": [
        "g = Graph(graph)"
      ],
      "metadata": {
        "id": "Gdb-RVqamJGF"
      },
      "execution_count": 91,
      "outputs": []
    },
    {
      "cell_type": "code",
      "source": [
        "isinstance(g, Graph)"
      ],
      "metadata": {
        "colab": {
          "base_uri": "https://localhost:8080/"
        },
        "id": "qSTsuBd5ooof",
        "outputId": "6b1547ca-cfd4-4398-ce71-7f20f15f67d3"
      },
      "execution_count": 14,
      "outputs": [
        {
          "output_type": "execute_result",
          "data": {
            "text/plain": [
              "True"
            ]
          },
          "metadata": {},
          "execution_count": 14
        }
      ]
    },
    {
      "cell_type": "code",
      "source": [
        "g._graph_dict"
      ],
      "metadata": {
        "colab": {
          "base_uri": "https://localhost:8080/"
        },
        "id": "fREPX8lDovHl",
        "outputId": "4de61b2e-1bf8-44b7-809c-97778d07c8c6"
      },
      "execution_count": 28,
      "outputs": [
        {
          "output_type": "execute_result",
          "data": {
            "text/plain": [
              "{'a': {'c'},\n",
              " 'b': {'c', 'e'},\n",
              " 'c': {'a', 'b', 'd', 'e'},\n",
              " 'd': {'c'},\n",
              " 'e': {'b', 'c'},\n",
              " 'f': {}}"
            ]
          },
          "metadata": {},
          "execution_count": 28
        }
      ]
    },
    {
      "cell_type": "code",
      "source": [
        "g.get_vertices()"
      ],
      "metadata": {
        "colab": {
          "base_uri": "https://localhost:8080/"
        },
        "id": "MVRqsgtjnx9n",
        "outputId": "25db961d-68e5-483f-f753-0ec9f5233467"
      },
      "execution_count": 29,
      "outputs": [
        {
          "output_type": "execute_result",
          "data": {
            "text/plain": [
              "['a', 'b', 'c', 'd', 'e', 'f']"
            ]
          },
          "metadata": {},
          "execution_count": 29
        }
      ]
    },
    {
      "cell_type": "code",
      "source": [
        "g.get_edges()"
      ],
      "metadata": {
        "colab": {
          "base_uri": "https://localhost:8080/"
        },
        "id": "O7zWdc5zn9mU",
        "outputId": "bf228fc2-373c-4d48-b2d7-fecfe8369120"
      },
      "execution_count": 33,
      "outputs": [
        {
          "output_type": "execute_result",
          "data": {
            "text/plain": [
              "[('a', 'c'), ('b', 'c'), ('b', 'e'), ('c', 'd'), ('c', 'e')]"
            ]
          },
          "metadata": {},
          "execution_count": 33
        }
      ]
    },
    {
      "cell_type": "code",
      "source": [
        "print(g)"
      ],
      "metadata": {
        "colab": {
          "base_uri": "https://localhost:8080/"
        },
        "id": "Yxu-BkCar3aY",
        "outputId": "e90240c5-9fbd-4777-f0d5-9966b3d3ac7e"
      },
      "execution_count": 47,
      "outputs": [
        {
          "output_type": "stream",
          "name": "stdout",
          "text": [
            "Vertices: [a, b, c, d, e, f]\n",
            "Edges: [('a', 'c'), ('b', 'c'), ('b', 'e'), ('c', 'd'), ('c', 'e')]\n"
          ]
        }
      ]
    },
    {
      "cell_type": "code",
      "source": [
        "print(g.get_neighbors('t'))"
      ],
      "metadata": {
        "colab": {
          "base_uri": "https://localhost:8080/"
        },
        "id": "OaOVyOc7uuUd",
        "outputId": "cb902eb6-1ed1-4695-9ccd-ebd50794b4df"
      },
      "execution_count": 66,
      "outputs": [
        {
          "output_type": "stream",
          "name": "stdout",
          "text": [
            "None\n"
          ]
        }
      ]
    },
    {
      "cell_type": "code",
      "source": [
        "g.find_path('a', 'e')"
      ],
      "metadata": {
        "colab": {
          "base_uri": "https://localhost:8080/"
        },
        "id": "X9ZZwAzKxhpx",
        "outputId": "239b484a-4f36-43af-d22e-44a1a6a29c1f"
      },
      "execution_count": 92,
      "outputs": [
        {
          "output_type": "execute_result",
          "data": {
            "text/plain": [
              "['a', 'c', 'd', 'e']"
            ]
          },
          "metadata": {},
          "execution_count": 92
        }
      ]
    },
    {
      "cell_type": "code",
      "source": [
        ""
      ],
      "metadata": {
        "id": "Ca8hjK4R58dK"
      },
      "execution_count": null,
      "outputs": []
    }
  ]
}