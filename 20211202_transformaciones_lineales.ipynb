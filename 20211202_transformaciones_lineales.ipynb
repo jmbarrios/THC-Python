{
  "nbformat": 4,
  "nbformat_minor": 0,
  "metadata": {
    "colab": {
      "name": "20211202-transformaciones-lineales.ipynb",
      "provenance": [],
      "authorship_tag": "ABX9TyMXDh90FQret7gRSQk2vt/N"
    },
    "kernelspec": {
      "name": "python3",
      "display_name": "Python 3"
    },
    "language_info": {
      "name": "python"
    }
  },
  "cells": [
    {
      "cell_type": "markdown",
      "metadata": {
        "id": "lwYsPFWCXqcu"
      },
      "source": [
        "# Transformaciones lineales o para que sirven las matrices\n",
        "\n",
        "Vamos a definir una función de la siguiente manera\n",
        "\n",
        "$$\n",
        "f(x, y) = \n",
        "\\begin{pmatrix}\n",
        "a & b \\\\ \n",
        "c & d\n",
        "\\end{pmatrix}\n",
        "\\begin{pmatrix}\n",
        "x\\\\ \n",
        "y\n",
        "\\end{pmatrix}\n",
        "=\n",
        "\\begin{pmatrix}\n",
        "ax+by\\\\ \n",
        "cx+dy\n",
        "\\end{pmatrix}\n",
        "= A\\vec{v}\n",
        "$$\n"
      ]
    },
    {
      "cell_type": "code",
      "metadata": {
        "id": "_WmMAWSTclJo"
      },
      "source": [
        "import numpy as np\n",
        "from matplotlib import pyplot as plt\n",
        "import matplotlib.colors as mcolors\n",
        "\n",
        "colores = list(mcolors.TABLEAU_COLORS.values())"
      ],
      "execution_count": 1,
      "outputs": []
    },
    {
      "cell_type": "code",
      "metadata": {
        "id": "-FClU0_7kVGg",
        "outputId": "064ed8a5-2aeb-4f1d-a656-5aa2442dae3d",
        "colab": {
          "base_uri": "https://localhost:8080/"
        }
      },
      "source": [
        "print(colores)"
      ],
      "execution_count": 25,
      "outputs": [
        {
          "output_type": "stream",
          "name": "stdout",
          "text": [
            "['#1f77b4', '#ff7f0e', '#2ca02c', '#d62728', '#9467bd', '#8c564b', '#e377c2', '#7f7f7f', '#bcbd22', '#17becf']\n"
          ]
        }
      ]
    },
    {
      "cell_type": "code",
      "metadata": {
        "id": "6SHB1_Pm8llK"
      },
      "source": [
        "def grafica_vectores_2d(vectores):\n",
        "    \"\"\" funcion para graficar vectores\n",
        "\n",
        "    Args:\n",
        "        vectores: np.array arreglo de vectores de dimensiones (2, n),\n",
        "                  donde la entrada [:, i] corresponde al vector i\n",
        "    \"\"\"\n",
        "    origin = np.array([0, 0])\n",
        "    \n",
        "    # Instrucciones para generar el lienzo de tamaño suficiente para \n",
        "    # dibujar mis vectores\n",
        "    xlim, ylim = np.max(np.abs(vectores), axis=1) \n",
        "    plt.xlim(-(xlim+1), (xlim+1))\n",
        "    plt.ylim(-(ylim+1), (ylim+1))\n",
        "\n",
        "\n",
        "    for i in range(vectores.shape[1]):\n",
        "        plt.quiver(origin[0], origin[1], vectores[0, i], vectores[1,i], \n",
        "                   color=colores[i % 10], angles='xy', scale_units='xy', scale=1)"
      ],
      "execution_count": 2,
      "outputs": []
    },
    {
      "cell_type": "code",
      "metadata": {
        "id": "ZjkZsOTSFTGn",
        "outputId": "d22b0fa8-60c3-4d0c-e964-96d0114df230",
        "colab": {
          "base_uri": "https://localhost:8080/"
        }
      },
      "source": [
        "v = np.array([ [1], [0] ])\n",
        "print('Vector:\\n', v)\n",
        "\n",
        "A = np.array([[2, 0], [0,3]]) # matriz de 2x2\n",
        "print('Matriz:\\n', A)\n",
        "\n",
        "Av = A @ v\n",
        "print('Producto:\\n', Av)"
      ],
      "execution_count": 8,
      "outputs": [
        {
          "output_type": "stream",
          "name": "stdout",
          "text": [
            "Vector:\n",
            " [[1]\n",
            " [0]]\n",
            "Matriz:\n",
            " [[2 0]\n",
            " [0 3]]\n",
            "Producto:\n",
            " [[2]\n",
            " [0]]\n"
          ]
        }
      ]
    },
    {
      "cell_type": "code",
      "metadata": {
        "id": "5BglUYwtauwo",
        "outputId": "6c8fd51e-fb05-4186-bb51-921e7b25c1d3",
        "colab": {
          "base_uri": "https://localhost:8080/",
          "height": 269
        }
      },
      "source": [
        "conj_vect = np.array([\n",
        "                      [1, 0, 1], # coordenadas x para mis vectores\n",
        "                      [0, 1, 1]  # coordenadas y de mis vectores\n",
        "])\n",
        "\n",
        "grafica_vectores_2d(conj_vect)\n",
        "grafica_vectores_2d(A @ conj_vect)"
      ],
      "execution_count": 11,
      "outputs": [
        {
          "output_type": "display_data",
          "data": {
            "image/png": "[encoded data removed]",
            "text/plain": [
              "<Figure size 432x288 with 1 Axes>"
            ]
          },
          "metadata": {
            "needs_background": "light"
          }
        }
      ]
    },
    {
      "cell_type": "code",
      "metadata": {
        "id": "5mXcr8bzdm89"
      },
      "source": [
        "theta = np.pi / 4\n",
        "B = np.array([\n",
        "              [np.cos(theta), -np.sin(theta)],\n",
        "              [np.sin(theta), np.cos(theta)]\n",
        "])"
      ],
      "execution_count": 20,
      "outputs": []
    },
    {
      "cell_type": "code",
      "metadata": {
        "id": "W3fziXLseCPx",
        "outputId": "a6d05649-819f-40ed-89b9-d269edbec632",
        "colab": {
          "base_uri": "https://localhost:8080/",
          "height": 265
        }
      },
      "source": [
        "grafica_vectores_2d(conj_vect)\n",
        "grafica_vectores_2d(B @ conj_vect)"
      ],
      "execution_count": 22,
      "outputs": [
        {
          "output_type": "display_data",
          "data": {
            "image/png": "[encoded data removed]",
            "text/plain": [
              "<Figure size 432x288 with 1 Axes>"
            ]
          },
          "metadata": {
            "needs_background": "light"
          }
        }
      ]
    },
    {
      "cell_type": "code",
      "metadata": {
        "id": "BEuHQpAFg06A",
        "outputId": "624a9388-efb5-4005-f7c0-041446d29701",
        "colab": {
          "base_uri": "https://localhost:8080/",
          "height": 269
        }
      },
      "source": [
        "C = np.array([\n",
        "              [-1, 0], \n",
        "              [0, -1]\n",
        "])\n",
        "\n",
        "grafica_vectores_2d(conj_vect)\n",
        "grafica_vectores_2d(C @ conj_vect)"
      ],
      "execution_count": 23,
      "outputs": [
        {
          "output_type": "display_data",
          "data": {
            "image/png": "[encoded data removed]",
            "text/plain": [
              "<Figure size 432x288 with 1 Axes>"
            ]
          },
          "metadata": {
            "needs_background": "light"
          }
        }
      ]
    },
    {
      "cell_type": "code",
      "metadata": {
        "id": "xPyWm9nrhE44"
      },
      "source": [
        ""
      ],
      "execution_count": null,
      "outputs": []
    },
    {
      "cell_type": "code",
      "metadata": {
        "id": "FechDPq4FQy7"
      },
      "source": [
        "# Elipse x^2/a + y^2/b = 1\n",
        "a = 4\n",
        "b = 2\n",
        "\n",
        "X = np.linspace(-9, 9, 1000)\n",
        "Y = np.linspace(-5, 5, 1000)\n",
        "\n",
        "Xm, Ym = np.meshgrid(X, Y)\n",
        "\n",
        "Z = Xm**2/a**2 + Ym**2/b**2"
      ],
      "execution_count": 26,
      "outputs": []
    },
    {
      "cell_type": "code",
      "metadata": {
        "id": "SX11w7F9Fif8"
      },
      "source": [
        "ind_x, ind_y = np.where(np.isclose(Z, 1, atol=1e-3))"
      ],
      "execution_count": 32,
      "outputs": []
    },
    {
      "cell_type": "code",
      "metadata": {
        "id": "oRl2HVqlmgeg",
        "outputId": "081680a8-73b3-4e1c-ffe4-b112c012a000",
        "colab": {
          "base_uri": "https://localhost:8080/",
          "height": 283
        }
      },
      "source": [
        "plt.scatter(\n",
        "    X[ind_x],\n",
        "    Y[ind_y]\n",
        ")"
      ],
      "execution_count": 33,
      "outputs": [
        {
          "output_type": "execute_result",
          "data": {
            "text/plain": [
              "<matplotlib.collections.PathCollection at 0x7f711436ab10>"
            ]
          },
          "metadata": {},
          "execution_count": 33
        },
        {
          "output_type": "display_data",
          "data": {
            "image/png": "[encoded data removed]",
            "text/plain": [
              "<Figure size 432x288 with 1 Axes>"
            ]
          },
          "metadata": {
            "needs_background": "light"
          }
        }
      ]
    },
    {
      "cell_type": "code",
      "metadata": {
        "id": "gubWYgjbmuLG"
      },
      "source": [
        "points = np.vstack([X[ind_x], Y[ind_y]])\n",
        "\n",
        "T = np.array([\n",
        "              [2, 0],\n",
        "              [0, 3]\n",
        "])\n",
        "\n",
        "transformed_points = B @ points"
      ],
      "execution_count": 40,
      "outputs": []
    },
    {
      "cell_type": "code",
      "metadata": {
        "id": "wZd8viQ5oZms",
        "outputId": "4668db0c-07a5-4682-ad53-06f34330315f",
        "colab": {
          "base_uri": "https://localhost:8080/",
          "height": 283
        }
      },
      "source": [
        "plt.scatter(transformed_points[0, :], transformed_points[1, :])"
      ],
      "execution_count": 41,
      "outputs": [
        {
          "output_type": "execute_result",
          "data": {
            "text/plain": [
              "<matplotlib.collections.PathCollection at 0x7f7114208ad0>"
            ]
          },
          "metadata": {},
          "execution_count": 41
        },
        {
          "output_type": "display_data",
          "data": {
            "image/png": "[encoded data removed]",
            "text/plain": [
              "<Figure size 432x288 with 1 Axes>"
            ]
          },
          "metadata": {
            "needs_background": "light"
          }
        }
      ]
    },
    {
      "cell_type": "code",
      "metadata": {
        "id": "6sQy5BMVonPi"
      },
      "source": [
        ""
      ],
      "execution_count": null,
      "outputs": []
    }
  ]
}