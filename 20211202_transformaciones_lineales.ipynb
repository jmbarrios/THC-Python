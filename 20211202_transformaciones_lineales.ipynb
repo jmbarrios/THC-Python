{
  "nbformat": 4,
  "nbformat_minor": 0,
  "metadata": {
    "colab": {
      "name": "20211202-transformaciones-lineales.ipynb",
      "provenance": [],
      "authorship_tag": "ABX9TyOa0XD3+zSRZFwlCtSjrCME"
    },
    "kernelspec": {
      "name": "python3",
      "display_name": "Python 3"
    },
    "language_info": {
      "name": "python"
    }
  },
  "cells": [
    {
      "cell_type": "markdown",
      "metadata": {
        "id": "lwYsPFWCXqcu"
      },
      "source": [
        "# Transformaciones lineales o para que sirven las matrices\n",
        "\n",
        "Vamos a definir una función de la siguiente manera\n",
        "\n",
        "$$\n",
        "f(x, y) = \n",
        "\\begin{pmatrix}\n",
        "a & b \\\\ \n",
        "c & d\n",
        "\\end{pmatrix}\n",
        "\\begin{pmatrix}\n",
        "x\\\\ \n",
        "y\n",
        "\\end{pmatrix}\n",
        "=\n",
        "\\begin{pmatrix}\n",
        "ax+by\\\\ \n",
        "cx+dy\n",
        "\\end{pmatrix}\n",
        "= A\\vec{v}\n",
        "$$\n"
      ]
    },
    {
      "cell_type": "code",
      "metadata": {
        "id": "_WmMAWSTclJo"
      },
      "source": [
        "import numpy as np\n",
        "from matplotlib import pyplot as plt\n",
        "import matplotlib.colors as mcolors\n",
        "\n",
        "colores = list(mcolors.TABLEAU_COLORS.values())"
      ],
      "execution_count": null,
      "outputs": []
    },
    {
      "cell_type": "code",
      "metadata": {
        "id": "6SHB1_Pm8llK"
      },
      "source": [
        "def grafica_vectores_2d(vectores):\n",
        "    \"\"\" funcion para graficar vectores\n",
        "\n",
        "    Args:\n",
        "        vectores: np.array arreglo de vectores de dimensiones (2, n),\n",
        "                  donde la entrada [:, i] corresponde al vector i\n",
        "    \"\"\"\n",
        "    origin = np.array([0, 0])\n",
        "    \n",
        "    xlim, ylim = np.max(np.abs(vectores), axis=1)\n",
        "    plt.xlim(-(xlim+1), (xlim+1))\n",
        "    plt.ylim(-(ylim+1), (ylim+1))\n",
        "\n",
        "    for i in range(vectores.shape[1]):\n",
        "        plt.quiver(origin[0], origin[1], vectores[0, i], vectores[1,i], \n",
        "                   color=colores[i % 10], angles='xy', scale_units='xy', scale=1)"
      ],
      "execution_count": null,
      "outputs": []
    },
    {
      "cell_type": "code",
      "metadata": {
        "id": "ZjkZsOTSFTGn"
      },
      "source": [
        ""
      ],
      "execution_count": null,
      "outputs": []
    },
    {
      "cell_type": "code",
      "metadata": {
        "id": "FechDPq4FQy7"
      },
      "source": [
        "# Elipse x^2/a + y^2/b = 1\n",
        "a = 4\n",
        "b = 2\n",
        "\n",
        "X = np.linspace(-9, 9, 1000)\n",
        "Y = np.linspace(-5, 5, 1000)\n",
        "\n",
        "Xm, Ym = np.meshgrid(X, Y)\n",
        "\n",
        "Z = Xm**2/a**2 + Ym**2/b**2"
      ],
      "execution_count": null,
      "outputs": []
    },
    {
      "cell_type": "code",
      "metadata": {
        "id": "SX11w7F9Fif8"
      },
      "source": [
        ""
      ],
      "execution_count": null,
      "outputs": []
    }
  ]
}