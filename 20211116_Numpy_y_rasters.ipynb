{
  "nbformat": 4,
  "nbformat_minor": 0,
  "metadata": {
    "colab": {
      "name": "20211116-Numpy-y-rasters.ipynb",
      "provenance": [],
      "authorship_tag": "ABX9TyN0ngUlepU2Vtdbw60EATsl"
    },
    "kernelspec": {
      "name": "python3",
      "display_name": "Python 3"
    },
    "language_info": {
      "name": "python"
    }
  },
  "cells": [
    {
      "cell_type": "markdown",
      "metadata": {
        "id": "BP7wb-5K106H"
      },
      "source": [
        "# Bibliotecas"
      ]
    },
    {
      "cell_type": "code",
      "metadata": {
        "id": "HaozHpJO2Ll8"
      },
      "source": [
        "# Instalación de biblioteca para trabajar con imágenes satelitales\n",
        "!pip install rasterio"
      ],
      "execution_count": null,
      "outputs": []
    },
    {
      "cell_type": "markdown",
      "metadata": {
        "id": "iDbn0VFJ2XHc"
      },
      "source": [
        "# Sobre la imágenes satelitales\n",
        "\n",
        "La imagen que trabajaremos fue obtenida por la misión [Sentinel-2](https://sentinel.esa.int/web/sentinel/missions/sentinel-2) llevada acabo por la ESA. \n",
        "\n",
        "El archivo `CUraster.tif` es un recorte de la imagen del día 21-07-2021. La imagen tampoco contiene todas las bandas de información que contiene una imagen de Sentinel-2, solo contiene la información del las bandas 8 (cercano al infrarojo), 4 (roja), 3 (verde) y 2 (azul).\n",
        "\n",
        "Nuestro objetivo será calcular el índice NDVI (Normalized difference vegetation index_) el cual para las imágenes Sentinel-2 se define como: \n",
        "\n",
        "$$\n",
        "\\textrm{NDVI}=\\frac{B8-B4}{B8+B4}=\\frac{\\textrm{NIR}-\\textrm{RED}}{\\textrm{NIR}+\\textrm{RED}}\n",
        "$$\n"
      ]
    },
    {
      "cell_type": "code",
      "metadata": {
        "id": "um1zjv2E3LoK"
      },
      "source": [
        "import numpy as np\n",
        "from matplotlib import pyplot as plt\n",
        "import rasterio"
      ],
      "execution_count": null,
      "outputs": []
    },
    {
      "cell_type": "code",
      "metadata": {
        "id": "Us1AfnFO277n"
      },
      "source": [
        "from google.colab import drive\n",
        "drive.mount('/gdrive')"
      ],
      "execution_count": null,
      "outputs": []
    },
    {
      "cell_type": "code",
      "metadata": {
        "id": "LzwbhC2m3Kyh"
      },
      "source": [
        "IMG_PATH = '/gdrive/My Drive/ColabData/CUraster.tiff'"
      ],
      "execution_count": null,
      "outputs": []
    },
    {
      "cell_type": "code",
      "metadata": {
        "id": "IQReLDJDHJWW"
      },
      "source": [
        ""
      ],
      "execution_count": null,
      "outputs": []
    }
  ]
}