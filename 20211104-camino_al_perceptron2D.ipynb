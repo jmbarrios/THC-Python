{
  "nbformat": 4,
  "nbformat_minor": 0,
  "metadata": {
    "colab": {
      "name": "20211104-camino-al-perceptron2D.ipynb",
      "provenance": [],
      "authorship_tag": "ABX9TyODzaGLGE1FX6cwuKTUchgw",
      "include_colab_link": true
    },
    "kernelspec": {
      "name": "python3",
      "display_name": "Python 3"
    },
    "language_info": {
      "name": "python"
    }
  },
  "cells": [
    {
      "cell_type": "markdown",
      "metadata": {
        "id": "view-in-github",
        "colab_type": "text"
      },
      "source": [
        "<a href=\"https://colab.research.google.com/github/jmbarrios/THC-Python/blob/main/20211104-camino_al_perceptron2D.ipynb\" target=\"_parent\"><img src=\"https://colab.research.google.com/assets/colab-badge.svg\" alt=\"Open In Colab\"/></a>"
      ]
    },
    {
      "cell_type": "markdown",
      "metadata": {
        "id": "blekocBhA9f3"
      },
      "source": [
        "# Bibliotecas"
      ]
    },
    {
      "cell_type": "code",
      "metadata": {
        "id": "OIrRH9f1BPNA"
      },
      "source": [
        "!pip install rich"
      ],
      "execution_count": null,
      "outputs": []
    },
    {
      "cell_type": "code",
      "metadata": {
        "id": "VnIawIncBewn"
      },
      "source": [
        "from rich import (print,\n",
        "                  inspect)\n",
        "import pickle\n",
        "import random"
      ],
      "execution_count": null,
      "outputs": []
    },
    {
      "cell_type": "markdown",
      "metadata": {
        "id": "CMdB8r-qd1av"
      },
      "source": [
        "# Numpy"
      ]
    },
    {
      "cell_type": "markdown",
      "metadata": {
        "id": "gJ9aDFNlBrxn"
      },
      "source": [
        "# Implementando el perceptron en 2D"
      ]
    },
    {
      "cell_type": "markdown",
      "metadata": {
        "id": "2WUB0zg9B0X_"
      },
      "source": [
        "## Importando los datos"
      ]
    },
    {
      "cell_type": "code",
      "metadata": {
        "id": "MrdZSVB4B_N2"
      },
      "source": [
        "from google.colab import drive\n",
        "drive.mount('/gdrive')"
      ],
      "execution_count": null,
      "outputs": []
    },
    {
      "cell_type": "code",
      "metadata": {
        "id": "afznmrAaCDZi"
      },
      "source": [
        "with open('/gdrive/My Drive/ColabData/penguin_data.pkl', 'rb') as f:\n",
        "    my_data = pickle.load(f)"
      ],
      "execution_count": null,
      "outputs": []
    },
    {
      "cell_type": "markdown",
      "metadata": {
        "id": "6TF9mFINCOlM"
      },
      "source": [
        "## Preparando los datos"
      ]
    },
    {
      "cell_type": "code",
      "metadata": {
        "id": "Z4a2knjO1hN3"
      },
      "source": [
        "# Solo elegir los pingüinos de las especies 'Gentoo' y 'Adelie'\n",
        "data = [elemento for elemento in my_data \n",
        "        if elemento['species'] in ['Gentoo', 'Adelie']\n",
        "        and elemento['bill_length_mm'] != None]\n",
        "\n",
        "# En clase primero hicimos la partición de los datos y después codifique los \n",
        "# valores de los pingüinos pero es mejor hacerlo antes de la partición.\n",
        "for record in data:\n",
        "    if record['species'] == 'Gentoo':\n",
        "        record['label'] = -1\n",
        "    elif record['species'] == 'Adelie':\n",
        "        record['label'] = 1\n",
        "\n",
        "# Voy a tomar 219 datos para entrenar y el restante para evaluar\n",
        "train_data = random.sample(data, 219)\n",
        "test_data = [d for d in data if d not in train_data]\n",
        "\n",
        "train_dataset = {\n",
        "    'data': [ [d['bill_length_mm'], d['bill_depth_mm']] for d in train_data],\n",
        "    'labels': [ d['label'] for d in train_data ]\n",
        "}\n",
        "\n",
        "test_dataset = {\n",
        "    'data': [ [ d['bill_length_mm'], d['bill_depth_mm'] ] for d in test_data],\n",
        "    'labels': [ d['label'] for d in test_data ]\n",
        "}\n",
        "\n",
        "print(test_dataset)"
      ],
      "execution_count": null,
      "outputs": []
    },
    {
      "cell_type": "markdown",
      "metadata": {
        "id": "rHuV6h5bCkmr"
      },
      "source": [
        "## Algoritmo del perceptron"
      ]
    },
    {
      "cell_type": "code",
      "metadata": {
        "id": "Skz6FMxXwkiN"
      },
      "source": [
        ""
      ],
      "execution_count": null,
      "outputs": []
    }
  ]
}