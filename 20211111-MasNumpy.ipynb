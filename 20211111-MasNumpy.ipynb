{
  "nbformat": 4,
  "nbformat_minor": 0,
  "metadata": {
    "colab": {
      "name": "Untitled2.ipynb",
      "provenance": [],
      "authorship_tag": "ABX9TyOutratDDGGMnUczx5J/D6o"
    },
    "kernelspec": {
      "name": "python3",
      "display_name": "Python 3"
    },
    "language_info": {
      "name": "python"
    }
  },
  "cells": [
    {
      "cell_type": "markdown",
      "metadata": {
        "id": "G8ZDlyniEmUh"
      },
      "source": [
        "# Más numpy"
      ]
    },
    {
      "cell_type": "code",
      "metadata": {
        "id": "yB-9p-83EqRH"
      },
      "source": [
        "import numpy as np"
      ],
      "execution_count": 1,
      "outputs": []
    },
    {
      "cell_type": "markdown",
      "metadata": {
        "id": "1FDRwhQVEt_X"
      },
      "source": [
        "## Creación de arreglos (`numpy.ndarray`)"
      ]
    },
    {
      "cell_type": "code",
      "metadata": {
        "id": "dl16VNzTG6Z6"
      },
      "source": [
        ""
      ],
      "execution_count": null,
      "outputs": []
    },
    {
      "cell_type": "code",
      "metadata": {
        "id": "rDDGXTo0WJ_B"
      },
      "source": [
        "# Para leer los datos\n",
        "from google.colab import drive\n",
        "drive.mount('/gdrive')\n",
        "COLAB_DIR = '/gdrive/My Drive/ColabData/'"
      ],
      "execution_count": null,
      "outputs": []
    },
    {
      "cell_type": "markdown",
      "metadata": {
        "id": "FIuZ60ziE_KJ"
      },
      "source": [
        "## Acceso a los elementos de un arreglo"
      ]
    },
    {
      "cell_type": "code",
      "metadata": {
        "id": "tHGOTtUuG64_"
      },
      "source": [
        ""
      ],
      "execution_count": null,
      "outputs": []
    },
    {
      "cell_type": "markdown",
      "metadata": {
        "id": "Ols49peKFGCR"
      },
      "source": [
        "## ¿Cómo funcionan las operaciones entre arreglos?"
      ]
    },
    {
      "cell_type": "code",
      "metadata": {
        "id": "b59s3k4-G7Vz"
      },
      "source": [
        ""
      ],
      "execution_count": null,
      "outputs": []
    },
    {
      "cell_type": "markdown",
      "metadata": {
        "id": "YIj_Jw0rFQrP"
      },
      "source": [
        "## La sucesión de Fibonacci\n",
        "\n",
        "![Libro Fibonacci](https://upload.wikimedia.org/wikipedia/commons/thumb/0/04/Liber_abbaci_magliab_f124r.jpg/392px-Liber_abbaci_magliab_f124r.jpg)\n",
        "\n",
        "Esta sucesión fue descrita como una sucesión de cria de conejos. \n",
        "\n",
        "La sucesión se define como:\n",
        "\n",
        "- $a_1=1$\n",
        "- $a_2=1$\n",
        "\n",
        "y para $n>2$, $a_{n+1} = a_n + a_{n-1}$. \n"
      ]
    },
    {
      "cell_type": "code",
      "metadata": {
        "id": "eSa4RFmkG5ju"
      },
      "source": [
        ""
      ],
      "execution_count": null,
      "outputs": []
    }
  ]
}