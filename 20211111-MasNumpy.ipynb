{
  "nbformat": 4,
  "nbformat_minor": 0,
  "metadata": {
    "colab": {
      "name": "Untitled2.ipynb",
      "provenance": [],
      "authorship_tag": "ABX9TyPYyb/SPWtV0B9mFd8mcCbJ"
    },
    "kernelspec": {
      "name": "python3",
      "display_name": "Python 3"
    },
    "language_info": {
      "name": "python"
    }
  },
  "cells": [
    {
      "cell_type": "markdown",
      "metadata": {
        "id": "G8ZDlyniEmUh"
      },
      "source": [
        "# Más numpy"
      ]
    },
    {
      "cell_type": "code",
      "metadata": {
        "id": "yB-9p-83EqRH"
      },
      "source": [
        "import numpy as np"
      ],
      "execution_count": 1,
      "outputs": []
    },
    {
      "cell_type": "markdown",
      "metadata": {
        "id": "1FDRwhQVEt_X"
      },
      "source": [
        "## Creación de arreglos (`numpy.ndarray`)"
      ]
    },
    {
      "cell_type": "code",
      "metadata": {
        "id": "dl16VNzTG6Z6",
        "outputId": "f0607af4-a863-4c34-f3bf-39439a8cc826",
        "colab": {
          "base_uri": "https://localhost:8080/"
        }
      },
      "source": [
        "a = np.array([1, 2, 4, 5])\n",
        "b = np.array([[1, 2, 3], [5, 3, 4]])\n",
        "print(a)\n",
        "print(type(a))\n",
        "print(a.shape)\n",
        "print(b)\n",
        "print(type(b))\n",
        "print(b.shape)"
      ],
      "execution_count": 4,
      "outputs": [
        {
          "output_type": "stream",
          "name": "stdout",
          "text": [
            "[1 2 4 5]\n",
            "<class 'numpy.ndarray'>\n",
            "(4,)\n",
            "[[1 2 3]\n",
            " [5 3 4]]\n",
            "<class 'numpy.ndarray'>\n",
            "(2, 3)\n"
          ]
        }
      ]
    },
    {
      "cell_type": "code",
      "metadata": {
        "id": "hZZLyL8eJkQB",
        "outputId": "596088aa-58a7-442b-956b-d9bddb8e0287",
        "colab": {
          "base_uri": "https://localhost:8080/"
        }
      },
      "source": [
        "arr_rango = np.arange(2, 20, 2)\n",
        "print(arr_rango)\n",
        "print(type(arr_rango))\n",
        "print(isinstance(arr_rango, np.ndarray))"
      ],
      "execution_count": 9,
      "outputs": [
        {
          "output_type": "stream",
          "name": "stdout",
          "text": [
            "[ 2  4  6  8 10 12 14 16 18]\n",
            "<class 'numpy.ndarray'>\n",
            "True\n"
          ]
        }
      ]
    },
    {
      "cell_type": "code",
      "metadata": {
        "id": "MLME1wYXLnww",
        "outputId": "4b3395fd-772c-4793-e6c9-3418122109bd",
        "colab": {
          "base_uri": "https://localhost:8080/"
        }
      },
      "source": [
        "arr_particion = np.linspace(-1, 1, num=10)\n",
        "print(arr_particion)\n",
        "print(arr_particion.shape)\n",
        "print(type(arr_particion))"
      ],
      "execution_count": 11,
      "outputs": [
        {
          "output_type": "stream",
          "name": "stdout",
          "text": [
            "[-1.         -0.77777778 -0.55555556 -0.33333333 -0.11111111  0.11111111\n",
            "  0.33333333  0.55555556  0.77777778  1.        ]\n",
            "(10,)\n",
            "<class 'numpy.ndarray'>\n"
          ]
        }
      ]
    },
    {
      "cell_type": "code",
      "metadata": {
        "id": "mLMzMO0kMX49",
        "outputId": "96a11dee-7062-4d0e-d213-6e62077e9748",
        "colab": {
          "base_uri": "https://localhost:8080/"
        }
      },
      "source": [
        "arr_ceros = np.zeros(10)\n",
        "print(arr_ceros)\n",
        "print(arr_ceros.shape)"
      ],
      "execution_count": 12,
      "outputs": [
        {
          "output_type": "stream",
          "name": "stdout",
          "text": [
            "[0. 0. 0. 0. 0. 0. 0. 0. 0. 0.]\n",
            "(10,)\n"
          ]
        }
      ]
    },
    {
      "cell_type": "code",
      "metadata": {
        "id": "kW1JpDlfNDWB"
      },
      "source": [
        "?np.zeros"
      ],
      "execution_count": 13,
      "outputs": []
    },
    {
      "cell_type": "code",
      "metadata": {
        "id": "SKpENKdsLI-q",
        "outputId": "e907e56d-3058-48e2-8b74-9cba812d2f68",
        "colab": {
          "base_uri": "https://localhost:8080/"
        }
      },
      "source": [
        "arr_ceros_2d = np.zeros((3, 2, 3))\n",
        "print(arr_ceros_2d)\n",
        "print(arr_ceros_2d.shape)"
      ],
      "execution_count": 16,
      "outputs": [
        {
          "output_type": "stream",
          "name": "stdout",
          "text": [
            "[[[0. 0. 0.]\n",
            "  [0. 0. 0.]]\n",
            "\n",
            " [[0. 0. 0.]\n",
            "  [0. 0. 0.]]\n",
            "\n",
            " [[0. 0. 0.]\n",
            "  [0. 0. 0.]]]\n",
            "(3, 2, 3)\n"
          ]
        }
      ]
    },
    {
      "cell_type": "code",
      "metadata": {
        "id": "OQEOBtSdOZcI",
        "outputId": "0436d45b-31a8-4d6e-d800-17ed79872e38",
        "colab": {
          "base_uri": "https://localhost:8080/"
        }
      },
      "source": [
        "arr_identidad = np.eye(6)\n",
        "print(arr_identidad)\n",
        "print(arr_identidad.shape)"
      ],
      "execution_count": 19,
      "outputs": [
        {
          "output_type": "stream",
          "name": "stdout",
          "text": [
            "[[1. 0. 0. 0. 0. 0.]\n",
            " [0. 1. 0. 0. 0. 0.]\n",
            " [0. 0. 1. 0. 0. 0.]\n",
            " [0. 0. 0. 1. 0. 0.]\n",
            " [0. 0. 0. 0. 1. 0.]\n",
            " [0. 0. 0. 0. 0. 1.]]\n",
            "(6, 6)\n"
          ]
        }
      ]
    },
    {
      "cell_type": "code",
      "metadata": {
        "id": "R_iH6uUpPcnZ",
        "outputId": "ebad14f0-6e57-4d45-ece2-d489315c1c98",
        "colab": {
          "base_uri": "https://localhost:8080/"
        }
      },
      "source": [
        "arr_diagonal = np.diag([1, 2, 4, 6, 9, 10])\n",
        "print(arr_diagonal)\n",
        "print(arr_diagonal.shape)"
      ],
      "execution_count": 20,
      "outputs": [
        {
          "output_type": "stream",
          "name": "stdout",
          "text": [
            "[[ 1  0  0  0  0  0]\n",
            " [ 0  2  0  0  0  0]\n",
            " [ 0  0  4  0  0  0]\n",
            " [ 0  0  0  6  0  0]\n",
            " [ 0  0  0  0  9  0]\n",
            " [ 0  0  0  0  0 10]]\n",
            "(6, 6)\n"
          ]
        }
      ]
    },
    {
      "cell_type": "code",
      "metadata": {
        "id": "qyBeW79bRJQD"
      },
      "source": [
        "def print_info_array(arr):\n",
        "    print(arr)\n",
        "    print(arr.shape)"
      ],
      "execution_count": 22,
      "outputs": []
    },
    {
      "cell_type": "code",
      "metadata": {
        "id": "ikoRgObVQPTC",
        "outputId": "11336be1-bdcb-4198-ac9c-550e5b8cec78",
        "colab": {
          "base_uri": "https://localhost:8080/"
        }
      },
      "source": [
        "arr_ceros_como_b = np.zeros_like(b)\n",
        "print_info_array(arr_ceros_como_b)"
      ],
      "execution_count": 23,
      "outputs": [
        {
          "output_type": "stream",
          "name": "stdout",
          "text": [
            "[[0 0 0]\n",
            " [0 0 0]]\n",
            "(2, 3)\n"
          ]
        }
      ]
    },
    {
      "cell_type": "code",
      "metadata": {
        "id": "ABnDTLO2OKPt"
      },
      "source": [
        ""
      ],
      "execution_count": null,
      "outputs": []
    },
    {
      "cell_type": "code",
      "metadata": {
        "id": "rDDGXTo0WJ_B",
        "outputId": "582964e4-0143-4d71-f688-a005bff94b67",
        "colab": {
          "base_uri": "https://localhost:8080/"
        }
      },
      "source": [
        "# Para leer los datos\n",
        "from google.colab import drive\n",
        "drive.mount('/gdrive')\n",
        "COLAB_DIR = '/gdrive/My Drive/ColabData/'"
      ],
      "execution_count": 24,
      "outputs": [
        {
          "output_type": "stream",
          "name": "stdout",
          "text": [
            "Mounted at /gdrive\n"
          ]
        }
      ]
    },
    {
      "cell_type": "code",
      "metadata": {
        "id": "sRLTYXp-UsN1",
        "outputId": "7aac0347-cdc5-476d-f891-ee2d9c7b575a",
        "colab": {
          "base_uri": "https://localhost:8080/"
        }
      },
      "source": [
        "data = np.loadtxt(COLAB_DIR + 'h_dem.asc', skiprows=6)\n",
        "print(data.shape)"
      ],
      "execution_count": 25,
      "outputs": [
        {
          "output_type": "stream",
          "name": "stdout",
          "text": [
            "(1592, 1212)\n"
          ]
        }
      ]
    },
    {
      "cell_type": "code",
      "metadata": {
        "id": "XrUpD4poWCJr"
      },
      "source": [
        "from matplotlib import pyplot as plt"
      ],
      "execution_count": 26,
      "outputs": []
    },
    {
      "cell_type": "code",
      "metadata": {
        "id": "d-tix2QQWXEy",
        "outputId": "fa428bb1-3a3e-4df8-a349-21558442ec6a",
        "colab": {
          "base_uri": "https://localhost:8080/",
          "height": 287
        }
      },
      "source": [
        "plt.imshow(data)"
      ],
      "execution_count": 27,
      "outputs": [
        {
          "output_type": "execute_result",
          "data": {
            "text/plain": [
              "<matplotlib.image.AxesImage at 0x7f9db8fbadd0>"
            ]
          },
          "metadata": {},
          "execution_count": 27
        },
        {
          "output_type": "display_data",
          "data": {
            "image/png": "[encoded data removed]",
            "text/plain": [
              "<Figure size 432x288 with 1 Axes>"
            ]
          },
          "metadata": {
            "needs_background": "light"
          }
        }
      ]
    },
    {
      "cell_type": "code",
      "metadata": {
        "id": "TH6wW-S-WeZU"
      },
      "source": [
        ""
      ],
      "execution_count": null,
      "outputs": []
    },
    {
      "cell_type": "markdown",
      "metadata": {
        "id": "FIuZ60ziE_KJ"
      },
      "source": [
        "## Acceso a los elementos de un arreglo"
      ]
    },
    {
      "cell_type": "code",
      "metadata": {
        "id": "tHGOTtUuG64_",
        "outputId": "34c28b7e-75ec-46ff-c9c4-93785a35c890",
        "colab": {
          "base_uri": "https://localhost:8080/"
        }
      },
      "source": [
        "print(a[2])"
      ],
      "execution_count": 28,
      "outputs": [
        {
          "output_type": "stream",
          "name": "stdout",
          "text": [
            "4\n"
          ]
        }
      ]
    },
    {
      "cell_type": "code",
      "metadata": {
        "id": "r1YDMjhsYzOe",
        "outputId": "c0a1d9b9-b2ab-43a2-ed03-f07fc9fd8c09",
        "colab": {
          "base_uri": "https://localhost:8080/"
        }
      },
      "source": [
        "print(arr_rango[1:6])"
      ],
      "execution_count": 29,
      "outputs": [
        {
          "output_type": "stream",
          "name": "stdout",
          "text": [
            "[ 4  6  8 10 12]\n"
          ]
        }
      ]
    },
    {
      "cell_type": "code",
      "metadata": {
        "id": "7iokuJ3LZUwy",
        "outputId": "584b45aa-5f92-42b6-d148-d3164234176d",
        "colab": {
          "base_uri": "https://localhost:8080/"
        }
      },
      "source": [
        "print(arr_rango[:2])\n",
        "print(arr_rango[6:])"
      ],
      "execution_count": 30,
      "outputs": [
        {
          "output_type": "stream",
          "name": "stdout",
          "text": [
            "[2 4]\n",
            "[14 16 18]\n"
          ]
        }
      ]
    },
    {
      "cell_type": "code",
      "metadata": {
        "id": "Ft8IdIL9Z62V"
      },
      "source": [
        "?np.reshape"
      ],
      "execution_count": 31,
      "outputs": []
    },
    {
      "cell_type": "code",
      "metadata": {
        "id": "gVWAUwPQZoJY",
        "outputId": "4ecf14a9-ac0d-4cae-dd31-a7350a266a66",
        "colab": {
          "base_uri": "https://localhost:8080/"
        }
      },
      "source": [
        "arreglo = np.reshape(np.arange(20), (4, 5))\n",
        "print(arreglo)"
      ],
      "execution_count": 32,
      "outputs": [
        {
          "output_type": "stream",
          "name": "stdout",
          "text": [
            "[[ 0  1  2  3  4]\n",
            " [ 5  6  7  8  9]\n",
            " [10 11 12 13 14]\n",
            " [15 16 17 18 19]]\n"
          ]
        }
      ]
    },
    {
      "cell_type": "code",
      "metadata": {
        "id": "0wy0OCNkaKTC",
        "outputId": "2c3e1959-5e34-431e-b7ae-0e54a911a85c",
        "colab": {
          "base_uri": "https://localhost:8080/"
        }
      },
      "source": [
        "print(arreglo[1, 2])"
      ],
      "execution_count": 33,
      "outputs": [
        {
          "output_type": "stream",
          "name": "stdout",
          "text": [
            "7\n"
          ]
        }
      ]
    },
    {
      "cell_type": "code",
      "metadata": {
        "id": "Lr9rEATka0Vq",
        "outputId": "ef369df0-f779-4707-e65c-75d6cb15bf78",
        "colab": {
          "base_uri": "https://localhost:8080/"
        }
      },
      "source": [
        "print(arreglo[0:3, 0:3])"
      ],
      "execution_count": 34,
      "outputs": [
        {
          "output_type": "stream",
          "name": "stdout",
          "text": [
            "[[ 0  1  2]\n",
            " [ 5  6  7]\n",
            " [10 11 12]]\n"
          ]
        }
      ]
    },
    {
      "cell_type": "code",
      "metadata": {
        "id": "GcFSbr9EbpeR",
        "outputId": "8f9ac9a1-fbc0-4623-91d3-7d3b4a6bb08a",
        "colab": {
          "base_uri": "https://localhost:8080/"
        }
      },
      "source": [
        "print(arreglo[:, 1])"
      ],
      "execution_count": 38,
      "outputs": [
        {
          "output_type": "stream",
          "name": "stdout",
          "text": [
            "[ 1  6 11 16]\n"
          ]
        }
      ]
    },
    {
      "cell_type": "code",
      "metadata": {
        "id": "nI7TpzjocTGV",
        "outputId": "604f2526-7b48-4085-c0e4-61e22ca0126e",
        "colab": {
          "base_uri": "https://localhost:8080/"
        }
      },
      "source": [
        "print(arreglo[3, :])"
      ],
      "execution_count": 39,
      "outputs": [
        {
          "output_type": "stream",
          "name": "stdout",
          "text": [
            "[15 16 17 18 19]\n"
          ]
        }
      ]
    },
    {
      "cell_type": "code",
      "metadata": {
        "id": "mLCXYXKTcMG3",
        "outputId": "45cbfac2-363a-4e24-cd63-839056b172d1",
        "colab": {
          "base_uri": "https://localhost:8080/"
        }
      },
      "source": [
        "arreglo[:3, :3] = 1\n",
        "print(arreglo)"
      ],
      "execution_count": 41,
      "outputs": [
        {
          "output_type": "stream",
          "name": "stdout",
          "text": [
            "[[ 1  1  1  3  4]\n",
            " [ 1  1  1  8  9]\n",
            " [ 1  1  1 13 14]\n",
            " [15 16 17 18 19]]\n"
          ]
        }
      ]
    },
    {
      "cell_type": "code",
      "metadata": {
        "id": "RORjMI5qcwtz",
        "outputId": "be023854-ae37-47ea-b3b4-9aba66bf86ef",
        "colab": {
          "base_uri": "https://localhost:8080/"
        }
      },
      "source": [
        "mascara = data == -9999\n",
        "print(type(mascara))\n",
        "print(mascara.shape)"
      ],
      "execution_count": 44,
      "outputs": [
        {
          "output_type": "stream",
          "name": "stdout",
          "text": [
            "<class 'numpy.ndarray'>\n",
            "(1592, 1212)\n"
          ]
        }
      ]
    },
    {
      "cell_type": "code",
      "metadata": {
        "id": "lV1H-zp0du-k"
      },
      "source": [
        "data[mascara] = np.nan # not a number = nan"
      ],
      "execution_count": 46,
      "outputs": []
    },
    {
      "cell_type": "code",
      "metadata": {
        "id": "-GnztMbEdsFA",
        "outputId": "b06ef165-6d7a-4447-d482-3f06e051682d",
        "colab": {
          "base_uri": "https://localhost:8080/",
          "height": 287
        }
      },
      "source": [
        "plt.imshow(data)"
      ],
      "execution_count": 47,
      "outputs": [
        {
          "output_type": "execute_result",
          "data": {
            "text/plain": [
              "<matplotlib.image.AxesImage at 0x7f9db891a5d0>"
            ]
          },
          "metadata": {},
          "execution_count": 47
        },
        {
          "output_type": "display_data",
          "data": {
            "image/png": "[encoded data removed]",
            "text/plain": [
              "<Figure size 432x288 with 1 Axes>"
            ]
          },
          "metadata": {
            "needs_background": "light"
          }
        }
      ]
    },
    {
      "cell_type": "code",
      "metadata": {
        "id": "5PGfoSy9dcoZ"
      },
      "source": [
        ""
      ],
      "execution_count": null,
      "outputs": []
    },
    {
      "cell_type": "markdown",
      "metadata": {
        "id": "Ols49peKFGCR"
      },
      "source": [
        "## ¿Cómo funcionan las operaciones entre arreglos?"
      ]
    },
    {
      "cell_type": "code",
      "metadata": {
        "id": "b59s3k4-G7Vz"
      },
      "source": [
        ""
      ],
      "execution_count": null,
      "outputs": []
    },
    {
      "cell_type": "markdown",
      "metadata": {
        "id": "YIj_Jw0rFQrP"
      },
      "source": [
        "## La sucesión de Fibonacci\n",
        "\n",
        "![Libro Fibonacci](https://upload.wikimedia.org/wikipedia/commons/thumb/0/04/Liber_abbaci_magliab_f124r.jpg/392px-Liber_abbaci_magliab_f124r.jpg)\n",
        "\n",
        "Esta sucesión fue descrita como una sucesión de cria de conejos. \n",
        "\n",
        "La sucesión se define como:\n",
        "\n",
        "- $a_1=1$\n",
        "- $a_2=1$\n",
        "\n",
        "y para $n>2$, $a_{n+1} = a_n + a_{n-1}$. \n"
      ]
    },
    {
      "cell_type": "code",
      "metadata": {
        "id": "eSa4RFmkG5ju"
      },
      "source": [
        ""
      ],
      "execution_count": null,
      "outputs": []
    }
  ]
}