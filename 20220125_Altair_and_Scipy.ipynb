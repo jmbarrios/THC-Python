{
  "nbformat": 4,
  "nbformat_minor": 0,
  "metadata": {
    "colab": {
      "name": "20220124-Altair-and-Scipy.ipynb",
      "provenance": [],
      "authorship_tag": "ABX9TyPvvzPVY03RvRVDU4o5HtTg"
    },
    "kernelspec": {
      "name": "python3",
      "display_name": "Python 3"
    },
    "language_info": {
      "name": "python"
    }
  },
  "cells": [
    {
      "cell_type": "markdown",
      "source": [
        "# Conociendo un poco el comportamiento del Ozono ($0_3$)"
      ],
      "metadata": {
        "id": "rZbwDyr-ft62"
      }
    },
    {
      "cell_type": "code",
      "source": [
        "import pandas as pd\n",
        "import altair as alt"
      ],
      "metadata": {
        "id": "R4kJ9CHWgCe2"
      },
      "execution_count": 1,
      "outputs": []
    },
    {
      "cell_type": "code",
      "source": [
        "# Cargar los datos\n",
        "data = pd.read_csv(\n",
        "    'http://www.aire.cdmx.gob.mx/opendata/anuales_horarios_gz/contaminantes_2021.csv.gz', \n",
        "    skiprows=10\n",
        ")"
      ],
      "metadata": {
        "id": "R8ptT4ibgbC0"
      },
      "execution_count": 2,
      "outputs": []
    },
    {
      "cell_type": "code",
      "source": [
        "data.head(15)"
      ],
      "metadata": {
        "id": "l2LJ_clugj4O",
        "outputId": "a41c5bad-8995-4a0b-d670-d8f2ce7df724",
        "colab": {
          "base_uri": "https://localhost:8080/",
          "height": 520
        }
      },
      "execution_count": 3,
      "outputs": [
        {
          "output_type": "execute_result",
          "data": {
            "text/html": [
              "\n",
              "  <div id=\"df-8cc2a770-e24f-44c8-9088-6ec01ee27149\">\n",
              "    <div class=\"colab-df-container\">\n",
              "      <div>\n",
              "<style scoped>\n",
              "    .dataframe tbody tr th:only-of-type {\n",
              "        vertical-align: middle;\n",
              "    }\n",
              "\n",
              "    .dataframe tbody tr th {\n",
              "        vertical-align: top;\n",
              "    }\n",
              "\n",
              "    .dataframe thead th {\n",
              "        text-align: right;\n",
              "    }\n",
              "</style>\n",
              "<table border=\"1\" class=\"dataframe\">\n",
              "  <thead>\n",
              "    <tr style=\"text-align: right;\">\n",
              "      <th></th>\n",
              "      <th>date</th>\n",
              "      <th>id_station</th>\n",
              "      <th>id_parameter</th>\n",
              "      <th>value</th>\n",
              "      <th>unit</th>\n",
              "    </tr>\n",
              "  </thead>\n",
              "  <tbody>\n",
              "    <tr>\n",
              "      <th>0</th>\n",
              "      <td>01/01/2021 01:00</td>\n",
              "      <td>ACO</td>\n",
              "      <td>CO</td>\n",
              "      <td>NaN</td>\n",
              "      <td>15</td>\n",
              "    </tr>\n",
              "    <tr>\n",
              "      <th>1</th>\n",
              "      <td>01/01/2021 01:00</td>\n",
              "      <td>ACO</td>\n",
              "      <td>NO</td>\n",
              "      <td>NaN</td>\n",
              "      <td>1</td>\n",
              "    </tr>\n",
              "    <tr>\n",
              "      <th>2</th>\n",
              "      <td>01/01/2021 01:00</td>\n",
              "      <td>ACO</td>\n",
              "      <td>NO2</td>\n",
              "      <td>NaN</td>\n",
              "      <td>1</td>\n",
              "    </tr>\n",
              "    <tr>\n",
              "      <th>3</th>\n",
              "      <td>01/01/2021 01:00</td>\n",
              "      <td>ACO</td>\n",
              "      <td>NOX</td>\n",
              "      <td>NaN</td>\n",
              "      <td>1</td>\n",
              "    </tr>\n",
              "    <tr>\n",
              "      <th>4</th>\n",
              "      <td>01/01/2021 01:00</td>\n",
              "      <td>ACO</td>\n",
              "      <td>O3</td>\n",
              "      <td>NaN</td>\n",
              "      <td>1</td>\n",
              "    </tr>\n",
              "    <tr>\n",
              "      <th>5</th>\n",
              "      <td>01/01/2021 01:00</td>\n",
              "      <td>ACO</td>\n",
              "      <td>PM10</td>\n",
              "      <td>33.0</td>\n",
              "      <td>2</td>\n",
              "    </tr>\n",
              "    <tr>\n",
              "      <th>6</th>\n",
              "      <td>01/01/2021 01:00</td>\n",
              "      <td>ACO</td>\n",
              "      <td>SO2</td>\n",
              "      <td>NaN</td>\n",
              "      <td>1</td>\n",
              "    </tr>\n",
              "    <tr>\n",
              "      <th>7</th>\n",
              "      <td>01/01/2021 01:00</td>\n",
              "      <td>AJU</td>\n",
              "      <td>O3</td>\n",
              "      <td>24.0</td>\n",
              "      <td>1</td>\n",
              "    </tr>\n",
              "    <tr>\n",
              "      <th>8</th>\n",
              "      <td>01/01/2021 01:00</td>\n",
              "      <td>AJU</td>\n",
              "      <td>PM2.5</td>\n",
              "      <td>NaN</td>\n",
              "      <td>2</td>\n",
              "    </tr>\n",
              "    <tr>\n",
              "      <th>9</th>\n",
              "      <td>01/01/2021 01:00</td>\n",
              "      <td>ATI</td>\n",
              "      <td>CO</td>\n",
              "      <td>0.3</td>\n",
              "      <td>15</td>\n",
              "    </tr>\n",
              "    <tr>\n",
              "      <th>10</th>\n",
              "      <td>01/01/2021 01:00</td>\n",
              "      <td>ATI</td>\n",
              "      <td>NO</td>\n",
              "      <td>0.0</td>\n",
              "      <td>1</td>\n",
              "    </tr>\n",
              "    <tr>\n",
              "      <th>11</th>\n",
              "      <td>01/01/2021 01:00</td>\n",
              "      <td>ATI</td>\n",
              "      <td>NO2</td>\n",
              "      <td>12.0</td>\n",
              "      <td>1</td>\n",
              "    </tr>\n",
              "    <tr>\n",
              "      <th>12</th>\n",
              "      <td>01/01/2021 01:00</td>\n",
              "      <td>ATI</td>\n",
              "      <td>NOX</td>\n",
              "      <td>12.0</td>\n",
              "      <td>1</td>\n",
              "    </tr>\n",
              "    <tr>\n",
              "      <th>13</th>\n",
              "      <td>01/01/2021 01:00</td>\n",
              "      <td>ATI</td>\n",
              "      <td>O3</td>\n",
              "      <td>23.0</td>\n",
              "      <td>1</td>\n",
              "    </tr>\n",
              "    <tr>\n",
              "      <th>14</th>\n",
              "      <td>01/01/2021 01:00</td>\n",
              "      <td>ATI</td>\n",
              "      <td>PM10</td>\n",
              "      <td>20.0</td>\n",
              "      <td>2</td>\n",
              "    </tr>\n",
              "  </tbody>\n",
              "</table>\n",
              "</div>\n",
              "      <button class=\"colab-df-convert\" onclick=\"convertToInteractive('df-8cc2a770-e24f-44c8-9088-6ec01ee27149')\"\n",
              "              title=\"Convert this dataframe to an interactive table.\"\n",
              "              style=\"display:none;\">\n",
              "        \n",
              "  <svg xmlns=\"http://www.w3.org/2000/svg\" height=\"24px\"viewBox=\"0 0 24 24\"\n",
              "       width=\"24px\">\n",
              "    <path d=\"M0 0h24v24H0V0z\" fill=\"none\"/>\n",
              "    <path d=\"M18.56 5.44l.94 2.06.94-2.06 2.06-.94-2.06-.94-.94-2.06-.94 2.06-2.06.94zm-11 1L8.5 8.5l.94-2.06 2.06-.94-2.06-.94L8.5 2.5l-.94 2.06-2.06.94zm10 10l.94 2.06.94-2.06 2.06-.94-2.06-.94-.94-2.06-.94 2.06-2.06.94z\"/><path d=\"M17.41 7.96l-1.37-1.37c-.4-.4-.92-.59-1.43-.59-.52 0-1.04.2-1.43.59L10.3 9.45l-7.72 7.72c-.78.78-.78 2.05 0 2.83L4 21.41c.39.39.9.59 1.41.59.51 0 1.02-.2 1.41-.59l7.78-7.78 2.81-2.81c.8-.78.8-2.07 0-2.86zM5.41 20L4 18.59l7.72-7.72 1.47 1.35L5.41 20z\"/>\n",
              "  </svg>\n",
              "      </button>\n",
              "      \n",
              "  <style>\n",
              "    .colab-df-container {\n",
              "      display:flex;\n",
              "      flex-wrap:wrap;\n",
              "      gap: 12px;\n",
              "    }\n",
              "\n",
              "    .colab-df-convert {\n",
              "      background-color: #E8F0FE;\n",
              "      border: none;\n",
              "      border-radius: 50%;\n",
              "      cursor: pointer;\n",
              "      display: none;\n",
              "      fill: #1967D2;\n",
              "      height: 32px;\n",
              "      padding: 0 0 0 0;\n",
              "      width: 32px;\n",
              "    }\n",
              "\n",
              "    .colab-df-convert:hover {\n",
              "      background-color: #E2EBFA;\n",
              "      box-shadow: 0px 1px 2px rgba(60, 64, 67, 0.3), 0px 1px 3px 1px rgba(60, 64, 67, 0.15);\n",
              "      fill: #174EA6;\n",
              "    }\n",
              "\n",
              "    [theme=dark] .colab-df-convert {\n",
              "      background-color: #3B4455;\n",
              "      fill: #D2E3FC;\n",
              "    }\n",
              "\n",
              "    [theme=dark] .colab-df-convert:hover {\n",
              "      background-color: #434B5C;\n",
              "      box-shadow: 0px 1px 3px 1px rgba(0, 0, 0, 0.15);\n",
              "      filter: drop-shadow(0px 1px 2px rgba(0, 0, 0, 0.3));\n",
              "      fill: #FFFFFF;\n",
              "    }\n",
              "  </style>\n",
              "\n",
              "      <script>\n",
              "        const buttonEl =\n",
              "          document.querySelector('#df-8cc2a770-e24f-44c8-9088-6ec01ee27149 button.colab-df-convert');\n",
              "        buttonEl.style.display =\n",
              "          google.colab.kernel.accessAllowed ? 'block' : 'none';\n",
              "\n",
              "        async function convertToInteractive(key) {\n",
              "          const element = document.querySelector('#df-8cc2a770-e24f-44c8-9088-6ec01ee27149');\n",
              "          const dataTable =\n",
              "            await google.colab.kernel.invokeFunction('convertToInteractive',\n",
              "                                                     [key], {});\n",
              "          if (!dataTable) return;\n",
              "\n",
              "          const docLinkHtml = 'Like what you see? Visit the ' +\n",
              "            '<a target=\"_blank\" href=https://colab.research.google.com/notebooks/data_table.ipynb>data table notebook</a>'\n",
              "            + ' to learn more about interactive tables.';\n",
              "          element.innerHTML = '';\n",
              "          dataTable['output_type'] = 'display_data';\n",
              "          await google.colab.output.renderOutput(dataTable, element);\n",
              "          const docLink = document.createElement('div');\n",
              "          docLink.innerHTML = docLinkHtml;\n",
              "          element.appendChild(docLink);\n",
              "        }\n",
              "      </script>\n",
              "    </div>\n",
              "  </div>\n",
              "  "
            ],
            "text/plain": [
              "                date id_station id_parameter  value  unit\n",
              "0   01/01/2021 01:00        ACO           CO    NaN    15\n",
              "1   01/01/2021 01:00        ACO           NO    NaN     1\n",
              "2   01/01/2021 01:00        ACO          NO2    NaN     1\n",
              "3   01/01/2021 01:00        ACO          NOX    NaN     1\n",
              "4   01/01/2021 01:00        ACO           O3    NaN     1\n",
              "5   01/01/2021 01:00        ACO         PM10   33.0     2\n",
              "6   01/01/2021 01:00        ACO          SO2    NaN     1\n",
              "7   01/01/2021 01:00        AJU           O3   24.0     1\n",
              "8   01/01/2021 01:00        AJU        PM2.5    NaN     2\n",
              "9   01/01/2021 01:00        ATI           CO    0.3    15\n",
              "10  01/01/2021 01:00        ATI           NO    0.0     1\n",
              "11  01/01/2021 01:00        ATI          NO2   12.0     1\n",
              "12  01/01/2021 01:00        ATI          NOX   12.0     1\n",
              "13  01/01/2021 01:00        ATI           O3   23.0     1\n",
              "14  01/01/2021 01:00        ATI         PM10   20.0     2"
            ]
          },
          "metadata": {},
          "execution_count": 3
        }
      ]
    },
    {
      "cell_type": "code",
      "source": [
        "d = data['date']\n",
        "pd.to_datetime(d, format='%d/%m/%Y %H:%M')"
      ],
      "metadata": {
        "id": "1YPM4UtkgofH",
        "outputId": "82fcd5e8-2750-41d1-d0de-37179c12b902",
        "colab": {
          "base_uri": "https://localhost:8080/",
          "height": 537
        }
      },
      "execution_count": 4,
      "outputs": [
        {
          "output_type": "error",
          "ename": "ValueError",
          "evalue": "ignored",
          "traceback": [
            "\u001b[0;31m---------------------------------------------------------------------------\u001b[0m",
            "\u001b[0;31mTypeError\u001b[0m                                 Traceback (most recent call last)",
            "\u001b[0;32m/usr/local/lib/python3.7/dist-packages/pandas/core/tools/datetimes.py\u001b[0m in \u001b[0;36m_convert_listlike_datetimes\u001b[0;34m(arg, format, name, tz, unit, errors, infer_datetime_format, dayfirst, yearfirst, exact)\u001b[0m\n\u001b[1;32m    449\u001b[0m             \u001b[0;32mtry\u001b[0m\u001b[0;34m:\u001b[0m\u001b[0;34m\u001b[0m\u001b[0;34m\u001b[0m\u001b[0m\n\u001b[0;32m--> 450\u001b[0;31m                 \u001b[0mvalues\u001b[0m\u001b[0;34m,\u001b[0m \u001b[0mtz\u001b[0m \u001b[0;34m=\u001b[0m \u001b[0mconversion\u001b[0m\u001b[0;34m.\u001b[0m\u001b[0mdatetime_to_datetime64\u001b[0m\u001b[0;34m(\u001b[0m\u001b[0marg\u001b[0m\u001b[0;34m)\u001b[0m\u001b[0;34m\u001b[0m\u001b[0;34m\u001b[0m\u001b[0m\n\u001b[0m\u001b[1;32m    451\u001b[0m                 \u001b[0mdta\u001b[0m \u001b[0;34m=\u001b[0m \u001b[0mDatetimeArray\u001b[0m\u001b[0;34m(\u001b[0m\u001b[0mvalues\u001b[0m\u001b[0;34m,\u001b[0m \u001b[0mdtype\u001b[0m\u001b[0;34m=\u001b[0m\u001b[0mtz_to_dtype\u001b[0m\u001b[0;34m(\u001b[0m\u001b[0mtz\u001b[0m\u001b[0;34m)\u001b[0m\u001b[0;34m)\u001b[0m\u001b[0;34m\u001b[0m\u001b[0;34m\u001b[0m\u001b[0m\n",
            "\u001b[0;32mpandas/_libs/tslibs/conversion.pyx\u001b[0m in \u001b[0;36mpandas._libs.tslibs.conversion.datetime_to_datetime64\u001b[0;34m()\u001b[0m\n",
            "\u001b[0;31mTypeError\u001b[0m: Unrecognized value type: <class 'str'>",
            "\nDuring handling of the above exception, another exception occurred:\n",
            "\u001b[0;31mValueError\u001b[0m                                Traceback (most recent call last)",
            "\u001b[0;32m<ipython-input-4-5d8b97b6a5bd>\u001b[0m in \u001b[0;36m<module>\u001b[0;34m()\u001b[0m\n\u001b[1;32m      1\u001b[0m \u001b[0md\u001b[0m \u001b[0;34m=\u001b[0m \u001b[0mdata\u001b[0m\u001b[0;34m[\u001b[0m\u001b[0;34m'date'\u001b[0m\u001b[0;34m]\u001b[0m\u001b[0;34m\u001b[0m\u001b[0;34m\u001b[0m\u001b[0m\n\u001b[0;32m----> 2\u001b[0;31m \u001b[0mpd\u001b[0m\u001b[0;34m.\u001b[0m\u001b[0mto_datetime\u001b[0m\u001b[0;34m(\u001b[0m\u001b[0md\u001b[0m\u001b[0;34m,\u001b[0m \u001b[0mformat\u001b[0m\u001b[0;34m=\u001b[0m\u001b[0;34m'%d/%m/%Y %H:%M'\u001b[0m\u001b[0;34m)\u001b[0m\u001b[0;34m\u001b[0m\u001b[0;34m\u001b[0m\u001b[0m\n\u001b[0m",
            "\u001b[0;32m/usr/local/lib/python3.7/dist-packages/pandas/core/tools/datetimes.py\u001b[0m in \u001b[0;36mto_datetime\u001b[0;34m(arg, errors, dayfirst, yearfirst, utc, format, exact, unit, infer_datetime_format, origin, cache)\u001b[0m\n\u001b[1;32m    797\u001b[0m                 \u001b[0mresult\u001b[0m \u001b[0;34m=\u001b[0m \u001b[0mresult\u001b[0m\u001b[0;34m.\u001b[0m\u001b[0mtz_localize\u001b[0m\u001b[0;34m(\u001b[0m\u001b[0mtz\u001b[0m\u001b[0;34m)\u001b[0m\u001b[0;34m\u001b[0m\u001b[0;34m\u001b[0m\u001b[0m\n\u001b[1;32m    798\u001b[0m     \u001b[0;32melif\u001b[0m \u001b[0misinstance\u001b[0m\u001b[0;34m(\u001b[0m\u001b[0marg\u001b[0m\u001b[0;34m,\u001b[0m \u001b[0mABCSeries\u001b[0m\u001b[0;34m)\u001b[0m\u001b[0;34m:\u001b[0m\u001b[0;34m\u001b[0m\u001b[0;34m\u001b[0m\u001b[0m\n\u001b[0;32m--> 799\u001b[0;31m         \u001b[0mcache_array\u001b[0m \u001b[0;34m=\u001b[0m \u001b[0m_maybe_cache\u001b[0m\u001b[0;34m(\u001b[0m\u001b[0marg\u001b[0m\u001b[0;34m,\u001b[0m \u001b[0mformat\u001b[0m\u001b[0;34m,\u001b[0m \u001b[0mcache\u001b[0m\u001b[0;34m,\u001b[0m \u001b[0mconvert_listlike\u001b[0m\u001b[0;34m)\u001b[0m\u001b[0;34m\u001b[0m\u001b[0;34m\u001b[0m\u001b[0m\n\u001b[0m\u001b[1;32m    800\u001b[0m         \u001b[0;32mif\u001b[0m \u001b[0;32mnot\u001b[0m \u001b[0mcache_array\u001b[0m\u001b[0;34m.\u001b[0m\u001b[0mempty\u001b[0m\u001b[0;34m:\u001b[0m\u001b[0;34m\u001b[0m\u001b[0;34m\u001b[0m\u001b[0m\n\u001b[1;32m    801\u001b[0m             \u001b[0mresult\u001b[0m \u001b[0;34m=\u001b[0m \u001b[0marg\u001b[0m\u001b[0;34m.\u001b[0m\u001b[0mmap\u001b[0m\u001b[0;34m(\u001b[0m\u001b[0mcache_array\u001b[0m\u001b[0;34m)\u001b[0m\u001b[0;34m\u001b[0m\u001b[0;34m\u001b[0m\u001b[0m\n",
            "\u001b[0;32m/usr/local/lib/python3.7/dist-packages/pandas/core/tools/datetimes.py\u001b[0m in \u001b[0;36m_maybe_cache\u001b[0;34m(arg, format, cache, convert_listlike)\u001b[0m\n\u001b[1;32m    168\u001b[0m         \u001b[0munique_dates\u001b[0m \u001b[0;34m=\u001b[0m \u001b[0munique\u001b[0m\u001b[0;34m(\u001b[0m\u001b[0marg\u001b[0m\u001b[0;34m)\u001b[0m\u001b[0;34m\u001b[0m\u001b[0;34m\u001b[0m\u001b[0m\n\u001b[1;32m    169\u001b[0m         \u001b[0;32mif\u001b[0m \u001b[0mlen\u001b[0m\u001b[0;34m(\u001b[0m\u001b[0munique_dates\u001b[0m\u001b[0;34m)\u001b[0m \u001b[0;34m<\u001b[0m \u001b[0mlen\u001b[0m\u001b[0;34m(\u001b[0m\u001b[0marg\u001b[0m\u001b[0;34m)\u001b[0m\u001b[0;34m:\u001b[0m\u001b[0;34m\u001b[0m\u001b[0;34m\u001b[0m\u001b[0m\n\u001b[0;32m--> 170\u001b[0;31m             \u001b[0mcache_dates\u001b[0m \u001b[0;34m=\u001b[0m \u001b[0mconvert_listlike\u001b[0m\u001b[0;34m(\u001b[0m\u001b[0munique_dates\u001b[0m\u001b[0;34m,\u001b[0m \u001b[0mformat\u001b[0m\u001b[0;34m)\u001b[0m\u001b[0;34m\u001b[0m\u001b[0;34m\u001b[0m\u001b[0m\n\u001b[0m\u001b[1;32m    171\u001b[0m             \u001b[0mcache_array\u001b[0m \u001b[0;34m=\u001b[0m \u001b[0mSeries\u001b[0m\u001b[0;34m(\u001b[0m\u001b[0mcache_dates\u001b[0m\u001b[0;34m,\u001b[0m \u001b[0mindex\u001b[0m\u001b[0;34m=\u001b[0m\u001b[0munique_dates\u001b[0m\u001b[0;34m)\u001b[0m\u001b[0;34m\u001b[0m\u001b[0;34m\u001b[0m\u001b[0m\n\u001b[1;32m    172\u001b[0m     \u001b[0;32mreturn\u001b[0m \u001b[0mcache_array\u001b[0m\u001b[0;34m\u001b[0m\u001b[0;34m\u001b[0m\u001b[0m\n",
            "\u001b[0;32m/usr/local/lib/python3.7/dist-packages/pandas/core/tools/datetimes.py\u001b[0m in \u001b[0;36m_convert_listlike_datetimes\u001b[0;34m(arg, format, name, tz, unit, errors, infer_datetime_format, dayfirst, yearfirst, exact)\u001b[0m\n\u001b[1;32m    452\u001b[0m                 \u001b[0;32mreturn\u001b[0m \u001b[0mDatetimeIndex\u001b[0m\u001b[0;34m.\u001b[0m\u001b[0m_simple_new\u001b[0m\u001b[0;34m(\u001b[0m\u001b[0mdta\u001b[0m\u001b[0;34m,\u001b[0m \u001b[0mname\u001b[0m\u001b[0;34m=\u001b[0m\u001b[0mname\u001b[0m\u001b[0;34m)\u001b[0m\u001b[0;34m\u001b[0m\u001b[0;34m\u001b[0m\u001b[0m\n\u001b[1;32m    453\u001b[0m             \u001b[0;32mexcept\u001b[0m \u001b[0;34m(\u001b[0m\u001b[0mValueError\u001b[0m\u001b[0;34m,\u001b[0m \u001b[0mTypeError\u001b[0m\u001b[0;34m)\u001b[0m\u001b[0;34m:\u001b[0m\u001b[0;34m\u001b[0m\u001b[0;34m\u001b[0m\u001b[0m\n\u001b[0;32m--> 454\u001b[0;31m                 \u001b[0;32mraise\u001b[0m \u001b[0me\u001b[0m\u001b[0;34m\u001b[0m\u001b[0;34m\u001b[0m\u001b[0m\n\u001b[0m\u001b[1;32m    455\u001b[0m \u001b[0;34m\u001b[0m\u001b[0m\n\u001b[1;32m    456\u001b[0m     \u001b[0;32mif\u001b[0m \u001b[0mresult\u001b[0m \u001b[0;32mis\u001b[0m \u001b[0;32mNone\u001b[0m\u001b[0;34m:\u001b[0m\u001b[0;34m\u001b[0m\u001b[0;34m\u001b[0m\u001b[0m\n",
            "\u001b[0;32m/usr/local/lib/python3.7/dist-packages/pandas/core/tools/datetimes.py\u001b[0m in \u001b[0;36m_convert_listlike_datetimes\u001b[0;34m(arg, format, name, tz, unit, errors, infer_datetime_format, dayfirst, yearfirst, exact)\u001b[0m\n\u001b[1;32m    416\u001b[0m                 \u001b[0;32mtry\u001b[0m\u001b[0;34m:\u001b[0m\u001b[0;34m\u001b[0m\u001b[0;34m\u001b[0m\u001b[0m\n\u001b[1;32m    417\u001b[0m                     result, timezones = array_strptime(\n\u001b[0;32m--> 418\u001b[0;31m                         \u001b[0marg\u001b[0m\u001b[0;34m,\u001b[0m \u001b[0mformat\u001b[0m\u001b[0;34m,\u001b[0m \u001b[0mexact\u001b[0m\u001b[0;34m=\u001b[0m\u001b[0mexact\u001b[0m\u001b[0;34m,\u001b[0m \u001b[0merrors\u001b[0m\u001b[0;34m=\u001b[0m\u001b[0merrors\u001b[0m\u001b[0;34m\u001b[0m\u001b[0;34m\u001b[0m\u001b[0m\n\u001b[0m\u001b[1;32m    419\u001b[0m                     )\n\u001b[1;32m    420\u001b[0m                     \u001b[0;32mif\u001b[0m \u001b[0;34m\"%Z\"\u001b[0m \u001b[0;32min\u001b[0m \u001b[0mformat\u001b[0m \u001b[0;32mor\u001b[0m \u001b[0;34m\"%z\"\u001b[0m \u001b[0;32min\u001b[0m \u001b[0mformat\u001b[0m\u001b[0;34m:\u001b[0m\u001b[0;34m\u001b[0m\u001b[0;34m\u001b[0m\u001b[0m\n",
            "\u001b[0;32mpandas/_libs/tslibs/strptime.pyx\u001b[0m in \u001b[0;36mpandas._libs.tslibs.strptime.array_strptime\u001b[0;34m()\u001b[0m\n",
            "\u001b[0;31mValueError\u001b[0m: time data '01/01/2021 24:00' does not match format '%d/%m/%Y %H:%M' (match)"
          ]
        }
      ]
    },
    {
      "cell_type": "code",
      "source": [
        "def fix_24hr(dt):\n",
        "    dt_fix = dt[:-5] + '00' + dt[-3:]\n",
        "    return dt_fix"
      ],
      "metadata": {
        "id": "-FkKfTGzha6k"
      },
      "execution_count": 5,
      "outputs": []
    },
    {
      "cell_type": "code",
      "source": [
        "data['date'] = pd.to_datetime(\n",
        "    d.where(~d.str.contains('24:00'), lambda x: x.apply(fix_24hr)), \n",
        "    format='%d/%m/%Y %H:%M')"
      ],
      "metadata": {
        "id": "ZNiG3IlihlD1"
      },
      "execution_count": 6,
      "outputs": []
    },
    {
      "cell_type": "code",
      "source": [
        "data.head(15)"
      ],
      "metadata": {
        "id": "mYITp7kkhpch",
        "outputId": "6c63f02b-6b72-4272-f4b9-02adbbf34249",
        "colab": {
          "base_uri": "https://localhost:8080/",
          "height": 520
        }
      },
      "execution_count": 7,
      "outputs": [
        {
          "output_type": "execute_result",
          "data": {
            "text/html": [
              "\n",
              "  <div id=\"df-9923ee71-6420-4589-b8b8-82a5f94eefa5\">\n",
              "    <div class=\"colab-df-container\">\n",
              "      <div>\n",
              "<style scoped>\n",
              "    .dataframe tbody tr th:only-of-type {\n",
              "        vertical-align: middle;\n",
              "    }\n",
              "\n",
              "    .dataframe tbody tr th {\n",
              "        vertical-align: top;\n",
              "    }\n",
              "\n",
              "    .dataframe thead th {\n",
              "        text-align: right;\n",
              "    }\n",
              "</style>\n",
              "<table border=\"1\" class=\"dataframe\">\n",
              "  <thead>\n",
              "    <tr style=\"text-align: right;\">\n",
              "      <th></th>\n",
              "      <th>date</th>\n",
              "      <th>id_station</th>\n",
              "      <th>id_parameter</th>\n",
              "      <th>value</th>\n",
              "      <th>unit</th>\n",
              "    </tr>\n",
              "  </thead>\n",
              "  <tbody>\n",
              "    <tr>\n",
              "      <th>0</th>\n",
              "      <td>2021-01-01 01:00:00</td>\n",
              "      <td>ACO</td>\n",
              "      <td>CO</td>\n",
              "      <td>NaN</td>\n",
              "      <td>15</td>\n",
              "    </tr>\n",
              "    <tr>\n",
              "      <th>1</th>\n",
              "      <td>2021-01-01 01:00:00</td>\n",
              "      <td>ACO</td>\n",
              "      <td>NO</td>\n",
              "      <td>NaN</td>\n",
              "      <td>1</td>\n",
              "    </tr>\n",
              "    <tr>\n",
              "      <th>2</th>\n",
              "      <td>2021-01-01 01:00:00</td>\n",
              "      <td>ACO</td>\n",
              "      <td>NO2</td>\n",
              "      <td>NaN</td>\n",
              "      <td>1</td>\n",
              "    </tr>\n",
              "    <tr>\n",
              "      <th>3</th>\n",
              "      <td>2021-01-01 01:00:00</td>\n",
              "      <td>ACO</td>\n",
              "      <td>NOX</td>\n",
              "      <td>NaN</td>\n",
              "      <td>1</td>\n",
              "    </tr>\n",
              "    <tr>\n",
              "      <th>4</th>\n",
              "      <td>2021-01-01 01:00:00</td>\n",
              "      <td>ACO</td>\n",
              "      <td>O3</td>\n",
              "      <td>NaN</td>\n",
              "      <td>1</td>\n",
              "    </tr>\n",
              "    <tr>\n",
              "      <th>5</th>\n",
              "      <td>2021-01-01 01:00:00</td>\n",
              "      <td>ACO</td>\n",
              "      <td>PM10</td>\n",
              "      <td>33.0</td>\n",
              "      <td>2</td>\n",
              "    </tr>\n",
              "    <tr>\n",
              "      <th>6</th>\n",
              "      <td>2021-01-01 01:00:00</td>\n",
              "      <td>ACO</td>\n",
              "      <td>SO2</td>\n",
              "      <td>NaN</td>\n",
              "      <td>1</td>\n",
              "    </tr>\n",
              "    <tr>\n",
              "      <th>7</th>\n",
              "      <td>2021-01-01 01:00:00</td>\n",
              "      <td>AJU</td>\n",
              "      <td>O3</td>\n",
              "      <td>24.0</td>\n",
              "      <td>1</td>\n",
              "    </tr>\n",
              "    <tr>\n",
              "      <th>8</th>\n",
              "      <td>2021-01-01 01:00:00</td>\n",
              "      <td>AJU</td>\n",
              "      <td>PM2.5</td>\n",
              "      <td>NaN</td>\n",
              "      <td>2</td>\n",
              "    </tr>\n",
              "    <tr>\n",
              "      <th>9</th>\n",
              "      <td>2021-01-01 01:00:00</td>\n",
              "      <td>ATI</td>\n",
              "      <td>CO</td>\n",
              "      <td>0.3</td>\n",
              "      <td>15</td>\n",
              "    </tr>\n",
              "    <tr>\n",
              "      <th>10</th>\n",
              "      <td>2021-01-01 01:00:00</td>\n",
              "      <td>ATI</td>\n",
              "      <td>NO</td>\n",
              "      <td>0.0</td>\n",
              "      <td>1</td>\n",
              "    </tr>\n",
              "    <tr>\n",
              "      <th>11</th>\n",
              "      <td>2021-01-01 01:00:00</td>\n",
              "      <td>ATI</td>\n",
              "      <td>NO2</td>\n",
              "      <td>12.0</td>\n",
              "      <td>1</td>\n",
              "    </tr>\n",
              "    <tr>\n",
              "      <th>12</th>\n",
              "      <td>2021-01-01 01:00:00</td>\n",
              "      <td>ATI</td>\n",
              "      <td>NOX</td>\n",
              "      <td>12.0</td>\n",
              "      <td>1</td>\n",
              "    </tr>\n",
              "    <tr>\n",
              "      <th>13</th>\n",
              "      <td>2021-01-01 01:00:00</td>\n",
              "      <td>ATI</td>\n",
              "      <td>O3</td>\n",
              "      <td>23.0</td>\n",
              "      <td>1</td>\n",
              "    </tr>\n",
              "    <tr>\n",
              "      <th>14</th>\n",
              "      <td>2021-01-01 01:00:00</td>\n",
              "      <td>ATI</td>\n",
              "      <td>PM10</td>\n",
              "      <td>20.0</td>\n",
              "      <td>2</td>\n",
              "    </tr>\n",
              "  </tbody>\n",
              "</table>\n",
              "</div>\n",
              "      <button class=\"colab-df-convert\" onclick=\"convertToInteractive('df-9923ee71-6420-4589-b8b8-82a5f94eefa5')\"\n",
              "              title=\"Convert this dataframe to an interactive table.\"\n",
              "              style=\"display:none;\">\n",
              "        \n",
              "  <svg xmlns=\"http://www.w3.org/2000/svg\" height=\"24px\"viewBox=\"0 0 24 24\"\n",
              "       width=\"24px\">\n",
              "    <path d=\"M0 0h24v24H0V0z\" fill=\"none\"/>\n",
              "    <path d=\"M18.56 5.44l.94 2.06.94-2.06 2.06-.94-2.06-.94-.94-2.06-.94 2.06-2.06.94zm-11 1L8.5 8.5l.94-2.06 2.06-.94-2.06-.94L8.5 2.5l-.94 2.06-2.06.94zm10 10l.94 2.06.94-2.06 2.06-.94-2.06-.94-.94-2.06-.94 2.06-2.06.94z\"/><path d=\"M17.41 7.96l-1.37-1.37c-.4-.4-.92-.59-1.43-.59-.52 0-1.04.2-1.43.59L10.3 9.45l-7.72 7.72c-.78.78-.78 2.05 0 2.83L4 21.41c.39.39.9.59 1.41.59.51 0 1.02-.2 1.41-.59l7.78-7.78 2.81-2.81c.8-.78.8-2.07 0-2.86zM5.41 20L4 18.59l7.72-7.72 1.47 1.35L5.41 20z\"/>\n",
              "  </svg>\n",
              "      </button>\n",
              "      \n",
              "  <style>\n",
              "    .colab-df-container {\n",
              "      display:flex;\n",
              "      flex-wrap:wrap;\n",
              "      gap: 12px;\n",
              "    }\n",
              "\n",
              "    .colab-df-convert {\n",
              "      background-color: #E8F0FE;\n",
              "      border: none;\n",
              "      border-radius: 50%;\n",
              "      cursor: pointer;\n",
              "      display: none;\n",
              "      fill: #1967D2;\n",
              "      height: 32px;\n",
              "      padding: 0 0 0 0;\n",
              "      width: 32px;\n",
              "    }\n",
              "\n",
              "    .colab-df-convert:hover {\n",
              "      background-color: #E2EBFA;\n",
              "      box-shadow: 0px 1px 2px rgba(60, 64, 67, 0.3), 0px 1px 3px 1px rgba(60, 64, 67, 0.15);\n",
              "      fill: #174EA6;\n",
              "    }\n",
              "\n",
              "    [theme=dark] .colab-df-convert {\n",
              "      background-color: #3B4455;\n",
              "      fill: #D2E3FC;\n",
              "    }\n",
              "\n",
              "    [theme=dark] .colab-df-convert:hover {\n",
              "      background-color: #434B5C;\n",
              "      box-shadow: 0px 1px 3px 1px rgba(0, 0, 0, 0.15);\n",
              "      filter: drop-shadow(0px 1px 2px rgba(0, 0, 0, 0.3));\n",
              "      fill: #FFFFFF;\n",
              "    }\n",
              "  </style>\n",
              "\n",
              "      <script>\n",
              "        const buttonEl =\n",
              "          document.querySelector('#df-9923ee71-6420-4589-b8b8-82a5f94eefa5 button.colab-df-convert');\n",
              "        buttonEl.style.display =\n",
              "          google.colab.kernel.accessAllowed ? 'block' : 'none';\n",
              "\n",
              "        async function convertToInteractive(key) {\n",
              "          const element = document.querySelector('#df-9923ee71-6420-4589-b8b8-82a5f94eefa5');\n",
              "          const dataTable =\n",
              "            await google.colab.kernel.invokeFunction('convertToInteractive',\n",
              "                                                     [key], {});\n",
              "          if (!dataTable) return;\n",
              "\n",
              "          const docLinkHtml = 'Like what you see? Visit the ' +\n",
              "            '<a target=\"_blank\" href=https://colab.research.google.com/notebooks/data_table.ipynb>data table notebook</a>'\n",
              "            + ' to learn more about interactive tables.';\n",
              "          element.innerHTML = '';\n",
              "          dataTable['output_type'] = 'display_data';\n",
              "          await google.colab.output.renderOutput(dataTable, element);\n",
              "          const docLink = document.createElement('div');\n",
              "          docLink.innerHTML = docLinkHtml;\n",
              "          element.appendChild(docLink);\n",
              "        }\n",
              "      </script>\n",
              "    </div>\n",
              "  </div>\n",
              "  "
            ],
            "text/plain": [
              "                  date id_station id_parameter  value  unit\n",
              "0  2021-01-01 01:00:00        ACO           CO    NaN    15\n",
              "1  2021-01-01 01:00:00        ACO           NO    NaN     1\n",
              "2  2021-01-01 01:00:00        ACO          NO2    NaN     1\n",
              "3  2021-01-01 01:00:00        ACO          NOX    NaN     1\n",
              "4  2021-01-01 01:00:00        ACO           O3    NaN     1\n",
              "5  2021-01-01 01:00:00        ACO         PM10   33.0     2\n",
              "6  2021-01-01 01:00:00        ACO          SO2    NaN     1\n",
              "7  2021-01-01 01:00:00        AJU           O3   24.0     1\n",
              "8  2021-01-01 01:00:00        AJU        PM2.5    NaN     2\n",
              "9  2021-01-01 01:00:00        ATI           CO    0.3    15\n",
              "10 2021-01-01 01:00:00        ATI           NO    0.0     1\n",
              "11 2021-01-01 01:00:00        ATI          NO2   12.0     1\n",
              "12 2021-01-01 01:00:00        ATI          NOX   12.0     1\n",
              "13 2021-01-01 01:00:00        ATI           O3   23.0     1\n",
              "14 2021-01-01 01:00:00        ATI         PM10   20.0     2"
            ]
          },
          "metadata": {},
          "execution_count": 7
        }
      ]
    },
    {
      "cell_type": "code",
      "source": [
        "data.dtypes"
      ],
      "metadata": {
        "id": "aOdHZfq7afNw",
        "outputId": "db7ab665-d2ff-41a2-b0da-977a05bda0c3",
        "colab": {
          "base_uri": "https://localhost:8080/"
        }
      },
      "execution_count": 8,
      "outputs": [
        {
          "output_type": "execute_result",
          "data": {
            "text/plain": [
              "date            datetime64[ns]\n",
              "id_station              object\n",
              "id_parameter            object\n",
              "value                  float64\n",
              "unit                     int64\n",
              "dtype: object"
            ]
          },
          "metadata": {},
          "execution_count": 8
        }
      ]
    },
    {
      "cell_type": "code",
      "source": [
        "PED_O3_march_data = data[\n",
        "    (data['id_station'] == 'PED') &\n",
        "    (data['id_parameter'] == 'O3') &\n",
        "    (data['date'].dt.month == 8)\n",
        "]\n",
        "PED_O3_march_data.head(5)"
      ],
      "metadata": {
        "id": "VD99Vlzwao_E",
        "outputId": "55553ba3-50a6-4ff0-9edb-65361b1a0457",
        "colab": {
          "base_uri": "https://localhost:8080/",
          "height": 206
        }
      },
      "execution_count": 31,
      "outputs": [
        {
          "output_type": "execute_result",
          "data": {
            "text/html": [
              "\n",
              "  <div id=\"df-2a75ec78-e0b5-413e-adb1-89ebe3498926\">\n",
              "    <div class=\"colab-df-container\">\n",
              "      <div>\n",
              "<style scoped>\n",
              "    .dataframe tbody tr th:only-of-type {\n",
              "        vertical-align: middle;\n",
              "    }\n",
              "\n",
              "    .dataframe tbody tr th {\n",
              "        vertical-align: top;\n",
              "    }\n",
              "\n",
              "    .dataframe thead th {\n",
              "        text-align: right;\n",
              "    }\n",
              "</style>\n",
              "<table border=\"1\" class=\"dataframe\">\n",
              "  <thead>\n",
              "    <tr style=\"text-align: right;\">\n",
              "      <th></th>\n",
              "      <th>date</th>\n",
              "      <th>id_station</th>\n",
              "      <th>id_parameter</th>\n",
              "      <th>value</th>\n",
              "      <th>unit</th>\n",
              "    </tr>\n",
              "  </thead>\n",
              "  <tbody>\n",
              "    <tr>\n",
              "      <th>1331753</th>\n",
              "      <td>2021-08-01 01:00:00</td>\n",
              "      <td>PED</td>\n",
              "      <td>O3</td>\n",
              "      <td>7.0</td>\n",
              "      <td>1</td>\n",
              "    </tr>\n",
              "    <tr>\n",
              "      <th>1332015</th>\n",
              "      <td>2021-08-01 02:00:00</td>\n",
              "      <td>PED</td>\n",
              "      <td>O3</td>\n",
              "      <td>10.0</td>\n",
              "      <td>1</td>\n",
              "    </tr>\n",
              "    <tr>\n",
              "      <th>1332277</th>\n",
              "      <td>2021-08-01 03:00:00</td>\n",
              "      <td>PED</td>\n",
              "      <td>O3</td>\n",
              "      <td>12.0</td>\n",
              "      <td>1</td>\n",
              "    </tr>\n",
              "    <tr>\n",
              "      <th>1332539</th>\n",
              "      <td>2021-08-01 04:00:00</td>\n",
              "      <td>PED</td>\n",
              "      <td>O3</td>\n",
              "      <td>7.0</td>\n",
              "      <td>1</td>\n",
              "    </tr>\n",
              "    <tr>\n",
              "      <th>1332801</th>\n",
              "      <td>2021-08-01 05:00:00</td>\n",
              "      <td>PED</td>\n",
              "      <td>O3</td>\n",
              "      <td>5.0</td>\n",
              "      <td>1</td>\n",
              "    </tr>\n",
              "  </tbody>\n",
              "</table>\n",
              "</div>\n",
              "      <button class=\"colab-df-convert\" onclick=\"convertToInteractive('df-2a75ec78-e0b5-413e-adb1-89ebe3498926')\"\n",
              "              title=\"Convert this dataframe to an interactive table.\"\n",
              "              style=\"display:none;\">\n",
              "        \n",
              "  <svg xmlns=\"http://www.w3.org/2000/svg\" height=\"24px\"viewBox=\"0 0 24 24\"\n",
              "       width=\"24px\">\n",
              "    <path d=\"M0 0h24v24H0V0z\" fill=\"none\"/>\n",
              "    <path d=\"M18.56 5.44l.94 2.06.94-2.06 2.06-.94-2.06-.94-.94-2.06-.94 2.06-2.06.94zm-11 1L8.5 8.5l.94-2.06 2.06-.94-2.06-.94L8.5 2.5l-.94 2.06-2.06.94zm10 10l.94 2.06.94-2.06 2.06-.94-2.06-.94-.94-2.06-.94 2.06-2.06.94z\"/><path d=\"M17.41 7.96l-1.37-1.37c-.4-.4-.92-.59-1.43-.59-.52 0-1.04.2-1.43.59L10.3 9.45l-7.72 7.72c-.78.78-.78 2.05 0 2.83L4 21.41c.39.39.9.59 1.41.59.51 0 1.02-.2 1.41-.59l7.78-7.78 2.81-2.81c.8-.78.8-2.07 0-2.86zM5.41 20L4 18.59l7.72-7.72 1.47 1.35L5.41 20z\"/>\n",
              "  </svg>\n",
              "      </button>\n",
              "      \n",
              "  <style>\n",
              "    .colab-df-container {\n",
              "      display:flex;\n",
              "      flex-wrap:wrap;\n",
              "      gap: 12px;\n",
              "    }\n",
              "\n",
              "    .colab-df-convert {\n",
              "      background-color: #E8F0FE;\n",
              "      border: none;\n",
              "      border-radius: 50%;\n",
              "      cursor: pointer;\n",
              "      display: none;\n",
              "      fill: #1967D2;\n",
              "      height: 32px;\n",
              "      padding: 0 0 0 0;\n",
              "      width: 32px;\n",
              "    }\n",
              "\n",
              "    .colab-df-convert:hover {\n",
              "      background-color: #E2EBFA;\n",
              "      box-shadow: 0px 1px 2px rgba(60, 64, 67, 0.3), 0px 1px 3px 1px rgba(60, 64, 67, 0.15);\n",
              "      fill: #174EA6;\n",
              "    }\n",
              "\n",
              "    [theme=dark] .colab-df-convert {\n",
              "      background-color: #3B4455;\n",
              "      fill: #D2E3FC;\n",
              "    }\n",
              "\n",
              "    [theme=dark] .colab-df-convert:hover {\n",
              "      background-color: #434B5C;\n",
              "      box-shadow: 0px 1px 3px 1px rgba(0, 0, 0, 0.15);\n",
              "      filter: drop-shadow(0px 1px 2px rgba(0, 0, 0, 0.3));\n",
              "      fill: #FFFFFF;\n",
              "    }\n",
              "  </style>\n",
              "\n",
              "      <script>\n",
              "        const buttonEl =\n",
              "          document.querySelector('#df-2a75ec78-e0b5-413e-adb1-89ebe3498926 button.colab-df-convert');\n",
              "        buttonEl.style.display =\n",
              "          google.colab.kernel.accessAllowed ? 'block' : 'none';\n",
              "\n",
              "        async function convertToInteractive(key) {\n",
              "          const element = document.querySelector('#df-2a75ec78-e0b5-413e-adb1-89ebe3498926');\n",
              "          const dataTable =\n",
              "            await google.colab.kernel.invokeFunction('convertToInteractive',\n",
              "                                                     [key], {});\n",
              "          if (!dataTable) return;\n",
              "\n",
              "          const docLinkHtml = 'Like what you see? Visit the ' +\n",
              "            '<a target=\"_blank\" href=https://colab.research.google.com/notebooks/data_table.ipynb>data table notebook</a>'\n",
              "            + ' to learn more about interactive tables.';\n",
              "          element.innerHTML = '';\n",
              "          dataTable['output_type'] = 'display_data';\n",
              "          await google.colab.output.renderOutput(dataTable, element);\n",
              "          const docLink = document.createElement('div');\n",
              "          docLink.innerHTML = docLinkHtml;\n",
              "          element.appendChild(docLink);\n",
              "        }\n",
              "      </script>\n",
              "    </div>\n",
              "  </div>\n",
              "  "
            ],
            "text/plain": [
              "                       date id_station id_parameter  value  unit\n",
              "1331753 2021-08-01 01:00:00        PED           O3    7.0     1\n",
              "1332015 2021-08-01 02:00:00        PED           O3   10.0     1\n",
              "1332277 2021-08-01 03:00:00        PED           O3   12.0     1\n",
              "1332539 2021-08-01 04:00:00        PED           O3    7.0     1\n",
              "1332801 2021-08-01 05:00:00        PED           O3    5.0     1"
            ]
          },
          "metadata": {},
          "execution_count": 31
        }
      ]
    },
    {
      "cell_type": "code",
      "source": [
        "chart = alt.Chart(PED_O3_march_data)"
      ],
      "metadata": {
        "id": "lrkCjkd1iAJI"
      },
      "execution_count": 32,
      "outputs": []
    },
    {
      "cell_type": "code",
      "source": [
        "chart.mark_boxplot(extent='min-max').encode(x='value')"
      ],
      "metadata": {
        "id": "GIO738lZiatY",
        "outputId": "7d8a2e22-6dc2-4bdc-ba2f-92a94940904b",
        "colab": {
          "base_uri": "https://localhost:8080/",
          "height": 83
        }
      },
      "execution_count": 33,
      "outputs": [
        {
          "output_type": "execute_result",
          "data": {
            "text/plain": [
              "alt.Chart(...)"
            ],
            "text/html": [
              "\n",
              "<div id=\"altair-viz-14ee4efbf3e34af599dbce7f8ee78d98\"></div>\n",
              "<script type=\"text/javascript\">\n",
              "  var VEGA_DEBUG = (typeof VEGA_DEBUG == \"undefined\") ? {} : VEGA_DEBUG;\n",
              "  (function(spec, embedOpt){\n",
              "    let outputDiv = document.currentScript.previousElementSibling;\n",
              "    if (outputDiv.id !== \"altair-viz-14ee4efbf3e34af599dbce7f8ee78d98\") {\n",
              "      outputDiv = document.getElementById(\"altair-viz-14ee4efbf3e34af599dbce7f8ee78d98\");\n",
              "    }\n",
              "    const paths = {\n",
              "      \"vega\": \"https://cdn.jsdelivr.net/npm//vega@5?noext\",\n",
              "      \"vega-lib\": \"https://cdn.jsdelivr.net/npm//vega-lib?noext\",\n",
              "      \"vega-lite\": \"https://cdn.jsdelivr.net/npm//vega-lite@4.17.0?noext\",\n",
              "      \"vega-embed\": \"https://cdn.jsdelivr.net/npm//vega-embed@6?noext\",\n",
              "    };\n",
              "\n",
              "    function maybeLoadScript(lib, version) {\n",
              "      var key = `${lib.replace(\"-\", \"\")}_version`;\n",
              "      return (VEGA_DEBUG[key] == version) ?\n",
              "        Promise.resolve(paths[lib]) :\n",
              "        new Promise(function(resolve, reject) {\n",
              "          var s = document.createElement('script');\n",
              "          document.getElementsByTagName(\"head\")[0].appendChild(s);\n",
              "          s.async = true;\n",
              "          s.onload = () => {\n",
              "            VEGA_DEBUG[key] = version;\n",
              "            return resolve(paths[lib]);\n",
              "          };\n",
              "          s.onerror = () => reject(`Error loading script: ${paths[lib]}`);\n",
              "          s.src = paths[lib];\n",
              "        });\n",
              "    }\n",
              "\n",
              "    function showError(err) {\n",
              "      outputDiv.innerHTML = `<div class=\"error\" style=\"color:red;\">${err}</div>`;\n",
              "      throw err;\n",
              "    }\n",
              "\n",
              "    function displayChart(vegaEmbed) {\n",
              "      vegaEmbed(outputDiv, spec, embedOpt)\n",
              "        .catch(err => showError(`Javascript Error: ${err.message}<br>This usually means there's a typo in your chart specification. See the javascript console for the full traceback.`));\n",
              "    }\n",
              "\n",
              "    if(typeof define === \"function\" && define.amd) {\n",
              "      requirejs.config({paths});\n",
              "      require([\"vega-embed\"], displayChart, err => showError(`Error loading script: ${err.message}`));\n",
              "    } else {\n",
              "      maybeLoadScript(\"vega\", \"5\")\n",
              "        .then(() => maybeLoadScript(\"vega-lite\", \"4.17.0\"))\n",
              "        .then(() => maybeLoadScript(\"vega-embed\", \"6\"))\n",
              "        .catch(showError)\n",
              "        .then(() => displayChart(vegaEmbed));\n",
              "    }\n",
              "  })({\"config\": {\"view\": {\"continuousWidth\": 400, \"continuousHeight\": 300}}, \"data\": {\"name\": \"data-37ae31f0f990cd35c4714ffd93ea7b67\"}, \"mark\": {\"type\": \"boxplot\", \"extent\": \"min-max\"}, \"encoding\": {\"x\": {\"field\": \"value\", \"type\": \"quantitative\"}}, \"$schema\": \"https://vega.github.io/schema/vega-lite/v4.17.0.json\", \"datasets\": {\"data-37ae31f0f990cd35c4714ffd93ea7b67\": [{\"date\": \"2021-08-01T01:00:00\", \"id_station\": \"PED\", \"id_parameter\": \"O3\", \"value\": 7.0, \"unit\": 1}, {\"date\": \"2021-08-01T02:00:00\", \"id_station\": \"PED\", \"id_parameter\": \"O3\", \"value\": 10.0, \"unit\": 1}, {\"date\": \"2021-08-01T03:00:00\", \"id_station\": \"PED\", \"id_parameter\": \"O3\", \"value\": 12.0, \"unit\": 1}, {\"date\": \"2021-08-01T04:00:00\", \"id_station\": \"PED\", \"id_parameter\": \"O3\", \"value\": 7.0, \"unit\": 1}, {\"date\": \"2021-08-01T05:00:00\", \"id_station\": \"PED\", \"id_parameter\": \"O3\", \"value\": 5.0, \"unit\": 1}, {\"date\": \"2021-08-01T06:00:00\", \"id_station\": \"PED\", \"id_parameter\": \"O3\", \"value\": 5.0, \"unit\": 1}, {\"date\": \"2021-08-01T07:00:00\", \"id_station\": \"PED\", \"id_parameter\": \"O3\", \"value\": 2.0, \"unit\": 1}, {\"date\": \"2021-08-01T08:00:00\", \"id_station\": \"PED\", \"id_parameter\": \"O3\", \"value\": 4.0, \"unit\": 1}, {\"date\": \"2021-08-01T09:00:00\", \"id_station\": \"PED\", \"id_parameter\": \"O3\", \"value\": 18.0, \"unit\": 1}, {\"date\": \"2021-08-01T10:00:00\", \"id_station\": \"PED\", \"id_parameter\": \"O3\", \"value\": 31.0, \"unit\": 1}, {\"date\": \"2021-08-01T11:00:00\", \"id_station\": \"PED\", \"id_parameter\": \"O3\", \"value\": 44.0, \"unit\": 1}, {\"date\": \"2021-08-01T12:00:00\", \"id_station\": \"PED\", \"id_parameter\": \"O3\", \"value\": 55.0, \"unit\": 1}, {\"date\": \"2021-08-01T13:00:00\", \"id_station\": \"PED\", \"id_parameter\": \"O3\", \"value\": 65.0, \"unit\": 1}, {\"date\": \"2021-08-01T14:00:00\", \"id_station\": \"PED\", \"id_parameter\": \"O3\", \"value\": 79.0, \"unit\": 1}, {\"date\": \"2021-08-01T15:00:00\", \"id_station\": \"PED\", \"id_parameter\": \"O3\", \"value\": 79.0, \"unit\": 1}, {\"date\": \"2021-08-01T16:00:00\", \"id_station\": \"PED\", \"id_parameter\": \"O3\", \"value\": 67.0, \"unit\": 1}, {\"date\": \"2021-08-01T17:00:00\", \"id_station\": \"PED\", \"id_parameter\": \"O3\", \"value\": 65.0, \"unit\": 1}, {\"date\": \"2021-08-01T18:00:00\", \"id_station\": \"PED\", \"id_parameter\": \"O3\", \"value\": 48.0, \"unit\": 1}, {\"date\": \"2021-08-01T19:00:00\", \"id_station\": \"PED\", \"id_parameter\": \"O3\", \"value\": 46.0, \"unit\": 1}, {\"date\": \"2021-08-01T20:00:00\", \"id_station\": \"PED\", \"id_parameter\": \"O3\", \"value\": 39.0, \"unit\": 1}, {\"date\": \"2021-08-01T21:00:00\", \"id_station\": \"PED\", \"id_parameter\": \"O3\", \"value\": 31.0, \"unit\": 1}, {\"date\": \"2021-08-01T22:00:00\", \"id_station\": \"PED\", \"id_parameter\": \"O3\", \"value\": 20.0, \"unit\": 1}, {\"date\": \"2021-08-01T23:00:00\", \"id_station\": \"PED\", \"id_parameter\": \"O3\", \"value\": 15.0, \"unit\": 1}, {\"date\": \"2021-08-01T00:00:00\", \"id_station\": \"PED\", \"id_parameter\": \"O3\", \"value\": 10.0, \"unit\": 1}, {\"date\": \"2021-08-02T01:00:00\", \"id_station\": \"PED\", \"id_parameter\": \"O3\", \"value\": 6.0, \"unit\": 1}, {\"date\": \"2021-08-02T02:00:00\", \"id_station\": \"PED\", \"id_parameter\": \"O3\", \"value\": 12.0, \"unit\": 1}, {\"date\": \"2021-08-02T03:00:00\", \"id_station\": \"PED\", \"id_parameter\": \"O3\", \"value\": 22.0, \"unit\": 1}, {\"date\": \"2021-08-02T04:00:00\", \"id_station\": \"PED\", \"id_parameter\": \"O3\", \"value\": 9.0, \"unit\": 1}, {\"date\": \"2021-08-02T05:00:00\", \"id_station\": \"PED\", \"id_parameter\": \"O3\", \"value\": 13.0, \"unit\": 1}, {\"date\": \"2021-08-02T06:00:00\", \"id_station\": \"PED\", \"id_parameter\": \"O3\", \"value\": 4.0, \"unit\": 1}, {\"date\": \"2021-08-02T07:00:00\", \"id_station\": \"PED\", \"id_parameter\": \"O3\", \"value\": 1.0, \"unit\": 1}, {\"date\": \"2021-08-02T08:00:00\", \"id_station\": \"PED\", \"id_parameter\": \"O3\", \"value\": 7.0, \"unit\": 1}, {\"date\": \"2021-08-02T09:00:00\", \"id_station\": \"PED\", \"id_parameter\": \"O3\", \"value\": 18.0, \"unit\": 1}, {\"date\": \"2021-08-02T10:00:00\", \"id_station\": \"PED\", \"id_parameter\": \"O3\", \"value\": 27.0, \"unit\": 1}, {\"date\": \"2021-08-02T11:00:00\", \"id_station\": \"PED\", \"id_parameter\": \"O3\", \"value\": 38.0, \"unit\": 1}, {\"date\": \"2021-08-02T12:00:00\", \"id_station\": \"PED\", \"id_parameter\": \"O3\", \"value\": 58.0, \"unit\": 1}, {\"date\": \"2021-08-02T13:00:00\", \"id_station\": \"PED\", \"id_parameter\": \"O3\", \"value\": 74.0, \"unit\": 1}, {\"date\": \"2021-08-02T14:00:00\", \"id_station\": \"PED\", \"id_parameter\": \"O3\", \"value\": 88.0, \"unit\": 1}, {\"date\": \"2021-08-02T15:00:00\", \"id_station\": \"PED\", \"id_parameter\": \"O3\", \"value\": 95.0, \"unit\": 1}, {\"date\": \"2021-08-02T16:00:00\", \"id_station\": \"PED\", \"id_parameter\": \"O3\", \"value\": 56.0, \"unit\": 1}, {\"date\": \"2021-08-02T17:00:00\", \"id_station\": \"PED\", \"id_parameter\": \"O3\", \"value\": 46.0, \"unit\": 1}, {\"date\": \"2021-08-02T18:00:00\", \"id_station\": \"PED\", \"id_parameter\": \"O3\", \"value\": 58.0, \"unit\": 1}, {\"date\": \"2021-08-02T19:00:00\", \"id_station\": \"PED\", \"id_parameter\": \"O3\", \"value\": 25.0, \"unit\": 1}, {\"date\": \"2021-08-02T20:00:00\", \"id_station\": \"PED\", \"id_parameter\": \"O3\", \"value\": 18.0, \"unit\": 1}, {\"date\": \"2021-08-02T21:00:00\", \"id_station\": \"PED\", \"id_parameter\": \"O3\", \"value\": 26.0, \"unit\": 1}, {\"date\": \"2021-08-02T22:00:00\", \"id_station\": \"PED\", \"id_parameter\": \"O3\", \"value\": 26.0, \"unit\": 1}, {\"date\": \"2021-08-02T23:00:00\", \"id_station\": \"PED\", \"id_parameter\": \"O3\", \"value\": 23.0, \"unit\": 1}, {\"date\": \"2021-08-02T00:00:00\", \"id_station\": \"PED\", \"id_parameter\": \"O3\", \"value\": 26.0, \"unit\": 1}, {\"date\": \"2021-08-03T01:00:00\", \"id_station\": \"PED\", \"id_parameter\": \"O3\", \"value\": 25.0, \"unit\": 1}, {\"date\": \"2021-08-03T02:00:00\", \"id_station\": \"PED\", \"id_parameter\": \"O3\", \"value\": 19.0, \"unit\": 1}, {\"date\": \"2021-08-03T03:00:00\", \"id_station\": \"PED\", \"id_parameter\": \"O3\", \"value\": 16.0, \"unit\": 1}, {\"date\": \"2021-08-03T04:00:00\", \"id_station\": \"PED\", \"id_parameter\": \"O3\", \"value\": 19.0, \"unit\": 1}, {\"date\": \"2021-08-03T05:00:00\", \"id_station\": \"PED\", \"id_parameter\": \"O3\", \"value\": 14.0, \"unit\": 1}, {\"date\": \"2021-08-03T06:00:00\", \"id_station\": \"PED\", \"id_parameter\": \"O3\", \"value\": 7.0, \"unit\": 1}, {\"date\": \"2021-08-03T07:00:00\", \"id_station\": \"PED\", \"id_parameter\": \"O3\", \"value\": 2.0, \"unit\": 1}, {\"date\": \"2021-08-03T08:00:00\", \"id_station\": \"PED\", \"id_parameter\": \"O3\", \"value\": 2.0, \"unit\": 1}, {\"date\": \"2021-08-03T09:00:00\", \"id_station\": \"PED\", \"id_parameter\": \"O3\", \"value\": 7.0, \"unit\": 1}, {\"date\": \"2021-08-03T10:00:00\", \"id_station\": \"PED\", \"id_parameter\": \"O3\", \"value\": 15.0, \"unit\": 1}, {\"date\": \"2021-08-03T11:00:00\", \"id_station\": \"PED\", \"id_parameter\": \"O3\", \"value\": 18.0, \"unit\": 1}, {\"date\": \"2021-08-03T12:00:00\", \"id_station\": \"PED\", \"id_parameter\": \"O3\", \"value\": 30.0, \"unit\": 1}, {\"date\": \"2021-08-03T13:00:00\", \"id_station\": \"PED\", \"id_parameter\": \"O3\", \"value\": 56.0, \"unit\": 1}, {\"date\": \"2021-08-03T14:00:00\", \"id_station\": \"PED\", \"id_parameter\": \"O3\", \"value\": 77.0, \"unit\": 1}, {\"date\": \"2021-08-03T15:00:00\", \"id_station\": \"PED\", \"id_parameter\": \"O3\", \"value\": 76.0, \"unit\": 1}, {\"date\": \"2021-08-03T16:00:00\", \"id_station\": \"PED\", \"id_parameter\": \"O3\", \"value\": 45.0, \"unit\": 1}, {\"date\": \"2021-08-03T17:00:00\", \"id_station\": \"PED\", \"id_parameter\": \"O3\", \"value\": 45.0, \"unit\": 1}, {\"date\": \"2021-08-03T18:00:00\", \"id_station\": \"PED\", \"id_parameter\": \"O3\", \"value\": 24.0, \"unit\": 1}, {\"date\": \"2021-08-03T19:00:00\", \"id_station\": \"PED\", \"id_parameter\": \"O3\", \"value\": 18.0, \"unit\": 1}, {\"date\": \"2021-08-03T20:00:00\", \"id_station\": \"PED\", \"id_parameter\": \"O3\", \"value\": 13.0, \"unit\": 1}, {\"date\": \"2021-08-03T21:00:00\", \"id_station\": \"PED\", \"id_parameter\": \"O3\", \"value\": 18.0, \"unit\": 1}, {\"date\": \"2021-08-03T22:00:00\", \"id_station\": \"PED\", \"id_parameter\": \"O3\", \"value\": 15.0, \"unit\": 1}, {\"date\": \"2021-08-03T23:00:00\", \"id_station\": \"PED\", \"id_parameter\": \"O3\", \"value\": 9.0, \"unit\": 1}, {\"date\": \"2021-08-03T00:00:00\", \"id_station\": \"PED\", \"id_parameter\": \"O3\", \"value\": 6.0, \"unit\": 1}, {\"date\": \"2021-08-04T01:00:00\", \"id_station\": \"PED\", \"id_parameter\": \"O3\", \"value\": 5.0, \"unit\": 1}, {\"date\": \"2021-08-04T02:00:00\", \"id_station\": \"PED\", \"id_parameter\": \"O3\", \"value\": 6.0, \"unit\": 1}, {\"date\": \"2021-08-04T03:00:00\", \"id_station\": \"PED\", \"id_parameter\": \"O3\", \"value\": 7.0, \"unit\": 1}, {\"date\": \"2021-08-04T04:00:00\", \"id_station\": \"PED\", \"id_parameter\": \"O3\", \"value\": 5.0, \"unit\": 1}, {\"date\": \"2021-08-04T05:00:00\", \"id_station\": \"PED\", \"id_parameter\": \"O3\", \"value\": 4.0, \"unit\": 1}, {\"date\": \"2021-08-04T06:00:00\", \"id_station\": \"PED\", \"id_parameter\": \"O3\", \"value\": 1.0, \"unit\": 1}, {\"date\": \"2021-08-04T07:00:00\", \"id_station\": \"PED\", \"id_parameter\": \"O3\", \"value\": 1.0, \"unit\": 1}, {\"date\": \"2021-08-04T08:00:00\", \"id_station\": \"PED\", \"id_parameter\": \"O3\", \"value\": 4.0, \"unit\": 1}, {\"date\": \"2021-08-04T09:00:00\", \"id_station\": \"PED\", \"id_parameter\": \"O3\", \"value\": 12.0, \"unit\": 1}, {\"date\": \"2021-08-04T10:00:00\", \"id_station\": \"PED\", \"id_parameter\": \"O3\", \"value\": 24.0, \"unit\": 1}, {\"date\": \"2021-08-04T11:00:00\", \"id_station\": \"PED\", \"id_parameter\": \"O3\", \"value\": 38.0, \"unit\": 1}, {\"date\": \"2021-08-04T12:00:00\", \"id_station\": \"PED\", \"id_parameter\": \"O3\", \"value\": 60.0, \"unit\": 1}, {\"date\": \"2021-08-04T13:00:00\", \"id_station\": \"PED\", \"id_parameter\": \"O3\", \"value\": 84.0, \"unit\": 1}, {\"date\": \"2021-08-04T14:00:00\", \"id_station\": \"PED\", \"id_parameter\": \"O3\", \"value\": 100.0, \"unit\": 1}, {\"date\": \"2021-08-04T15:00:00\", \"id_station\": \"PED\", \"id_parameter\": \"O3\", \"value\": 110.0, \"unit\": 1}, {\"date\": \"2021-08-04T16:00:00\", \"id_station\": \"PED\", \"id_parameter\": \"O3\", \"value\": 86.0, \"unit\": 1}, {\"date\": \"2021-08-04T17:00:00\", \"id_station\": \"PED\", \"id_parameter\": \"O3\", \"value\": 37.0, \"unit\": 1}, {\"date\": \"2021-08-04T18:00:00\", \"id_station\": \"PED\", \"id_parameter\": \"O3\", \"value\": 27.0, \"unit\": 1}, {\"date\": \"2021-08-04T19:00:00\", \"id_station\": \"PED\", \"id_parameter\": \"O3\", \"value\": 28.0, \"unit\": 1}, {\"date\": \"2021-08-04T20:00:00\", \"id_station\": \"PED\", \"id_parameter\": \"O3\", \"value\": 21.0, \"unit\": 1}, {\"date\": \"2021-08-04T21:00:00\", \"id_station\": \"PED\", \"id_parameter\": \"O3\", \"value\": 12.0, \"unit\": 1}, {\"date\": \"2021-08-04T22:00:00\", \"id_station\": \"PED\", \"id_parameter\": \"O3\", \"value\": 12.0, \"unit\": 1}, {\"date\": \"2021-08-04T23:00:00\", \"id_station\": \"PED\", \"id_parameter\": \"O3\", \"value\": 11.0, \"unit\": 1}, {\"date\": \"2021-08-04T00:00:00\", \"id_station\": \"PED\", \"id_parameter\": \"O3\", \"value\": 34.0, \"unit\": 1}, {\"date\": \"2021-08-05T01:00:00\", \"id_station\": \"PED\", \"id_parameter\": \"O3\", \"value\": 23.0, \"unit\": 1}, {\"date\": \"2021-08-05T02:00:00\", \"id_station\": \"PED\", \"id_parameter\": \"O3\", \"value\": 19.0, \"unit\": 1}, {\"date\": \"2021-08-05T03:00:00\", \"id_station\": \"PED\", \"id_parameter\": \"O3\", \"value\": 16.0, \"unit\": 1}, {\"date\": \"2021-08-05T04:00:00\", \"id_station\": \"PED\", \"id_parameter\": \"O3\", \"value\": 11.0, \"unit\": 1}, {\"date\": \"2021-08-05T05:00:00\", \"id_station\": \"PED\", \"id_parameter\": \"O3\", \"value\": 10.0, \"unit\": 1}, {\"date\": \"2021-08-05T06:00:00\", \"id_station\": \"PED\", \"id_parameter\": \"O3\", \"value\": 6.0, \"unit\": 1}, {\"date\": \"2021-08-05T07:00:00\", \"id_station\": \"PED\", \"id_parameter\": \"O3\", \"value\": 1.0, \"unit\": 1}, {\"date\": \"2021-08-05T08:00:00\", \"id_station\": \"PED\", \"id_parameter\": \"O3\", \"value\": 1.0, \"unit\": 1}, {\"date\": \"2021-08-05T09:00:00\", \"id_station\": \"PED\", \"id_parameter\": \"O3\", \"value\": 6.0, \"unit\": 1}, {\"date\": \"2021-08-05T10:00:00\", \"id_station\": \"PED\", \"id_parameter\": \"O3\", \"value\": 17.0, \"unit\": 1}, {\"date\": \"2021-08-05T11:00:00\", \"id_station\": \"PED\", \"id_parameter\": \"O3\", \"value\": 31.0, \"unit\": 1}, {\"date\": \"2021-08-05T12:00:00\", \"id_station\": \"PED\", \"id_parameter\": \"O3\", \"value\": 45.0, \"unit\": 1}, {\"date\": \"2021-08-05T13:00:00\", \"id_station\": \"PED\", \"id_parameter\": \"O3\", \"value\": 62.0, \"unit\": 1}, {\"date\": \"2021-08-05T14:00:00\", \"id_station\": \"PED\", \"id_parameter\": \"O3\", \"value\": 71.0, \"unit\": 1}, {\"date\": \"2021-08-05T15:00:00\", \"id_station\": \"PED\", \"id_parameter\": \"O3\", \"value\": 58.0, \"unit\": 1}, {\"date\": \"2021-08-05T16:00:00\", \"id_station\": \"PED\", \"id_parameter\": \"O3\", \"value\": 54.0, \"unit\": 1}, {\"date\": \"2021-08-05T17:00:00\", \"id_station\": \"PED\", \"id_parameter\": \"O3\", \"value\": 56.0, \"unit\": 1}, {\"date\": \"2021-08-05T18:00:00\", \"id_station\": \"PED\", \"id_parameter\": \"O3\", \"value\": 55.0, \"unit\": 1}, {\"date\": \"2021-08-05T19:00:00\", \"id_station\": \"PED\", \"id_parameter\": \"O3\", \"value\": 40.0, \"unit\": 1}, {\"date\": \"2021-08-05T20:00:00\", \"id_station\": \"PED\", \"id_parameter\": \"O3\", \"value\": 28.0, \"unit\": 1}, {\"date\": \"2021-08-05T21:00:00\", \"id_station\": \"PED\", \"id_parameter\": \"O3\", \"value\": 20.0, \"unit\": 1}, {\"date\": \"2021-08-05T22:00:00\", \"id_station\": \"PED\", \"id_parameter\": \"O3\", \"value\": 25.0, \"unit\": 1}, {\"date\": \"2021-08-05T23:00:00\", \"id_station\": \"PED\", \"id_parameter\": \"O3\", \"value\": 20.0, \"unit\": 1}, {\"date\": \"2021-08-05T00:00:00\", \"id_station\": \"PED\", \"id_parameter\": \"O3\", \"value\": 19.0, \"unit\": 1}, {\"date\": \"2021-08-06T01:00:00\", \"id_station\": \"PED\", \"id_parameter\": \"O3\", \"value\": null, \"unit\": 1}, {\"date\": \"2021-08-06T02:00:00\", \"id_station\": \"PED\", \"id_parameter\": \"O3\", \"value\": null, \"unit\": 1}, {\"date\": \"2021-08-06T03:00:00\", \"id_station\": \"PED\", \"id_parameter\": \"O3\", \"value\": null, \"unit\": 1}, {\"date\": \"2021-08-06T04:00:00\", \"id_station\": \"PED\", \"id_parameter\": \"O3\", \"value\": 15.0, \"unit\": 1}, {\"date\": \"2021-08-06T05:00:00\", \"id_station\": \"PED\", \"id_parameter\": \"O3\", \"value\": 9.0, \"unit\": 1}, {\"date\": \"2021-08-06T06:00:00\", \"id_station\": \"PED\", \"id_parameter\": \"O3\", \"value\": 2.0, \"unit\": 1}, {\"date\": \"2021-08-06T07:00:00\", \"id_station\": \"PED\", \"id_parameter\": \"O3\", \"value\": 1.0, \"unit\": 1}, {\"date\": \"2021-08-06T08:00:00\", \"id_station\": \"PED\", \"id_parameter\": \"O3\", \"value\": 4.0, \"unit\": 1}, {\"date\": \"2021-08-06T09:00:00\", \"id_station\": \"PED\", \"id_parameter\": \"O3\", \"value\": 13.0, \"unit\": 1}, {\"date\": \"2021-08-06T10:00:00\", \"id_station\": \"PED\", \"id_parameter\": \"O3\", \"value\": 23.0, \"unit\": 1}, {\"date\": \"2021-08-06T11:00:00\", \"id_station\": \"PED\", \"id_parameter\": \"O3\", \"value\": 34.0, \"unit\": 1}, {\"date\": \"2021-08-06T12:00:00\", \"id_station\": \"PED\", \"id_parameter\": \"O3\", \"value\": 45.0, \"unit\": 1}, {\"date\": \"2021-08-06T13:00:00\", \"id_station\": \"PED\", \"id_parameter\": \"O3\", \"value\": 46.0, \"unit\": 1}, {\"date\": \"2021-08-06T14:00:00\", \"id_station\": \"PED\", \"id_parameter\": \"O3\", \"value\": 54.0, \"unit\": 1}, {\"date\": \"2021-08-06T15:00:00\", \"id_station\": \"PED\", \"id_parameter\": \"O3\", \"value\": 38.0, \"unit\": 1}, {\"date\": \"2021-08-06T16:00:00\", \"id_station\": \"PED\", \"id_parameter\": \"O3\", \"value\": 39.0, \"unit\": 1}, {\"date\": \"2021-08-06T17:00:00\", \"id_station\": \"PED\", \"id_parameter\": \"O3\", \"value\": 41.0, \"unit\": 1}, {\"date\": \"2021-08-06T18:00:00\", \"id_station\": \"PED\", \"id_parameter\": \"O3\", \"value\": 42.0, \"unit\": 1}, {\"date\": \"2021-08-06T19:00:00\", \"id_station\": \"PED\", \"id_parameter\": \"O3\", \"value\": 26.0, \"unit\": 1}, {\"date\": \"2021-08-06T20:00:00\", \"id_station\": \"PED\", \"id_parameter\": \"O3\", \"value\": 19.0, \"unit\": 1}, {\"date\": \"2021-08-06T21:00:00\", \"id_station\": \"PED\", \"id_parameter\": \"O3\", \"value\": 20.0, \"unit\": 1}, {\"date\": \"2021-08-06T22:00:00\", \"id_station\": \"PED\", \"id_parameter\": \"O3\", \"value\": 16.0, \"unit\": 1}, {\"date\": \"2021-08-06T23:00:00\", \"id_station\": \"PED\", \"id_parameter\": \"O3\", \"value\": 16.0, \"unit\": 1}, {\"date\": \"2021-08-06T00:00:00\", \"id_station\": \"PED\", \"id_parameter\": \"O3\", \"value\": 15.0, \"unit\": 1}, {\"date\": \"2021-08-07T01:00:00\", \"id_station\": \"PED\", \"id_parameter\": \"O3\", \"value\": 14.0, \"unit\": 1}, {\"date\": \"2021-08-07T02:00:00\", \"id_station\": \"PED\", \"id_parameter\": \"O3\", \"value\": 12.0, \"unit\": 1}, {\"date\": \"2021-08-07T03:00:00\", \"id_station\": \"PED\", \"id_parameter\": \"O3\", \"value\": 11.0, \"unit\": 1}, {\"date\": \"2021-08-07T04:00:00\", \"id_station\": \"PED\", \"id_parameter\": \"O3\", \"value\": 11.0, \"unit\": 1}, {\"date\": \"2021-08-07T05:00:00\", \"id_station\": \"PED\", \"id_parameter\": \"O3\", \"value\": 9.0, \"unit\": 1}, {\"date\": \"2021-08-07T06:00:00\", \"id_station\": \"PED\", \"id_parameter\": \"O3\", \"value\": 5.0, \"unit\": 1}, {\"date\": \"2021-08-07T07:00:00\", \"id_station\": \"PED\", \"id_parameter\": \"O3\", \"value\": 1.0, \"unit\": 1}, {\"date\": \"2021-08-07T08:00:00\", \"id_station\": \"PED\", \"id_parameter\": \"O3\", \"value\": 5.0, \"unit\": 1}, {\"date\": \"2021-08-07T09:00:00\", \"id_station\": \"PED\", \"id_parameter\": \"O3\", \"value\": 10.0, \"unit\": 1}, {\"date\": \"2021-08-07T10:00:00\", \"id_station\": \"PED\", \"id_parameter\": \"O3\", \"value\": 22.0, \"unit\": 1}, {\"date\": \"2021-08-07T11:00:00\", \"id_station\": \"PED\", \"id_parameter\": \"O3\", \"value\": 37.0, \"unit\": 1}, {\"date\": \"2021-08-07T12:00:00\", \"id_station\": \"PED\", \"id_parameter\": \"O3\", \"value\": 52.0, \"unit\": 1}, {\"date\": \"2021-08-07T13:00:00\", \"id_station\": \"PED\", \"id_parameter\": \"O3\", \"value\": 70.0, \"unit\": 1}, {\"date\": \"2021-08-07T14:00:00\", \"id_station\": \"PED\", \"id_parameter\": \"O3\", \"value\": 94.0, \"unit\": 1}, {\"date\": \"2021-08-07T15:00:00\", \"id_station\": \"PED\", \"id_parameter\": \"O3\", \"value\": 101.0, \"unit\": 1}, {\"date\": \"2021-08-07T16:00:00\", \"id_station\": \"PED\", \"id_parameter\": \"O3\", \"value\": 86.0, \"unit\": 1}, {\"date\": \"2021-08-07T17:00:00\", \"id_station\": \"PED\", \"id_parameter\": \"O3\", \"value\": 93.0, \"unit\": 1}, {\"date\": \"2021-08-07T18:00:00\", \"id_station\": \"PED\", \"id_parameter\": \"O3\", \"value\": 89.0, \"unit\": 1}, {\"date\": \"2021-08-07T19:00:00\", \"id_station\": \"PED\", \"id_parameter\": \"O3\", \"value\": 62.0, \"unit\": 1}, {\"date\": \"2021-08-07T20:00:00\", \"id_station\": \"PED\", \"id_parameter\": \"O3\", \"value\": 36.0, \"unit\": 1}, {\"date\": \"2021-08-07T21:00:00\", \"id_station\": \"PED\", \"id_parameter\": \"O3\", \"value\": 30.0, \"unit\": 1}, {\"date\": \"2021-08-07T22:00:00\", \"id_station\": \"PED\", \"id_parameter\": \"O3\", \"value\": 30.0, \"unit\": 1}, {\"date\": \"2021-08-07T23:00:00\", \"id_station\": \"PED\", \"id_parameter\": \"O3\", \"value\": 20.0, \"unit\": 1}, {\"date\": \"2021-08-07T00:00:00\", \"id_station\": \"PED\", \"id_parameter\": \"O3\", \"value\": 19.0, \"unit\": 1}, {\"date\": \"2021-08-08T01:00:00\", \"id_station\": \"PED\", \"id_parameter\": \"O3\", \"value\": 18.0, \"unit\": 1}, {\"date\": \"2021-08-08T02:00:00\", \"id_station\": \"PED\", \"id_parameter\": \"O3\", \"value\": 15.0, \"unit\": 1}, {\"date\": \"2021-08-08T03:00:00\", \"id_station\": \"PED\", \"id_parameter\": \"O3\", \"value\": 14.0, \"unit\": 1}, {\"date\": \"2021-08-08T04:00:00\", \"id_station\": \"PED\", \"id_parameter\": \"O3\", \"value\": 13.0, \"unit\": 1}, {\"date\": \"2021-08-08T05:00:00\", \"id_station\": \"PED\", \"id_parameter\": \"O3\", \"value\": 15.0, \"unit\": 1}, {\"date\": \"2021-08-08T06:00:00\", \"id_station\": \"PED\", \"id_parameter\": \"O3\", \"value\": 10.0, \"unit\": 1}, {\"date\": \"2021-08-08T07:00:00\", \"id_station\": \"PED\", \"id_parameter\": \"O3\", \"value\": 3.0, \"unit\": 1}, {\"date\": \"2021-08-08T08:00:00\", \"id_station\": \"PED\", \"id_parameter\": \"O3\", \"value\": 8.0, \"unit\": 1}, {\"date\": \"2021-08-08T09:00:00\", \"id_station\": \"PED\", \"id_parameter\": \"O3\", \"value\": 14.0, \"unit\": 1}, {\"date\": \"2021-08-08T10:00:00\", \"id_station\": \"PED\", \"id_parameter\": \"O3\", \"value\": 21.0, \"unit\": 1}, {\"date\": \"2021-08-08T11:00:00\", \"id_station\": \"PED\", \"id_parameter\": \"O3\", \"value\": 32.0, \"unit\": 1}, {\"date\": \"2021-08-08T12:00:00\", \"id_station\": \"PED\", \"id_parameter\": \"O3\", \"value\": 46.0, \"unit\": 1}, {\"date\": \"2021-08-08T13:00:00\", \"id_station\": \"PED\", \"id_parameter\": \"O3\", \"value\": 65.0, \"unit\": 1}, {\"date\": \"2021-08-08T14:00:00\", \"id_station\": \"PED\", \"id_parameter\": \"O3\", \"value\": 70.0, \"unit\": 1}, {\"date\": \"2021-08-08T15:00:00\", \"id_station\": \"PED\", \"id_parameter\": \"O3\", \"value\": 56.0, \"unit\": 1}, {\"date\": \"2021-08-08T16:00:00\", \"id_station\": \"PED\", \"id_parameter\": \"O3\", \"value\": 35.0, \"unit\": 1}, {\"date\": \"2021-08-08T17:00:00\", \"id_station\": \"PED\", \"id_parameter\": \"O3\", \"value\": 36.0, \"unit\": 1}, {\"date\": \"2021-08-08T18:00:00\", \"id_station\": \"PED\", \"id_parameter\": \"O3\", \"value\": 37.0, \"unit\": 1}, {\"date\": \"2021-08-08T19:00:00\", \"id_station\": \"PED\", \"id_parameter\": \"O3\", \"value\": 35.0, \"unit\": 1}, {\"date\": \"2021-08-08T20:00:00\", \"id_station\": \"PED\", \"id_parameter\": \"O3\", \"value\": 27.0, \"unit\": 1}, {\"date\": \"2021-08-08T21:00:00\", \"id_station\": \"PED\", \"id_parameter\": \"O3\", \"value\": 20.0, \"unit\": 1}, {\"date\": \"2021-08-08T22:00:00\", \"id_station\": \"PED\", \"id_parameter\": \"O3\", \"value\": 8.0, \"unit\": 1}, {\"date\": \"2021-08-08T23:00:00\", \"id_station\": \"PED\", \"id_parameter\": \"O3\", \"value\": 5.0, \"unit\": 1}, {\"date\": \"2021-08-08T00:00:00\", \"id_station\": \"PED\", \"id_parameter\": \"O3\", \"value\": 6.0, \"unit\": 1}, {\"date\": \"2021-08-09T01:00:00\", \"id_station\": \"PED\", \"id_parameter\": \"O3\", \"value\": 7.0, \"unit\": 1}, {\"date\": \"2021-08-09T02:00:00\", \"id_station\": \"PED\", \"id_parameter\": \"O3\", \"value\": 9.0, \"unit\": 1}, {\"date\": \"2021-08-09T03:00:00\", \"id_station\": \"PED\", \"id_parameter\": \"O3\", \"value\": 9.0, \"unit\": 1}, {\"date\": \"2021-08-09T04:00:00\", \"id_station\": \"PED\", \"id_parameter\": \"O3\", \"value\": 9.0, \"unit\": 1}, {\"date\": \"2021-08-09T05:00:00\", \"id_station\": \"PED\", \"id_parameter\": \"O3\", \"value\": 7.0, \"unit\": 1}, {\"date\": \"2021-08-09T06:00:00\", \"id_station\": \"PED\", \"id_parameter\": \"O3\", \"value\": 2.0, \"unit\": 1}, {\"date\": \"2021-08-09T07:00:00\", \"id_station\": \"PED\", \"id_parameter\": \"O3\", \"value\": 1.0, \"unit\": 1}, {\"date\": \"2021-08-09T08:00:00\", \"id_station\": \"PED\", \"id_parameter\": \"O3\", \"value\": 6.0, \"unit\": 1}, {\"date\": \"2021-08-09T09:00:00\", \"id_station\": \"PED\", \"id_parameter\": \"O3\", \"value\": 7.0, \"unit\": 1}, {\"date\": \"2021-08-09T10:00:00\", \"id_station\": \"PED\", \"id_parameter\": \"O3\", \"value\": 17.0, \"unit\": 1}, {\"date\": \"2021-08-09T11:00:00\", \"id_station\": \"PED\", \"id_parameter\": \"O3\", \"value\": 32.0, \"unit\": 1}, {\"date\": \"2021-08-09T12:00:00\", \"id_station\": \"PED\", \"id_parameter\": \"O3\", \"value\": 49.0, \"unit\": 1}, {\"date\": \"2021-08-09T13:00:00\", \"id_station\": \"PED\", \"id_parameter\": \"O3\", \"value\": 67.0, \"unit\": 1}, {\"date\": \"2021-08-09T14:00:00\", \"id_station\": \"PED\", \"id_parameter\": \"O3\", \"value\": 91.0, \"unit\": 1}, {\"date\": \"2021-08-09T15:00:00\", \"id_station\": \"PED\", \"id_parameter\": \"O3\", \"value\": 103.0, \"unit\": 1}, {\"date\": \"2021-08-09T16:00:00\", \"id_station\": \"PED\", \"id_parameter\": \"O3\", \"value\": 78.0, \"unit\": 1}, {\"date\": \"2021-08-09T17:00:00\", \"id_station\": \"PED\", \"id_parameter\": \"O3\", \"value\": 59.0, \"unit\": 1}, {\"date\": \"2021-08-09T18:00:00\", \"id_station\": \"PED\", \"id_parameter\": \"O3\", \"value\": 42.0, \"unit\": 1}, {\"date\": \"2021-08-09T19:00:00\", \"id_station\": \"PED\", \"id_parameter\": \"O3\", \"value\": 30.0, \"unit\": 1}, {\"date\": \"2021-08-09T20:00:00\", \"id_station\": \"PED\", \"id_parameter\": \"O3\", \"value\": 26.0, \"unit\": 1}, {\"date\": \"2021-08-09T21:00:00\", \"id_station\": \"PED\", \"id_parameter\": \"O3\", \"value\": 14.0, \"unit\": 1}, {\"date\": \"2021-08-09T22:00:00\", \"id_station\": \"PED\", \"id_parameter\": \"O3\", \"value\": 13.0, \"unit\": 1}, {\"date\": \"2021-08-09T23:00:00\", \"id_station\": \"PED\", \"id_parameter\": \"O3\", \"value\": 6.0, \"unit\": 1}, {\"date\": \"2021-08-09T00:00:00\", \"id_station\": \"PED\", \"id_parameter\": \"O3\", \"value\": 10.0, \"unit\": 1}, {\"date\": \"2021-08-10T01:00:00\", \"id_station\": \"PED\", \"id_parameter\": \"O3\", \"value\": 21.0, \"unit\": 1}, {\"date\": \"2021-08-10T02:00:00\", \"id_station\": \"PED\", \"id_parameter\": \"O3\", \"value\": 28.0, \"unit\": 1}, {\"date\": \"2021-08-10T03:00:00\", \"id_station\": \"PED\", \"id_parameter\": \"O3\", \"value\": 26.0, \"unit\": 1}, {\"date\": \"2021-08-10T04:00:00\", \"id_station\": \"PED\", \"id_parameter\": \"O3\", \"value\": 19.0, \"unit\": 1}, {\"date\": \"2021-08-10T05:00:00\", \"id_station\": \"PED\", \"id_parameter\": \"O3\", \"value\": 14.0, \"unit\": 1}, {\"date\": \"2021-08-10T06:00:00\", \"id_station\": \"PED\", \"id_parameter\": \"O3\", \"value\": 11.0, \"unit\": 1}, {\"date\": \"2021-08-10T07:00:00\", \"id_station\": \"PED\", \"id_parameter\": \"O3\", \"value\": 3.0, \"unit\": 1}, {\"date\": \"2021-08-10T08:00:00\", \"id_station\": \"PED\", \"id_parameter\": \"O3\", \"value\": 7.0, \"unit\": 1}, {\"date\": \"2021-08-10T09:00:00\", \"id_station\": \"PED\", \"id_parameter\": \"O3\", \"value\": 14.0, \"unit\": 1}, {\"date\": \"2021-08-10T10:00:00\", \"id_station\": \"PED\", \"id_parameter\": \"O3\", \"value\": 21.0, \"unit\": 1}, {\"date\": \"2021-08-10T11:00:00\", \"id_station\": \"PED\", \"id_parameter\": \"O3\", \"value\": 30.0, \"unit\": 1}, {\"date\": \"2021-08-10T12:00:00\", \"id_station\": \"PED\", \"id_parameter\": \"O3\", \"value\": 49.0, \"unit\": 1}, {\"date\": \"2021-08-10T13:00:00\", \"id_station\": \"PED\", \"id_parameter\": \"O3\", \"value\": 68.0, \"unit\": 1}, {\"date\": \"2021-08-10T14:00:00\", \"id_station\": \"PED\", \"id_parameter\": \"O3\", \"value\": 92.0, \"unit\": 1}, {\"date\": \"2021-08-10T15:00:00\", \"id_station\": \"PED\", \"id_parameter\": \"O3\", \"value\": 96.0, \"unit\": 1}, {\"date\": \"2021-08-10T16:00:00\", \"id_station\": \"PED\", \"id_parameter\": \"O3\", \"value\": 89.0, \"unit\": 1}, {\"date\": \"2021-08-10T17:00:00\", \"id_station\": \"PED\", \"id_parameter\": \"O3\", \"value\": 67.0, \"unit\": 1}, {\"date\": \"2021-08-10T18:00:00\", \"id_station\": \"PED\", \"id_parameter\": \"O3\", \"value\": 48.0, \"unit\": 1}, {\"date\": \"2021-08-10T19:00:00\", \"id_station\": \"PED\", \"id_parameter\": \"O3\", \"value\": 27.0, \"unit\": 1}, {\"date\": \"2021-08-10T20:00:00\", \"id_station\": \"PED\", \"id_parameter\": \"O3\", \"value\": 20.0, \"unit\": 1}, {\"date\": \"2021-08-10T21:00:00\", \"id_station\": \"PED\", \"id_parameter\": \"O3\", \"value\": 21.0, \"unit\": 1}, {\"date\": \"2021-08-10T22:00:00\", \"id_station\": \"PED\", \"id_parameter\": \"O3\", \"value\": 37.0, \"unit\": 1}, {\"date\": \"2021-08-10T23:00:00\", \"id_station\": \"PED\", \"id_parameter\": \"O3\", \"value\": 28.0, \"unit\": 1}, {\"date\": \"2021-08-10T00:00:00\", \"id_station\": \"PED\", \"id_parameter\": \"O3\", \"value\": 20.0, \"unit\": 1}, {\"date\": \"2021-08-11T01:00:00\", \"id_station\": \"PED\", \"id_parameter\": \"O3\", \"value\": 23.0, \"unit\": 1}, {\"date\": \"2021-08-11T02:00:00\", \"id_station\": \"PED\", \"id_parameter\": \"O3\", \"value\": 26.0, \"unit\": 1}, {\"date\": \"2021-08-11T03:00:00\", \"id_station\": \"PED\", \"id_parameter\": \"O3\", \"value\": 14.0, \"unit\": 1}, {\"date\": \"2021-08-11T04:00:00\", \"id_station\": \"PED\", \"id_parameter\": \"O3\", \"value\": 11.0, \"unit\": 1}, {\"date\": \"2021-08-11T05:00:00\", \"id_station\": \"PED\", \"id_parameter\": \"O3\", \"value\": 7.0, \"unit\": 1}, {\"date\": \"2021-08-11T06:00:00\", \"id_station\": \"PED\", \"id_parameter\": \"O3\", \"value\": 3.0, \"unit\": 1}, {\"date\": \"2021-08-11T07:00:00\", \"id_station\": \"PED\", \"id_parameter\": \"O3\", \"value\": 0.0, \"unit\": 1}, {\"date\": \"2021-08-11T08:00:00\", \"id_station\": \"PED\", \"id_parameter\": \"O3\", \"value\": 3.0, \"unit\": 1}, {\"date\": \"2021-08-11T09:00:00\", \"id_station\": \"PED\", \"id_parameter\": \"O3\", \"value\": 12.0, \"unit\": 1}, {\"date\": \"2021-08-11T10:00:00\", \"id_station\": \"PED\", \"id_parameter\": \"O3\", \"value\": 15.0, \"unit\": 1}, {\"date\": \"2021-08-11T11:00:00\", \"id_station\": \"PED\", \"id_parameter\": \"O3\", \"value\": 26.0, \"unit\": 1}, {\"date\": \"2021-08-11T12:00:00\", \"id_station\": \"PED\", \"id_parameter\": \"O3\", \"value\": 44.0, \"unit\": 1}, {\"date\": \"2021-08-11T13:00:00\", \"id_station\": \"PED\", \"id_parameter\": \"O3\", \"value\": 60.0, \"unit\": 1}, {\"date\": \"2021-08-11T14:00:00\", \"id_station\": \"PED\", \"id_parameter\": \"O3\", \"value\": 77.0, \"unit\": 1}, {\"date\": \"2021-08-11T15:00:00\", \"id_station\": \"PED\", \"id_parameter\": \"O3\", \"value\": 100.0, \"unit\": 1}, {\"date\": \"2021-08-11T16:00:00\", \"id_station\": \"PED\", \"id_parameter\": \"O3\", \"value\": 85.0, \"unit\": 1}, {\"date\": \"2021-08-11T17:00:00\", \"id_station\": \"PED\", \"id_parameter\": \"O3\", \"value\": 66.0, \"unit\": 1}, {\"date\": \"2021-08-11T18:00:00\", \"id_station\": \"PED\", \"id_parameter\": \"O3\", \"value\": 51.0, \"unit\": 1}, {\"date\": \"2021-08-11T19:00:00\", \"id_station\": \"PED\", \"id_parameter\": \"O3\", \"value\": 43.0, \"unit\": 1}, {\"date\": \"2021-08-11T20:00:00\", \"id_station\": \"PED\", \"id_parameter\": \"O3\", \"value\": 40.0, \"unit\": 1}, {\"date\": \"2021-08-11T21:00:00\", \"id_station\": \"PED\", \"id_parameter\": \"O3\", \"value\": 17.0, \"unit\": 1}, {\"date\": \"2021-08-11T22:00:00\", \"id_station\": \"PED\", \"id_parameter\": \"O3\", \"value\": 13.0, \"unit\": 1}, {\"date\": \"2021-08-11T23:00:00\", \"id_station\": \"PED\", \"id_parameter\": \"O3\", \"value\": 16.0, \"unit\": 1}, {\"date\": \"2021-08-11T00:00:00\", \"id_station\": \"PED\", \"id_parameter\": \"O3\", \"value\": null, \"unit\": 1}, {\"date\": \"2021-08-12T01:00:00\", \"id_station\": \"PED\", \"id_parameter\": \"O3\", \"value\": null, \"unit\": 1}, {\"date\": \"2021-08-12T02:00:00\", \"id_station\": \"PED\", \"id_parameter\": \"O3\", \"value\": null, \"unit\": 1}, {\"date\": \"2021-08-12T03:00:00\", \"id_station\": \"PED\", \"id_parameter\": \"O3\", \"value\": null, \"unit\": 1}, {\"date\": \"2021-08-12T04:00:00\", \"id_station\": \"PED\", \"id_parameter\": \"O3\", \"value\": 12.0, \"unit\": 1}, {\"date\": \"2021-08-12T05:00:00\", \"id_station\": \"PED\", \"id_parameter\": \"O3\", \"value\": 8.0, \"unit\": 1}, {\"date\": \"2021-08-12T06:00:00\", \"id_station\": \"PED\", \"id_parameter\": \"O3\", \"value\": 4.0, \"unit\": 1}, {\"date\": \"2021-08-12T07:00:00\", \"id_station\": \"PED\", \"id_parameter\": \"O3\", \"value\": 4.0, \"unit\": 1}, {\"date\": \"2021-08-12T08:00:00\", \"id_station\": \"PED\", \"id_parameter\": \"O3\", \"value\": 4.0, \"unit\": 1}, {\"date\": \"2021-08-12T09:00:00\", \"id_station\": \"PED\", \"id_parameter\": \"O3\", \"value\": 6.0, \"unit\": 1}, {\"date\": \"2021-08-12T10:00:00\", \"id_station\": \"PED\", \"id_parameter\": \"O3\", \"value\": 20.0, \"unit\": 1}, {\"date\": \"2021-08-12T11:00:00\", \"id_station\": \"PED\", \"id_parameter\": \"O3\", \"value\": 30.0, \"unit\": 1}, {\"date\": \"2021-08-12T12:00:00\", \"id_station\": \"PED\", \"id_parameter\": \"O3\", \"value\": 46.0, \"unit\": 1}, {\"date\": \"2021-08-12T13:00:00\", \"id_station\": \"PED\", \"id_parameter\": \"O3\", \"value\": 68.0, \"unit\": 1}, {\"date\": \"2021-08-12T14:00:00\", \"id_station\": \"PED\", \"id_parameter\": \"O3\", \"value\": 92.0, \"unit\": 1}, {\"date\": \"2021-08-12T15:00:00\", \"id_station\": \"PED\", \"id_parameter\": \"O3\", \"value\": 112.0, \"unit\": 1}, {\"date\": \"2021-08-12T16:00:00\", \"id_station\": \"PED\", \"id_parameter\": \"O3\", \"value\": 119.0, \"unit\": 1}, {\"date\": \"2021-08-12T17:00:00\", \"id_station\": \"PED\", \"id_parameter\": \"O3\", \"value\": 75.0, \"unit\": 1}, {\"date\": \"2021-08-12T18:00:00\", \"id_station\": \"PED\", \"id_parameter\": \"O3\", \"value\": 59.0, \"unit\": 1}, {\"date\": \"2021-08-12T19:00:00\", \"id_station\": \"PED\", \"id_parameter\": \"O3\", \"value\": 44.0, \"unit\": 1}, {\"date\": \"2021-08-12T20:00:00\", \"id_station\": \"PED\", \"id_parameter\": \"O3\", \"value\": 32.0, \"unit\": 1}, {\"date\": \"2021-08-12T21:00:00\", \"id_station\": \"PED\", \"id_parameter\": \"O3\", \"value\": 48.0, \"unit\": 1}, {\"date\": \"2021-08-12T22:00:00\", \"id_station\": \"PED\", \"id_parameter\": \"O3\", \"value\": 37.0, \"unit\": 1}, {\"date\": \"2021-08-12T23:00:00\", \"id_station\": \"PED\", \"id_parameter\": \"O3\", \"value\": 31.0, \"unit\": 1}, {\"date\": \"2021-08-12T00:00:00\", \"id_station\": \"PED\", \"id_parameter\": \"O3\", \"value\": 28.0, \"unit\": 1}, {\"date\": \"2021-08-13T01:00:00\", \"id_station\": \"PED\", \"id_parameter\": \"O3\", \"value\": 30.0, \"unit\": 1}, {\"date\": \"2021-08-13T02:00:00\", \"id_station\": \"PED\", \"id_parameter\": \"O3\", \"value\": 25.0, \"unit\": 1}, {\"date\": \"2021-08-13T03:00:00\", \"id_station\": \"PED\", \"id_parameter\": \"O3\", \"value\": 16.0, \"unit\": 1}, {\"date\": \"2021-08-13T04:00:00\", \"id_station\": \"PED\", \"id_parameter\": \"O3\", \"value\": 14.0, \"unit\": 1}, {\"date\": \"2021-08-13T05:00:00\", \"id_station\": \"PED\", \"id_parameter\": \"O3\", \"value\": 16.0, \"unit\": 1}, {\"date\": \"2021-08-13T06:00:00\", \"id_station\": \"PED\", \"id_parameter\": \"O3\", \"value\": 9.0, \"unit\": 1}, {\"date\": \"2021-08-13T07:00:00\", \"id_station\": \"PED\", \"id_parameter\": \"O3\", \"value\": 2.0, \"unit\": 1}, {\"date\": \"2021-08-13T08:00:00\", \"id_station\": \"PED\", \"id_parameter\": \"O3\", \"value\": 1.0, \"unit\": 1}, {\"date\": \"2021-08-13T09:00:00\", \"id_station\": \"PED\", \"id_parameter\": \"O3\", \"value\": 1.0, \"unit\": 1}, {\"date\": \"2021-08-13T10:00:00\", \"id_station\": \"PED\", \"id_parameter\": \"O3\", \"value\": 8.0, \"unit\": 1}, {\"date\": \"2021-08-13T11:00:00\", \"id_station\": \"PED\", \"id_parameter\": \"O3\", \"value\": 24.0, \"unit\": 1}, {\"date\": \"2021-08-13T12:00:00\", \"id_station\": \"PED\", \"id_parameter\": \"O3\", \"value\": 43.0, \"unit\": 1}, {\"date\": \"2021-08-13T13:00:00\", \"id_station\": \"PED\", \"id_parameter\": \"O3\", \"value\": 67.0, \"unit\": 1}, {\"date\": \"2021-08-13T14:00:00\", \"id_station\": \"PED\", \"id_parameter\": \"O3\", \"value\": 90.0, \"unit\": 1}, {\"date\": \"2021-08-13T15:00:00\", \"id_station\": \"PED\", \"id_parameter\": \"O3\", \"value\": 118.0, \"unit\": 1}, {\"date\": \"2021-08-13T16:00:00\", \"id_station\": \"PED\", \"id_parameter\": \"O3\", \"value\": 113.0, \"unit\": 1}, {\"date\": \"2021-08-13T17:00:00\", \"id_station\": \"PED\", \"id_parameter\": \"O3\", \"value\": 79.0, \"unit\": 1}, {\"date\": \"2021-08-13T18:00:00\", \"id_station\": \"PED\", \"id_parameter\": \"O3\", \"value\": 33.0, \"unit\": 1}, {\"date\": \"2021-08-13T19:00:00\", \"id_station\": \"PED\", \"id_parameter\": \"O3\", \"value\": 33.0, \"unit\": 1}, {\"date\": \"2021-08-13T20:00:00\", \"id_station\": \"PED\", \"id_parameter\": \"O3\", \"value\": 27.0, \"unit\": 1}, {\"date\": \"2021-08-13T21:00:00\", \"id_station\": \"PED\", \"id_parameter\": \"O3\", \"value\": 27.0, \"unit\": 1}, {\"date\": \"2021-08-13T22:00:00\", \"id_station\": \"PED\", \"id_parameter\": \"O3\", \"value\": 22.0, \"unit\": 1}, {\"date\": \"2021-08-13T23:00:00\", \"id_station\": \"PED\", \"id_parameter\": \"O3\", \"value\": 12.0, \"unit\": 1}, {\"date\": \"2021-08-13T00:00:00\", \"id_station\": \"PED\", \"id_parameter\": \"O3\", \"value\": 11.0, \"unit\": 1}, {\"date\": \"2021-08-14T01:00:00\", \"id_station\": \"PED\", \"id_parameter\": \"O3\", \"value\": 11.0, \"unit\": 1}, {\"date\": \"2021-08-14T02:00:00\", \"id_station\": \"PED\", \"id_parameter\": \"O3\", \"value\": 8.0, \"unit\": 1}, {\"date\": \"2021-08-14T03:00:00\", \"id_station\": \"PED\", \"id_parameter\": \"O3\", \"value\": 10.0, \"unit\": 1}, {\"date\": \"2021-08-14T04:00:00\", \"id_station\": \"PED\", \"id_parameter\": \"O3\", \"value\": 6.0, \"unit\": 1}, {\"date\": \"2021-08-14T05:00:00\", \"id_station\": \"PED\", \"id_parameter\": \"O3\", \"value\": 4.0, \"unit\": 1}, {\"date\": \"2021-08-14T06:00:00\", \"id_station\": \"PED\", \"id_parameter\": \"O3\", \"value\": 4.0, \"unit\": 1}, {\"date\": \"2021-08-14T07:00:00\", \"id_station\": \"PED\", \"id_parameter\": \"O3\", \"value\": 5.0, \"unit\": 1}, {\"date\": \"2021-08-14T08:00:00\", \"id_station\": \"PED\", \"id_parameter\": \"O3\", \"value\": 4.0, \"unit\": 1}, {\"date\": \"2021-08-14T09:00:00\", \"id_station\": \"PED\", \"id_parameter\": \"O3\", \"value\": 13.0, \"unit\": 1}, {\"date\": \"2021-08-14T10:00:00\", \"id_station\": \"PED\", \"id_parameter\": \"O3\", \"value\": 22.0, \"unit\": 1}, {\"date\": \"2021-08-14T11:00:00\", \"id_station\": \"PED\", \"id_parameter\": \"O3\", \"value\": 29.0, \"unit\": 1}, {\"date\": \"2021-08-14T12:00:00\", \"id_station\": \"PED\", \"id_parameter\": \"O3\", \"value\": 46.0, \"unit\": 1}, {\"date\": \"2021-08-14T13:00:00\", \"id_station\": \"PED\", \"id_parameter\": \"O3\", \"value\": 61.0, \"unit\": 1}, {\"date\": \"2021-08-14T14:00:00\", \"id_station\": \"PED\", \"id_parameter\": \"O3\", \"value\": 64.0, \"unit\": 1}, {\"date\": \"2021-08-14T15:00:00\", \"id_station\": \"PED\", \"id_parameter\": \"O3\", \"value\": 61.0, \"unit\": 1}, {\"date\": \"2021-08-14T16:00:00\", \"id_station\": \"PED\", \"id_parameter\": \"O3\", \"value\": 40.0, \"unit\": 1}, {\"date\": \"2021-08-14T17:00:00\", \"id_station\": \"PED\", \"id_parameter\": \"O3\", \"value\": 38.0, \"unit\": 1}, {\"date\": \"2021-08-14T18:00:00\", \"id_station\": \"PED\", \"id_parameter\": \"O3\", \"value\": 35.0, \"unit\": 1}, {\"date\": \"2021-08-14T19:00:00\", \"id_station\": \"PED\", \"id_parameter\": \"O3\", \"value\": 27.0, \"unit\": 1}, {\"date\": \"2021-08-14T20:00:00\", \"id_station\": \"PED\", \"id_parameter\": \"O3\", \"value\": 19.0, \"unit\": 1}, {\"date\": \"2021-08-14T21:00:00\", \"id_station\": \"PED\", \"id_parameter\": \"O3\", \"value\": 15.0, \"unit\": 1}, {\"date\": \"2021-08-14T22:00:00\", \"id_station\": \"PED\", \"id_parameter\": \"O3\", \"value\": 19.0, \"unit\": 1}, {\"date\": \"2021-08-14T23:00:00\", \"id_station\": \"PED\", \"id_parameter\": \"O3\", \"value\": 11.0, \"unit\": 1}, {\"date\": \"2021-08-14T00:00:00\", \"id_station\": \"PED\", \"id_parameter\": \"O3\", \"value\": 14.0, \"unit\": 1}, {\"date\": \"2021-08-15T01:00:00\", \"id_station\": \"PED\", \"id_parameter\": \"O3\", \"value\": 15.0, \"unit\": 1}, {\"date\": \"2021-08-15T02:00:00\", \"id_station\": \"PED\", \"id_parameter\": \"O3\", \"value\": 14.0, \"unit\": 1}, {\"date\": \"2021-08-15T03:00:00\", \"id_station\": \"PED\", \"id_parameter\": \"O3\", \"value\": 16.0, \"unit\": 1}, {\"date\": \"2021-08-15T04:00:00\", \"id_station\": \"PED\", \"id_parameter\": \"O3\", \"value\": 16.0, \"unit\": 1}, {\"date\": \"2021-08-15T05:00:00\", \"id_station\": \"PED\", \"id_parameter\": \"O3\", \"value\": 16.0, \"unit\": 1}, {\"date\": \"2021-08-15T06:00:00\", \"id_station\": \"PED\", \"id_parameter\": \"O3\", \"value\": 13.0, \"unit\": 1}, {\"date\": \"2021-08-15T07:00:00\", \"id_station\": \"PED\", \"id_parameter\": \"O3\", \"value\": 12.0, \"unit\": 1}, {\"date\": \"2021-08-15T08:00:00\", \"id_station\": \"PED\", \"id_parameter\": \"O3\", \"value\": 10.0, \"unit\": 1}, {\"date\": \"2021-08-15T09:00:00\", \"id_station\": \"PED\", \"id_parameter\": \"O3\", \"value\": 15.0, \"unit\": 1}, {\"date\": \"2021-08-15T10:00:00\", \"id_station\": \"PED\", \"id_parameter\": \"O3\", \"value\": 25.0, \"unit\": 1}, {\"date\": \"2021-08-15T11:00:00\", \"id_station\": \"PED\", \"id_parameter\": \"O3\", \"value\": null, \"unit\": 1}, {\"date\": \"2021-08-15T12:00:00\", \"id_station\": \"PED\", \"id_parameter\": \"O3\", \"value\": 45.0, \"unit\": 1}, {\"date\": \"2021-08-15T13:00:00\", \"id_station\": \"PED\", \"id_parameter\": \"O3\", \"value\": 58.0, \"unit\": 1}, {\"date\": \"2021-08-15T14:00:00\", \"id_station\": \"PED\", \"id_parameter\": \"O3\", \"value\": 68.0, \"unit\": 1}, {\"date\": \"2021-08-15T15:00:00\", \"id_station\": \"PED\", \"id_parameter\": \"O3\", \"value\": 72.0, \"unit\": 1}, {\"date\": \"2021-08-15T16:00:00\", \"id_station\": \"PED\", \"id_parameter\": \"O3\", \"value\": 67.0, \"unit\": 1}, {\"date\": \"2021-08-15T17:00:00\", \"id_station\": \"PED\", \"id_parameter\": \"O3\", \"value\": 58.0, \"unit\": 1}, {\"date\": \"2021-08-15T18:00:00\", \"id_station\": \"PED\", \"id_parameter\": \"O3\", \"value\": 45.0, \"unit\": 1}, {\"date\": \"2021-08-15T19:00:00\", \"id_station\": \"PED\", \"id_parameter\": \"O3\", \"value\": 32.0, \"unit\": 1}, {\"date\": \"2021-08-15T20:00:00\", \"id_station\": \"PED\", \"id_parameter\": \"O3\", \"value\": 22.0, \"unit\": 1}, {\"date\": \"2021-08-15T21:00:00\", \"id_station\": \"PED\", \"id_parameter\": \"O3\", \"value\": 18.0, \"unit\": 1}, {\"date\": \"2021-08-15T22:00:00\", \"id_station\": \"PED\", \"id_parameter\": \"O3\", \"value\": 20.0, \"unit\": 1}, {\"date\": \"2021-08-15T23:00:00\", \"id_station\": \"PED\", \"id_parameter\": \"O3\", \"value\": 17.0, \"unit\": 1}, {\"date\": \"2021-08-15T00:00:00\", \"id_station\": \"PED\", \"id_parameter\": \"O3\", \"value\": 21.0, \"unit\": 1}, {\"date\": \"2021-08-16T01:00:00\", \"id_station\": \"PED\", \"id_parameter\": \"O3\", \"value\": 23.0, \"unit\": 1}, {\"date\": \"2021-08-16T02:00:00\", \"id_station\": \"PED\", \"id_parameter\": \"O3\", \"value\": 22.0, \"unit\": 1}, {\"date\": \"2021-08-16T03:00:00\", \"id_station\": \"PED\", \"id_parameter\": \"O3\", \"value\": 21.0, \"unit\": 1}, {\"date\": \"2021-08-16T04:00:00\", \"id_station\": \"PED\", \"id_parameter\": \"O3\", \"value\": 23.0, \"unit\": 1}, {\"date\": \"2021-08-16T05:00:00\", \"id_station\": \"PED\", \"id_parameter\": \"O3\", \"value\": 20.0, \"unit\": 1}, {\"date\": \"2021-08-16T06:00:00\", \"id_station\": \"PED\", \"id_parameter\": \"O3\", \"value\": 16.0, \"unit\": 1}, {\"date\": \"2021-08-16T07:00:00\", \"id_station\": \"PED\", \"id_parameter\": \"O3\", \"value\": 9.0, \"unit\": 1}, {\"date\": \"2021-08-16T08:00:00\", \"id_station\": \"PED\", \"id_parameter\": \"O3\", \"value\": 10.0, \"unit\": 1}, {\"date\": \"2021-08-16T09:00:00\", \"id_station\": \"PED\", \"id_parameter\": \"O3\", \"value\": 13.0, \"unit\": 1}, {\"date\": \"2021-08-16T10:00:00\", \"id_station\": \"PED\", \"id_parameter\": \"O3\", \"value\": 23.0, \"unit\": 1}, {\"date\": \"2021-08-16T11:00:00\", \"id_station\": \"PED\", \"id_parameter\": \"O3\", \"value\": 32.0, \"unit\": 1}, {\"date\": \"2021-08-16T12:00:00\", \"id_station\": \"PED\", \"id_parameter\": \"O3\", \"value\": 48.0, \"unit\": 1}, {\"date\": \"2021-08-16T13:00:00\", \"id_station\": \"PED\", \"id_parameter\": \"O3\", \"value\": 65.0, \"unit\": 1}, {\"date\": \"2021-08-16T14:00:00\", \"id_station\": \"PED\", \"id_parameter\": \"O3\", \"value\": 81.0, \"unit\": 1}, {\"date\": \"2021-08-16T15:00:00\", \"id_station\": \"PED\", \"id_parameter\": \"O3\", \"value\": 96.0, \"unit\": 1}, {\"date\": \"2021-08-16T16:00:00\", \"id_station\": \"PED\", \"id_parameter\": \"O3\", \"value\": 96.0, \"unit\": 1}, {\"date\": \"2021-08-16T17:00:00\", \"id_station\": \"PED\", \"id_parameter\": \"O3\", \"value\": 77.0, \"unit\": 1}, {\"date\": \"2021-08-16T18:00:00\", \"id_station\": \"PED\", \"id_parameter\": \"O3\", \"value\": 43.0, \"unit\": 1}, {\"date\": \"2021-08-16T19:00:00\", \"id_station\": \"PED\", \"id_parameter\": \"O3\", \"value\": 35.0, \"unit\": 1}, {\"date\": \"2021-08-16T20:00:00\", \"id_station\": \"PED\", \"id_parameter\": \"O3\", \"value\": 26.0, \"unit\": 1}, {\"date\": \"2021-08-16T21:00:00\", \"id_station\": \"PED\", \"id_parameter\": \"O3\", \"value\": 27.0, \"unit\": 1}, {\"date\": \"2021-08-16T22:00:00\", \"id_station\": \"PED\", \"id_parameter\": \"O3\", \"value\": 25.0, \"unit\": 1}, {\"date\": \"2021-08-16T23:00:00\", \"id_station\": \"PED\", \"id_parameter\": \"O3\", \"value\": 21.0, \"unit\": 1}, {\"date\": \"2021-08-16T00:00:00\", \"id_station\": \"PED\", \"id_parameter\": \"O3\", \"value\": 14.0, \"unit\": 1}, {\"date\": \"2021-08-17T01:00:00\", \"id_station\": \"PED\", \"id_parameter\": \"O3\", \"value\": 9.0, \"unit\": 1}, {\"date\": \"2021-08-17T02:00:00\", \"id_station\": \"PED\", \"id_parameter\": \"O3\", \"value\": 13.0, \"unit\": 1}, {\"date\": \"2021-08-17T03:00:00\", \"id_station\": \"PED\", \"id_parameter\": \"O3\", \"value\": 15.0, \"unit\": 1}, {\"date\": \"2021-08-17T04:00:00\", \"id_station\": \"PED\", \"id_parameter\": \"O3\", \"value\": 13.0, \"unit\": 1}, {\"date\": \"2021-08-17T05:00:00\", \"id_station\": \"PED\", \"id_parameter\": \"O3\", \"value\": 11.0, \"unit\": 1}, {\"date\": \"2021-08-17T06:00:00\", \"id_station\": \"PED\", \"id_parameter\": \"O3\", \"value\": 2.0, \"unit\": 1}, {\"date\": \"2021-08-17T07:00:00\", \"id_station\": \"PED\", \"id_parameter\": \"O3\", \"value\": 0.0, \"unit\": 1}, {\"date\": \"2021-08-17T08:00:00\", \"id_station\": \"PED\", \"id_parameter\": \"O3\", \"value\": 1.0, \"unit\": 1}, {\"date\": \"2021-08-17T09:00:00\", \"id_station\": \"PED\", \"id_parameter\": \"O3\", \"value\": 10.0, \"unit\": 1}, {\"date\": \"2021-08-17T10:00:00\", \"id_station\": \"PED\", \"id_parameter\": \"O3\", \"value\": 25.0, \"unit\": 1}, {\"date\": \"2021-08-17T11:00:00\", \"id_station\": \"PED\", \"id_parameter\": \"O3\", \"value\": 39.0, \"unit\": 1}, {\"date\": \"2021-08-17T12:00:00\", \"id_station\": \"PED\", \"id_parameter\": \"O3\", \"value\": 59.0, \"unit\": 1}, {\"date\": \"2021-08-17T13:00:00\", \"id_station\": \"PED\", \"id_parameter\": \"O3\", \"value\": 78.0, \"unit\": 1}, {\"date\": \"2021-08-17T14:00:00\", \"id_station\": \"PED\", \"id_parameter\": \"O3\", \"value\": 80.0, \"unit\": 1}, {\"date\": \"2021-08-17T15:00:00\", \"id_station\": \"PED\", \"id_parameter\": \"O3\", \"value\": 49.0, \"unit\": 1}, {\"date\": \"2021-08-17T16:00:00\", \"id_station\": \"PED\", \"id_parameter\": \"O3\", \"value\": 31.0, \"unit\": 1}, {\"date\": \"2021-08-17T17:00:00\", \"id_station\": \"PED\", \"id_parameter\": \"O3\", \"value\": 28.0, \"unit\": 1}, {\"date\": \"2021-08-17T18:00:00\", \"id_station\": \"PED\", \"id_parameter\": \"O3\", \"value\": 38.0, \"unit\": 1}, {\"date\": \"2021-08-17T19:00:00\", \"id_station\": \"PED\", \"id_parameter\": \"O3\", \"value\": 20.0, \"unit\": 1}, {\"date\": \"2021-08-17T20:00:00\", \"id_station\": \"PED\", \"id_parameter\": \"O3\", \"value\": 8.0, \"unit\": 1}, {\"date\": \"2021-08-17T21:00:00\", \"id_station\": \"PED\", \"id_parameter\": \"O3\", \"value\": 28.0, \"unit\": 1}, {\"date\": \"2021-08-17T22:00:00\", \"id_station\": \"PED\", \"id_parameter\": \"O3\", \"value\": 26.0, \"unit\": 1}, {\"date\": \"2021-08-17T23:00:00\", \"id_station\": \"PED\", \"id_parameter\": \"O3\", \"value\": 21.0, \"unit\": 1}, {\"date\": \"2021-08-17T00:00:00\", \"id_station\": \"PED\", \"id_parameter\": \"O3\", \"value\": null, \"unit\": 1}, {\"date\": \"2021-08-18T01:00:00\", \"id_station\": \"PED\", \"id_parameter\": \"O3\", \"value\": null, \"unit\": 1}, {\"date\": \"2021-08-18T02:00:00\", \"id_station\": \"PED\", \"id_parameter\": \"O3\", \"value\": null, \"unit\": 1}, {\"date\": \"2021-08-18T03:00:00\", \"id_station\": \"PED\", \"id_parameter\": \"O3\", \"value\": null, \"unit\": 1}, {\"date\": \"2021-08-18T04:00:00\", \"id_station\": \"PED\", \"id_parameter\": \"O3\", \"value\": 17.0, \"unit\": 1}, {\"date\": \"2021-08-18T05:00:00\", \"id_station\": \"PED\", \"id_parameter\": \"O3\", \"value\": 15.0, \"unit\": 1}, {\"date\": \"2021-08-18T06:00:00\", \"id_station\": \"PED\", \"id_parameter\": \"O3\", \"value\": 6.0, \"unit\": 1}, {\"date\": \"2021-08-18T07:00:00\", \"id_station\": \"PED\", \"id_parameter\": \"O3\", \"value\": 1.0, \"unit\": 1}, {\"date\": \"2021-08-18T08:00:00\", \"id_station\": \"PED\", \"id_parameter\": \"O3\", \"value\": 3.0, \"unit\": 1}, {\"date\": \"2021-08-18T09:00:00\", \"id_station\": \"PED\", \"id_parameter\": \"O3\", \"value\": 8.0, \"unit\": 1}, {\"date\": \"2021-08-18T10:00:00\", \"id_station\": \"PED\", \"id_parameter\": \"O3\", \"value\": 18.0, \"unit\": 1}, {\"date\": \"2021-08-18T11:00:00\", \"id_station\": \"PED\", \"id_parameter\": \"O3\", \"value\": 35.0, \"unit\": 1}, {\"date\": \"2021-08-18T12:00:00\", \"id_station\": \"PED\", \"id_parameter\": \"O3\", \"value\": 53.0, \"unit\": 1}, {\"date\": \"2021-08-18T13:00:00\", \"id_station\": \"PED\", \"id_parameter\": \"O3\", \"value\": 84.0, \"unit\": 1}, {\"date\": \"2021-08-18T14:00:00\", \"id_station\": \"PED\", \"id_parameter\": \"O3\", \"value\": 106.0, \"unit\": 1}, {\"date\": \"2021-08-18T15:00:00\", \"id_station\": \"PED\", \"id_parameter\": \"O3\", \"value\": 45.0, \"unit\": 1}, {\"date\": \"2021-08-18T16:00:00\", \"id_station\": \"PED\", \"id_parameter\": \"O3\", \"value\": 48.0, \"unit\": 1}, {\"date\": \"2021-08-18T17:00:00\", \"id_station\": \"PED\", \"id_parameter\": \"O3\", \"value\": 66.0, \"unit\": 1}, {\"date\": \"2021-08-18T18:00:00\", \"id_station\": \"PED\", \"id_parameter\": \"O3\", \"value\": 49.0, \"unit\": 1}, {\"date\": \"2021-08-18T19:00:00\", \"id_station\": \"PED\", \"id_parameter\": \"O3\", \"value\": 36.0, \"unit\": 1}, {\"date\": \"2021-08-18T20:00:00\", \"id_station\": \"PED\", \"id_parameter\": \"O3\", \"value\": 17.0, \"unit\": 1}, {\"date\": \"2021-08-18T21:00:00\", \"id_station\": \"PED\", \"id_parameter\": \"O3\", \"value\": 22.0, \"unit\": 1}, {\"date\": \"2021-08-18T22:00:00\", \"id_station\": \"PED\", \"id_parameter\": \"O3\", \"value\": 17.0, \"unit\": 1}, {\"date\": \"2021-08-18T23:00:00\", \"id_station\": \"PED\", \"id_parameter\": \"O3\", \"value\": 14.0, \"unit\": 1}, {\"date\": \"2021-08-18T00:00:00\", \"id_station\": \"PED\", \"id_parameter\": \"O3\", \"value\": 16.0, \"unit\": 1}, {\"date\": \"2021-08-19T01:00:00\", \"id_station\": \"PED\", \"id_parameter\": \"O3\", \"value\": 16.0, \"unit\": 1}, {\"date\": \"2021-08-19T02:00:00\", \"id_station\": \"PED\", \"id_parameter\": \"O3\", \"value\": 15.0, \"unit\": 1}, {\"date\": \"2021-08-19T03:00:00\", \"id_station\": \"PED\", \"id_parameter\": \"O3\", \"value\": 13.0, \"unit\": 1}, {\"date\": \"2021-08-19T04:00:00\", \"id_station\": \"PED\", \"id_parameter\": \"O3\", \"value\": 15.0, \"unit\": 1}, {\"date\": \"2021-08-19T05:00:00\", \"id_station\": \"PED\", \"id_parameter\": \"O3\", \"value\": 11.0, \"unit\": 1}, {\"date\": \"2021-08-19T06:00:00\", \"id_station\": \"PED\", \"id_parameter\": \"O3\", \"value\": 2.0, \"unit\": 1}, {\"date\": \"2021-08-19T07:00:00\", \"id_station\": \"PED\", \"id_parameter\": \"O3\", \"value\": 1.0, \"unit\": 1}, {\"date\": \"2021-08-19T08:00:00\", \"id_station\": \"PED\", \"id_parameter\": \"O3\", \"value\": 4.0, \"unit\": 1}, {\"date\": \"2021-08-19T09:00:00\", \"id_station\": \"PED\", \"id_parameter\": \"O3\", \"value\": 14.0, \"unit\": 1}, {\"date\": \"2021-08-19T10:00:00\", \"id_station\": \"PED\", \"id_parameter\": \"O3\", \"value\": 26.0, \"unit\": 1}, {\"date\": \"2021-08-19T11:00:00\", \"id_station\": \"PED\", \"id_parameter\": \"O3\", \"value\": 43.0, \"unit\": 1}, {\"date\": \"2021-08-19T12:00:00\", \"id_station\": \"PED\", \"id_parameter\": \"O3\", \"value\": 57.0, \"unit\": 1}, {\"date\": \"2021-08-19T13:00:00\", \"id_station\": \"PED\", \"id_parameter\": \"O3\", \"value\": 73.0, \"unit\": 1}, {\"date\": \"2021-08-19T14:00:00\", \"id_station\": \"PED\", \"id_parameter\": \"O3\", \"value\": 81.0, \"unit\": 1}, {\"date\": \"2021-08-19T15:00:00\", \"id_station\": \"PED\", \"id_parameter\": \"O3\", \"value\": 76.0, \"unit\": 1}, {\"date\": \"2021-08-19T16:00:00\", \"id_station\": \"PED\", \"id_parameter\": \"O3\", \"value\": 66.0, \"unit\": 1}, {\"date\": \"2021-08-19T17:00:00\", \"id_station\": \"PED\", \"id_parameter\": \"O3\", \"value\": 56.0, \"unit\": 1}, {\"date\": \"2021-08-19T18:00:00\", \"id_station\": \"PED\", \"id_parameter\": \"O3\", \"value\": 38.0, \"unit\": 1}, {\"date\": \"2021-08-19T19:00:00\", \"id_station\": \"PED\", \"id_parameter\": \"O3\", \"value\": 30.0, \"unit\": 1}, {\"date\": \"2021-08-19T20:00:00\", \"id_station\": \"PED\", \"id_parameter\": \"O3\", \"value\": 28.0, \"unit\": 1}, {\"date\": \"2021-08-19T21:00:00\", \"id_station\": \"PED\", \"id_parameter\": \"O3\", \"value\": 25.0, \"unit\": 1}, {\"date\": \"2021-08-19T22:00:00\", \"id_station\": \"PED\", \"id_parameter\": \"O3\", \"value\": 17.0, \"unit\": 1}, {\"date\": \"2021-08-19T23:00:00\", \"id_station\": \"PED\", \"id_parameter\": \"O3\", \"value\": 12.0, \"unit\": 1}, {\"date\": \"2021-08-19T00:00:00\", \"id_station\": \"PED\", \"id_parameter\": \"O3\", \"value\": 18.0, \"unit\": 1}, {\"date\": \"2021-08-20T01:00:00\", \"id_station\": \"PED\", \"id_parameter\": \"O3\", \"value\": 21.0, \"unit\": 1}, {\"date\": \"2021-08-20T02:00:00\", \"id_station\": \"PED\", \"id_parameter\": \"O3\", \"value\": 18.0, \"unit\": 1}, {\"date\": \"2021-08-20T03:00:00\", \"id_station\": \"PED\", \"id_parameter\": \"O3\", \"value\": 19.0, \"unit\": 1}, {\"date\": \"2021-08-20T04:00:00\", \"id_station\": \"PED\", \"id_parameter\": \"O3\", \"value\": 14.0, \"unit\": 1}, {\"date\": \"2021-08-20T05:00:00\", \"id_station\": \"PED\", \"id_parameter\": \"O3\", \"value\": 7.0, \"unit\": 1}, {\"date\": \"2021-08-20T06:00:00\", \"id_station\": \"PED\", \"id_parameter\": \"O3\", \"value\": 6.0, \"unit\": 1}, {\"date\": \"2021-08-20T07:00:00\", \"id_station\": \"PED\", \"id_parameter\": \"O3\", \"value\": 3.0, \"unit\": 1}, {\"date\": \"2021-08-20T08:00:00\", \"id_station\": \"PED\", \"id_parameter\": \"O3\", \"value\": 8.0, \"unit\": 1}, {\"date\": \"2021-08-20T09:00:00\", \"id_station\": \"PED\", \"id_parameter\": \"O3\", \"value\": 13.0, \"unit\": 1}, {\"date\": \"2021-08-20T10:00:00\", \"id_station\": \"PED\", \"id_parameter\": \"O3\", \"value\": 19.0, \"unit\": 1}, {\"date\": \"2021-08-20T11:00:00\", \"id_station\": \"PED\", \"id_parameter\": \"O3\", \"value\": 29.0, \"unit\": 1}, {\"date\": \"2021-08-20T12:00:00\", \"id_station\": \"PED\", \"id_parameter\": \"O3\", \"value\": 40.0, \"unit\": 1}, {\"date\": \"2021-08-20T13:00:00\", \"id_station\": \"PED\", \"id_parameter\": \"O3\", \"value\": 50.0, \"unit\": 1}, {\"date\": \"2021-08-20T14:00:00\", \"id_station\": \"PED\", \"id_parameter\": \"O3\", \"value\": 50.0, \"unit\": 1}, {\"date\": \"2021-08-20T15:00:00\", \"id_station\": \"PED\", \"id_parameter\": \"O3\", \"value\": 42.0, \"unit\": 1}, {\"date\": \"2021-08-20T16:00:00\", \"id_station\": \"PED\", \"id_parameter\": \"O3\", \"value\": 38.0, \"unit\": 1}, {\"date\": \"2021-08-20T17:00:00\", \"id_station\": \"PED\", \"id_parameter\": \"O3\", \"value\": 28.0, \"unit\": 1}, {\"date\": \"2021-08-20T18:00:00\", \"id_station\": \"PED\", \"id_parameter\": \"O3\", \"value\": 21.0, \"unit\": 1}, {\"date\": \"2021-08-20T19:00:00\", \"id_station\": \"PED\", \"id_parameter\": \"O3\", \"value\": 16.0, \"unit\": 1}, {\"date\": \"2021-08-20T20:00:00\", \"id_station\": \"PED\", \"id_parameter\": \"O3\", \"value\": 16.0, \"unit\": 1}, {\"date\": \"2021-08-20T21:00:00\", \"id_station\": \"PED\", \"id_parameter\": \"O3\", \"value\": 17.0, \"unit\": 1}, {\"date\": \"2021-08-20T22:00:00\", \"id_station\": \"PED\", \"id_parameter\": \"O3\", \"value\": 14.0, \"unit\": 1}, {\"date\": \"2021-08-20T23:00:00\", \"id_station\": \"PED\", \"id_parameter\": \"O3\", \"value\": 15.0, \"unit\": 1}, {\"date\": \"2021-08-20T00:00:00\", \"id_station\": \"PED\", \"id_parameter\": \"O3\", \"value\": 14.0, \"unit\": 1}, {\"date\": \"2021-08-21T01:00:00\", \"id_station\": \"PED\", \"id_parameter\": \"O3\", \"value\": 15.0, \"unit\": 1}, {\"date\": \"2021-08-21T02:00:00\", \"id_station\": \"PED\", \"id_parameter\": \"O3\", \"value\": 14.0, \"unit\": 1}, {\"date\": \"2021-08-21T03:00:00\", \"id_station\": \"PED\", \"id_parameter\": \"O3\", \"value\": 20.0, \"unit\": 1}, {\"date\": \"2021-08-21T04:00:00\", \"id_station\": \"PED\", \"id_parameter\": \"O3\", \"value\": 27.0, \"unit\": 1}, {\"date\": \"2021-08-21T05:00:00\", \"id_station\": \"PED\", \"id_parameter\": \"O3\", \"value\": 26.0, \"unit\": 1}, {\"date\": \"2021-08-21T06:00:00\", \"id_station\": \"PED\", \"id_parameter\": \"O3\", \"value\": 22.0, \"unit\": 1}, {\"date\": \"2021-08-21T07:00:00\", \"id_station\": \"PED\", \"id_parameter\": \"O3\", \"value\": 17.0, \"unit\": 1}, {\"date\": \"2021-08-21T08:00:00\", \"id_station\": \"PED\", \"id_parameter\": \"O3\", \"value\": 12.0, \"unit\": 1}, {\"date\": \"2021-08-21T09:00:00\", \"id_station\": \"PED\", \"id_parameter\": \"O3\", \"value\": 8.0, \"unit\": 1}, {\"date\": \"2021-08-21T10:00:00\", \"id_station\": \"PED\", \"id_parameter\": \"O3\", \"value\": 7.0, \"unit\": 1}, {\"date\": \"2021-08-21T11:00:00\", \"id_station\": \"PED\", \"id_parameter\": \"O3\", \"value\": 8.0, \"unit\": 1}, {\"date\": \"2021-08-21T12:00:00\", \"id_station\": \"PED\", \"id_parameter\": \"O3\", \"value\": 14.0, \"unit\": 1}, {\"date\": \"2021-08-21T13:00:00\", \"id_station\": \"PED\", \"id_parameter\": \"O3\", \"value\": 20.0, \"unit\": 1}, {\"date\": \"2021-08-21T14:00:00\", \"id_station\": \"PED\", \"id_parameter\": \"O3\", \"value\": 27.0, \"unit\": 1}, {\"date\": \"2021-08-21T15:00:00\", \"id_station\": \"PED\", \"id_parameter\": \"O3\", \"value\": 30.0, \"unit\": 1}, {\"date\": \"2021-08-21T16:00:00\", \"id_station\": \"PED\", \"id_parameter\": \"O3\", \"value\": 27.0, \"unit\": 1}, {\"date\": \"2021-08-21T17:00:00\", \"id_station\": \"PED\", \"id_parameter\": \"O3\", \"value\": 31.0, \"unit\": 1}, {\"date\": \"2021-08-21T18:00:00\", \"id_station\": \"PED\", \"id_parameter\": \"O3\", \"value\": 30.0, \"unit\": 1}, {\"date\": \"2021-08-21T19:00:00\", \"id_station\": \"PED\", \"id_parameter\": \"O3\", \"value\": 29.0, \"unit\": 1}, {\"date\": \"2021-08-21T20:00:00\", \"id_station\": \"PED\", \"id_parameter\": \"O3\", \"value\": 21.0, \"unit\": 1}, {\"date\": \"2021-08-21T21:00:00\", \"id_station\": \"PED\", \"id_parameter\": \"O3\", \"value\": 17.0, \"unit\": 1}, {\"date\": \"2021-08-21T22:00:00\", \"id_station\": \"PED\", \"id_parameter\": \"O3\", \"value\": 2.0, \"unit\": 1}, {\"date\": \"2021-08-21T23:00:00\", \"id_station\": \"PED\", \"id_parameter\": \"O3\", \"value\": 0.0, \"unit\": 1}, {\"date\": \"2021-08-21T00:00:00\", \"id_station\": \"PED\", \"id_parameter\": \"O3\", \"value\": 2.0, \"unit\": 1}, {\"date\": \"2021-08-22T01:00:00\", \"id_station\": \"PED\", \"id_parameter\": \"O3\", \"value\": 5.0, \"unit\": 1}, {\"date\": \"2021-08-22T02:00:00\", \"id_station\": \"PED\", \"id_parameter\": \"O3\", \"value\": 14.0, \"unit\": 1}, {\"date\": \"2021-08-22T03:00:00\", \"id_station\": \"PED\", \"id_parameter\": \"O3\", \"value\": 17.0, \"unit\": 1}, {\"date\": \"2021-08-22T04:00:00\", \"id_station\": \"PED\", \"id_parameter\": \"O3\", \"value\": 16.0, \"unit\": 1}, {\"date\": \"2021-08-22T05:00:00\", \"id_station\": \"PED\", \"id_parameter\": \"O3\", \"value\": 12.0, \"unit\": 1}, {\"date\": \"2021-08-22T06:00:00\", \"id_station\": \"PED\", \"id_parameter\": \"O3\", \"value\": 9.0, \"unit\": 1}, {\"date\": \"2021-08-22T07:00:00\", \"id_station\": \"PED\", \"id_parameter\": \"O3\", \"value\": 12.0, \"unit\": 1}, {\"date\": \"2021-08-22T08:00:00\", \"id_station\": \"PED\", \"id_parameter\": \"O3\", \"value\": 13.0, \"unit\": 1}, {\"date\": \"2021-08-22T09:00:00\", \"id_station\": \"PED\", \"id_parameter\": \"O3\", \"value\": 19.0, \"unit\": 1}, {\"date\": \"2021-08-22T10:00:00\", \"id_station\": \"PED\", \"id_parameter\": \"O3\", \"value\": 26.0, \"unit\": 1}, {\"date\": \"2021-08-22T11:00:00\", \"id_station\": \"PED\", \"id_parameter\": \"O3\", \"value\": 28.0, \"unit\": 1}, {\"date\": \"2021-08-22T12:00:00\", \"id_station\": \"PED\", \"id_parameter\": \"O3\", \"value\": 44.0, \"unit\": 1}, {\"date\": \"2021-08-22T13:00:00\", \"id_station\": \"PED\", \"id_parameter\": \"O3\", \"value\": 43.0, \"unit\": 1}, {\"date\": \"2021-08-22T14:00:00\", \"id_station\": \"PED\", \"id_parameter\": \"O3\", \"value\": 45.0, \"unit\": 1}, {\"date\": \"2021-08-22T15:00:00\", \"id_station\": \"PED\", \"id_parameter\": \"O3\", \"value\": 54.0, \"unit\": 1}, {\"date\": \"2021-08-22T16:00:00\", \"id_station\": \"PED\", \"id_parameter\": \"O3\", \"value\": 57.0, \"unit\": 1}, {\"date\": \"2021-08-22T17:00:00\", \"id_station\": \"PED\", \"id_parameter\": \"O3\", \"value\": 62.0, \"unit\": 1}, {\"date\": \"2021-08-22T18:00:00\", \"id_station\": \"PED\", \"id_parameter\": \"O3\", \"value\": 57.0, \"unit\": 1}, {\"date\": \"2021-08-22T19:00:00\", \"id_station\": \"PED\", \"id_parameter\": \"O3\", \"value\": 45.0, \"unit\": 1}, {\"date\": \"2021-08-22T20:00:00\", \"id_station\": \"PED\", \"id_parameter\": \"O3\", \"value\": 25.0, \"unit\": 1}, {\"date\": \"2021-08-22T21:00:00\", \"id_station\": \"PED\", \"id_parameter\": \"O3\", \"value\": 17.0, \"unit\": 1}, {\"date\": \"2021-08-22T22:00:00\", \"id_station\": \"PED\", \"id_parameter\": \"O3\", \"value\": 10.0, \"unit\": 1}, {\"date\": \"2021-08-22T23:00:00\", \"id_station\": \"PED\", \"id_parameter\": \"O3\", \"value\": 13.0, \"unit\": 1}, {\"date\": \"2021-08-22T00:00:00\", \"id_station\": \"PED\", \"id_parameter\": \"O3\", \"value\": 16.0, \"unit\": 1}, {\"date\": \"2021-08-23T01:00:00\", \"id_station\": \"PED\", \"id_parameter\": \"O3\", \"value\": 19.0, \"unit\": 1}, {\"date\": \"2021-08-23T02:00:00\", \"id_station\": \"PED\", \"id_parameter\": \"O3\", \"value\": 20.0, \"unit\": 1}, {\"date\": \"2021-08-23T03:00:00\", \"id_station\": \"PED\", \"id_parameter\": \"O3\", \"value\": 18.0, \"unit\": 1}, {\"date\": \"2021-08-23T04:00:00\", \"id_station\": \"PED\", \"id_parameter\": \"O3\", \"value\": 18.0, \"unit\": 1}, {\"date\": \"2021-08-23T05:00:00\", \"id_station\": \"PED\", \"id_parameter\": \"O3\", \"value\": 17.0, \"unit\": 1}, {\"date\": \"2021-08-23T06:00:00\", \"id_station\": \"PED\", \"id_parameter\": \"O3\", \"value\": 12.0, \"unit\": 1}, {\"date\": \"2021-08-23T07:00:00\", \"id_station\": \"PED\", \"id_parameter\": \"O3\", \"value\": 5.0, \"unit\": 1}, {\"date\": \"2021-08-23T08:00:00\", \"id_station\": \"PED\", \"id_parameter\": \"O3\", \"value\": 8.0, \"unit\": 1}, {\"date\": \"2021-08-23T09:00:00\", \"id_station\": \"PED\", \"id_parameter\": \"O3\", \"value\": 12.0, \"unit\": 1}, {\"date\": \"2021-08-23T10:00:00\", \"id_station\": \"PED\", \"id_parameter\": \"O3\", \"value\": 15.0, \"unit\": 1}, {\"date\": \"2021-08-23T11:00:00\", \"id_station\": \"PED\", \"id_parameter\": \"O3\", \"value\": 27.0, \"unit\": 1}, {\"date\": \"2021-08-23T12:00:00\", \"id_station\": \"PED\", \"id_parameter\": \"O3\", \"value\": 41.0, \"unit\": 1}, {\"date\": \"2021-08-23T13:00:00\", \"id_station\": \"PED\", \"id_parameter\": \"O3\", \"value\": 60.0, \"unit\": 1}, {\"date\": \"2021-08-23T14:00:00\", \"id_station\": \"PED\", \"id_parameter\": \"O3\", \"value\": 65.0, \"unit\": 1}, {\"date\": \"2021-08-23T15:00:00\", \"id_station\": \"PED\", \"id_parameter\": \"O3\", \"value\": 50.0, \"unit\": 1}, {\"date\": \"2021-08-23T16:00:00\", \"id_station\": \"PED\", \"id_parameter\": \"O3\", \"value\": 34.0, \"unit\": 1}, {\"date\": \"2021-08-23T17:00:00\", \"id_station\": \"PED\", \"id_parameter\": \"O3\", \"value\": 37.0, \"unit\": 1}, {\"date\": \"2021-08-23T18:00:00\", \"id_station\": \"PED\", \"id_parameter\": \"O3\", \"value\": 40.0, \"unit\": 1}, {\"date\": \"2021-08-23T19:00:00\", \"id_station\": \"PED\", \"id_parameter\": \"O3\", \"value\": 30.0, \"unit\": 1}, {\"date\": \"2021-08-23T20:00:00\", \"id_station\": \"PED\", \"id_parameter\": \"O3\", \"value\": 18.0, \"unit\": 1}, {\"date\": \"2021-08-23T21:00:00\", \"id_station\": \"PED\", \"id_parameter\": \"O3\", \"value\": 16.0, \"unit\": 1}, {\"date\": \"2021-08-23T22:00:00\", \"id_station\": \"PED\", \"id_parameter\": \"O3\", \"value\": 15.0, \"unit\": 1}, {\"date\": \"2021-08-23T23:00:00\", \"id_station\": \"PED\", \"id_parameter\": \"O3\", \"value\": 21.0, \"unit\": 1}, {\"date\": \"2021-08-23T00:00:00\", \"id_station\": \"PED\", \"id_parameter\": \"O3\", \"value\": null, \"unit\": 1}, {\"date\": \"2021-08-24T01:00:00\", \"id_station\": \"PED\", \"id_parameter\": \"O3\", \"value\": null, \"unit\": 1}, {\"date\": \"2021-08-24T02:00:00\", \"id_station\": \"PED\", \"id_parameter\": \"O3\", \"value\": null, \"unit\": 1}, {\"date\": \"2021-08-24T03:00:00\", \"id_station\": \"PED\", \"id_parameter\": \"O3\", \"value\": null, \"unit\": 1}, {\"date\": \"2021-08-24T04:00:00\", \"id_station\": \"PED\", \"id_parameter\": \"O3\", \"value\": null, \"unit\": 1}, {\"date\": \"2021-08-24T05:00:00\", \"id_station\": \"PED\", \"id_parameter\": \"O3\", \"value\": null, \"unit\": 1}, {\"date\": \"2021-08-24T06:00:00\", \"id_station\": \"PED\", \"id_parameter\": \"O3\", \"value\": null, \"unit\": 1}, {\"date\": \"2021-08-24T07:00:00\", \"id_station\": \"PED\", \"id_parameter\": \"O3\", \"value\": null, \"unit\": 1}, {\"date\": \"2021-08-24T08:00:00\", \"id_station\": \"PED\", \"id_parameter\": \"O3\", \"value\": null, \"unit\": 1}, {\"date\": \"2021-08-24T09:00:00\", \"id_station\": \"PED\", \"id_parameter\": \"O3\", \"value\": null, \"unit\": 1}, {\"date\": \"2021-08-24T10:00:00\", \"id_station\": \"PED\", \"id_parameter\": \"O3\", \"value\": null, \"unit\": 1}, {\"date\": \"2021-08-24T11:00:00\", \"id_station\": \"PED\", \"id_parameter\": \"O3\", \"value\": null, \"unit\": 1}, {\"date\": \"2021-08-24T12:00:00\", \"id_station\": \"PED\", \"id_parameter\": \"O3\", \"value\": 30.0, \"unit\": 1}, {\"date\": \"2021-08-24T13:00:00\", \"id_station\": \"PED\", \"id_parameter\": \"O3\", \"value\": 45.0, \"unit\": 1}, {\"date\": \"2021-08-24T14:00:00\", \"id_station\": \"PED\", \"id_parameter\": \"O3\", \"value\": 50.0, \"unit\": 1}, {\"date\": \"2021-08-24T15:00:00\", \"id_station\": \"PED\", \"id_parameter\": \"O3\", \"value\": 33.0, \"unit\": 1}, {\"date\": \"2021-08-24T16:00:00\", \"id_station\": \"PED\", \"id_parameter\": \"O3\", \"value\": 26.0, \"unit\": 1}, {\"date\": \"2021-08-24T17:00:00\", \"id_station\": \"PED\", \"id_parameter\": \"O3\", \"value\": 32.0, \"unit\": 1}, {\"date\": \"2021-08-24T18:00:00\", \"id_station\": \"PED\", \"id_parameter\": \"O3\", \"value\": 34.0, \"unit\": 1}, {\"date\": \"2021-08-24T19:00:00\", \"id_station\": \"PED\", \"id_parameter\": \"O3\", \"value\": 20.0, \"unit\": 1}, {\"date\": \"2021-08-24T20:00:00\", \"id_station\": \"PED\", \"id_parameter\": \"O3\", \"value\": 9.0, \"unit\": 1}, {\"date\": \"2021-08-24T21:00:00\", \"id_station\": \"PED\", \"id_parameter\": \"O3\", \"value\": 10.0, \"unit\": 1}, {\"date\": \"2021-08-24T22:00:00\", \"id_station\": \"PED\", \"id_parameter\": \"O3\", \"value\": 12.0, \"unit\": 1}, {\"date\": \"2021-08-24T23:00:00\", \"id_station\": \"PED\", \"id_parameter\": \"O3\", \"value\": 10.0, \"unit\": 1}, {\"date\": \"2021-08-24T00:00:00\", \"id_station\": \"PED\", \"id_parameter\": \"O3\", \"value\": 13.0, \"unit\": 1}, {\"date\": \"2021-08-25T01:00:00\", \"id_station\": \"PED\", \"id_parameter\": \"O3\", \"value\": 16.0, \"unit\": 1}, {\"date\": \"2021-08-25T02:00:00\", \"id_station\": \"PED\", \"id_parameter\": \"O3\", \"value\": 19.0, \"unit\": 1}, {\"date\": \"2021-08-25T03:00:00\", \"id_station\": \"PED\", \"id_parameter\": \"O3\", \"value\": 22.0, \"unit\": 1}, {\"date\": \"2021-08-25T04:00:00\", \"id_station\": \"PED\", \"id_parameter\": \"O3\", \"value\": 22.0, \"unit\": 1}, {\"date\": \"2021-08-25T05:00:00\", \"id_station\": \"PED\", \"id_parameter\": \"O3\", \"value\": 18.0, \"unit\": 1}, {\"date\": \"2021-08-25T06:00:00\", \"id_station\": \"PED\", \"id_parameter\": \"O3\", \"value\": 16.0, \"unit\": 1}, {\"date\": \"2021-08-25T07:00:00\", \"id_station\": \"PED\", \"id_parameter\": \"O3\", \"value\": 15.0, \"unit\": 1}, {\"date\": \"2021-08-25T08:00:00\", \"id_station\": \"PED\", \"id_parameter\": \"O3\", \"value\": 14.0, \"unit\": 1}, {\"date\": \"2021-08-25T09:00:00\", \"id_station\": \"PED\", \"id_parameter\": \"O3\", \"value\": 18.0, \"unit\": 1}, {\"date\": \"2021-08-25T10:00:00\", \"id_station\": \"PED\", \"id_parameter\": \"O3\", \"value\": 18.0, \"unit\": 1}, {\"date\": \"2021-08-25T11:00:00\", \"id_station\": \"PED\", \"id_parameter\": \"O3\", \"value\": 23.0, \"unit\": 1}, {\"date\": \"2021-08-25T12:00:00\", \"id_station\": \"PED\", \"id_parameter\": \"O3\", \"value\": 31.0, \"unit\": 1}, {\"date\": \"2021-08-25T13:00:00\", \"id_station\": \"PED\", \"id_parameter\": \"O3\", \"value\": 40.0, \"unit\": 1}, {\"date\": \"2021-08-25T14:00:00\", \"id_station\": \"PED\", \"id_parameter\": \"O3\", \"value\": 34.0, \"unit\": 1}, {\"date\": \"2021-08-25T15:00:00\", \"id_station\": \"PED\", \"id_parameter\": \"O3\", \"value\": 36.0, \"unit\": 1}, {\"date\": \"2021-08-25T16:00:00\", \"id_station\": \"PED\", \"id_parameter\": \"O3\", \"value\": 38.0, \"unit\": 1}, {\"date\": \"2021-08-25T17:00:00\", \"id_station\": \"PED\", \"id_parameter\": \"O3\", \"value\": 34.0, \"unit\": 1}, {\"date\": \"2021-08-25T18:00:00\", \"id_station\": \"PED\", \"id_parameter\": \"O3\", \"value\": 27.0, \"unit\": 1}, {\"date\": \"2021-08-25T19:00:00\", \"id_station\": \"PED\", \"id_parameter\": \"O3\", \"value\": 24.0, \"unit\": 1}, {\"date\": \"2021-08-25T20:00:00\", \"id_station\": \"PED\", \"id_parameter\": \"O3\", \"value\": 26.0, \"unit\": 1}, {\"date\": \"2021-08-25T21:00:00\", \"id_station\": \"PED\", \"id_parameter\": \"O3\", \"value\": 20.0, \"unit\": 1}, {\"date\": \"2021-08-25T22:00:00\", \"id_station\": \"PED\", \"id_parameter\": \"O3\", \"value\": 20.0, \"unit\": 1}, {\"date\": \"2021-08-25T23:00:00\", \"id_station\": \"PED\", \"id_parameter\": \"O3\", \"value\": 19.0, \"unit\": 1}, {\"date\": \"2021-08-25T00:00:00\", \"id_station\": \"PED\", \"id_parameter\": \"O3\", \"value\": 22.0, \"unit\": 1}, {\"date\": \"2021-08-26T01:00:00\", \"id_station\": \"PED\", \"id_parameter\": \"O3\", \"value\": 20.0, \"unit\": 1}, {\"date\": \"2021-08-26T02:00:00\", \"id_station\": \"PED\", \"id_parameter\": \"O3\", \"value\": 20.0, \"unit\": 1}, {\"date\": \"2021-08-26T03:00:00\", \"id_station\": \"PED\", \"id_parameter\": \"O3\", \"value\": 20.0, \"unit\": 1}, {\"date\": \"2021-08-26T04:00:00\", \"id_station\": \"PED\", \"id_parameter\": \"O3\", \"value\": 22.0, \"unit\": 1}, {\"date\": \"2021-08-26T05:00:00\", \"id_station\": \"PED\", \"id_parameter\": \"O3\", \"value\": 20.0, \"unit\": 1}, {\"date\": \"2021-08-26T06:00:00\", \"id_station\": \"PED\", \"id_parameter\": \"O3\", \"value\": 15.0, \"unit\": 1}, {\"date\": \"2021-08-26T07:00:00\", \"id_station\": \"PED\", \"id_parameter\": \"O3\", \"value\": 9.0, \"unit\": 1}, {\"date\": \"2021-08-26T08:00:00\", \"id_station\": \"PED\", \"id_parameter\": \"O3\", \"value\": 15.0, \"unit\": 1}, {\"date\": \"2021-08-26T09:00:00\", \"id_station\": \"PED\", \"id_parameter\": \"O3\", \"value\": 21.0, \"unit\": 1}, {\"date\": \"2021-08-26T10:00:00\", \"id_station\": \"PED\", \"id_parameter\": \"O3\", \"value\": 27.0, \"unit\": 1}, {\"date\": \"2021-08-26T11:00:00\", \"id_station\": \"PED\", \"id_parameter\": \"O3\", \"value\": 33.0, \"unit\": 1}, {\"date\": \"2021-08-26T12:00:00\", \"id_station\": \"PED\", \"id_parameter\": \"O3\", \"value\": 42.0, \"unit\": 1}, {\"date\": \"2021-08-26T13:00:00\", \"id_station\": \"PED\", \"id_parameter\": \"O3\", \"value\": 64.0, \"unit\": 1}, {\"date\": \"2021-08-26T14:00:00\", \"id_station\": \"PED\", \"id_parameter\": \"O3\", \"value\": 90.0, \"unit\": 1}, {\"date\": \"2021-08-26T15:00:00\", \"id_station\": \"PED\", \"id_parameter\": \"O3\", \"value\": 77.0, \"unit\": 1}, {\"date\": \"2021-08-26T16:00:00\", \"id_station\": \"PED\", \"id_parameter\": \"O3\", \"value\": 40.0, \"unit\": 1}, {\"date\": \"2021-08-26T17:00:00\", \"id_station\": \"PED\", \"id_parameter\": \"O3\", \"value\": 26.0, \"unit\": 1}, {\"date\": \"2021-08-26T18:00:00\", \"id_station\": \"PED\", \"id_parameter\": \"O3\", \"value\": 21.0, \"unit\": 1}, {\"date\": \"2021-08-26T19:00:00\", \"id_station\": \"PED\", \"id_parameter\": \"O3\", \"value\": 20.0, \"unit\": 1}, {\"date\": \"2021-08-26T20:00:00\", \"id_station\": \"PED\", \"id_parameter\": \"O3\", \"value\": 18.0, \"unit\": 1}, {\"date\": \"2021-08-26T21:00:00\", \"id_station\": \"PED\", \"id_parameter\": \"O3\", \"value\": 14.0, \"unit\": 1}, {\"date\": \"2021-08-26T22:00:00\", \"id_station\": \"PED\", \"id_parameter\": \"O3\", \"value\": 12.0, \"unit\": 1}, {\"date\": \"2021-08-26T23:00:00\", \"id_station\": \"PED\", \"id_parameter\": \"O3\", \"value\": 15.0, \"unit\": 1}, {\"date\": \"2021-08-26T00:00:00\", \"id_station\": \"PED\", \"id_parameter\": \"O3\", \"value\": 17.0, \"unit\": 1}, {\"date\": \"2021-08-27T01:00:00\", \"id_station\": \"PED\", \"id_parameter\": \"O3\", \"value\": 18.0, \"unit\": 1}, {\"date\": \"2021-08-27T02:00:00\", \"id_station\": \"PED\", \"id_parameter\": \"O3\", \"value\": 19.0, \"unit\": 1}, {\"date\": \"2021-08-27T03:00:00\", \"id_station\": \"PED\", \"id_parameter\": \"O3\", \"value\": 17.0, \"unit\": 1}, {\"date\": \"2021-08-27T04:00:00\", \"id_station\": \"PED\", \"id_parameter\": \"O3\", \"value\": 14.0, \"unit\": 1}, {\"date\": \"2021-08-27T05:00:00\", \"id_station\": \"PED\", \"id_parameter\": \"O3\", \"value\": 13.0, \"unit\": 1}, {\"date\": \"2021-08-27T06:00:00\", \"id_station\": \"PED\", \"id_parameter\": \"O3\", \"value\": 5.0, \"unit\": 1}, {\"date\": \"2021-08-27T07:00:00\", \"id_station\": \"PED\", \"id_parameter\": \"O3\", \"value\": 1.0, \"unit\": 1}, {\"date\": \"2021-08-27T08:00:00\", \"id_station\": \"PED\", \"id_parameter\": \"O3\", \"value\": 2.0, \"unit\": 1}, {\"date\": \"2021-08-27T09:00:00\", \"id_station\": \"PED\", \"id_parameter\": \"O3\", \"value\": 3.0, \"unit\": 1}, {\"date\": \"2021-08-27T10:00:00\", \"id_station\": \"PED\", \"id_parameter\": \"O3\", \"value\": 16.0, \"unit\": 1}, {\"date\": \"2021-08-27T11:00:00\", \"id_station\": \"PED\", \"id_parameter\": \"O3\", \"value\": 28.0, \"unit\": 1}, {\"date\": \"2021-08-27T12:00:00\", \"id_station\": \"PED\", \"id_parameter\": \"O3\", \"value\": 27.0, \"unit\": 1}, {\"date\": \"2021-08-27T13:00:00\", \"id_station\": \"PED\", \"id_parameter\": \"O3\", \"value\": 30.0, \"unit\": 1}, {\"date\": \"2021-08-27T14:00:00\", \"id_station\": \"PED\", \"id_parameter\": \"O3\", \"value\": 47.0, \"unit\": 1}, {\"date\": \"2021-08-27T15:00:00\", \"id_station\": \"PED\", \"id_parameter\": \"O3\", \"value\": 59.0, \"unit\": 1}, {\"date\": \"2021-08-27T16:00:00\", \"id_station\": \"PED\", \"id_parameter\": \"O3\", \"value\": 58.0, \"unit\": 1}, {\"date\": \"2021-08-27T17:00:00\", \"id_station\": \"PED\", \"id_parameter\": \"O3\", \"value\": 43.0, \"unit\": 1}, {\"date\": \"2021-08-27T18:00:00\", \"id_station\": \"PED\", \"id_parameter\": \"O3\", \"value\": 35.0, \"unit\": 1}, {\"date\": \"2021-08-27T19:00:00\", \"id_station\": \"PED\", \"id_parameter\": \"O3\", \"value\": 24.0, \"unit\": 1}, {\"date\": \"2021-08-27T20:00:00\", \"id_station\": \"PED\", \"id_parameter\": \"O3\", \"value\": 21.0, \"unit\": 1}, {\"date\": \"2021-08-27T21:00:00\", \"id_station\": \"PED\", \"id_parameter\": \"O3\", \"value\": 21.0, \"unit\": 1}, {\"date\": \"2021-08-27T22:00:00\", \"id_station\": \"PED\", \"id_parameter\": \"O3\", \"value\": 20.0, \"unit\": 1}, {\"date\": \"2021-08-27T23:00:00\", \"id_station\": \"PED\", \"id_parameter\": \"O3\", \"value\": 15.0, \"unit\": 1}, {\"date\": \"2021-08-27T00:00:00\", \"id_station\": \"PED\", \"id_parameter\": \"O3\", \"value\": 6.0, \"unit\": 1}, {\"date\": \"2021-08-28T01:00:00\", \"id_station\": \"PED\", \"id_parameter\": \"O3\", \"value\": 7.0, \"unit\": 1}, {\"date\": \"2021-08-28T02:00:00\", \"id_station\": \"PED\", \"id_parameter\": \"O3\", \"value\": 6.0, \"unit\": 1}, {\"date\": \"2021-08-28T03:00:00\", \"id_station\": \"PED\", \"id_parameter\": \"O3\", \"value\": 1.0, \"unit\": 1}, {\"date\": \"2021-08-28T04:00:00\", \"id_station\": \"PED\", \"id_parameter\": \"O3\", \"value\": 1.0, \"unit\": 1}, {\"date\": \"2021-08-28T05:00:00\", \"id_station\": \"PED\", \"id_parameter\": \"O3\", \"value\": 3.0, \"unit\": 1}, {\"date\": \"2021-08-28T06:00:00\", \"id_station\": \"PED\", \"id_parameter\": \"O3\", \"value\": 4.0, \"unit\": 1}, {\"date\": \"2021-08-28T07:00:00\", \"id_station\": \"PED\", \"id_parameter\": \"O3\", \"value\": 1.0, \"unit\": 1}, {\"date\": \"2021-08-28T08:00:00\", \"id_station\": \"PED\", \"id_parameter\": \"O3\", \"value\": 1.0, \"unit\": 1}, {\"date\": \"2021-08-28T09:00:00\", \"id_station\": \"PED\", \"id_parameter\": \"O3\", \"value\": 3.0, \"unit\": 1}, {\"date\": \"2021-08-28T10:00:00\", \"id_station\": \"PED\", \"id_parameter\": \"O3\", \"value\": 9.0, \"unit\": 1}, {\"date\": \"2021-08-28T11:00:00\", \"id_station\": \"PED\", \"id_parameter\": \"O3\", \"value\": 18.0, \"unit\": 1}, {\"date\": \"2021-08-28T12:00:00\", \"id_station\": \"PED\", \"id_parameter\": \"O3\", \"value\": 21.0, \"unit\": 1}, {\"date\": \"2021-08-28T13:00:00\", \"id_station\": \"PED\", \"id_parameter\": \"O3\", \"value\": 21.0, \"unit\": 1}, {\"date\": \"2021-08-28T14:00:00\", \"id_station\": \"PED\", \"id_parameter\": \"O3\", \"value\": 22.0, \"unit\": 1}, {\"date\": \"2021-08-28T15:00:00\", \"id_station\": \"PED\", \"id_parameter\": \"O3\", \"value\": 20.0, \"unit\": 1}, {\"date\": \"2021-08-28T16:00:00\", \"id_station\": \"PED\", \"id_parameter\": \"O3\", \"value\": 21.0, \"unit\": 1}, {\"date\": \"2021-08-28T17:00:00\", \"id_station\": \"PED\", \"id_parameter\": \"O3\", \"value\": 18.0, \"unit\": 1}, {\"date\": \"2021-08-28T18:00:00\", \"id_station\": \"PED\", \"id_parameter\": \"O3\", \"value\": 18.0, \"unit\": 1}, {\"date\": \"2021-08-28T19:00:00\", \"id_station\": \"PED\", \"id_parameter\": \"O3\", \"value\": 16.0, \"unit\": 1}, {\"date\": \"2021-08-28T20:00:00\", \"id_station\": \"PED\", \"id_parameter\": \"O3\", \"value\": 11.0, \"unit\": 1}, {\"date\": \"2021-08-28T21:00:00\", \"id_station\": \"PED\", \"id_parameter\": \"O3\", \"value\": 10.0, \"unit\": 1}, {\"date\": \"2021-08-28T22:00:00\", \"id_station\": \"PED\", \"id_parameter\": \"O3\", \"value\": 6.0, \"unit\": 1}, {\"date\": \"2021-08-28T23:00:00\", \"id_station\": \"PED\", \"id_parameter\": \"O3\", \"value\": 1.0, \"unit\": 1}, {\"date\": \"2021-08-28T00:00:00\", \"id_station\": \"PED\", \"id_parameter\": \"O3\", \"value\": 1.0, \"unit\": 1}, {\"date\": \"2021-08-29T01:00:00\", \"id_station\": \"PED\", \"id_parameter\": \"O3\", \"value\": 1.0, \"unit\": 1}, {\"date\": \"2021-08-29T02:00:00\", \"id_station\": \"PED\", \"id_parameter\": \"O3\", \"value\": 1.0, \"unit\": 1}, {\"date\": \"2021-08-29T03:00:00\", \"id_station\": \"PED\", \"id_parameter\": \"O3\", \"value\": 1.0, \"unit\": 1}, {\"date\": \"2021-08-29T04:00:00\", \"id_station\": \"PED\", \"id_parameter\": \"O3\", \"value\": 1.0, \"unit\": 1}, {\"date\": \"2021-08-29T05:00:00\", \"id_station\": \"PED\", \"id_parameter\": \"O3\", \"value\": 1.0, \"unit\": 1}, {\"date\": \"2021-08-29T06:00:00\", \"id_station\": \"PED\", \"id_parameter\": \"O3\", \"value\": 1.0, \"unit\": 1}, {\"date\": \"2021-08-29T07:00:00\", \"id_station\": \"PED\", \"id_parameter\": \"O3\", \"value\": 1.0, \"unit\": 1}, {\"date\": \"2021-08-29T08:00:00\", \"id_station\": \"PED\", \"id_parameter\": \"O3\", \"value\": 3.0, \"unit\": 1}, {\"date\": \"2021-08-29T09:00:00\", \"id_station\": \"PED\", \"id_parameter\": \"O3\", \"value\": 9.0, \"unit\": 1}, {\"date\": \"2021-08-29T10:00:00\", \"id_station\": \"PED\", \"id_parameter\": \"O3\", \"value\": 19.0, \"unit\": 1}, {\"date\": \"2021-08-29T11:00:00\", \"id_station\": \"PED\", \"id_parameter\": \"O3\", \"value\": 32.0, \"unit\": 1}, {\"date\": \"2021-08-29T12:00:00\", \"id_station\": \"PED\", \"id_parameter\": \"O3\", \"value\": 50.0, \"unit\": 1}, {\"date\": \"2021-08-29T13:00:00\", \"id_station\": \"PED\", \"id_parameter\": \"O3\", \"value\": 61.0, \"unit\": 1}, {\"date\": \"2021-08-29T14:00:00\", \"id_station\": \"PED\", \"id_parameter\": \"O3\", \"value\": 33.0, \"unit\": 1}, {\"date\": \"2021-08-29T15:00:00\", \"id_station\": \"PED\", \"id_parameter\": \"O3\", \"value\": 27.0, \"unit\": 1}, {\"date\": \"2021-08-29T16:00:00\", \"id_station\": \"PED\", \"id_parameter\": \"O3\", \"value\": 13.0, \"unit\": 1}, {\"date\": \"2021-08-29T17:00:00\", \"id_station\": \"PED\", \"id_parameter\": \"O3\", \"value\": 11.0, \"unit\": 1}, {\"date\": \"2021-08-29T18:00:00\", \"id_station\": \"PED\", \"id_parameter\": \"O3\", \"value\": 4.0, \"unit\": 1}, {\"date\": \"2021-08-29T19:00:00\", \"id_station\": \"PED\", \"id_parameter\": \"O3\", \"value\": 3.0, \"unit\": 1}, {\"date\": \"2021-08-29T20:00:00\", \"id_station\": \"PED\", \"id_parameter\": \"O3\", \"value\": 3.0, \"unit\": 1}, {\"date\": \"2021-08-29T21:00:00\", \"id_station\": \"PED\", \"id_parameter\": \"O3\", \"value\": 1.0, \"unit\": 1}, {\"date\": \"2021-08-29T22:00:00\", \"id_station\": \"PED\", \"id_parameter\": \"O3\", \"value\": 1.0, \"unit\": 1}, {\"date\": \"2021-08-29T23:00:00\", \"id_station\": \"PED\", \"id_parameter\": \"O3\", \"value\": 0.0, \"unit\": 1}, {\"date\": \"2021-08-29T00:00:00\", \"id_station\": \"PED\", \"id_parameter\": \"O3\", \"value\": 0.0, \"unit\": 1}, {\"date\": \"2021-08-30T01:00:00\", \"id_station\": \"PED\", \"id_parameter\": \"O3\", \"value\": null, \"unit\": 1}, {\"date\": \"2021-08-30T02:00:00\", \"id_station\": \"PED\", \"id_parameter\": \"O3\", \"value\": null, \"unit\": 1}, {\"date\": \"2021-08-30T03:00:00\", \"id_station\": \"PED\", \"id_parameter\": \"O3\", \"value\": null, \"unit\": 1}, {\"date\": \"2021-08-30T04:00:00\", \"id_station\": \"PED\", \"id_parameter\": \"O3\", \"value\": 1.0, \"unit\": 1}, {\"date\": \"2021-08-30T05:00:00\", \"id_station\": \"PED\", \"id_parameter\": \"O3\", \"value\": 3.0, \"unit\": 1}, {\"date\": \"2021-08-30T06:00:00\", \"id_station\": \"PED\", \"id_parameter\": \"O3\", \"value\": 6.0, \"unit\": 1}, {\"date\": \"2021-08-30T07:00:00\", \"id_station\": \"PED\", \"id_parameter\": \"O3\", \"value\": 2.0, \"unit\": 1}, {\"date\": \"2021-08-30T08:00:00\", \"id_station\": \"PED\", \"id_parameter\": \"O3\", \"value\": 2.0, \"unit\": 1}, {\"date\": \"2021-08-30T09:00:00\", \"id_station\": \"PED\", \"id_parameter\": \"O3\", \"value\": 6.0, \"unit\": 1}, {\"date\": \"2021-08-30T10:00:00\", \"id_station\": \"PED\", \"id_parameter\": \"O3\", \"value\": 18.0, \"unit\": 1}, {\"date\": \"2021-08-30T11:00:00\", \"id_station\": \"PED\", \"id_parameter\": \"O3\", \"value\": 31.0, \"unit\": 1}, {\"date\": \"2021-08-30T12:00:00\", \"id_station\": \"PED\", \"id_parameter\": \"O3\", \"value\": 44.0, \"unit\": 1}, {\"date\": \"2021-08-30T13:00:00\", \"id_station\": \"PED\", \"id_parameter\": \"O3\", \"value\": 35.0, \"unit\": 1}, {\"date\": \"2021-08-30T14:00:00\", \"id_station\": \"PED\", \"id_parameter\": \"O3\", \"value\": 15.0, \"unit\": 1}, {\"date\": \"2021-08-30T15:00:00\", \"id_station\": \"PED\", \"id_parameter\": \"O3\", \"value\": 5.0, \"unit\": 1}, {\"date\": \"2021-08-30T16:00:00\", \"id_station\": \"PED\", \"id_parameter\": \"O3\", \"value\": 3.0, \"unit\": 1}, {\"date\": \"2021-08-30T17:00:00\", \"id_station\": \"PED\", \"id_parameter\": \"O3\", \"value\": 3.0, \"unit\": 1}, {\"date\": \"2021-08-30T18:00:00\", \"id_station\": \"PED\", \"id_parameter\": \"O3\", \"value\": 5.0, \"unit\": 1}, {\"date\": \"2021-08-30T19:00:00\", \"id_station\": \"PED\", \"id_parameter\": \"O3\", \"value\": 5.0, \"unit\": 1}, {\"date\": \"2021-08-30T20:00:00\", \"id_station\": \"PED\", \"id_parameter\": \"O3\", \"value\": 6.0, \"unit\": 1}, {\"date\": \"2021-08-30T21:00:00\", \"id_station\": \"PED\", \"id_parameter\": \"O3\", \"value\": 3.0, \"unit\": 1}, {\"date\": \"2021-08-30T22:00:00\", \"id_station\": \"PED\", \"id_parameter\": \"O3\", \"value\": 1.0, \"unit\": 1}, {\"date\": \"2021-08-30T23:00:00\", \"id_station\": \"PED\", \"id_parameter\": \"O3\", \"value\": 1.0, \"unit\": 1}, {\"date\": \"2021-08-30T00:00:00\", \"id_station\": \"PED\", \"id_parameter\": \"O3\", \"value\": 6.0, \"unit\": 1}, {\"date\": \"2021-08-31T01:00:00\", \"id_station\": \"PED\", \"id_parameter\": \"O3\", \"value\": 4.0, \"unit\": 1}, {\"date\": \"2021-08-31T02:00:00\", \"id_station\": \"PED\", \"id_parameter\": \"O3\", \"value\": 7.0, \"unit\": 1}, {\"date\": \"2021-08-31T03:00:00\", \"id_station\": \"PED\", \"id_parameter\": \"O3\", \"value\": 6.0, \"unit\": 1}, {\"date\": \"2021-08-31T04:00:00\", \"id_station\": \"PED\", \"id_parameter\": \"O3\", \"value\": 6.0, \"unit\": 1}, {\"date\": \"2021-08-31T05:00:00\", \"id_station\": \"PED\", \"id_parameter\": \"O3\", \"value\": 5.0, \"unit\": 1}, {\"date\": \"2021-08-31T06:00:00\", \"id_station\": \"PED\", \"id_parameter\": \"O3\", \"value\": 1.0, \"unit\": 1}, {\"date\": \"2021-08-31T07:00:00\", \"id_station\": \"PED\", \"id_parameter\": \"O3\", \"value\": 0.0, \"unit\": 1}, {\"date\": \"2021-08-31T08:00:00\", \"id_station\": \"PED\", \"id_parameter\": \"O3\", \"value\": 2.0, \"unit\": 1}, {\"date\": \"2021-08-31T09:00:00\", \"id_station\": \"PED\", \"id_parameter\": \"O3\", \"value\": 3.0, \"unit\": 1}, {\"date\": \"2021-08-31T10:00:00\", \"id_station\": \"PED\", \"id_parameter\": \"O3\", \"value\": 14.0, \"unit\": 1}, {\"date\": \"2021-08-31T11:00:00\", \"id_station\": \"PED\", \"id_parameter\": \"O3\", \"value\": 30.0, \"unit\": 1}, {\"date\": \"2021-08-31T12:00:00\", \"id_station\": \"PED\", \"id_parameter\": \"O3\", \"value\": 41.0, \"unit\": 1}, {\"date\": \"2021-08-31T13:00:00\", \"id_station\": \"PED\", \"id_parameter\": \"O3\", \"value\": 50.0, \"unit\": 1}, {\"date\": \"2021-08-31T14:00:00\", \"id_station\": \"PED\", \"id_parameter\": \"O3\", \"value\": 59.0, \"unit\": 1}, {\"date\": \"2021-08-31T15:00:00\", \"id_station\": \"PED\", \"id_parameter\": \"O3\", \"value\": 27.0, \"unit\": 1}, {\"date\": \"2021-08-31T16:00:00\", \"id_station\": \"PED\", \"id_parameter\": \"O3\", \"value\": 32.0, \"unit\": 1}, {\"date\": \"2021-08-31T17:00:00\", \"id_station\": \"PED\", \"id_parameter\": \"O3\", \"value\": 23.0, \"unit\": 1}, {\"date\": \"2021-08-31T18:00:00\", \"id_station\": \"PED\", \"id_parameter\": \"O3\", \"value\": 16.0, \"unit\": 1}, {\"date\": \"2021-08-31T19:00:00\", \"id_station\": \"PED\", \"id_parameter\": \"O3\", \"value\": 6.0, \"unit\": 1}, {\"date\": \"2021-08-31T20:00:00\", \"id_station\": \"PED\", \"id_parameter\": \"O3\", \"value\": 13.0, \"unit\": 1}, {\"date\": \"2021-08-31T21:00:00\", \"id_station\": \"PED\", \"id_parameter\": \"O3\", \"value\": 12.0, \"unit\": 1}, {\"date\": \"2021-08-31T22:00:00\", \"id_station\": \"PED\", \"id_parameter\": \"O3\", \"value\": 12.0, \"unit\": 1}, {\"date\": \"2021-08-31T23:00:00\", \"id_station\": \"PED\", \"id_parameter\": \"O3\", \"value\": 9.0, \"unit\": 1}, {\"date\": \"2021-08-31T00:00:00\", \"id_station\": \"PED\", \"id_parameter\": \"O3\", \"value\": 26.0, \"unit\": 1}]}}, {\"mode\": \"vega-lite\"});\n",
              "</script>"
            ]
          },
          "metadata": {},
          "execution_count": 33
        }
      ]
    },
    {
      "cell_type": "code",
      "source": [
        "p1 = chart.mark_point().encode(\n",
        "    x='hours(date):T',\n",
        "    y='value:Q',\n",
        "    color='value:Q'\n",
        ")"
      ],
      "metadata": {
        "id": "twOiHssxcpEq"
      },
      "execution_count": 34,
      "outputs": []
    },
    {
      "cell_type": "code",
      "source": [
        "p2 = chart.mark_line(color='red').encode(\n",
        "    x='hours(date):T',\n",
        "    y='average(value):Q'\n",
        ")"
      ],
      "metadata": {
        "id": "SFknkk2UeGp_"
      },
      "execution_count": 35,
      "outputs": []
    },
    {
      "cell_type": "code",
      "source": [
        "p3 = chart.mark_errorband(extent='stdev').encode(\n",
        "    x='hours(date):T',\n",
        "    y='value:Q'\n",
        ")"
      ],
      "metadata": {
        "id": "Bi98OprOep1Y"
      },
      "execution_count": 36,
      "outputs": []
    },
    {
      "cell_type": "code",
      "source": [
        "p1 + p2 + p3 "
      ],
      "metadata": {
        "id": "GPup32yYfTk-",
        "outputId": "3c67dbfc-1c71-402c-ae88-4a9702f80e9d",
        "colab": {
          "base_uri": "https://localhost:8080/",
          "height": 368
        }
      },
      "execution_count": 41,
      "outputs": [
        {
          "output_type": "execute_result",
          "data": {
            "text/plain": [
              "alt.LayerChart(...)"
            ],
            "text/html": [
              "\n",
              "<div id=\"altair-viz-3cb21d891e7340efa3a49aa5c0ff7fc1\"></div>\n",
              "<script type=\"text/javascript\">\n",
              "  var VEGA_DEBUG = (typeof VEGA_DEBUG == \"undefined\") ? {} : VEGA_DEBUG;\n",
              "  (function(spec, embedOpt){\n",
              "    let outputDiv = document.currentScript.previousElementSibling;\n",
              "    if (outputDiv.id !== \"altair-viz-3cb21d891e7340efa3a49aa5c0ff7fc1\") {\n",
              "      outputDiv = document.getElementById(\"altair-viz-3cb21d891e7340efa3a49aa5c0ff7fc1\");\n",
              "    }\n",
              "    const paths = {\n",
              "      \"vega\": \"https://cdn.jsdelivr.net/npm//vega@5?noext\",\n",
              "      \"vega-lib\": \"https://cdn.jsdelivr.net/npm//vega-lib?noext\",\n",
              "      \"vega-lite\": \"https://cdn.jsdelivr.net/npm//vega-lite@4.17.0?noext\",\n",
              "      \"vega-embed\": \"https://cdn.jsdelivr.net/npm//vega-embed@6?noext\",\n",
              "    };\n",
              "\n",
              "    function maybeLoadScript(lib, version) {\n",
              "      var key = `${lib.replace(\"-\", \"\")}_version`;\n",
              "      return (VEGA_DEBUG[key] == version) ?\n",
              "        Promise.resolve(paths[lib]) :\n",
              "        new Promise(function(resolve, reject) {\n",
              "          var s = document.createElement('script');\n",
              "          document.getElementsByTagName(\"head\")[0].appendChild(s);\n",
              "          s.async = true;\n",
              "          s.onload = () => {\n",
              "            VEGA_DEBUG[key] = version;\n",
              "            return resolve(paths[lib]);\n",
              "          };\n",
              "          s.onerror = () => reject(`Error loading script: ${paths[lib]}`);\n",
              "          s.src = paths[lib];\n",
              "        });\n",
              "    }\n",
              "\n",
              "    function showError(err) {\n",
              "      outputDiv.innerHTML = `<div class=\"error\" style=\"color:red;\">${err}</div>`;\n",
              "      throw err;\n",
              "    }\n",
              "\n",
              "    function displayChart(vegaEmbed) {\n",
              "      vegaEmbed(outputDiv, spec, embedOpt)\n",
              "        .catch(err => showError(`Javascript Error: ${err.message}<br>This usually means there's a typo in your chart specification. See the javascript console for the full traceback.`));\n",
              "    }\n",
              "\n",
              "    if(typeof define === \"function\" && define.amd) {\n",
              "      requirejs.config({paths});\n",
              "      require([\"vega-embed\"], displayChart, err => showError(`Error loading script: ${err.message}`));\n",
              "    } else {\n",
              "      maybeLoadScript(\"vega\", \"5\")\n",
              "        .then(() => maybeLoadScript(\"vega-lite\", \"4.17.0\"))\n",
              "        .then(() => maybeLoadScript(\"vega-embed\", \"6\"))\n",
              "        .catch(showError)\n",
              "        .then(() => displayChart(vegaEmbed));\n",
              "    }\n",
              "  })({\"config\": {\"view\": {\"continuousWidth\": 400, \"continuousHeight\": 300}}, \"layer\": [{\"mark\": \"point\", \"encoding\": {\"color\": {\"field\": \"value\", \"type\": \"quantitative\"}, \"x\": {\"field\": \"date\", \"timeUnit\": \"hours\", \"type\": \"temporal\"}, \"y\": {\"field\": \"value\", \"type\": \"quantitative\"}}}, {\"mark\": {\"type\": \"line\", \"color\": \"red\"}, \"encoding\": {\"x\": {\"field\": \"date\", \"timeUnit\": \"hours\", \"type\": \"temporal\"}, \"y\": {\"aggregate\": \"average\", \"field\": \"value\", \"type\": \"quantitative\"}}}, {\"mark\": {\"type\": \"errorband\", \"extent\": \"stdev\"}, \"encoding\": {\"x\": {\"field\": \"date\", \"timeUnit\": \"hours\", \"type\": \"temporal\"}, \"y\": {\"field\": \"value\", \"type\": \"quantitative\"}}}], \"data\": {\"name\": \"data-37ae31f0f990cd35c4714ffd93ea7b67\"}, \"$schema\": \"https://vega.github.io/schema/vega-lite/v4.17.0.json\", \"datasets\": {\"data-37ae31f0f990cd35c4714ffd93ea7b67\": [{\"date\": \"2021-08-01T01:00:00\", \"id_station\": \"PED\", \"id_parameter\": \"O3\", \"value\": 7.0, \"unit\": 1}, {\"date\": \"2021-08-01T02:00:00\", \"id_station\": \"PED\", \"id_parameter\": \"O3\", \"value\": 10.0, \"unit\": 1}, {\"date\": \"2021-08-01T03:00:00\", \"id_station\": \"PED\", \"id_parameter\": \"O3\", \"value\": 12.0, \"unit\": 1}, {\"date\": \"2021-08-01T04:00:00\", \"id_station\": \"PED\", \"id_parameter\": \"O3\", \"value\": 7.0, \"unit\": 1}, {\"date\": \"2021-08-01T05:00:00\", \"id_station\": \"PED\", \"id_parameter\": \"O3\", \"value\": 5.0, \"unit\": 1}, {\"date\": \"2021-08-01T06:00:00\", \"id_station\": \"PED\", \"id_parameter\": \"O3\", \"value\": 5.0, \"unit\": 1}, {\"date\": \"2021-08-01T07:00:00\", \"id_station\": \"PED\", \"id_parameter\": \"O3\", \"value\": 2.0, \"unit\": 1}, {\"date\": \"2021-08-01T08:00:00\", \"id_station\": \"PED\", \"id_parameter\": \"O3\", \"value\": 4.0, \"unit\": 1}, {\"date\": \"2021-08-01T09:00:00\", \"id_station\": \"PED\", \"id_parameter\": \"O3\", \"value\": 18.0, \"unit\": 1}, {\"date\": \"2021-08-01T10:00:00\", \"id_station\": \"PED\", \"id_parameter\": \"O3\", \"value\": 31.0, \"unit\": 1}, {\"date\": \"2021-08-01T11:00:00\", \"id_station\": \"PED\", \"id_parameter\": \"O3\", \"value\": 44.0, \"unit\": 1}, {\"date\": \"2021-08-01T12:00:00\", \"id_station\": \"PED\", \"id_parameter\": \"O3\", \"value\": 55.0, \"unit\": 1}, {\"date\": \"2021-08-01T13:00:00\", \"id_station\": \"PED\", \"id_parameter\": \"O3\", \"value\": 65.0, \"unit\": 1}, {\"date\": \"2021-08-01T14:00:00\", \"id_station\": \"PED\", \"id_parameter\": \"O3\", \"value\": 79.0, \"unit\": 1}, {\"date\": \"2021-08-01T15:00:00\", \"id_station\": \"PED\", \"id_parameter\": \"O3\", \"value\": 79.0, \"unit\": 1}, {\"date\": \"2021-08-01T16:00:00\", \"id_station\": \"PED\", \"id_parameter\": \"O3\", \"value\": 67.0, \"unit\": 1}, {\"date\": \"2021-08-01T17:00:00\", \"id_station\": \"PED\", \"id_parameter\": \"O3\", \"value\": 65.0, \"unit\": 1}, {\"date\": \"2021-08-01T18:00:00\", \"id_station\": \"PED\", \"id_parameter\": \"O3\", \"value\": 48.0, \"unit\": 1}, {\"date\": \"2021-08-01T19:00:00\", \"id_station\": \"PED\", \"id_parameter\": \"O3\", \"value\": 46.0, \"unit\": 1}, {\"date\": \"2021-08-01T20:00:00\", \"id_station\": \"PED\", \"id_parameter\": \"O3\", \"value\": 39.0, \"unit\": 1}, {\"date\": \"2021-08-01T21:00:00\", \"id_station\": \"PED\", \"id_parameter\": \"O3\", \"value\": 31.0, \"unit\": 1}, {\"date\": \"2021-08-01T22:00:00\", \"id_station\": \"PED\", \"id_parameter\": \"O3\", \"value\": 20.0, \"unit\": 1}, {\"date\": \"2021-08-01T23:00:00\", \"id_station\": \"PED\", \"id_parameter\": \"O3\", \"value\": 15.0, \"unit\": 1}, {\"date\": \"2021-08-01T00:00:00\", \"id_station\": \"PED\", \"id_parameter\": \"O3\", \"value\": 10.0, \"unit\": 1}, {\"date\": \"2021-08-02T01:00:00\", \"id_station\": \"PED\", \"id_parameter\": \"O3\", \"value\": 6.0, \"unit\": 1}, {\"date\": \"2021-08-02T02:00:00\", \"id_station\": \"PED\", \"id_parameter\": \"O3\", \"value\": 12.0, \"unit\": 1}, {\"date\": \"2021-08-02T03:00:00\", \"id_station\": \"PED\", \"id_parameter\": \"O3\", \"value\": 22.0, \"unit\": 1}, {\"date\": \"2021-08-02T04:00:00\", \"id_station\": \"PED\", \"id_parameter\": \"O3\", \"value\": 9.0, \"unit\": 1}, {\"date\": \"2021-08-02T05:00:00\", \"id_station\": \"PED\", \"id_parameter\": \"O3\", \"value\": 13.0, \"unit\": 1}, {\"date\": \"2021-08-02T06:00:00\", \"id_station\": \"PED\", \"id_parameter\": \"O3\", \"value\": 4.0, \"unit\": 1}, {\"date\": \"2021-08-02T07:00:00\", \"id_station\": \"PED\", \"id_parameter\": \"O3\", \"value\": 1.0, \"unit\": 1}, {\"date\": \"2021-08-02T08:00:00\", \"id_station\": \"PED\", \"id_parameter\": \"O3\", \"value\": 7.0, \"unit\": 1}, {\"date\": \"2021-08-02T09:00:00\", \"id_station\": \"PED\", \"id_parameter\": \"O3\", \"value\": 18.0, \"unit\": 1}, {\"date\": \"2021-08-02T10:00:00\", \"id_station\": \"PED\", \"id_parameter\": \"O3\", \"value\": 27.0, \"unit\": 1}, {\"date\": \"2021-08-02T11:00:00\", \"id_station\": \"PED\", \"id_parameter\": \"O3\", \"value\": 38.0, \"unit\": 1}, {\"date\": \"2021-08-02T12:00:00\", \"id_station\": \"PED\", \"id_parameter\": \"O3\", \"value\": 58.0, \"unit\": 1}, {\"date\": \"2021-08-02T13:00:00\", \"id_station\": \"PED\", \"id_parameter\": \"O3\", \"value\": 74.0, \"unit\": 1}, {\"date\": \"2021-08-02T14:00:00\", \"id_station\": \"PED\", \"id_parameter\": \"O3\", \"value\": 88.0, \"unit\": 1}, {\"date\": \"2021-08-02T15:00:00\", \"id_station\": \"PED\", \"id_parameter\": \"O3\", \"value\": 95.0, \"unit\": 1}, {\"date\": \"2021-08-02T16:00:00\", \"id_station\": \"PED\", \"id_parameter\": \"O3\", \"value\": 56.0, \"unit\": 1}, {\"date\": \"2021-08-02T17:00:00\", \"id_station\": \"PED\", \"id_parameter\": \"O3\", \"value\": 46.0, \"unit\": 1}, {\"date\": \"2021-08-02T18:00:00\", \"id_station\": \"PED\", \"id_parameter\": \"O3\", \"value\": 58.0, \"unit\": 1}, {\"date\": \"2021-08-02T19:00:00\", \"id_station\": \"PED\", \"id_parameter\": \"O3\", \"value\": 25.0, \"unit\": 1}, {\"date\": \"2021-08-02T20:00:00\", \"id_station\": \"PED\", \"id_parameter\": \"O3\", \"value\": 18.0, \"unit\": 1}, {\"date\": \"2021-08-02T21:00:00\", \"id_station\": \"PED\", \"id_parameter\": \"O3\", \"value\": 26.0, \"unit\": 1}, {\"date\": \"2021-08-02T22:00:00\", \"id_station\": \"PED\", \"id_parameter\": \"O3\", \"value\": 26.0, \"unit\": 1}, {\"date\": \"2021-08-02T23:00:00\", \"id_station\": \"PED\", \"id_parameter\": \"O3\", \"value\": 23.0, \"unit\": 1}, {\"date\": \"2021-08-02T00:00:00\", \"id_station\": \"PED\", \"id_parameter\": \"O3\", \"value\": 26.0, \"unit\": 1}, {\"date\": \"2021-08-03T01:00:00\", \"id_station\": \"PED\", \"id_parameter\": \"O3\", \"value\": 25.0, \"unit\": 1}, {\"date\": \"2021-08-03T02:00:00\", \"id_station\": \"PED\", \"id_parameter\": \"O3\", \"value\": 19.0, \"unit\": 1}, {\"date\": \"2021-08-03T03:00:00\", \"id_station\": \"PED\", \"id_parameter\": \"O3\", \"value\": 16.0, \"unit\": 1}, {\"date\": \"2021-08-03T04:00:00\", \"id_station\": \"PED\", \"id_parameter\": \"O3\", \"value\": 19.0, \"unit\": 1}, {\"date\": \"2021-08-03T05:00:00\", \"id_station\": \"PED\", \"id_parameter\": \"O3\", \"value\": 14.0, \"unit\": 1}, {\"date\": \"2021-08-03T06:00:00\", \"id_station\": \"PED\", \"id_parameter\": \"O3\", \"value\": 7.0, \"unit\": 1}, {\"date\": \"2021-08-03T07:00:00\", \"id_station\": \"PED\", \"id_parameter\": \"O3\", \"value\": 2.0, \"unit\": 1}, {\"date\": \"2021-08-03T08:00:00\", \"id_station\": \"PED\", \"id_parameter\": \"O3\", \"value\": 2.0, \"unit\": 1}, {\"date\": \"2021-08-03T09:00:00\", \"id_station\": \"PED\", \"id_parameter\": \"O3\", \"value\": 7.0, \"unit\": 1}, {\"date\": \"2021-08-03T10:00:00\", \"id_station\": \"PED\", \"id_parameter\": \"O3\", \"value\": 15.0, \"unit\": 1}, {\"date\": \"2021-08-03T11:00:00\", \"id_station\": \"PED\", \"id_parameter\": \"O3\", \"value\": 18.0, \"unit\": 1}, {\"date\": \"2021-08-03T12:00:00\", \"id_station\": \"PED\", \"id_parameter\": \"O3\", \"value\": 30.0, \"unit\": 1}, {\"date\": \"2021-08-03T13:00:00\", \"id_station\": \"PED\", \"id_parameter\": \"O3\", \"value\": 56.0, \"unit\": 1}, {\"date\": \"2021-08-03T14:00:00\", \"id_station\": \"PED\", \"id_parameter\": \"O3\", \"value\": 77.0, \"unit\": 1}, {\"date\": \"2021-08-03T15:00:00\", \"id_station\": \"PED\", \"id_parameter\": \"O3\", \"value\": 76.0, \"unit\": 1}, {\"date\": \"2021-08-03T16:00:00\", \"id_station\": \"PED\", \"id_parameter\": \"O3\", \"value\": 45.0, \"unit\": 1}, {\"date\": \"2021-08-03T17:00:00\", \"id_station\": \"PED\", \"id_parameter\": \"O3\", \"value\": 45.0, \"unit\": 1}, {\"date\": \"2021-08-03T18:00:00\", \"id_station\": \"PED\", \"id_parameter\": \"O3\", \"value\": 24.0, \"unit\": 1}, {\"date\": \"2021-08-03T19:00:00\", \"id_station\": \"PED\", \"id_parameter\": \"O3\", \"value\": 18.0, \"unit\": 1}, {\"date\": \"2021-08-03T20:00:00\", \"id_station\": \"PED\", \"id_parameter\": \"O3\", \"value\": 13.0, \"unit\": 1}, {\"date\": \"2021-08-03T21:00:00\", \"id_station\": \"PED\", \"id_parameter\": \"O3\", \"value\": 18.0, \"unit\": 1}, {\"date\": \"2021-08-03T22:00:00\", \"id_station\": \"PED\", \"id_parameter\": \"O3\", \"value\": 15.0, \"unit\": 1}, {\"date\": \"2021-08-03T23:00:00\", \"id_station\": \"PED\", \"id_parameter\": \"O3\", \"value\": 9.0, \"unit\": 1}, {\"date\": \"2021-08-03T00:00:00\", \"id_station\": \"PED\", \"id_parameter\": \"O3\", \"value\": 6.0, \"unit\": 1}, {\"date\": \"2021-08-04T01:00:00\", \"id_station\": \"PED\", \"id_parameter\": \"O3\", \"value\": 5.0, \"unit\": 1}, {\"date\": \"2021-08-04T02:00:00\", \"id_station\": \"PED\", \"id_parameter\": \"O3\", \"value\": 6.0, \"unit\": 1}, {\"date\": \"2021-08-04T03:00:00\", \"id_station\": \"PED\", \"id_parameter\": \"O3\", \"value\": 7.0, \"unit\": 1}, {\"date\": \"2021-08-04T04:00:00\", \"id_station\": \"PED\", \"id_parameter\": \"O3\", \"value\": 5.0, \"unit\": 1}, {\"date\": \"2021-08-04T05:00:00\", \"id_station\": \"PED\", \"id_parameter\": \"O3\", \"value\": 4.0, \"unit\": 1}, {\"date\": \"2021-08-04T06:00:00\", \"id_station\": \"PED\", \"id_parameter\": \"O3\", \"value\": 1.0, \"unit\": 1}, {\"date\": \"2021-08-04T07:00:00\", \"id_station\": \"PED\", \"id_parameter\": \"O3\", \"value\": 1.0, \"unit\": 1}, {\"date\": \"2021-08-04T08:00:00\", \"id_station\": \"PED\", \"id_parameter\": \"O3\", \"value\": 4.0, \"unit\": 1}, {\"date\": \"2021-08-04T09:00:00\", \"id_station\": \"PED\", \"id_parameter\": \"O3\", \"value\": 12.0, \"unit\": 1}, {\"date\": \"2021-08-04T10:00:00\", \"id_station\": \"PED\", \"id_parameter\": \"O3\", \"value\": 24.0, \"unit\": 1}, {\"date\": \"2021-08-04T11:00:00\", \"id_station\": \"PED\", \"id_parameter\": \"O3\", \"value\": 38.0, \"unit\": 1}, {\"date\": \"2021-08-04T12:00:00\", \"id_station\": \"PED\", \"id_parameter\": \"O3\", \"value\": 60.0, \"unit\": 1}, {\"date\": \"2021-08-04T13:00:00\", \"id_station\": \"PED\", \"id_parameter\": \"O3\", \"value\": 84.0, \"unit\": 1}, {\"date\": \"2021-08-04T14:00:00\", \"id_station\": \"PED\", \"id_parameter\": \"O3\", \"value\": 100.0, \"unit\": 1}, {\"date\": \"2021-08-04T15:00:00\", \"id_station\": \"PED\", \"id_parameter\": \"O3\", \"value\": 110.0, \"unit\": 1}, {\"date\": \"2021-08-04T16:00:00\", \"id_station\": \"PED\", \"id_parameter\": \"O3\", \"value\": 86.0, \"unit\": 1}, {\"date\": \"2021-08-04T17:00:00\", \"id_station\": \"PED\", \"id_parameter\": \"O3\", \"value\": 37.0, \"unit\": 1}, {\"date\": \"2021-08-04T18:00:00\", \"id_station\": \"PED\", \"id_parameter\": \"O3\", \"value\": 27.0, \"unit\": 1}, {\"date\": \"2021-08-04T19:00:00\", \"id_station\": \"PED\", \"id_parameter\": \"O3\", \"value\": 28.0, \"unit\": 1}, {\"date\": \"2021-08-04T20:00:00\", \"id_station\": \"PED\", \"id_parameter\": \"O3\", \"value\": 21.0, \"unit\": 1}, {\"date\": \"2021-08-04T21:00:00\", \"id_station\": \"PED\", \"id_parameter\": \"O3\", \"value\": 12.0, \"unit\": 1}, {\"date\": \"2021-08-04T22:00:00\", \"id_station\": \"PED\", \"id_parameter\": \"O3\", \"value\": 12.0, \"unit\": 1}, {\"date\": \"2021-08-04T23:00:00\", \"id_station\": \"PED\", \"id_parameter\": \"O3\", \"value\": 11.0, \"unit\": 1}, {\"date\": \"2021-08-04T00:00:00\", \"id_station\": \"PED\", \"id_parameter\": \"O3\", \"value\": 34.0, \"unit\": 1}, {\"date\": \"2021-08-05T01:00:00\", \"id_station\": \"PED\", \"id_parameter\": \"O3\", \"value\": 23.0, \"unit\": 1}, {\"date\": \"2021-08-05T02:00:00\", \"id_station\": \"PED\", \"id_parameter\": \"O3\", \"value\": 19.0, \"unit\": 1}, {\"date\": \"2021-08-05T03:00:00\", \"id_station\": \"PED\", \"id_parameter\": \"O3\", \"value\": 16.0, \"unit\": 1}, {\"date\": \"2021-08-05T04:00:00\", \"id_station\": \"PED\", \"id_parameter\": \"O3\", \"value\": 11.0, \"unit\": 1}, {\"date\": \"2021-08-05T05:00:00\", \"id_station\": \"PED\", \"id_parameter\": \"O3\", \"value\": 10.0, \"unit\": 1}, {\"date\": \"2021-08-05T06:00:00\", \"id_station\": \"PED\", \"id_parameter\": \"O3\", \"value\": 6.0, \"unit\": 1}, {\"date\": \"2021-08-05T07:00:00\", \"id_station\": \"PED\", \"id_parameter\": \"O3\", \"value\": 1.0, \"unit\": 1}, {\"date\": \"2021-08-05T08:00:00\", \"id_station\": \"PED\", \"id_parameter\": \"O3\", \"value\": 1.0, \"unit\": 1}, {\"date\": \"2021-08-05T09:00:00\", \"id_station\": \"PED\", \"id_parameter\": \"O3\", \"value\": 6.0, \"unit\": 1}, {\"date\": \"2021-08-05T10:00:00\", \"id_station\": \"PED\", \"id_parameter\": \"O3\", \"value\": 17.0, \"unit\": 1}, {\"date\": \"2021-08-05T11:00:00\", \"id_station\": \"PED\", \"id_parameter\": \"O3\", \"value\": 31.0, \"unit\": 1}, {\"date\": \"2021-08-05T12:00:00\", \"id_station\": \"PED\", \"id_parameter\": \"O3\", \"value\": 45.0, \"unit\": 1}, {\"date\": \"2021-08-05T13:00:00\", \"id_station\": \"PED\", \"id_parameter\": \"O3\", \"value\": 62.0, \"unit\": 1}, {\"date\": \"2021-08-05T14:00:00\", \"id_station\": \"PED\", \"id_parameter\": \"O3\", \"value\": 71.0, \"unit\": 1}, {\"date\": \"2021-08-05T15:00:00\", \"id_station\": \"PED\", \"id_parameter\": \"O3\", \"value\": 58.0, \"unit\": 1}, {\"date\": \"2021-08-05T16:00:00\", \"id_station\": \"PED\", \"id_parameter\": \"O3\", \"value\": 54.0, \"unit\": 1}, {\"date\": \"2021-08-05T17:00:00\", \"id_station\": \"PED\", \"id_parameter\": \"O3\", \"value\": 56.0, \"unit\": 1}, {\"date\": \"2021-08-05T18:00:00\", \"id_station\": \"PED\", \"id_parameter\": \"O3\", \"value\": 55.0, \"unit\": 1}, {\"date\": \"2021-08-05T19:00:00\", \"id_station\": \"PED\", \"id_parameter\": \"O3\", \"value\": 40.0, \"unit\": 1}, {\"date\": \"2021-08-05T20:00:00\", \"id_station\": \"PED\", \"id_parameter\": \"O3\", \"value\": 28.0, \"unit\": 1}, {\"date\": \"2021-08-05T21:00:00\", \"id_station\": \"PED\", \"id_parameter\": \"O3\", \"value\": 20.0, \"unit\": 1}, {\"date\": \"2021-08-05T22:00:00\", \"id_station\": \"PED\", \"id_parameter\": \"O3\", \"value\": 25.0, \"unit\": 1}, {\"date\": \"2021-08-05T23:00:00\", \"id_station\": \"PED\", \"id_parameter\": \"O3\", \"value\": 20.0, \"unit\": 1}, {\"date\": \"2021-08-05T00:00:00\", \"id_station\": \"PED\", \"id_parameter\": \"O3\", \"value\": 19.0, \"unit\": 1}, {\"date\": \"2021-08-06T01:00:00\", \"id_station\": \"PED\", \"id_parameter\": \"O3\", \"value\": null, \"unit\": 1}, {\"date\": \"2021-08-06T02:00:00\", \"id_station\": \"PED\", \"id_parameter\": \"O3\", \"value\": null, \"unit\": 1}, {\"date\": \"2021-08-06T03:00:00\", \"id_station\": \"PED\", \"id_parameter\": \"O3\", \"value\": null, \"unit\": 1}, {\"date\": \"2021-08-06T04:00:00\", \"id_station\": \"PED\", \"id_parameter\": \"O3\", \"value\": 15.0, \"unit\": 1}, {\"date\": \"2021-08-06T05:00:00\", \"id_station\": \"PED\", \"id_parameter\": \"O3\", \"value\": 9.0, \"unit\": 1}, {\"date\": \"2021-08-06T06:00:00\", \"id_station\": \"PED\", \"id_parameter\": \"O3\", \"value\": 2.0, \"unit\": 1}, {\"date\": \"2021-08-06T07:00:00\", \"id_station\": \"PED\", \"id_parameter\": \"O3\", \"value\": 1.0, \"unit\": 1}, {\"date\": \"2021-08-06T08:00:00\", \"id_station\": \"PED\", \"id_parameter\": \"O3\", \"value\": 4.0, \"unit\": 1}, {\"date\": \"2021-08-06T09:00:00\", \"id_station\": \"PED\", \"id_parameter\": \"O3\", \"value\": 13.0, \"unit\": 1}, {\"date\": \"2021-08-06T10:00:00\", \"id_station\": \"PED\", \"id_parameter\": \"O3\", \"value\": 23.0, \"unit\": 1}, {\"date\": \"2021-08-06T11:00:00\", \"id_station\": \"PED\", \"id_parameter\": \"O3\", \"value\": 34.0, \"unit\": 1}, {\"date\": \"2021-08-06T12:00:00\", \"id_station\": \"PED\", \"id_parameter\": \"O3\", \"value\": 45.0, \"unit\": 1}, {\"date\": \"2021-08-06T13:00:00\", \"id_station\": \"PED\", \"id_parameter\": \"O3\", \"value\": 46.0, \"unit\": 1}, {\"date\": \"2021-08-06T14:00:00\", \"id_station\": \"PED\", \"id_parameter\": \"O3\", \"value\": 54.0, \"unit\": 1}, {\"date\": \"2021-08-06T15:00:00\", \"id_station\": \"PED\", \"id_parameter\": \"O3\", \"value\": 38.0, \"unit\": 1}, {\"date\": \"2021-08-06T16:00:00\", \"id_station\": \"PED\", \"id_parameter\": \"O3\", \"value\": 39.0, \"unit\": 1}, {\"date\": \"2021-08-06T17:00:00\", \"id_station\": \"PED\", \"id_parameter\": \"O3\", \"value\": 41.0, \"unit\": 1}, {\"date\": \"2021-08-06T18:00:00\", \"id_station\": \"PED\", \"id_parameter\": \"O3\", \"value\": 42.0, \"unit\": 1}, {\"date\": \"2021-08-06T19:00:00\", \"id_station\": \"PED\", \"id_parameter\": \"O3\", \"value\": 26.0, \"unit\": 1}, {\"date\": \"2021-08-06T20:00:00\", \"id_station\": \"PED\", \"id_parameter\": \"O3\", \"value\": 19.0, \"unit\": 1}, {\"date\": \"2021-08-06T21:00:00\", \"id_station\": \"PED\", \"id_parameter\": \"O3\", \"value\": 20.0, \"unit\": 1}, {\"date\": \"2021-08-06T22:00:00\", \"id_station\": \"PED\", \"id_parameter\": \"O3\", \"value\": 16.0, \"unit\": 1}, {\"date\": \"2021-08-06T23:00:00\", \"id_station\": \"PED\", \"id_parameter\": \"O3\", \"value\": 16.0, \"unit\": 1}, {\"date\": \"2021-08-06T00:00:00\", \"id_station\": \"PED\", \"id_parameter\": \"O3\", \"value\": 15.0, \"unit\": 1}, {\"date\": \"2021-08-07T01:00:00\", \"id_station\": \"PED\", \"id_parameter\": \"O3\", \"value\": 14.0, \"unit\": 1}, {\"date\": \"2021-08-07T02:00:00\", \"id_station\": \"PED\", \"id_parameter\": \"O3\", \"value\": 12.0, \"unit\": 1}, {\"date\": \"2021-08-07T03:00:00\", \"id_station\": \"PED\", \"id_parameter\": \"O3\", \"value\": 11.0, \"unit\": 1}, {\"date\": \"2021-08-07T04:00:00\", \"id_station\": \"PED\", \"id_parameter\": \"O3\", \"value\": 11.0, \"unit\": 1}, {\"date\": \"2021-08-07T05:00:00\", \"id_station\": \"PED\", \"id_parameter\": \"O3\", \"value\": 9.0, \"unit\": 1}, {\"date\": \"2021-08-07T06:00:00\", \"id_station\": \"PED\", \"id_parameter\": \"O3\", \"value\": 5.0, \"unit\": 1}, {\"date\": \"2021-08-07T07:00:00\", \"id_station\": \"PED\", \"id_parameter\": \"O3\", \"value\": 1.0, \"unit\": 1}, {\"date\": \"2021-08-07T08:00:00\", \"id_station\": \"PED\", \"id_parameter\": \"O3\", \"value\": 5.0, \"unit\": 1}, {\"date\": \"2021-08-07T09:00:00\", \"id_station\": \"PED\", \"id_parameter\": \"O3\", \"value\": 10.0, \"unit\": 1}, {\"date\": \"2021-08-07T10:00:00\", \"id_station\": \"PED\", \"id_parameter\": \"O3\", \"value\": 22.0, \"unit\": 1}, {\"date\": \"2021-08-07T11:00:00\", \"id_station\": \"PED\", \"id_parameter\": \"O3\", \"value\": 37.0, \"unit\": 1}, {\"date\": \"2021-08-07T12:00:00\", \"id_station\": \"PED\", \"id_parameter\": \"O3\", \"value\": 52.0, \"unit\": 1}, {\"date\": \"2021-08-07T13:00:00\", \"id_station\": \"PED\", \"id_parameter\": \"O3\", \"value\": 70.0, \"unit\": 1}, {\"date\": \"2021-08-07T14:00:00\", \"id_station\": \"PED\", \"id_parameter\": \"O3\", \"value\": 94.0, \"unit\": 1}, {\"date\": \"2021-08-07T15:00:00\", \"id_station\": \"PED\", \"id_parameter\": \"O3\", \"value\": 101.0, \"unit\": 1}, {\"date\": \"2021-08-07T16:00:00\", \"id_station\": \"PED\", \"id_parameter\": \"O3\", \"value\": 86.0, \"unit\": 1}, {\"date\": \"2021-08-07T17:00:00\", \"id_station\": \"PED\", \"id_parameter\": \"O3\", \"value\": 93.0, \"unit\": 1}, {\"date\": \"2021-08-07T18:00:00\", \"id_station\": \"PED\", \"id_parameter\": \"O3\", \"value\": 89.0, \"unit\": 1}, {\"date\": \"2021-08-07T19:00:00\", \"id_station\": \"PED\", \"id_parameter\": \"O3\", \"value\": 62.0, \"unit\": 1}, {\"date\": \"2021-08-07T20:00:00\", \"id_station\": \"PED\", \"id_parameter\": \"O3\", \"value\": 36.0, \"unit\": 1}, {\"date\": \"2021-08-07T21:00:00\", \"id_station\": \"PED\", \"id_parameter\": \"O3\", \"value\": 30.0, \"unit\": 1}, {\"date\": \"2021-08-07T22:00:00\", \"id_station\": \"PED\", \"id_parameter\": \"O3\", \"value\": 30.0, \"unit\": 1}, {\"date\": \"2021-08-07T23:00:00\", \"id_station\": \"PED\", \"id_parameter\": \"O3\", \"value\": 20.0, \"unit\": 1}, {\"date\": \"2021-08-07T00:00:00\", \"id_station\": \"PED\", \"id_parameter\": \"O3\", \"value\": 19.0, \"unit\": 1}, {\"date\": \"2021-08-08T01:00:00\", \"id_station\": \"PED\", \"id_parameter\": \"O3\", \"value\": 18.0, \"unit\": 1}, {\"date\": \"2021-08-08T02:00:00\", \"id_station\": \"PED\", \"id_parameter\": \"O3\", \"value\": 15.0, \"unit\": 1}, {\"date\": \"2021-08-08T03:00:00\", \"id_station\": \"PED\", \"id_parameter\": \"O3\", \"value\": 14.0, \"unit\": 1}, {\"date\": \"2021-08-08T04:00:00\", \"id_station\": \"PED\", \"id_parameter\": \"O3\", \"value\": 13.0, \"unit\": 1}, {\"date\": \"2021-08-08T05:00:00\", \"id_station\": \"PED\", \"id_parameter\": \"O3\", \"value\": 15.0, \"unit\": 1}, {\"date\": \"2021-08-08T06:00:00\", \"id_station\": \"PED\", \"id_parameter\": \"O3\", \"value\": 10.0, \"unit\": 1}, {\"date\": \"2021-08-08T07:00:00\", \"id_station\": \"PED\", \"id_parameter\": \"O3\", \"value\": 3.0, \"unit\": 1}, {\"date\": \"2021-08-08T08:00:00\", \"id_station\": \"PED\", \"id_parameter\": \"O3\", \"value\": 8.0, \"unit\": 1}, {\"date\": \"2021-08-08T09:00:00\", \"id_station\": \"PED\", \"id_parameter\": \"O3\", \"value\": 14.0, \"unit\": 1}, {\"date\": \"2021-08-08T10:00:00\", \"id_station\": \"PED\", \"id_parameter\": \"O3\", \"value\": 21.0, \"unit\": 1}, {\"date\": \"2021-08-08T11:00:00\", \"id_station\": \"PED\", \"id_parameter\": \"O3\", \"value\": 32.0, \"unit\": 1}, {\"date\": \"2021-08-08T12:00:00\", \"id_station\": \"PED\", \"id_parameter\": \"O3\", \"value\": 46.0, \"unit\": 1}, {\"date\": \"2021-08-08T13:00:00\", \"id_station\": \"PED\", \"id_parameter\": \"O3\", \"value\": 65.0, \"unit\": 1}, {\"date\": \"2021-08-08T14:00:00\", \"id_station\": \"PED\", \"id_parameter\": \"O3\", \"value\": 70.0, \"unit\": 1}, {\"date\": \"2021-08-08T15:00:00\", \"id_station\": \"PED\", \"id_parameter\": \"O3\", \"value\": 56.0, \"unit\": 1}, {\"date\": \"2021-08-08T16:00:00\", \"id_station\": \"PED\", \"id_parameter\": \"O3\", \"value\": 35.0, \"unit\": 1}, {\"date\": \"2021-08-08T17:00:00\", \"id_station\": \"PED\", \"id_parameter\": \"O3\", \"value\": 36.0, \"unit\": 1}, {\"date\": \"2021-08-08T18:00:00\", \"id_station\": \"PED\", \"id_parameter\": \"O3\", \"value\": 37.0, \"unit\": 1}, {\"date\": \"2021-08-08T19:00:00\", \"id_station\": \"PED\", \"id_parameter\": \"O3\", \"value\": 35.0, \"unit\": 1}, {\"date\": \"2021-08-08T20:00:00\", \"id_station\": \"PED\", \"id_parameter\": \"O3\", \"value\": 27.0, \"unit\": 1}, {\"date\": \"2021-08-08T21:00:00\", \"id_station\": \"PED\", \"id_parameter\": \"O3\", \"value\": 20.0, \"unit\": 1}, {\"date\": \"2021-08-08T22:00:00\", \"id_station\": \"PED\", \"id_parameter\": \"O3\", \"value\": 8.0, \"unit\": 1}, {\"date\": \"2021-08-08T23:00:00\", \"id_station\": \"PED\", \"id_parameter\": \"O3\", \"value\": 5.0, \"unit\": 1}, {\"date\": \"2021-08-08T00:00:00\", \"id_station\": \"PED\", \"id_parameter\": \"O3\", \"value\": 6.0, \"unit\": 1}, {\"date\": \"2021-08-09T01:00:00\", \"id_station\": \"PED\", \"id_parameter\": \"O3\", \"value\": 7.0, \"unit\": 1}, {\"date\": \"2021-08-09T02:00:00\", \"id_station\": \"PED\", \"id_parameter\": \"O3\", \"value\": 9.0, \"unit\": 1}, {\"date\": \"2021-08-09T03:00:00\", \"id_station\": \"PED\", \"id_parameter\": \"O3\", \"value\": 9.0, \"unit\": 1}, {\"date\": \"2021-08-09T04:00:00\", \"id_station\": \"PED\", \"id_parameter\": \"O3\", \"value\": 9.0, \"unit\": 1}, {\"date\": \"2021-08-09T05:00:00\", \"id_station\": \"PED\", \"id_parameter\": \"O3\", \"value\": 7.0, \"unit\": 1}, {\"date\": \"2021-08-09T06:00:00\", \"id_station\": \"PED\", \"id_parameter\": \"O3\", \"value\": 2.0, \"unit\": 1}, {\"date\": \"2021-08-09T07:00:00\", \"id_station\": \"PED\", \"id_parameter\": \"O3\", \"value\": 1.0, \"unit\": 1}, {\"date\": \"2021-08-09T08:00:00\", \"id_station\": \"PED\", \"id_parameter\": \"O3\", \"value\": 6.0, \"unit\": 1}, {\"date\": \"2021-08-09T09:00:00\", \"id_station\": \"PED\", \"id_parameter\": \"O3\", \"value\": 7.0, \"unit\": 1}, {\"date\": \"2021-08-09T10:00:00\", \"id_station\": \"PED\", \"id_parameter\": \"O3\", \"value\": 17.0, \"unit\": 1}, {\"date\": \"2021-08-09T11:00:00\", \"id_station\": \"PED\", \"id_parameter\": \"O3\", \"value\": 32.0, \"unit\": 1}, {\"date\": \"2021-08-09T12:00:00\", \"id_station\": \"PED\", \"id_parameter\": \"O3\", \"value\": 49.0, \"unit\": 1}, {\"date\": \"2021-08-09T13:00:00\", \"id_station\": \"PED\", \"id_parameter\": \"O3\", \"value\": 67.0, \"unit\": 1}, {\"date\": \"2021-08-09T14:00:00\", \"id_station\": \"PED\", \"id_parameter\": \"O3\", \"value\": 91.0, \"unit\": 1}, {\"date\": \"2021-08-09T15:00:00\", \"id_station\": \"PED\", \"id_parameter\": \"O3\", \"value\": 103.0, \"unit\": 1}, {\"date\": \"2021-08-09T16:00:00\", \"id_station\": \"PED\", \"id_parameter\": \"O3\", \"value\": 78.0, \"unit\": 1}, {\"date\": \"2021-08-09T17:00:00\", \"id_station\": \"PED\", \"id_parameter\": \"O3\", \"value\": 59.0, \"unit\": 1}, {\"date\": \"2021-08-09T18:00:00\", \"id_station\": \"PED\", \"id_parameter\": \"O3\", \"value\": 42.0, \"unit\": 1}, {\"date\": \"2021-08-09T19:00:00\", \"id_station\": \"PED\", \"id_parameter\": \"O3\", \"value\": 30.0, \"unit\": 1}, {\"date\": \"2021-08-09T20:00:00\", \"id_station\": \"PED\", \"id_parameter\": \"O3\", \"value\": 26.0, \"unit\": 1}, {\"date\": \"2021-08-09T21:00:00\", \"id_station\": \"PED\", \"id_parameter\": \"O3\", \"value\": 14.0, \"unit\": 1}, {\"date\": \"2021-08-09T22:00:00\", \"id_station\": \"PED\", \"id_parameter\": \"O3\", \"value\": 13.0, \"unit\": 1}, {\"date\": \"2021-08-09T23:00:00\", \"id_station\": \"PED\", \"id_parameter\": \"O3\", \"value\": 6.0, \"unit\": 1}, {\"date\": \"2021-08-09T00:00:00\", \"id_station\": \"PED\", \"id_parameter\": \"O3\", \"value\": 10.0, \"unit\": 1}, {\"date\": \"2021-08-10T01:00:00\", \"id_station\": \"PED\", \"id_parameter\": \"O3\", \"value\": 21.0, \"unit\": 1}, {\"date\": \"2021-08-10T02:00:00\", \"id_station\": \"PED\", \"id_parameter\": \"O3\", \"value\": 28.0, \"unit\": 1}, {\"date\": \"2021-08-10T03:00:00\", \"id_station\": \"PED\", \"id_parameter\": \"O3\", \"value\": 26.0, \"unit\": 1}, {\"date\": \"2021-08-10T04:00:00\", \"id_station\": \"PED\", \"id_parameter\": \"O3\", \"value\": 19.0, \"unit\": 1}, {\"date\": \"2021-08-10T05:00:00\", \"id_station\": \"PED\", \"id_parameter\": \"O3\", \"value\": 14.0, \"unit\": 1}, {\"date\": \"2021-08-10T06:00:00\", \"id_station\": \"PED\", \"id_parameter\": \"O3\", \"value\": 11.0, \"unit\": 1}, {\"date\": \"2021-08-10T07:00:00\", \"id_station\": \"PED\", \"id_parameter\": \"O3\", \"value\": 3.0, \"unit\": 1}, {\"date\": \"2021-08-10T08:00:00\", \"id_station\": \"PED\", \"id_parameter\": \"O3\", \"value\": 7.0, \"unit\": 1}, {\"date\": \"2021-08-10T09:00:00\", \"id_station\": \"PED\", \"id_parameter\": \"O3\", \"value\": 14.0, \"unit\": 1}, {\"date\": \"2021-08-10T10:00:00\", \"id_station\": \"PED\", \"id_parameter\": \"O3\", \"value\": 21.0, \"unit\": 1}, {\"date\": \"2021-08-10T11:00:00\", \"id_station\": \"PED\", \"id_parameter\": \"O3\", \"value\": 30.0, \"unit\": 1}, {\"date\": \"2021-08-10T12:00:00\", \"id_station\": \"PED\", \"id_parameter\": \"O3\", \"value\": 49.0, \"unit\": 1}, {\"date\": \"2021-08-10T13:00:00\", \"id_station\": \"PED\", \"id_parameter\": \"O3\", \"value\": 68.0, \"unit\": 1}, {\"date\": \"2021-08-10T14:00:00\", \"id_station\": \"PED\", \"id_parameter\": \"O3\", \"value\": 92.0, \"unit\": 1}, {\"date\": \"2021-08-10T15:00:00\", \"id_station\": \"PED\", \"id_parameter\": \"O3\", \"value\": 96.0, \"unit\": 1}, {\"date\": \"2021-08-10T16:00:00\", \"id_station\": \"PED\", \"id_parameter\": \"O3\", \"value\": 89.0, \"unit\": 1}, {\"date\": \"2021-08-10T17:00:00\", \"id_station\": \"PED\", \"id_parameter\": \"O3\", \"value\": 67.0, \"unit\": 1}, {\"date\": \"2021-08-10T18:00:00\", \"id_station\": \"PED\", \"id_parameter\": \"O3\", \"value\": 48.0, \"unit\": 1}, {\"date\": \"2021-08-10T19:00:00\", \"id_station\": \"PED\", \"id_parameter\": \"O3\", \"value\": 27.0, \"unit\": 1}, {\"date\": \"2021-08-10T20:00:00\", \"id_station\": \"PED\", \"id_parameter\": \"O3\", \"value\": 20.0, \"unit\": 1}, {\"date\": \"2021-08-10T21:00:00\", \"id_station\": \"PED\", \"id_parameter\": \"O3\", \"value\": 21.0, \"unit\": 1}, {\"date\": \"2021-08-10T22:00:00\", \"id_station\": \"PED\", \"id_parameter\": \"O3\", \"value\": 37.0, \"unit\": 1}, {\"date\": \"2021-08-10T23:00:00\", \"id_station\": \"PED\", \"id_parameter\": \"O3\", \"value\": 28.0, \"unit\": 1}, {\"date\": \"2021-08-10T00:00:00\", \"id_station\": \"PED\", \"id_parameter\": \"O3\", \"value\": 20.0, \"unit\": 1}, {\"date\": \"2021-08-11T01:00:00\", \"id_station\": \"PED\", \"id_parameter\": \"O3\", \"value\": 23.0, \"unit\": 1}, {\"date\": \"2021-08-11T02:00:00\", \"id_station\": \"PED\", \"id_parameter\": \"O3\", \"value\": 26.0, \"unit\": 1}, {\"date\": \"2021-08-11T03:00:00\", \"id_station\": \"PED\", \"id_parameter\": \"O3\", \"value\": 14.0, \"unit\": 1}, {\"date\": \"2021-08-11T04:00:00\", \"id_station\": \"PED\", \"id_parameter\": \"O3\", \"value\": 11.0, \"unit\": 1}, {\"date\": \"2021-08-11T05:00:00\", \"id_station\": \"PED\", \"id_parameter\": \"O3\", \"value\": 7.0, \"unit\": 1}, {\"date\": \"2021-08-11T06:00:00\", \"id_station\": \"PED\", \"id_parameter\": \"O3\", \"value\": 3.0, \"unit\": 1}, {\"date\": \"2021-08-11T07:00:00\", \"id_station\": \"PED\", \"id_parameter\": \"O3\", \"value\": 0.0, \"unit\": 1}, {\"date\": \"2021-08-11T08:00:00\", \"id_station\": \"PED\", \"id_parameter\": \"O3\", \"value\": 3.0, \"unit\": 1}, {\"date\": \"2021-08-11T09:00:00\", \"id_station\": \"PED\", \"id_parameter\": \"O3\", \"value\": 12.0, \"unit\": 1}, {\"date\": \"2021-08-11T10:00:00\", \"id_station\": \"PED\", \"id_parameter\": \"O3\", \"value\": 15.0, \"unit\": 1}, {\"date\": \"2021-08-11T11:00:00\", \"id_station\": \"PED\", \"id_parameter\": \"O3\", \"value\": 26.0, \"unit\": 1}, {\"date\": \"2021-08-11T12:00:00\", \"id_station\": \"PED\", \"id_parameter\": \"O3\", \"value\": 44.0, \"unit\": 1}, {\"date\": \"2021-08-11T13:00:00\", \"id_station\": \"PED\", \"id_parameter\": \"O3\", \"value\": 60.0, \"unit\": 1}, {\"date\": \"2021-08-11T14:00:00\", \"id_station\": \"PED\", \"id_parameter\": \"O3\", \"value\": 77.0, \"unit\": 1}, {\"date\": \"2021-08-11T15:00:00\", \"id_station\": \"PED\", \"id_parameter\": \"O3\", \"value\": 100.0, \"unit\": 1}, {\"date\": \"2021-08-11T16:00:00\", \"id_station\": \"PED\", \"id_parameter\": \"O3\", \"value\": 85.0, \"unit\": 1}, {\"date\": \"2021-08-11T17:00:00\", \"id_station\": \"PED\", \"id_parameter\": \"O3\", \"value\": 66.0, \"unit\": 1}, {\"date\": \"2021-08-11T18:00:00\", \"id_station\": \"PED\", \"id_parameter\": \"O3\", \"value\": 51.0, \"unit\": 1}, {\"date\": \"2021-08-11T19:00:00\", \"id_station\": \"PED\", \"id_parameter\": \"O3\", \"value\": 43.0, \"unit\": 1}, {\"date\": \"2021-08-11T20:00:00\", \"id_station\": \"PED\", \"id_parameter\": \"O3\", \"value\": 40.0, \"unit\": 1}, {\"date\": \"2021-08-11T21:00:00\", \"id_station\": \"PED\", \"id_parameter\": \"O3\", \"value\": 17.0, \"unit\": 1}, {\"date\": \"2021-08-11T22:00:00\", \"id_station\": \"PED\", \"id_parameter\": \"O3\", \"value\": 13.0, \"unit\": 1}, {\"date\": \"2021-08-11T23:00:00\", \"id_station\": \"PED\", \"id_parameter\": \"O3\", \"value\": 16.0, \"unit\": 1}, {\"date\": \"2021-08-11T00:00:00\", \"id_station\": \"PED\", \"id_parameter\": \"O3\", \"value\": null, \"unit\": 1}, {\"date\": \"2021-08-12T01:00:00\", \"id_station\": \"PED\", \"id_parameter\": \"O3\", \"value\": null, \"unit\": 1}, {\"date\": \"2021-08-12T02:00:00\", \"id_station\": \"PED\", \"id_parameter\": \"O3\", \"value\": null, \"unit\": 1}, {\"date\": \"2021-08-12T03:00:00\", \"id_station\": \"PED\", \"id_parameter\": \"O3\", \"value\": null, \"unit\": 1}, {\"date\": \"2021-08-12T04:00:00\", \"id_station\": \"PED\", \"id_parameter\": \"O3\", \"value\": 12.0, \"unit\": 1}, {\"date\": \"2021-08-12T05:00:00\", \"id_station\": \"PED\", \"id_parameter\": \"O3\", \"value\": 8.0, \"unit\": 1}, {\"date\": \"2021-08-12T06:00:00\", \"id_station\": \"PED\", \"id_parameter\": \"O3\", \"value\": 4.0, \"unit\": 1}, {\"date\": \"2021-08-12T07:00:00\", \"id_station\": \"PED\", \"id_parameter\": \"O3\", \"value\": 4.0, \"unit\": 1}, {\"date\": \"2021-08-12T08:00:00\", \"id_station\": \"PED\", \"id_parameter\": \"O3\", \"value\": 4.0, \"unit\": 1}, {\"date\": \"2021-08-12T09:00:00\", \"id_station\": \"PED\", \"id_parameter\": \"O3\", \"value\": 6.0, \"unit\": 1}, {\"date\": \"2021-08-12T10:00:00\", \"id_station\": \"PED\", \"id_parameter\": \"O3\", \"value\": 20.0, \"unit\": 1}, {\"date\": \"2021-08-12T11:00:00\", \"id_station\": \"PED\", \"id_parameter\": \"O3\", \"value\": 30.0, \"unit\": 1}, {\"date\": \"2021-08-12T12:00:00\", \"id_station\": \"PED\", \"id_parameter\": \"O3\", \"value\": 46.0, \"unit\": 1}, {\"date\": \"2021-08-12T13:00:00\", \"id_station\": \"PED\", \"id_parameter\": \"O3\", \"value\": 68.0, \"unit\": 1}, {\"date\": \"2021-08-12T14:00:00\", \"id_station\": \"PED\", \"id_parameter\": \"O3\", \"value\": 92.0, \"unit\": 1}, {\"date\": \"2021-08-12T15:00:00\", \"id_station\": \"PED\", \"id_parameter\": \"O3\", \"value\": 112.0, \"unit\": 1}, {\"date\": \"2021-08-12T16:00:00\", \"id_station\": \"PED\", \"id_parameter\": \"O3\", \"value\": 119.0, \"unit\": 1}, {\"date\": \"2021-08-12T17:00:00\", \"id_station\": \"PED\", \"id_parameter\": \"O3\", \"value\": 75.0, \"unit\": 1}, {\"date\": \"2021-08-12T18:00:00\", \"id_station\": \"PED\", \"id_parameter\": \"O3\", \"value\": 59.0, \"unit\": 1}, {\"date\": \"2021-08-12T19:00:00\", \"id_station\": \"PED\", \"id_parameter\": \"O3\", \"value\": 44.0, \"unit\": 1}, {\"date\": \"2021-08-12T20:00:00\", \"id_station\": \"PED\", \"id_parameter\": \"O3\", \"value\": 32.0, \"unit\": 1}, {\"date\": \"2021-08-12T21:00:00\", \"id_station\": \"PED\", \"id_parameter\": \"O3\", \"value\": 48.0, \"unit\": 1}, {\"date\": \"2021-08-12T22:00:00\", \"id_station\": \"PED\", \"id_parameter\": \"O3\", \"value\": 37.0, \"unit\": 1}, {\"date\": \"2021-08-12T23:00:00\", \"id_station\": \"PED\", \"id_parameter\": \"O3\", \"value\": 31.0, \"unit\": 1}, {\"date\": \"2021-08-12T00:00:00\", \"id_station\": \"PED\", \"id_parameter\": \"O3\", \"value\": 28.0, \"unit\": 1}, {\"date\": \"2021-08-13T01:00:00\", \"id_station\": \"PED\", \"id_parameter\": \"O3\", \"value\": 30.0, \"unit\": 1}, {\"date\": \"2021-08-13T02:00:00\", \"id_station\": \"PED\", \"id_parameter\": \"O3\", \"value\": 25.0, \"unit\": 1}, {\"date\": \"2021-08-13T03:00:00\", \"id_station\": \"PED\", \"id_parameter\": \"O3\", \"value\": 16.0, \"unit\": 1}, {\"date\": \"2021-08-13T04:00:00\", \"id_station\": \"PED\", \"id_parameter\": \"O3\", \"value\": 14.0, \"unit\": 1}, {\"date\": \"2021-08-13T05:00:00\", \"id_station\": \"PED\", \"id_parameter\": \"O3\", \"value\": 16.0, \"unit\": 1}, {\"date\": \"2021-08-13T06:00:00\", \"id_station\": \"PED\", \"id_parameter\": \"O3\", \"value\": 9.0, \"unit\": 1}, {\"date\": \"2021-08-13T07:00:00\", \"id_station\": \"PED\", \"id_parameter\": \"O3\", \"value\": 2.0, \"unit\": 1}, {\"date\": \"2021-08-13T08:00:00\", \"id_station\": \"PED\", \"id_parameter\": \"O3\", \"value\": 1.0, \"unit\": 1}, {\"date\": \"2021-08-13T09:00:00\", \"id_station\": \"PED\", \"id_parameter\": \"O3\", \"value\": 1.0, \"unit\": 1}, {\"date\": \"2021-08-13T10:00:00\", \"id_station\": \"PED\", \"id_parameter\": \"O3\", \"value\": 8.0, \"unit\": 1}, {\"date\": \"2021-08-13T11:00:00\", \"id_station\": \"PED\", \"id_parameter\": \"O3\", \"value\": 24.0, \"unit\": 1}, {\"date\": \"2021-08-13T12:00:00\", \"id_station\": \"PED\", \"id_parameter\": \"O3\", \"value\": 43.0, \"unit\": 1}, {\"date\": \"2021-08-13T13:00:00\", \"id_station\": \"PED\", \"id_parameter\": \"O3\", \"value\": 67.0, \"unit\": 1}, {\"date\": \"2021-08-13T14:00:00\", \"id_station\": \"PED\", \"id_parameter\": \"O3\", \"value\": 90.0, \"unit\": 1}, {\"date\": \"2021-08-13T15:00:00\", \"id_station\": \"PED\", \"id_parameter\": \"O3\", \"value\": 118.0, \"unit\": 1}, {\"date\": \"2021-08-13T16:00:00\", \"id_station\": \"PED\", \"id_parameter\": \"O3\", \"value\": 113.0, \"unit\": 1}, {\"date\": \"2021-08-13T17:00:00\", \"id_station\": \"PED\", \"id_parameter\": \"O3\", \"value\": 79.0, \"unit\": 1}, {\"date\": \"2021-08-13T18:00:00\", \"id_station\": \"PED\", \"id_parameter\": \"O3\", \"value\": 33.0, \"unit\": 1}, {\"date\": \"2021-08-13T19:00:00\", \"id_station\": \"PED\", \"id_parameter\": \"O3\", \"value\": 33.0, \"unit\": 1}, {\"date\": \"2021-08-13T20:00:00\", \"id_station\": \"PED\", \"id_parameter\": \"O3\", \"value\": 27.0, \"unit\": 1}, {\"date\": \"2021-08-13T21:00:00\", \"id_station\": \"PED\", \"id_parameter\": \"O3\", \"value\": 27.0, \"unit\": 1}, {\"date\": \"2021-08-13T22:00:00\", \"id_station\": \"PED\", \"id_parameter\": \"O3\", \"value\": 22.0, \"unit\": 1}, {\"date\": \"2021-08-13T23:00:00\", \"id_station\": \"PED\", \"id_parameter\": \"O3\", \"value\": 12.0, \"unit\": 1}, {\"date\": \"2021-08-13T00:00:00\", \"id_station\": \"PED\", \"id_parameter\": \"O3\", \"value\": 11.0, \"unit\": 1}, {\"date\": \"2021-08-14T01:00:00\", \"id_station\": \"PED\", \"id_parameter\": \"O3\", \"value\": 11.0, \"unit\": 1}, {\"date\": \"2021-08-14T02:00:00\", \"id_station\": \"PED\", \"id_parameter\": \"O3\", \"value\": 8.0, \"unit\": 1}, {\"date\": \"2021-08-14T03:00:00\", \"id_station\": \"PED\", \"id_parameter\": \"O3\", \"value\": 10.0, \"unit\": 1}, {\"date\": \"2021-08-14T04:00:00\", \"id_station\": \"PED\", \"id_parameter\": \"O3\", \"value\": 6.0, \"unit\": 1}, {\"date\": \"2021-08-14T05:00:00\", \"id_station\": \"PED\", \"id_parameter\": \"O3\", \"value\": 4.0, \"unit\": 1}, {\"date\": \"2021-08-14T06:00:00\", \"id_station\": \"PED\", \"id_parameter\": \"O3\", \"value\": 4.0, \"unit\": 1}, {\"date\": \"2021-08-14T07:00:00\", \"id_station\": \"PED\", \"id_parameter\": \"O3\", \"value\": 5.0, \"unit\": 1}, {\"date\": \"2021-08-14T08:00:00\", \"id_station\": \"PED\", \"id_parameter\": \"O3\", \"value\": 4.0, \"unit\": 1}, {\"date\": \"2021-08-14T09:00:00\", \"id_station\": \"PED\", \"id_parameter\": \"O3\", \"value\": 13.0, \"unit\": 1}, {\"date\": \"2021-08-14T10:00:00\", \"id_station\": \"PED\", \"id_parameter\": \"O3\", \"value\": 22.0, \"unit\": 1}, {\"date\": \"2021-08-14T11:00:00\", \"id_station\": \"PED\", \"id_parameter\": \"O3\", \"value\": 29.0, \"unit\": 1}, {\"date\": \"2021-08-14T12:00:00\", \"id_station\": \"PED\", \"id_parameter\": \"O3\", \"value\": 46.0, \"unit\": 1}, {\"date\": \"2021-08-14T13:00:00\", \"id_station\": \"PED\", \"id_parameter\": \"O3\", \"value\": 61.0, \"unit\": 1}, {\"date\": \"2021-08-14T14:00:00\", \"id_station\": \"PED\", \"id_parameter\": \"O3\", \"value\": 64.0, \"unit\": 1}, {\"date\": \"2021-08-14T15:00:00\", \"id_station\": \"PED\", \"id_parameter\": \"O3\", \"value\": 61.0, \"unit\": 1}, {\"date\": \"2021-08-14T16:00:00\", \"id_station\": \"PED\", \"id_parameter\": \"O3\", \"value\": 40.0, \"unit\": 1}, {\"date\": \"2021-08-14T17:00:00\", \"id_station\": \"PED\", \"id_parameter\": \"O3\", \"value\": 38.0, \"unit\": 1}, {\"date\": \"2021-08-14T18:00:00\", \"id_station\": \"PED\", \"id_parameter\": \"O3\", \"value\": 35.0, \"unit\": 1}, {\"date\": \"2021-08-14T19:00:00\", \"id_station\": \"PED\", \"id_parameter\": \"O3\", \"value\": 27.0, \"unit\": 1}, {\"date\": \"2021-08-14T20:00:00\", \"id_station\": \"PED\", \"id_parameter\": \"O3\", \"value\": 19.0, \"unit\": 1}, {\"date\": \"2021-08-14T21:00:00\", \"id_station\": \"PED\", \"id_parameter\": \"O3\", \"value\": 15.0, \"unit\": 1}, {\"date\": \"2021-08-14T22:00:00\", \"id_station\": \"PED\", \"id_parameter\": \"O3\", \"value\": 19.0, \"unit\": 1}, {\"date\": \"2021-08-14T23:00:00\", \"id_station\": \"PED\", \"id_parameter\": \"O3\", \"value\": 11.0, \"unit\": 1}, {\"date\": \"2021-08-14T00:00:00\", \"id_station\": \"PED\", \"id_parameter\": \"O3\", \"value\": 14.0, \"unit\": 1}, {\"date\": \"2021-08-15T01:00:00\", \"id_station\": \"PED\", \"id_parameter\": \"O3\", \"value\": 15.0, \"unit\": 1}, {\"date\": \"2021-08-15T02:00:00\", \"id_station\": \"PED\", \"id_parameter\": \"O3\", \"value\": 14.0, \"unit\": 1}, {\"date\": \"2021-08-15T03:00:00\", \"id_station\": \"PED\", \"id_parameter\": \"O3\", \"value\": 16.0, \"unit\": 1}, {\"date\": \"2021-08-15T04:00:00\", \"id_station\": \"PED\", \"id_parameter\": \"O3\", \"value\": 16.0, \"unit\": 1}, {\"date\": \"2021-08-15T05:00:00\", \"id_station\": \"PED\", \"id_parameter\": \"O3\", \"value\": 16.0, \"unit\": 1}, {\"date\": \"2021-08-15T06:00:00\", \"id_station\": \"PED\", \"id_parameter\": \"O3\", \"value\": 13.0, \"unit\": 1}, {\"date\": \"2021-08-15T07:00:00\", \"id_station\": \"PED\", \"id_parameter\": \"O3\", \"value\": 12.0, \"unit\": 1}, {\"date\": \"2021-08-15T08:00:00\", \"id_station\": \"PED\", \"id_parameter\": \"O3\", \"value\": 10.0, \"unit\": 1}, {\"date\": \"2021-08-15T09:00:00\", \"id_station\": \"PED\", \"id_parameter\": \"O3\", \"value\": 15.0, \"unit\": 1}, {\"date\": \"2021-08-15T10:00:00\", \"id_station\": \"PED\", \"id_parameter\": \"O3\", \"value\": 25.0, \"unit\": 1}, {\"date\": \"2021-08-15T11:00:00\", \"id_station\": \"PED\", \"id_parameter\": \"O3\", \"value\": null, \"unit\": 1}, {\"date\": \"2021-08-15T12:00:00\", \"id_station\": \"PED\", \"id_parameter\": \"O3\", \"value\": 45.0, \"unit\": 1}, {\"date\": \"2021-08-15T13:00:00\", \"id_station\": \"PED\", \"id_parameter\": \"O3\", \"value\": 58.0, \"unit\": 1}, {\"date\": \"2021-08-15T14:00:00\", \"id_station\": \"PED\", \"id_parameter\": \"O3\", \"value\": 68.0, \"unit\": 1}, {\"date\": \"2021-08-15T15:00:00\", \"id_station\": \"PED\", \"id_parameter\": \"O3\", \"value\": 72.0, \"unit\": 1}, {\"date\": \"2021-08-15T16:00:00\", \"id_station\": \"PED\", \"id_parameter\": \"O3\", \"value\": 67.0, \"unit\": 1}, {\"date\": \"2021-08-15T17:00:00\", \"id_station\": \"PED\", \"id_parameter\": \"O3\", \"value\": 58.0, \"unit\": 1}, {\"date\": \"2021-08-15T18:00:00\", \"id_station\": \"PED\", \"id_parameter\": \"O3\", \"value\": 45.0, \"unit\": 1}, {\"date\": \"2021-08-15T19:00:00\", \"id_station\": \"PED\", \"id_parameter\": \"O3\", \"value\": 32.0, \"unit\": 1}, {\"date\": \"2021-08-15T20:00:00\", \"id_station\": \"PED\", \"id_parameter\": \"O3\", \"value\": 22.0, \"unit\": 1}, {\"date\": \"2021-08-15T21:00:00\", \"id_station\": \"PED\", \"id_parameter\": \"O3\", \"value\": 18.0, \"unit\": 1}, {\"date\": \"2021-08-15T22:00:00\", \"id_station\": \"PED\", \"id_parameter\": \"O3\", \"value\": 20.0, \"unit\": 1}, {\"date\": \"2021-08-15T23:00:00\", \"id_station\": \"PED\", \"id_parameter\": \"O3\", \"value\": 17.0, \"unit\": 1}, {\"date\": \"2021-08-15T00:00:00\", \"id_station\": \"PED\", \"id_parameter\": \"O3\", \"value\": 21.0, \"unit\": 1}, {\"date\": \"2021-08-16T01:00:00\", \"id_station\": \"PED\", \"id_parameter\": \"O3\", \"value\": 23.0, \"unit\": 1}, {\"date\": \"2021-08-16T02:00:00\", \"id_station\": \"PED\", \"id_parameter\": \"O3\", \"value\": 22.0, \"unit\": 1}, {\"date\": \"2021-08-16T03:00:00\", \"id_station\": \"PED\", \"id_parameter\": \"O3\", \"value\": 21.0, \"unit\": 1}, {\"date\": \"2021-08-16T04:00:00\", \"id_station\": \"PED\", \"id_parameter\": \"O3\", \"value\": 23.0, \"unit\": 1}, {\"date\": \"2021-08-16T05:00:00\", \"id_station\": \"PED\", \"id_parameter\": \"O3\", \"value\": 20.0, \"unit\": 1}, {\"date\": \"2021-08-16T06:00:00\", \"id_station\": \"PED\", \"id_parameter\": \"O3\", \"value\": 16.0, \"unit\": 1}, {\"date\": \"2021-08-16T07:00:00\", \"id_station\": \"PED\", \"id_parameter\": \"O3\", \"value\": 9.0, \"unit\": 1}, {\"date\": \"2021-08-16T08:00:00\", \"id_station\": \"PED\", \"id_parameter\": \"O3\", \"value\": 10.0, \"unit\": 1}, {\"date\": \"2021-08-16T09:00:00\", \"id_station\": \"PED\", \"id_parameter\": \"O3\", \"value\": 13.0, \"unit\": 1}, {\"date\": \"2021-08-16T10:00:00\", \"id_station\": \"PED\", \"id_parameter\": \"O3\", \"value\": 23.0, \"unit\": 1}, {\"date\": \"2021-08-16T11:00:00\", \"id_station\": \"PED\", \"id_parameter\": \"O3\", \"value\": 32.0, \"unit\": 1}, {\"date\": \"2021-08-16T12:00:00\", \"id_station\": \"PED\", \"id_parameter\": \"O3\", \"value\": 48.0, \"unit\": 1}, {\"date\": \"2021-08-16T13:00:00\", \"id_station\": \"PED\", \"id_parameter\": \"O3\", \"value\": 65.0, \"unit\": 1}, {\"date\": \"2021-08-16T14:00:00\", \"id_station\": \"PED\", \"id_parameter\": \"O3\", \"value\": 81.0, \"unit\": 1}, {\"date\": \"2021-08-16T15:00:00\", \"id_station\": \"PED\", \"id_parameter\": \"O3\", \"value\": 96.0, \"unit\": 1}, {\"date\": \"2021-08-16T16:00:00\", \"id_station\": \"PED\", \"id_parameter\": \"O3\", \"value\": 96.0, \"unit\": 1}, {\"date\": \"2021-08-16T17:00:00\", \"id_station\": \"PED\", \"id_parameter\": \"O3\", \"value\": 77.0, \"unit\": 1}, {\"date\": \"2021-08-16T18:00:00\", \"id_station\": \"PED\", \"id_parameter\": \"O3\", \"value\": 43.0, \"unit\": 1}, {\"date\": \"2021-08-16T19:00:00\", \"id_station\": \"PED\", \"id_parameter\": \"O3\", \"value\": 35.0, \"unit\": 1}, {\"date\": \"2021-08-16T20:00:00\", \"id_station\": \"PED\", \"id_parameter\": \"O3\", \"value\": 26.0, \"unit\": 1}, {\"date\": \"2021-08-16T21:00:00\", \"id_station\": \"PED\", \"id_parameter\": \"O3\", \"value\": 27.0, \"unit\": 1}, {\"date\": \"2021-08-16T22:00:00\", \"id_station\": \"PED\", \"id_parameter\": \"O3\", \"value\": 25.0, \"unit\": 1}, {\"date\": \"2021-08-16T23:00:00\", \"id_station\": \"PED\", \"id_parameter\": \"O3\", \"value\": 21.0, \"unit\": 1}, {\"date\": \"2021-08-16T00:00:00\", \"id_station\": \"PED\", \"id_parameter\": \"O3\", \"value\": 14.0, \"unit\": 1}, {\"date\": \"2021-08-17T01:00:00\", \"id_station\": \"PED\", \"id_parameter\": \"O3\", \"value\": 9.0, \"unit\": 1}, {\"date\": \"2021-08-17T02:00:00\", \"id_station\": \"PED\", \"id_parameter\": \"O3\", \"value\": 13.0, \"unit\": 1}, {\"date\": \"2021-08-17T03:00:00\", \"id_station\": \"PED\", \"id_parameter\": \"O3\", \"value\": 15.0, \"unit\": 1}, {\"date\": \"2021-08-17T04:00:00\", \"id_station\": \"PED\", \"id_parameter\": \"O3\", \"value\": 13.0, \"unit\": 1}, {\"date\": \"2021-08-17T05:00:00\", \"id_station\": \"PED\", \"id_parameter\": \"O3\", \"value\": 11.0, \"unit\": 1}, {\"date\": \"2021-08-17T06:00:00\", \"id_station\": \"PED\", \"id_parameter\": \"O3\", \"value\": 2.0, \"unit\": 1}, {\"date\": \"2021-08-17T07:00:00\", \"id_station\": \"PED\", \"id_parameter\": \"O3\", \"value\": 0.0, \"unit\": 1}, {\"date\": \"2021-08-17T08:00:00\", \"id_station\": \"PED\", \"id_parameter\": \"O3\", \"value\": 1.0, \"unit\": 1}, {\"date\": \"2021-08-17T09:00:00\", \"id_station\": \"PED\", \"id_parameter\": \"O3\", \"value\": 10.0, \"unit\": 1}, {\"date\": \"2021-08-17T10:00:00\", \"id_station\": \"PED\", \"id_parameter\": \"O3\", \"value\": 25.0, \"unit\": 1}, {\"date\": \"2021-08-17T11:00:00\", \"id_station\": \"PED\", \"id_parameter\": \"O3\", \"value\": 39.0, \"unit\": 1}, {\"date\": \"2021-08-17T12:00:00\", \"id_station\": \"PED\", \"id_parameter\": \"O3\", \"value\": 59.0, \"unit\": 1}, {\"date\": \"2021-08-17T13:00:00\", \"id_station\": \"PED\", \"id_parameter\": \"O3\", \"value\": 78.0, \"unit\": 1}, {\"date\": \"2021-08-17T14:00:00\", \"id_station\": \"PED\", \"id_parameter\": \"O3\", \"value\": 80.0, \"unit\": 1}, {\"date\": \"2021-08-17T15:00:00\", \"id_station\": \"PED\", \"id_parameter\": \"O3\", \"value\": 49.0, \"unit\": 1}, {\"date\": \"2021-08-17T16:00:00\", \"id_station\": \"PED\", \"id_parameter\": \"O3\", \"value\": 31.0, \"unit\": 1}, {\"date\": \"2021-08-17T17:00:00\", \"id_station\": \"PED\", \"id_parameter\": \"O3\", \"value\": 28.0, \"unit\": 1}, {\"date\": \"2021-08-17T18:00:00\", \"id_station\": \"PED\", \"id_parameter\": \"O3\", \"value\": 38.0, \"unit\": 1}, {\"date\": \"2021-08-17T19:00:00\", \"id_station\": \"PED\", \"id_parameter\": \"O3\", \"value\": 20.0, \"unit\": 1}, {\"date\": \"2021-08-17T20:00:00\", \"id_station\": \"PED\", \"id_parameter\": \"O3\", \"value\": 8.0, \"unit\": 1}, {\"date\": \"2021-08-17T21:00:00\", \"id_station\": \"PED\", \"id_parameter\": \"O3\", \"value\": 28.0, \"unit\": 1}, {\"date\": \"2021-08-17T22:00:00\", \"id_station\": \"PED\", \"id_parameter\": \"O3\", \"value\": 26.0, \"unit\": 1}, {\"date\": \"2021-08-17T23:00:00\", \"id_station\": \"PED\", \"id_parameter\": \"O3\", \"value\": 21.0, \"unit\": 1}, {\"date\": \"2021-08-17T00:00:00\", \"id_station\": \"PED\", \"id_parameter\": \"O3\", \"value\": null, \"unit\": 1}, {\"date\": \"2021-08-18T01:00:00\", \"id_station\": \"PED\", \"id_parameter\": \"O3\", \"value\": null, \"unit\": 1}, {\"date\": \"2021-08-18T02:00:00\", \"id_station\": \"PED\", \"id_parameter\": \"O3\", \"value\": null, \"unit\": 1}, {\"date\": \"2021-08-18T03:00:00\", \"id_station\": \"PED\", \"id_parameter\": \"O3\", \"value\": null, \"unit\": 1}, {\"date\": \"2021-08-18T04:00:00\", \"id_station\": \"PED\", \"id_parameter\": \"O3\", \"value\": 17.0, \"unit\": 1}, {\"date\": \"2021-08-18T05:00:00\", \"id_station\": \"PED\", \"id_parameter\": \"O3\", \"value\": 15.0, \"unit\": 1}, {\"date\": \"2021-08-18T06:00:00\", \"id_station\": \"PED\", \"id_parameter\": \"O3\", \"value\": 6.0, \"unit\": 1}, {\"date\": \"2021-08-18T07:00:00\", \"id_station\": \"PED\", \"id_parameter\": \"O3\", \"value\": 1.0, \"unit\": 1}, {\"date\": \"2021-08-18T08:00:00\", \"id_station\": \"PED\", \"id_parameter\": \"O3\", \"value\": 3.0, \"unit\": 1}, {\"date\": \"2021-08-18T09:00:00\", \"id_station\": \"PED\", \"id_parameter\": \"O3\", \"value\": 8.0, \"unit\": 1}, {\"date\": \"2021-08-18T10:00:00\", \"id_station\": \"PED\", \"id_parameter\": \"O3\", \"value\": 18.0, \"unit\": 1}, {\"date\": \"2021-08-18T11:00:00\", \"id_station\": \"PED\", \"id_parameter\": \"O3\", \"value\": 35.0, \"unit\": 1}, {\"date\": \"2021-08-18T12:00:00\", \"id_station\": \"PED\", \"id_parameter\": \"O3\", \"value\": 53.0, \"unit\": 1}, {\"date\": \"2021-08-18T13:00:00\", \"id_station\": \"PED\", \"id_parameter\": \"O3\", \"value\": 84.0, \"unit\": 1}, {\"date\": \"2021-08-18T14:00:00\", \"id_station\": \"PED\", \"id_parameter\": \"O3\", \"value\": 106.0, \"unit\": 1}, {\"date\": \"2021-08-18T15:00:00\", \"id_station\": \"PED\", \"id_parameter\": \"O3\", \"value\": 45.0, \"unit\": 1}, {\"date\": \"2021-08-18T16:00:00\", \"id_station\": \"PED\", \"id_parameter\": \"O3\", \"value\": 48.0, \"unit\": 1}, {\"date\": \"2021-08-18T17:00:00\", \"id_station\": \"PED\", \"id_parameter\": \"O3\", \"value\": 66.0, \"unit\": 1}, {\"date\": \"2021-08-18T18:00:00\", \"id_station\": \"PED\", \"id_parameter\": \"O3\", \"value\": 49.0, \"unit\": 1}, {\"date\": \"2021-08-18T19:00:00\", \"id_station\": \"PED\", \"id_parameter\": \"O3\", \"value\": 36.0, \"unit\": 1}, {\"date\": \"2021-08-18T20:00:00\", \"id_station\": \"PED\", \"id_parameter\": \"O3\", \"value\": 17.0, \"unit\": 1}, {\"date\": \"2021-08-18T21:00:00\", \"id_station\": \"PED\", \"id_parameter\": \"O3\", \"value\": 22.0, \"unit\": 1}, {\"date\": \"2021-08-18T22:00:00\", \"id_station\": \"PED\", \"id_parameter\": \"O3\", \"value\": 17.0, \"unit\": 1}, {\"date\": \"2021-08-18T23:00:00\", \"id_station\": \"PED\", \"id_parameter\": \"O3\", \"value\": 14.0, \"unit\": 1}, {\"date\": \"2021-08-18T00:00:00\", \"id_station\": \"PED\", \"id_parameter\": \"O3\", \"value\": 16.0, \"unit\": 1}, {\"date\": \"2021-08-19T01:00:00\", \"id_station\": \"PED\", \"id_parameter\": \"O3\", \"value\": 16.0, \"unit\": 1}, {\"date\": \"2021-08-19T02:00:00\", \"id_station\": \"PED\", \"id_parameter\": \"O3\", \"value\": 15.0, \"unit\": 1}, {\"date\": \"2021-08-19T03:00:00\", \"id_station\": \"PED\", \"id_parameter\": \"O3\", \"value\": 13.0, \"unit\": 1}, {\"date\": \"2021-08-19T04:00:00\", \"id_station\": \"PED\", \"id_parameter\": \"O3\", \"value\": 15.0, \"unit\": 1}, {\"date\": \"2021-08-19T05:00:00\", \"id_station\": \"PED\", \"id_parameter\": \"O3\", \"value\": 11.0, \"unit\": 1}, {\"date\": \"2021-08-19T06:00:00\", \"id_station\": \"PED\", \"id_parameter\": \"O3\", \"value\": 2.0, \"unit\": 1}, {\"date\": \"2021-08-19T07:00:00\", \"id_station\": \"PED\", \"id_parameter\": \"O3\", \"value\": 1.0, \"unit\": 1}, {\"date\": \"2021-08-19T08:00:00\", \"id_station\": \"PED\", \"id_parameter\": \"O3\", \"value\": 4.0, \"unit\": 1}, {\"date\": \"2021-08-19T09:00:00\", \"id_station\": \"PED\", \"id_parameter\": \"O3\", \"value\": 14.0, \"unit\": 1}, {\"date\": \"2021-08-19T10:00:00\", \"id_station\": \"PED\", \"id_parameter\": \"O3\", \"value\": 26.0, \"unit\": 1}, {\"date\": \"2021-08-19T11:00:00\", \"id_station\": \"PED\", \"id_parameter\": \"O3\", \"value\": 43.0, \"unit\": 1}, {\"date\": \"2021-08-19T12:00:00\", \"id_station\": \"PED\", \"id_parameter\": \"O3\", \"value\": 57.0, \"unit\": 1}, {\"date\": \"2021-08-19T13:00:00\", \"id_station\": \"PED\", \"id_parameter\": \"O3\", \"value\": 73.0, \"unit\": 1}, {\"date\": \"2021-08-19T14:00:00\", \"id_station\": \"PED\", \"id_parameter\": \"O3\", \"value\": 81.0, \"unit\": 1}, {\"date\": \"2021-08-19T15:00:00\", \"id_station\": \"PED\", \"id_parameter\": \"O3\", \"value\": 76.0, \"unit\": 1}, {\"date\": \"2021-08-19T16:00:00\", \"id_station\": \"PED\", \"id_parameter\": \"O3\", \"value\": 66.0, \"unit\": 1}, {\"date\": \"2021-08-19T17:00:00\", \"id_station\": \"PED\", \"id_parameter\": \"O3\", \"value\": 56.0, \"unit\": 1}, {\"date\": \"2021-08-19T18:00:00\", \"id_station\": \"PED\", \"id_parameter\": \"O3\", \"value\": 38.0, \"unit\": 1}, {\"date\": \"2021-08-19T19:00:00\", \"id_station\": \"PED\", \"id_parameter\": \"O3\", \"value\": 30.0, \"unit\": 1}, {\"date\": \"2021-08-19T20:00:00\", \"id_station\": \"PED\", \"id_parameter\": \"O3\", \"value\": 28.0, \"unit\": 1}, {\"date\": \"2021-08-19T21:00:00\", \"id_station\": \"PED\", \"id_parameter\": \"O3\", \"value\": 25.0, \"unit\": 1}, {\"date\": \"2021-08-19T22:00:00\", \"id_station\": \"PED\", \"id_parameter\": \"O3\", \"value\": 17.0, \"unit\": 1}, {\"date\": \"2021-08-19T23:00:00\", \"id_station\": \"PED\", \"id_parameter\": \"O3\", \"value\": 12.0, \"unit\": 1}, {\"date\": \"2021-08-19T00:00:00\", \"id_station\": \"PED\", \"id_parameter\": \"O3\", \"value\": 18.0, \"unit\": 1}, {\"date\": \"2021-08-20T01:00:00\", \"id_station\": \"PED\", \"id_parameter\": \"O3\", \"value\": 21.0, \"unit\": 1}, {\"date\": \"2021-08-20T02:00:00\", \"id_station\": \"PED\", \"id_parameter\": \"O3\", \"value\": 18.0, \"unit\": 1}, {\"date\": \"2021-08-20T03:00:00\", \"id_station\": \"PED\", \"id_parameter\": \"O3\", \"value\": 19.0, \"unit\": 1}, {\"date\": \"2021-08-20T04:00:00\", \"id_station\": \"PED\", \"id_parameter\": \"O3\", \"value\": 14.0, \"unit\": 1}, {\"date\": \"2021-08-20T05:00:00\", \"id_station\": \"PED\", \"id_parameter\": \"O3\", \"value\": 7.0, \"unit\": 1}, {\"date\": \"2021-08-20T06:00:00\", \"id_station\": \"PED\", \"id_parameter\": \"O3\", \"value\": 6.0, \"unit\": 1}, {\"date\": \"2021-08-20T07:00:00\", \"id_station\": \"PED\", \"id_parameter\": \"O3\", \"value\": 3.0, \"unit\": 1}, {\"date\": \"2021-08-20T08:00:00\", \"id_station\": \"PED\", \"id_parameter\": \"O3\", \"value\": 8.0, \"unit\": 1}, {\"date\": \"2021-08-20T09:00:00\", \"id_station\": \"PED\", \"id_parameter\": \"O3\", \"value\": 13.0, \"unit\": 1}, {\"date\": \"2021-08-20T10:00:00\", \"id_station\": \"PED\", \"id_parameter\": \"O3\", \"value\": 19.0, \"unit\": 1}, {\"date\": \"2021-08-20T11:00:00\", \"id_station\": \"PED\", \"id_parameter\": \"O3\", \"value\": 29.0, \"unit\": 1}, {\"date\": \"2021-08-20T12:00:00\", \"id_station\": \"PED\", \"id_parameter\": \"O3\", \"value\": 40.0, \"unit\": 1}, {\"date\": \"2021-08-20T13:00:00\", \"id_station\": \"PED\", \"id_parameter\": \"O3\", \"value\": 50.0, \"unit\": 1}, {\"date\": \"2021-08-20T14:00:00\", \"id_station\": \"PED\", \"id_parameter\": \"O3\", \"value\": 50.0, \"unit\": 1}, {\"date\": \"2021-08-20T15:00:00\", \"id_station\": \"PED\", \"id_parameter\": \"O3\", \"value\": 42.0, \"unit\": 1}, {\"date\": \"2021-08-20T16:00:00\", \"id_station\": \"PED\", \"id_parameter\": \"O3\", \"value\": 38.0, \"unit\": 1}, {\"date\": \"2021-08-20T17:00:00\", \"id_station\": \"PED\", \"id_parameter\": \"O3\", \"value\": 28.0, \"unit\": 1}, {\"date\": \"2021-08-20T18:00:00\", \"id_station\": \"PED\", \"id_parameter\": \"O3\", \"value\": 21.0, \"unit\": 1}, {\"date\": \"2021-08-20T19:00:00\", \"id_station\": \"PED\", \"id_parameter\": \"O3\", \"value\": 16.0, \"unit\": 1}, {\"date\": \"2021-08-20T20:00:00\", \"id_station\": \"PED\", \"id_parameter\": \"O3\", \"value\": 16.0, \"unit\": 1}, {\"date\": \"2021-08-20T21:00:00\", \"id_station\": \"PED\", \"id_parameter\": \"O3\", \"value\": 17.0, \"unit\": 1}, {\"date\": \"2021-08-20T22:00:00\", \"id_station\": \"PED\", \"id_parameter\": \"O3\", \"value\": 14.0, \"unit\": 1}, {\"date\": \"2021-08-20T23:00:00\", \"id_station\": \"PED\", \"id_parameter\": \"O3\", \"value\": 15.0, \"unit\": 1}, {\"date\": \"2021-08-20T00:00:00\", \"id_station\": \"PED\", \"id_parameter\": \"O3\", \"value\": 14.0, \"unit\": 1}, {\"date\": \"2021-08-21T01:00:00\", \"id_station\": \"PED\", \"id_parameter\": \"O3\", \"value\": 15.0, \"unit\": 1}, {\"date\": \"2021-08-21T02:00:00\", \"id_station\": \"PED\", \"id_parameter\": \"O3\", \"value\": 14.0, \"unit\": 1}, {\"date\": \"2021-08-21T03:00:00\", \"id_station\": \"PED\", \"id_parameter\": \"O3\", \"value\": 20.0, \"unit\": 1}, {\"date\": \"2021-08-21T04:00:00\", \"id_station\": \"PED\", \"id_parameter\": \"O3\", \"value\": 27.0, \"unit\": 1}, {\"date\": \"2021-08-21T05:00:00\", \"id_station\": \"PED\", \"id_parameter\": \"O3\", \"value\": 26.0, \"unit\": 1}, {\"date\": \"2021-08-21T06:00:00\", \"id_station\": \"PED\", \"id_parameter\": \"O3\", \"value\": 22.0, \"unit\": 1}, {\"date\": \"2021-08-21T07:00:00\", \"id_station\": \"PED\", \"id_parameter\": \"O3\", \"value\": 17.0, \"unit\": 1}, {\"date\": \"2021-08-21T08:00:00\", \"id_station\": \"PED\", \"id_parameter\": \"O3\", \"value\": 12.0, \"unit\": 1}, {\"date\": \"2021-08-21T09:00:00\", \"id_station\": \"PED\", \"id_parameter\": \"O3\", \"value\": 8.0, \"unit\": 1}, {\"date\": \"2021-08-21T10:00:00\", \"id_station\": \"PED\", \"id_parameter\": \"O3\", \"value\": 7.0, \"unit\": 1}, {\"date\": \"2021-08-21T11:00:00\", \"id_station\": \"PED\", \"id_parameter\": \"O3\", \"value\": 8.0, \"unit\": 1}, {\"date\": \"2021-08-21T12:00:00\", \"id_station\": \"PED\", \"id_parameter\": \"O3\", \"value\": 14.0, \"unit\": 1}, {\"date\": \"2021-08-21T13:00:00\", \"id_station\": \"PED\", \"id_parameter\": \"O3\", \"value\": 20.0, \"unit\": 1}, {\"date\": \"2021-08-21T14:00:00\", \"id_station\": \"PED\", \"id_parameter\": \"O3\", \"value\": 27.0, \"unit\": 1}, {\"date\": \"2021-08-21T15:00:00\", \"id_station\": \"PED\", \"id_parameter\": \"O3\", \"value\": 30.0, \"unit\": 1}, {\"date\": \"2021-08-21T16:00:00\", \"id_station\": \"PED\", \"id_parameter\": \"O3\", \"value\": 27.0, \"unit\": 1}, {\"date\": \"2021-08-21T17:00:00\", \"id_station\": \"PED\", \"id_parameter\": \"O3\", \"value\": 31.0, \"unit\": 1}, {\"date\": \"2021-08-21T18:00:00\", \"id_station\": \"PED\", \"id_parameter\": \"O3\", \"value\": 30.0, \"unit\": 1}, {\"date\": \"2021-08-21T19:00:00\", \"id_station\": \"PED\", \"id_parameter\": \"O3\", \"value\": 29.0, \"unit\": 1}, {\"date\": \"2021-08-21T20:00:00\", \"id_station\": \"PED\", \"id_parameter\": \"O3\", \"value\": 21.0, \"unit\": 1}, {\"date\": \"2021-08-21T21:00:00\", \"id_station\": \"PED\", \"id_parameter\": \"O3\", \"value\": 17.0, \"unit\": 1}, {\"date\": \"2021-08-21T22:00:00\", \"id_station\": \"PED\", \"id_parameter\": \"O3\", \"value\": 2.0, \"unit\": 1}, {\"date\": \"2021-08-21T23:00:00\", \"id_station\": \"PED\", \"id_parameter\": \"O3\", \"value\": 0.0, \"unit\": 1}, {\"date\": \"2021-08-21T00:00:00\", \"id_station\": \"PED\", \"id_parameter\": \"O3\", \"value\": 2.0, \"unit\": 1}, {\"date\": \"2021-08-22T01:00:00\", \"id_station\": \"PED\", \"id_parameter\": \"O3\", \"value\": 5.0, \"unit\": 1}, {\"date\": \"2021-08-22T02:00:00\", \"id_station\": \"PED\", \"id_parameter\": \"O3\", \"value\": 14.0, \"unit\": 1}, {\"date\": \"2021-08-22T03:00:00\", \"id_station\": \"PED\", \"id_parameter\": \"O3\", \"value\": 17.0, \"unit\": 1}, {\"date\": \"2021-08-22T04:00:00\", \"id_station\": \"PED\", \"id_parameter\": \"O3\", \"value\": 16.0, \"unit\": 1}, {\"date\": \"2021-08-22T05:00:00\", \"id_station\": \"PED\", \"id_parameter\": \"O3\", \"value\": 12.0, \"unit\": 1}, {\"date\": \"2021-08-22T06:00:00\", \"id_station\": \"PED\", \"id_parameter\": \"O3\", \"value\": 9.0, \"unit\": 1}, {\"date\": \"2021-08-22T07:00:00\", \"id_station\": \"PED\", \"id_parameter\": \"O3\", \"value\": 12.0, \"unit\": 1}, {\"date\": \"2021-08-22T08:00:00\", \"id_station\": \"PED\", \"id_parameter\": \"O3\", \"value\": 13.0, \"unit\": 1}, {\"date\": \"2021-08-22T09:00:00\", \"id_station\": \"PED\", \"id_parameter\": \"O3\", \"value\": 19.0, \"unit\": 1}, {\"date\": \"2021-08-22T10:00:00\", \"id_station\": \"PED\", \"id_parameter\": \"O3\", \"value\": 26.0, \"unit\": 1}, {\"date\": \"2021-08-22T11:00:00\", \"id_station\": \"PED\", \"id_parameter\": \"O3\", \"value\": 28.0, \"unit\": 1}, {\"date\": \"2021-08-22T12:00:00\", \"id_station\": \"PED\", \"id_parameter\": \"O3\", \"value\": 44.0, \"unit\": 1}, {\"date\": \"2021-08-22T13:00:00\", \"id_station\": \"PED\", \"id_parameter\": \"O3\", \"value\": 43.0, \"unit\": 1}, {\"date\": \"2021-08-22T14:00:00\", \"id_station\": \"PED\", \"id_parameter\": \"O3\", \"value\": 45.0, \"unit\": 1}, {\"date\": \"2021-08-22T15:00:00\", \"id_station\": \"PED\", \"id_parameter\": \"O3\", \"value\": 54.0, \"unit\": 1}, {\"date\": \"2021-08-22T16:00:00\", \"id_station\": \"PED\", \"id_parameter\": \"O3\", \"value\": 57.0, \"unit\": 1}, {\"date\": \"2021-08-22T17:00:00\", \"id_station\": \"PED\", \"id_parameter\": \"O3\", \"value\": 62.0, \"unit\": 1}, {\"date\": \"2021-08-22T18:00:00\", \"id_station\": \"PED\", \"id_parameter\": \"O3\", \"value\": 57.0, \"unit\": 1}, {\"date\": \"2021-08-22T19:00:00\", \"id_station\": \"PED\", \"id_parameter\": \"O3\", \"value\": 45.0, \"unit\": 1}, {\"date\": \"2021-08-22T20:00:00\", \"id_station\": \"PED\", \"id_parameter\": \"O3\", \"value\": 25.0, \"unit\": 1}, {\"date\": \"2021-08-22T21:00:00\", \"id_station\": \"PED\", \"id_parameter\": \"O3\", \"value\": 17.0, \"unit\": 1}, {\"date\": \"2021-08-22T22:00:00\", \"id_station\": \"PED\", \"id_parameter\": \"O3\", \"value\": 10.0, \"unit\": 1}, {\"date\": \"2021-08-22T23:00:00\", \"id_station\": \"PED\", \"id_parameter\": \"O3\", \"value\": 13.0, \"unit\": 1}, {\"date\": \"2021-08-22T00:00:00\", \"id_station\": \"PED\", \"id_parameter\": \"O3\", \"value\": 16.0, \"unit\": 1}, {\"date\": \"2021-08-23T01:00:00\", \"id_station\": \"PED\", \"id_parameter\": \"O3\", \"value\": 19.0, \"unit\": 1}, {\"date\": \"2021-08-23T02:00:00\", \"id_station\": \"PED\", \"id_parameter\": \"O3\", \"value\": 20.0, \"unit\": 1}, {\"date\": \"2021-08-23T03:00:00\", \"id_station\": \"PED\", \"id_parameter\": \"O3\", \"value\": 18.0, \"unit\": 1}, {\"date\": \"2021-08-23T04:00:00\", \"id_station\": \"PED\", \"id_parameter\": \"O3\", \"value\": 18.0, \"unit\": 1}, {\"date\": \"2021-08-23T05:00:00\", \"id_station\": \"PED\", \"id_parameter\": \"O3\", \"value\": 17.0, \"unit\": 1}, {\"date\": \"2021-08-23T06:00:00\", \"id_station\": \"PED\", \"id_parameter\": \"O3\", \"value\": 12.0, \"unit\": 1}, {\"date\": \"2021-08-23T07:00:00\", \"id_station\": \"PED\", \"id_parameter\": \"O3\", \"value\": 5.0, \"unit\": 1}, {\"date\": \"2021-08-23T08:00:00\", \"id_station\": \"PED\", \"id_parameter\": \"O3\", \"value\": 8.0, \"unit\": 1}, {\"date\": \"2021-08-23T09:00:00\", \"id_station\": \"PED\", \"id_parameter\": \"O3\", \"value\": 12.0, \"unit\": 1}, {\"date\": \"2021-08-23T10:00:00\", \"id_station\": \"PED\", \"id_parameter\": \"O3\", \"value\": 15.0, \"unit\": 1}, {\"date\": \"2021-08-23T11:00:00\", \"id_station\": \"PED\", \"id_parameter\": \"O3\", \"value\": 27.0, \"unit\": 1}, {\"date\": \"2021-08-23T12:00:00\", \"id_station\": \"PED\", \"id_parameter\": \"O3\", \"value\": 41.0, \"unit\": 1}, {\"date\": \"2021-08-23T13:00:00\", \"id_station\": \"PED\", \"id_parameter\": \"O3\", \"value\": 60.0, \"unit\": 1}, {\"date\": \"2021-08-23T14:00:00\", \"id_station\": \"PED\", \"id_parameter\": \"O3\", \"value\": 65.0, \"unit\": 1}, {\"date\": \"2021-08-23T15:00:00\", \"id_station\": \"PED\", \"id_parameter\": \"O3\", \"value\": 50.0, \"unit\": 1}, {\"date\": \"2021-08-23T16:00:00\", \"id_station\": \"PED\", \"id_parameter\": \"O3\", \"value\": 34.0, \"unit\": 1}, {\"date\": \"2021-08-23T17:00:00\", \"id_station\": \"PED\", \"id_parameter\": \"O3\", \"value\": 37.0, \"unit\": 1}, {\"date\": \"2021-08-23T18:00:00\", \"id_station\": \"PED\", \"id_parameter\": \"O3\", \"value\": 40.0, \"unit\": 1}, {\"date\": \"2021-08-23T19:00:00\", \"id_station\": \"PED\", \"id_parameter\": \"O3\", \"value\": 30.0, \"unit\": 1}, {\"date\": \"2021-08-23T20:00:00\", \"id_station\": \"PED\", \"id_parameter\": \"O3\", \"value\": 18.0, \"unit\": 1}, {\"date\": \"2021-08-23T21:00:00\", \"id_station\": \"PED\", \"id_parameter\": \"O3\", \"value\": 16.0, \"unit\": 1}, {\"date\": \"2021-08-23T22:00:00\", \"id_station\": \"PED\", \"id_parameter\": \"O3\", \"value\": 15.0, \"unit\": 1}, {\"date\": \"2021-08-23T23:00:00\", \"id_station\": \"PED\", \"id_parameter\": \"O3\", \"value\": 21.0, \"unit\": 1}, {\"date\": \"2021-08-23T00:00:00\", \"id_station\": \"PED\", \"id_parameter\": \"O3\", \"value\": null, \"unit\": 1}, {\"date\": \"2021-08-24T01:00:00\", \"id_station\": \"PED\", \"id_parameter\": \"O3\", \"value\": null, \"unit\": 1}, {\"date\": \"2021-08-24T02:00:00\", \"id_station\": \"PED\", \"id_parameter\": \"O3\", \"value\": null, \"unit\": 1}, {\"date\": \"2021-08-24T03:00:00\", \"id_station\": \"PED\", \"id_parameter\": \"O3\", \"value\": null, \"unit\": 1}, {\"date\": \"2021-08-24T04:00:00\", \"id_station\": \"PED\", \"id_parameter\": \"O3\", \"value\": null, \"unit\": 1}, {\"date\": \"2021-08-24T05:00:00\", \"id_station\": \"PED\", \"id_parameter\": \"O3\", \"value\": null, \"unit\": 1}, {\"date\": \"2021-08-24T06:00:00\", \"id_station\": \"PED\", \"id_parameter\": \"O3\", \"value\": null, \"unit\": 1}, {\"date\": \"2021-08-24T07:00:00\", \"id_station\": \"PED\", \"id_parameter\": \"O3\", \"value\": null, \"unit\": 1}, {\"date\": \"2021-08-24T08:00:00\", \"id_station\": \"PED\", \"id_parameter\": \"O3\", \"value\": null, \"unit\": 1}, {\"date\": \"2021-08-24T09:00:00\", \"id_station\": \"PED\", \"id_parameter\": \"O3\", \"value\": null, \"unit\": 1}, {\"date\": \"2021-08-24T10:00:00\", \"id_station\": \"PED\", \"id_parameter\": \"O3\", \"value\": null, \"unit\": 1}, {\"date\": \"2021-08-24T11:00:00\", \"id_station\": \"PED\", \"id_parameter\": \"O3\", \"value\": null, \"unit\": 1}, {\"date\": \"2021-08-24T12:00:00\", \"id_station\": \"PED\", \"id_parameter\": \"O3\", \"value\": 30.0, \"unit\": 1}, {\"date\": \"2021-08-24T13:00:00\", \"id_station\": \"PED\", \"id_parameter\": \"O3\", \"value\": 45.0, \"unit\": 1}, {\"date\": \"2021-08-24T14:00:00\", \"id_station\": \"PED\", \"id_parameter\": \"O3\", \"value\": 50.0, \"unit\": 1}, {\"date\": \"2021-08-24T15:00:00\", \"id_station\": \"PED\", \"id_parameter\": \"O3\", \"value\": 33.0, \"unit\": 1}, {\"date\": \"2021-08-24T16:00:00\", \"id_station\": \"PED\", \"id_parameter\": \"O3\", \"value\": 26.0, \"unit\": 1}, {\"date\": \"2021-08-24T17:00:00\", \"id_station\": \"PED\", \"id_parameter\": \"O3\", \"value\": 32.0, \"unit\": 1}, {\"date\": \"2021-08-24T18:00:00\", \"id_station\": \"PED\", \"id_parameter\": \"O3\", \"value\": 34.0, \"unit\": 1}, {\"date\": \"2021-08-24T19:00:00\", \"id_station\": \"PED\", \"id_parameter\": \"O3\", \"value\": 20.0, \"unit\": 1}, {\"date\": \"2021-08-24T20:00:00\", \"id_station\": \"PED\", \"id_parameter\": \"O3\", \"value\": 9.0, \"unit\": 1}, {\"date\": \"2021-08-24T21:00:00\", \"id_station\": \"PED\", \"id_parameter\": \"O3\", \"value\": 10.0, \"unit\": 1}, {\"date\": \"2021-08-24T22:00:00\", \"id_station\": \"PED\", \"id_parameter\": \"O3\", \"value\": 12.0, \"unit\": 1}, {\"date\": \"2021-08-24T23:00:00\", \"id_station\": \"PED\", \"id_parameter\": \"O3\", \"value\": 10.0, \"unit\": 1}, {\"date\": \"2021-08-24T00:00:00\", \"id_station\": \"PED\", \"id_parameter\": \"O3\", \"value\": 13.0, \"unit\": 1}, {\"date\": \"2021-08-25T01:00:00\", \"id_station\": \"PED\", \"id_parameter\": \"O3\", \"value\": 16.0, \"unit\": 1}, {\"date\": \"2021-08-25T02:00:00\", \"id_station\": \"PED\", \"id_parameter\": \"O3\", \"value\": 19.0, \"unit\": 1}, {\"date\": \"2021-08-25T03:00:00\", \"id_station\": \"PED\", \"id_parameter\": \"O3\", \"value\": 22.0, \"unit\": 1}, {\"date\": \"2021-08-25T04:00:00\", \"id_station\": \"PED\", \"id_parameter\": \"O3\", \"value\": 22.0, \"unit\": 1}, {\"date\": \"2021-08-25T05:00:00\", \"id_station\": \"PED\", \"id_parameter\": \"O3\", \"value\": 18.0, \"unit\": 1}, {\"date\": \"2021-08-25T06:00:00\", \"id_station\": \"PED\", \"id_parameter\": \"O3\", \"value\": 16.0, \"unit\": 1}, {\"date\": \"2021-08-25T07:00:00\", \"id_station\": \"PED\", \"id_parameter\": \"O3\", \"value\": 15.0, \"unit\": 1}, {\"date\": \"2021-08-25T08:00:00\", \"id_station\": \"PED\", \"id_parameter\": \"O3\", \"value\": 14.0, \"unit\": 1}, {\"date\": \"2021-08-25T09:00:00\", \"id_station\": \"PED\", \"id_parameter\": \"O3\", \"value\": 18.0, \"unit\": 1}, {\"date\": \"2021-08-25T10:00:00\", \"id_station\": \"PED\", \"id_parameter\": \"O3\", \"value\": 18.0, \"unit\": 1}, {\"date\": \"2021-08-25T11:00:00\", \"id_station\": \"PED\", \"id_parameter\": \"O3\", \"value\": 23.0, \"unit\": 1}, {\"date\": \"2021-08-25T12:00:00\", \"id_station\": \"PED\", \"id_parameter\": \"O3\", \"value\": 31.0, \"unit\": 1}, {\"date\": \"2021-08-25T13:00:00\", \"id_station\": \"PED\", \"id_parameter\": \"O3\", \"value\": 40.0, \"unit\": 1}, {\"date\": \"2021-08-25T14:00:00\", \"id_station\": \"PED\", \"id_parameter\": \"O3\", \"value\": 34.0, \"unit\": 1}, {\"date\": \"2021-08-25T15:00:00\", \"id_station\": \"PED\", \"id_parameter\": \"O3\", \"value\": 36.0, \"unit\": 1}, {\"date\": \"2021-08-25T16:00:00\", \"id_station\": \"PED\", \"id_parameter\": \"O3\", \"value\": 38.0, \"unit\": 1}, {\"date\": \"2021-08-25T17:00:00\", \"id_station\": \"PED\", \"id_parameter\": \"O3\", \"value\": 34.0, \"unit\": 1}, {\"date\": \"2021-08-25T18:00:00\", \"id_station\": \"PED\", \"id_parameter\": \"O3\", \"value\": 27.0, \"unit\": 1}, {\"date\": \"2021-08-25T19:00:00\", \"id_station\": \"PED\", \"id_parameter\": \"O3\", \"value\": 24.0, \"unit\": 1}, {\"date\": \"2021-08-25T20:00:00\", \"id_station\": \"PED\", \"id_parameter\": \"O3\", \"value\": 26.0, \"unit\": 1}, {\"date\": \"2021-08-25T21:00:00\", \"id_station\": \"PED\", \"id_parameter\": \"O3\", \"value\": 20.0, \"unit\": 1}, {\"date\": \"2021-08-25T22:00:00\", \"id_station\": \"PED\", \"id_parameter\": \"O3\", \"value\": 20.0, \"unit\": 1}, {\"date\": \"2021-08-25T23:00:00\", \"id_station\": \"PED\", \"id_parameter\": \"O3\", \"value\": 19.0, \"unit\": 1}, {\"date\": \"2021-08-25T00:00:00\", \"id_station\": \"PED\", \"id_parameter\": \"O3\", \"value\": 22.0, \"unit\": 1}, {\"date\": \"2021-08-26T01:00:00\", \"id_station\": \"PED\", \"id_parameter\": \"O3\", \"value\": 20.0, \"unit\": 1}, {\"date\": \"2021-08-26T02:00:00\", \"id_station\": \"PED\", \"id_parameter\": \"O3\", \"value\": 20.0, \"unit\": 1}, {\"date\": \"2021-08-26T03:00:00\", \"id_station\": \"PED\", \"id_parameter\": \"O3\", \"value\": 20.0, \"unit\": 1}, {\"date\": \"2021-08-26T04:00:00\", \"id_station\": \"PED\", \"id_parameter\": \"O3\", \"value\": 22.0, \"unit\": 1}, {\"date\": \"2021-08-26T05:00:00\", \"id_station\": \"PED\", \"id_parameter\": \"O3\", \"value\": 20.0, \"unit\": 1}, {\"date\": \"2021-08-26T06:00:00\", \"id_station\": \"PED\", \"id_parameter\": \"O3\", \"value\": 15.0, \"unit\": 1}, {\"date\": \"2021-08-26T07:00:00\", \"id_station\": \"PED\", \"id_parameter\": \"O3\", \"value\": 9.0, \"unit\": 1}, {\"date\": \"2021-08-26T08:00:00\", \"id_station\": \"PED\", \"id_parameter\": \"O3\", \"value\": 15.0, \"unit\": 1}, {\"date\": \"2021-08-26T09:00:00\", \"id_station\": \"PED\", \"id_parameter\": \"O3\", \"value\": 21.0, \"unit\": 1}, {\"date\": \"2021-08-26T10:00:00\", \"id_station\": \"PED\", \"id_parameter\": \"O3\", \"value\": 27.0, \"unit\": 1}, {\"date\": \"2021-08-26T11:00:00\", \"id_station\": \"PED\", \"id_parameter\": \"O3\", \"value\": 33.0, \"unit\": 1}, {\"date\": \"2021-08-26T12:00:00\", \"id_station\": \"PED\", \"id_parameter\": \"O3\", \"value\": 42.0, \"unit\": 1}, {\"date\": \"2021-08-26T13:00:00\", \"id_station\": \"PED\", \"id_parameter\": \"O3\", \"value\": 64.0, \"unit\": 1}, {\"date\": \"2021-08-26T14:00:00\", \"id_station\": \"PED\", \"id_parameter\": \"O3\", \"value\": 90.0, \"unit\": 1}, {\"date\": \"2021-08-26T15:00:00\", \"id_station\": \"PED\", \"id_parameter\": \"O3\", \"value\": 77.0, \"unit\": 1}, {\"date\": \"2021-08-26T16:00:00\", \"id_station\": \"PED\", \"id_parameter\": \"O3\", \"value\": 40.0, \"unit\": 1}, {\"date\": \"2021-08-26T17:00:00\", \"id_station\": \"PED\", \"id_parameter\": \"O3\", \"value\": 26.0, \"unit\": 1}, {\"date\": \"2021-08-26T18:00:00\", \"id_station\": \"PED\", \"id_parameter\": \"O3\", \"value\": 21.0, \"unit\": 1}, {\"date\": \"2021-08-26T19:00:00\", \"id_station\": \"PED\", \"id_parameter\": \"O3\", \"value\": 20.0, \"unit\": 1}, {\"date\": \"2021-08-26T20:00:00\", \"id_station\": \"PED\", \"id_parameter\": \"O3\", \"value\": 18.0, \"unit\": 1}, {\"date\": \"2021-08-26T21:00:00\", \"id_station\": \"PED\", \"id_parameter\": \"O3\", \"value\": 14.0, \"unit\": 1}, {\"date\": \"2021-08-26T22:00:00\", \"id_station\": \"PED\", \"id_parameter\": \"O3\", \"value\": 12.0, \"unit\": 1}, {\"date\": \"2021-08-26T23:00:00\", \"id_station\": \"PED\", \"id_parameter\": \"O3\", \"value\": 15.0, \"unit\": 1}, {\"date\": \"2021-08-26T00:00:00\", \"id_station\": \"PED\", \"id_parameter\": \"O3\", \"value\": 17.0, \"unit\": 1}, {\"date\": \"2021-08-27T01:00:00\", \"id_station\": \"PED\", \"id_parameter\": \"O3\", \"value\": 18.0, \"unit\": 1}, {\"date\": \"2021-08-27T02:00:00\", \"id_station\": \"PED\", \"id_parameter\": \"O3\", \"value\": 19.0, \"unit\": 1}, {\"date\": \"2021-08-27T03:00:00\", \"id_station\": \"PED\", \"id_parameter\": \"O3\", \"value\": 17.0, \"unit\": 1}, {\"date\": \"2021-08-27T04:00:00\", \"id_station\": \"PED\", \"id_parameter\": \"O3\", \"value\": 14.0, \"unit\": 1}, {\"date\": \"2021-08-27T05:00:00\", \"id_station\": \"PED\", \"id_parameter\": \"O3\", \"value\": 13.0, \"unit\": 1}, {\"date\": \"2021-08-27T06:00:00\", \"id_station\": \"PED\", \"id_parameter\": \"O3\", \"value\": 5.0, \"unit\": 1}, {\"date\": \"2021-08-27T07:00:00\", \"id_station\": \"PED\", \"id_parameter\": \"O3\", \"value\": 1.0, \"unit\": 1}, {\"date\": \"2021-08-27T08:00:00\", \"id_station\": \"PED\", \"id_parameter\": \"O3\", \"value\": 2.0, \"unit\": 1}, {\"date\": \"2021-08-27T09:00:00\", \"id_station\": \"PED\", \"id_parameter\": \"O3\", \"value\": 3.0, \"unit\": 1}, {\"date\": \"2021-08-27T10:00:00\", \"id_station\": \"PED\", \"id_parameter\": \"O3\", \"value\": 16.0, \"unit\": 1}, {\"date\": \"2021-08-27T11:00:00\", \"id_station\": \"PED\", \"id_parameter\": \"O3\", \"value\": 28.0, \"unit\": 1}, {\"date\": \"2021-08-27T12:00:00\", \"id_station\": \"PED\", \"id_parameter\": \"O3\", \"value\": 27.0, \"unit\": 1}, {\"date\": \"2021-08-27T13:00:00\", \"id_station\": \"PED\", \"id_parameter\": \"O3\", \"value\": 30.0, \"unit\": 1}, {\"date\": \"2021-08-27T14:00:00\", \"id_station\": \"PED\", \"id_parameter\": \"O3\", \"value\": 47.0, \"unit\": 1}, {\"date\": \"2021-08-27T15:00:00\", \"id_station\": \"PED\", \"id_parameter\": \"O3\", \"value\": 59.0, \"unit\": 1}, {\"date\": \"2021-08-27T16:00:00\", \"id_station\": \"PED\", \"id_parameter\": \"O3\", \"value\": 58.0, \"unit\": 1}, {\"date\": \"2021-08-27T17:00:00\", \"id_station\": \"PED\", \"id_parameter\": \"O3\", \"value\": 43.0, \"unit\": 1}, {\"date\": \"2021-08-27T18:00:00\", \"id_station\": \"PED\", \"id_parameter\": \"O3\", \"value\": 35.0, \"unit\": 1}, {\"date\": \"2021-08-27T19:00:00\", \"id_station\": \"PED\", \"id_parameter\": \"O3\", \"value\": 24.0, \"unit\": 1}, {\"date\": \"2021-08-27T20:00:00\", \"id_station\": \"PED\", \"id_parameter\": \"O3\", \"value\": 21.0, \"unit\": 1}, {\"date\": \"2021-08-27T21:00:00\", \"id_station\": \"PED\", \"id_parameter\": \"O3\", \"value\": 21.0, \"unit\": 1}, {\"date\": \"2021-08-27T22:00:00\", \"id_station\": \"PED\", \"id_parameter\": \"O3\", \"value\": 20.0, \"unit\": 1}, {\"date\": \"2021-08-27T23:00:00\", \"id_station\": \"PED\", \"id_parameter\": \"O3\", \"value\": 15.0, \"unit\": 1}, {\"date\": \"2021-08-27T00:00:00\", \"id_station\": \"PED\", \"id_parameter\": \"O3\", \"value\": 6.0, \"unit\": 1}, {\"date\": \"2021-08-28T01:00:00\", \"id_station\": \"PED\", \"id_parameter\": \"O3\", \"value\": 7.0, \"unit\": 1}, {\"date\": \"2021-08-28T02:00:00\", \"id_station\": \"PED\", \"id_parameter\": \"O3\", \"value\": 6.0, \"unit\": 1}, {\"date\": \"2021-08-28T03:00:00\", \"id_station\": \"PED\", \"id_parameter\": \"O3\", \"value\": 1.0, \"unit\": 1}, {\"date\": \"2021-08-28T04:00:00\", \"id_station\": \"PED\", \"id_parameter\": \"O3\", \"value\": 1.0, \"unit\": 1}, {\"date\": \"2021-08-28T05:00:00\", \"id_station\": \"PED\", \"id_parameter\": \"O3\", \"value\": 3.0, \"unit\": 1}, {\"date\": \"2021-08-28T06:00:00\", \"id_station\": \"PED\", \"id_parameter\": \"O3\", \"value\": 4.0, \"unit\": 1}, {\"date\": \"2021-08-28T07:00:00\", \"id_station\": \"PED\", \"id_parameter\": \"O3\", \"value\": 1.0, \"unit\": 1}, {\"date\": \"2021-08-28T08:00:00\", \"id_station\": \"PED\", \"id_parameter\": \"O3\", \"value\": 1.0, \"unit\": 1}, {\"date\": \"2021-08-28T09:00:00\", \"id_station\": \"PED\", \"id_parameter\": \"O3\", \"value\": 3.0, \"unit\": 1}, {\"date\": \"2021-08-28T10:00:00\", \"id_station\": \"PED\", \"id_parameter\": \"O3\", \"value\": 9.0, \"unit\": 1}, {\"date\": \"2021-08-28T11:00:00\", \"id_station\": \"PED\", \"id_parameter\": \"O3\", \"value\": 18.0, \"unit\": 1}, {\"date\": \"2021-08-28T12:00:00\", \"id_station\": \"PED\", \"id_parameter\": \"O3\", \"value\": 21.0, \"unit\": 1}, {\"date\": \"2021-08-28T13:00:00\", \"id_station\": \"PED\", \"id_parameter\": \"O3\", \"value\": 21.0, \"unit\": 1}, {\"date\": \"2021-08-28T14:00:00\", \"id_station\": \"PED\", \"id_parameter\": \"O3\", \"value\": 22.0, \"unit\": 1}, {\"date\": \"2021-08-28T15:00:00\", \"id_station\": \"PED\", \"id_parameter\": \"O3\", \"value\": 20.0, \"unit\": 1}, {\"date\": \"2021-08-28T16:00:00\", \"id_station\": \"PED\", \"id_parameter\": \"O3\", \"value\": 21.0, \"unit\": 1}, {\"date\": \"2021-08-28T17:00:00\", \"id_station\": \"PED\", \"id_parameter\": \"O3\", \"value\": 18.0, \"unit\": 1}, {\"date\": \"2021-08-28T18:00:00\", \"id_station\": \"PED\", \"id_parameter\": \"O3\", \"value\": 18.0, \"unit\": 1}, {\"date\": \"2021-08-28T19:00:00\", \"id_station\": \"PED\", \"id_parameter\": \"O3\", \"value\": 16.0, \"unit\": 1}, {\"date\": \"2021-08-28T20:00:00\", \"id_station\": \"PED\", \"id_parameter\": \"O3\", \"value\": 11.0, \"unit\": 1}, {\"date\": \"2021-08-28T21:00:00\", \"id_station\": \"PED\", \"id_parameter\": \"O3\", \"value\": 10.0, \"unit\": 1}, {\"date\": \"2021-08-28T22:00:00\", \"id_station\": \"PED\", \"id_parameter\": \"O3\", \"value\": 6.0, \"unit\": 1}, {\"date\": \"2021-08-28T23:00:00\", \"id_station\": \"PED\", \"id_parameter\": \"O3\", \"value\": 1.0, \"unit\": 1}, {\"date\": \"2021-08-28T00:00:00\", \"id_station\": \"PED\", \"id_parameter\": \"O3\", \"value\": 1.0, \"unit\": 1}, {\"date\": \"2021-08-29T01:00:00\", \"id_station\": \"PED\", \"id_parameter\": \"O3\", \"value\": 1.0, \"unit\": 1}, {\"date\": \"2021-08-29T02:00:00\", \"id_station\": \"PED\", \"id_parameter\": \"O3\", \"value\": 1.0, \"unit\": 1}, {\"date\": \"2021-08-29T03:00:00\", \"id_station\": \"PED\", \"id_parameter\": \"O3\", \"value\": 1.0, \"unit\": 1}, {\"date\": \"2021-08-29T04:00:00\", \"id_station\": \"PED\", \"id_parameter\": \"O3\", \"value\": 1.0, \"unit\": 1}, {\"date\": \"2021-08-29T05:00:00\", \"id_station\": \"PED\", \"id_parameter\": \"O3\", \"value\": 1.0, \"unit\": 1}, {\"date\": \"2021-08-29T06:00:00\", \"id_station\": \"PED\", \"id_parameter\": \"O3\", \"value\": 1.0, \"unit\": 1}, {\"date\": \"2021-08-29T07:00:00\", \"id_station\": \"PED\", \"id_parameter\": \"O3\", \"value\": 1.0, \"unit\": 1}, {\"date\": \"2021-08-29T08:00:00\", \"id_station\": \"PED\", \"id_parameter\": \"O3\", \"value\": 3.0, \"unit\": 1}, {\"date\": \"2021-08-29T09:00:00\", \"id_station\": \"PED\", \"id_parameter\": \"O3\", \"value\": 9.0, \"unit\": 1}, {\"date\": \"2021-08-29T10:00:00\", \"id_station\": \"PED\", \"id_parameter\": \"O3\", \"value\": 19.0, \"unit\": 1}, {\"date\": \"2021-08-29T11:00:00\", \"id_station\": \"PED\", \"id_parameter\": \"O3\", \"value\": 32.0, \"unit\": 1}, {\"date\": \"2021-08-29T12:00:00\", \"id_station\": \"PED\", \"id_parameter\": \"O3\", \"value\": 50.0, \"unit\": 1}, {\"date\": \"2021-08-29T13:00:00\", \"id_station\": \"PED\", \"id_parameter\": \"O3\", \"value\": 61.0, \"unit\": 1}, {\"date\": \"2021-08-29T14:00:00\", \"id_station\": \"PED\", \"id_parameter\": \"O3\", \"value\": 33.0, \"unit\": 1}, {\"date\": \"2021-08-29T15:00:00\", \"id_station\": \"PED\", \"id_parameter\": \"O3\", \"value\": 27.0, \"unit\": 1}, {\"date\": \"2021-08-29T16:00:00\", \"id_station\": \"PED\", \"id_parameter\": \"O3\", \"value\": 13.0, \"unit\": 1}, {\"date\": \"2021-08-29T17:00:00\", \"id_station\": \"PED\", \"id_parameter\": \"O3\", \"value\": 11.0, \"unit\": 1}, {\"date\": \"2021-08-29T18:00:00\", \"id_station\": \"PED\", \"id_parameter\": \"O3\", \"value\": 4.0, \"unit\": 1}, {\"date\": \"2021-08-29T19:00:00\", \"id_station\": \"PED\", \"id_parameter\": \"O3\", \"value\": 3.0, \"unit\": 1}, {\"date\": \"2021-08-29T20:00:00\", \"id_station\": \"PED\", \"id_parameter\": \"O3\", \"value\": 3.0, \"unit\": 1}, {\"date\": \"2021-08-29T21:00:00\", \"id_station\": \"PED\", \"id_parameter\": \"O3\", \"value\": 1.0, \"unit\": 1}, {\"date\": \"2021-08-29T22:00:00\", \"id_station\": \"PED\", \"id_parameter\": \"O3\", \"value\": 1.0, \"unit\": 1}, {\"date\": \"2021-08-29T23:00:00\", \"id_station\": \"PED\", \"id_parameter\": \"O3\", \"value\": 0.0, \"unit\": 1}, {\"date\": \"2021-08-29T00:00:00\", \"id_station\": \"PED\", \"id_parameter\": \"O3\", \"value\": 0.0, \"unit\": 1}, {\"date\": \"2021-08-30T01:00:00\", \"id_station\": \"PED\", \"id_parameter\": \"O3\", \"value\": null, \"unit\": 1}, {\"date\": \"2021-08-30T02:00:00\", \"id_station\": \"PED\", \"id_parameter\": \"O3\", \"value\": null, \"unit\": 1}, {\"date\": \"2021-08-30T03:00:00\", \"id_station\": \"PED\", \"id_parameter\": \"O3\", \"value\": null, \"unit\": 1}, {\"date\": \"2021-08-30T04:00:00\", \"id_station\": \"PED\", \"id_parameter\": \"O3\", \"value\": 1.0, \"unit\": 1}, {\"date\": \"2021-08-30T05:00:00\", \"id_station\": \"PED\", \"id_parameter\": \"O3\", \"value\": 3.0, \"unit\": 1}, {\"date\": \"2021-08-30T06:00:00\", \"id_station\": \"PED\", \"id_parameter\": \"O3\", \"value\": 6.0, \"unit\": 1}, {\"date\": \"2021-08-30T07:00:00\", \"id_station\": \"PED\", \"id_parameter\": \"O3\", \"value\": 2.0, \"unit\": 1}, {\"date\": \"2021-08-30T08:00:00\", \"id_station\": \"PED\", \"id_parameter\": \"O3\", \"value\": 2.0, \"unit\": 1}, {\"date\": \"2021-08-30T09:00:00\", \"id_station\": \"PED\", \"id_parameter\": \"O3\", \"value\": 6.0, \"unit\": 1}, {\"date\": \"2021-08-30T10:00:00\", \"id_station\": \"PED\", \"id_parameter\": \"O3\", \"value\": 18.0, \"unit\": 1}, {\"date\": \"2021-08-30T11:00:00\", \"id_station\": \"PED\", \"id_parameter\": \"O3\", \"value\": 31.0, \"unit\": 1}, {\"date\": \"2021-08-30T12:00:00\", \"id_station\": \"PED\", \"id_parameter\": \"O3\", \"value\": 44.0, \"unit\": 1}, {\"date\": \"2021-08-30T13:00:00\", \"id_station\": \"PED\", \"id_parameter\": \"O3\", \"value\": 35.0, \"unit\": 1}, {\"date\": \"2021-08-30T14:00:00\", \"id_station\": \"PED\", \"id_parameter\": \"O3\", \"value\": 15.0, \"unit\": 1}, {\"date\": \"2021-08-30T15:00:00\", \"id_station\": \"PED\", \"id_parameter\": \"O3\", \"value\": 5.0, \"unit\": 1}, {\"date\": \"2021-08-30T16:00:00\", \"id_station\": \"PED\", \"id_parameter\": \"O3\", \"value\": 3.0, \"unit\": 1}, {\"date\": \"2021-08-30T17:00:00\", \"id_station\": \"PED\", \"id_parameter\": \"O3\", \"value\": 3.0, \"unit\": 1}, {\"date\": \"2021-08-30T18:00:00\", \"id_station\": \"PED\", \"id_parameter\": \"O3\", \"value\": 5.0, \"unit\": 1}, {\"date\": \"2021-08-30T19:00:00\", \"id_station\": \"PED\", \"id_parameter\": \"O3\", \"value\": 5.0, \"unit\": 1}, {\"date\": \"2021-08-30T20:00:00\", \"id_station\": \"PED\", \"id_parameter\": \"O3\", \"value\": 6.0, \"unit\": 1}, {\"date\": \"2021-08-30T21:00:00\", \"id_station\": \"PED\", \"id_parameter\": \"O3\", \"value\": 3.0, \"unit\": 1}, {\"date\": \"2021-08-30T22:00:00\", \"id_station\": \"PED\", \"id_parameter\": \"O3\", \"value\": 1.0, \"unit\": 1}, {\"date\": \"2021-08-30T23:00:00\", \"id_station\": \"PED\", \"id_parameter\": \"O3\", \"value\": 1.0, \"unit\": 1}, {\"date\": \"2021-08-30T00:00:00\", \"id_station\": \"PED\", \"id_parameter\": \"O3\", \"value\": 6.0, \"unit\": 1}, {\"date\": \"2021-08-31T01:00:00\", \"id_station\": \"PED\", \"id_parameter\": \"O3\", \"value\": 4.0, \"unit\": 1}, {\"date\": \"2021-08-31T02:00:00\", \"id_station\": \"PED\", \"id_parameter\": \"O3\", \"value\": 7.0, \"unit\": 1}, {\"date\": \"2021-08-31T03:00:00\", \"id_station\": \"PED\", \"id_parameter\": \"O3\", \"value\": 6.0, \"unit\": 1}, {\"date\": \"2021-08-31T04:00:00\", \"id_station\": \"PED\", \"id_parameter\": \"O3\", \"value\": 6.0, \"unit\": 1}, {\"date\": \"2021-08-31T05:00:00\", \"id_station\": \"PED\", \"id_parameter\": \"O3\", \"value\": 5.0, \"unit\": 1}, {\"date\": \"2021-08-31T06:00:00\", \"id_station\": \"PED\", \"id_parameter\": \"O3\", \"value\": 1.0, \"unit\": 1}, {\"date\": \"2021-08-31T07:00:00\", \"id_station\": \"PED\", \"id_parameter\": \"O3\", \"value\": 0.0, \"unit\": 1}, {\"date\": \"2021-08-31T08:00:00\", \"id_station\": \"PED\", \"id_parameter\": \"O3\", \"value\": 2.0, \"unit\": 1}, {\"date\": \"2021-08-31T09:00:00\", \"id_station\": \"PED\", \"id_parameter\": \"O3\", \"value\": 3.0, \"unit\": 1}, {\"date\": \"2021-08-31T10:00:00\", \"id_station\": \"PED\", \"id_parameter\": \"O3\", \"value\": 14.0, \"unit\": 1}, {\"date\": \"2021-08-31T11:00:00\", \"id_station\": \"PED\", \"id_parameter\": \"O3\", \"value\": 30.0, \"unit\": 1}, {\"date\": \"2021-08-31T12:00:00\", \"id_station\": \"PED\", \"id_parameter\": \"O3\", \"value\": 41.0, \"unit\": 1}, {\"date\": \"2021-08-31T13:00:00\", \"id_station\": \"PED\", \"id_parameter\": \"O3\", \"value\": 50.0, \"unit\": 1}, {\"date\": \"2021-08-31T14:00:00\", \"id_station\": \"PED\", \"id_parameter\": \"O3\", \"value\": 59.0, \"unit\": 1}, {\"date\": \"2021-08-31T15:00:00\", \"id_station\": \"PED\", \"id_parameter\": \"O3\", \"value\": 27.0, \"unit\": 1}, {\"date\": \"2021-08-31T16:00:00\", \"id_station\": \"PED\", \"id_parameter\": \"O3\", \"value\": 32.0, \"unit\": 1}, {\"date\": \"2021-08-31T17:00:00\", \"id_station\": \"PED\", \"id_parameter\": \"O3\", \"value\": 23.0, \"unit\": 1}, {\"date\": \"2021-08-31T18:00:00\", \"id_station\": \"PED\", \"id_parameter\": \"O3\", \"value\": 16.0, \"unit\": 1}, {\"date\": \"2021-08-31T19:00:00\", \"id_station\": \"PED\", \"id_parameter\": \"O3\", \"value\": 6.0, \"unit\": 1}, {\"date\": \"2021-08-31T20:00:00\", \"id_station\": \"PED\", \"id_parameter\": \"O3\", \"value\": 13.0, \"unit\": 1}, {\"date\": \"2021-08-31T21:00:00\", \"id_station\": \"PED\", \"id_parameter\": \"O3\", \"value\": 12.0, \"unit\": 1}, {\"date\": \"2021-08-31T22:00:00\", \"id_station\": \"PED\", \"id_parameter\": \"O3\", \"value\": 12.0, \"unit\": 1}, {\"date\": \"2021-08-31T23:00:00\", \"id_station\": \"PED\", \"id_parameter\": \"O3\", \"value\": 9.0, \"unit\": 1}, {\"date\": \"2021-08-31T00:00:00\", \"id_station\": \"PED\", \"id_parameter\": \"O3\", \"value\": 26.0, \"unit\": 1}]}}, {\"mode\": \"vega-lite\"});\n",
              "</script>"
            ]
          },
          "metadata": {},
          "execution_count": 41
        }
      ]
    },
    {
      "cell_type": "markdown",
      "source": [
        "# Scipy\n",
        "\n",
        "Una biblioteca que extiende las funcionalidades de **Numpy** en cosas de cálculo numérico en algunos temas:\n",
        "\n",
        "* Funciones especiales\n",
        "* Integración\n",
        "* Optimización\n",
        "* Estadística\n",
        "* Estructuras de datos\n",
        "* Manejo de imágenes\n"
      ],
      "metadata": {
        "id": "ePZXZVu7il3r"
      }
    },
    {
      "cell_type": "markdown",
      "source": [
        "## Balanceo de ecuaciones \n",
        "\n",
        "En un soplete se quema acetileno ($\\textrm{C}_2\\textrm{H}_2$) entonces la reacción que se lleva a cabo es:\n",
        "$$\n",
        "    \\textrm{C}_2\\textrm{H}_2 + \\textrm{O}_2 \\to \n",
        "        \\textrm{CO}_2 + \\textrm{H}_2\\textrm{O}\n",
        "$$\n",
        "¿Cómo podemos balancear esta ecuación?"
      ],
      "metadata": {
        "id": "qBeO45hXlGhw"
      }
    },
    {
      "cell_type": "code",
      "source": [
        "from scipy import linalg"
      ],
      "metadata": {
        "id": "NAjbNQpjnfpK"
      },
      "execution_count": 42,
      "outputs": []
    },
    {
      "cell_type": "code",
      "source": [
        "import numpy as np"
      ],
      "metadata": {
        "id": "BVQJ8saSvXzw"
      },
      "execution_count": 43,
      "outputs": []
    },
    {
      "cell_type": "code",
      "source": [
        "A = np.array([[1, 0, -3, 0], \n",
        "              [2, 4, -8, 1], \n",
        "              [2, 3, 0, -2], \n",
        "              [0, 1, -2, 0]], dtype='float64')\n",
        "\n",
        "b = np.array([0, 0, 0, 0], dtype='float64')"
      ],
      "metadata": {
        "id": "i6fe2kSMlF1p"
      },
      "execution_count": 55,
      "outputs": []
    },
    {
      "cell_type": "code",
      "source": [
        "?linalg.solve"
      ],
      "metadata": {
        "id": "JWWB3H0WldzE"
      },
      "execution_count": 45,
      "outputs": []
    },
    {
      "cell_type": "code",
      "source": [
        "res = linalg.solve(A, b)"
      ],
      "metadata": {
        "id": "rleUn_4rlyUz"
      },
      "execution_count": 56,
      "outputs": []
    },
    {
      "cell_type": "code",
      "source": [
        "res"
      ],
      "metadata": {
        "id": "M0waMc_yl2tX",
        "outputId": "a8c156c5-d5b5-4b85-86e2-810413af72f3",
        "colab": {
          "base_uri": "https://localhost:8080/"
        }
      },
      "execution_count": 57,
      "outputs": [
        {
          "output_type": "execute_result",
          "data": {
            "text/plain": [
              "array([ 0., -0.,  0., -0.])"
            ]
          },
          "metadata": {},
          "execution_count": 57
        }
      ]
    },
    {
      "cell_type": "markdown",
      "source": [
        "## Modelando las temperaturas de Alaska en el año\n",
        "\n",
        "Tenemos las temperaturas extremas, máximas y mínimas, de cada mes en Alaska.\n",
        "\n",
        "Creemos que podemos modelar la temperatura a lo largo del año usando la formula\n",
        "\n",
        "$$\n",
        "    T(t) = \\alpha + \\omega\\cos\\left(\\frac{2\\pi(t+t_{\\textrm{off}})}{12}\\right)\n",
        "$$"
      ],
      "metadata": {
        "id": "XjcINf07obpM"
      }
    },
    {
      "cell_type": "code",
      "source": [
        "import numpy as np\n",
        "import matplotlib.pyplot as plt\n",
        "\n",
        "temp_max = np.array([17,  19,  21,  28,  33,  38, 37,  37,  31,  23,  19,  18])\n",
        "temp_min = np.array([-62, -59, -56, -46, -32, -18, -9, -13, -25, -46, -52, -58])"
      ],
      "metadata": {
        "id": "KpLs88aKrkbO"
      },
      "execution_count": 59,
      "outputs": []
    },
    {
      "cell_type": "code",
      "source": [
        "months = np.arange(1, 13)\n",
        "plt.plot(months, temp_max, 'o')\n",
        "plt.plot(months, temp_min, 'o')"
      ],
      "metadata": {
        "id": "IgT-rSkbpk5v",
        "outputId": "11318df9-9274-4240-db9c-e3f5e44ab976",
        "colab": {
          "base_uri": "https://localhost:8080/",
          "height": 283
        }
      },
      "execution_count": 61,
      "outputs": [
        {
          "output_type": "execute_result",
          "data": {
            "text/plain": [
              "[<matplotlib.lines.Line2D at 0x7f5695ba6a50>]"
            ]
          },
          "metadata": {},
          "execution_count": 61
        },
        {
          "output_type": "display_data",
          "data": {
            "image/png": "[encoded data removed]",
            "text/plain": [
              "<Figure size 432x288 with 1 Axes>"
            ]
          },
          "metadata": {
            "needs_background": "light"
          }
        }
      ]
    },
    {
      "cell_type": "code",
      "source": [
        "from scipy import optimize"
      ],
      "metadata": {
        "id": "3iVvCyiqr3cY"
      },
      "execution_count": 62,
      "outputs": []
    },
    {
      "cell_type": "code",
      "source": [
        "def year_temp(month, alpha, omega, time_off):\n",
        "    return (alpha + omega*(np.cos((month+time_off)*2*np.pi/12)))"
      ],
      "metadata": {
        "id": "yflgc-fivnKV"
      },
      "execution_count": 63,
      "outputs": []
    },
    {
      "cell_type": "code",
      "source": [
        "?optimize.curve_fit"
      ],
      "metadata": {
        "id": "547DRyIqqgOd"
      },
      "execution_count": 64,
      "outputs": []
    },
    {
      "cell_type": "code",
      "source": [
        "max_params, max_cov = optimize.curve_fit(year_temp, months, temp_max)\n",
        "min_params, min_cov = optimize.curve_fit(year_temp, months, temp_min)"
      ],
      "metadata": {
        "id": "qoQZS7pTqyac"
      },
      "execution_count": 70,
      "outputs": []
    },
    {
      "cell_type": "code",
      "source": [
        ""
      ],
      "metadata": {
        "id": "IUkZ729or8Kf"
      },
      "execution_count": null,
      "outputs": []
    },
    {
      "cell_type": "code",
      "source": [
        "max_params"
      ],
      "metadata": {
        "id": "w5c_dFGGq_pq",
        "outputId": "2ec21b4e-da50-4d46-e585-cdcb4e6ee9f2",
        "colab": {
          "base_uri": "https://localhost:8080/"
        }
      },
      "execution_count": 66,
      "outputs": [
        {
          "output_type": "execute_result",
          "data": {
            "text/plain": [
              "array([26.75      , 10.93254953, 17.27651995])"
            ]
          },
          "metadata": {},
          "execution_count": 66
        }
      ]
    },
    {
      "cell_type": "code",
      "source": [
        "plt.plot(months, temp_max, 'o')\n",
        "plt.plot(months, year_temp(months, *max_params))\n",
        "plt.plot(months, temp_min, 'o')\n",
        "plt.plot(months, year_temp(months, *min_params))"
      ],
      "metadata": {
        "id": "WwLPQK8nrD_v",
        "outputId": "3d8d0cca-40bc-4e35-af68-a472c116bcd7",
        "colab": {
          "base_uri": "https://localhost:8080/",
          "height": 283
        }
      },
      "execution_count": 71,
      "outputs": [
        {
          "output_type": "execute_result",
          "data": {
            "text/plain": [
              "[<matplotlib.lines.Line2D at 0x7f56917bdd90>]"
            ]
          },
          "metadata": {},
          "execution_count": 71
        },
        {
          "output_type": "display_data",
          "data": {
            "image/png": "[encoded data removed]",
            "text/plain": [
              "<Figure size 432x288 with 1 Axes>"
            ]
          },
          "metadata": {
            "needs_background": "light"
          }
        }
      ]
    },
    {
      "cell_type": "code",
      "source": [
        "min_params"
      ],
      "metadata": {
        "id": "A-YXZBKjr2WC",
        "outputId": "991b9289-0b05-4cea-c016-a2da5791e01f",
        "colab": {
          "base_uri": "https://localhost:8080/"
        }
      },
      "execution_count": 72,
      "outputs": [
        {
          "output_type": "execute_result",
          "data": {
            "text/plain": [
              "array([-39.66666667, -25.58169521,  46.84396351])"
            ]
          },
          "metadata": {},
          "execution_count": 72
        }
      ]
    },
    {
      "cell_type": "code",
      "source": [
        ""
      ],
      "metadata": {
        "id": "0mK9qB3UrYCO"
      },
      "execution_count": null,
      "outputs": []
    },
    {
      "cell_type": "markdown",
      "source": [
        "Además se tiene las funciones:\n",
        "\n",
        "* `optimize.root`\n",
        "* `optimize.minimize`"
      ],
      "metadata": {
        "id": "zseImJxSwPbA"
      }
    },
    {
      "cell_type": "code",
      "source": [
        ""
      ],
      "metadata": {
        "id": "YZ8oEKoQxAKo"
      },
      "execution_count": null,
      "outputs": []
    },
    {
      "cell_type": "markdown",
      "source": [
        "## Observando como crece una población\n",
        "\n",
        "Verhulst en el siglo XIX propuso un modelo para ver la dinámica del crecimiento poblacional. El modelo lo podemos escribir de la siguiente manera\n",
        "\n",
        "$$\n",
        "\\frac{\\textrm{d}P}{\\textrm{d}t} = r P \\left(1-\\frac{P}{K}\\right) \n",
        "$$"
      ],
      "metadata": {
        "id": "rAL8EBzrwlT6"
      }
    },
    {
      "cell_type": "code",
      "source": [
        "from scipy import integrate"
      ],
      "metadata": {
        "id": "EpPBjkdczr-4"
      },
      "execution_count": 73,
      "outputs": []
    },
    {
      "cell_type": "code",
      "source": [
        "def logistic_model(pop, time):\n",
        "    return 0.5*pop*(1-pop/10)"
      ],
      "metadata": {
        "id": "T0tSTQYMu_0U"
      },
      "execution_count": 74,
      "outputs": []
    },
    {
      "cell_type": "code",
      "source": [
        "times = np.linspace(0, 20, num=100)\n",
        "P = integrate.odeint(logistic_model, 2, times)"
      ],
      "metadata": {
        "id": "87n2fUzevLn5"
      },
      "execution_count": 75,
      "outputs": []
    },
    {
      "cell_type": "code",
      "source": [
        "print(P)"
      ],
      "metadata": {
        "id": "_eS3kf0lvbUt",
        "outputId": "ef19c3a4-19dd-4662-d643-757da05a659b",
        "colab": {
          "base_uri": "https://localhost:8080/"
        }
      },
      "execution_count": 76,
      "outputs": [
        {
          "output_type": "stream",
          "name": "stdout",
          "text": [
            "[[2.        ]\n",
            " [2.16652067]\n",
            " [2.3428456 ]\n",
            " [2.52888819]\n",
            " [2.72444775]\n",
            " [2.92920088]\n",
            " [3.14269511]\n",
            " [3.36434601]\n",
            " [3.59343765]\n",
            " [3.82912717]\n",
            " [4.07045348]\n",
            " [4.31635065]\n",
            " [4.56566462]\n",
            " [4.81717395]\n",
            " [5.06961315]\n",
            " [5.32169788]\n",
            " [5.57215101]\n",
            " [5.81972834]\n",
            " [6.06324286]\n",
            " [6.30158669]\n",
            " [6.53374986]\n",
            " [6.75883515]\n",
            " [6.97606888]\n",
            " [7.1848073 ]\n",
            " [7.38453894]\n",
            " [7.57488311]\n",
            " [7.75558497]\n",
            " [7.92650792]\n",
            " [8.08762391]\n",
            " [8.23900206]\n",
            " [8.38079658]\n",
            " [8.51323419]\n",
            " [8.6366017 ]\n",
            " [8.75123411]\n",
            " [8.85750338]\n",
            " [8.95580826]\n",
            " [9.04656509]\n",
            " [9.13019983]\n",
            " [9.20714115]\n",
            " [9.27781472]\n",
            " [9.34263838]\n",
            " [9.40201848]\n",
            " [9.45634683]\n",
            " [9.50599864]\n",
            " [9.5513309 ]\n",
            " [9.59268148]\n",
            " [9.63036855]\n",
            " [9.66469053]\n",
            " [9.69592617]\n",
            " [9.72433506]\n",
            " [9.75015817]\n",
            " [9.7736186 ]\n",
            " [9.7949224 ]\n",
            " [9.81425949]\n",
            " [9.83180456]\n",
            " [9.84771804]\n",
            " [9.86214701]\n",
            " [9.87522613]\n",
            " [9.88707855]\n",
            " [9.89781674]\n",
            " [9.90754334]\n",
            " [9.91635192]\n",
            " [9.92432769]\n",
            " [9.93154822]\n",
            " [9.93808408]\n",
            " [9.94399941]\n",
            " [9.94935248]\n",
            " [9.95419621]\n",
            " [9.95857863]\n",
            " [9.96254333]\n",
            " [9.96612983]\n",
            " [9.96937398]\n",
            " [9.97230826]\n",
            " [9.97496212]\n",
            " [9.97736222]\n",
            " [9.97953272]\n",
            " [9.9814955 ]\n",
            " [9.98327037]\n",
            " [9.98487526]\n",
            " [9.9863264 ]\n",
            " [9.98763848]\n",
            " [9.98882481]\n",
            " [9.98989739]\n",
            " [9.99086713]\n",
            " [9.99174386]\n",
            " [9.99253648]\n",
            " [9.99325306]\n",
            " [9.99390089]\n",
            " [9.99448654]\n",
            " [9.99501599]\n",
            " [9.99549462]\n",
            " [9.99592731]\n",
            " [9.99631845]\n",
            " [9.99667204]\n",
            " [9.99699168]\n",
            " [9.99728063]\n",
            " [9.99754184]\n",
            " [9.99777795]\n",
            " [9.9979914 ]\n",
            " [9.99818434]]\n"
          ]
        }
      ]
    },
    {
      "cell_type": "code",
      "source": [
        "plt.plot(times, P)"
      ],
      "metadata": {
        "id": "jb0V2ne8vdx8",
        "outputId": "01e8e4ba-d494-4c52-92a4-9bb7ce53e717",
        "colab": {
          "base_uri": "https://localhost:8080/",
          "height": 283
        }
      },
      "execution_count": 78,
      "outputs": [
        {
          "output_type": "execute_result",
          "data": {
            "text/plain": [
              "[<matplotlib.lines.Line2D at 0x7f5690b60c50>]"
            ]
          },
          "metadata": {},
          "execution_count": 78
        },
        {
          "output_type": "display_data",
          "data": {
            "image/png": "[encoded data removed]",
            "text/plain": [
              "<Figure size 432x288 with 1 Axes>"
            ]
          },
          "metadata": {
            "needs_background": "light"
          }
        }
      ]
    },
    {
      "cell_type": "code",
      "source": [
        ""
      ],
      "metadata": {
        "id": "eO4SSgOhvkba"
      },
      "execution_count": null,
      "outputs": []
    },
    {
      "cell_type": "code",
      "source": [
        ""
      ],
      "metadata": {
        "id": "CeX8lvqcvjbI"
      },
      "execution_count": null,
      "outputs": []
    },
    {
      "cell_type": "markdown",
      "source": [
        "Algunas otras funciones interesantes:\n",
        "\n",
        "* `integrate.quad`\n",
        "* `integrate.dblquad`\n",
        "* `integrate.tplquad`\n",
        "* `integrate.trapezoid`"
      ],
      "metadata": {
        "id": "exc7WlpJ0Ydd"
      }
    },
    {
      "cell_type": "code",
      "source": [
        ""
      ],
      "metadata": {
        "id": "8t0gfVR-sx2D"
      },
      "execution_count": null,
      "outputs": []
    },
    {
      "cell_type": "code",
      "source": [
        ""
      ],
      "metadata": {
        "id": "SLgRQzfa3Ioc"
      },
      "execution_count": null,
      "outputs": []
    }
  ]
}