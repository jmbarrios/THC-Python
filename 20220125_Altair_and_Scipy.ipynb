{
  "nbformat": 4,
  "nbformat_minor": 0,
  "metadata": {
    "colab": {
      "name": "20220124-Altair-and-Scipy.ipynb",
      "provenance": [],
      "authorship_tag": "ABX9TyM9hNQnIAhWzyrZsz0hEmYs"
    },
    "kernelspec": {
      "name": "python3",
      "display_name": "Python 3"
    },
    "language_info": {
      "name": "python"
    }
  },
  "cells": [
    {
      "cell_type": "markdown",
      "source": [
        "# Conociendo un poco el comportamiento del Ozono ($0_3$)"
      ],
      "metadata": {
        "id": "rZbwDyr-ft62"
      }
    },
    {
      "cell_type": "code",
      "source": [
        "import pandas as pd\n",
        "import altair as alt"
      ],
      "metadata": {
        "id": "R4kJ9CHWgCe2"
      },
      "execution_count": null,
      "outputs": []
    },
    {
      "cell_type": "code",
      "source": [
        "# Cargar los datos\n",
        "data = pd.read_csv(\n",
        "    'http://www.aire.cdmx.gob.mx/opendata/anuales_horarios_gz/contaminantes_2021.csv.gz', \n",
        "    skiprows=10\n",
        ")"
      ],
      "metadata": {
        "id": "R8ptT4ibgbC0"
      },
      "execution_count": null,
      "outputs": []
    },
    {
      "cell_type": "code",
      "source": [
        "data.head(15)"
      ],
      "metadata": {
        "id": "l2LJ_clugj4O"
      },
      "execution_count": null,
      "outputs": []
    },
    {
      "cell_type": "code",
      "source": [
        "d = data['date']\n",
        "pd.to_datetime(d, format='%d/%m/%Y %H:%M')"
      ],
      "metadata": {
        "id": "1YPM4UtkgofH"
      },
      "execution_count": null,
      "outputs": []
    },
    {
      "cell_type": "code",
      "source": [
        "def fix_24hr(dt):\n",
        "    dt_fix = dt[:-5] + '00' + dt[-3:]\n",
        "    return dt_fix"
      ],
      "metadata": {
        "id": "-FkKfTGzha6k"
      },
      "execution_count": null,
      "outputs": []
    },
    {
      "cell_type": "code",
      "source": [
        "data['date'] = pd.to_datetime(\n",
        "    d.where(~d.str.contains('24:00'), lambda x: x.apply(fix_24hr)), \n",
        "    format='%d/%m/%Y %H:%M')"
      ],
      "metadata": {
        "id": "ZNiG3IlihlD1"
      },
      "execution_count": null,
      "outputs": []
    },
    {
      "cell_type": "code",
      "source": [
        "data.head(15)"
      ],
      "metadata": {
        "id": "mYITp7kkhpch"
      },
      "execution_count": null,
      "outputs": []
    },
    {
      "cell_type": "code",
      "source": [
        "chart = alt.Chart(data[\n",
        "                       (data['id_parameter'] == 'O3') & \n",
        "                       (data['date'].dt.month == 3) &\n",
        "                       (data['id_station'] == 'PED')\n",
        "                       ])"
      ],
      "metadata": {
        "id": "lrkCjkd1iAJI"
      },
      "execution_count": null,
      "outputs": []
    },
    {
      "cell_type": "code",
      "source": [
        ""
      ],
      "metadata": {
        "id": "GIO738lZiatY"
      },
      "execution_count": null,
      "outputs": []
    },
    {
      "cell_type": "markdown",
      "source": [
        "# Scipy\n",
        "\n",
        "Una biblioteca que extiende las funcionalidades de **Numpy** en cosas de cálculo numérico en algunos temas:\n",
        "\n",
        "* Funciones especiales\n",
        "* Integración\n",
        "* Optimización\n",
        "* Estadística\n",
        "* Estructuras de datos\n",
        "* Manejo de imágenes\n"
      ],
      "metadata": {
        "id": "ePZXZVu7il3r"
      }
    },
    {
      "cell_type": "markdown",
      "source": [
        "## Balanceo de ecuaciones \n",
        "\n",
        "En un soplete se quema acetileno ($\\textrm{C}_2\\textrm{H}_2$) entonces la reacción que se lleva a cabo es:\n",
        "$$\n",
        "    \\textrm{C}_2\\textrm{H}_2 + \\textrm{O}_2 \\to \n",
        "        \\textrm{CO}_2 + \\textrm{H}_2\\textrm{O}\n",
        "$$\n",
        "¿Cómo podemos balancear esta ecuación?"
      ],
      "metadata": {
        "id": "qBeO45hXlGhw"
      }
    },
    {
      "cell_type": "code",
      "source": [
        "from scipy import linalg"
      ],
      "metadata": {
        "id": "NAjbNQpjnfpK"
      },
      "execution_count": null,
      "outputs": []
    },
    {
      "cell_type": "code",
      "source": [
        ""
      ],
      "metadata": {
        "id": "BVQJ8saSvXzw"
      },
      "execution_count": null,
      "outputs": []
    },
    {
      "cell_type": "markdown",
      "source": [
        "## Modelando las temperaturas de Alaska en el año\n",
        "\n",
        "Tenemos las temperaturas extremas, máximas y mínimas, de cada mes en Alaska.\n",
        "\n",
        "Creemos que podemos modelar la temperatura a lo largo del año usando la formula\n",
        "\n",
        "$$\n",
        "    T(t) = \\alpha + \\omega\\cos\\left(\\frac{2\\pi(t+t_{\\textrm{off}})}{12}\\right)\n",
        "$$"
      ],
      "metadata": {
        "id": "XjcINf07obpM"
      }
    },
    {
      "cell_type": "code",
      "source": [
        "import numpy as np\n",
        "import matplotlib.pyplot as plt\n",
        "\n",
        "temp_max = np.array([17,  19,  21,  28,  33,  38, 37,  37,  31,  23,  19,  18])\n",
        "temp_min = np.array([-62, -59, -56, -46, -32, -18, -9, -13, -25, -46, -52, -58])"
      ],
      "metadata": {
        "id": "KpLs88aKrkbO"
      },
      "execution_count": null,
      "outputs": []
    },
    {
      "cell_type": "code",
      "source": [
        "from scipy import optimize"
      ],
      "metadata": {
        "id": "3iVvCyiqr3cY"
      },
      "execution_count": null,
      "outputs": []
    },
    {
      "cell_type": "code",
      "source": [
        ""
      ],
      "metadata": {
        "id": "yflgc-fivnKV"
      },
      "execution_count": null,
      "outputs": []
    },
    {
      "cell_type": "markdown",
      "source": [
        "Además se tiene las funciones:\n",
        "\n",
        "* `optimize.root`\n",
        "* `optimize.minimize`"
      ],
      "metadata": {
        "id": "zseImJxSwPbA"
      }
    },
    {
      "cell_type": "code",
      "source": [
        ""
      ],
      "metadata": {
        "id": "YZ8oEKoQxAKo"
      },
      "execution_count": null,
      "outputs": []
    },
    {
      "cell_type": "markdown",
      "source": [
        "## Observando como crece una población\n",
        "\n",
        "Verhulst en el siglo XIX propuso un modelo para ver la dinámica del crecimiento poblacional. El modelo lo podemos escribir de la siguiente manera\n",
        "\n",
        "$$\n",
        "\\frac{\\textrm{d}P}{\\textrm{d}t} = r P \\left(1-\\frac{P}{K}\\right) \n",
        "$$"
      ],
      "metadata": {
        "id": "rAL8EBzrwlT6"
      }
    },
    {
      "cell_type": "code",
      "source": [
        "from scipy import integrate\n"
      ],
      "metadata": {
        "id": "EpPBjkdczr-4"
      },
      "execution_count": null,
      "outputs": []
    },
    {
      "cell_type": "markdown",
      "source": [
        "Algunas otras funciones interesantes:\n",
        "\n",
        "* `integrate.quad`\n",
        "* `integrate.dblquad`\n",
        "* `integrate.tplquad`\n",
        "* `integrate.trapezoid`"
      ],
      "metadata": {
        "id": "exc7WlpJ0Ydd"
      }
    },
    {
      "cell_type": "code",
      "source": [
        ""
      ],
      "metadata": {
        "id": "SLgRQzfa3Ioc"
      },
      "execution_count": null,
      "outputs": []
    }
  ]
}