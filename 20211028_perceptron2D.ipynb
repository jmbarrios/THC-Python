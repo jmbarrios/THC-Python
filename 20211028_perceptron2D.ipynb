{
  "nbformat": 4,
  "nbformat_minor": 0,
  "metadata": {
    "colab": {
      "name": "20211028-perceptron2D.ipynb",
      "provenance": [],
      "authorship_tag": "ABX9TyOnMSOJHedyl5yOAyPSBClU",
      "include_colab_link": true
    },
    "kernelspec": {
      "name": "python3",
      "display_name": "Python 3"
    },
    "language_info": {
      "name": "python"
    }
  },
  "cells": [
    {
      "cell_type": "markdown",
      "metadata": {
        "id": "view-in-github",
        "colab_type": "text"
      },
      "source": [
        "<a href=\"https://colab.research.google.com/github/jmbarrios/THC-Python/blob/main/20211028_perceptron2D.ipynb\" target=\"_parent\"><img src=\"https://colab.research.google.com/assets/colab-badge.svg\" alt=\"Open In Colab\"/></a>"
      ]
    },
    {
      "cell_type": "markdown",
      "metadata": {
        "id": "blekocBhA9f3"
      },
      "source": [
        "# Bibliotecas"
      ]
    },
    {
      "cell_type": "code",
      "metadata": {
        "id": "OIrRH9f1BPNA"
      },
      "source": [
        "!pip install rich"
      ],
      "execution_count": null,
      "outputs": []
    },
    {
      "cell_type": "code",
      "metadata": {
        "id": "VnIawIncBewn"
      },
      "source": [
        "from rich import (print,\n",
        "                  inspect)\n",
        "import pickle"
      ],
      "execution_count": null,
      "outputs": []
    },
    {
      "cell_type": "markdown",
      "metadata": {
        "id": "gJ9aDFNlBrxn"
      },
      "source": [
        "# Implementando el perceptron en 2D"
      ]
    },
    {
      "cell_type": "markdown",
      "metadata": {
        "id": "2WUB0zg9B0X_"
      },
      "source": [
        "## Importando los datos"
      ]
    },
    {
      "cell_type": "code",
      "metadata": {
        "id": "MrdZSVB4B_N2"
      },
      "source": [
        "from google.colab import drive\n",
        "drive.mount('/gdrive')"
      ],
      "execution_count": null,
      "outputs": []
    },
    {
      "cell_type": "code",
      "metadata": {
        "id": "afznmrAaCDZi"
      },
      "source": [
        "with open('/gdrive/My Drive/ColabData/penguin_data.pkl', 'rb') as f:\n",
        "    my_data = pickle.load(f)"
      ],
      "execution_count": null,
      "outputs": []
    },
    {
      "cell_type": "markdown",
      "metadata": {
        "id": "6TF9mFINCOlM"
      },
      "source": [
        "## Preparando los datos"
      ]
    },
    {
      "cell_type": "code",
      "metadata": {
        "id": "Npm70hsbDI5u"
      },
      "source": [
        ""
      ],
      "execution_count": null,
      "outputs": []
    },
    {
      "cell_type": "markdown",
      "metadata": {
        "id": "rHuV6h5bCkmr"
      },
      "source": [
        "## Algoritmo del perceptron"
      ]
    },
    {
      "cell_type": "code",
      "metadata": {
        "id": "hxkDooczDJWS"
      },
      "source": [
        ""
      ],
      "execution_count": null,
      "outputs": []
    }
  ]
}