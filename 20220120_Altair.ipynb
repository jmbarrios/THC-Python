{
  "nbformat": 4,
  "nbformat_minor": 0,
  "metadata": {
    "colab": {
      "name": "20220120-Altair.ipynb",
      "provenance": [],
      "authorship_tag": "ABX9TyNNevSNKF1LujB81SzFx2AG",
      "include_colab_link": true
    },
    "kernelspec": {
      "name": "python3",
      "display_name": "Python 3"
    },
    "language_info": {
      "name": "python"
    }
  },
  "cells": [
    {
      "cell_type": "markdown",
      "metadata": {
        "id": "view-in-github",
        "colab_type": "text"
      },
      "source": [
        "<a href=\"https://colab.research.google.com/github/jmbarrios/THC-Python/blob/main/20220120_Altair.ipynb\" target=\"_parent\"><img src=\"https://colab.research.google.com/assets/colab-badge.svg\" alt=\"Open In Colab\"/></a>"
      ]
    },
    {
      "cell_type": "code",
      "execution_count": 1,
      "metadata": {
        "id": "WJVzQdWjkHCr"
      },
      "outputs": [],
      "source": [
        "import pandas as pd\n",
        "import altair as alt"
      ]
    },
    {
      "cell_type": "code",
      "source": [
        "penguin_data = pd.read_csv('https://raw.githubusercontent.com/mwaskom/seaborn-data/master/penguins.csv')"
      ],
      "metadata": {
        "id": "PhbX6NddpHW6"
      },
      "execution_count": 2,
      "outputs": []
    },
    {
      "cell_type": "code",
      "source": [
        "penguin_data.head()"
      ],
      "metadata": {
        "colab": {
          "base_uri": "https://localhost:8080/",
          "height": 206
        },
        "id": "6aa4nstFpZhU",
        "outputId": "8c8c1b14-4fd2-4dbb-957e-b710c1181fb7"
      },
      "execution_count": 3,
      "outputs": [
        {
          "output_type": "execute_result",
          "data": {
            "text/html": [
              "\n",
              "  <div id=\"df-2e6f1f51-1329-45ca-9bc8-8c32cde5582e\">\n",
              "    <div class=\"colab-df-container\">\n",
              "      <div>\n",
              "<style scoped>\n",
              "    .dataframe tbody tr th:only-of-type {\n",
              "        vertical-align: middle;\n",
              "    }\n",
              "\n",
              "    .dataframe tbody tr th {\n",
              "        vertical-align: top;\n",
              "    }\n",
              "\n",
              "    .dataframe thead th {\n",
              "        text-align: right;\n",
              "    }\n",
              "</style>\n",
              "<table border=\"1\" class=\"dataframe\">\n",
              "  <thead>\n",
              "    <tr style=\"text-align: right;\">\n",
              "      <th></th>\n",
              "      <th>species</th>\n",
              "      <th>island</th>\n",
              "      <th>bill_length_mm</th>\n",
              "      <th>bill_depth_mm</th>\n",
              "      <th>flipper_length_mm</th>\n",
              "      <th>body_mass_g</th>\n",
              "      <th>sex</th>\n",
              "    </tr>\n",
              "  </thead>\n",
              "  <tbody>\n",
              "    <tr>\n",
              "      <th>0</th>\n",
              "      <td>Adelie</td>\n",
              "      <td>Torgersen</td>\n",
              "      <td>39.1</td>\n",
              "      <td>18.7</td>\n",
              "      <td>181.0</td>\n",
              "      <td>3750.0</td>\n",
              "      <td>MALE</td>\n",
              "    </tr>\n",
              "    <tr>\n",
              "      <th>1</th>\n",
              "      <td>Adelie</td>\n",
              "      <td>Torgersen</td>\n",
              "      <td>39.5</td>\n",
              "      <td>17.4</td>\n",
              "      <td>186.0</td>\n",
              "      <td>3800.0</td>\n",
              "      <td>FEMALE</td>\n",
              "    </tr>\n",
              "    <tr>\n",
              "      <th>2</th>\n",
              "      <td>Adelie</td>\n",
              "      <td>Torgersen</td>\n",
              "      <td>40.3</td>\n",
              "      <td>18.0</td>\n",
              "      <td>195.0</td>\n",
              "      <td>3250.0</td>\n",
              "      <td>FEMALE</td>\n",
              "    </tr>\n",
              "    <tr>\n",
              "      <th>3</th>\n",
              "      <td>Adelie</td>\n",
              "      <td>Torgersen</td>\n",
              "      <td>NaN</td>\n",
              "      <td>NaN</td>\n",
              "      <td>NaN</td>\n",
              "      <td>NaN</td>\n",
              "      <td>NaN</td>\n",
              "    </tr>\n",
              "    <tr>\n",
              "      <th>4</th>\n",
              "      <td>Adelie</td>\n",
              "      <td>Torgersen</td>\n",
              "      <td>36.7</td>\n",
              "      <td>19.3</td>\n",
              "      <td>193.0</td>\n",
              "      <td>3450.0</td>\n",
              "      <td>FEMALE</td>\n",
              "    </tr>\n",
              "  </tbody>\n",
              "</table>\n",
              "</div>\n",
              "      <button class=\"colab-df-convert\" onclick=\"convertToInteractive('df-2e6f1f51-1329-45ca-9bc8-8c32cde5582e')\"\n",
              "              title=\"Convert this dataframe to an interactive table.\"\n",
              "              style=\"display:none;\">\n",
              "        \n",
              "  <svg xmlns=\"http://www.w3.org/2000/svg\" height=\"24px\"viewBox=\"0 0 24 24\"\n",
              "       width=\"24px\">\n",
              "    <path d=\"M0 0h24v24H0V0z\" fill=\"none\"/>\n",
              "    <path d=\"M18.56 5.44l.94 2.06.94-2.06 2.06-.94-2.06-.94-.94-2.06-.94 2.06-2.06.94zm-11 1L8.5 8.5l.94-2.06 2.06-.94-2.06-.94L8.5 2.5l-.94 2.06-2.06.94zm10 10l.94 2.06.94-2.06 2.06-.94-2.06-.94-.94-2.06-.94 2.06-2.06.94z\"/><path d=\"M17.41 7.96l-1.37-1.37c-.4-.4-.92-.59-1.43-.59-.52 0-1.04.2-1.43.59L10.3 9.45l-7.72 7.72c-.78.78-.78 2.05 0 2.83L4 21.41c.39.39.9.59 1.41.59.51 0 1.02-.2 1.41-.59l7.78-7.78 2.81-2.81c.8-.78.8-2.07 0-2.86zM5.41 20L4 18.59l7.72-7.72 1.47 1.35L5.41 20z\"/>\n",
              "  </svg>\n",
              "      </button>\n",
              "      \n",
              "  <style>\n",
              "    .colab-df-container {\n",
              "      display:flex;\n",
              "      flex-wrap:wrap;\n",
              "      gap: 12px;\n",
              "    }\n",
              "\n",
              "    .colab-df-convert {\n",
              "      background-color: #E8F0FE;\n",
              "      border: none;\n",
              "      border-radius: 50%;\n",
              "      cursor: pointer;\n",
              "      display: none;\n",
              "      fill: #1967D2;\n",
              "      height: 32px;\n",
              "      padding: 0 0 0 0;\n",
              "      width: 32px;\n",
              "    }\n",
              "\n",
              "    .colab-df-convert:hover {\n",
              "      background-color: #E2EBFA;\n",
              "      box-shadow: 0px 1px 2px rgba(60, 64, 67, 0.3), 0px 1px 3px 1px rgba(60, 64, 67, 0.15);\n",
              "      fill: #174EA6;\n",
              "    }\n",
              "\n",
              "    [theme=dark] .colab-df-convert {\n",
              "      background-color: #3B4455;\n",
              "      fill: #D2E3FC;\n",
              "    }\n",
              "\n",
              "    [theme=dark] .colab-df-convert:hover {\n",
              "      background-color: #434B5C;\n",
              "      box-shadow: 0px 1px 3px 1px rgba(0, 0, 0, 0.15);\n",
              "      filter: drop-shadow(0px 1px 2px rgba(0, 0, 0, 0.3));\n",
              "      fill: #FFFFFF;\n",
              "    }\n",
              "  </style>\n",
              "\n",
              "      <script>\n",
              "        const buttonEl =\n",
              "          document.querySelector('#df-2e6f1f51-1329-45ca-9bc8-8c32cde5582e button.colab-df-convert');\n",
              "        buttonEl.style.display =\n",
              "          google.colab.kernel.accessAllowed ? 'block' : 'none';\n",
              "\n",
              "        async function convertToInteractive(key) {\n",
              "          const element = document.querySelector('#df-2e6f1f51-1329-45ca-9bc8-8c32cde5582e');\n",
              "          const dataTable =\n",
              "            await google.colab.kernel.invokeFunction('convertToInteractive',\n",
              "                                                     [key], {});\n",
              "          if (!dataTable) return;\n",
              "\n",
              "          const docLinkHtml = 'Like what you see? Visit the ' +\n",
              "            '<a target=\"_blank\" href=https://colab.research.google.com/notebooks/data_table.ipynb>data table notebook</a>'\n",
              "            + ' to learn more about interactive tables.';\n",
              "          element.innerHTML = '';\n",
              "          dataTable['output_type'] = 'display_data';\n",
              "          await google.colab.output.renderOutput(dataTable, element);\n",
              "          const docLink = document.createElement('div');\n",
              "          docLink.innerHTML = docLinkHtml;\n",
              "          element.appendChild(docLink);\n",
              "        }\n",
              "      </script>\n",
              "    </div>\n",
              "  </div>\n",
              "  "
            ],
            "text/plain": [
              "  species     island  bill_length_mm  ...  flipper_length_mm  body_mass_g     sex\n",
              "0  Adelie  Torgersen            39.1  ...              181.0       3750.0    MALE\n",
              "1  Adelie  Torgersen            39.5  ...              186.0       3800.0  FEMALE\n",
              "2  Adelie  Torgersen            40.3  ...              195.0       3250.0  FEMALE\n",
              "3  Adelie  Torgersen             NaN  ...                NaN          NaN     NaN\n",
              "4  Adelie  Torgersen            36.7  ...              193.0       3450.0  FEMALE\n",
              "\n",
              "[5 rows x 7 columns]"
            ]
          },
          "metadata": {},
          "execution_count": 3
        }
      ]
    },
    {
      "cell_type": "code",
      "source": [
        "chart = alt.Chart(data=penguin_data)"
      ],
      "metadata": {
        "id": "bUnMSI7IpcyI"
      },
      "execution_count": 4,
      "outputs": []
    },
    {
      "cell_type": "code",
      "source": [
        "chart.mark_circle().encode(\n",
        "    x = 'bill_length_mm',\n",
        "    y = 'bill_depth_mm',\n",
        "    color = 'species'\n",
        ")"
      ],
      "metadata": {
        "colab": {
          "base_uri": "https://localhost:8080/",
          "height": 368
        },
        "id": "3u7DVNCXqRJj",
        "outputId": "34fbae4a-6611-4925-96da-b5b6a6e8f7f8"
      },
      "execution_count": 7,
      "outputs": [
        {
          "output_type": "execute_result",
          "data": {
            "text/plain": [
              "alt.Chart(...)"
            ],
            "text/html": [
              "\n",
              "<div id=\"altair-viz-3adaf696e1d94da58b5460c06e440496\"></div>\n",
              "<script type=\"text/javascript\">\n",
              "  var VEGA_DEBUG = (typeof VEGA_DEBUG == \"undefined\") ? {} : VEGA_DEBUG;\n",
              "  (function(spec, embedOpt){\n",
              "    let outputDiv = document.currentScript.previousElementSibling;\n",
              "    if (outputDiv.id !== \"altair-viz-3adaf696e1d94da58b5460c06e440496\") {\n",
              "      outputDiv = document.getElementById(\"altair-viz-3adaf696e1d94da58b5460c06e440496\");\n",
              "    }\n",
              "    const paths = {\n",
              "      \"vega\": \"https://cdn.jsdelivr.net/npm//vega@5?noext\",\n",
              "      \"vega-lib\": \"https://cdn.jsdelivr.net/npm//vega-lib?noext\",\n",
              "      \"vega-lite\": \"https://cdn.jsdelivr.net/npm//vega-lite@4.17.0?noext\",\n",
              "      \"vega-embed\": \"https://cdn.jsdelivr.net/npm//vega-embed@6?noext\",\n",
              "    };\n",
              "\n",
              "    function maybeLoadScript(lib, version) {\n",
              "      var key = `${lib.replace(\"-\", \"\")}_version`;\n",
              "      return (VEGA_DEBUG[key] == version) ?\n",
              "        Promise.resolve(paths[lib]) :\n",
              "        new Promise(function(resolve, reject) {\n",
              "          var s = document.createElement('script');\n",
              "          document.getElementsByTagName(\"head\")[0].appendChild(s);\n",
              "          s.async = true;\n",
              "          s.onload = () => {\n",
              "            VEGA_DEBUG[key] = version;\n",
              "            return resolve(paths[lib]);\n",
              "          };\n",
              "          s.onerror = () => reject(`Error loading script: ${paths[lib]}`);\n",
              "          s.src = paths[lib];\n",
              "        });\n",
              "    }\n",
              "\n",
              "    function showError(err) {\n",
              "      outputDiv.innerHTML = `<div class=\"error\" style=\"color:red;\">${err}</div>`;\n",
              "      throw err;\n",
              "    }\n",
              "\n",
              "    function displayChart(vegaEmbed) {\n",
              "      vegaEmbed(outputDiv, spec, embedOpt)\n",
              "        .catch(err => showError(`Javascript Error: ${err.message}<br>This usually means there's a typo in your chart specification. See the javascript console for the full traceback.`));\n",
              "    }\n",
              "\n",
              "    if(typeof define === \"function\" && define.amd) {\n",
              "      requirejs.config({paths});\n",
              "      require([\"vega-embed\"], displayChart, err => showError(`Error loading script: ${err.message}`));\n",
              "    } else {\n",
              "      maybeLoadScript(\"vega\", \"5\")\n",
              "        .then(() => maybeLoadScript(\"vega-lite\", \"4.17.0\"))\n",
              "        .then(() => maybeLoadScript(\"vega-embed\", \"6\"))\n",
              "        .catch(showError)\n",
              "        .then(() => displayChart(vegaEmbed));\n",
              "    }\n",
              "  })({\"config\": {\"view\": {\"continuousWidth\": 400, \"continuousHeight\": 300}}, \"data\": {\"name\": \"data-7b1c3d376dc1f878f7c4c69deb3a1e79\"}, \"mark\": \"circle\", \"encoding\": {\"color\": {\"field\": \"species\", \"type\": \"nominal\"}, \"x\": {\"field\": \"bill_length_mm\", \"type\": \"quantitative\"}, \"y\": {\"field\": \"bill_depth_mm\", \"type\": \"quantitative\"}}, \"$schema\": \"https://vega.github.io/schema/vega-lite/v4.17.0.json\", \"datasets\": {\"data-7b1c3d376dc1f878f7c4c69deb3a1e79\": [{\"species\": \"Adelie\", \"island\": \"Torgersen\", \"bill_length_mm\": 39.1, \"bill_depth_mm\": 18.7, \"flipper_length_mm\": 181.0, \"body_mass_g\": 3750.0, \"sex\": \"MALE\"}, {\"species\": \"Adelie\", \"island\": \"Torgersen\", \"bill_length_mm\": 39.5, \"bill_depth_mm\": 17.4, \"flipper_length_mm\": 186.0, \"body_mass_g\": 3800.0, \"sex\": \"FEMALE\"}, {\"species\": \"Adelie\", \"island\": \"Torgersen\", \"bill_length_mm\": 40.3, \"bill_depth_mm\": 18.0, \"flipper_length_mm\": 195.0, \"body_mass_g\": 3250.0, \"sex\": \"FEMALE\"}, {\"species\": \"Adelie\", \"island\": \"Torgersen\", \"bill_length_mm\": null, \"bill_depth_mm\": null, \"flipper_length_mm\": null, \"body_mass_g\": null, \"sex\": null}, {\"species\": \"Adelie\", \"island\": \"Torgersen\", \"bill_length_mm\": 36.7, \"bill_depth_mm\": 19.3, \"flipper_length_mm\": 193.0, \"body_mass_g\": 3450.0, \"sex\": \"FEMALE\"}, {\"species\": \"Adelie\", \"island\": \"Torgersen\", \"bill_length_mm\": 39.3, \"bill_depth_mm\": 20.6, \"flipper_length_mm\": 190.0, \"body_mass_g\": 3650.0, \"sex\": \"MALE\"}, {\"species\": \"Adelie\", \"island\": \"Torgersen\", \"bill_length_mm\": 38.9, \"bill_depth_mm\": 17.8, \"flipper_length_mm\": 181.0, \"body_mass_g\": 3625.0, \"sex\": \"FEMALE\"}, {\"species\": \"Adelie\", \"island\": \"Torgersen\", \"bill_length_mm\": 39.2, \"bill_depth_mm\": 19.6, \"flipper_length_mm\": 195.0, \"body_mass_g\": 4675.0, \"sex\": \"MALE\"}, {\"species\": \"Adelie\", \"island\": \"Torgersen\", \"bill_length_mm\": 34.1, \"bill_depth_mm\": 18.1, \"flipper_length_mm\": 193.0, \"body_mass_g\": 3475.0, \"sex\": null}, {\"species\": \"Adelie\", \"island\": \"Torgersen\", \"bill_length_mm\": 42.0, \"bill_depth_mm\": 20.2, \"flipper_length_mm\": 190.0, \"body_mass_g\": 4250.0, \"sex\": null}, {\"species\": \"Adelie\", \"island\": \"Torgersen\", \"bill_length_mm\": 37.8, \"bill_depth_mm\": 17.1, \"flipper_length_mm\": 186.0, \"body_mass_g\": 3300.0, \"sex\": null}, {\"species\": \"Adelie\", \"island\": \"Torgersen\", \"bill_length_mm\": 37.8, \"bill_depth_mm\": 17.3, \"flipper_length_mm\": 180.0, \"body_mass_g\": 3700.0, \"sex\": null}, {\"species\": \"Adelie\", \"island\": \"Torgersen\", \"bill_length_mm\": 41.1, \"bill_depth_mm\": 17.6, \"flipper_length_mm\": 182.0, \"body_mass_g\": 3200.0, \"sex\": \"FEMALE\"}, {\"species\": \"Adelie\", \"island\": \"Torgersen\", \"bill_length_mm\": 38.6, \"bill_depth_mm\": 21.2, \"flipper_length_mm\": 191.0, \"body_mass_g\": 3800.0, \"sex\": \"MALE\"}, {\"species\": \"Adelie\", \"island\": \"Torgersen\", \"bill_length_mm\": 34.6, \"bill_depth_mm\": 21.1, \"flipper_length_mm\": 198.0, \"body_mass_g\": 4400.0, \"sex\": \"MALE\"}, {\"species\": \"Adelie\", \"island\": \"Torgersen\", \"bill_length_mm\": 36.6, \"bill_depth_mm\": 17.8, \"flipper_length_mm\": 185.0, \"body_mass_g\": 3700.0, \"sex\": \"FEMALE\"}, {\"species\": \"Adelie\", \"island\": \"Torgersen\", \"bill_length_mm\": 38.7, \"bill_depth_mm\": 19.0, \"flipper_length_mm\": 195.0, \"body_mass_g\": 3450.0, \"sex\": \"FEMALE\"}, {\"species\": \"Adelie\", \"island\": \"Torgersen\", \"bill_length_mm\": 42.5, \"bill_depth_mm\": 20.7, \"flipper_length_mm\": 197.0, \"body_mass_g\": 4500.0, \"sex\": \"MALE\"}, {\"species\": \"Adelie\", \"island\": \"Torgersen\", \"bill_length_mm\": 34.4, \"bill_depth_mm\": 18.4, \"flipper_length_mm\": 184.0, \"body_mass_g\": 3325.0, \"sex\": \"FEMALE\"}, {\"species\": \"Adelie\", \"island\": \"Torgersen\", \"bill_length_mm\": 46.0, \"bill_depth_mm\": 21.5, \"flipper_length_mm\": 194.0, \"body_mass_g\": 4200.0, \"sex\": \"MALE\"}, {\"species\": \"Adelie\", \"island\": \"Biscoe\", \"bill_length_mm\": 37.8, \"bill_depth_mm\": 18.3, \"flipper_length_mm\": 174.0, \"body_mass_g\": 3400.0, \"sex\": \"FEMALE\"}, {\"species\": \"Adelie\", \"island\": \"Biscoe\", \"bill_length_mm\": 37.7, \"bill_depth_mm\": 18.7, \"flipper_length_mm\": 180.0, \"body_mass_g\": 3600.0, \"sex\": \"MALE\"}, {\"species\": \"Adelie\", \"island\": \"Biscoe\", \"bill_length_mm\": 35.9, \"bill_depth_mm\": 19.2, \"flipper_length_mm\": 189.0, \"body_mass_g\": 3800.0, \"sex\": \"FEMALE\"}, {\"species\": \"Adelie\", \"island\": \"Biscoe\", \"bill_length_mm\": 38.2, \"bill_depth_mm\": 18.1, \"flipper_length_mm\": 185.0, \"body_mass_g\": 3950.0, \"sex\": \"MALE\"}, {\"species\": \"Adelie\", \"island\": \"Biscoe\", \"bill_length_mm\": 38.8, \"bill_depth_mm\": 17.2, \"flipper_length_mm\": 180.0, \"body_mass_g\": 3800.0, \"sex\": \"MALE\"}, {\"species\": \"Adelie\", \"island\": \"Biscoe\", \"bill_length_mm\": 35.3, \"bill_depth_mm\": 18.9, \"flipper_length_mm\": 187.0, \"body_mass_g\": 3800.0, \"sex\": \"FEMALE\"}, {\"species\": \"Adelie\", \"island\": \"Biscoe\", \"bill_length_mm\": 40.6, \"bill_depth_mm\": 18.6, \"flipper_length_mm\": 183.0, \"body_mass_g\": 3550.0, \"sex\": \"MALE\"}, {\"species\": \"Adelie\", \"island\": \"Biscoe\", \"bill_length_mm\": 40.5, \"bill_depth_mm\": 17.9, \"flipper_length_mm\": 187.0, \"body_mass_g\": 3200.0, \"sex\": \"FEMALE\"}, {\"species\": \"Adelie\", \"island\": \"Biscoe\", \"bill_length_mm\": 37.9, \"bill_depth_mm\": 18.6, \"flipper_length_mm\": 172.0, \"body_mass_g\": 3150.0, \"sex\": \"FEMALE\"}, {\"species\": \"Adelie\", \"island\": \"Biscoe\", \"bill_length_mm\": 40.5, \"bill_depth_mm\": 18.9, \"flipper_length_mm\": 180.0, \"body_mass_g\": 3950.0, \"sex\": \"MALE\"}, {\"species\": \"Adelie\", \"island\": \"Dream\", \"bill_length_mm\": 39.5, \"bill_depth_mm\": 16.7, \"flipper_length_mm\": 178.0, \"body_mass_g\": 3250.0, \"sex\": \"FEMALE\"}, {\"species\": \"Adelie\", \"island\": \"Dream\", \"bill_length_mm\": 37.2, \"bill_depth_mm\": 18.1, \"flipper_length_mm\": 178.0, \"body_mass_g\": 3900.0, \"sex\": \"MALE\"}, {\"species\": \"Adelie\", \"island\": \"Dream\", \"bill_length_mm\": 39.5, \"bill_depth_mm\": 17.8, \"flipper_length_mm\": 188.0, \"body_mass_g\": 3300.0, \"sex\": \"FEMALE\"}, {\"species\": \"Adelie\", \"island\": \"Dream\", \"bill_length_mm\": 40.9, \"bill_depth_mm\": 18.9, \"flipper_length_mm\": 184.0, \"body_mass_g\": 3900.0, \"sex\": \"MALE\"}, {\"species\": \"Adelie\", \"island\": \"Dream\", \"bill_length_mm\": 36.4, \"bill_depth_mm\": 17.0, \"flipper_length_mm\": 195.0, \"body_mass_g\": 3325.0, \"sex\": \"FEMALE\"}, {\"species\": \"Adelie\", \"island\": \"Dream\", \"bill_length_mm\": 39.2, \"bill_depth_mm\": 21.1, \"flipper_length_mm\": 196.0, \"body_mass_g\": 4150.0, \"sex\": \"MALE\"}, {\"species\": \"Adelie\", \"island\": \"Dream\", \"bill_length_mm\": 38.8, \"bill_depth_mm\": 20.0, \"flipper_length_mm\": 190.0, \"body_mass_g\": 3950.0, \"sex\": \"MALE\"}, {\"species\": \"Adelie\", \"island\": \"Dream\", \"bill_length_mm\": 42.2, \"bill_depth_mm\": 18.5, \"flipper_length_mm\": 180.0, \"body_mass_g\": 3550.0, \"sex\": \"FEMALE\"}, {\"species\": \"Adelie\", \"island\": \"Dream\", \"bill_length_mm\": 37.6, \"bill_depth_mm\": 19.3, \"flipper_length_mm\": 181.0, \"body_mass_g\": 3300.0, \"sex\": \"FEMALE\"}, {\"species\": \"Adelie\", \"island\": \"Dream\", \"bill_length_mm\": 39.8, \"bill_depth_mm\": 19.1, \"flipper_length_mm\": 184.0, \"body_mass_g\": 4650.0, \"sex\": \"MALE\"}, {\"species\": \"Adelie\", \"island\": \"Dream\", \"bill_length_mm\": 36.5, \"bill_depth_mm\": 18.0, \"flipper_length_mm\": 182.0, \"body_mass_g\": 3150.0, \"sex\": \"FEMALE\"}, {\"species\": \"Adelie\", \"island\": \"Dream\", \"bill_length_mm\": 40.8, \"bill_depth_mm\": 18.4, \"flipper_length_mm\": 195.0, \"body_mass_g\": 3900.0, \"sex\": \"MALE\"}, {\"species\": \"Adelie\", \"island\": \"Dream\", \"bill_length_mm\": 36.0, \"bill_depth_mm\": 18.5, \"flipper_length_mm\": 186.0, \"body_mass_g\": 3100.0, \"sex\": \"FEMALE\"}, {\"species\": \"Adelie\", \"island\": \"Dream\", \"bill_length_mm\": 44.1, \"bill_depth_mm\": 19.7, \"flipper_length_mm\": 196.0, \"body_mass_g\": 4400.0, \"sex\": \"MALE\"}, {\"species\": \"Adelie\", \"island\": \"Dream\", \"bill_length_mm\": 37.0, \"bill_depth_mm\": 16.9, \"flipper_length_mm\": 185.0, \"body_mass_g\": 3000.0, \"sex\": \"FEMALE\"}, {\"species\": \"Adelie\", \"island\": \"Dream\", \"bill_length_mm\": 39.6, \"bill_depth_mm\": 18.8, \"flipper_length_mm\": 190.0, \"body_mass_g\": 4600.0, \"sex\": \"MALE\"}, {\"species\": \"Adelie\", \"island\": \"Dream\", \"bill_length_mm\": 41.1, \"bill_depth_mm\": 19.0, \"flipper_length_mm\": 182.0, \"body_mass_g\": 3425.0, \"sex\": \"MALE\"}, {\"species\": \"Adelie\", \"island\": \"Dream\", \"bill_length_mm\": 37.5, \"bill_depth_mm\": 18.9, \"flipper_length_mm\": 179.0, \"body_mass_g\": 2975.0, \"sex\": null}, {\"species\": \"Adelie\", \"island\": \"Dream\", \"bill_length_mm\": 36.0, \"bill_depth_mm\": 17.9, \"flipper_length_mm\": 190.0, \"body_mass_g\": 3450.0, \"sex\": \"FEMALE\"}, {\"species\": \"Adelie\", \"island\": \"Dream\", \"bill_length_mm\": 42.3, \"bill_depth_mm\": 21.2, \"flipper_length_mm\": 191.0, \"body_mass_g\": 4150.0, \"sex\": \"MALE\"}, {\"species\": \"Adelie\", \"island\": \"Biscoe\", \"bill_length_mm\": 39.6, \"bill_depth_mm\": 17.7, \"flipper_length_mm\": 186.0, \"body_mass_g\": 3500.0, \"sex\": \"FEMALE\"}, {\"species\": \"Adelie\", \"island\": \"Biscoe\", \"bill_length_mm\": 40.1, \"bill_depth_mm\": 18.9, \"flipper_length_mm\": 188.0, \"body_mass_g\": 4300.0, \"sex\": \"MALE\"}, {\"species\": \"Adelie\", \"island\": \"Biscoe\", \"bill_length_mm\": 35.0, \"bill_depth_mm\": 17.9, \"flipper_length_mm\": 190.0, \"body_mass_g\": 3450.0, \"sex\": \"FEMALE\"}, {\"species\": \"Adelie\", \"island\": \"Biscoe\", \"bill_length_mm\": 42.0, \"bill_depth_mm\": 19.5, \"flipper_length_mm\": 200.0, \"body_mass_g\": 4050.0, \"sex\": \"MALE\"}, {\"species\": \"Adelie\", \"island\": \"Biscoe\", \"bill_length_mm\": 34.5, \"bill_depth_mm\": 18.1, \"flipper_length_mm\": 187.0, \"body_mass_g\": 2900.0, \"sex\": \"FEMALE\"}, {\"species\": \"Adelie\", \"island\": \"Biscoe\", \"bill_length_mm\": 41.4, \"bill_depth_mm\": 18.6, \"flipper_length_mm\": 191.0, \"body_mass_g\": 3700.0, \"sex\": \"MALE\"}, {\"species\": \"Adelie\", \"island\": \"Biscoe\", \"bill_length_mm\": 39.0, \"bill_depth_mm\": 17.5, \"flipper_length_mm\": 186.0, \"body_mass_g\": 3550.0, \"sex\": \"FEMALE\"}, {\"species\": \"Adelie\", \"island\": \"Biscoe\", \"bill_length_mm\": 40.6, \"bill_depth_mm\": 18.8, \"flipper_length_mm\": 193.0, \"body_mass_g\": 3800.0, \"sex\": \"MALE\"}, {\"species\": \"Adelie\", \"island\": \"Biscoe\", \"bill_length_mm\": 36.5, \"bill_depth_mm\": 16.6, \"flipper_length_mm\": 181.0, \"body_mass_g\": 2850.0, \"sex\": \"FEMALE\"}, {\"species\": \"Adelie\", \"island\": \"Biscoe\", \"bill_length_mm\": 37.6, \"bill_depth_mm\": 19.1, \"flipper_length_mm\": 194.0, \"body_mass_g\": 3750.0, \"sex\": \"MALE\"}, {\"species\": \"Adelie\", \"island\": \"Biscoe\", \"bill_length_mm\": 35.7, \"bill_depth_mm\": 16.9, \"flipper_length_mm\": 185.0, \"body_mass_g\": 3150.0, \"sex\": \"FEMALE\"}, {\"species\": \"Adelie\", \"island\": \"Biscoe\", \"bill_length_mm\": 41.3, \"bill_depth_mm\": 21.1, \"flipper_length_mm\": 195.0, \"body_mass_g\": 4400.0, \"sex\": \"MALE\"}, {\"species\": \"Adelie\", \"island\": \"Biscoe\", \"bill_length_mm\": 37.6, \"bill_depth_mm\": 17.0, \"flipper_length_mm\": 185.0, \"body_mass_g\": 3600.0, \"sex\": \"FEMALE\"}, {\"species\": \"Adelie\", \"island\": \"Biscoe\", \"bill_length_mm\": 41.1, \"bill_depth_mm\": 18.2, \"flipper_length_mm\": 192.0, \"body_mass_g\": 4050.0, \"sex\": \"MALE\"}, {\"species\": \"Adelie\", \"island\": \"Biscoe\", \"bill_length_mm\": 36.4, \"bill_depth_mm\": 17.1, \"flipper_length_mm\": 184.0, \"body_mass_g\": 2850.0, \"sex\": \"FEMALE\"}, {\"species\": \"Adelie\", \"island\": \"Biscoe\", \"bill_length_mm\": 41.6, \"bill_depth_mm\": 18.0, \"flipper_length_mm\": 192.0, \"body_mass_g\": 3950.0, \"sex\": \"MALE\"}, {\"species\": \"Adelie\", \"island\": \"Biscoe\", \"bill_length_mm\": 35.5, \"bill_depth_mm\": 16.2, \"flipper_length_mm\": 195.0, \"body_mass_g\": 3350.0, \"sex\": \"FEMALE\"}, {\"species\": \"Adelie\", \"island\": \"Biscoe\", \"bill_length_mm\": 41.1, \"bill_depth_mm\": 19.1, \"flipper_length_mm\": 188.0, \"body_mass_g\": 4100.0, \"sex\": \"MALE\"}, {\"species\": \"Adelie\", \"island\": \"Torgersen\", \"bill_length_mm\": 35.9, \"bill_depth_mm\": 16.6, \"flipper_length_mm\": 190.0, \"body_mass_g\": 3050.0, \"sex\": \"FEMALE\"}, {\"species\": \"Adelie\", \"island\": \"Torgersen\", \"bill_length_mm\": 41.8, \"bill_depth_mm\": 19.4, \"flipper_length_mm\": 198.0, \"body_mass_g\": 4450.0, \"sex\": \"MALE\"}, {\"species\": \"Adelie\", \"island\": \"Torgersen\", \"bill_length_mm\": 33.5, \"bill_depth_mm\": 19.0, \"flipper_length_mm\": 190.0, \"body_mass_g\": 3600.0, \"sex\": \"FEMALE\"}, {\"species\": \"Adelie\", \"island\": \"Torgersen\", \"bill_length_mm\": 39.7, \"bill_depth_mm\": 18.4, \"flipper_length_mm\": 190.0, \"body_mass_g\": 3900.0, \"sex\": \"MALE\"}, {\"species\": \"Adelie\", \"island\": \"Torgersen\", \"bill_length_mm\": 39.6, \"bill_depth_mm\": 17.2, \"flipper_length_mm\": 196.0, \"body_mass_g\": 3550.0, \"sex\": \"FEMALE\"}, {\"species\": \"Adelie\", \"island\": \"Torgersen\", \"bill_length_mm\": 45.8, \"bill_depth_mm\": 18.9, \"flipper_length_mm\": 197.0, \"body_mass_g\": 4150.0, \"sex\": \"MALE\"}, {\"species\": \"Adelie\", \"island\": \"Torgersen\", \"bill_length_mm\": 35.5, \"bill_depth_mm\": 17.5, \"flipper_length_mm\": 190.0, \"body_mass_g\": 3700.0, \"sex\": \"FEMALE\"}, {\"species\": \"Adelie\", \"island\": \"Torgersen\", \"bill_length_mm\": 42.8, \"bill_depth_mm\": 18.5, \"flipper_length_mm\": 195.0, \"body_mass_g\": 4250.0, \"sex\": \"MALE\"}, {\"species\": \"Adelie\", \"island\": \"Torgersen\", \"bill_length_mm\": 40.9, \"bill_depth_mm\": 16.8, \"flipper_length_mm\": 191.0, \"body_mass_g\": 3700.0, \"sex\": \"FEMALE\"}, {\"species\": \"Adelie\", \"island\": \"Torgersen\", \"bill_length_mm\": 37.2, \"bill_depth_mm\": 19.4, \"flipper_length_mm\": 184.0, \"body_mass_g\": 3900.0, \"sex\": \"MALE\"}, {\"species\": \"Adelie\", \"island\": \"Torgersen\", \"bill_length_mm\": 36.2, \"bill_depth_mm\": 16.1, \"flipper_length_mm\": 187.0, \"body_mass_g\": 3550.0, \"sex\": \"FEMALE\"}, {\"species\": \"Adelie\", \"island\": \"Torgersen\", \"bill_length_mm\": 42.1, \"bill_depth_mm\": 19.1, \"flipper_length_mm\": 195.0, \"body_mass_g\": 4000.0, \"sex\": \"MALE\"}, {\"species\": \"Adelie\", \"island\": \"Torgersen\", \"bill_length_mm\": 34.6, \"bill_depth_mm\": 17.2, \"flipper_length_mm\": 189.0, \"body_mass_g\": 3200.0, \"sex\": \"FEMALE\"}, {\"species\": \"Adelie\", \"island\": \"Torgersen\", \"bill_length_mm\": 42.9, \"bill_depth_mm\": 17.6, \"flipper_length_mm\": 196.0, \"body_mass_g\": 4700.0, \"sex\": \"MALE\"}, {\"species\": \"Adelie\", \"island\": \"Torgersen\", \"bill_length_mm\": 36.7, \"bill_depth_mm\": 18.8, \"flipper_length_mm\": 187.0, \"body_mass_g\": 3800.0, \"sex\": \"FEMALE\"}, {\"species\": \"Adelie\", \"island\": \"Torgersen\", \"bill_length_mm\": 35.1, \"bill_depth_mm\": 19.4, \"flipper_length_mm\": 193.0, \"body_mass_g\": 4200.0, \"sex\": \"MALE\"}, {\"species\": \"Adelie\", \"island\": \"Dream\", \"bill_length_mm\": 37.3, \"bill_depth_mm\": 17.8, \"flipper_length_mm\": 191.0, \"body_mass_g\": 3350.0, \"sex\": \"FEMALE\"}, {\"species\": \"Adelie\", \"island\": \"Dream\", \"bill_length_mm\": 41.3, \"bill_depth_mm\": 20.3, \"flipper_length_mm\": 194.0, \"body_mass_g\": 3550.0, \"sex\": \"MALE\"}, {\"species\": \"Adelie\", \"island\": \"Dream\", \"bill_length_mm\": 36.3, \"bill_depth_mm\": 19.5, \"flipper_length_mm\": 190.0, \"body_mass_g\": 3800.0, \"sex\": \"MALE\"}, {\"species\": \"Adelie\", \"island\": \"Dream\", \"bill_length_mm\": 36.9, \"bill_depth_mm\": 18.6, \"flipper_length_mm\": 189.0, \"body_mass_g\": 3500.0, \"sex\": \"FEMALE\"}, {\"species\": \"Adelie\", \"island\": \"Dream\", \"bill_length_mm\": 38.3, \"bill_depth_mm\": 19.2, \"flipper_length_mm\": 189.0, \"body_mass_g\": 3950.0, \"sex\": \"MALE\"}, {\"species\": \"Adelie\", \"island\": \"Dream\", \"bill_length_mm\": 38.9, \"bill_depth_mm\": 18.8, \"flipper_length_mm\": 190.0, \"body_mass_g\": 3600.0, \"sex\": \"FEMALE\"}, {\"species\": \"Adelie\", \"island\": \"Dream\", \"bill_length_mm\": 35.7, \"bill_depth_mm\": 18.0, \"flipper_length_mm\": 202.0, \"body_mass_g\": 3550.0, \"sex\": \"FEMALE\"}, {\"species\": \"Adelie\", \"island\": \"Dream\", \"bill_length_mm\": 41.1, \"bill_depth_mm\": 18.1, \"flipper_length_mm\": 205.0, \"body_mass_g\": 4300.0, \"sex\": \"MALE\"}, {\"species\": \"Adelie\", \"island\": \"Dream\", \"bill_length_mm\": 34.0, \"bill_depth_mm\": 17.1, \"flipper_length_mm\": 185.0, \"body_mass_g\": 3400.0, \"sex\": \"FEMALE\"}, {\"species\": \"Adelie\", \"island\": \"Dream\", \"bill_length_mm\": 39.6, \"bill_depth_mm\": 18.1, \"flipper_length_mm\": 186.0, \"body_mass_g\": 4450.0, \"sex\": \"MALE\"}, {\"species\": \"Adelie\", \"island\": \"Dream\", \"bill_length_mm\": 36.2, \"bill_depth_mm\": 17.3, \"flipper_length_mm\": 187.0, \"body_mass_g\": 3300.0, \"sex\": \"FEMALE\"}, {\"species\": \"Adelie\", \"island\": \"Dream\", \"bill_length_mm\": 40.8, \"bill_depth_mm\": 18.9, \"flipper_length_mm\": 208.0, \"body_mass_g\": 4300.0, \"sex\": \"MALE\"}, {\"species\": \"Adelie\", \"island\": \"Dream\", \"bill_length_mm\": 38.1, \"bill_depth_mm\": 18.6, \"flipper_length_mm\": 190.0, \"body_mass_g\": 3700.0, \"sex\": \"FEMALE\"}, {\"species\": \"Adelie\", \"island\": \"Dream\", \"bill_length_mm\": 40.3, \"bill_depth_mm\": 18.5, \"flipper_length_mm\": 196.0, \"body_mass_g\": 4350.0, \"sex\": \"MALE\"}, {\"species\": \"Adelie\", \"island\": \"Dream\", \"bill_length_mm\": 33.1, \"bill_depth_mm\": 16.1, \"flipper_length_mm\": 178.0, \"body_mass_g\": 2900.0, \"sex\": \"FEMALE\"}, {\"species\": \"Adelie\", \"island\": \"Dream\", \"bill_length_mm\": 43.2, \"bill_depth_mm\": 18.5, \"flipper_length_mm\": 192.0, \"body_mass_g\": 4100.0, \"sex\": \"MALE\"}, {\"species\": \"Adelie\", \"island\": \"Biscoe\", \"bill_length_mm\": 35.0, \"bill_depth_mm\": 17.9, \"flipper_length_mm\": 192.0, \"body_mass_g\": 3725.0, \"sex\": \"FEMALE\"}, {\"species\": \"Adelie\", \"island\": \"Biscoe\", \"bill_length_mm\": 41.0, \"bill_depth_mm\": 20.0, \"flipper_length_mm\": 203.0, \"body_mass_g\": 4725.0, \"sex\": \"MALE\"}, {\"species\": \"Adelie\", \"island\": \"Biscoe\", \"bill_length_mm\": 37.7, \"bill_depth_mm\": 16.0, \"flipper_length_mm\": 183.0, \"body_mass_g\": 3075.0, \"sex\": \"FEMALE\"}, {\"species\": \"Adelie\", \"island\": \"Biscoe\", \"bill_length_mm\": 37.8, \"bill_depth_mm\": 20.0, \"flipper_length_mm\": 190.0, \"body_mass_g\": 4250.0, \"sex\": \"MALE\"}, {\"species\": \"Adelie\", \"island\": \"Biscoe\", \"bill_length_mm\": 37.9, \"bill_depth_mm\": 18.6, \"flipper_length_mm\": 193.0, \"body_mass_g\": 2925.0, \"sex\": \"FEMALE\"}, {\"species\": \"Adelie\", \"island\": \"Biscoe\", \"bill_length_mm\": 39.7, \"bill_depth_mm\": 18.9, \"flipper_length_mm\": 184.0, \"body_mass_g\": 3550.0, \"sex\": \"MALE\"}, {\"species\": \"Adelie\", \"island\": \"Biscoe\", \"bill_length_mm\": 38.6, \"bill_depth_mm\": 17.2, \"flipper_length_mm\": 199.0, \"body_mass_g\": 3750.0, \"sex\": \"FEMALE\"}, {\"species\": \"Adelie\", \"island\": \"Biscoe\", \"bill_length_mm\": 38.2, \"bill_depth_mm\": 20.0, \"flipper_length_mm\": 190.0, \"body_mass_g\": 3900.0, \"sex\": \"MALE\"}, {\"species\": \"Adelie\", \"island\": \"Biscoe\", \"bill_length_mm\": 38.1, \"bill_depth_mm\": 17.0, \"flipper_length_mm\": 181.0, \"body_mass_g\": 3175.0, \"sex\": \"FEMALE\"}, {\"species\": \"Adelie\", \"island\": \"Biscoe\", \"bill_length_mm\": 43.2, \"bill_depth_mm\": 19.0, \"flipper_length_mm\": 197.0, \"body_mass_g\": 4775.0, \"sex\": \"MALE\"}, {\"species\": \"Adelie\", \"island\": \"Biscoe\", \"bill_length_mm\": 38.1, \"bill_depth_mm\": 16.5, \"flipper_length_mm\": 198.0, \"body_mass_g\": 3825.0, \"sex\": \"FEMALE\"}, {\"species\": \"Adelie\", \"island\": \"Biscoe\", \"bill_length_mm\": 45.6, \"bill_depth_mm\": 20.3, \"flipper_length_mm\": 191.0, \"body_mass_g\": 4600.0, \"sex\": \"MALE\"}, {\"species\": \"Adelie\", \"island\": \"Biscoe\", \"bill_length_mm\": 39.7, \"bill_depth_mm\": 17.7, \"flipper_length_mm\": 193.0, \"body_mass_g\": 3200.0, \"sex\": \"FEMALE\"}, {\"species\": \"Adelie\", \"island\": \"Biscoe\", \"bill_length_mm\": 42.2, \"bill_depth_mm\": 19.5, \"flipper_length_mm\": 197.0, \"body_mass_g\": 4275.0, \"sex\": \"MALE\"}, {\"species\": \"Adelie\", \"island\": \"Biscoe\", \"bill_length_mm\": 39.6, \"bill_depth_mm\": 20.7, \"flipper_length_mm\": 191.0, \"body_mass_g\": 3900.0, \"sex\": \"FEMALE\"}, {\"species\": \"Adelie\", \"island\": \"Biscoe\", \"bill_length_mm\": 42.7, \"bill_depth_mm\": 18.3, \"flipper_length_mm\": 196.0, \"body_mass_g\": 4075.0, \"sex\": \"MALE\"}, {\"species\": \"Adelie\", \"island\": \"Torgersen\", \"bill_length_mm\": 38.6, \"bill_depth_mm\": 17.0, \"flipper_length_mm\": 188.0, \"body_mass_g\": 2900.0, \"sex\": \"FEMALE\"}, {\"species\": \"Adelie\", \"island\": \"Torgersen\", \"bill_length_mm\": 37.3, \"bill_depth_mm\": 20.5, \"flipper_length_mm\": 199.0, \"body_mass_g\": 3775.0, \"sex\": \"MALE\"}, {\"species\": \"Adelie\", \"island\": \"Torgersen\", \"bill_length_mm\": 35.7, \"bill_depth_mm\": 17.0, \"flipper_length_mm\": 189.0, \"body_mass_g\": 3350.0, \"sex\": \"FEMALE\"}, {\"species\": \"Adelie\", \"island\": \"Torgersen\", \"bill_length_mm\": 41.1, \"bill_depth_mm\": 18.6, \"flipper_length_mm\": 189.0, \"body_mass_g\": 3325.0, \"sex\": \"MALE\"}, {\"species\": \"Adelie\", \"island\": \"Torgersen\", \"bill_length_mm\": 36.2, \"bill_depth_mm\": 17.2, \"flipper_length_mm\": 187.0, \"body_mass_g\": 3150.0, \"sex\": \"FEMALE\"}, {\"species\": \"Adelie\", \"island\": \"Torgersen\", \"bill_length_mm\": 37.7, \"bill_depth_mm\": 19.8, \"flipper_length_mm\": 198.0, \"body_mass_g\": 3500.0, \"sex\": \"MALE\"}, {\"species\": \"Adelie\", \"island\": \"Torgersen\", \"bill_length_mm\": 40.2, \"bill_depth_mm\": 17.0, \"flipper_length_mm\": 176.0, \"body_mass_g\": 3450.0, \"sex\": \"FEMALE\"}, {\"species\": \"Adelie\", \"island\": \"Torgersen\", \"bill_length_mm\": 41.4, \"bill_depth_mm\": 18.5, \"flipper_length_mm\": 202.0, \"body_mass_g\": 3875.0, \"sex\": \"MALE\"}, {\"species\": \"Adelie\", \"island\": \"Torgersen\", \"bill_length_mm\": 35.2, \"bill_depth_mm\": 15.9, \"flipper_length_mm\": 186.0, \"body_mass_g\": 3050.0, \"sex\": \"FEMALE\"}, {\"species\": \"Adelie\", \"island\": \"Torgersen\", \"bill_length_mm\": 40.6, \"bill_depth_mm\": 19.0, \"flipper_length_mm\": 199.0, \"body_mass_g\": 4000.0, \"sex\": \"MALE\"}, {\"species\": \"Adelie\", \"island\": \"Torgersen\", \"bill_length_mm\": 38.8, \"bill_depth_mm\": 17.6, \"flipper_length_mm\": 191.0, \"body_mass_g\": 3275.0, \"sex\": \"FEMALE\"}, {\"species\": \"Adelie\", \"island\": \"Torgersen\", \"bill_length_mm\": 41.5, \"bill_depth_mm\": 18.3, \"flipper_length_mm\": 195.0, \"body_mass_g\": 4300.0, \"sex\": \"MALE\"}, {\"species\": \"Adelie\", \"island\": \"Torgersen\", \"bill_length_mm\": 39.0, \"bill_depth_mm\": 17.1, \"flipper_length_mm\": 191.0, \"body_mass_g\": 3050.0, \"sex\": \"FEMALE\"}, {\"species\": \"Adelie\", \"island\": \"Torgersen\", \"bill_length_mm\": 44.1, \"bill_depth_mm\": 18.0, \"flipper_length_mm\": 210.0, \"body_mass_g\": 4000.0, \"sex\": \"MALE\"}, {\"species\": \"Adelie\", \"island\": \"Torgersen\", \"bill_length_mm\": 38.5, \"bill_depth_mm\": 17.9, \"flipper_length_mm\": 190.0, \"body_mass_g\": 3325.0, \"sex\": \"FEMALE\"}, {\"species\": \"Adelie\", \"island\": \"Torgersen\", \"bill_length_mm\": 43.1, \"bill_depth_mm\": 19.2, \"flipper_length_mm\": 197.0, \"body_mass_g\": 3500.0, \"sex\": \"MALE\"}, {\"species\": \"Adelie\", \"island\": \"Dream\", \"bill_length_mm\": 36.8, \"bill_depth_mm\": 18.5, \"flipper_length_mm\": 193.0, \"body_mass_g\": 3500.0, \"sex\": \"FEMALE\"}, {\"species\": \"Adelie\", \"island\": \"Dream\", \"bill_length_mm\": 37.5, \"bill_depth_mm\": 18.5, \"flipper_length_mm\": 199.0, \"body_mass_g\": 4475.0, \"sex\": \"MALE\"}, {\"species\": \"Adelie\", \"island\": \"Dream\", \"bill_length_mm\": 38.1, \"bill_depth_mm\": 17.6, \"flipper_length_mm\": 187.0, \"body_mass_g\": 3425.0, \"sex\": \"FEMALE\"}, {\"species\": \"Adelie\", \"island\": \"Dream\", \"bill_length_mm\": 41.1, \"bill_depth_mm\": 17.5, \"flipper_length_mm\": 190.0, \"body_mass_g\": 3900.0, \"sex\": \"MALE\"}, {\"species\": \"Adelie\", \"island\": \"Dream\", \"bill_length_mm\": 35.6, \"bill_depth_mm\": 17.5, \"flipper_length_mm\": 191.0, \"body_mass_g\": 3175.0, \"sex\": \"FEMALE\"}, {\"species\": \"Adelie\", \"island\": \"Dream\", \"bill_length_mm\": 40.2, \"bill_depth_mm\": 20.1, \"flipper_length_mm\": 200.0, \"body_mass_g\": 3975.0, \"sex\": \"MALE\"}, {\"species\": \"Adelie\", \"island\": \"Dream\", \"bill_length_mm\": 37.0, \"bill_depth_mm\": 16.5, \"flipper_length_mm\": 185.0, \"body_mass_g\": 3400.0, \"sex\": \"FEMALE\"}, {\"species\": \"Adelie\", \"island\": \"Dream\", \"bill_length_mm\": 39.7, \"bill_depth_mm\": 17.9, \"flipper_length_mm\": 193.0, \"body_mass_g\": 4250.0, \"sex\": \"MALE\"}, {\"species\": \"Adelie\", \"island\": \"Dream\", \"bill_length_mm\": 40.2, \"bill_depth_mm\": 17.1, \"flipper_length_mm\": 193.0, \"body_mass_g\": 3400.0, \"sex\": \"FEMALE\"}, {\"species\": \"Adelie\", \"island\": \"Dream\", \"bill_length_mm\": 40.6, \"bill_depth_mm\": 17.2, \"flipper_length_mm\": 187.0, \"body_mass_g\": 3475.0, \"sex\": \"MALE\"}, {\"species\": \"Adelie\", \"island\": \"Dream\", \"bill_length_mm\": 32.1, \"bill_depth_mm\": 15.5, \"flipper_length_mm\": 188.0, \"body_mass_g\": 3050.0, \"sex\": \"FEMALE\"}, {\"species\": \"Adelie\", \"island\": \"Dream\", \"bill_length_mm\": 40.7, \"bill_depth_mm\": 17.0, \"flipper_length_mm\": 190.0, \"body_mass_g\": 3725.0, \"sex\": \"MALE\"}, {\"species\": \"Adelie\", \"island\": \"Dream\", \"bill_length_mm\": 37.3, \"bill_depth_mm\": 16.8, \"flipper_length_mm\": 192.0, \"body_mass_g\": 3000.0, \"sex\": \"FEMALE\"}, {\"species\": \"Adelie\", \"island\": \"Dream\", \"bill_length_mm\": 39.0, \"bill_depth_mm\": 18.7, \"flipper_length_mm\": 185.0, \"body_mass_g\": 3650.0, \"sex\": \"MALE\"}, {\"species\": \"Adelie\", \"island\": \"Dream\", \"bill_length_mm\": 39.2, \"bill_depth_mm\": 18.6, \"flipper_length_mm\": 190.0, \"body_mass_g\": 4250.0, \"sex\": \"MALE\"}, {\"species\": \"Adelie\", \"island\": \"Dream\", \"bill_length_mm\": 36.6, \"bill_depth_mm\": 18.4, \"flipper_length_mm\": 184.0, \"body_mass_g\": 3475.0, \"sex\": \"FEMALE\"}, {\"species\": \"Adelie\", \"island\": \"Dream\", \"bill_length_mm\": 36.0, \"bill_depth_mm\": 17.8, \"flipper_length_mm\": 195.0, \"body_mass_g\": 3450.0, \"sex\": \"FEMALE\"}, {\"species\": \"Adelie\", \"island\": \"Dream\", \"bill_length_mm\": 37.8, \"bill_depth_mm\": 18.1, \"flipper_length_mm\": 193.0, \"body_mass_g\": 3750.0, \"sex\": \"MALE\"}, {\"species\": \"Adelie\", \"island\": \"Dream\", \"bill_length_mm\": 36.0, \"bill_depth_mm\": 17.1, \"flipper_length_mm\": 187.0, \"body_mass_g\": 3700.0, \"sex\": \"FEMALE\"}, {\"species\": \"Adelie\", \"island\": \"Dream\", \"bill_length_mm\": 41.5, \"bill_depth_mm\": 18.5, \"flipper_length_mm\": 201.0, \"body_mass_g\": 4000.0, \"sex\": \"MALE\"}, {\"species\": \"Chinstrap\", \"island\": \"Dream\", \"bill_length_mm\": 46.5, \"bill_depth_mm\": 17.9, \"flipper_length_mm\": 192.0, \"body_mass_g\": 3500.0, \"sex\": \"FEMALE\"}, {\"species\": \"Chinstrap\", \"island\": \"Dream\", \"bill_length_mm\": 50.0, \"bill_depth_mm\": 19.5, \"flipper_length_mm\": 196.0, \"body_mass_g\": 3900.0, \"sex\": \"MALE\"}, {\"species\": \"Chinstrap\", \"island\": \"Dream\", \"bill_length_mm\": 51.3, \"bill_depth_mm\": 19.2, \"flipper_length_mm\": 193.0, \"body_mass_g\": 3650.0, \"sex\": \"MALE\"}, {\"species\": \"Chinstrap\", \"island\": \"Dream\", \"bill_length_mm\": 45.4, \"bill_depth_mm\": 18.7, \"flipper_length_mm\": 188.0, \"body_mass_g\": 3525.0, \"sex\": \"FEMALE\"}, {\"species\": \"Chinstrap\", \"island\": \"Dream\", \"bill_length_mm\": 52.7, \"bill_depth_mm\": 19.8, \"flipper_length_mm\": 197.0, \"body_mass_g\": 3725.0, \"sex\": \"MALE\"}, {\"species\": \"Chinstrap\", \"island\": \"Dream\", \"bill_length_mm\": 45.2, \"bill_depth_mm\": 17.8, \"flipper_length_mm\": 198.0, \"body_mass_g\": 3950.0, \"sex\": \"FEMALE\"}, {\"species\": \"Chinstrap\", \"island\": \"Dream\", \"bill_length_mm\": 46.1, \"bill_depth_mm\": 18.2, \"flipper_length_mm\": 178.0, \"body_mass_g\": 3250.0, \"sex\": \"FEMALE\"}, {\"species\": \"Chinstrap\", \"island\": \"Dream\", \"bill_length_mm\": 51.3, \"bill_depth_mm\": 18.2, \"flipper_length_mm\": 197.0, \"body_mass_g\": 3750.0, \"sex\": \"MALE\"}, {\"species\": \"Chinstrap\", \"island\": \"Dream\", \"bill_length_mm\": 46.0, \"bill_depth_mm\": 18.9, \"flipper_length_mm\": 195.0, \"body_mass_g\": 4150.0, \"sex\": \"FEMALE\"}, {\"species\": \"Chinstrap\", \"island\": \"Dream\", \"bill_length_mm\": 51.3, \"bill_depth_mm\": 19.9, \"flipper_length_mm\": 198.0, \"body_mass_g\": 3700.0, \"sex\": \"MALE\"}, {\"species\": \"Chinstrap\", \"island\": \"Dream\", \"bill_length_mm\": 46.6, \"bill_depth_mm\": 17.8, \"flipper_length_mm\": 193.0, \"body_mass_g\": 3800.0, \"sex\": \"FEMALE\"}, {\"species\": \"Chinstrap\", \"island\": \"Dream\", \"bill_length_mm\": 51.7, \"bill_depth_mm\": 20.3, \"flipper_length_mm\": 194.0, \"body_mass_g\": 3775.0, \"sex\": \"MALE\"}, {\"species\": \"Chinstrap\", \"island\": \"Dream\", \"bill_length_mm\": 47.0, \"bill_depth_mm\": 17.3, \"flipper_length_mm\": 185.0, \"body_mass_g\": 3700.0, \"sex\": \"FEMALE\"}, {\"species\": \"Chinstrap\", \"island\": \"Dream\", \"bill_length_mm\": 52.0, \"bill_depth_mm\": 18.1, \"flipper_length_mm\": 201.0, \"body_mass_g\": 4050.0, \"sex\": \"MALE\"}, {\"species\": \"Chinstrap\", \"island\": \"Dream\", \"bill_length_mm\": 45.9, \"bill_depth_mm\": 17.1, \"flipper_length_mm\": 190.0, \"body_mass_g\": 3575.0, \"sex\": \"FEMALE\"}, {\"species\": \"Chinstrap\", \"island\": \"Dream\", \"bill_length_mm\": 50.5, \"bill_depth_mm\": 19.6, \"flipper_length_mm\": 201.0, \"body_mass_g\": 4050.0, \"sex\": \"MALE\"}, {\"species\": \"Chinstrap\", \"island\": \"Dream\", \"bill_length_mm\": 50.3, \"bill_depth_mm\": 20.0, \"flipper_length_mm\": 197.0, \"body_mass_g\": 3300.0, \"sex\": \"MALE\"}, {\"species\": \"Chinstrap\", \"island\": \"Dream\", \"bill_length_mm\": 58.0, \"bill_depth_mm\": 17.8, \"flipper_length_mm\": 181.0, \"body_mass_g\": 3700.0, \"sex\": \"FEMALE\"}, {\"species\": \"Chinstrap\", \"island\": \"Dream\", \"bill_length_mm\": 46.4, \"bill_depth_mm\": 18.6, \"flipper_length_mm\": 190.0, \"body_mass_g\": 3450.0, \"sex\": \"FEMALE\"}, {\"species\": \"Chinstrap\", \"island\": \"Dream\", \"bill_length_mm\": 49.2, \"bill_depth_mm\": 18.2, \"flipper_length_mm\": 195.0, \"body_mass_g\": 4400.0, \"sex\": \"MALE\"}, {\"species\": \"Chinstrap\", \"island\": \"Dream\", \"bill_length_mm\": 42.4, \"bill_depth_mm\": 17.3, \"flipper_length_mm\": 181.0, \"body_mass_g\": 3600.0, \"sex\": \"FEMALE\"}, {\"species\": \"Chinstrap\", \"island\": \"Dream\", \"bill_length_mm\": 48.5, \"bill_depth_mm\": 17.5, \"flipper_length_mm\": 191.0, \"body_mass_g\": 3400.0, \"sex\": \"MALE\"}, {\"species\": \"Chinstrap\", \"island\": \"Dream\", \"bill_length_mm\": 43.2, \"bill_depth_mm\": 16.6, \"flipper_length_mm\": 187.0, \"body_mass_g\": 2900.0, \"sex\": \"FEMALE\"}, {\"species\": \"Chinstrap\", \"island\": \"Dream\", \"bill_length_mm\": 50.6, \"bill_depth_mm\": 19.4, \"flipper_length_mm\": 193.0, \"body_mass_g\": 3800.0, \"sex\": \"MALE\"}, {\"species\": \"Chinstrap\", \"island\": \"Dream\", \"bill_length_mm\": 46.7, \"bill_depth_mm\": 17.9, \"flipper_length_mm\": 195.0, \"body_mass_g\": 3300.0, \"sex\": \"FEMALE\"}, {\"species\": \"Chinstrap\", \"island\": \"Dream\", \"bill_length_mm\": 52.0, \"bill_depth_mm\": 19.0, \"flipper_length_mm\": 197.0, \"body_mass_g\": 4150.0, \"sex\": \"MALE\"}, {\"species\": \"Chinstrap\", \"island\": \"Dream\", \"bill_length_mm\": 50.5, \"bill_depth_mm\": 18.4, \"flipper_length_mm\": 200.0, \"body_mass_g\": 3400.0, \"sex\": \"FEMALE\"}, {\"species\": \"Chinstrap\", \"island\": \"Dream\", \"bill_length_mm\": 49.5, \"bill_depth_mm\": 19.0, \"flipper_length_mm\": 200.0, \"body_mass_g\": 3800.0, \"sex\": \"MALE\"}, {\"species\": \"Chinstrap\", \"island\": \"Dream\", \"bill_length_mm\": 46.4, \"bill_depth_mm\": 17.8, \"flipper_length_mm\": 191.0, \"body_mass_g\": 3700.0, \"sex\": \"FEMALE\"}, {\"species\": \"Chinstrap\", \"island\": \"Dream\", \"bill_length_mm\": 52.8, \"bill_depth_mm\": 20.0, \"flipper_length_mm\": 205.0, \"body_mass_g\": 4550.0, \"sex\": \"MALE\"}, {\"species\": \"Chinstrap\", \"island\": \"Dream\", \"bill_length_mm\": 40.9, \"bill_depth_mm\": 16.6, \"flipper_length_mm\": 187.0, \"body_mass_g\": 3200.0, \"sex\": \"FEMALE\"}, {\"species\": \"Chinstrap\", \"island\": \"Dream\", \"bill_length_mm\": 54.2, \"bill_depth_mm\": 20.8, \"flipper_length_mm\": 201.0, \"body_mass_g\": 4300.0, \"sex\": \"MALE\"}, {\"species\": \"Chinstrap\", \"island\": \"Dream\", \"bill_length_mm\": 42.5, \"bill_depth_mm\": 16.7, \"flipper_length_mm\": 187.0, \"body_mass_g\": 3350.0, \"sex\": \"FEMALE\"}, {\"species\": \"Chinstrap\", \"island\": \"Dream\", \"bill_length_mm\": 51.0, \"bill_depth_mm\": 18.8, \"flipper_length_mm\": 203.0, \"body_mass_g\": 4100.0, \"sex\": \"MALE\"}, {\"species\": \"Chinstrap\", \"island\": \"Dream\", \"bill_length_mm\": 49.7, \"bill_depth_mm\": 18.6, \"flipper_length_mm\": 195.0, \"body_mass_g\": 3600.0, \"sex\": \"MALE\"}, {\"species\": \"Chinstrap\", \"island\": \"Dream\", \"bill_length_mm\": 47.5, \"bill_depth_mm\": 16.8, \"flipper_length_mm\": 199.0, \"body_mass_g\": 3900.0, \"sex\": \"FEMALE\"}, {\"species\": \"Chinstrap\", \"island\": \"Dream\", \"bill_length_mm\": 47.6, \"bill_depth_mm\": 18.3, \"flipper_length_mm\": 195.0, \"body_mass_g\": 3850.0, \"sex\": \"FEMALE\"}, {\"species\": \"Chinstrap\", \"island\": \"Dream\", \"bill_length_mm\": 52.0, \"bill_depth_mm\": 20.7, \"flipper_length_mm\": 210.0, \"body_mass_g\": 4800.0, \"sex\": \"MALE\"}, {\"species\": \"Chinstrap\", \"island\": \"Dream\", \"bill_length_mm\": 46.9, \"bill_depth_mm\": 16.6, \"flipper_length_mm\": 192.0, \"body_mass_g\": 2700.0, \"sex\": \"FEMALE\"}, {\"species\": \"Chinstrap\", \"island\": \"Dream\", \"bill_length_mm\": 53.5, \"bill_depth_mm\": 19.9, \"flipper_length_mm\": 205.0, \"body_mass_g\": 4500.0, \"sex\": \"MALE\"}, {\"species\": \"Chinstrap\", \"island\": \"Dream\", \"bill_length_mm\": 49.0, \"bill_depth_mm\": 19.5, \"flipper_length_mm\": 210.0, \"body_mass_g\": 3950.0, \"sex\": \"MALE\"}, {\"species\": \"Chinstrap\", \"island\": \"Dream\", \"bill_length_mm\": 46.2, \"bill_depth_mm\": 17.5, \"flipper_length_mm\": 187.0, \"body_mass_g\": 3650.0, \"sex\": \"FEMALE\"}, {\"species\": \"Chinstrap\", \"island\": \"Dream\", \"bill_length_mm\": 50.9, \"bill_depth_mm\": 19.1, \"flipper_length_mm\": 196.0, \"body_mass_g\": 3550.0, \"sex\": \"MALE\"}, {\"species\": \"Chinstrap\", \"island\": \"Dream\", \"bill_length_mm\": 45.5, \"bill_depth_mm\": 17.0, \"flipper_length_mm\": 196.0, \"body_mass_g\": 3500.0, \"sex\": \"FEMALE\"}, {\"species\": \"Chinstrap\", \"island\": \"Dream\", \"bill_length_mm\": 50.9, \"bill_depth_mm\": 17.9, \"flipper_length_mm\": 196.0, \"body_mass_g\": 3675.0, \"sex\": \"FEMALE\"}, {\"species\": \"Chinstrap\", \"island\": \"Dream\", \"bill_length_mm\": 50.8, \"bill_depth_mm\": 18.5, \"flipper_length_mm\": 201.0, \"body_mass_g\": 4450.0, \"sex\": \"MALE\"}, {\"species\": \"Chinstrap\", \"island\": \"Dream\", \"bill_length_mm\": 50.1, \"bill_depth_mm\": 17.9, \"flipper_length_mm\": 190.0, \"body_mass_g\": 3400.0, \"sex\": \"FEMALE\"}, {\"species\": \"Chinstrap\", \"island\": \"Dream\", \"bill_length_mm\": 49.0, \"bill_depth_mm\": 19.6, \"flipper_length_mm\": 212.0, \"body_mass_g\": 4300.0, \"sex\": \"MALE\"}, {\"species\": \"Chinstrap\", \"island\": \"Dream\", \"bill_length_mm\": 51.5, \"bill_depth_mm\": 18.7, \"flipper_length_mm\": 187.0, \"body_mass_g\": 3250.0, \"sex\": \"MALE\"}, {\"species\": \"Chinstrap\", \"island\": \"Dream\", \"bill_length_mm\": 49.8, \"bill_depth_mm\": 17.3, \"flipper_length_mm\": 198.0, \"body_mass_g\": 3675.0, \"sex\": \"FEMALE\"}, {\"species\": \"Chinstrap\", \"island\": \"Dream\", \"bill_length_mm\": 48.1, \"bill_depth_mm\": 16.4, \"flipper_length_mm\": 199.0, \"body_mass_g\": 3325.0, \"sex\": \"FEMALE\"}, {\"species\": \"Chinstrap\", \"island\": \"Dream\", \"bill_length_mm\": 51.4, \"bill_depth_mm\": 19.0, \"flipper_length_mm\": 201.0, \"body_mass_g\": 3950.0, \"sex\": \"MALE\"}, {\"species\": \"Chinstrap\", \"island\": \"Dream\", \"bill_length_mm\": 45.7, \"bill_depth_mm\": 17.3, \"flipper_length_mm\": 193.0, \"body_mass_g\": 3600.0, \"sex\": \"FEMALE\"}, {\"species\": \"Chinstrap\", \"island\": \"Dream\", \"bill_length_mm\": 50.7, \"bill_depth_mm\": 19.7, \"flipper_length_mm\": 203.0, \"body_mass_g\": 4050.0, \"sex\": \"MALE\"}, {\"species\": \"Chinstrap\", \"island\": \"Dream\", \"bill_length_mm\": 42.5, \"bill_depth_mm\": 17.3, \"flipper_length_mm\": 187.0, \"body_mass_g\": 3350.0, \"sex\": \"FEMALE\"}, {\"species\": \"Chinstrap\", \"island\": \"Dream\", \"bill_length_mm\": 52.2, \"bill_depth_mm\": 18.8, \"flipper_length_mm\": 197.0, \"body_mass_g\": 3450.0, \"sex\": \"MALE\"}, {\"species\": \"Chinstrap\", \"island\": \"Dream\", \"bill_length_mm\": 45.2, \"bill_depth_mm\": 16.6, \"flipper_length_mm\": 191.0, \"body_mass_g\": 3250.0, \"sex\": \"FEMALE\"}, {\"species\": \"Chinstrap\", \"island\": \"Dream\", \"bill_length_mm\": 49.3, \"bill_depth_mm\": 19.9, \"flipper_length_mm\": 203.0, \"body_mass_g\": 4050.0, \"sex\": \"MALE\"}, {\"species\": \"Chinstrap\", \"island\": \"Dream\", \"bill_length_mm\": 50.2, \"bill_depth_mm\": 18.8, \"flipper_length_mm\": 202.0, \"body_mass_g\": 3800.0, \"sex\": \"MALE\"}, {\"species\": \"Chinstrap\", \"island\": \"Dream\", \"bill_length_mm\": 45.6, \"bill_depth_mm\": 19.4, \"flipper_length_mm\": 194.0, \"body_mass_g\": 3525.0, \"sex\": \"FEMALE\"}, {\"species\": \"Chinstrap\", \"island\": \"Dream\", \"bill_length_mm\": 51.9, \"bill_depth_mm\": 19.5, \"flipper_length_mm\": 206.0, \"body_mass_g\": 3950.0, \"sex\": \"MALE\"}, {\"species\": \"Chinstrap\", \"island\": \"Dream\", \"bill_length_mm\": 46.8, \"bill_depth_mm\": 16.5, \"flipper_length_mm\": 189.0, \"body_mass_g\": 3650.0, \"sex\": \"FEMALE\"}, {\"species\": \"Chinstrap\", \"island\": \"Dream\", \"bill_length_mm\": 45.7, \"bill_depth_mm\": 17.0, \"flipper_length_mm\": 195.0, \"body_mass_g\": 3650.0, \"sex\": \"FEMALE\"}, {\"species\": \"Chinstrap\", \"island\": \"Dream\", \"bill_length_mm\": 55.8, \"bill_depth_mm\": 19.8, \"flipper_length_mm\": 207.0, \"body_mass_g\": 4000.0, \"sex\": \"MALE\"}, {\"species\": \"Chinstrap\", \"island\": \"Dream\", \"bill_length_mm\": 43.5, \"bill_depth_mm\": 18.1, \"flipper_length_mm\": 202.0, \"body_mass_g\": 3400.0, \"sex\": \"FEMALE\"}, {\"species\": \"Chinstrap\", \"island\": \"Dream\", \"bill_length_mm\": 49.6, \"bill_depth_mm\": 18.2, \"flipper_length_mm\": 193.0, \"body_mass_g\": 3775.0, \"sex\": \"MALE\"}, {\"species\": \"Chinstrap\", \"island\": \"Dream\", \"bill_length_mm\": 50.8, \"bill_depth_mm\": 19.0, \"flipper_length_mm\": 210.0, \"body_mass_g\": 4100.0, \"sex\": \"MALE\"}, {\"species\": \"Chinstrap\", \"island\": \"Dream\", \"bill_length_mm\": 50.2, \"bill_depth_mm\": 18.7, \"flipper_length_mm\": 198.0, \"body_mass_g\": 3775.0, \"sex\": \"FEMALE\"}, {\"species\": \"Gentoo\", \"island\": \"Biscoe\", \"bill_length_mm\": 46.1, \"bill_depth_mm\": 13.2, \"flipper_length_mm\": 211.0, \"body_mass_g\": 4500.0, \"sex\": \"FEMALE\"}, {\"species\": \"Gentoo\", \"island\": \"Biscoe\", \"bill_length_mm\": 50.0, \"bill_depth_mm\": 16.3, \"flipper_length_mm\": 230.0, \"body_mass_g\": 5700.0, \"sex\": \"MALE\"}, {\"species\": \"Gentoo\", \"island\": \"Biscoe\", \"bill_length_mm\": 48.7, \"bill_depth_mm\": 14.1, \"flipper_length_mm\": 210.0, \"body_mass_g\": 4450.0, \"sex\": \"FEMALE\"}, {\"species\": \"Gentoo\", \"island\": \"Biscoe\", \"bill_length_mm\": 50.0, \"bill_depth_mm\": 15.2, \"flipper_length_mm\": 218.0, \"body_mass_g\": 5700.0, \"sex\": \"MALE\"}, {\"species\": \"Gentoo\", \"island\": \"Biscoe\", \"bill_length_mm\": 47.6, \"bill_depth_mm\": 14.5, \"flipper_length_mm\": 215.0, \"body_mass_g\": 5400.0, \"sex\": \"MALE\"}, {\"species\": \"Gentoo\", \"island\": \"Biscoe\", \"bill_length_mm\": 46.5, \"bill_depth_mm\": 13.5, \"flipper_length_mm\": 210.0, \"body_mass_g\": 4550.0, \"sex\": \"FEMALE\"}, {\"species\": \"Gentoo\", \"island\": \"Biscoe\", \"bill_length_mm\": 45.4, \"bill_depth_mm\": 14.6, \"flipper_length_mm\": 211.0, \"body_mass_g\": 4800.0, \"sex\": \"FEMALE\"}, {\"species\": \"Gentoo\", \"island\": \"Biscoe\", \"bill_length_mm\": 46.7, \"bill_depth_mm\": 15.3, \"flipper_length_mm\": 219.0, \"body_mass_g\": 5200.0, \"sex\": \"MALE\"}, {\"species\": \"Gentoo\", \"island\": \"Biscoe\", \"bill_length_mm\": 43.3, \"bill_depth_mm\": 13.4, \"flipper_length_mm\": 209.0, \"body_mass_g\": 4400.0, \"sex\": \"FEMALE\"}, {\"species\": \"Gentoo\", \"island\": \"Biscoe\", \"bill_length_mm\": 46.8, \"bill_depth_mm\": 15.4, \"flipper_length_mm\": 215.0, \"body_mass_g\": 5150.0, \"sex\": \"MALE\"}, {\"species\": \"Gentoo\", \"island\": \"Biscoe\", \"bill_length_mm\": 40.9, \"bill_depth_mm\": 13.7, \"flipper_length_mm\": 214.0, \"body_mass_g\": 4650.0, \"sex\": \"FEMALE\"}, {\"species\": \"Gentoo\", \"island\": \"Biscoe\", \"bill_length_mm\": 49.0, \"bill_depth_mm\": 16.1, \"flipper_length_mm\": 216.0, \"body_mass_g\": 5550.0, \"sex\": \"MALE\"}, {\"species\": \"Gentoo\", \"island\": \"Biscoe\", \"bill_length_mm\": 45.5, \"bill_depth_mm\": 13.7, \"flipper_length_mm\": 214.0, \"body_mass_g\": 4650.0, \"sex\": \"FEMALE\"}, {\"species\": \"Gentoo\", \"island\": \"Biscoe\", \"bill_length_mm\": 48.4, \"bill_depth_mm\": 14.6, \"flipper_length_mm\": 213.0, \"body_mass_g\": 5850.0, \"sex\": \"MALE\"}, {\"species\": \"Gentoo\", \"island\": \"Biscoe\", \"bill_length_mm\": 45.8, \"bill_depth_mm\": 14.6, \"flipper_length_mm\": 210.0, \"body_mass_g\": 4200.0, \"sex\": \"FEMALE\"}, {\"species\": \"Gentoo\", \"island\": \"Biscoe\", \"bill_length_mm\": 49.3, \"bill_depth_mm\": 15.7, \"flipper_length_mm\": 217.0, \"body_mass_g\": 5850.0, \"sex\": \"MALE\"}, {\"species\": \"Gentoo\", \"island\": \"Biscoe\", \"bill_length_mm\": 42.0, \"bill_depth_mm\": 13.5, \"flipper_length_mm\": 210.0, \"body_mass_g\": 4150.0, \"sex\": \"FEMALE\"}, {\"species\": \"Gentoo\", \"island\": \"Biscoe\", \"bill_length_mm\": 49.2, \"bill_depth_mm\": 15.2, \"flipper_length_mm\": 221.0, \"body_mass_g\": 6300.0, \"sex\": \"MALE\"}, {\"species\": \"Gentoo\", \"island\": \"Biscoe\", \"bill_length_mm\": 46.2, \"bill_depth_mm\": 14.5, \"flipper_length_mm\": 209.0, \"body_mass_g\": 4800.0, \"sex\": \"FEMALE\"}, {\"species\": \"Gentoo\", \"island\": \"Biscoe\", \"bill_length_mm\": 48.7, \"bill_depth_mm\": 15.1, \"flipper_length_mm\": 222.0, \"body_mass_g\": 5350.0, \"sex\": \"MALE\"}, {\"species\": \"Gentoo\", \"island\": \"Biscoe\", \"bill_length_mm\": 50.2, \"bill_depth_mm\": 14.3, \"flipper_length_mm\": 218.0, \"body_mass_g\": 5700.0, \"sex\": \"MALE\"}, {\"species\": \"Gentoo\", \"island\": \"Biscoe\", \"bill_length_mm\": 45.1, \"bill_depth_mm\": 14.5, \"flipper_length_mm\": 215.0, \"body_mass_g\": 5000.0, \"sex\": \"FEMALE\"}, {\"species\": \"Gentoo\", \"island\": \"Biscoe\", \"bill_length_mm\": 46.5, \"bill_depth_mm\": 14.5, \"flipper_length_mm\": 213.0, \"body_mass_g\": 4400.0, \"sex\": \"FEMALE\"}, {\"species\": \"Gentoo\", \"island\": \"Biscoe\", \"bill_length_mm\": 46.3, \"bill_depth_mm\": 15.8, \"flipper_length_mm\": 215.0, \"body_mass_g\": 5050.0, \"sex\": \"MALE\"}, {\"species\": \"Gentoo\", \"island\": \"Biscoe\", \"bill_length_mm\": 42.9, \"bill_depth_mm\": 13.1, \"flipper_length_mm\": 215.0, \"body_mass_g\": 5000.0, \"sex\": \"FEMALE\"}, {\"species\": \"Gentoo\", \"island\": \"Biscoe\", \"bill_length_mm\": 46.1, \"bill_depth_mm\": 15.1, \"flipper_length_mm\": 215.0, \"body_mass_g\": 5100.0, \"sex\": \"MALE\"}, {\"species\": \"Gentoo\", \"island\": \"Biscoe\", \"bill_length_mm\": 44.5, \"bill_depth_mm\": 14.3, \"flipper_length_mm\": 216.0, \"body_mass_g\": 4100.0, \"sex\": null}, {\"species\": \"Gentoo\", \"island\": \"Biscoe\", \"bill_length_mm\": 47.8, \"bill_depth_mm\": 15.0, \"flipper_length_mm\": 215.0, \"body_mass_g\": 5650.0, \"sex\": \"MALE\"}, {\"species\": \"Gentoo\", \"island\": \"Biscoe\", \"bill_length_mm\": 48.2, \"bill_depth_mm\": 14.3, \"flipper_length_mm\": 210.0, \"body_mass_g\": 4600.0, \"sex\": \"FEMALE\"}, {\"species\": \"Gentoo\", \"island\": \"Biscoe\", \"bill_length_mm\": 50.0, \"bill_depth_mm\": 15.3, \"flipper_length_mm\": 220.0, \"body_mass_g\": 5550.0, \"sex\": \"MALE\"}, {\"species\": \"Gentoo\", \"island\": \"Biscoe\", \"bill_length_mm\": 47.3, \"bill_depth_mm\": 15.3, \"flipper_length_mm\": 222.0, \"body_mass_g\": 5250.0, \"sex\": \"MALE\"}, {\"species\": \"Gentoo\", \"island\": \"Biscoe\", \"bill_length_mm\": 42.8, \"bill_depth_mm\": 14.2, \"flipper_length_mm\": 209.0, \"body_mass_g\": 4700.0, \"sex\": \"FEMALE\"}, {\"species\": \"Gentoo\", \"island\": \"Biscoe\", \"bill_length_mm\": 45.1, \"bill_depth_mm\": 14.5, \"flipper_length_mm\": 207.0, \"body_mass_g\": 5050.0, \"sex\": \"FEMALE\"}, {\"species\": \"Gentoo\", \"island\": \"Biscoe\", \"bill_length_mm\": 59.6, \"bill_depth_mm\": 17.0, \"flipper_length_mm\": 230.0, \"body_mass_g\": 6050.0, \"sex\": \"MALE\"}, {\"species\": \"Gentoo\", \"island\": \"Biscoe\", \"bill_length_mm\": 49.1, \"bill_depth_mm\": 14.8, \"flipper_length_mm\": 220.0, \"body_mass_g\": 5150.0, \"sex\": \"FEMALE\"}, {\"species\": \"Gentoo\", \"island\": \"Biscoe\", \"bill_length_mm\": 48.4, \"bill_depth_mm\": 16.3, \"flipper_length_mm\": 220.0, \"body_mass_g\": 5400.0, \"sex\": \"MALE\"}, {\"species\": \"Gentoo\", \"island\": \"Biscoe\", \"bill_length_mm\": 42.6, \"bill_depth_mm\": 13.7, \"flipper_length_mm\": 213.0, \"body_mass_g\": 4950.0, \"sex\": \"FEMALE\"}, {\"species\": \"Gentoo\", \"island\": \"Biscoe\", \"bill_length_mm\": 44.4, \"bill_depth_mm\": 17.3, \"flipper_length_mm\": 219.0, \"body_mass_g\": 5250.0, \"sex\": \"MALE\"}, {\"species\": \"Gentoo\", \"island\": \"Biscoe\", \"bill_length_mm\": 44.0, \"bill_depth_mm\": 13.6, \"flipper_length_mm\": 208.0, \"body_mass_g\": 4350.0, \"sex\": \"FEMALE\"}, {\"species\": \"Gentoo\", \"island\": \"Biscoe\", \"bill_length_mm\": 48.7, \"bill_depth_mm\": 15.7, \"flipper_length_mm\": 208.0, \"body_mass_g\": 5350.0, \"sex\": \"MALE\"}, {\"species\": \"Gentoo\", \"island\": \"Biscoe\", \"bill_length_mm\": 42.7, \"bill_depth_mm\": 13.7, \"flipper_length_mm\": 208.0, \"body_mass_g\": 3950.0, \"sex\": \"FEMALE\"}, {\"species\": \"Gentoo\", \"island\": \"Biscoe\", \"bill_length_mm\": 49.6, \"bill_depth_mm\": 16.0, \"flipper_length_mm\": 225.0, \"body_mass_g\": 5700.0, \"sex\": \"MALE\"}, {\"species\": \"Gentoo\", \"island\": \"Biscoe\", \"bill_length_mm\": 45.3, \"bill_depth_mm\": 13.7, \"flipper_length_mm\": 210.0, \"body_mass_g\": 4300.0, \"sex\": \"FEMALE\"}, {\"species\": \"Gentoo\", \"island\": \"Biscoe\", \"bill_length_mm\": 49.6, \"bill_depth_mm\": 15.0, \"flipper_length_mm\": 216.0, \"body_mass_g\": 4750.0, \"sex\": \"MALE\"}, {\"species\": \"Gentoo\", \"island\": \"Biscoe\", \"bill_length_mm\": 50.5, \"bill_depth_mm\": 15.9, \"flipper_length_mm\": 222.0, \"body_mass_g\": 5550.0, \"sex\": \"MALE\"}, {\"species\": \"Gentoo\", \"island\": \"Biscoe\", \"bill_length_mm\": 43.6, \"bill_depth_mm\": 13.9, \"flipper_length_mm\": 217.0, \"body_mass_g\": 4900.0, \"sex\": \"FEMALE\"}, {\"species\": \"Gentoo\", \"island\": \"Biscoe\", \"bill_length_mm\": 45.5, \"bill_depth_mm\": 13.9, \"flipper_length_mm\": 210.0, \"body_mass_g\": 4200.0, \"sex\": \"FEMALE\"}, {\"species\": \"Gentoo\", \"island\": \"Biscoe\", \"bill_length_mm\": 50.5, \"bill_depth_mm\": 15.9, \"flipper_length_mm\": 225.0, \"body_mass_g\": 5400.0, \"sex\": \"MALE\"}, {\"species\": \"Gentoo\", \"island\": \"Biscoe\", \"bill_length_mm\": 44.9, \"bill_depth_mm\": 13.3, \"flipper_length_mm\": 213.0, \"body_mass_g\": 5100.0, \"sex\": \"FEMALE\"}, {\"species\": \"Gentoo\", \"island\": \"Biscoe\", \"bill_length_mm\": 45.2, \"bill_depth_mm\": 15.8, \"flipper_length_mm\": 215.0, \"body_mass_g\": 5300.0, \"sex\": \"MALE\"}, {\"species\": \"Gentoo\", \"island\": \"Biscoe\", \"bill_length_mm\": 46.6, \"bill_depth_mm\": 14.2, \"flipper_length_mm\": 210.0, \"body_mass_g\": 4850.0, \"sex\": \"FEMALE\"}, {\"species\": \"Gentoo\", \"island\": \"Biscoe\", \"bill_length_mm\": 48.5, \"bill_depth_mm\": 14.1, \"flipper_length_mm\": 220.0, \"body_mass_g\": 5300.0, \"sex\": \"MALE\"}, {\"species\": \"Gentoo\", \"island\": \"Biscoe\", \"bill_length_mm\": 45.1, \"bill_depth_mm\": 14.4, \"flipper_length_mm\": 210.0, \"body_mass_g\": 4400.0, \"sex\": \"FEMALE\"}, {\"species\": \"Gentoo\", \"island\": \"Biscoe\", \"bill_length_mm\": 50.1, \"bill_depth_mm\": 15.0, \"flipper_length_mm\": 225.0, \"body_mass_g\": 5000.0, \"sex\": \"MALE\"}, {\"species\": \"Gentoo\", \"island\": \"Biscoe\", \"bill_length_mm\": 46.5, \"bill_depth_mm\": 14.4, \"flipper_length_mm\": 217.0, \"body_mass_g\": 4900.0, \"sex\": \"FEMALE\"}, {\"species\": \"Gentoo\", \"island\": \"Biscoe\", \"bill_length_mm\": 45.0, \"bill_depth_mm\": 15.4, \"flipper_length_mm\": 220.0, \"body_mass_g\": 5050.0, \"sex\": \"MALE\"}, {\"species\": \"Gentoo\", \"island\": \"Biscoe\", \"bill_length_mm\": 43.8, \"bill_depth_mm\": 13.9, \"flipper_length_mm\": 208.0, \"body_mass_g\": 4300.0, \"sex\": \"FEMALE\"}, {\"species\": \"Gentoo\", \"island\": \"Biscoe\", \"bill_length_mm\": 45.5, \"bill_depth_mm\": 15.0, \"flipper_length_mm\": 220.0, \"body_mass_g\": 5000.0, \"sex\": \"MALE\"}, {\"species\": \"Gentoo\", \"island\": \"Biscoe\", \"bill_length_mm\": 43.2, \"bill_depth_mm\": 14.5, \"flipper_length_mm\": 208.0, \"body_mass_g\": 4450.0, \"sex\": \"FEMALE\"}, {\"species\": \"Gentoo\", \"island\": \"Biscoe\", \"bill_length_mm\": 50.4, \"bill_depth_mm\": 15.3, \"flipper_length_mm\": 224.0, \"body_mass_g\": 5550.0, \"sex\": \"MALE\"}, {\"species\": \"Gentoo\", \"island\": \"Biscoe\", \"bill_length_mm\": 45.3, \"bill_depth_mm\": 13.8, \"flipper_length_mm\": 208.0, \"body_mass_g\": 4200.0, \"sex\": \"FEMALE\"}, {\"species\": \"Gentoo\", \"island\": \"Biscoe\", \"bill_length_mm\": 46.2, \"bill_depth_mm\": 14.9, \"flipper_length_mm\": 221.0, \"body_mass_g\": 5300.0, \"sex\": \"MALE\"}, {\"species\": \"Gentoo\", \"island\": \"Biscoe\", \"bill_length_mm\": 45.7, \"bill_depth_mm\": 13.9, \"flipper_length_mm\": 214.0, \"body_mass_g\": 4400.0, \"sex\": \"FEMALE\"}, {\"species\": \"Gentoo\", \"island\": \"Biscoe\", \"bill_length_mm\": 54.3, \"bill_depth_mm\": 15.7, \"flipper_length_mm\": 231.0, \"body_mass_g\": 5650.0, \"sex\": \"MALE\"}, {\"species\": \"Gentoo\", \"island\": \"Biscoe\", \"bill_length_mm\": 45.8, \"bill_depth_mm\": 14.2, \"flipper_length_mm\": 219.0, \"body_mass_g\": 4700.0, \"sex\": \"FEMALE\"}, {\"species\": \"Gentoo\", \"island\": \"Biscoe\", \"bill_length_mm\": 49.8, \"bill_depth_mm\": 16.8, \"flipper_length_mm\": 230.0, \"body_mass_g\": 5700.0, \"sex\": \"MALE\"}, {\"species\": \"Gentoo\", \"island\": \"Biscoe\", \"bill_length_mm\": 46.2, \"bill_depth_mm\": 14.4, \"flipper_length_mm\": 214.0, \"body_mass_g\": 4650.0, \"sex\": null}, {\"species\": \"Gentoo\", \"island\": \"Biscoe\", \"bill_length_mm\": 49.5, \"bill_depth_mm\": 16.2, \"flipper_length_mm\": 229.0, \"body_mass_g\": 5800.0, \"sex\": \"MALE\"}, {\"species\": \"Gentoo\", \"island\": \"Biscoe\", \"bill_length_mm\": 43.5, \"bill_depth_mm\": 14.2, \"flipper_length_mm\": 220.0, \"body_mass_g\": 4700.0, \"sex\": \"FEMALE\"}, {\"species\": \"Gentoo\", \"island\": \"Biscoe\", \"bill_length_mm\": 50.7, \"bill_depth_mm\": 15.0, \"flipper_length_mm\": 223.0, \"body_mass_g\": 5550.0, \"sex\": \"MALE\"}, {\"species\": \"Gentoo\", \"island\": \"Biscoe\", \"bill_length_mm\": 47.7, \"bill_depth_mm\": 15.0, \"flipper_length_mm\": 216.0, \"body_mass_g\": 4750.0, \"sex\": \"FEMALE\"}, {\"species\": \"Gentoo\", \"island\": \"Biscoe\", \"bill_length_mm\": 46.4, \"bill_depth_mm\": 15.6, \"flipper_length_mm\": 221.0, \"body_mass_g\": 5000.0, \"sex\": \"MALE\"}, {\"species\": \"Gentoo\", \"island\": \"Biscoe\", \"bill_length_mm\": 48.2, \"bill_depth_mm\": 15.6, \"flipper_length_mm\": 221.0, \"body_mass_g\": 5100.0, \"sex\": \"MALE\"}, {\"species\": \"Gentoo\", \"island\": \"Biscoe\", \"bill_length_mm\": 46.5, \"bill_depth_mm\": 14.8, \"flipper_length_mm\": 217.0, \"body_mass_g\": 5200.0, \"sex\": \"FEMALE\"}, {\"species\": \"Gentoo\", \"island\": \"Biscoe\", \"bill_length_mm\": 46.4, \"bill_depth_mm\": 15.0, \"flipper_length_mm\": 216.0, \"body_mass_g\": 4700.0, \"sex\": \"FEMALE\"}, {\"species\": \"Gentoo\", \"island\": \"Biscoe\", \"bill_length_mm\": 48.6, \"bill_depth_mm\": 16.0, \"flipper_length_mm\": 230.0, \"body_mass_g\": 5800.0, \"sex\": \"MALE\"}, {\"species\": \"Gentoo\", \"island\": \"Biscoe\", \"bill_length_mm\": 47.5, \"bill_depth_mm\": 14.2, \"flipper_length_mm\": 209.0, \"body_mass_g\": 4600.0, \"sex\": \"FEMALE\"}, {\"species\": \"Gentoo\", \"island\": \"Biscoe\", \"bill_length_mm\": 51.1, \"bill_depth_mm\": 16.3, \"flipper_length_mm\": 220.0, \"body_mass_g\": 6000.0, \"sex\": \"MALE\"}, {\"species\": \"Gentoo\", \"island\": \"Biscoe\", \"bill_length_mm\": 45.2, \"bill_depth_mm\": 13.8, \"flipper_length_mm\": 215.0, \"body_mass_g\": 4750.0, \"sex\": \"FEMALE\"}, {\"species\": \"Gentoo\", \"island\": \"Biscoe\", \"bill_length_mm\": 45.2, \"bill_depth_mm\": 16.4, \"flipper_length_mm\": 223.0, \"body_mass_g\": 5950.0, \"sex\": \"MALE\"}, {\"species\": \"Gentoo\", \"island\": \"Biscoe\", \"bill_length_mm\": 49.1, \"bill_depth_mm\": 14.5, \"flipper_length_mm\": 212.0, \"body_mass_g\": 4625.0, \"sex\": \"FEMALE\"}, {\"species\": \"Gentoo\", \"island\": \"Biscoe\", \"bill_length_mm\": 52.5, \"bill_depth_mm\": 15.6, \"flipper_length_mm\": 221.0, \"body_mass_g\": 5450.0, \"sex\": \"MALE\"}, {\"species\": \"Gentoo\", \"island\": \"Biscoe\", \"bill_length_mm\": 47.4, \"bill_depth_mm\": 14.6, \"flipper_length_mm\": 212.0, \"body_mass_g\": 4725.0, \"sex\": \"FEMALE\"}, {\"species\": \"Gentoo\", \"island\": \"Biscoe\", \"bill_length_mm\": 50.0, \"bill_depth_mm\": 15.9, \"flipper_length_mm\": 224.0, \"body_mass_g\": 5350.0, \"sex\": \"MALE\"}, {\"species\": \"Gentoo\", \"island\": \"Biscoe\", \"bill_length_mm\": 44.9, \"bill_depth_mm\": 13.8, \"flipper_length_mm\": 212.0, \"body_mass_g\": 4750.0, \"sex\": \"FEMALE\"}, {\"species\": \"Gentoo\", \"island\": \"Biscoe\", \"bill_length_mm\": 50.8, \"bill_depth_mm\": 17.3, \"flipper_length_mm\": 228.0, \"body_mass_g\": 5600.0, \"sex\": \"MALE\"}, {\"species\": \"Gentoo\", \"island\": \"Biscoe\", \"bill_length_mm\": 43.4, \"bill_depth_mm\": 14.4, \"flipper_length_mm\": 218.0, \"body_mass_g\": 4600.0, \"sex\": \"FEMALE\"}, {\"species\": \"Gentoo\", \"island\": \"Biscoe\", \"bill_length_mm\": 51.3, \"bill_depth_mm\": 14.2, \"flipper_length_mm\": 218.0, \"body_mass_g\": 5300.0, \"sex\": \"MALE\"}, {\"species\": \"Gentoo\", \"island\": \"Biscoe\", \"bill_length_mm\": 47.5, \"bill_depth_mm\": 14.0, \"flipper_length_mm\": 212.0, \"body_mass_g\": 4875.0, \"sex\": \"FEMALE\"}, {\"species\": \"Gentoo\", \"island\": \"Biscoe\", \"bill_length_mm\": 52.1, \"bill_depth_mm\": 17.0, \"flipper_length_mm\": 230.0, \"body_mass_g\": 5550.0, \"sex\": \"MALE\"}, {\"species\": \"Gentoo\", \"island\": \"Biscoe\", \"bill_length_mm\": 47.5, \"bill_depth_mm\": 15.0, \"flipper_length_mm\": 218.0, \"body_mass_g\": 4950.0, \"sex\": \"FEMALE\"}, {\"species\": \"Gentoo\", \"island\": \"Biscoe\", \"bill_length_mm\": 52.2, \"bill_depth_mm\": 17.1, \"flipper_length_mm\": 228.0, \"body_mass_g\": 5400.0, \"sex\": \"MALE\"}, {\"species\": \"Gentoo\", \"island\": \"Biscoe\", \"bill_length_mm\": 45.5, \"bill_depth_mm\": 14.5, \"flipper_length_mm\": 212.0, \"body_mass_g\": 4750.0, \"sex\": \"FEMALE\"}, {\"species\": \"Gentoo\", \"island\": \"Biscoe\", \"bill_length_mm\": 49.5, \"bill_depth_mm\": 16.1, \"flipper_length_mm\": 224.0, \"body_mass_g\": 5650.0, \"sex\": \"MALE\"}, {\"species\": \"Gentoo\", \"island\": \"Biscoe\", \"bill_length_mm\": 44.5, \"bill_depth_mm\": 14.7, \"flipper_length_mm\": 214.0, \"body_mass_g\": 4850.0, \"sex\": \"FEMALE\"}, {\"species\": \"Gentoo\", \"island\": \"Biscoe\", \"bill_length_mm\": 50.8, \"bill_depth_mm\": 15.7, \"flipper_length_mm\": 226.0, \"body_mass_g\": 5200.0, \"sex\": \"MALE\"}, {\"species\": \"Gentoo\", \"island\": \"Biscoe\", \"bill_length_mm\": 49.4, \"bill_depth_mm\": 15.8, \"flipper_length_mm\": 216.0, \"body_mass_g\": 4925.0, \"sex\": \"MALE\"}, {\"species\": \"Gentoo\", \"island\": \"Biscoe\", \"bill_length_mm\": 46.9, \"bill_depth_mm\": 14.6, \"flipper_length_mm\": 222.0, \"body_mass_g\": 4875.0, \"sex\": \"FEMALE\"}, {\"species\": \"Gentoo\", \"island\": \"Biscoe\", \"bill_length_mm\": 48.4, \"bill_depth_mm\": 14.4, \"flipper_length_mm\": 203.0, \"body_mass_g\": 4625.0, \"sex\": \"FEMALE\"}, {\"species\": \"Gentoo\", \"island\": \"Biscoe\", \"bill_length_mm\": 51.1, \"bill_depth_mm\": 16.5, \"flipper_length_mm\": 225.0, \"body_mass_g\": 5250.0, \"sex\": \"MALE\"}, {\"species\": \"Gentoo\", \"island\": \"Biscoe\", \"bill_length_mm\": 48.5, \"bill_depth_mm\": 15.0, \"flipper_length_mm\": 219.0, \"body_mass_g\": 4850.0, \"sex\": \"FEMALE\"}, {\"species\": \"Gentoo\", \"island\": \"Biscoe\", \"bill_length_mm\": 55.9, \"bill_depth_mm\": 17.0, \"flipper_length_mm\": 228.0, \"body_mass_g\": 5600.0, \"sex\": \"MALE\"}, {\"species\": \"Gentoo\", \"island\": \"Biscoe\", \"bill_length_mm\": 47.2, \"bill_depth_mm\": 15.5, \"flipper_length_mm\": 215.0, \"body_mass_g\": 4975.0, \"sex\": \"FEMALE\"}, {\"species\": \"Gentoo\", \"island\": \"Biscoe\", \"bill_length_mm\": 49.1, \"bill_depth_mm\": 15.0, \"flipper_length_mm\": 228.0, \"body_mass_g\": 5500.0, \"sex\": \"MALE\"}, {\"species\": \"Gentoo\", \"island\": \"Biscoe\", \"bill_length_mm\": 47.3, \"bill_depth_mm\": 13.8, \"flipper_length_mm\": 216.0, \"body_mass_g\": 4725.0, \"sex\": null}, {\"species\": \"Gentoo\", \"island\": \"Biscoe\", \"bill_length_mm\": 46.8, \"bill_depth_mm\": 16.1, \"flipper_length_mm\": 215.0, \"body_mass_g\": 5500.0, \"sex\": \"MALE\"}, {\"species\": \"Gentoo\", \"island\": \"Biscoe\", \"bill_length_mm\": 41.7, \"bill_depth_mm\": 14.7, \"flipper_length_mm\": 210.0, \"body_mass_g\": 4700.0, \"sex\": \"FEMALE\"}, {\"species\": \"Gentoo\", \"island\": \"Biscoe\", \"bill_length_mm\": 53.4, \"bill_depth_mm\": 15.8, \"flipper_length_mm\": 219.0, \"body_mass_g\": 5500.0, \"sex\": \"MALE\"}, {\"species\": \"Gentoo\", \"island\": \"Biscoe\", \"bill_length_mm\": 43.3, \"bill_depth_mm\": 14.0, \"flipper_length_mm\": 208.0, \"body_mass_g\": 4575.0, \"sex\": \"FEMALE\"}, {\"species\": \"Gentoo\", \"island\": \"Biscoe\", \"bill_length_mm\": 48.1, \"bill_depth_mm\": 15.1, \"flipper_length_mm\": 209.0, \"body_mass_g\": 5500.0, \"sex\": \"MALE\"}, {\"species\": \"Gentoo\", \"island\": \"Biscoe\", \"bill_length_mm\": 50.5, \"bill_depth_mm\": 15.2, \"flipper_length_mm\": 216.0, \"body_mass_g\": 5000.0, \"sex\": \"FEMALE\"}, {\"species\": \"Gentoo\", \"island\": \"Biscoe\", \"bill_length_mm\": 49.8, \"bill_depth_mm\": 15.9, \"flipper_length_mm\": 229.0, \"body_mass_g\": 5950.0, \"sex\": \"MALE\"}, {\"species\": \"Gentoo\", \"island\": \"Biscoe\", \"bill_length_mm\": 43.5, \"bill_depth_mm\": 15.2, \"flipper_length_mm\": 213.0, \"body_mass_g\": 4650.0, \"sex\": \"FEMALE\"}, {\"species\": \"Gentoo\", \"island\": \"Biscoe\", \"bill_length_mm\": 51.5, \"bill_depth_mm\": 16.3, \"flipper_length_mm\": 230.0, \"body_mass_g\": 5500.0, \"sex\": \"MALE\"}, {\"species\": \"Gentoo\", \"island\": \"Biscoe\", \"bill_length_mm\": 46.2, \"bill_depth_mm\": 14.1, \"flipper_length_mm\": 217.0, \"body_mass_g\": 4375.0, \"sex\": \"FEMALE\"}, {\"species\": \"Gentoo\", \"island\": \"Biscoe\", \"bill_length_mm\": 55.1, \"bill_depth_mm\": 16.0, \"flipper_length_mm\": 230.0, \"body_mass_g\": 5850.0, \"sex\": \"MALE\"}, {\"species\": \"Gentoo\", \"island\": \"Biscoe\", \"bill_length_mm\": 44.5, \"bill_depth_mm\": 15.7, \"flipper_length_mm\": 217.0, \"body_mass_g\": 4875.0, \"sex\": null}, {\"species\": \"Gentoo\", \"island\": \"Biscoe\", \"bill_length_mm\": 48.8, \"bill_depth_mm\": 16.2, \"flipper_length_mm\": 222.0, \"body_mass_g\": 6000.0, \"sex\": \"MALE\"}, {\"species\": \"Gentoo\", \"island\": \"Biscoe\", \"bill_length_mm\": 47.2, \"bill_depth_mm\": 13.7, \"flipper_length_mm\": 214.0, \"body_mass_g\": 4925.0, \"sex\": \"FEMALE\"}, {\"species\": \"Gentoo\", \"island\": \"Biscoe\", \"bill_length_mm\": null, \"bill_depth_mm\": null, \"flipper_length_mm\": null, \"body_mass_g\": null, \"sex\": null}, {\"species\": \"Gentoo\", \"island\": \"Biscoe\", \"bill_length_mm\": 46.8, \"bill_depth_mm\": 14.3, \"flipper_length_mm\": 215.0, \"body_mass_g\": 4850.0, \"sex\": \"FEMALE\"}, {\"species\": \"Gentoo\", \"island\": \"Biscoe\", \"bill_length_mm\": 50.4, \"bill_depth_mm\": 15.7, \"flipper_length_mm\": 222.0, \"body_mass_g\": 5750.0, \"sex\": \"MALE\"}, {\"species\": \"Gentoo\", \"island\": \"Biscoe\", \"bill_length_mm\": 45.2, \"bill_depth_mm\": 14.8, \"flipper_length_mm\": 212.0, \"body_mass_g\": 5200.0, \"sex\": \"FEMALE\"}, {\"species\": \"Gentoo\", \"island\": \"Biscoe\", \"bill_length_mm\": 49.9, \"bill_depth_mm\": 16.1, \"flipper_length_mm\": 213.0, \"body_mass_g\": 5400.0, \"sex\": \"MALE\"}]}}, {\"mode\": \"vega-lite\"});\n",
              "</script>"
            ]
          },
          "metadata": {},
          "execution_count": 7
        }
      ]
    },
    {
      "cell_type": "code",
      "source": [
        "chart.mark_circle().encode(\n",
        "    alt.X('bill_length_mm', \n",
        "          type='quantitative', \n",
        "          title='Bill length (mm)', \n",
        "          scale=alt.Scale(domain=(30, 65))\n",
        "          ),\n",
        "    alt.Y('bill_depth_mm', \n",
        "          type='quantitative', \n",
        "          title='Bill depth (mm)', \n",
        "          scale=alt.Scale(domain=(10, 25))\n",
        "          ),\n",
        "    alt.Color('species',\n",
        "              type='nominal',\n",
        "              title='Species')\n",
        ")"
      ],
      "metadata": {
        "colab": {
          "base_uri": "https://localhost:8080/",
          "height": 368
        },
        "id": "w7acVjwjrFgD",
        "outputId": "1bdd8f44-0ab0-40c9-8b14-acb904589f27"
      },
      "execution_count": 10,
      "outputs": [
        {
          "output_type": "execute_result",
          "data": {
            "text/plain": [
              "alt.Chart(...)"
            ],
            "text/html": [
              "\n",
              "<div id=\"altair-viz-ef7ab2a0a4b64ca8a8fc036184d310a4\"></div>\n",
              "<script type=\"text/javascript\">\n",
              "  var VEGA_DEBUG = (typeof VEGA_DEBUG == \"undefined\") ? {} : VEGA_DEBUG;\n",
              "  (function(spec, embedOpt){\n",
              "    let outputDiv = document.currentScript.previousElementSibling;\n",
              "    if (outputDiv.id !== \"altair-viz-ef7ab2a0a4b64ca8a8fc036184d310a4\") {\n",
              "      outputDiv = document.getElementById(\"altair-viz-ef7ab2a0a4b64ca8a8fc036184d310a4\");\n",
              "    }\n",
              "    const paths = {\n",
              "      \"vega\": \"https://cdn.jsdelivr.net/npm//vega@5?noext\",\n",
              "      \"vega-lib\": \"https://cdn.jsdelivr.net/npm//vega-lib?noext\",\n",
              "      \"vega-lite\": \"https://cdn.jsdelivr.net/npm//vega-lite@4.17.0?noext\",\n",
              "      \"vega-embed\": \"https://cdn.jsdelivr.net/npm//vega-embed@6?noext\",\n",
              "    };\n",
              "\n",
              "    function maybeLoadScript(lib, version) {\n",
              "      var key = `${lib.replace(\"-\", \"\")}_version`;\n",
              "      return (VEGA_DEBUG[key] == version) ?\n",
              "        Promise.resolve(paths[lib]) :\n",
              "        new Promise(function(resolve, reject) {\n",
              "          var s = document.createElement('script');\n",
              "          document.getElementsByTagName(\"head\")[0].appendChild(s);\n",
              "          s.async = true;\n",
              "          s.onload = () => {\n",
              "            VEGA_DEBUG[key] = version;\n",
              "            return resolve(paths[lib]);\n",
              "          };\n",
              "          s.onerror = () => reject(`Error loading script: ${paths[lib]}`);\n",
              "          s.src = paths[lib];\n",
              "        });\n",
              "    }\n",
              "\n",
              "    function showError(err) {\n",
              "      outputDiv.innerHTML = `<div class=\"error\" style=\"color:red;\">${err}</div>`;\n",
              "      throw err;\n",
              "    }\n",
              "\n",
              "    function displayChart(vegaEmbed) {\n",
              "      vegaEmbed(outputDiv, spec, embedOpt)\n",
              "        .catch(err => showError(`Javascript Error: ${err.message}<br>This usually means there's a typo in your chart specification. See the javascript console for the full traceback.`));\n",
              "    }\n",
              "\n",
              "    if(typeof define === \"function\" && define.amd) {\n",
              "      requirejs.config({paths});\n",
              "      require([\"vega-embed\"], displayChart, err => showError(`Error loading script: ${err.message}`));\n",
              "    } else {\n",
              "      maybeLoadScript(\"vega\", \"5\")\n",
              "        .then(() => maybeLoadScript(\"vega-lite\", \"4.17.0\"))\n",
              "        .then(() => maybeLoadScript(\"vega-embed\", \"6\"))\n",
              "        .catch(showError)\n",
              "        .then(() => displayChart(vegaEmbed));\n",
              "    }\n",
              "  })({\"config\": {\"view\": {\"continuousWidth\": 400, \"continuousHeight\": 300}}, \"data\": {\"name\": \"data-7b1c3d376dc1f878f7c4c69deb3a1e79\"}, \"mark\": \"circle\", \"encoding\": {\"color\": {\"field\": \"species\", \"title\": \"Species\", \"type\": \"nominal\"}, \"x\": {\"field\": \"bill_length_mm\", \"scale\": {\"domain\": [30, 65]}, \"title\": \"Bill length (mm)\", \"type\": \"quantitative\"}, \"y\": {\"field\": \"bill_depth_mm\", \"scale\": {\"domain\": [10, 25]}, \"title\": \"Bill depth (mm)\", \"type\": \"quantitative\"}}, \"$schema\": \"https://vega.github.io/schema/vega-lite/v4.17.0.json\", \"datasets\": {\"data-7b1c3d376dc1f878f7c4c69deb3a1e79\": [{\"species\": \"Adelie\", \"island\": \"Torgersen\", \"bill_length_mm\": 39.1, \"bill_depth_mm\": 18.7, \"flipper_length_mm\": 181.0, \"body_mass_g\": 3750.0, \"sex\": \"MALE\"}, {\"species\": \"Adelie\", \"island\": \"Torgersen\", \"bill_length_mm\": 39.5, \"bill_depth_mm\": 17.4, \"flipper_length_mm\": 186.0, \"body_mass_g\": 3800.0, \"sex\": \"FEMALE\"}, {\"species\": \"Adelie\", \"island\": \"Torgersen\", \"bill_length_mm\": 40.3, \"bill_depth_mm\": 18.0, \"flipper_length_mm\": 195.0, \"body_mass_g\": 3250.0, \"sex\": \"FEMALE\"}, {\"species\": \"Adelie\", \"island\": \"Torgersen\", \"bill_length_mm\": null, \"bill_depth_mm\": null, \"flipper_length_mm\": null, \"body_mass_g\": null, \"sex\": null}, {\"species\": \"Adelie\", \"island\": \"Torgersen\", \"bill_length_mm\": 36.7, \"bill_depth_mm\": 19.3, \"flipper_length_mm\": 193.0, \"body_mass_g\": 3450.0, \"sex\": \"FEMALE\"}, {\"species\": \"Adelie\", \"island\": \"Torgersen\", \"bill_length_mm\": 39.3, \"bill_depth_mm\": 20.6, \"flipper_length_mm\": 190.0, \"body_mass_g\": 3650.0, \"sex\": \"MALE\"}, {\"species\": \"Adelie\", \"island\": \"Torgersen\", \"bill_length_mm\": 38.9, \"bill_depth_mm\": 17.8, \"flipper_length_mm\": 181.0, \"body_mass_g\": 3625.0, \"sex\": \"FEMALE\"}, {\"species\": \"Adelie\", \"island\": \"Torgersen\", \"bill_length_mm\": 39.2, \"bill_depth_mm\": 19.6, \"flipper_length_mm\": 195.0, \"body_mass_g\": 4675.0, \"sex\": \"MALE\"}, {\"species\": \"Adelie\", \"island\": \"Torgersen\", \"bill_length_mm\": 34.1, \"bill_depth_mm\": 18.1, \"flipper_length_mm\": 193.0, \"body_mass_g\": 3475.0, \"sex\": null}, {\"species\": \"Adelie\", \"island\": \"Torgersen\", \"bill_length_mm\": 42.0, \"bill_depth_mm\": 20.2, \"flipper_length_mm\": 190.0, \"body_mass_g\": 4250.0, \"sex\": null}, {\"species\": \"Adelie\", \"island\": \"Torgersen\", \"bill_length_mm\": 37.8, \"bill_depth_mm\": 17.1, \"flipper_length_mm\": 186.0, \"body_mass_g\": 3300.0, \"sex\": null}, {\"species\": \"Adelie\", \"island\": \"Torgersen\", \"bill_length_mm\": 37.8, \"bill_depth_mm\": 17.3, \"flipper_length_mm\": 180.0, \"body_mass_g\": 3700.0, \"sex\": null}, {\"species\": \"Adelie\", \"island\": \"Torgersen\", \"bill_length_mm\": 41.1, \"bill_depth_mm\": 17.6, \"flipper_length_mm\": 182.0, \"body_mass_g\": 3200.0, \"sex\": \"FEMALE\"}, {\"species\": \"Adelie\", \"island\": \"Torgersen\", \"bill_length_mm\": 38.6, \"bill_depth_mm\": 21.2, \"flipper_length_mm\": 191.0, \"body_mass_g\": 3800.0, \"sex\": \"MALE\"}, {\"species\": \"Adelie\", \"island\": \"Torgersen\", \"bill_length_mm\": 34.6, \"bill_depth_mm\": 21.1, \"flipper_length_mm\": 198.0, \"body_mass_g\": 4400.0, \"sex\": \"MALE\"}, {\"species\": \"Adelie\", \"island\": \"Torgersen\", \"bill_length_mm\": 36.6, \"bill_depth_mm\": 17.8, \"flipper_length_mm\": 185.0, \"body_mass_g\": 3700.0, \"sex\": \"FEMALE\"}, {\"species\": \"Adelie\", \"island\": \"Torgersen\", \"bill_length_mm\": 38.7, \"bill_depth_mm\": 19.0, \"flipper_length_mm\": 195.0, \"body_mass_g\": 3450.0, \"sex\": \"FEMALE\"}, {\"species\": \"Adelie\", \"island\": \"Torgersen\", \"bill_length_mm\": 42.5, \"bill_depth_mm\": 20.7, \"flipper_length_mm\": 197.0, \"body_mass_g\": 4500.0, \"sex\": \"MALE\"}, {\"species\": \"Adelie\", \"island\": \"Torgersen\", \"bill_length_mm\": 34.4, \"bill_depth_mm\": 18.4, \"flipper_length_mm\": 184.0, \"body_mass_g\": 3325.0, \"sex\": \"FEMALE\"}, {\"species\": \"Adelie\", \"island\": \"Torgersen\", \"bill_length_mm\": 46.0, \"bill_depth_mm\": 21.5, \"flipper_length_mm\": 194.0, \"body_mass_g\": 4200.0, \"sex\": \"MALE\"}, {\"species\": \"Adelie\", \"island\": \"Biscoe\", \"bill_length_mm\": 37.8, \"bill_depth_mm\": 18.3, \"flipper_length_mm\": 174.0, \"body_mass_g\": 3400.0, \"sex\": \"FEMALE\"}, {\"species\": \"Adelie\", \"island\": \"Biscoe\", \"bill_length_mm\": 37.7, \"bill_depth_mm\": 18.7, \"flipper_length_mm\": 180.0, \"body_mass_g\": 3600.0, \"sex\": \"MALE\"}, {\"species\": \"Adelie\", \"island\": \"Biscoe\", \"bill_length_mm\": 35.9, \"bill_depth_mm\": 19.2, \"flipper_length_mm\": 189.0, \"body_mass_g\": 3800.0, \"sex\": \"FEMALE\"}, {\"species\": \"Adelie\", \"island\": \"Biscoe\", \"bill_length_mm\": 38.2, \"bill_depth_mm\": 18.1, \"flipper_length_mm\": 185.0, \"body_mass_g\": 3950.0, \"sex\": \"MALE\"}, {\"species\": \"Adelie\", \"island\": \"Biscoe\", \"bill_length_mm\": 38.8, \"bill_depth_mm\": 17.2, \"flipper_length_mm\": 180.0, \"body_mass_g\": 3800.0, \"sex\": \"MALE\"}, {\"species\": \"Adelie\", \"island\": \"Biscoe\", \"bill_length_mm\": 35.3, \"bill_depth_mm\": 18.9, \"flipper_length_mm\": 187.0, \"body_mass_g\": 3800.0, \"sex\": \"FEMALE\"}, {\"species\": \"Adelie\", \"island\": \"Biscoe\", \"bill_length_mm\": 40.6, \"bill_depth_mm\": 18.6, \"flipper_length_mm\": 183.0, \"body_mass_g\": 3550.0, \"sex\": \"MALE\"}, {\"species\": \"Adelie\", \"island\": \"Biscoe\", \"bill_length_mm\": 40.5, \"bill_depth_mm\": 17.9, \"flipper_length_mm\": 187.0, \"body_mass_g\": 3200.0, \"sex\": \"FEMALE\"}, {\"species\": \"Adelie\", \"island\": \"Biscoe\", \"bill_length_mm\": 37.9, \"bill_depth_mm\": 18.6, \"flipper_length_mm\": 172.0, \"body_mass_g\": 3150.0, \"sex\": \"FEMALE\"}, {\"species\": \"Adelie\", \"island\": \"Biscoe\", \"bill_length_mm\": 40.5, \"bill_depth_mm\": 18.9, \"flipper_length_mm\": 180.0, \"body_mass_g\": 3950.0, \"sex\": \"MALE\"}, {\"species\": \"Adelie\", \"island\": \"Dream\", \"bill_length_mm\": 39.5, \"bill_depth_mm\": 16.7, \"flipper_length_mm\": 178.0, \"body_mass_g\": 3250.0, \"sex\": \"FEMALE\"}, {\"species\": \"Adelie\", \"island\": \"Dream\", \"bill_length_mm\": 37.2, \"bill_depth_mm\": 18.1, \"flipper_length_mm\": 178.0, \"body_mass_g\": 3900.0, \"sex\": \"MALE\"}, {\"species\": \"Adelie\", \"island\": \"Dream\", \"bill_length_mm\": 39.5, \"bill_depth_mm\": 17.8, \"flipper_length_mm\": 188.0, \"body_mass_g\": 3300.0, \"sex\": \"FEMALE\"}, {\"species\": \"Adelie\", \"island\": \"Dream\", \"bill_length_mm\": 40.9, \"bill_depth_mm\": 18.9, \"flipper_length_mm\": 184.0, \"body_mass_g\": 3900.0, \"sex\": \"MALE\"}, {\"species\": \"Adelie\", \"island\": \"Dream\", \"bill_length_mm\": 36.4, \"bill_depth_mm\": 17.0, \"flipper_length_mm\": 195.0, \"body_mass_g\": 3325.0, \"sex\": \"FEMALE\"}, {\"species\": \"Adelie\", \"island\": \"Dream\", \"bill_length_mm\": 39.2, \"bill_depth_mm\": 21.1, \"flipper_length_mm\": 196.0, \"body_mass_g\": 4150.0, \"sex\": \"MALE\"}, {\"species\": \"Adelie\", \"island\": \"Dream\", \"bill_length_mm\": 38.8, \"bill_depth_mm\": 20.0, \"flipper_length_mm\": 190.0, \"body_mass_g\": 3950.0, \"sex\": \"MALE\"}, {\"species\": \"Adelie\", \"island\": \"Dream\", \"bill_length_mm\": 42.2, \"bill_depth_mm\": 18.5, \"flipper_length_mm\": 180.0, \"body_mass_g\": 3550.0, \"sex\": \"FEMALE\"}, {\"species\": \"Adelie\", \"island\": \"Dream\", \"bill_length_mm\": 37.6, \"bill_depth_mm\": 19.3, \"flipper_length_mm\": 181.0, \"body_mass_g\": 3300.0, \"sex\": \"FEMALE\"}, {\"species\": \"Adelie\", \"island\": \"Dream\", \"bill_length_mm\": 39.8, \"bill_depth_mm\": 19.1, \"flipper_length_mm\": 184.0, \"body_mass_g\": 4650.0, \"sex\": \"MALE\"}, {\"species\": \"Adelie\", \"island\": \"Dream\", \"bill_length_mm\": 36.5, \"bill_depth_mm\": 18.0, \"flipper_length_mm\": 182.0, \"body_mass_g\": 3150.0, \"sex\": \"FEMALE\"}, {\"species\": \"Adelie\", \"island\": \"Dream\", \"bill_length_mm\": 40.8, \"bill_depth_mm\": 18.4, \"flipper_length_mm\": 195.0, \"body_mass_g\": 3900.0, \"sex\": \"MALE\"}, {\"species\": \"Adelie\", \"island\": \"Dream\", \"bill_length_mm\": 36.0, \"bill_depth_mm\": 18.5, \"flipper_length_mm\": 186.0, \"body_mass_g\": 3100.0, \"sex\": \"FEMALE\"}, {\"species\": \"Adelie\", \"island\": \"Dream\", \"bill_length_mm\": 44.1, \"bill_depth_mm\": 19.7, \"flipper_length_mm\": 196.0, \"body_mass_g\": 4400.0, \"sex\": \"MALE\"}, {\"species\": \"Adelie\", \"island\": \"Dream\", \"bill_length_mm\": 37.0, \"bill_depth_mm\": 16.9, \"flipper_length_mm\": 185.0, \"body_mass_g\": 3000.0, \"sex\": \"FEMALE\"}, {\"species\": \"Adelie\", \"island\": \"Dream\", \"bill_length_mm\": 39.6, \"bill_depth_mm\": 18.8, \"flipper_length_mm\": 190.0, \"body_mass_g\": 4600.0, \"sex\": \"MALE\"}, {\"species\": \"Adelie\", \"island\": \"Dream\", \"bill_length_mm\": 41.1, \"bill_depth_mm\": 19.0, \"flipper_length_mm\": 182.0, \"body_mass_g\": 3425.0, \"sex\": \"MALE\"}, {\"species\": \"Adelie\", \"island\": \"Dream\", \"bill_length_mm\": 37.5, \"bill_depth_mm\": 18.9, \"flipper_length_mm\": 179.0, \"body_mass_g\": 2975.0, \"sex\": null}, {\"species\": \"Adelie\", \"island\": \"Dream\", \"bill_length_mm\": 36.0, \"bill_depth_mm\": 17.9, \"flipper_length_mm\": 190.0, \"body_mass_g\": 3450.0, \"sex\": \"FEMALE\"}, {\"species\": \"Adelie\", \"island\": \"Dream\", \"bill_length_mm\": 42.3, \"bill_depth_mm\": 21.2, \"flipper_length_mm\": 191.0, \"body_mass_g\": 4150.0, \"sex\": \"MALE\"}, {\"species\": \"Adelie\", \"island\": \"Biscoe\", \"bill_length_mm\": 39.6, \"bill_depth_mm\": 17.7, \"flipper_length_mm\": 186.0, \"body_mass_g\": 3500.0, \"sex\": \"FEMALE\"}, {\"species\": \"Adelie\", \"island\": \"Biscoe\", \"bill_length_mm\": 40.1, \"bill_depth_mm\": 18.9, \"flipper_length_mm\": 188.0, \"body_mass_g\": 4300.0, \"sex\": \"MALE\"}, {\"species\": \"Adelie\", \"island\": \"Biscoe\", \"bill_length_mm\": 35.0, \"bill_depth_mm\": 17.9, \"flipper_length_mm\": 190.0, \"body_mass_g\": 3450.0, \"sex\": \"FEMALE\"}, {\"species\": \"Adelie\", \"island\": \"Biscoe\", \"bill_length_mm\": 42.0, \"bill_depth_mm\": 19.5, \"flipper_length_mm\": 200.0, \"body_mass_g\": 4050.0, \"sex\": \"MALE\"}, {\"species\": \"Adelie\", \"island\": \"Biscoe\", \"bill_length_mm\": 34.5, \"bill_depth_mm\": 18.1, \"flipper_length_mm\": 187.0, \"body_mass_g\": 2900.0, \"sex\": \"FEMALE\"}, {\"species\": \"Adelie\", \"island\": \"Biscoe\", \"bill_length_mm\": 41.4, \"bill_depth_mm\": 18.6, \"flipper_length_mm\": 191.0, \"body_mass_g\": 3700.0, \"sex\": \"MALE\"}, {\"species\": \"Adelie\", \"island\": \"Biscoe\", \"bill_length_mm\": 39.0, \"bill_depth_mm\": 17.5, \"flipper_length_mm\": 186.0, \"body_mass_g\": 3550.0, \"sex\": \"FEMALE\"}, {\"species\": \"Adelie\", \"island\": \"Biscoe\", \"bill_length_mm\": 40.6, \"bill_depth_mm\": 18.8, \"flipper_length_mm\": 193.0, \"body_mass_g\": 3800.0, \"sex\": \"MALE\"}, {\"species\": \"Adelie\", \"island\": \"Biscoe\", \"bill_length_mm\": 36.5, \"bill_depth_mm\": 16.6, \"flipper_length_mm\": 181.0, \"body_mass_g\": 2850.0, \"sex\": \"FEMALE\"}, {\"species\": \"Adelie\", \"island\": \"Biscoe\", \"bill_length_mm\": 37.6, \"bill_depth_mm\": 19.1, \"flipper_length_mm\": 194.0, \"body_mass_g\": 3750.0, \"sex\": \"MALE\"}, {\"species\": \"Adelie\", \"island\": \"Biscoe\", \"bill_length_mm\": 35.7, \"bill_depth_mm\": 16.9, \"flipper_length_mm\": 185.0, \"body_mass_g\": 3150.0, \"sex\": \"FEMALE\"}, {\"species\": \"Adelie\", \"island\": \"Biscoe\", \"bill_length_mm\": 41.3, \"bill_depth_mm\": 21.1, \"flipper_length_mm\": 195.0, \"body_mass_g\": 4400.0, \"sex\": \"MALE\"}, {\"species\": \"Adelie\", \"island\": \"Biscoe\", \"bill_length_mm\": 37.6, \"bill_depth_mm\": 17.0, \"flipper_length_mm\": 185.0, \"body_mass_g\": 3600.0, \"sex\": \"FEMALE\"}, {\"species\": \"Adelie\", \"island\": \"Biscoe\", \"bill_length_mm\": 41.1, \"bill_depth_mm\": 18.2, \"flipper_length_mm\": 192.0, \"body_mass_g\": 4050.0, \"sex\": \"MALE\"}, {\"species\": \"Adelie\", \"island\": \"Biscoe\", \"bill_length_mm\": 36.4, \"bill_depth_mm\": 17.1, \"flipper_length_mm\": 184.0, \"body_mass_g\": 2850.0, \"sex\": \"FEMALE\"}, {\"species\": \"Adelie\", \"island\": \"Biscoe\", \"bill_length_mm\": 41.6, \"bill_depth_mm\": 18.0, \"flipper_length_mm\": 192.0, \"body_mass_g\": 3950.0, \"sex\": \"MALE\"}, {\"species\": \"Adelie\", \"island\": \"Biscoe\", \"bill_length_mm\": 35.5, \"bill_depth_mm\": 16.2, \"flipper_length_mm\": 195.0, \"body_mass_g\": 3350.0, \"sex\": \"FEMALE\"}, {\"species\": \"Adelie\", \"island\": \"Biscoe\", \"bill_length_mm\": 41.1, \"bill_depth_mm\": 19.1, \"flipper_length_mm\": 188.0, \"body_mass_g\": 4100.0, \"sex\": \"MALE\"}, {\"species\": \"Adelie\", \"island\": \"Torgersen\", \"bill_length_mm\": 35.9, \"bill_depth_mm\": 16.6, \"flipper_length_mm\": 190.0, \"body_mass_g\": 3050.0, \"sex\": \"FEMALE\"}, {\"species\": \"Adelie\", \"island\": \"Torgersen\", \"bill_length_mm\": 41.8, \"bill_depth_mm\": 19.4, \"flipper_length_mm\": 198.0, \"body_mass_g\": 4450.0, \"sex\": \"MALE\"}, {\"species\": \"Adelie\", \"island\": \"Torgersen\", \"bill_length_mm\": 33.5, \"bill_depth_mm\": 19.0, \"flipper_length_mm\": 190.0, \"body_mass_g\": 3600.0, \"sex\": \"FEMALE\"}, {\"species\": \"Adelie\", \"island\": \"Torgersen\", \"bill_length_mm\": 39.7, \"bill_depth_mm\": 18.4, \"flipper_length_mm\": 190.0, \"body_mass_g\": 3900.0, \"sex\": \"MALE\"}, {\"species\": \"Adelie\", \"island\": \"Torgersen\", \"bill_length_mm\": 39.6, \"bill_depth_mm\": 17.2, \"flipper_length_mm\": 196.0, \"body_mass_g\": 3550.0, \"sex\": \"FEMALE\"}, {\"species\": \"Adelie\", \"island\": \"Torgersen\", \"bill_length_mm\": 45.8, \"bill_depth_mm\": 18.9, \"flipper_length_mm\": 197.0, \"body_mass_g\": 4150.0, \"sex\": \"MALE\"}, {\"species\": \"Adelie\", \"island\": \"Torgersen\", \"bill_length_mm\": 35.5, \"bill_depth_mm\": 17.5, \"flipper_length_mm\": 190.0, \"body_mass_g\": 3700.0, \"sex\": \"FEMALE\"}, {\"species\": \"Adelie\", \"island\": \"Torgersen\", \"bill_length_mm\": 42.8, \"bill_depth_mm\": 18.5, \"flipper_length_mm\": 195.0, \"body_mass_g\": 4250.0, \"sex\": \"MALE\"}, {\"species\": \"Adelie\", \"island\": \"Torgersen\", \"bill_length_mm\": 40.9, \"bill_depth_mm\": 16.8, \"flipper_length_mm\": 191.0, \"body_mass_g\": 3700.0, \"sex\": \"FEMALE\"}, {\"species\": \"Adelie\", \"island\": \"Torgersen\", \"bill_length_mm\": 37.2, \"bill_depth_mm\": 19.4, \"flipper_length_mm\": 184.0, \"body_mass_g\": 3900.0, \"sex\": \"MALE\"}, {\"species\": \"Adelie\", \"island\": \"Torgersen\", \"bill_length_mm\": 36.2, \"bill_depth_mm\": 16.1, \"flipper_length_mm\": 187.0, \"body_mass_g\": 3550.0, \"sex\": \"FEMALE\"}, {\"species\": \"Adelie\", \"island\": \"Torgersen\", \"bill_length_mm\": 42.1, \"bill_depth_mm\": 19.1, \"flipper_length_mm\": 195.0, \"body_mass_g\": 4000.0, \"sex\": \"MALE\"}, {\"species\": \"Adelie\", \"island\": \"Torgersen\", \"bill_length_mm\": 34.6, \"bill_depth_mm\": 17.2, \"flipper_length_mm\": 189.0, \"body_mass_g\": 3200.0, \"sex\": \"FEMALE\"}, {\"species\": \"Adelie\", \"island\": \"Torgersen\", \"bill_length_mm\": 42.9, \"bill_depth_mm\": 17.6, \"flipper_length_mm\": 196.0, \"body_mass_g\": 4700.0, \"sex\": \"MALE\"}, {\"species\": \"Adelie\", \"island\": \"Torgersen\", \"bill_length_mm\": 36.7, \"bill_depth_mm\": 18.8, \"flipper_length_mm\": 187.0, \"body_mass_g\": 3800.0, \"sex\": \"FEMALE\"}, {\"species\": \"Adelie\", \"island\": \"Torgersen\", \"bill_length_mm\": 35.1, \"bill_depth_mm\": 19.4, \"flipper_length_mm\": 193.0, \"body_mass_g\": 4200.0, \"sex\": \"MALE\"}, {\"species\": \"Adelie\", \"island\": \"Dream\", \"bill_length_mm\": 37.3, \"bill_depth_mm\": 17.8, \"flipper_length_mm\": 191.0, \"body_mass_g\": 3350.0, \"sex\": \"FEMALE\"}, {\"species\": \"Adelie\", \"island\": \"Dream\", \"bill_length_mm\": 41.3, \"bill_depth_mm\": 20.3, \"flipper_length_mm\": 194.0, \"body_mass_g\": 3550.0, \"sex\": \"MALE\"}, {\"species\": \"Adelie\", \"island\": \"Dream\", \"bill_length_mm\": 36.3, \"bill_depth_mm\": 19.5, \"flipper_length_mm\": 190.0, \"body_mass_g\": 3800.0, \"sex\": \"MALE\"}, {\"species\": \"Adelie\", \"island\": \"Dream\", \"bill_length_mm\": 36.9, \"bill_depth_mm\": 18.6, \"flipper_length_mm\": 189.0, \"body_mass_g\": 3500.0, \"sex\": \"FEMALE\"}, {\"species\": \"Adelie\", \"island\": \"Dream\", \"bill_length_mm\": 38.3, \"bill_depth_mm\": 19.2, \"flipper_length_mm\": 189.0, \"body_mass_g\": 3950.0, \"sex\": \"MALE\"}, {\"species\": \"Adelie\", \"island\": \"Dream\", \"bill_length_mm\": 38.9, \"bill_depth_mm\": 18.8, \"flipper_length_mm\": 190.0, \"body_mass_g\": 3600.0, \"sex\": \"FEMALE\"}, {\"species\": \"Adelie\", \"island\": \"Dream\", \"bill_length_mm\": 35.7, \"bill_depth_mm\": 18.0, \"flipper_length_mm\": 202.0, \"body_mass_g\": 3550.0, \"sex\": \"FEMALE\"}, {\"species\": \"Adelie\", \"island\": \"Dream\", \"bill_length_mm\": 41.1, \"bill_depth_mm\": 18.1, \"flipper_length_mm\": 205.0, \"body_mass_g\": 4300.0, \"sex\": \"MALE\"}, {\"species\": \"Adelie\", \"island\": \"Dream\", \"bill_length_mm\": 34.0, \"bill_depth_mm\": 17.1, \"flipper_length_mm\": 185.0, \"body_mass_g\": 3400.0, \"sex\": \"FEMALE\"}, {\"species\": \"Adelie\", \"island\": \"Dream\", \"bill_length_mm\": 39.6, \"bill_depth_mm\": 18.1, \"flipper_length_mm\": 186.0, \"body_mass_g\": 4450.0, \"sex\": \"MALE\"}, {\"species\": \"Adelie\", \"island\": \"Dream\", \"bill_length_mm\": 36.2, \"bill_depth_mm\": 17.3, \"flipper_length_mm\": 187.0, \"body_mass_g\": 3300.0, \"sex\": \"FEMALE\"}, {\"species\": \"Adelie\", \"island\": \"Dream\", \"bill_length_mm\": 40.8, \"bill_depth_mm\": 18.9, \"flipper_length_mm\": 208.0, \"body_mass_g\": 4300.0, \"sex\": \"MALE\"}, {\"species\": \"Adelie\", \"island\": \"Dream\", \"bill_length_mm\": 38.1, \"bill_depth_mm\": 18.6, \"flipper_length_mm\": 190.0, \"body_mass_g\": 3700.0, \"sex\": \"FEMALE\"}, {\"species\": \"Adelie\", \"island\": \"Dream\", \"bill_length_mm\": 40.3, \"bill_depth_mm\": 18.5, \"flipper_length_mm\": 196.0, \"body_mass_g\": 4350.0, \"sex\": \"MALE\"}, {\"species\": \"Adelie\", \"island\": \"Dream\", \"bill_length_mm\": 33.1, \"bill_depth_mm\": 16.1, \"flipper_length_mm\": 178.0, \"body_mass_g\": 2900.0, \"sex\": \"FEMALE\"}, {\"species\": \"Adelie\", \"island\": \"Dream\", \"bill_length_mm\": 43.2, \"bill_depth_mm\": 18.5, \"flipper_length_mm\": 192.0, \"body_mass_g\": 4100.0, \"sex\": \"MALE\"}, {\"species\": \"Adelie\", \"island\": \"Biscoe\", \"bill_length_mm\": 35.0, \"bill_depth_mm\": 17.9, \"flipper_length_mm\": 192.0, \"body_mass_g\": 3725.0, \"sex\": \"FEMALE\"}, {\"species\": \"Adelie\", \"island\": \"Biscoe\", \"bill_length_mm\": 41.0, \"bill_depth_mm\": 20.0, \"flipper_length_mm\": 203.0, \"body_mass_g\": 4725.0, \"sex\": \"MALE\"}, {\"species\": \"Adelie\", \"island\": \"Biscoe\", \"bill_length_mm\": 37.7, \"bill_depth_mm\": 16.0, \"flipper_length_mm\": 183.0, \"body_mass_g\": 3075.0, \"sex\": \"FEMALE\"}, {\"species\": \"Adelie\", \"island\": \"Biscoe\", \"bill_length_mm\": 37.8, \"bill_depth_mm\": 20.0, \"flipper_length_mm\": 190.0, \"body_mass_g\": 4250.0, \"sex\": \"MALE\"}, {\"species\": \"Adelie\", \"island\": \"Biscoe\", \"bill_length_mm\": 37.9, \"bill_depth_mm\": 18.6, \"flipper_length_mm\": 193.0, \"body_mass_g\": 2925.0, \"sex\": \"FEMALE\"}, {\"species\": \"Adelie\", \"island\": \"Biscoe\", \"bill_length_mm\": 39.7, \"bill_depth_mm\": 18.9, \"flipper_length_mm\": 184.0, \"body_mass_g\": 3550.0, \"sex\": \"MALE\"}, {\"species\": \"Adelie\", \"island\": \"Biscoe\", \"bill_length_mm\": 38.6, \"bill_depth_mm\": 17.2, \"flipper_length_mm\": 199.0, \"body_mass_g\": 3750.0, \"sex\": \"FEMALE\"}, {\"species\": \"Adelie\", \"island\": \"Biscoe\", \"bill_length_mm\": 38.2, \"bill_depth_mm\": 20.0, \"flipper_length_mm\": 190.0, \"body_mass_g\": 3900.0, \"sex\": \"MALE\"}, {\"species\": \"Adelie\", \"island\": \"Biscoe\", \"bill_length_mm\": 38.1, \"bill_depth_mm\": 17.0, \"flipper_length_mm\": 181.0, \"body_mass_g\": 3175.0, \"sex\": \"FEMALE\"}, {\"species\": \"Adelie\", \"island\": \"Biscoe\", \"bill_length_mm\": 43.2, \"bill_depth_mm\": 19.0, \"flipper_length_mm\": 197.0, \"body_mass_g\": 4775.0, \"sex\": \"MALE\"}, {\"species\": \"Adelie\", \"island\": \"Biscoe\", \"bill_length_mm\": 38.1, \"bill_depth_mm\": 16.5, \"flipper_length_mm\": 198.0, \"body_mass_g\": 3825.0, \"sex\": \"FEMALE\"}, {\"species\": \"Adelie\", \"island\": \"Biscoe\", \"bill_length_mm\": 45.6, \"bill_depth_mm\": 20.3, \"flipper_length_mm\": 191.0, \"body_mass_g\": 4600.0, \"sex\": \"MALE\"}, {\"species\": \"Adelie\", \"island\": \"Biscoe\", \"bill_length_mm\": 39.7, \"bill_depth_mm\": 17.7, \"flipper_length_mm\": 193.0, \"body_mass_g\": 3200.0, \"sex\": \"FEMALE\"}, {\"species\": \"Adelie\", \"island\": \"Biscoe\", \"bill_length_mm\": 42.2, \"bill_depth_mm\": 19.5, \"flipper_length_mm\": 197.0, \"body_mass_g\": 4275.0, \"sex\": \"MALE\"}, {\"species\": \"Adelie\", \"island\": \"Biscoe\", \"bill_length_mm\": 39.6, \"bill_depth_mm\": 20.7, \"flipper_length_mm\": 191.0, \"body_mass_g\": 3900.0, \"sex\": \"FEMALE\"}, {\"species\": \"Adelie\", \"island\": \"Biscoe\", \"bill_length_mm\": 42.7, \"bill_depth_mm\": 18.3, \"flipper_length_mm\": 196.0, \"body_mass_g\": 4075.0, \"sex\": \"MALE\"}, {\"species\": \"Adelie\", \"island\": \"Torgersen\", \"bill_length_mm\": 38.6, \"bill_depth_mm\": 17.0, \"flipper_length_mm\": 188.0, \"body_mass_g\": 2900.0, \"sex\": \"FEMALE\"}, {\"species\": \"Adelie\", \"island\": \"Torgersen\", \"bill_length_mm\": 37.3, \"bill_depth_mm\": 20.5, \"flipper_length_mm\": 199.0, \"body_mass_g\": 3775.0, \"sex\": \"MALE\"}, {\"species\": \"Adelie\", \"island\": \"Torgersen\", \"bill_length_mm\": 35.7, \"bill_depth_mm\": 17.0, \"flipper_length_mm\": 189.0, \"body_mass_g\": 3350.0, \"sex\": \"FEMALE\"}, {\"species\": \"Adelie\", \"island\": \"Torgersen\", \"bill_length_mm\": 41.1, \"bill_depth_mm\": 18.6, \"flipper_length_mm\": 189.0, \"body_mass_g\": 3325.0, \"sex\": \"MALE\"}, {\"species\": \"Adelie\", \"island\": \"Torgersen\", \"bill_length_mm\": 36.2, \"bill_depth_mm\": 17.2, \"flipper_length_mm\": 187.0, \"body_mass_g\": 3150.0, \"sex\": \"FEMALE\"}, {\"species\": \"Adelie\", \"island\": \"Torgersen\", \"bill_length_mm\": 37.7, \"bill_depth_mm\": 19.8, \"flipper_length_mm\": 198.0, \"body_mass_g\": 3500.0, \"sex\": \"MALE\"}, {\"species\": \"Adelie\", \"island\": \"Torgersen\", \"bill_length_mm\": 40.2, \"bill_depth_mm\": 17.0, \"flipper_length_mm\": 176.0, \"body_mass_g\": 3450.0, \"sex\": \"FEMALE\"}, {\"species\": \"Adelie\", \"island\": \"Torgersen\", \"bill_length_mm\": 41.4, \"bill_depth_mm\": 18.5, \"flipper_length_mm\": 202.0, \"body_mass_g\": 3875.0, \"sex\": \"MALE\"}, {\"species\": \"Adelie\", \"island\": \"Torgersen\", \"bill_length_mm\": 35.2, \"bill_depth_mm\": 15.9, \"flipper_length_mm\": 186.0, \"body_mass_g\": 3050.0, \"sex\": \"FEMALE\"}, {\"species\": \"Adelie\", \"island\": \"Torgersen\", \"bill_length_mm\": 40.6, \"bill_depth_mm\": 19.0, \"flipper_length_mm\": 199.0, \"body_mass_g\": 4000.0, \"sex\": \"MALE\"}, {\"species\": \"Adelie\", \"island\": \"Torgersen\", \"bill_length_mm\": 38.8, \"bill_depth_mm\": 17.6, \"flipper_length_mm\": 191.0, \"body_mass_g\": 3275.0, \"sex\": \"FEMALE\"}, {\"species\": \"Adelie\", \"island\": \"Torgersen\", \"bill_length_mm\": 41.5, \"bill_depth_mm\": 18.3, \"flipper_length_mm\": 195.0, \"body_mass_g\": 4300.0, \"sex\": \"MALE\"}, {\"species\": \"Adelie\", \"island\": \"Torgersen\", \"bill_length_mm\": 39.0, \"bill_depth_mm\": 17.1, \"flipper_length_mm\": 191.0, \"body_mass_g\": 3050.0, \"sex\": \"FEMALE\"}, {\"species\": \"Adelie\", \"island\": \"Torgersen\", \"bill_length_mm\": 44.1, \"bill_depth_mm\": 18.0, \"flipper_length_mm\": 210.0, \"body_mass_g\": 4000.0, \"sex\": \"MALE\"}, {\"species\": \"Adelie\", \"island\": \"Torgersen\", \"bill_length_mm\": 38.5, \"bill_depth_mm\": 17.9, \"flipper_length_mm\": 190.0, \"body_mass_g\": 3325.0, \"sex\": \"FEMALE\"}, {\"species\": \"Adelie\", \"island\": \"Torgersen\", \"bill_length_mm\": 43.1, \"bill_depth_mm\": 19.2, \"flipper_length_mm\": 197.0, \"body_mass_g\": 3500.0, \"sex\": \"MALE\"}, {\"species\": \"Adelie\", \"island\": \"Dream\", \"bill_length_mm\": 36.8, \"bill_depth_mm\": 18.5, \"flipper_length_mm\": 193.0, \"body_mass_g\": 3500.0, \"sex\": \"FEMALE\"}, {\"species\": \"Adelie\", \"island\": \"Dream\", \"bill_length_mm\": 37.5, \"bill_depth_mm\": 18.5, \"flipper_length_mm\": 199.0, \"body_mass_g\": 4475.0, \"sex\": \"MALE\"}, {\"species\": \"Adelie\", \"island\": \"Dream\", \"bill_length_mm\": 38.1, \"bill_depth_mm\": 17.6, \"flipper_length_mm\": 187.0, \"body_mass_g\": 3425.0, \"sex\": \"FEMALE\"}, {\"species\": \"Adelie\", \"island\": \"Dream\", \"bill_length_mm\": 41.1, \"bill_depth_mm\": 17.5, \"flipper_length_mm\": 190.0, \"body_mass_g\": 3900.0, \"sex\": \"MALE\"}, {\"species\": \"Adelie\", \"island\": \"Dream\", \"bill_length_mm\": 35.6, \"bill_depth_mm\": 17.5, \"flipper_length_mm\": 191.0, \"body_mass_g\": 3175.0, \"sex\": \"FEMALE\"}, {\"species\": \"Adelie\", \"island\": \"Dream\", \"bill_length_mm\": 40.2, \"bill_depth_mm\": 20.1, \"flipper_length_mm\": 200.0, \"body_mass_g\": 3975.0, \"sex\": \"MALE\"}, {\"species\": \"Adelie\", \"island\": \"Dream\", \"bill_length_mm\": 37.0, \"bill_depth_mm\": 16.5, \"flipper_length_mm\": 185.0, \"body_mass_g\": 3400.0, \"sex\": \"FEMALE\"}, {\"species\": \"Adelie\", \"island\": \"Dream\", \"bill_length_mm\": 39.7, \"bill_depth_mm\": 17.9, \"flipper_length_mm\": 193.0, \"body_mass_g\": 4250.0, \"sex\": \"MALE\"}, {\"species\": \"Adelie\", \"island\": \"Dream\", \"bill_length_mm\": 40.2, \"bill_depth_mm\": 17.1, \"flipper_length_mm\": 193.0, \"body_mass_g\": 3400.0, \"sex\": \"FEMALE\"}, {\"species\": \"Adelie\", \"island\": \"Dream\", \"bill_length_mm\": 40.6, \"bill_depth_mm\": 17.2, \"flipper_length_mm\": 187.0, \"body_mass_g\": 3475.0, \"sex\": \"MALE\"}, {\"species\": \"Adelie\", \"island\": \"Dream\", \"bill_length_mm\": 32.1, \"bill_depth_mm\": 15.5, \"flipper_length_mm\": 188.0, \"body_mass_g\": 3050.0, \"sex\": \"FEMALE\"}, {\"species\": \"Adelie\", \"island\": \"Dream\", \"bill_length_mm\": 40.7, \"bill_depth_mm\": 17.0, \"flipper_length_mm\": 190.0, \"body_mass_g\": 3725.0, \"sex\": \"MALE\"}, {\"species\": \"Adelie\", \"island\": \"Dream\", \"bill_length_mm\": 37.3, \"bill_depth_mm\": 16.8, \"flipper_length_mm\": 192.0, \"body_mass_g\": 3000.0, \"sex\": \"FEMALE\"}, {\"species\": \"Adelie\", \"island\": \"Dream\", \"bill_length_mm\": 39.0, \"bill_depth_mm\": 18.7, \"flipper_length_mm\": 185.0, \"body_mass_g\": 3650.0, \"sex\": \"MALE\"}, {\"species\": \"Adelie\", \"island\": \"Dream\", \"bill_length_mm\": 39.2, \"bill_depth_mm\": 18.6, \"flipper_length_mm\": 190.0, \"body_mass_g\": 4250.0, \"sex\": \"MALE\"}, {\"species\": \"Adelie\", \"island\": \"Dream\", \"bill_length_mm\": 36.6, \"bill_depth_mm\": 18.4, \"flipper_length_mm\": 184.0, \"body_mass_g\": 3475.0, \"sex\": \"FEMALE\"}, {\"species\": \"Adelie\", \"island\": \"Dream\", \"bill_length_mm\": 36.0, \"bill_depth_mm\": 17.8, \"flipper_length_mm\": 195.0, \"body_mass_g\": 3450.0, \"sex\": \"FEMALE\"}, {\"species\": \"Adelie\", \"island\": \"Dream\", \"bill_length_mm\": 37.8, \"bill_depth_mm\": 18.1, \"flipper_length_mm\": 193.0, \"body_mass_g\": 3750.0, \"sex\": \"MALE\"}, {\"species\": \"Adelie\", \"island\": \"Dream\", \"bill_length_mm\": 36.0, \"bill_depth_mm\": 17.1, \"flipper_length_mm\": 187.0, \"body_mass_g\": 3700.0, \"sex\": \"FEMALE\"}, {\"species\": \"Adelie\", \"island\": \"Dream\", \"bill_length_mm\": 41.5, \"bill_depth_mm\": 18.5, \"flipper_length_mm\": 201.0, \"body_mass_g\": 4000.0, \"sex\": \"MALE\"}, {\"species\": \"Chinstrap\", \"island\": \"Dream\", \"bill_length_mm\": 46.5, \"bill_depth_mm\": 17.9, \"flipper_length_mm\": 192.0, \"body_mass_g\": 3500.0, \"sex\": \"FEMALE\"}, {\"species\": \"Chinstrap\", \"island\": \"Dream\", \"bill_length_mm\": 50.0, \"bill_depth_mm\": 19.5, \"flipper_length_mm\": 196.0, \"body_mass_g\": 3900.0, \"sex\": \"MALE\"}, {\"species\": \"Chinstrap\", \"island\": \"Dream\", \"bill_length_mm\": 51.3, \"bill_depth_mm\": 19.2, \"flipper_length_mm\": 193.0, \"body_mass_g\": 3650.0, \"sex\": \"MALE\"}, {\"species\": \"Chinstrap\", \"island\": \"Dream\", \"bill_length_mm\": 45.4, \"bill_depth_mm\": 18.7, \"flipper_length_mm\": 188.0, \"body_mass_g\": 3525.0, \"sex\": \"FEMALE\"}, {\"species\": \"Chinstrap\", \"island\": \"Dream\", \"bill_length_mm\": 52.7, \"bill_depth_mm\": 19.8, \"flipper_length_mm\": 197.0, \"body_mass_g\": 3725.0, \"sex\": \"MALE\"}, {\"species\": \"Chinstrap\", \"island\": \"Dream\", \"bill_length_mm\": 45.2, \"bill_depth_mm\": 17.8, \"flipper_length_mm\": 198.0, \"body_mass_g\": 3950.0, \"sex\": \"FEMALE\"}, {\"species\": \"Chinstrap\", \"island\": \"Dream\", \"bill_length_mm\": 46.1, \"bill_depth_mm\": 18.2, \"flipper_length_mm\": 178.0, \"body_mass_g\": 3250.0, \"sex\": \"FEMALE\"}, {\"species\": \"Chinstrap\", \"island\": \"Dream\", \"bill_length_mm\": 51.3, \"bill_depth_mm\": 18.2, \"flipper_length_mm\": 197.0, \"body_mass_g\": 3750.0, \"sex\": \"MALE\"}, {\"species\": \"Chinstrap\", \"island\": \"Dream\", \"bill_length_mm\": 46.0, \"bill_depth_mm\": 18.9, \"flipper_length_mm\": 195.0, \"body_mass_g\": 4150.0, \"sex\": \"FEMALE\"}, {\"species\": \"Chinstrap\", \"island\": \"Dream\", \"bill_length_mm\": 51.3, \"bill_depth_mm\": 19.9, \"flipper_length_mm\": 198.0, \"body_mass_g\": 3700.0, \"sex\": \"MALE\"}, {\"species\": \"Chinstrap\", \"island\": \"Dream\", \"bill_length_mm\": 46.6, \"bill_depth_mm\": 17.8, \"flipper_length_mm\": 193.0, \"body_mass_g\": 3800.0, \"sex\": \"FEMALE\"}, {\"species\": \"Chinstrap\", \"island\": \"Dream\", \"bill_length_mm\": 51.7, \"bill_depth_mm\": 20.3, \"flipper_length_mm\": 194.0, \"body_mass_g\": 3775.0, \"sex\": \"MALE\"}, {\"species\": \"Chinstrap\", \"island\": \"Dream\", \"bill_length_mm\": 47.0, \"bill_depth_mm\": 17.3, \"flipper_length_mm\": 185.0, \"body_mass_g\": 3700.0, \"sex\": \"FEMALE\"}, {\"species\": \"Chinstrap\", \"island\": \"Dream\", \"bill_length_mm\": 52.0, \"bill_depth_mm\": 18.1, \"flipper_length_mm\": 201.0, \"body_mass_g\": 4050.0, \"sex\": \"MALE\"}, {\"species\": \"Chinstrap\", \"island\": \"Dream\", \"bill_length_mm\": 45.9, \"bill_depth_mm\": 17.1, \"flipper_length_mm\": 190.0, \"body_mass_g\": 3575.0, \"sex\": \"FEMALE\"}, {\"species\": \"Chinstrap\", \"island\": \"Dream\", \"bill_length_mm\": 50.5, \"bill_depth_mm\": 19.6, \"flipper_length_mm\": 201.0, \"body_mass_g\": 4050.0, \"sex\": \"MALE\"}, {\"species\": \"Chinstrap\", \"island\": \"Dream\", \"bill_length_mm\": 50.3, \"bill_depth_mm\": 20.0, \"flipper_length_mm\": 197.0, \"body_mass_g\": 3300.0, \"sex\": \"MALE\"}, {\"species\": \"Chinstrap\", \"island\": \"Dream\", \"bill_length_mm\": 58.0, \"bill_depth_mm\": 17.8, \"flipper_length_mm\": 181.0, \"body_mass_g\": 3700.0, \"sex\": \"FEMALE\"}, {\"species\": \"Chinstrap\", \"island\": \"Dream\", \"bill_length_mm\": 46.4, \"bill_depth_mm\": 18.6, \"flipper_length_mm\": 190.0, \"body_mass_g\": 3450.0, \"sex\": \"FEMALE\"}, {\"species\": \"Chinstrap\", \"island\": \"Dream\", \"bill_length_mm\": 49.2, \"bill_depth_mm\": 18.2, \"flipper_length_mm\": 195.0, \"body_mass_g\": 4400.0, \"sex\": \"MALE\"}, {\"species\": \"Chinstrap\", \"island\": \"Dream\", \"bill_length_mm\": 42.4, \"bill_depth_mm\": 17.3, \"flipper_length_mm\": 181.0, \"body_mass_g\": 3600.0, \"sex\": \"FEMALE\"}, {\"species\": \"Chinstrap\", \"island\": \"Dream\", \"bill_length_mm\": 48.5, \"bill_depth_mm\": 17.5, \"flipper_length_mm\": 191.0, \"body_mass_g\": 3400.0, \"sex\": \"MALE\"}, {\"species\": \"Chinstrap\", \"island\": \"Dream\", \"bill_length_mm\": 43.2, \"bill_depth_mm\": 16.6, \"flipper_length_mm\": 187.0, \"body_mass_g\": 2900.0, \"sex\": \"FEMALE\"}, {\"species\": \"Chinstrap\", \"island\": \"Dream\", \"bill_length_mm\": 50.6, \"bill_depth_mm\": 19.4, \"flipper_length_mm\": 193.0, \"body_mass_g\": 3800.0, \"sex\": \"MALE\"}, {\"species\": \"Chinstrap\", \"island\": \"Dream\", \"bill_length_mm\": 46.7, \"bill_depth_mm\": 17.9, \"flipper_length_mm\": 195.0, \"body_mass_g\": 3300.0, \"sex\": \"FEMALE\"}, {\"species\": \"Chinstrap\", \"island\": \"Dream\", \"bill_length_mm\": 52.0, \"bill_depth_mm\": 19.0, \"flipper_length_mm\": 197.0, \"body_mass_g\": 4150.0, \"sex\": \"MALE\"}, {\"species\": \"Chinstrap\", \"island\": \"Dream\", \"bill_length_mm\": 50.5, \"bill_depth_mm\": 18.4, \"flipper_length_mm\": 200.0, \"body_mass_g\": 3400.0, \"sex\": \"FEMALE\"}, {\"species\": \"Chinstrap\", \"island\": \"Dream\", \"bill_length_mm\": 49.5, \"bill_depth_mm\": 19.0, \"flipper_length_mm\": 200.0, \"body_mass_g\": 3800.0, \"sex\": \"MALE\"}, {\"species\": \"Chinstrap\", \"island\": \"Dream\", \"bill_length_mm\": 46.4, \"bill_depth_mm\": 17.8, \"flipper_length_mm\": 191.0, \"body_mass_g\": 3700.0, \"sex\": \"FEMALE\"}, {\"species\": \"Chinstrap\", \"island\": \"Dream\", \"bill_length_mm\": 52.8, \"bill_depth_mm\": 20.0, \"flipper_length_mm\": 205.0, \"body_mass_g\": 4550.0, \"sex\": \"MALE\"}, {\"species\": \"Chinstrap\", \"island\": \"Dream\", \"bill_length_mm\": 40.9, \"bill_depth_mm\": 16.6, \"flipper_length_mm\": 187.0, \"body_mass_g\": 3200.0, \"sex\": \"FEMALE\"}, {\"species\": \"Chinstrap\", \"island\": \"Dream\", \"bill_length_mm\": 54.2, \"bill_depth_mm\": 20.8, \"flipper_length_mm\": 201.0, \"body_mass_g\": 4300.0, \"sex\": \"MALE\"}, {\"species\": \"Chinstrap\", \"island\": \"Dream\", \"bill_length_mm\": 42.5, \"bill_depth_mm\": 16.7, \"flipper_length_mm\": 187.0, \"body_mass_g\": 3350.0, \"sex\": \"FEMALE\"}, {\"species\": \"Chinstrap\", \"island\": \"Dream\", \"bill_length_mm\": 51.0, \"bill_depth_mm\": 18.8, \"flipper_length_mm\": 203.0, \"body_mass_g\": 4100.0, \"sex\": \"MALE\"}, {\"species\": \"Chinstrap\", \"island\": \"Dream\", \"bill_length_mm\": 49.7, \"bill_depth_mm\": 18.6, \"flipper_length_mm\": 195.0, \"body_mass_g\": 3600.0, \"sex\": \"MALE\"}, {\"species\": \"Chinstrap\", \"island\": \"Dream\", \"bill_length_mm\": 47.5, \"bill_depth_mm\": 16.8, \"flipper_length_mm\": 199.0, \"body_mass_g\": 3900.0, \"sex\": \"FEMALE\"}, {\"species\": \"Chinstrap\", \"island\": \"Dream\", \"bill_length_mm\": 47.6, \"bill_depth_mm\": 18.3, \"flipper_length_mm\": 195.0, \"body_mass_g\": 3850.0, \"sex\": \"FEMALE\"}, {\"species\": \"Chinstrap\", \"island\": \"Dream\", \"bill_length_mm\": 52.0, \"bill_depth_mm\": 20.7, \"flipper_length_mm\": 210.0, \"body_mass_g\": 4800.0, \"sex\": \"MALE\"}, {\"species\": \"Chinstrap\", \"island\": \"Dream\", \"bill_length_mm\": 46.9, \"bill_depth_mm\": 16.6, \"flipper_length_mm\": 192.0, \"body_mass_g\": 2700.0, \"sex\": \"FEMALE\"}, {\"species\": \"Chinstrap\", \"island\": \"Dream\", \"bill_length_mm\": 53.5, \"bill_depth_mm\": 19.9, \"flipper_length_mm\": 205.0, \"body_mass_g\": 4500.0, \"sex\": \"MALE\"}, {\"species\": \"Chinstrap\", \"island\": \"Dream\", \"bill_length_mm\": 49.0, \"bill_depth_mm\": 19.5, \"flipper_length_mm\": 210.0, \"body_mass_g\": 3950.0, \"sex\": \"MALE\"}, {\"species\": \"Chinstrap\", \"island\": \"Dream\", \"bill_length_mm\": 46.2, \"bill_depth_mm\": 17.5, \"flipper_length_mm\": 187.0, \"body_mass_g\": 3650.0, \"sex\": \"FEMALE\"}, {\"species\": \"Chinstrap\", \"island\": \"Dream\", \"bill_length_mm\": 50.9, \"bill_depth_mm\": 19.1, \"flipper_length_mm\": 196.0, \"body_mass_g\": 3550.0, \"sex\": \"MALE\"}, {\"species\": \"Chinstrap\", \"island\": \"Dream\", \"bill_length_mm\": 45.5, \"bill_depth_mm\": 17.0, \"flipper_length_mm\": 196.0, \"body_mass_g\": 3500.0, \"sex\": \"FEMALE\"}, {\"species\": \"Chinstrap\", \"island\": \"Dream\", \"bill_length_mm\": 50.9, \"bill_depth_mm\": 17.9, \"flipper_length_mm\": 196.0, \"body_mass_g\": 3675.0, \"sex\": \"FEMALE\"}, {\"species\": \"Chinstrap\", \"island\": \"Dream\", \"bill_length_mm\": 50.8, \"bill_depth_mm\": 18.5, \"flipper_length_mm\": 201.0, \"body_mass_g\": 4450.0, \"sex\": \"MALE\"}, {\"species\": \"Chinstrap\", \"island\": \"Dream\", \"bill_length_mm\": 50.1, \"bill_depth_mm\": 17.9, \"flipper_length_mm\": 190.0, \"body_mass_g\": 3400.0, \"sex\": \"FEMALE\"}, {\"species\": \"Chinstrap\", \"island\": \"Dream\", \"bill_length_mm\": 49.0, \"bill_depth_mm\": 19.6, \"flipper_length_mm\": 212.0, \"body_mass_g\": 4300.0, \"sex\": \"MALE\"}, {\"species\": \"Chinstrap\", \"island\": \"Dream\", \"bill_length_mm\": 51.5, \"bill_depth_mm\": 18.7, \"flipper_length_mm\": 187.0, \"body_mass_g\": 3250.0, \"sex\": \"MALE\"}, {\"species\": \"Chinstrap\", \"island\": \"Dream\", \"bill_length_mm\": 49.8, \"bill_depth_mm\": 17.3, \"flipper_length_mm\": 198.0, \"body_mass_g\": 3675.0, \"sex\": \"FEMALE\"}, {\"species\": \"Chinstrap\", \"island\": \"Dream\", \"bill_length_mm\": 48.1, \"bill_depth_mm\": 16.4, \"flipper_length_mm\": 199.0, \"body_mass_g\": 3325.0, \"sex\": \"FEMALE\"}, {\"species\": \"Chinstrap\", \"island\": \"Dream\", \"bill_length_mm\": 51.4, \"bill_depth_mm\": 19.0, \"flipper_length_mm\": 201.0, \"body_mass_g\": 3950.0, \"sex\": \"MALE\"}, {\"species\": \"Chinstrap\", \"island\": \"Dream\", \"bill_length_mm\": 45.7, \"bill_depth_mm\": 17.3, \"flipper_length_mm\": 193.0, \"body_mass_g\": 3600.0, \"sex\": \"FEMALE\"}, {\"species\": \"Chinstrap\", \"island\": \"Dream\", \"bill_length_mm\": 50.7, \"bill_depth_mm\": 19.7, \"flipper_length_mm\": 203.0, \"body_mass_g\": 4050.0, \"sex\": \"MALE\"}, {\"species\": \"Chinstrap\", \"island\": \"Dream\", \"bill_length_mm\": 42.5, \"bill_depth_mm\": 17.3, \"flipper_length_mm\": 187.0, \"body_mass_g\": 3350.0, \"sex\": \"FEMALE\"}, {\"species\": \"Chinstrap\", \"island\": \"Dream\", \"bill_length_mm\": 52.2, \"bill_depth_mm\": 18.8, \"flipper_length_mm\": 197.0, \"body_mass_g\": 3450.0, \"sex\": \"MALE\"}, {\"species\": \"Chinstrap\", \"island\": \"Dream\", \"bill_length_mm\": 45.2, \"bill_depth_mm\": 16.6, \"flipper_length_mm\": 191.0, \"body_mass_g\": 3250.0, \"sex\": \"FEMALE\"}, {\"species\": \"Chinstrap\", \"island\": \"Dream\", \"bill_length_mm\": 49.3, \"bill_depth_mm\": 19.9, \"flipper_length_mm\": 203.0, \"body_mass_g\": 4050.0, \"sex\": \"MALE\"}, {\"species\": \"Chinstrap\", \"island\": \"Dream\", \"bill_length_mm\": 50.2, \"bill_depth_mm\": 18.8, \"flipper_length_mm\": 202.0, \"body_mass_g\": 3800.0, \"sex\": \"MALE\"}, {\"species\": \"Chinstrap\", \"island\": \"Dream\", \"bill_length_mm\": 45.6, \"bill_depth_mm\": 19.4, \"flipper_length_mm\": 194.0, \"body_mass_g\": 3525.0, \"sex\": \"FEMALE\"}, {\"species\": \"Chinstrap\", \"island\": \"Dream\", \"bill_length_mm\": 51.9, \"bill_depth_mm\": 19.5, \"flipper_length_mm\": 206.0, \"body_mass_g\": 3950.0, \"sex\": \"MALE\"}, {\"species\": \"Chinstrap\", \"island\": \"Dream\", \"bill_length_mm\": 46.8, \"bill_depth_mm\": 16.5, \"flipper_length_mm\": 189.0, \"body_mass_g\": 3650.0, \"sex\": \"FEMALE\"}, {\"species\": \"Chinstrap\", \"island\": \"Dream\", \"bill_length_mm\": 45.7, \"bill_depth_mm\": 17.0, \"flipper_length_mm\": 195.0, \"body_mass_g\": 3650.0, \"sex\": \"FEMALE\"}, {\"species\": \"Chinstrap\", \"island\": \"Dream\", \"bill_length_mm\": 55.8, \"bill_depth_mm\": 19.8, \"flipper_length_mm\": 207.0, \"body_mass_g\": 4000.0, \"sex\": \"MALE\"}, {\"species\": \"Chinstrap\", \"island\": \"Dream\", \"bill_length_mm\": 43.5, \"bill_depth_mm\": 18.1, \"flipper_length_mm\": 202.0, \"body_mass_g\": 3400.0, \"sex\": \"FEMALE\"}, {\"species\": \"Chinstrap\", \"island\": \"Dream\", \"bill_length_mm\": 49.6, \"bill_depth_mm\": 18.2, \"flipper_length_mm\": 193.0, \"body_mass_g\": 3775.0, \"sex\": \"MALE\"}, {\"species\": \"Chinstrap\", \"island\": \"Dream\", \"bill_length_mm\": 50.8, \"bill_depth_mm\": 19.0, \"flipper_length_mm\": 210.0, \"body_mass_g\": 4100.0, \"sex\": \"MALE\"}, {\"species\": \"Chinstrap\", \"island\": \"Dream\", \"bill_length_mm\": 50.2, \"bill_depth_mm\": 18.7, \"flipper_length_mm\": 198.0, \"body_mass_g\": 3775.0, \"sex\": \"FEMALE\"}, {\"species\": \"Gentoo\", \"island\": \"Biscoe\", \"bill_length_mm\": 46.1, \"bill_depth_mm\": 13.2, \"flipper_length_mm\": 211.0, \"body_mass_g\": 4500.0, \"sex\": \"FEMALE\"}, {\"species\": \"Gentoo\", \"island\": \"Biscoe\", \"bill_length_mm\": 50.0, \"bill_depth_mm\": 16.3, \"flipper_length_mm\": 230.0, \"body_mass_g\": 5700.0, \"sex\": \"MALE\"}, {\"species\": \"Gentoo\", \"island\": \"Biscoe\", \"bill_length_mm\": 48.7, \"bill_depth_mm\": 14.1, \"flipper_length_mm\": 210.0, \"body_mass_g\": 4450.0, \"sex\": \"FEMALE\"}, {\"species\": \"Gentoo\", \"island\": \"Biscoe\", \"bill_length_mm\": 50.0, \"bill_depth_mm\": 15.2, \"flipper_length_mm\": 218.0, \"body_mass_g\": 5700.0, \"sex\": \"MALE\"}, {\"species\": \"Gentoo\", \"island\": \"Biscoe\", \"bill_length_mm\": 47.6, \"bill_depth_mm\": 14.5, \"flipper_length_mm\": 215.0, \"body_mass_g\": 5400.0, \"sex\": \"MALE\"}, {\"species\": \"Gentoo\", \"island\": \"Biscoe\", \"bill_length_mm\": 46.5, \"bill_depth_mm\": 13.5, \"flipper_length_mm\": 210.0, \"body_mass_g\": 4550.0, \"sex\": \"FEMALE\"}, {\"species\": \"Gentoo\", \"island\": \"Biscoe\", \"bill_length_mm\": 45.4, \"bill_depth_mm\": 14.6, \"flipper_length_mm\": 211.0, \"body_mass_g\": 4800.0, \"sex\": \"FEMALE\"}, {\"species\": \"Gentoo\", \"island\": \"Biscoe\", \"bill_length_mm\": 46.7, \"bill_depth_mm\": 15.3, \"flipper_length_mm\": 219.0, \"body_mass_g\": 5200.0, \"sex\": \"MALE\"}, {\"species\": \"Gentoo\", \"island\": \"Biscoe\", \"bill_length_mm\": 43.3, \"bill_depth_mm\": 13.4, \"flipper_length_mm\": 209.0, \"body_mass_g\": 4400.0, \"sex\": \"FEMALE\"}, {\"species\": \"Gentoo\", \"island\": \"Biscoe\", \"bill_length_mm\": 46.8, \"bill_depth_mm\": 15.4, \"flipper_length_mm\": 215.0, \"body_mass_g\": 5150.0, \"sex\": \"MALE\"}, {\"species\": \"Gentoo\", \"island\": \"Biscoe\", \"bill_length_mm\": 40.9, \"bill_depth_mm\": 13.7, \"flipper_length_mm\": 214.0, \"body_mass_g\": 4650.0, \"sex\": \"FEMALE\"}, {\"species\": \"Gentoo\", \"island\": \"Biscoe\", \"bill_length_mm\": 49.0, \"bill_depth_mm\": 16.1, \"flipper_length_mm\": 216.0, \"body_mass_g\": 5550.0, \"sex\": \"MALE\"}, {\"species\": \"Gentoo\", \"island\": \"Biscoe\", \"bill_length_mm\": 45.5, \"bill_depth_mm\": 13.7, \"flipper_length_mm\": 214.0, \"body_mass_g\": 4650.0, \"sex\": \"FEMALE\"}, {\"species\": \"Gentoo\", \"island\": \"Biscoe\", \"bill_length_mm\": 48.4, \"bill_depth_mm\": 14.6, \"flipper_length_mm\": 213.0, \"body_mass_g\": 5850.0, \"sex\": \"MALE\"}, {\"species\": \"Gentoo\", \"island\": \"Biscoe\", \"bill_length_mm\": 45.8, \"bill_depth_mm\": 14.6, \"flipper_length_mm\": 210.0, \"body_mass_g\": 4200.0, \"sex\": \"FEMALE\"}, {\"species\": \"Gentoo\", \"island\": \"Biscoe\", \"bill_length_mm\": 49.3, \"bill_depth_mm\": 15.7, \"flipper_length_mm\": 217.0, \"body_mass_g\": 5850.0, \"sex\": \"MALE\"}, {\"species\": \"Gentoo\", \"island\": \"Biscoe\", \"bill_length_mm\": 42.0, \"bill_depth_mm\": 13.5, \"flipper_length_mm\": 210.0, \"body_mass_g\": 4150.0, \"sex\": \"FEMALE\"}, {\"species\": \"Gentoo\", \"island\": \"Biscoe\", \"bill_length_mm\": 49.2, \"bill_depth_mm\": 15.2, \"flipper_length_mm\": 221.0, \"body_mass_g\": 6300.0, \"sex\": \"MALE\"}, {\"species\": \"Gentoo\", \"island\": \"Biscoe\", \"bill_length_mm\": 46.2, \"bill_depth_mm\": 14.5, \"flipper_length_mm\": 209.0, \"body_mass_g\": 4800.0, \"sex\": \"FEMALE\"}, {\"species\": \"Gentoo\", \"island\": \"Biscoe\", \"bill_length_mm\": 48.7, \"bill_depth_mm\": 15.1, \"flipper_length_mm\": 222.0, \"body_mass_g\": 5350.0, \"sex\": \"MALE\"}, {\"species\": \"Gentoo\", \"island\": \"Biscoe\", \"bill_length_mm\": 50.2, \"bill_depth_mm\": 14.3, \"flipper_length_mm\": 218.0, \"body_mass_g\": 5700.0, \"sex\": \"MALE\"}, {\"species\": \"Gentoo\", \"island\": \"Biscoe\", \"bill_length_mm\": 45.1, \"bill_depth_mm\": 14.5, \"flipper_length_mm\": 215.0, \"body_mass_g\": 5000.0, \"sex\": \"FEMALE\"}, {\"species\": \"Gentoo\", \"island\": \"Biscoe\", \"bill_length_mm\": 46.5, \"bill_depth_mm\": 14.5, \"flipper_length_mm\": 213.0, \"body_mass_g\": 4400.0, \"sex\": \"FEMALE\"}, {\"species\": \"Gentoo\", \"island\": \"Biscoe\", \"bill_length_mm\": 46.3, \"bill_depth_mm\": 15.8, \"flipper_length_mm\": 215.0, \"body_mass_g\": 5050.0, \"sex\": \"MALE\"}, {\"species\": \"Gentoo\", \"island\": \"Biscoe\", \"bill_length_mm\": 42.9, \"bill_depth_mm\": 13.1, \"flipper_length_mm\": 215.0, \"body_mass_g\": 5000.0, \"sex\": \"FEMALE\"}, {\"species\": \"Gentoo\", \"island\": \"Biscoe\", \"bill_length_mm\": 46.1, \"bill_depth_mm\": 15.1, \"flipper_length_mm\": 215.0, \"body_mass_g\": 5100.0, \"sex\": \"MALE\"}, {\"species\": \"Gentoo\", \"island\": \"Biscoe\", \"bill_length_mm\": 44.5, \"bill_depth_mm\": 14.3, \"flipper_length_mm\": 216.0, \"body_mass_g\": 4100.0, \"sex\": null}, {\"species\": \"Gentoo\", \"island\": \"Biscoe\", \"bill_length_mm\": 47.8, \"bill_depth_mm\": 15.0, \"flipper_length_mm\": 215.0, \"body_mass_g\": 5650.0, \"sex\": \"MALE\"}, {\"species\": \"Gentoo\", \"island\": \"Biscoe\", \"bill_length_mm\": 48.2, \"bill_depth_mm\": 14.3, \"flipper_length_mm\": 210.0, \"body_mass_g\": 4600.0, \"sex\": \"FEMALE\"}, {\"species\": \"Gentoo\", \"island\": \"Biscoe\", \"bill_length_mm\": 50.0, \"bill_depth_mm\": 15.3, \"flipper_length_mm\": 220.0, \"body_mass_g\": 5550.0, \"sex\": \"MALE\"}, {\"species\": \"Gentoo\", \"island\": \"Biscoe\", \"bill_length_mm\": 47.3, \"bill_depth_mm\": 15.3, \"flipper_length_mm\": 222.0, \"body_mass_g\": 5250.0, \"sex\": \"MALE\"}, {\"species\": \"Gentoo\", \"island\": \"Biscoe\", \"bill_length_mm\": 42.8, \"bill_depth_mm\": 14.2, \"flipper_length_mm\": 209.0, \"body_mass_g\": 4700.0, \"sex\": \"FEMALE\"}, {\"species\": \"Gentoo\", \"island\": \"Biscoe\", \"bill_length_mm\": 45.1, \"bill_depth_mm\": 14.5, \"flipper_length_mm\": 207.0, \"body_mass_g\": 5050.0, \"sex\": \"FEMALE\"}, {\"species\": \"Gentoo\", \"island\": \"Biscoe\", \"bill_length_mm\": 59.6, \"bill_depth_mm\": 17.0, \"flipper_length_mm\": 230.0, \"body_mass_g\": 6050.0, \"sex\": \"MALE\"}, {\"species\": \"Gentoo\", \"island\": \"Biscoe\", \"bill_length_mm\": 49.1, \"bill_depth_mm\": 14.8, \"flipper_length_mm\": 220.0, \"body_mass_g\": 5150.0, \"sex\": \"FEMALE\"}, {\"species\": \"Gentoo\", \"island\": \"Biscoe\", \"bill_length_mm\": 48.4, \"bill_depth_mm\": 16.3, \"flipper_length_mm\": 220.0, \"body_mass_g\": 5400.0, \"sex\": \"MALE\"}, {\"species\": \"Gentoo\", \"island\": \"Biscoe\", \"bill_length_mm\": 42.6, \"bill_depth_mm\": 13.7, \"flipper_length_mm\": 213.0, \"body_mass_g\": 4950.0, \"sex\": \"FEMALE\"}, {\"species\": \"Gentoo\", \"island\": \"Biscoe\", \"bill_length_mm\": 44.4, \"bill_depth_mm\": 17.3, \"flipper_length_mm\": 219.0, \"body_mass_g\": 5250.0, \"sex\": \"MALE\"}, {\"species\": \"Gentoo\", \"island\": \"Biscoe\", \"bill_length_mm\": 44.0, \"bill_depth_mm\": 13.6, \"flipper_length_mm\": 208.0, \"body_mass_g\": 4350.0, \"sex\": \"FEMALE\"}, {\"species\": \"Gentoo\", \"island\": \"Biscoe\", \"bill_length_mm\": 48.7, \"bill_depth_mm\": 15.7, \"flipper_length_mm\": 208.0, \"body_mass_g\": 5350.0, \"sex\": \"MALE\"}, {\"species\": \"Gentoo\", \"island\": \"Biscoe\", \"bill_length_mm\": 42.7, \"bill_depth_mm\": 13.7, \"flipper_length_mm\": 208.0, \"body_mass_g\": 3950.0, \"sex\": \"FEMALE\"}, {\"species\": \"Gentoo\", \"island\": \"Biscoe\", \"bill_length_mm\": 49.6, \"bill_depth_mm\": 16.0, \"flipper_length_mm\": 225.0, \"body_mass_g\": 5700.0, \"sex\": \"MALE\"}, {\"species\": \"Gentoo\", \"island\": \"Biscoe\", \"bill_length_mm\": 45.3, \"bill_depth_mm\": 13.7, \"flipper_length_mm\": 210.0, \"body_mass_g\": 4300.0, \"sex\": \"FEMALE\"}, {\"species\": \"Gentoo\", \"island\": \"Biscoe\", \"bill_length_mm\": 49.6, \"bill_depth_mm\": 15.0, \"flipper_length_mm\": 216.0, \"body_mass_g\": 4750.0, \"sex\": \"MALE\"}, {\"species\": \"Gentoo\", \"island\": \"Biscoe\", \"bill_length_mm\": 50.5, \"bill_depth_mm\": 15.9, \"flipper_length_mm\": 222.0, \"body_mass_g\": 5550.0, \"sex\": \"MALE\"}, {\"species\": \"Gentoo\", \"island\": \"Biscoe\", \"bill_length_mm\": 43.6, \"bill_depth_mm\": 13.9, \"flipper_length_mm\": 217.0, \"body_mass_g\": 4900.0, \"sex\": \"FEMALE\"}, {\"species\": \"Gentoo\", \"island\": \"Biscoe\", \"bill_length_mm\": 45.5, \"bill_depth_mm\": 13.9, \"flipper_length_mm\": 210.0, \"body_mass_g\": 4200.0, \"sex\": \"FEMALE\"}, {\"species\": \"Gentoo\", \"island\": \"Biscoe\", \"bill_length_mm\": 50.5, \"bill_depth_mm\": 15.9, \"flipper_length_mm\": 225.0, \"body_mass_g\": 5400.0, \"sex\": \"MALE\"}, {\"species\": \"Gentoo\", \"island\": \"Biscoe\", \"bill_length_mm\": 44.9, \"bill_depth_mm\": 13.3, \"flipper_length_mm\": 213.0, \"body_mass_g\": 5100.0, \"sex\": \"FEMALE\"}, {\"species\": \"Gentoo\", \"island\": \"Biscoe\", \"bill_length_mm\": 45.2, \"bill_depth_mm\": 15.8, \"flipper_length_mm\": 215.0, \"body_mass_g\": 5300.0, \"sex\": \"MALE\"}, {\"species\": \"Gentoo\", \"island\": \"Biscoe\", \"bill_length_mm\": 46.6, \"bill_depth_mm\": 14.2, \"flipper_length_mm\": 210.0, \"body_mass_g\": 4850.0, \"sex\": \"FEMALE\"}, {\"species\": \"Gentoo\", \"island\": \"Biscoe\", \"bill_length_mm\": 48.5, \"bill_depth_mm\": 14.1, \"flipper_length_mm\": 220.0, \"body_mass_g\": 5300.0, \"sex\": \"MALE\"}, {\"species\": \"Gentoo\", \"island\": \"Biscoe\", \"bill_length_mm\": 45.1, \"bill_depth_mm\": 14.4, \"flipper_length_mm\": 210.0, \"body_mass_g\": 4400.0, \"sex\": \"FEMALE\"}, {\"species\": \"Gentoo\", \"island\": \"Biscoe\", \"bill_length_mm\": 50.1, \"bill_depth_mm\": 15.0, \"flipper_length_mm\": 225.0, \"body_mass_g\": 5000.0, \"sex\": \"MALE\"}, {\"species\": \"Gentoo\", \"island\": \"Biscoe\", \"bill_length_mm\": 46.5, \"bill_depth_mm\": 14.4, \"flipper_length_mm\": 217.0, \"body_mass_g\": 4900.0, \"sex\": \"FEMALE\"}, {\"species\": \"Gentoo\", \"island\": \"Biscoe\", \"bill_length_mm\": 45.0, \"bill_depth_mm\": 15.4, \"flipper_length_mm\": 220.0, \"body_mass_g\": 5050.0, \"sex\": \"MALE\"}, {\"species\": \"Gentoo\", \"island\": \"Biscoe\", \"bill_length_mm\": 43.8, \"bill_depth_mm\": 13.9, \"flipper_length_mm\": 208.0, \"body_mass_g\": 4300.0, \"sex\": \"FEMALE\"}, {\"species\": \"Gentoo\", \"island\": \"Biscoe\", \"bill_length_mm\": 45.5, \"bill_depth_mm\": 15.0, \"flipper_length_mm\": 220.0, \"body_mass_g\": 5000.0, \"sex\": \"MALE\"}, {\"species\": \"Gentoo\", \"island\": \"Biscoe\", \"bill_length_mm\": 43.2, \"bill_depth_mm\": 14.5, \"flipper_length_mm\": 208.0, \"body_mass_g\": 4450.0, \"sex\": \"FEMALE\"}, {\"species\": \"Gentoo\", \"island\": \"Biscoe\", \"bill_length_mm\": 50.4, \"bill_depth_mm\": 15.3, \"flipper_length_mm\": 224.0, \"body_mass_g\": 5550.0, \"sex\": \"MALE\"}, {\"species\": \"Gentoo\", \"island\": \"Biscoe\", \"bill_length_mm\": 45.3, \"bill_depth_mm\": 13.8, \"flipper_length_mm\": 208.0, \"body_mass_g\": 4200.0, \"sex\": \"FEMALE\"}, {\"species\": \"Gentoo\", \"island\": \"Biscoe\", \"bill_length_mm\": 46.2, \"bill_depth_mm\": 14.9, \"flipper_length_mm\": 221.0, \"body_mass_g\": 5300.0, \"sex\": \"MALE\"}, {\"species\": \"Gentoo\", \"island\": \"Biscoe\", \"bill_length_mm\": 45.7, \"bill_depth_mm\": 13.9, \"flipper_length_mm\": 214.0, \"body_mass_g\": 4400.0, \"sex\": \"FEMALE\"}, {\"species\": \"Gentoo\", \"island\": \"Biscoe\", \"bill_length_mm\": 54.3, \"bill_depth_mm\": 15.7, \"flipper_length_mm\": 231.0, \"body_mass_g\": 5650.0, \"sex\": \"MALE\"}, {\"species\": \"Gentoo\", \"island\": \"Biscoe\", \"bill_length_mm\": 45.8, \"bill_depth_mm\": 14.2, \"flipper_length_mm\": 219.0, \"body_mass_g\": 4700.0, \"sex\": \"FEMALE\"}, {\"species\": \"Gentoo\", \"island\": \"Biscoe\", \"bill_length_mm\": 49.8, \"bill_depth_mm\": 16.8, \"flipper_length_mm\": 230.0, \"body_mass_g\": 5700.0, \"sex\": \"MALE\"}, {\"species\": \"Gentoo\", \"island\": \"Biscoe\", \"bill_length_mm\": 46.2, \"bill_depth_mm\": 14.4, \"flipper_length_mm\": 214.0, \"body_mass_g\": 4650.0, \"sex\": null}, {\"species\": \"Gentoo\", \"island\": \"Biscoe\", \"bill_length_mm\": 49.5, \"bill_depth_mm\": 16.2, \"flipper_length_mm\": 229.0, \"body_mass_g\": 5800.0, \"sex\": \"MALE\"}, {\"species\": \"Gentoo\", \"island\": \"Biscoe\", \"bill_length_mm\": 43.5, \"bill_depth_mm\": 14.2, \"flipper_length_mm\": 220.0, \"body_mass_g\": 4700.0, \"sex\": \"FEMALE\"}, {\"species\": \"Gentoo\", \"island\": \"Biscoe\", \"bill_length_mm\": 50.7, \"bill_depth_mm\": 15.0, \"flipper_length_mm\": 223.0, \"body_mass_g\": 5550.0, \"sex\": \"MALE\"}, {\"species\": \"Gentoo\", \"island\": \"Biscoe\", \"bill_length_mm\": 47.7, \"bill_depth_mm\": 15.0, \"flipper_length_mm\": 216.0, \"body_mass_g\": 4750.0, \"sex\": \"FEMALE\"}, {\"species\": \"Gentoo\", \"island\": \"Biscoe\", \"bill_length_mm\": 46.4, \"bill_depth_mm\": 15.6, \"flipper_length_mm\": 221.0, \"body_mass_g\": 5000.0, \"sex\": \"MALE\"}, {\"species\": \"Gentoo\", \"island\": \"Biscoe\", \"bill_length_mm\": 48.2, \"bill_depth_mm\": 15.6, \"flipper_length_mm\": 221.0, \"body_mass_g\": 5100.0, \"sex\": \"MALE\"}, {\"species\": \"Gentoo\", \"island\": \"Biscoe\", \"bill_length_mm\": 46.5, \"bill_depth_mm\": 14.8, \"flipper_length_mm\": 217.0, \"body_mass_g\": 5200.0, \"sex\": \"FEMALE\"}, {\"species\": \"Gentoo\", \"island\": \"Biscoe\", \"bill_length_mm\": 46.4, \"bill_depth_mm\": 15.0, \"flipper_length_mm\": 216.0, \"body_mass_g\": 4700.0, \"sex\": \"FEMALE\"}, {\"species\": \"Gentoo\", \"island\": \"Biscoe\", \"bill_length_mm\": 48.6, \"bill_depth_mm\": 16.0, \"flipper_length_mm\": 230.0, \"body_mass_g\": 5800.0, \"sex\": \"MALE\"}, {\"species\": \"Gentoo\", \"island\": \"Biscoe\", \"bill_length_mm\": 47.5, \"bill_depth_mm\": 14.2, \"flipper_length_mm\": 209.0, \"body_mass_g\": 4600.0, \"sex\": \"FEMALE\"}, {\"species\": \"Gentoo\", \"island\": \"Biscoe\", \"bill_length_mm\": 51.1, \"bill_depth_mm\": 16.3, \"flipper_length_mm\": 220.0, \"body_mass_g\": 6000.0, \"sex\": \"MALE\"}, {\"species\": \"Gentoo\", \"island\": \"Biscoe\", \"bill_length_mm\": 45.2, \"bill_depth_mm\": 13.8, \"flipper_length_mm\": 215.0, \"body_mass_g\": 4750.0, \"sex\": \"FEMALE\"}, {\"species\": \"Gentoo\", \"island\": \"Biscoe\", \"bill_length_mm\": 45.2, \"bill_depth_mm\": 16.4, \"flipper_length_mm\": 223.0, \"body_mass_g\": 5950.0, \"sex\": \"MALE\"}, {\"species\": \"Gentoo\", \"island\": \"Biscoe\", \"bill_length_mm\": 49.1, \"bill_depth_mm\": 14.5, \"flipper_length_mm\": 212.0, \"body_mass_g\": 4625.0, \"sex\": \"FEMALE\"}, {\"species\": \"Gentoo\", \"island\": \"Biscoe\", \"bill_length_mm\": 52.5, \"bill_depth_mm\": 15.6, \"flipper_length_mm\": 221.0, \"body_mass_g\": 5450.0, \"sex\": \"MALE\"}, {\"species\": \"Gentoo\", \"island\": \"Biscoe\", \"bill_length_mm\": 47.4, \"bill_depth_mm\": 14.6, \"flipper_length_mm\": 212.0, \"body_mass_g\": 4725.0, \"sex\": \"FEMALE\"}, {\"species\": \"Gentoo\", \"island\": \"Biscoe\", \"bill_length_mm\": 50.0, \"bill_depth_mm\": 15.9, \"flipper_length_mm\": 224.0, \"body_mass_g\": 5350.0, \"sex\": \"MALE\"}, {\"species\": \"Gentoo\", \"island\": \"Biscoe\", \"bill_length_mm\": 44.9, \"bill_depth_mm\": 13.8, \"flipper_length_mm\": 212.0, \"body_mass_g\": 4750.0, \"sex\": \"FEMALE\"}, {\"species\": \"Gentoo\", \"island\": \"Biscoe\", \"bill_length_mm\": 50.8, \"bill_depth_mm\": 17.3, \"flipper_length_mm\": 228.0, \"body_mass_g\": 5600.0, \"sex\": \"MALE\"}, {\"species\": \"Gentoo\", \"island\": \"Biscoe\", \"bill_length_mm\": 43.4, \"bill_depth_mm\": 14.4, \"flipper_length_mm\": 218.0, \"body_mass_g\": 4600.0, \"sex\": \"FEMALE\"}, {\"species\": \"Gentoo\", \"island\": \"Biscoe\", \"bill_length_mm\": 51.3, \"bill_depth_mm\": 14.2, \"flipper_length_mm\": 218.0, \"body_mass_g\": 5300.0, \"sex\": \"MALE\"}, {\"species\": \"Gentoo\", \"island\": \"Biscoe\", \"bill_length_mm\": 47.5, \"bill_depth_mm\": 14.0, \"flipper_length_mm\": 212.0, \"body_mass_g\": 4875.0, \"sex\": \"FEMALE\"}, {\"species\": \"Gentoo\", \"island\": \"Biscoe\", \"bill_length_mm\": 52.1, \"bill_depth_mm\": 17.0, \"flipper_length_mm\": 230.0, \"body_mass_g\": 5550.0, \"sex\": \"MALE\"}, {\"species\": \"Gentoo\", \"island\": \"Biscoe\", \"bill_length_mm\": 47.5, \"bill_depth_mm\": 15.0, \"flipper_length_mm\": 218.0, \"body_mass_g\": 4950.0, \"sex\": \"FEMALE\"}, {\"species\": \"Gentoo\", \"island\": \"Biscoe\", \"bill_length_mm\": 52.2, \"bill_depth_mm\": 17.1, \"flipper_length_mm\": 228.0, \"body_mass_g\": 5400.0, \"sex\": \"MALE\"}, {\"species\": \"Gentoo\", \"island\": \"Biscoe\", \"bill_length_mm\": 45.5, \"bill_depth_mm\": 14.5, \"flipper_length_mm\": 212.0, \"body_mass_g\": 4750.0, \"sex\": \"FEMALE\"}, {\"species\": \"Gentoo\", \"island\": \"Biscoe\", \"bill_length_mm\": 49.5, \"bill_depth_mm\": 16.1, \"flipper_length_mm\": 224.0, \"body_mass_g\": 5650.0, \"sex\": \"MALE\"}, {\"species\": \"Gentoo\", \"island\": \"Biscoe\", \"bill_length_mm\": 44.5, \"bill_depth_mm\": 14.7, \"flipper_length_mm\": 214.0, \"body_mass_g\": 4850.0, \"sex\": \"FEMALE\"}, {\"species\": \"Gentoo\", \"island\": \"Biscoe\", \"bill_length_mm\": 50.8, \"bill_depth_mm\": 15.7, \"flipper_length_mm\": 226.0, \"body_mass_g\": 5200.0, \"sex\": \"MALE\"}, {\"species\": \"Gentoo\", \"island\": \"Biscoe\", \"bill_length_mm\": 49.4, \"bill_depth_mm\": 15.8, \"flipper_length_mm\": 216.0, \"body_mass_g\": 4925.0, \"sex\": \"MALE\"}, {\"species\": \"Gentoo\", \"island\": \"Biscoe\", \"bill_length_mm\": 46.9, \"bill_depth_mm\": 14.6, \"flipper_length_mm\": 222.0, \"body_mass_g\": 4875.0, \"sex\": \"FEMALE\"}, {\"species\": \"Gentoo\", \"island\": \"Biscoe\", \"bill_length_mm\": 48.4, \"bill_depth_mm\": 14.4, \"flipper_length_mm\": 203.0, \"body_mass_g\": 4625.0, \"sex\": \"FEMALE\"}, {\"species\": \"Gentoo\", \"island\": \"Biscoe\", \"bill_length_mm\": 51.1, \"bill_depth_mm\": 16.5, \"flipper_length_mm\": 225.0, \"body_mass_g\": 5250.0, \"sex\": \"MALE\"}, {\"species\": \"Gentoo\", \"island\": \"Biscoe\", \"bill_length_mm\": 48.5, \"bill_depth_mm\": 15.0, \"flipper_length_mm\": 219.0, \"body_mass_g\": 4850.0, \"sex\": \"FEMALE\"}, {\"species\": \"Gentoo\", \"island\": \"Biscoe\", \"bill_length_mm\": 55.9, \"bill_depth_mm\": 17.0, \"flipper_length_mm\": 228.0, \"body_mass_g\": 5600.0, \"sex\": \"MALE\"}, {\"species\": \"Gentoo\", \"island\": \"Biscoe\", \"bill_length_mm\": 47.2, \"bill_depth_mm\": 15.5, \"flipper_length_mm\": 215.0, \"body_mass_g\": 4975.0, \"sex\": \"FEMALE\"}, {\"species\": \"Gentoo\", \"island\": \"Biscoe\", \"bill_length_mm\": 49.1, \"bill_depth_mm\": 15.0, \"flipper_length_mm\": 228.0, \"body_mass_g\": 5500.0, \"sex\": \"MALE\"}, {\"species\": \"Gentoo\", \"island\": \"Biscoe\", \"bill_length_mm\": 47.3, \"bill_depth_mm\": 13.8, \"flipper_length_mm\": 216.0, \"body_mass_g\": 4725.0, \"sex\": null}, {\"species\": \"Gentoo\", \"island\": \"Biscoe\", \"bill_length_mm\": 46.8, \"bill_depth_mm\": 16.1, \"flipper_length_mm\": 215.0, \"body_mass_g\": 5500.0, \"sex\": \"MALE\"}, {\"species\": \"Gentoo\", \"island\": \"Biscoe\", \"bill_length_mm\": 41.7, \"bill_depth_mm\": 14.7, \"flipper_length_mm\": 210.0, \"body_mass_g\": 4700.0, \"sex\": \"FEMALE\"}, {\"species\": \"Gentoo\", \"island\": \"Biscoe\", \"bill_length_mm\": 53.4, \"bill_depth_mm\": 15.8, \"flipper_length_mm\": 219.0, \"body_mass_g\": 5500.0, \"sex\": \"MALE\"}, {\"species\": \"Gentoo\", \"island\": \"Biscoe\", \"bill_length_mm\": 43.3, \"bill_depth_mm\": 14.0, \"flipper_length_mm\": 208.0, \"body_mass_g\": 4575.0, \"sex\": \"FEMALE\"}, {\"species\": \"Gentoo\", \"island\": \"Biscoe\", \"bill_length_mm\": 48.1, \"bill_depth_mm\": 15.1, \"flipper_length_mm\": 209.0, \"body_mass_g\": 5500.0, \"sex\": \"MALE\"}, {\"species\": \"Gentoo\", \"island\": \"Biscoe\", \"bill_length_mm\": 50.5, \"bill_depth_mm\": 15.2, \"flipper_length_mm\": 216.0, \"body_mass_g\": 5000.0, \"sex\": \"FEMALE\"}, {\"species\": \"Gentoo\", \"island\": \"Biscoe\", \"bill_length_mm\": 49.8, \"bill_depth_mm\": 15.9, \"flipper_length_mm\": 229.0, \"body_mass_g\": 5950.0, \"sex\": \"MALE\"}, {\"species\": \"Gentoo\", \"island\": \"Biscoe\", \"bill_length_mm\": 43.5, \"bill_depth_mm\": 15.2, \"flipper_length_mm\": 213.0, \"body_mass_g\": 4650.0, \"sex\": \"FEMALE\"}, {\"species\": \"Gentoo\", \"island\": \"Biscoe\", \"bill_length_mm\": 51.5, \"bill_depth_mm\": 16.3, \"flipper_length_mm\": 230.0, \"body_mass_g\": 5500.0, \"sex\": \"MALE\"}, {\"species\": \"Gentoo\", \"island\": \"Biscoe\", \"bill_length_mm\": 46.2, \"bill_depth_mm\": 14.1, \"flipper_length_mm\": 217.0, \"body_mass_g\": 4375.0, \"sex\": \"FEMALE\"}, {\"species\": \"Gentoo\", \"island\": \"Biscoe\", \"bill_length_mm\": 55.1, \"bill_depth_mm\": 16.0, \"flipper_length_mm\": 230.0, \"body_mass_g\": 5850.0, \"sex\": \"MALE\"}, {\"species\": \"Gentoo\", \"island\": \"Biscoe\", \"bill_length_mm\": 44.5, \"bill_depth_mm\": 15.7, \"flipper_length_mm\": 217.0, \"body_mass_g\": 4875.0, \"sex\": null}, {\"species\": \"Gentoo\", \"island\": \"Biscoe\", \"bill_length_mm\": 48.8, \"bill_depth_mm\": 16.2, \"flipper_length_mm\": 222.0, \"body_mass_g\": 6000.0, \"sex\": \"MALE\"}, {\"species\": \"Gentoo\", \"island\": \"Biscoe\", \"bill_length_mm\": 47.2, \"bill_depth_mm\": 13.7, \"flipper_length_mm\": 214.0, \"body_mass_g\": 4925.0, \"sex\": \"FEMALE\"}, {\"species\": \"Gentoo\", \"island\": \"Biscoe\", \"bill_length_mm\": null, \"bill_depth_mm\": null, \"flipper_length_mm\": null, \"body_mass_g\": null, \"sex\": null}, {\"species\": \"Gentoo\", \"island\": \"Biscoe\", \"bill_length_mm\": 46.8, \"bill_depth_mm\": 14.3, \"flipper_length_mm\": 215.0, \"body_mass_g\": 4850.0, \"sex\": \"FEMALE\"}, {\"species\": \"Gentoo\", \"island\": \"Biscoe\", \"bill_length_mm\": 50.4, \"bill_depth_mm\": 15.7, \"flipper_length_mm\": 222.0, \"body_mass_g\": 5750.0, \"sex\": \"MALE\"}, {\"species\": \"Gentoo\", \"island\": \"Biscoe\", \"bill_length_mm\": 45.2, \"bill_depth_mm\": 14.8, \"flipper_length_mm\": 212.0, \"body_mass_g\": 5200.0, \"sex\": \"FEMALE\"}, {\"species\": \"Gentoo\", \"island\": \"Biscoe\", \"bill_length_mm\": 49.9, \"bill_depth_mm\": 16.1, \"flipper_length_mm\": 213.0, \"body_mass_g\": 5400.0, \"sex\": \"MALE\"}]}}, {\"mode\": \"vega-lite\"});\n",
              "</script>"
            ]
          },
          "metadata": {},
          "execution_count": 10
        }
      ]
    },
    {
      "cell_type": "code",
      "source": [
        "chart.mark_bar().encode(\n",
        "    alt.Y('bill_length_mm', type='quantitative', aggregate='mean', title='Mean value of bill length'),\n",
        "    alt.X('species', type='nominal', title='Species', sort='y'),\n",
        "    alt.Color('species', type='nominal', legend=None)\n",
        ")"
      ],
      "metadata": {
        "colab": {
          "base_uri": "https://localhost:8080/",
          "height": 401
        },
        "id": "jc1E1YhTss7Y",
        "outputId": "b02ad6e9-7ff5-4a37-ae41-02961ba85dd3"
      },
      "execution_count": 17,
      "outputs": [
        {
          "output_type": "execute_result",
          "data": {
            "text/plain": [
              "alt.Chart(...)"
            ],
            "text/html": [
              "\n",
              "<div id=\"altair-viz-dab7b8dfc83a49ccaf896a2d5ff88edf\"></div>\n",
              "<script type=\"text/javascript\">\n",
              "  var VEGA_DEBUG = (typeof VEGA_DEBUG == \"undefined\") ? {} : VEGA_DEBUG;\n",
              "  (function(spec, embedOpt){\n",
              "    let outputDiv = document.currentScript.previousElementSibling;\n",
              "    if (outputDiv.id !== \"altair-viz-dab7b8dfc83a49ccaf896a2d5ff88edf\") {\n",
              "      outputDiv = document.getElementById(\"altair-viz-dab7b8dfc83a49ccaf896a2d5ff88edf\");\n",
              "    }\n",
              "    const paths = {\n",
              "      \"vega\": \"https://cdn.jsdelivr.net/npm//vega@5?noext\",\n",
              "      \"vega-lib\": \"https://cdn.jsdelivr.net/npm//vega-lib?noext\",\n",
              "      \"vega-lite\": \"https://cdn.jsdelivr.net/npm//vega-lite@4.17.0?noext\",\n",
              "      \"vega-embed\": \"https://cdn.jsdelivr.net/npm//vega-embed@6?noext\",\n",
              "    };\n",
              "\n",
              "    function maybeLoadScript(lib, version) {\n",
              "      var key = `${lib.replace(\"-\", \"\")}_version`;\n",
              "      return (VEGA_DEBUG[key] == version) ?\n",
              "        Promise.resolve(paths[lib]) :\n",
              "        new Promise(function(resolve, reject) {\n",
              "          var s = document.createElement('script');\n",
              "          document.getElementsByTagName(\"head\")[0].appendChild(s);\n",
              "          s.async = true;\n",
              "          s.onload = () => {\n",
              "            VEGA_DEBUG[key] = version;\n",
              "            return resolve(paths[lib]);\n",
              "          };\n",
              "          s.onerror = () => reject(`Error loading script: ${paths[lib]}`);\n",
              "          s.src = paths[lib];\n",
              "        });\n",
              "    }\n",
              "\n",
              "    function showError(err) {\n",
              "      outputDiv.innerHTML = `<div class=\"error\" style=\"color:red;\">${err}</div>`;\n",
              "      throw err;\n",
              "    }\n",
              "\n",
              "    function displayChart(vegaEmbed) {\n",
              "      vegaEmbed(outputDiv, spec, embedOpt)\n",
              "        .catch(err => showError(`Javascript Error: ${err.message}<br>This usually means there's a typo in your chart specification. See the javascript console for the full traceback.`));\n",
              "    }\n",
              "\n",
              "    if(typeof define === \"function\" && define.amd) {\n",
              "      requirejs.config({paths});\n",
              "      require([\"vega-embed\"], displayChart, err => showError(`Error loading script: ${err.message}`));\n",
              "    } else {\n",
              "      maybeLoadScript(\"vega\", \"5\")\n",
              "        .then(() => maybeLoadScript(\"vega-lite\", \"4.17.0\"))\n",
              "        .then(() => maybeLoadScript(\"vega-embed\", \"6\"))\n",
              "        .catch(showError)\n",
              "        .then(() => displayChart(vegaEmbed));\n",
              "    }\n",
              "  })({\"config\": {\"view\": {\"continuousWidth\": 400, \"continuousHeight\": 300}}, \"data\": {\"name\": \"data-7b1c3d376dc1f878f7c4c69deb3a1e79\"}, \"mark\": \"bar\", \"encoding\": {\"color\": {\"field\": \"species\", \"legend\": null, \"type\": \"nominal\"}, \"x\": {\"field\": \"species\", \"sort\": \"y\", \"title\": \"Species\", \"type\": \"nominal\"}, \"y\": {\"aggregate\": \"mean\", \"field\": \"bill_length_mm\", \"title\": \"Mean value of bill length\", \"type\": \"quantitative\"}}, \"$schema\": \"https://vega.github.io/schema/vega-lite/v4.17.0.json\", \"datasets\": {\"data-7b1c3d376dc1f878f7c4c69deb3a1e79\": [{\"species\": \"Adelie\", \"island\": \"Torgersen\", \"bill_length_mm\": 39.1, \"bill_depth_mm\": 18.7, \"flipper_length_mm\": 181.0, \"body_mass_g\": 3750.0, \"sex\": \"MALE\"}, {\"species\": \"Adelie\", \"island\": \"Torgersen\", \"bill_length_mm\": 39.5, \"bill_depth_mm\": 17.4, \"flipper_length_mm\": 186.0, \"body_mass_g\": 3800.0, \"sex\": \"FEMALE\"}, {\"species\": \"Adelie\", \"island\": \"Torgersen\", \"bill_length_mm\": 40.3, \"bill_depth_mm\": 18.0, \"flipper_length_mm\": 195.0, \"body_mass_g\": 3250.0, \"sex\": \"FEMALE\"}, {\"species\": \"Adelie\", \"island\": \"Torgersen\", \"bill_length_mm\": null, \"bill_depth_mm\": null, \"flipper_length_mm\": null, \"body_mass_g\": null, \"sex\": null}, {\"species\": \"Adelie\", \"island\": \"Torgersen\", \"bill_length_mm\": 36.7, \"bill_depth_mm\": 19.3, \"flipper_length_mm\": 193.0, \"body_mass_g\": 3450.0, \"sex\": \"FEMALE\"}, {\"species\": \"Adelie\", \"island\": \"Torgersen\", \"bill_length_mm\": 39.3, \"bill_depth_mm\": 20.6, \"flipper_length_mm\": 190.0, \"body_mass_g\": 3650.0, \"sex\": \"MALE\"}, {\"species\": \"Adelie\", \"island\": \"Torgersen\", \"bill_length_mm\": 38.9, \"bill_depth_mm\": 17.8, \"flipper_length_mm\": 181.0, \"body_mass_g\": 3625.0, \"sex\": \"FEMALE\"}, {\"species\": \"Adelie\", \"island\": \"Torgersen\", \"bill_length_mm\": 39.2, \"bill_depth_mm\": 19.6, \"flipper_length_mm\": 195.0, \"body_mass_g\": 4675.0, \"sex\": \"MALE\"}, {\"species\": \"Adelie\", \"island\": \"Torgersen\", \"bill_length_mm\": 34.1, \"bill_depth_mm\": 18.1, \"flipper_length_mm\": 193.0, \"body_mass_g\": 3475.0, \"sex\": null}, {\"species\": \"Adelie\", \"island\": \"Torgersen\", \"bill_length_mm\": 42.0, \"bill_depth_mm\": 20.2, \"flipper_length_mm\": 190.0, \"body_mass_g\": 4250.0, \"sex\": null}, {\"species\": \"Adelie\", \"island\": \"Torgersen\", \"bill_length_mm\": 37.8, \"bill_depth_mm\": 17.1, \"flipper_length_mm\": 186.0, \"body_mass_g\": 3300.0, \"sex\": null}, {\"species\": \"Adelie\", \"island\": \"Torgersen\", \"bill_length_mm\": 37.8, \"bill_depth_mm\": 17.3, \"flipper_length_mm\": 180.0, \"body_mass_g\": 3700.0, \"sex\": null}, {\"species\": \"Adelie\", \"island\": \"Torgersen\", \"bill_length_mm\": 41.1, \"bill_depth_mm\": 17.6, \"flipper_length_mm\": 182.0, \"body_mass_g\": 3200.0, \"sex\": \"FEMALE\"}, {\"species\": \"Adelie\", \"island\": \"Torgersen\", \"bill_length_mm\": 38.6, \"bill_depth_mm\": 21.2, \"flipper_length_mm\": 191.0, \"body_mass_g\": 3800.0, \"sex\": \"MALE\"}, {\"species\": \"Adelie\", \"island\": \"Torgersen\", \"bill_length_mm\": 34.6, \"bill_depth_mm\": 21.1, \"flipper_length_mm\": 198.0, \"body_mass_g\": 4400.0, \"sex\": \"MALE\"}, {\"species\": \"Adelie\", \"island\": \"Torgersen\", \"bill_length_mm\": 36.6, \"bill_depth_mm\": 17.8, \"flipper_length_mm\": 185.0, \"body_mass_g\": 3700.0, \"sex\": \"FEMALE\"}, {\"species\": \"Adelie\", \"island\": \"Torgersen\", \"bill_length_mm\": 38.7, \"bill_depth_mm\": 19.0, \"flipper_length_mm\": 195.0, \"body_mass_g\": 3450.0, \"sex\": \"FEMALE\"}, {\"species\": \"Adelie\", \"island\": \"Torgersen\", \"bill_length_mm\": 42.5, \"bill_depth_mm\": 20.7, \"flipper_length_mm\": 197.0, \"body_mass_g\": 4500.0, \"sex\": \"MALE\"}, {\"species\": \"Adelie\", \"island\": \"Torgersen\", \"bill_length_mm\": 34.4, \"bill_depth_mm\": 18.4, \"flipper_length_mm\": 184.0, \"body_mass_g\": 3325.0, \"sex\": \"FEMALE\"}, {\"species\": \"Adelie\", \"island\": \"Torgersen\", \"bill_length_mm\": 46.0, \"bill_depth_mm\": 21.5, \"flipper_length_mm\": 194.0, \"body_mass_g\": 4200.0, \"sex\": \"MALE\"}, {\"species\": \"Adelie\", \"island\": \"Biscoe\", \"bill_length_mm\": 37.8, \"bill_depth_mm\": 18.3, \"flipper_length_mm\": 174.0, \"body_mass_g\": 3400.0, \"sex\": \"FEMALE\"}, {\"species\": \"Adelie\", \"island\": \"Biscoe\", \"bill_length_mm\": 37.7, \"bill_depth_mm\": 18.7, \"flipper_length_mm\": 180.0, \"body_mass_g\": 3600.0, \"sex\": \"MALE\"}, {\"species\": \"Adelie\", \"island\": \"Biscoe\", \"bill_length_mm\": 35.9, \"bill_depth_mm\": 19.2, \"flipper_length_mm\": 189.0, \"body_mass_g\": 3800.0, \"sex\": \"FEMALE\"}, {\"species\": \"Adelie\", \"island\": \"Biscoe\", \"bill_length_mm\": 38.2, \"bill_depth_mm\": 18.1, \"flipper_length_mm\": 185.0, \"body_mass_g\": 3950.0, \"sex\": \"MALE\"}, {\"species\": \"Adelie\", \"island\": \"Biscoe\", \"bill_length_mm\": 38.8, \"bill_depth_mm\": 17.2, \"flipper_length_mm\": 180.0, \"body_mass_g\": 3800.0, \"sex\": \"MALE\"}, {\"species\": \"Adelie\", \"island\": \"Biscoe\", \"bill_length_mm\": 35.3, \"bill_depth_mm\": 18.9, \"flipper_length_mm\": 187.0, \"body_mass_g\": 3800.0, \"sex\": \"FEMALE\"}, {\"species\": \"Adelie\", \"island\": \"Biscoe\", \"bill_length_mm\": 40.6, \"bill_depth_mm\": 18.6, \"flipper_length_mm\": 183.0, \"body_mass_g\": 3550.0, \"sex\": \"MALE\"}, {\"species\": \"Adelie\", \"island\": \"Biscoe\", \"bill_length_mm\": 40.5, \"bill_depth_mm\": 17.9, \"flipper_length_mm\": 187.0, \"body_mass_g\": 3200.0, \"sex\": \"FEMALE\"}, {\"species\": \"Adelie\", \"island\": \"Biscoe\", \"bill_length_mm\": 37.9, \"bill_depth_mm\": 18.6, \"flipper_length_mm\": 172.0, \"body_mass_g\": 3150.0, \"sex\": \"FEMALE\"}, {\"species\": \"Adelie\", \"island\": \"Biscoe\", \"bill_length_mm\": 40.5, \"bill_depth_mm\": 18.9, \"flipper_length_mm\": 180.0, \"body_mass_g\": 3950.0, \"sex\": \"MALE\"}, {\"species\": \"Adelie\", \"island\": \"Dream\", \"bill_length_mm\": 39.5, \"bill_depth_mm\": 16.7, \"flipper_length_mm\": 178.0, \"body_mass_g\": 3250.0, \"sex\": \"FEMALE\"}, {\"species\": \"Adelie\", \"island\": \"Dream\", \"bill_length_mm\": 37.2, \"bill_depth_mm\": 18.1, \"flipper_length_mm\": 178.0, \"body_mass_g\": 3900.0, \"sex\": \"MALE\"}, {\"species\": \"Adelie\", \"island\": \"Dream\", \"bill_length_mm\": 39.5, \"bill_depth_mm\": 17.8, \"flipper_length_mm\": 188.0, \"body_mass_g\": 3300.0, \"sex\": \"FEMALE\"}, {\"species\": \"Adelie\", \"island\": \"Dream\", \"bill_length_mm\": 40.9, \"bill_depth_mm\": 18.9, \"flipper_length_mm\": 184.0, \"body_mass_g\": 3900.0, \"sex\": \"MALE\"}, {\"species\": \"Adelie\", \"island\": \"Dream\", \"bill_length_mm\": 36.4, \"bill_depth_mm\": 17.0, \"flipper_length_mm\": 195.0, \"body_mass_g\": 3325.0, \"sex\": \"FEMALE\"}, {\"species\": \"Adelie\", \"island\": \"Dream\", \"bill_length_mm\": 39.2, \"bill_depth_mm\": 21.1, \"flipper_length_mm\": 196.0, \"body_mass_g\": 4150.0, \"sex\": \"MALE\"}, {\"species\": \"Adelie\", \"island\": \"Dream\", \"bill_length_mm\": 38.8, \"bill_depth_mm\": 20.0, \"flipper_length_mm\": 190.0, \"body_mass_g\": 3950.0, \"sex\": \"MALE\"}, {\"species\": \"Adelie\", \"island\": \"Dream\", \"bill_length_mm\": 42.2, \"bill_depth_mm\": 18.5, \"flipper_length_mm\": 180.0, \"body_mass_g\": 3550.0, \"sex\": \"FEMALE\"}, {\"species\": \"Adelie\", \"island\": \"Dream\", \"bill_length_mm\": 37.6, \"bill_depth_mm\": 19.3, \"flipper_length_mm\": 181.0, \"body_mass_g\": 3300.0, \"sex\": \"FEMALE\"}, {\"species\": \"Adelie\", \"island\": \"Dream\", \"bill_length_mm\": 39.8, \"bill_depth_mm\": 19.1, \"flipper_length_mm\": 184.0, \"body_mass_g\": 4650.0, \"sex\": \"MALE\"}, {\"species\": \"Adelie\", \"island\": \"Dream\", \"bill_length_mm\": 36.5, \"bill_depth_mm\": 18.0, \"flipper_length_mm\": 182.0, \"body_mass_g\": 3150.0, \"sex\": \"FEMALE\"}, {\"species\": \"Adelie\", \"island\": \"Dream\", \"bill_length_mm\": 40.8, \"bill_depth_mm\": 18.4, \"flipper_length_mm\": 195.0, \"body_mass_g\": 3900.0, \"sex\": \"MALE\"}, {\"species\": \"Adelie\", \"island\": \"Dream\", \"bill_length_mm\": 36.0, \"bill_depth_mm\": 18.5, \"flipper_length_mm\": 186.0, \"body_mass_g\": 3100.0, \"sex\": \"FEMALE\"}, {\"species\": \"Adelie\", \"island\": \"Dream\", \"bill_length_mm\": 44.1, \"bill_depth_mm\": 19.7, \"flipper_length_mm\": 196.0, \"body_mass_g\": 4400.0, \"sex\": \"MALE\"}, {\"species\": \"Adelie\", \"island\": \"Dream\", \"bill_length_mm\": 37.0, \"bill_depth_mm\": 16.9, \"flipper_length_mm\": 185.0, \"body_mass_g\": 3000.0, \"sex\": \"FEMALE\"}, {\"species\": \"Adelie\", \"island\": \"Dream\", \"bill_length_mm\": 39.6, \"bill_depth_mm\": 18.8, \"flipper_length_mm\": 190.0, \"body_mass_g\": 4600.0, \"sex\": \"MALE\"}, {\"species\": \"Adelie\", \"island\": \"Dream\", \"bill_length_mm\": 41.1, \"bill_depth_mm\": 19.0, \"flipper_length_mm\": 182.0, \"body_mass_g\": 3425.0, \"sex\": \"MALE\"}, {\"species\": \"Adelie\", \"island\": \"Dream\", \"bill_length_mm\": 37.5, \"bill_depth_mm\": 18.9, \"flipper_length_mm\": 179.0, \"body_mass_g\": 2975.0, \"sex\": null}, {\"species\": \"Adelie\", \"island\": \"Dream\", \"bill_length_mm\": 36.0, \"bill_depth_mm\": 17.9, \"flipper_length_mm\": 190.0, \"body_mass_g\": 3450.0, \"sex\": \"FEMALE\"}, {\"species\": \"Adelie\", \"island\": \"Dream\", \"bill_length_mm\": 42.3, \"bill_depth_mm\": 21.2, \"flipper_length_mm\": 191.0, \"body_mass_g\": 4150.0, \"sex\": \"MALE\"}, {\"species\": \"Adelie\", \"island\": \"Biscoe\", \"bill_length_mm\": 39.6, \"bill_depth_mm\": 17.7, \"flipper_length_mm\": 186.0, \"body_mass_g\": 3500.0, \"sex\": \"FEMALE\"}, {\"species\": \"Adelie\", \"island\": \"Biscoe\", \"bill_length_mm\": 40.1, \"bill_depth_mm\": 18.9, \"flipper_length_mm\": 188.0, \"body_mass_g\": 4300.0, \"sex\": \"MALE\"}, {\"species\": \"Adelie\", \"island\": \"Biscoe\", \"bill_length_mm\": 35.0, \"bill_depth_mm\": 17.9, \"flipper_length_mm\": 190.0, \"body_mass_g\": 3450.0, \"sex\": \"FEMALE\"}, {\"species\": \"Adelie\", \"island\": \"Biscoe\", \"bill_length_mm\": 42.0, \"bill_depth_mm\": 19.5, \"flipper_length_mm\": 200.0, \"body_mass_g\": 4050.0, \"sex\": \"MALE\"}, {\"species\": \"Adelie\", \"island\": \"Biscoe\", \"bill_length_mm\": 34.5, \"bill_depth_mm\": 18.1, \"flipper_length_mm\": 187.0, \"body_mass_g\": 2900.0, \"sex\": \"FEMALE\"}, {\"species\": \"Adelie\", \"island\": \"Biscoe\", \"bill_length_mm\": 41.4, \"bill_depth_mm\": 18.6, \"flipper_length_mm\": 191.0, \"body_mass_g\": 3700.0, \"sex\": \"MALE\"}, {\"species\": \"Adelie\", \"island\": \"Biscoe\", \"bill_length_mm\": 39.0, \"bill_depth_mm\": 17.5, \"flipper_length_mm\": 186.0, \"body_mass_g\": 3550.0, \"sex\": \"FEMALE\"}, {\"species\": \"Adelie\", \"island\": \"Biscoe\", \"bill_length_mm\": 40.6, \"bill_depth_mm\": 18.8, \"flipper_length_mm\": 193.0, \"body_mass_g\": 3800.0, \"sex\": \"MALE\"}, {\"species\": \"Adelie\", \"island\": \"Biscoe\", \"bill_length_mm\": 36.5, \"bill_depth_mm\": 16.6, \"flipper_length_mm\": 181.0, \"body_mass_g\": 2850.0, \"sex\": \"FEMALE\"}, {\"species\": \"Adelie\", \"island\": \"Biscoe\", \"bill_length_mm\": 37.6, \"bill_depth_mm\": 19.1, \"flipper_length_mm\": 194.0, \"body_mass_g\": 3750.0, \"sex\": \"MALE\"}, {\"species\": \"Adelie\", \"island\": \"Biscoe\", \"bill_length_mm\": 35.7, \"bill_depth_mm\": 16.9, \"flipper_length_mm\": 185.0, \"body_mass_g\": 3150.0, \"sex\": \"FEMALE\"}, {\"species\": \"Adelie\", \"island\": \"Biscoe\", \"bill_length_mm\": 41.3, \"bill_depth_mm\": 21.1, \"flipper_length_mm\": 195.0, \"body_mass_g\": 4400.0, \"sex\": \"MALE\"}, {\"species\": \"Adelie\", \"island\": \"Biscoe\", \"bill_length_mm\": 37.6, \"bill_depth_mm\": 17.0, \"flipper_length_mm\": 185.0, \"body_mass_g\": 3600.0, \"sex\": \"FEMALE\"}, {\"species\": \"Adelie\", \"island\": \"Biscoe\", \"bill_length_mm\": 41.1, \"bill_depth_mm\": 18.2, \"flipper_length_mm\": 192.0, \"body_mass_g\": 4050.0, \"sex\": \"MALE\"}, {\"species\": \"Adelie\", \"island\": \"Biscoe\", \"bill_length_mm\": 36.4, \"bill_depth_mm\": 17.1, \"flipper_length_mm\": 184.0, \"body_mass_g\": 2850.0, \"sex\": \"FEMALE\"}, {\"species\": \"Adelie\", \"island\": \"Biscoe\", \"bill_length_mm\": 41.6, \"bill_depth_mm\": 18.0, \"flipper_length_mm\": 192.0, \"body_mass_g\": 3950.0, \"sex\": \"MALE\"}, {\"species\": \"Adelie\", \"island\": \"Biscoe\", \"bill_length_mm\": 35.5, \"bill_depth_mm\": 16.2, \"flipper_length_mm\": 195.0, \"body_mass_g\": 3350.0, \"sex\": \"FEMALE\"}, {\"species\": \"Adelie\", \"island\": \"Biscoe\", \"bill_length_mm\": 41.1, \"bill_depth_mm\": 19.1, \"flipper_length_mm\": 188.0, \"body_mass_g\": 4100.0, \"sex\": \"MALE\"}, {\"species\": \"Adelie\", \"island\": \"Torgersen\", \"bill_length_mm\": 35.9, \"bill_depth_mm\": 16.6, \"flipper_length_mm\": 190.0, \"body_mass_g\": 3050.0, \"sex\": \"FEMALE\"}, {\"species\": \"Adelie\", \"island\": \"Torgersen\", \"bill_length_mm\": 41.8, \"bill_depth_mm\": 19.4, \"flipper_length_mm\": 198.0, \"body_mass_g\": 4450.0, \"sex\": \"MALE\"}, {\"species\": \"Adelie\", \"island\": \"Torgersen\", \"bill_length_mm\": 33.5, \"bill_depth_mm\": 19.0, \"flipper_length_mm\": 190.0, \"body_mass_g\": 3600.0, \"sex\": \"FEMALE\"}, {\"species\": \"Adelie\", \"island\": \"Torgersen\", \"bill_length_mm\": 39.7, \"bill_depth_mm\": 18.4, \"flipper_length_mm\": 190.0, \"body_mass_g\": 3900.0, \"sex\": \"MALE\"}, {\"species\": \"Adelie\", \"island\": \"Torgersen\", \"bill_length_mm\": 39.6, \"bill_depth_mm\": 17.2, \"flipper_length_mm\": 196.0, \"body_mass_g\": 3550.0, \"sex\": \"FEMALE\"}, {\"species\": \"Adelie\", \"island\": \"Torgersen\", \"bill_length_mm\": 45.8, \"bill_depth_mm\": 18.9, \"flipper_length_mm\": 197.0, \"body_mass_g\": 4150.0, \"sex\": \"MALE\"}, {\"species\": \"Adelie\", \"island\": \"Torgersen\", \"bill_length_mm\": 35.5, \"bill_depth_mm\": 17.5, \"flipper_length_mm\": 190.0, \"body_mass_g\": 3700.0, \"sex\": \"FEMALE\"}, {\"species\": \"Adelie\", \"island\": \"Torgersen\", \"bill_length_mm\": 42.8, \"bill_depth_mm\": 18.5, \"flipper_length_mm\": 195.0, \"body_mass_g\": 4250.0, \"sex\": \"MALE\"}, {\"species\": \"Adelie\", \"island\": \"Torgersen\", \"bill_length_mm\": 40.9, \"bill_depth_mm\": 16.8, \"flipper_length_mm\": 191.0, \"body_mass_g\": 3700.0, \"sex\": \"FEMALE\"}, {\"species\": \"Adelie\", \"island\": \"Torgersen\", \"bill_length_mm\": 37.2, \"bill_depth_mm\": 19.4, \"flipper_length_mm\": 184.0, \"body_mass_g\": 3900.0, \"sex\": \"MALE\"}, {\"species\": \"Adelie\", \"island\": \"Torgersen\", \"bill_length_mm\": 36.2, \"bill_depth_mm\": 16.1, \"flipper_length_mm\": 187.0, \"body_mass_g\": 3550.0, \"sex\": \"FEMALE\"}, {\"species\": \"Adelie\", \"island\": \"Torgersen\", \"bill_length_mm\": 42.1, \"bill_depth_mm\": 19.1, \"flipper_length_mm\": 195.0, \"body_mass_g\": 4000.0, \"sex\": \"MALE\"}, {\"species\": \"Adelie\", \"island\": \"Torgersen\", \"bill_length_mm\": 34.6, \"bill_depth_mm\": 17.2, \"flipper_length_mm\": 189.0, \"body_mass_g\": 3200.0, \"sex\": \"FEMALE\"}, {\"species\": \"Adelie\", \"island\": \"Torgersen\", \"bill_length_mm\": 42.9, \"bill_depth_mm\": 17.6, \"flipper_length_mm\": 196.0, \"body_mass_g\": 4700.0, \"sex\": \"MALE\"}, {\"species\": \"Adelie\", \"island\": \"Torgersen\", \"bill_length_mm\": 36.7, \"bill_depth_mm\": 18.8, \"flipper_length_mm\": 187.0, \"body_mass_g\": 3800.0, \"sex\": \"FEMALE\"}, {\"species\": \"Adelie\", \"island\": \"Torgersen\", \"bill_length_mm\": 35.1, \"bill_depth_mm\": 19.4, \"flipper_length_mm\": 193.0, \"body_mass_g\": 4200.0, \"sex\": \"MALE\"}, {\"species\": \"Adelie\", \"island\": \"Dream\", \"bill_length_mm\": 37.3, \"bill_depth_mm\": 17.8, \"flipper_length_mm\": 191.0, \"body_mass_g\": 3350.0, \"sex\": \"FEMALE\"}, {\"species\": \"Adelie\", \"island\": \"Dream\", \"bill_length_mm\": 41.3, \"bill_depth_mm\": 20.3, \"flipper_length_mm\": 194.0, \"body_mass_g\": 3550.0, \"sex\": \"MALE\"}, {\"species\": \"Adelie\", \"island\": \"Dream\", \"bill_length_mm\": 36.3, \"bill_depth_mm\": 19.5, \"flipper_length_mm\": 190.0, \"body_mass_g\": 3800.0, \"sex\": \"MALE\"}, {\"species\": \"Adelie\", \"island\": \"Dream\", \"bill_length_mm\": 36.9, \"bill_depth_mm\": 18.6, \"flipper_length_mm\": 189.0, \"body_mass_g\": 3500.0, \"sex\": \"FEMALE\"}, {\"species\": \"Adelie\", \"island\": \"Dream\", \"bill_length_mm\": 38.3, \"bill_depth_mm\": 19.2, \"flipper_length_mm\": 189.0, \"body_mass_g\": 3950.0, \"sex\": \"MALE\"}, {\"species\": \"Adelie\", \"island\": \"Dream\", \"bill_length_mm\": 38.9, \"bill_depth_mm\": 18.8, \"flipper_length_mm\": 190.0, \"body_mass_g\": 3600.0, \"sex\": \"FEMALE\"}, {\"species\": \"Adelie\", \"island\": \"Dream\", \"bill_length_mm\": 35.7, \"bill_depth_mm\": 18.0, \"flipper_length_mm\": 202.0, \"body_mass_g\": 3550.0, \"sex\": \"FEMALE\"}, {\"species\": \"Adelie\", \"island\": \"Dream\", \"bill_length_mm\": 41.1, \"bill_depth_mm\": 18.1, \"flipper_length_mm\": 205.0, \"body_mass_g\": 4300.0, \"sex\": \"MALE\"}, {\"species\": \"Adelie\", \"island\": \"Dream\", \"bill_length_mm\": 34.0, \"bill_depth_mm\": 17.1, \"flipper_length_mm\": 185.0, \"body_mass_g\": 3400.0, \"sex\": \"FEMALE\"}, {\"species\": \"Adelie\", \"island\": \"Dream\", \"bill_length_mm\": 39.6, \"bill_depth_mm\": 18.1, \"flipper_length_mm\": 186.0, \"body_mass_g\": 4450.0, \"sex\": \"MALE\"}, {\"species\": \"Adelie\", \"island\": \"Dream\", \"bill_length_mm\": 36.2, \"bill_depth_mm\": 17.3, \"flipper_length_mm\": 187.0, \"body_mass_g\": 3300.0, \"sex\": \"FEMALE\"}, {\"species\": \"Adelie\", \"island\": \"Dream\", \"bill_length_mm\": 40.8, \"bill_depth_mm\": 18.9, \"flipper_length_mm\": 208.0, \"body_mass_g\": 4300.0, \"sex\": \"MALE\"}, {\"species\": \"Adelie\", \"island\": \"Dream\", \"bill_length_mm\": 38.1, \"bill_depth_mm\": 18.6, \"flipper_length_mm\": 190.0, \"body_mass_g\": 3700.0, \"sex\": \"FEMALE\"}, {\"species\": \"Adelie\", \"island\": \"Dream\", \"bill_length_mm\": 40.3, \"bill_depth_mm\": 18.5, \"flipper_length_mm\": 196.0, \"body_mass_g\": 4350.0, \"sex\": \"MALE\"}, {\"species\": \"Adelie\", \"island\": \"Dream\", \"bill_length_mm\": 33.1, \"bill_depth_mm\": 16.1, \"flipper_length_mm\": 178.0, \"body_mass_g\": 2900.0, \"sex\": \"FEMALE\"}, {\"species\": \"Adelie\", \"island\": \"Dream\", \"bill_length_mm\": 43.2, \"bill_depth_mm\": 18.5, \"flipper_length_mm\": 192.0, \"body_mass_g\": 4100.0, \"sex\": \"MALE\"}, {\"species\": \"Adelie\", \"island\": \"Biscoe\", \"bill_length_mm\": 35.0, \"bill_depth_mm\": 17.9, \"flipper_length_mm\": 192.0, \"body_mass_g\": 3725.0, \"sex\": \"FEMALE\"}, {\"species\": \"Adelie\", \"island\": \"Biscoe\", \"bill_length_mm\": 41.0, \"bill_depth_mm\": 20.0, \"flipper_length_mm\": 203.0, \"body_mass_g\": 4725.0, \"sex\": \"MALE\"}, {\"species\": \"Adelie\", \"island\": \"Biscoe\", \"bill_length_mm\": 37.7, \"bill_depth_mm\": 16.0, \"flipper_length_mm\": 183.0, \"body_mass_g\": 3075.0, \"sex\": \"FEMALE\"}, {\"species\": \"Adelie\", \"island\": \"Biscoe\", \"bill_length_mm\": 37.8, \"bill_depth_mm\": 20.0, \"flipper_length_mm\": 190.0, \"body_mass_g\": 4250.0, \"sex\": \"MALE\"}, {\"species\": \"Adelie\", \"island\": \"Biscoe\", \"bill_length_mm\": 37.9, \"bill_depth_mm\": 18.6, \"flipper_length_mm\": 193.0, \"body_mass_g\": 2925.0, \"sex\": \"FEMALE\"}, {\"species\": \"Adelie\", \"island\": \"Biscoe\", \"bill_length_mm\": 39.7, \"bill_depth_mm\": 18.9, \"flipper_length_mm\": 184.0, \"body_mass_g\": 3550.0, \"sex\": \"MALE\"}, {\"species\": \"Adelie\", \"island\": \"Biscoe\", \"bill_length_mm\": 38.6, \"bill_depth_mm\": 17.2, \"flipper_length_mm\": 199.0, \"body_mass_g\": 3750.0, \"sex\": \"FEMALE\"}, {\"species\": \"Adelie\", \"island\": \"Biscoe\", \"bill_length_mm\": 38.2, \"bill_depth_mm\": 20.0, \"flipper_length_mm\": 190.0, \"body_mass_g\": 3900.0, \"sex\": \"MALE\"}, {\"species\": \"Adelie\", \"island\": \"Biscoe\", \"bill_length_mm\": 38.1, \"bill_depth_mm\": 17.0, \"flipper_length_mm\": 181.0, \"body_mass_g\": 3175.0, \"sex\": \"FEMALE\"}, {\"species\": \"Adelie\", \"island\": \"Biscoe\", \"bill_length_mm\": 43.2, \"bill_depth_mm\": 19.0, \"flipper_length_mm\": 197.0, \"body_mass_g\": 4775.0, \"sex\": \"MALE\"}, {\"species\": \"Adelie\", \"island\": \"Biscoe\", \"bill_length_mm\": 38.1, \"bill_depth_mm\": 16.5, \"flipper_length_mm\": 198.0, \"body_mass_g\": 3825.0, \"sex\": \"FEMALE\"}, {\"species\": \"Adelie\", \"island\": \"Biscoe\", \"bill_length_mm\": 45.6, \"bill_depth_mm\": 20.3, \"flipper_length_mm\": 191.0, \"body_mass_g\": 4600.0, \"sex\": \"MALE\"}, {\"species\": \"Adelie\", \"island\": \"Biscoe\", \"bill_length_mm\": 39.7, \"bill_depth_mm\": 17.7, \"flipper_length_mm\": 193.0, \"body_mass_g\": 3200.0, \"sex\": \"FEMALE\"}, {\"species\": \"Adelie\", \"island\": \"Biscoe\", \"bill_length_mm\": 42.2, \"bill_depth_mm\": 19.5, \"flipper_length_mm\": 197.0, \"body_mass_g\": 4275.0, \"sex\": \"MALE\"}, {\"species\": \"Adelie\", \"island\": \"Biscoe\", \"bill_length_mm\": 39.6, \"bill_depth_mm\": 20.7, \"flipper_length_mm\": 191.0, \"body_mass_g\": 3900.0, \"sex\": \"FEMALE\"}, {\"species\": \"Adelie\", \"island\": \"Biscoe\", \"bill_length_mm\": 42.7, \"bill_depth_mm\": 18.3, \"flipper_length_mm\": 196.0, \"body_mass_g\": 4075.0, \"sex\": \"MALE\"}, {\"species\": \"Adelie\", \"island\": \"Torgersen\", \"bill_length_mm\": 38.6, \"bill_depth_mm\": 17.0, \"flipper_length_mm\": 188.0, \"body_mass_g\": 2900.0, \"sex\": \"FEMALE\"}, {\"species\": \"Adelie\", \"island\": \"Torgersen\", \"bill_length_mm\": 37.3, \"bill_depth_mm\": 20.5, \"flipper_length_mm\": 199.0, \"body_mass_g\": 3775.0, \"sex\": \"MALE\"}, {\"species\": \"Adelie\", \"island\": \"Torgersen\", \"bill_length_mm\": 35.7, \"bill_depth_mm\": 17.0, \"flipper_length_mm\": 189.0, \"body_mass_g\": 3350.0, \"sex\": \"FEMALE\"}, {\"species\": \"Adelie\", \"island\": \"Torgersen\", \"bill_length_mm\": 41.1, \"bill_depth_mm\": 18.6, \"flipper_length_mm\": 189.0, \"body_mass_g\": 3325.0, \"sex\": \"MALE\"}, {\"species\": \"Adelie\", \"island\": \"Torgersen\", \"bill_length_mm\": 36.2, \"bill_depth_mm\": 17.2, \"flipper_length_mm\": 187.0, \"body_mass_g\": 3150.0, \"sex\": \"FEMALE\"}, {\"species\": \"Adelie\", \"island\": \"Torgersen\", \"bill_length_mm\": 37.7, \"bill_depth_mm\": 19.8, \"flipper_length_mm\": 198.0, \"body_mass_g\": 3500.0, \"sex\": \"MALE\"}, {\"species\": \"Adelie\", \"island\": \"Torgersen\", \"bill_length_mm\": 40.2, \"bill_depth_mm\": 17.0, \"flipper_length_mm\": 176.0, \"body_mass_g\": 3450.0, \"sex\": \"FEMALE\"}, {\"species\": \"Adelie\", \"island\": \"Torgersen\", \"bill_length_mm\": 41.4, \"bill_depth_mm\": 18.5, \"flipper_length_mm\": 202.0, \"body_mass_g\": 3875.0, \"sex\": \"MALE\"}, {\"species\": \"Adelie\", \"island\": \"Torgersen\", \"bill_length_mm\": 35.2, \"bill_depth_mm\": 15.9, \"flipper_length_mm\": 186.0, \"body_mass_g\": 3050.0, \"sex\": \"FEMALE\"}, {\"species\": \"Adelie\", \"island\": \"Torgersen\", \"bill_length_mm\": 40.6, \"bill_depth_mm\": 19.0, \"flipper_length_mm\": 199.0, \"body_mass_g\": 4000.0, \"sex\": \"MALE\"}, {\"species\": \"Adelie\", \"island\": \"Torgersen\", \"bill_length_mm\": 38.8, \"bill_depth_mm\": 17.6, \"flipper_length_mm\": 191.0, \"body_mass_g\": 3275.0, \"sex\": \"FEMALE\"}, {\"species\": \"Adelie\", \"island\": \"Torgersen\", \"bill_length_mm\": 41.5, \"bill_depth_mm\": 18.3, \"flipper_length_mm\": 195.0, \"body_mass_g\": 4300.0, \"sex\": \"MALE\"}, {\"species\": \"Adelie\", \"island\": \"Torgersen\", \"bill_length_mm\": 39.0, \"bill_depth_mm\": 17.1, \"flipper_length_mm\": 191.0, \"body_mass_g\": 3050.0, \"sex\": \"FEMALE\"}, {\"species\": \"Adelie\", \"island\": \"Torgersen\", \"bill_length_mm\": 44.1, \"bill_depth_mm\": 18.0, \"flipper_length_mm\": 210.0, \"body_mass_g\": 4000.0, \"sex\": \"MALE\"}, {\"species\": \"Adelie\", \"island\": \"Torgersen\", \"bill_length_mm\": 38.5, \"bill_depth_mm\": 17.9, \"flipper_length_mm\": 190.0, \"body_mass_g\": 3325.0, \"sex\": \"FEMALE\"}, {\"species\": \"Adelie\", \"island\": \"Torgersen\", \"bill_length_mm\": 43.1, \"bill_depth_mm\": 19.2, \"flipper_length_mm\": 197.0, \"body_mass_g\": 3500.0, \"sex\": \"MALE\"}, {\"species\": \"Adelie\", \"island\": \"Dream\", \"bill_length_mm\": 36.8, \"bill_depth_mm\": 18.5, \"flipper_length_mm\": 193.0, \"body_mass_g\": 3500.0, \"sex\": \"FEMALE\"}, {\"species\": \"Adelie\", \"island\": \"Dream\", \"bill_length_mm\": 37.5, \"bill_depth_mm\": 18.5, \"flipper_length_mm\": 199.0, \"body_mass_g\": 4475.0, \"sex\": \"MALE\"}, {\"species\": \"Adelie\", \"island\": \"Dream\", \"bill_length_mm\": 38.1, \"bill_depth_mm\": 17.6, \"flipper_length_mm\": 187.0, \"body_mass_g\": 3425.0, \"sex\": \"FEMALE\"}, {\"species\": \"Adelie\", \"island\": \"Dream\", \"bill_length_mm\": 41.1, \"bill_depth_mm\": 17.5, \"flipper_length_mm\": 190.0, \"body_mass_g\": 3900.0, \"sex\": \"MALE\"}, {\"species\": \"Adelie\", \"island\": \"Dream\", \"bill_length_mm\": 35.6, \"bill_depth_mm\": 17.5, \"flipper_length_mm\": 191.0, \"body_mass_g\": 3175.0, \"sex\": \"FEMALE\"}, {\"species\": \"Adelie\", \"island\": \"Dream\", \"bill_length_mm\": 40.2, \"bill_depth_mm\": 20.1, \"flipper_length_mm\": 200.0, \"body_mass_g\": 3975.0, \"sex\": \"MALE\"}, {\"species\": \"Adelie\", \"island\": \"Dream\", \"bill_length_mm\": 37.0, \"bill_depth_mm\": 16.5, \"flipper_length_mm\": 185.0, \"body_mass_g\": 3400.0, \"sex\": \"FEMALE\"}, {\"species\": \"Adelie\", \"island\": \"Dream\", \"bill_length_mm\": 39.7, \"bill_depth_mm\": 17.9, \"flipper_length_mm\": 193.0, \"body_mass_g\": 4250.0, \"sex\": \"MALE\"}, {\"species\": \"Adelie\", \"island\": \"Dream\", \"bill_length_mm\": 40.2, \"bill_depth_mm\": 17.1, \"flipper_length_mm\": 193.0, \"body_mass_g\": 3400.0, \"sex\": \"FEMALE\"}, {\"species\": \"Adelie\", \"island\": \"Dream\", \"bill_length_mm\": 40.6, \"bill_depth_mm\": 17.2, \"flipper_length_mm\": 187.0, \"body_mass_g\": 3475.0, \"sex\": \"MALE\"}, {\"species\": \"Adelie\", \"island\": \"Dream\", \"bill_length_mm\": 32.1, \"bill_depth_mm\": 15.5, \"flipper_length_mm\": 188.0, \"body_mass_g\": 3050.0, \"sex\": \"FEMALE\"}, {\"species\": \"Adelie\", \"island\": \"Dream\", \"bill_length_mm\": 40.7, \"bill_depth_mm\": 17.0, \"flipper_length_mm\": 190.0, \"body_mass_g\": 3725.0, \"sex\": \"MALE\"}, {\"species\": \"Adelie\", \"island\": \"Dream\", \"bill_length_mm\": 37.3, \"bill_depth_mm\": 16.8, \"flipper_length_mm\": 192.0, \"body_mass_g\": 3000.0, \"sex\": \"FEMALE\"}, {\"species\": \"Adelie\", \"island\": \"Dream\", \"bill_length_mm\": 39.0, \"bill_depth_mm\": 18.7, \"flipper_length_mm\": 185.0, \"body_mass_g\": 3650.0, \"sex\": \"MALE\"}, {\"species\": \"Adelie\", \"island\": \"Dream\", \"bill_length_mm\": 39.2, \"bill_depth_mm\": 18.6, \"flipper_length_mm\": 190.0, \"body_mass_g\": 4250.0, \"sex\": \"MALE\"}, {\"species\": \"Adelie\", \"island\": \"Dream\", \"bill_length_mm\": 36.6, \"bill_depth_mm\": 18.4, \"flipper_length_mm\": 184.0, \"body_mass_g\": 3475.0, \"sex\": \"FEMALE\"}, {\"species\": \"Adelie\", \"island\": \"Dream\", \"bill_length_mm\": 36.0, \"bill_depth_mm\": 17.8, \"flipper_length_mm\": 195.0, \"body_mass_g\": 3450.0, \"sex\": \"FEMALE\"}, {\"species\": \"Adelie\", \"island\": \"Dream\", \"bill_length_mm\": 37.8, \"bill_depth_mm\": 18.1, \"flipper_length_mm\": 193.0, \"body_mass_g\": 3750.0, \"sex\": \"MALE\"}, {\"species\": \"Adelie\", \"island\": \"Dream\", \"bill_length_mm\": 36.0, \"bill_depth_mm\": 17.1, \"flipper_length_mm\": 187.0, \"body_mass_g\": 3700.0, \"sex\": \"FEMALE\"}, {\"species\": \"Adelie\", \"island\": \"Dream\", \"bill_length_mm\": 41.5, \"bill_depth_mm\": 18.5, \"flipper_length_mm\": 201.0, \"body_mass_g\": 4000.0, \"sex\": \"MALE\"}, {\"species\": \"Chinstrap\", \"island\": \"Dream\", \"bill_length_mm\": 46.5, \"bill_depth_mm\": 17.9, \"flipper_length_mm\": 192.0, \"body_mass_g\": 3500.0, \"sex\": \"FEMALE\"}, {\"species\": \"Chinstrap\", \"island\": \"Dream\", \"bill_length_mm\": 50.0, \"bill_depth_mm\": 19.5, \"flipper_length_mm\": 196.0, \"body_mass_g\": 3900.0, \"sex\": \"MALE\"}, {\"species\": \"Chinstrap\", \"island\": \"Dream\", \"bill_length_mm\": 51.3, \"bill_depth_mm\": 19.2, \"flipper_length_mm\": 193.0, \"body_mass_g\": 3650.0, \"sex\": \"MALE\"}, {\"species\": \"Chinstrap\", \"island\": \"Dream\", \"bill_length_mm\": 45.4, \"bill_depth_mm\": 18.7, \"flipper_length_mm\": 188.0, \"body_mass_g\": 3525.0, \"sex\": \"FEMALE\"}, {\"species\": \"Chinstrap\", \"island\": \"Dream\", \"bill_length_mm\": 52.7, \"bill_depth_mm\": 19.8, \"flipper_length_mm\": 197.0, \"body_mass_g\": 3725.0, \"sex\": \"MALE\"}, {\"species\": \"Chinstrap\", \"island\": \"Dream\", \"bill_length_mm\": 45.2, \"bill_depth_mm\": 17.8, \"flipper_length_mm\": 198.0, \"body_mass_g\": 3950.0, \"sex\": \"FEMALE\"}, {\"species\": \"Chinstrap\", \"island\": \"Dream\", \"bill_length_mm\": 46.1, \"bill_depth_mm\": 18.2, \"flipper_length_mm\": 178.0, \"body_mass_g\": 3250.0, \"sex\": \"FEMALE\"}, {\"species\": \"Chinstrap\", \"island\": \"Dream\", \"bill_length_mm\": 51.3, \"bill_depth_mm\": 18.2, \"flipper_length_mm\": 197.0, \"body_mass_g\": 3750.0, \"sex\": \"MALE\"}, {\"species\": \"Chinstrap\", \"island\": \"Dream\", \"bill_length_mm\": 46.0, \"bill_depth_mm\": 18.9, \"flipper_length_mm\": 195.0, \"body_mass_g\": 4150.0, \"sex\": \"FEMALE\"}, {\"species\": \"Chinstrap\", \"island\": \"Dream\", \"bill_length_mm\": 51.3, \"bill_depth_mm\": 19.9, \"flipper_length_mm\": 198.0, \"body_mass_g\": 3700.0, \"sex\": \"MALE\"}, {\"species\": \"Chinstrap\", \"island\": \"Dream\", \"bill_length_mm\": 46.6, \"bill_depth_mm\": 17.8, \"flipper_length_mm\": 193.0, \"body_mass_g\": 3800.0, \"sex\": \"FEMALE\"}, {\"species\": \"Chinstrap\", \"island\": \"Dream\", \"bill_length_mm\": 51.7, \"bill_depth_mm\": 20.3, \"flipper_length_mm\": 194.0, \"body_mass_g\": 3775.0, \"sex\": \"MALE\"}, {\"species\": \"Chinstrap\", \"island\": \"Dream\", \"bill_length_mm\": 47.0, \"bill_depth_mm\": 17.3, \"flipper_length_mm\": 185.0, \"body_mass_g\": 3700.0, \"sex\": \"FEMALE\"}, {\"species\": \"Chinstrap\", \"island\": \"Dream\", \"bill_length_mm\": 52.0, \"bill_depth_mm\": 18.1, \"flipper_length_mm\": 201.0, \"body_mass_g\": 4050.0, \"sex\": \"MALE\"}, {\"species\": \"Chinstrap\", \"island\": \"Dream\", \"bill_length_mm\": 45.9, \"bill_depth_mm\": 17.1, \"flipper_length_mm\": 190.0, \"body_mass_g\": 3575.0, \"sex\": \"FEMALE\"}, {\"species\": \"Chinstrap\", \"island\": \"Dream\", \"bill_length_mm\": 50.5, \"bill_depth_mm\": 19.6, \"flipper_length_mm\": 201.0, \"body_mass_g\": 4050.0, \"sex\": \"MALE\"}, {\"species\": \"Chinstrap\", \"island\": \"Dream\", \"bill_length_mm\": 50.3, \"bill_depth_mm\": 20.0, \"flipper_length_mm\": 197.0, \"body_mass_g\": 3300.0, \"sex\": \"MALE\"}, {\"species\": \"Chinstrap\", \"island\": \"Dream\", \"bill_length_mm\": 58.0, \"bill_depth_mm\": 17.8, \"flipper_length_mm\": 181.0, \"body_mass_g\": 3700.0, \"sex\": \"FEMALE\"}, {\"species\": \"Chinstrap\", \"island\": \"Dream\", \"bill_length_mm\": 46.4, \"bill_depth_mm\": 18.6, \"flipper_length_mm\": 190.0, \"body_mass_g\": 3450.0, \"sex\": \"FEMALE\"}, {\"species\": \"Chinstrap\", \"island\": \"Dream\", \"bill_length_mm\": 49.2, \"bill_depth_mm\": 18.2, \"flipper_length_mm\": 195.0, \"body_mass_g\": 4400.0, \"sex\": \"MALE\"}, {\"species\": \"Chinstrap\", \"island\": \"Dream\", \"bill_length_mm\": 42.4, \"bill_depth_mm\": 17.3, \"flipper_length_mm\": 181.0, \"body_mass_g\": 3600.0, \"sex\": \"FEMALE\"}, {\"species\": \"Chinstrap\", \"island\": \"Dream\", \"bill_length_mm\": 48.5, \"bill_depth_mm\": 17.5, \"flipper_length_mm\": 191.0, \"body_mass_g\": 3400.0, \"sex\": \"MALE\"}, {\"species\": \"Chinstrap\", \"island\": \"Dream\", \"bill_length_mm\": 43.2, \"bill_depth_mm\": 16.6, \"flipper_length_mm\": 187.0, \"body_mass_g\": 2900.0, \"sex\": \"FEMALE\"}, {\"species\": \"Chinstrap\", \"island\": \"Dream\", \"bill_length_mm\": 50.6, \"bill_depth_mm\": 19.4, \"flipper_length_mm\": 193.0, \"body_mass_g\": 3800.0, \"sex\": \"MALE\"}, {\"species\": \"Chinstrap\", \"island\": \"Dream\", \"bill_length_mm\": 46.7, \"bill_depth_mm\": 17.9, \"flipper_length_mm\": 195.0, \"body_mass_g\": 3300.0, \"sex\": \"FEMALE\"}, {\"species\": \"Chinstrap\", \"island\": \"Dream\", \"bill_length_mm\": 52.0, \"bill_depth_mm\": 19.0, \"flipper_length_mm\": 197.0, \"body_mass_g\": 4150.0, \"sex\": \"MALE\"}, {\"species\": \"Chinstrap\", \"island\": \"Dream\", \"bill_length_mm\": 50.5, \"bill_depth_mm\": 18.4, \"flipper_length_mm\": 200.0, \"body_mass_g\": 3400.0, \"sex\": \"FEMALE\"}, {\"species\": \"Chinstrap\", \"island\": \"Dream\", \"bill_length_mm\": 49.5, \"bill_depth_mm\": 19.0, \"flipper_length_mm\": 200.0, \"body_mass_g\": 3800.0, \"sex\": \"MALE\"}, {\"species\": \"Chinstrap\", \"island\": \"Dream\", \"bill_length_mm\": 46.4, \"bill_depth_mm\": 17.8, \"flipper_length_mm\": 191.0, \"body_mass_g\": 3700.0, \"sex\": \"FEMALE\"}, {\"species\": \"Chinstrap\", \"island\": \"Dream\", \"bill_length_mm\": 52.8, \"bill_depth_mm\": 20.0, \"flipper_length_mm\": 205.0, \"body_mass_g\": 4550.0, \"sex\": \"MALE\"}, {\"species\": \"Chinstrap\", \"island\": \"Dream\", \"bill_length_mm\": 40.9, \"bill_depth_mm\": 16.6, \"flipper_length_mm\": 187.0, \"body_mass_g\": 3200.0, \"sex\": \"FEMALE\"}, {\"species\": \"Chinstrap\", \"island\": \"Dream\", \"bill_length_mm\": 54.2, \"bill_depth_mm\": 20.8, \"flipper_length_mm\": 201.0, \"body_mass_g\": 4300.0, \"sex\": \"MALE\"}, {\"species\": \"Chinstrap\", \"island\": \"Dream\", \"bill_length_mm\": 42.5, \"bill_depth_mm\": 16.7, \"flipper_length_mm\": 187.0, \"body_mass_g\": 3350.0, \"sex\": \"FEMALE\"}, {\"species\": \"Chinstrap\", \"island\": \"Dream\", \"bill_length_mm\": 51.0, \"bill_depth_mm\": 18.8, \"flipper_length_mm\": 203.0, \"body_mass_g\": 4100.0, \"sex\": \"MALE\"}, {\"species\": \"Chinstrap\", \"island\": \"Dream\", \"bill_length_mm\": 49.7, \"bill_depth_mm\": 18.6, \"flipper_length_mm\": 195.0, \"body_mass_g\": 3600.0, \"sex\": \"MALE\"}, {\"species\": \"Chinstrap\", \"island\": \"Dream\", \"bill_length_mm\": 47.5, \"bill_depth_mm\": 16.8, \"flipper_length_mm\": 199.0, \"body_mass_g\": 3900.0, \"sex\": \"FEMALE\"}, {\"species\": \"Chinstrap\", \"island\": \"Dream\", \"bill_length_mm\": 47.6, \"bill_depth_mm\": 18.3, \"flipper_length_mm\": 195.0, \"body_mass_g\": 3850.0, \"sex\": \"FEMALE\"}, {\"species\": \"Chinstrap\", \"island\": \"Dream\", \"bill_length_mm\": 52.0, \"bill_depth_mm\": 20.7, \"flipper_length_mm\": 210.0, \"body_mass_g\": 4800.0, \"sex\": \"MALE\"}, {\"species\": \"Chinstrap\", \"island\": \"Dream\", \"bill_length_mm\": 46.9, \"bill_depth_mm\": 16.6, \"flipper_length_mm\": 192.0, \"body_mass_g\": 2700.0, \"sex\": \"FEMALE\"}, {\"species\": \"Chinstrap\", \"island\": \"Dream\", \"bill_length_mm\": 53.5, \"bill_depth_mm\": 19.9, \"flipper_length_mm\": 205.0, \"body_mass_g\": 4500.0, \"sex\": \"MALE\"}, {\"species\": \"Chinstrap\", \"island\": \"Dream\", \"bill_length_mm\": 49.0, \"bill_depth_mm\": 19.5, \"flipper_length_mm\": 210.0, \"body_mass_g\": 3950.0, \"sex\": \"MALE\"}, {\"species\": \"Chinstrap\", \"island\": \"Dream\", \"bill_length_mm\": 46.2, \"bill_depth_mm\": 17.5, \"flipper_length_mm\": 187.0, \"body_mass_g\": 3650.0, \"sex\": \"FEMALE\"}, {\"species\": \"Chinstrap\", \"island\": \"Dream\", \"bill_length_mm\": 50.9, \"bill_depth_mm\": 19.1, \"flipper_length_mm\": 196.0, \"body_mass_g\": 3550.0, \"sex\": \"MALE\"}, {\"species\": \"Chinstrap\", \"island\": \"Dream\", \"bill_length_mm\": 45.5, \"bill_depth_mm\": 17.0, \"flipper_length_mm\": 196.0, \"body_mass_g\": 3500.0, \"sex\": \"FEMALE\"}, {\"species\": \"Chinstrap\", \"island\": \"Dream\", \"bill_length_mm\": 50.9, \"bill_depth_mm\": 17.9, \"flipper_length_mm\": 196.0, \"body_mass_g\": 3675.0, \"sex\": \"FEMALE\"}, {\"species\": \"Chinstrap\", \"island\": \"Dream\", \"bill_length_mm\": 50.8, \"bill_depth_mm\": 18.5, \"flipper_length_mm\": 201.0, \"body_mass_g\": 4450.0, \"sex\": \"MALE\"}, {\"species\": \"Chinstrap\", \"island\": \"Dream\", \"bill_length_mm\": 50.1, \"bill_depth_mm\": 17.9, \"flipper_length_mm\": 190.0, \"body_mass_g\": 3400.0, \"sex\": \"FEMALE\"}, {\"species\": \"Chinstrap\", \"island\": \"Dream\", \"bill_length_mm\": 49.0, \"bill_depth_mm\": 19.6, \"flipper_length_mm\": 212.0, \"body_mass_g\": 4300.0, \"sex\": \"MALE\"}, {\"species\": \"Chinstrap\", \"island\": \"Dream\", \"bill_length_mm\": 51.5, \"bill_depth_mm\": 18.7, \"flipper_length_mm\": 187.0, \"body_mass_g\": 3250.0, \"sex\": \"MALE\"}, {\"species\": \"Chinstrap\", \"island\": \"Dream\", \"bill_length_mm\": 49.8, \"bill_depth_mm\": 17.3, \"flipper_length_mm\": 198.0, \"body_mass_g\": 3675.0, \"sex\": \"FEMALE\"}, {\"species\": \"Chinstrap\", \"island\": \"Dream\", \"bill_length_mm\": 48.1, \"bill_depth_mm\": 16.4, \"flipper_length_mm\": 199.0, \"body_mass_g\": 3325.0, \"sex\": \"FEMALE\"}, {\"species\": \"Chinstrap\", \"island\": \"Dream\", \"bill_length_mm\": 51.4, \"bill_depth_mm\": 19.0, \"flipper_length_mm\": 201.0, \"body_mass_g\": 3950.0, \"sex\": \"MALE\"}, {\"species\": \"Chinstrap\", \"island\": \"Dream\", \"bill_length_mm\": 45.7, \"bill_depth_mm\": 17.3, \"flipper_length_mm\": 193.0, \"body_mass_g\": 3600.0, \"sex\": \"FEMALE\"}, {\"species\": \"Chinstrap\", \"island\": \"Dream\", \"bill_length_mm\": 50.7, \"bill_depth_mm\": 19.7, \"flipper_length_mm\": 203.0, \"body_mass_g\": 4050.0, \"sex\": \"MALE\"}, {\"species\": \"Chinstrap\", \"island\": \"Dream\", \"bill_length_mm\": 42.5, \"bill_depth_mm\": 17.3, \"flipper_length_mm\": 187.0, \"body_mass_g\": 3350.0, \"sex\": \"FEMALE\"}, {\"species\": \"Chinstrap\", \"island\": \"Dream\", \"bill_length_mm\": 52.2, \"bill_depth_mm\": 18.8, \"flipper_length_mm\": 197.0, \"body_mass_g\": 3450.0, \"sex\": \"MALE\"}, {\"species\": \"Chinstrap\", \"island\": \"Dream\", \"bill_length_mm\": 45.2, \"bill_depth_mm\": 16.6, \"flipper_length_mm\": 191.0, \"body_mass_g\": 3250.0, \"sex\": \"FEMALE\"}, {\"species\": \"Chinstrap\", \"island\": \"Dream\", \"bill_length_mm\": 49.3, \"bill_depth_mm\": 19.9, \"flipper_length_mm\": 203.0, \"body_mass_g\": 4050.0, \"sex\": \"MALE\"}, {\"species\": \"Chinstrap\", \"island\": \"Dream\", \"bill_length_mm\": 50.2, \"bill_depth_mm\": 18.8, \"flipper_length_mm\": 202.0, \"body_mass_g\": 3800.0, \"sex\": \"MALE\"}, {\"species\": \"Chinstrap\", \"island\": \"Dream\", \"bill_length_mm\": 45.6, \"bill_depth_mm\": 19.4, \"flipper_length_mm\": 194.0, \"body_mass_g\": 3525.0, \"sex\": \"FEMALE\"}, {\"species\": \"Chinstrap\", \"island\": \"Dream\", \"bill_length_mm\": 51.9, \"bill_depth_mm\": 19.5, \"flipper_length_mm\": 206.0, \"body_mass_g\": 3950.0, \"sex\": \"MALE\"}, {\"species\": \"Chinstrap\", \"island\": \"Dream\", \"bill_length_mm\": 46.8, \"bill_depth_mm\": 16.5, \"flipper_length_mm\": 189.0, \"body_mass_g\": 3650.0, \"sex\": \"FEMALE\"}, {\"species\": \"Chinstrap\", \"island\": \"Dream\", \"bill_length_mm\": 45.7, \"bill_depth_mm\": 17.0, \"flipper_length_mm\": 195.0, \"body_mass_g\": 3650.0, \"sex\": \"FEMALE\"}, {\"species\": \"Chinstrap\", \"island\": \"Dream\", \"bill_length_mm\": 55.8, \"bill_depth_mm\": 19.8, \"flipper_length_mm\": 207.0, \"body_mass_g\": 4000.0, \"sex\": \"MALE\"}, {\"species\": \"Chinstrap\", \"island\": \"Dream\", \"bill_length_mm\": 43.5, \"bill_depth_mm\": 18.1, \"flipper_length_mm\": 202.0, \"body_mass_g\": 3400.0, \"sex\": \"FEMALE\"}, {\"species\": \"Chinstrap\", \"island\": \"Dream\", \"bill_length_mm\": 49.6, \"bill_depth_mm\": 18.2, \"flipper_length_mm\": 193.0, \"body_mass_g\": 3775.0, \"sex\": \"MALE\"}, {\"species\": \"Chinstrap\", \"island\": \"Dream\", \"bill_length_mm\": 50.8, \"bill_depth_mm\": 19.0, \"flipper_length_mm\": 210.0, \"body_mass_g\": 4100.0, \"sex\": \"MALE\"}, {\"species\": \"Chinstrap\", \"island\": \"Dream\", \"bill_length_mm\": 50.2, \"bill_depth_mm\": 18.7, \"flipper_length_mm\": 198.0, \"body_mass_g\": 3775.0, \"sex\": \"FEMALE\"}, {\"species\": \"Gentoo\", \"island\": \"Biscoe\", \"bill_length_mm\": 46.1, \"bill_depth_mm\": 13.2, \"flipper_length_mm\": 211.0, \"body_mass_g\": 4500.0, \"sex\": \"FEMALE\"}, {\"species\": \"Gentoo\", \"island\": \"Biscoe\", \"bill_length_mm\": 50.0, \"bill_depth_mm\": 16.3, \"flipper_length_mm\": 230.0, \"body_mass_g\": 5700.0, \"sex\": \"MALE\"}, {\"species\": \"Gentoo\", \"island\": \"Biscoe\", \"bill_length_mm\": 48.7, \"bill_depth_mm\": 14.1, \"flipper_length_mm\": 210.0, \"body_mass_g\": 4450.0, \"sex\": \"FEMALE\"}, {\"species\": \"Gentoo\", \"island\": \"Biscoe\", \"bill_length_mm\": 50.0, \"bill_depth_mm\": 15.2, \"flipper_length_mm\": 218.0, \"body_mass_g\": 5700.0, \"sex\": \"MALE\"}, {\"species\": \"Gentoo\", \"island\": \"Biscoe\", \"bill_length_mm\": 47.6, \"bill_depth_mm\": 14.5, \"flipper_length_mm\": 215.0, \"body_mass_g\": 5400.0, \"sex\": \"MALE\"}, {\"species\": \"Gentoo\", \"island\": \"Biscoe\", \"bill_length_mm\": 46.5, \"bill_depth_mm\": 13.5, \"flipper_length_mm\": 210.0, \"body_mass_g\": 4550.0, \"sex\": \"FEMALE\"}, {\"species\": \"Gentoo\", \"island\": \"Biscoe\", \"bill_length_mm\": 45.4, \"bill_depth_mm\": 14.6, \"flipper_length_mm\": 211.0, \"body_mass_g\": 4800.0, \"sex\": \"FEMALE\"}, {\"species\": \"Gentoo\", \"island\": \"Biscoe\", \"bill_length_mm\": 46.7, \"bill_depth_mm\": 15.3, \"flipper_length_mm\": 219.0, \"body_mass_g\": 5200.0, \"sex\": \"MALE\"}, {\"species\": \"Gentoo\", \"island\": \"Biscoe\", \"bill_length_mm\": 43.3, \"bill_depth_mm\": 13.4, \"flipper_length_mm\": 209.0, \"body_mass_g\": 4400.0, \"sex\": \"FEMALE\"}, {\"species\": \"Gentoo\", \"island\": \"Biscoe\", \"bill_length_mm\": 46.8, \"bill_depth_mm\": 15.4, \"flipper_length_mm\": 215.0, \"body_mass_g\": 5150.0, \"sex\": \"MALE\"}, {\"species\": \"Gentoo\", \"island\": \"Biscoe\", \"bill_length_mm\": 40.9, \"bill_depth_mm\": 13.7, \"flipper_length_mm\": 214.0, \"body_mass_g\": 4650.0, \"sex\": \"FEMALE\"}, {\"species\": \"Gentoo\", \"island\": \"Biscoe\", \"bill_length_mm\": 49.0, \"bill_depth_mm\": 16.1, \"flipper_length_mm\": 216.0, \"body_mass_g\": 5550.0, \"sex\": \"MALE\"}, {\"species\": \"Gentoo\", \"island\": \"Biscoe\", \"bill_length_mm\": 45.5, \"bill_depth_mm\": 13.7, \"flipper_length_mm\": 214.0, \"body_mass_g\": 4650.0, \"sex\": \"FEMALE\"}, {\"species\": \"Gentoo\", \"island\": \"Biscoe\", \"bill_length_mm\": 48.4, \"bill_depth_mm\": 14.6, \"flipper_length_mm\": 213.0, \"body_mass_g\": 5850.0, \"sex\": \"MALE\"}, {\"species\": \"Gentoo\", \"island\": \"Biscoe\", \"bill_length_mm\": 45.8, \"bill_depth_mm\": 14.6, \"flipper_length_mm\": 210.0, \"body_mass_g\": 4200.0, \"sex\": \"FEMALE\"}, {\"species\": \"Gentoo\", \"island\": \"Biscoe\", \"bill_length_mm\": 49.3, \"bill_depth_mm\": 15.7, \"flipper_length_mm\": 217.0, \"body_mass_g\": 5850.0, \"sex\": \"MALE\"}, {\"species\": \"Gentoo\", \"island\": \"Biscoe\", \"bill_length_mm\": 42.0, \"bill_depth_mm\": 13.5, \"flipper_length_mm\": 210.0, \"body_mass_g\": 4150.0, \"sex\": \"FEMALE\"}, {\"species\": \"Gentoo\", \"island\": \"Biscoe\", \"bill_length_mm\": 49.2, \"bill_depth_mm\": 15.2, \"flipper_length_mm\": 221.0, \"body_mass_g\": 6300.0, \"sex\": \"MALE\"}, {\"species\": \"Gentoo\", \"island\": \"Biscoe\", \"bill_length_mm\": 46.2, \"bill_depth_mm\": 14.5, \"flipper_length_mm\": 209.0, \"body_mass_g\": 4800.0, \"sex\": \"FEMALE\"}, {\"species\": \"Gentoo\", \"island\": \"Biscoe\", \"bill_length_mm\": 48.7, \"bill_depth_mm\": 15.1, \"flipper_length_mm\": 222.0, \"body_mass_g\": 5350.0, \"sex\": \"MALE\"}, {\"species\": \"Gentoo\", \"island\": \"Biscoe\", \"bill_length_mm\": 50.2, \"bill_depth_mm\": 14.3, \"flipper_length_mm\": 218.0, \"body_mass_g\": 5700.0, \"sex\": \"MALE\"}, {\"species\": \"Gentoo\", \"island\": \"Biscoe\", \"bill_length_mm\": 45.1, \"bill_depth_mm\": 14.5, \"flipper_length_mm\": 215.0, \"body_mass_g\": 5000.0, \"sex\": \"FEMALE\"}, {\"species\": \"Gentoo\", \"island\": \"Biscoe\", \"bill_length_mm\": 46.5, \"bill_depth_mm\": 14.5, \"flipper_length_mm\": 213.0, \"body_mass_g\": 4400.0, \"sex\": \"FEMALE\"}, {\"species\": \"Gentoo\", \"island\": \"Biscoe\", \"bill_length_mm\": 46.3, \"bill_depth_mm\": 15.8, \"flipper_length_mm\": 215.0, \"body_mass_g\": 5050.0, \"sex\": \"MALE\"}, {\"species\": \"Gentoo\", \"island\": \"Biscoe\", \"bill_length_mm\": 42.9, \"bill_depth_mm\": 13.1, \"flipper_length_mm\": 215.0, \"body_mass_g\": 5000.0, \"sex\": \"FEMALE\"}, {\"species\": \"Gentoo\", \"island\": \"Biscoe\", \"bill_length_mm\": 46.1, \"bill_depth_mm\": 15.1, \"flipper_length_mm\": 215.0, \"body_mass_g\": 5100.0, \"sex\": \"MALE\"}, {\"species\": \"Gentoo\", \"island\": \"Biscoe\", \"bill_length_mm\": 44.5, \"bill_depth_mm\": 14.3, \"flipper_length_mm\": 216.0, \"body_mass_g\": 4100.0, \"sex\": null}, {\"species\": \"Gentoo\", \"island\": \"Biscoe\", \"bill_length_mm\": 47.8, \"bill_depth_mm\": 15.0, \"flipper_length_mm\": 215.0, \"body_mass_g\": 5650.0, \"sex\": \"MALE\"}, {\"species\": \"Gentoo\", \"island\": \"Biscoe\", \"bill_length_mm\": 48.2, \"bill_depth_mm\": 14.3, \"flipper_length_mm\": 210.0, \"body_mass_g\": 4600.0, \"sex\": \"FEMALE\"}, {\"species\": \"Gentoo\", \"island\": \"Biscoe\", \"bill_length_mm\": 50.0, \"bill_depth_mm\": 15.3, \"flipper_length_mm\": 220.0, \"body_mass_g\": 5550.0, \"sex\": \"MALE\"}, {\"species\": \"Gentoo\", \"island\": \"Biscoe\", \"bill_length_mm\": 47.3, \"bill_depth_mm\": 15.3, \"flipper_length_mm\": 222.0, \"body_mass_g\": 5250.0, \"sex\": \"MALE\"}, {\"species\": \"Gentoo\", \"island\": \"Biscoe\", \"bill_length_mm\": 42.8, \"bill_depth_mm\": 14.2, \"flipper_length_mm\": 209.0, \"body_mass_g\": 4700.0, \"sex\": \"FEMALE\"}, {\"species\": \"Gentoo\", \"island\": \"Biscoe\", \"bill_length_mm\": 45.1, \"bill_depth_mm\": 14.5, \"flipper_length_mm\": 207.0, \"body_mass_g\": 5050.0, \"sex\": \"FEMALE\"}, {\"species\": \"Gentoo\", \"island\": \"Biscoe\", \"bill_length_mm\": 59.6, \"bill_depth_mm\": 17.0, \"flipper_length_mm\": 230.0, \"body_mass_g\": 6050.0, \"sex\": \"MALE\"}, {\"species\": \"Gentoo\", \"island\": \"Biscoe\", \"bill_length_mm\": 49.1, \"bill_depth_mm\": 14.8, \"flipper_length_mm\": 220.0, \"body_mass_g\": 5150.0, \"sex\": \"FEMALE\"}, {\"species\": \"Gentoo\", \"island\": \"Biscoe\", \"bill_length_mm\": 48.4, \"bill_depth_mm\": 16.3, \"flipper_length_mm\": 220.0, \"body_mass_g\": 5400.0, \"sex\": \"MALE\"}, {\"species\": \"Gentoo\", \"island\": \"Biscoe\", \"bill_length_mm\": 42.6, \"bill_depth_mm\": 13.7, \"flipper_length_mm\": 213.0, \"body_mass_g\": 4950.0, \"sex\": \"FEMALE\"}, {\"species\": \"Gentoo\", \"island\": \"Biscoe\", \"bill_length_mm\": 44.4, \"bill_depth_mm\": 17.3, \"flipper_length_mm\": 219.0, \"body_mass_g\": 5250.0, \"sex\": \"MALE\"}, {\"species\": \"Gentoo\", \"island\": \"Biscoe\", \"bill_length_mm\": 44.0, \"bill_depth_mm\": 13.6, \"flipper_length_mm\": 208.0, \"body_mass_g\": 4350.0, \"sex\": \"FEMALE\"}, {\"species\": \"Gentoo\", \"island\": \"Biscoe\", \"bill_length_mm\": 48.7, \"bill_depth_mm\": 15.7, \"flipper_length_mm\": 208.0, \"body_mass_g\": 5350.0, \"sex\": \"MALE\"}, {\"species\": \"Gentoo\", \"island\": \"Biscoe\", \"bill_length_mm\": 42.7, \"bill_depth_mm\": 13.7, \"flipper_length_mm\": 208.0, \"body_mass_g\": 3950.0, \"sex\": \"FEMALE\"}, {\"species\": \"Gentoo\", \"island\": \"Biscoe\", \"bill_length_mm\": 49.6, \"bill_depth_mm\": 16.0, \"flipper_length_mm\": 225.0, \"body_mass_g\": 5700.0, \"sex\": \"MALE\"}, {\"species\": \"Gentoo\", \"island\": \"Biscoe\", \"bill_length_mm\": 45.3, \"bill_depth_mm\": 13.7, \"flipper_length_mm\": 210.0, \"body_mass_g\": 4300.0, \"sex\": \"FEMALE\"}, {\"species\": \"Gentoo\", \"island\": \"Biscoe\", \"bill_length_mm\": 49.6, \"bill_depth_mm\": 15.0, \"flipper_length_mm\": 216.0, \"body_mass_g\": 4750.0, \"sex\": \"MALE\"}, {\"species\": \"Gentoo\", \"island\": \"Biscoe\", \"bill_length_mm\": 50.5, \"bill_depth_mm\": 15.9, \"flipper_length_mm\": 222.0, \"body_mass_g\": 5550.0, \"sex\": \"MALE\"}, {\"species\": \"Gentoo\", \"island\": \"Biscoe\", \"bill_length_mm\": 43.6, \"bill_depth_mm\": 13.9, \"flipper_length_mm\": 217.0, \"body_mass_g\": 4900.0, \"sex\": \"FEMALE\"}, {\"species\": \"Gentoo\", \"island\": \"Biscoe\", \"bill_length_mm\": 45.5, \"bill_depth_mm\": 13.9, \"flipper_length_mm\": 210.0, \"body_mass_g\": 4200.0, \"sex\": \"FEMALE\"}, {\"species\": \"Gentoo\", \"island\": \"Biscoe\", \"bill_length_mm\": 50.5, \"bill_depth_mm\": 15.9, \"flipper_length_mm\": 225.0, \"body_mass_g\": 5400.0, \"sex\": \"MALE\"}, {\"species\": \"Gentoo\", \"island\": \"Biscoe\", \"bill_length_mm\": 44.9, \"bill_depth_mm\": 13.3, \"flipper_length_mm\": 213.0, \"body_mass_g\": 5100.0, \"sex\": \"FEMALE\"}, {\"species\": \"Gentoo\", \"island\": \"Biscoe\", \"bill_length_mm\": 45.2, \"bill_depth_mm\": 15.8, \"flipper_length_mm\": 215.0, \"body_mass_g\": 5300.0, \"sex\": \"MALE\"}, {\"species\": \"Gentoo\", \"island\": \"Biscoe\", \"bill_length_mm\": 46.6, \"bill_depth_mm\": 14.2, \"flipper_length_mm\": 210.0, \"body_mass_g\": 4850.0, \"sex\": \"FEMALE\"}, {\"species\": \"Gentoo\", \"island\": \"Biscoe\", \"bill_length_mm\": 48.5, \"bill_depth_mm\": 14.1, \"flipper_length_mm\": 220.0, \"body_mass_g\": 5300.0, \"sex\": \"MALE\"}, {\"species\": \"Gentoo\", \"island\": \"Biscoe\", \"bill_length_mm\": 45.1, \"bill_depth_mm\": 14.4, \"flipper_length_mm\": 210.0, \"body_mass_g\": 4400.0, \"sex\": \"FEMALE\"}, {\"species\": \"Gentoo\", \"island\": \"Biscoe\", \"bill_length_mm\": 50.1, \"bill_depth_mm\": 15.0, \"flipper_length_mm\": 225.0, \"body_mass_g\": 5000.0, \"sex\": \"MALE\"}, {\"species\": \"Gentoo\", \"island\": \"Biscoe\", \"bill_length_mm\": 46.5, \"bill_depth_mm\": 14.4, \"flipper_length_mm\": 217.0, \"body_mass_g\": 4900.0, \"sex\": \"FEMALE\"}, {\"species\": \"Gentoo\", \"island\": \"Biscoe\", \"bill_length_mm\": 45.0, \"bill_depth_mm\": 15.4, \"flipper_length_mm\": 220.0, \"body_mass_g\": 5050.0, \"sex\": \"MALE\"}, {\"species\": \"Gentoo\", \"island\": \"Biscoe\", \"bill_length_mm\": 43.8, \"bill_depth_mm\": 13.9, \"flipper_length_mm\": 208.0, \"body_mass_g\": 4300.0, \"sex\": \"FEMALE\"}, {\"species\": \"Gentoo\", \"island\": \"Biscoe\", \"bill_length_mm\": 45.5, \"bill_depth_mm\": 15.0, \"flipper_length_mm\": 220.0, \"body_mass_g\": 5000.0, \"sex\": \"MALE\"}, {\"species\": \"Gentoo\", \"island\": \"Biscoe\", \"bill_length_mm\": 43.2, \"bill_depth_mm\": 14.5, \"flipper_length_mm\": 208.0, \"body_mass_g\": 4450.0, \"sex\": \"FEMALE\"}, {\"species\": \"Gentoo\", \"island\": \"Biscoe\", \"bill_length_mm\": 50.4, \"bill_depth_mm\": 15.3, \"flipper_length_mm\": 224.0, \"body_mass_g\": 5550.0, \"sex\": \"MALE\"}, {\"species\": \"Gentoo\", \"island\": \"Biscoe\", \"bill_length_mm\": 45.3, \"bill_depth_mm\": 13.8, \"flipper_length_mm\": 208.0, \"body_mass_g\": 4200.0, \"sex\": \"FEMALE\"}, {\"species\": \"Gentoo\", \"island\": \"Biscoe\", \"bill_length_mm\": 46.2, \"bill_depth_mm\": 14.9, \"flipper_length_mm\": 221.0, \"body_mass_g\": 5300.0, \"sex\": \"MALE\"}, {\"species\": \"Gentoo\", \"island\": \"Biscoe\", \"bill_length_mm\": 45.7, \"bill_depth_mm\": 13.9, \"flipper_length_mm\": 214.0, \"body_mass_g\": 4400.0, \"sex\": \"FEMALE\"}, {\"species\": \"Gentoo\", \"island\": \"Biscoe\", \"bill_length_mm\": 54.3, \"bill_depth_mm\": 15.7, \"flipper_length_mm\": 231.0, \"body_mass_g\": 5650.0, \"sex\": \"MALE\"}, {\"species\": \"Gentoo\", \"island\": \"Biscoe\", \"bill_length_mm\": 45.8, \"bill_depth_mm\": 14.2, \"flipper_length_mm\": 219.0, \"body_mass_g\": 4700.0, \"sex\": \"FEMALE\"}, {\"species\": \"Gentoo\", \"island\": \"Biscoe\", \"bill_length_mm\": 49.8, \"bill_depth_mm\": 16.8, \"flipper_length_mm\": 230.0, \"body_mass_g\": 5700.0, \"sex\": \"MALE\"}, {\"species\": \"Gentoo\", \"island\": \"Biscoe\", \"bill_length_mm\": 46.2, \"bill_depth_mm\": 14.4, \"flipper_length_mm\": 214.0, \"body_mass_g\": 4650.0, \"sex\": null}, {\"species\": \"Gentoo\", \"island\": \"Biscoe\", \"bill_length_mm\": 49.5, \"bill_depth_mm\": 16.2, \"flipper_length_mm\": 229.0, \"body_mass_g\": 5800.0, \"sex\": \"MALE\"}, {\"species\": \"Gentoo\", \"island\": \"Biscoe\", \"bill_length_mm\": 43.5, \"bill_depth_mm\": 14.2, \"flipper_length_mm\": 220.0, \"body_mass_g\": 4700.0, \"sex\": \"FEMALE\"}, {\"species\": \"Gentoo\", \"island\": \"Biscoe\", \"bill_length_mm\": 50.7, \"bill_depth_mm\": 15.0, \"flipper_length_mm\": 223.0, \"body_mass_g\": 5550.0, \"sex\": \"MALE\"}, {\"species\": \"Gentoo\", \"island\": \"Biscoe\", \"bill_length_mm\": 47.7, \"bill_depth_mm\": 15.0, \"flipper_length_mm\": 216.0, \"body_mass_g\": 4750.0, \"sex\": \"FEMALE\"}, {\"species\": \"Gentoo\", \"island\": \"Biscoe\", \"bill_length_mm\": 46.4, \"bill_depth_mm\": 15.6, \"flipper_length_mm\": 221.0, \"body_mass_g\": 5000.0, \"sex\": \"MALE\"}, {\"species\": \"Gentoo\", \"island\": \"Biscoe\", \"bill_length_mm\": 48.2, \"bill_depth_mm\": 15.6, \"flipper_length_mm\": 221.0, \"body_mass_g\": 5100.0, \"sex\": \"MALE\"}, {\"species\": \"Gentoo\", \"island\": \"Biscoe\", \"bill_length_mm\": 46.5, \"bill_depth_mm\": 14.8, \"flipper_length_mm\": 217.0, \"body_mass_g\": 5200.0, \"sex\": \"FEMALE\"}, {\"species\": \"Gentoo\", \"island\": \"Biscoe\", \"bill_length_mm\": 46.4, \"bill_depth_mm\": 15.0, \"flipper_length_mm\": 216.0, \"body_mass_g\": 4700.0, \"sex\": \"FEMALE\"}, {\"species\": \"Gentoo\", \"island\": \"Biscoe\", \"bill_length_mm\": 48.6, \"bill_depth_mm\": 16.0, \"flipper_length_mm\": 230.0, \"body_mass_g\": 5800.0, \"sex\": \"MALE\"}, {\"species\": \"Gentoo\", \"island\": \"Biscoe\", \"bill_length_mm\": 47.5, \"bill_depth_mm\": 14.2, \"flipper_length_mm\": 209.0, \"body_mass_g\": 4600.0, \"sex\": \"FEMALE\"}, {\"species\": \"Gentoo\", \"island\": \"Biscoe\", \"bill_length_mm\": 51.1, \"bill_depth_mm\": 16.3, \"flipper_length_mm\": 220.0, \"body_mass_g\": 6000.0, \"sex\": \"MALE\"}, {\"species\": \"Gentoo\", \"island\": \"Biscoe\", \"bill_length_mm\": 45.2, \"bill_depth_mm\": 13.8, \"flipper_length_mm\": 215.0, \"body_mass_g\": 4750.0, \"sex\": \"FEMALE\"}, {\"species\": \"Gentoo\", \"island\": \"Biscoe\", \"bill_length_mm\": 45.2, \"bill_depth_mm\": 16.4, \"flipper_length_mm\": 223.0, \"body_mass_g\": 5950.0, \"sex\": \"MALE\"}, {\"species\": \"Gentoo\", \"island\": \"Biscoe\", \"bill_length_mm\": 49.1, \"bill_depth_mm\": 14.5, \"flipper_length_mm\": 212.0, \"body_mass_g\": 4625.0, \"sex\": \"FEMALE\"}, {\"species\": \"Gentoo\", \"island\": \"Biscoe\", \"bill_length_mm\": 52.5, \"bill_depth_mm\": 15.6, \"flipper_length_mm\": 221.0, \"body_mass_g\": 5450.0, \"sex\": \"MALE\"}, {\"species\": \"Gentoo\", \"island\": \"Biscoe\", \"bill_length_mm\": 47.4, \"bill_depth_mm\": 14.6, \"flipper_length_mm\": 212.0, \"body_mass_g\": 4725.0, \"sex\": \"FEMALE\"}, {\"species\": \"Gentoo\", \"island\": \"Biscoe\", \"bill_length_mm\": 50.0, \"bill_depth_mm\": 15.9, \"flipper_length_mm\": 224.0, \"body_mass_g\": 5350.0, \"sex\": \"MALE\"}, {\"species\": \"Gentoo\", \"island\": \"Biscoe\", \"bill_length_mm\": 44.9, \"bill_depth_mm\": 13.8, \"flipper_length_mm\": 212.0, \"body_mass_g\": 4750.0, \"sex\": \"FEMALE\"}, {\"species\": \"Gentoo\", \"island\": \"Biscoe\", \"bill_length_mm\": 50.8, \"bill_depth_mm\": 17.3, \"flipper_length_mm\": 228.0, \"body_mass_g\": 5600.0, \"sex\": \"MALE\"}, {\"species\": \"Gentoo\", \"island\": \"Biscoe\", \"bill_length_mm\": 43.4, \"bill_depth_mm\": 14.4, \"flipper_length_mm\": 218.0, \"body_mass_g\": 4600.0, \"sex\": \"FEMALE\"}, {\"species\": \"Gentoo\", \"island\": \"Biscoe\", \"bill_length_mm\": 51.3, \"bill_depth_mm\": 14.2, \"flipper_length_mm\": 218.0, \"body_mass_g\": 5300.0, \"sex\": \"MALE\"}, {\"species\": \"Gentoo\", \"island\": \"Biscoe\", \"bill_length_mm\": 47.5, \"bill_depth_mm\": 14.0, \"flipper_length_mm\": 212.0, \"body_mass_g\": 4875.0, \"sex\": \"FEMALE\"}, {\"species\": \"Gentoo\", \"island\": \"Biscoe\", \"bill_length_mm\": 52.1, \"bill_depth_mm\": 17.0, \"flipper_length_mm\": 230.0, \"body_mass_g\": 5550.0, \"sex\": \"MALE\"}, {\"species\": \"Gentoo\", \"island\": \"Biscoe\", \"bill_length_mm\": 47.5, \"bill_depth_mm\": 15.0, \"flipper_length_mm\": 218.0, \"body_mass_g\": 4950.0, \"sex\": \"FEMALE\"}, {\"species\": \"Gentoo\", \"island\": \"Biscoe\", \"bill_length_mm\": 52.2, \"bill_depth_mm\": 17.1, \"flipper_length_mm\": 228.0, \"body_mass_g\": 5400.0, \"sex\": \"MALE\"}, {\"species\": \"Gentoo\", \"island\": \"Biscoe\", \"bill_length_mm\": 45.5, \"bill_depth_mm\": 14.5, \"flipper_length_mm\": 212.0, \"body_mass_g\": 4750.0, \"sex\": \"FEMALE\"}, {\"species\": \"Gentoo\", \"island\": \"Biscoe\", \"bill_length_mm\": 49.5, \"bill_depth_mm\": 16.1, \"flipper_length_mm\": 224.0, \"body_mass_g\": 5650.0, \"sex\": \"MALE\"}, {\"species\": \"Gentoo\", \"island\": \"Biscoe\", \"bill_length_mm\": 44.5, \"bill_depth_mm\": 14.7, \"flipper_length_mm\": 214.0, \"body_mass_g\": 4850.0, \"sex\": \"FEMALE\"}, {\"species\": \"Gentoo\", \"island\": \"Biscoe\", \"bill_length_mm\": 50.8, \"bill_depth_mm\": 15.7, \"flipper_length_mm\": 226.0, \"body_mass_g\": 5200.0, \"sex\": \"MALE\"}, {\"species\": \"Gentoo\", \"island\": \"Biscoe\", \"bill_length_mm\": 49.4, \"bill_depth_mm\": 15.8, \"flipper_length_mm\": 216.0, \"body_mass_g\": 4925.0, \"sex\": \"MALE\"}, {\"species\": \"Gentoo\", \"island\": \"Biscoe\", \"bill_length_mm\": 46.9, \"bill_depth_mm\": 14.6, \"flipper_length_mm\": 222.0, \"body_mass_g\": 4875.0, \"sex\": \"FEMALE\"}, {\"species\": \"Gentoo\", \"island\": \"Biscoe\", \"bill_length_mm\": 48.4, \"bill_depth_mm\": 14.4, \"flipper_length_mm\": 203.0, \"body_mass_g\": 4625.0, \"sex\": \"FEMALE\"}, {\"species\": \"Gentoo\", \"island\": \"Biscoe\", \"bill_length_mm\": 51.1, \"bill_depth_mm\": 16.5, \"flipper_length_mm\": 225.0, \"body_mass_g\": 5250.0, \"sex\": \"MALE\"}, {\"species\": \"Gentoo\", \"island\": \"Biscoe\", \"bill_length_mm\": 48.5, \"bill_depth_mm\": 15.0, \"flipper_length_mm\": 219.0, \"body_mass_g\": 4850.0, \"sex\": \"FEMALE\"}, {\"species\": \"Gentoo\", \"island\": \"Biscoe\", \"bill_length_mm\": 55.9, \"bill_depth_mm\": 17.0, \"flipper_length_mm\": 228.0, \"body_mass_g\": 5600.0, \"sex\": \"MALE\"}, {\"species\": \"Gentoo\", \"island\": \"Biscoe\", \"bill_length_mm\": 47.2, \"bill_depth_mm\": 15.5, \"flipper_length_mm\": 215.0, \"body_mass_g\": 4975.0, \"sex\": \"FEMALE\"}, {\"species\": \"Gentoo\", \"island\": \"Biscoe\", \"bill_length_mm\": 49.1, \"bill_depth_mm\": 15.0, \"flipper_length_mm\": 228.0, \"body_mass_g\": 5500.0, \"sex\": \"MALE\"}, {\"species\": \"Gentoo\", \"island\": \"Biscoe\", \"bill_length_mm\": 47.3, \"bill_depth_mm\": 13.8, \"flipper_length_mm\": 216.0, \"body_mass_g\": 4725.0, \"sex\": null}, {\"species\": \"Gentoo\", \"island\": \"Biscoe\", \"bill_length_mm\": 46.8, \"bill_depth_mm\": 16.1, \"flipper_length_mm\": 215.0, \"body_mass_g\": 5500.0, \"sex\": \"MALE\"}, {\"species\": \"Gentoo\", \"island\": \"Biscoe\", \"bill_length_mm\": 41.7, \"bill_depth_mm\": 14.7, \"flipper_length_mm\": 210.0, \"body_mass_g\": 4700.0, \"sex\": \"FEMALE\"}, {\"species\": \"Gentoo\", \"island\": \"Biscoe\", \"bill_length_mm\": 53.4, \"bill_depth_mm\": 15.8, \"flipper_length_mm\": 219.0, \"body_mass_g\": 5500.0, \"sex\": \"MALE\"}, {\"species\": \"Gentoo\", \"island\": \"Biscoe\", \"bill_length_mm\": 43.3, \"bill_depth_mm\": 14.0, \"flipper_length_mm\": 208.0, \"body_mass_g\": 4575.0, \"sex\": \"FEMALE\"}, {\"species\": \"Gentoo\", \"island\": \"Biscoe\", \"bill_length_mm\": 48.1, \"bill_depth_mm\": 15.1, \"flipper_length_mm\": 209.0, \"body_mass_g\": 5500.0, \"sex\": \"MALE\"}, {\"species\": \"Gentoo\", \"island\": \"Biscoe\", \"bill_length_mm\": 50.5, \"bill_depth_mm\": 15.2, \"flipper_length_mm\": 216.0, \"body_mass_g\": 5000.0, \"sex\": \"FEMALE\"}, {\"species\": \"Gentoo\", \"island\": \"Biscoe\", \"bill_length_mm\": 49.8, \"bill_depth_mm\": 15.9, \"flipper_length_mm\": 229.0, \"body_mass_g\": 5950.0, \"sex\": \"MALE\"}, {\"species\": \"Gentoo\", \"island\": \"Biscoe\", \"bill_length_mm\": 43.5, \"bill_depth_mm\": 15.2, \"flipper_length_mm\": 213.0, \"body_mass_g\": 4650.0, \"sex\": \"FEMALE\"}, {\"species\": \"Gentoo\", \"island\": \"Biscoe\", \"bill_length_mm\": 51.5, \"bill_depth_mm\": 16.3, \"flipper_length_mm\": 230.0, \"body_mass_g\": 5500.0, \"sex\": \"MALE\"}, {\"species\": \"Gentoo\", \"island\": \"Biscoe\", \"bill_length_mm\": 46.2, \"bill_depth_mm\": 14.1, \"flipper_length_mm\": 217.0, \"body_mass_g\": 4375.0, \"sex\": \"FEMALE\"}, {\"species\": \"Gentoo\", \"island\": \"Biscoe\", \"bill_length_mm\": 55.1, \"bill_depth_mm\": 16.0, \"flipper_length_mm\": 230.0, \"body_mass_g\": 5850.0, \"sex\": \"MALE\"}, {\"species\": \"Gentoo\", \"island\": \"Biscoe\", \"bill_length_mm\": 44.5, \"bill_depth_mm\": 15.7, \"flipper_length_mm\": 217.0, \"body_mass_g\": 4875.0, \"sex\": null}, {\"species\": \"Gentoo\", \"island\": \"Biscoe\", \"bill_length_mm\": 48.8, \"bill_depth_mm\": 16.2, \"flipper_length_mm\": 222.0, \"body_mass_g\": 6000.0, \"sex\": \"MALE\"}, {\"species\": \"Gentoo\", \"island\": \"Biscoe\", \"bill_length_mm\": 47.2, \"bill_depth_mm\": 13.7, \"flipper_length_mm\": 214.0, \"body_mass_g\": 4925.0, \"sex\": \"FEMALE\"}, {\"species\": \"Gentoo\", \"island\": \"Biscoe\", \"bill_length_mm\": null, \"bill_depth_mm\": null, \"flipper_length_mm\": null, \"body_mass_g\": null, \"sex\": null}, {\"species\": \"Gentoo\", \"island\": \"Biscoe\", \"bill_length_mm\": 46.8, \"bill_depth_mm\": 14.3, \"flipper_length_mm\": 215.0, \"body_mass_g\": 4850.0, \"sex\": \"FEMALE\"}, {\"species\": \"Gentoo\", \"island\": \"Biscoe\", \"bill_length_mm\": 50.4, \"bill_depth_mm\": 15.7, \"flipper_length_mm\": 222.0, \"body_mass_g\": 5750.0, \"sex\": \"MALE\"}, {\"species\": \"Gentoo\", \"island\": \"Biscoe\", \"bill_length_mm\": 45.2, \"bill_depth_mm\": 14.8, \"flipper_length_mm\": 212.0, \"body_mass_g\": 5200.0, \"sex\": \"FEMALE\"}, {\"species\": \"Gentoo\", \"island\": \"Biscoe\", \"bill_length_mm\": 49.9, \"bill_depth_mm\": 16.1, \"flipper_length_mm\": 213.0, \"body_mass_g\": 5400.0, \"sex\": \"MALE\"}]}}, {\"mode\": \"vega-lite\"});\n",
              "</script>"
            ]
          },
          "metadata": {},
          "execution_count": 17
        }
      ]
    },
    {
      "cell_type": "markdown",
      "source": [
        "# Contaminación en la CDMX"
      ],
      "metadata": {
        "id": "spgstXlcsuAq"
      }
    },
    {
      "cell_type": "code",
      "source": [
        "contaminacion_2021 = pd.read_csv('http://www.aire.cdmx.gob.mx/opendata/anuales_horarios_gz/contaminantes_2021.csv.gz',\n",
        "                                 skiprows=10)"
      ],
      "metadata": {
        "id": "XyqXs9ZC0K6K"
      },
      "execution_count": 19,
      "outputs": []
    },
    {
      "cell_type": "code",
      "source": [
        "contaminacion_2021.head()"
      ],
      "metadata": {
        "colab": {
          "base_uri": "https://localhost:8080/",
          "height": 206
        },
        "id": "QSrAQ1TB2QI0",
        "outputId": "04d2507b-2bab-4992-aa77-1be5689b45ea"
      },
      "execution_count": 20,
      "outputs": [
        {
          "output_type": "execute_result",
          "data": {
            "text/html": [
              "\n",
              "  <div id=\"df-f9496b76-21e8-4b26-b430-307b340350d4\">\n",
              "    <div class=\"colab-df-container\">\n",
              "      <div>\n",
              "<style scoped>\n",
              "    .dataframe tbody tr th:only-of-type {\n",
              "        vertical-align: middle;\n",
              "    }\n",
              "\n",
              "    .dataframe tbody tr th {\n",
              "        vertical-align: top;\n",
              "    }\n",
              "\n",
              "    .dataframe thead th {\n",
              "        text-align: right;\n",
              "    }\n",
              "</style>\n",
              "<table border=\"1\" class=\"dataframe\">\n",
              "  <thead>\n",
              "    <tr style=\"text-align: right;\">\n",
              "      <th></th>\n",
              "      <th>date</th>\n",
              "      <th>id_station</th>\n",
              "      <th>id_parameter</th>\n",
              "      <th>value</th>\n",
              "      <th>unit</th>\n",
              "    </tr>\n",
              "  </thead>\n",
              "  <tbody>\n",
              "    <tr>\n",
              "      <th>0</th>\n",
              "      <td>01/01/2021 01:00</td>\n",
              "      <td>ACO</td>\n",
              "      <td>CO</td>\n",
              "      <td>NaN</td>\n",
              "      <td>15</td>\n",
              "    </tr>\n",
              "    <tr>\n",
              "      <th>1</th>\n",
              "      <td>01/01/2021 01:00</td>\n",
              "      <td>ACO</td>\n",
              "      <td>NO</td>\n",
              "      <td>NaN</td>\n",
              "      <td>1</td>\n",
              "    </tr>\n",
              "    <tr>\n",
              "      <th>2</th>\n",
              "      <td>01/01/2021 01:00</td>\n",
              "      <td>ACO</td>\n",
              "      <td>NO2</td>\n",
              "      <td>NaN</td>\n",
              "      <td>1</td>\n",
              "    </tr>\n",
              "    <tr>\n",
              "      <th>3</th>\n",
              "      <td>01/01/2021 01:00</td>\n",
              "      <td>ACO</td>\n",
              "      <td>NOX</td>\n",
              "      <td>NaN</td>\n",
              "      <td>1</td>\n",
              "    </tr>\n",
              "    <tr>\n",
              "      <th>4</th>\n",
              "      <td>01/01/2021 01:00</td>\n",
              "      <td>ACO</td>\n",
              "      <td>O3</td>\n",
              "      <td>NaN</td>\n",
              "      <td>1</td>\n",
              "    </tr>\n",
              "  </tbody>\n",
              "</table>\n",
              "</div>\n",
              "      <button class=\"colab-df-convert\" onclick=\"convertToInteractive('df-f9496b76-21e8-4b26-b430-307b340350d4')\"\n",
              "              title=\"Convert this dataframe to an interactive table.\"\n",
              "              style=\"display:none;\">\n",
              "        \n",
              "  <svg xmlns=\"http://www.w3.org/2000/svg\" height=\"24px\"viewBox=\"0 0 24 24\"\n",
              "       width=\"24px\">\n",
              "    <path d=\"M0 0h24v24H0V0z\" fill=\"none\"/>\n",
              "    <path d=\"M18.56 5.44l.94 2.06.94-2.06 2.06-.94-2.06-.94-.94-2.06-.94 2.06-2.06.94zm-11 1L8.5 8.5l.94-2.06 2.06-.94-2.06-.94L8.5 2.5l-.94 2.06-2.06.94zm10 10l.94 2.06.94-2.06 2.06-.94-2.06-.94-.94-2.06-.94 2.06-2.06.94z\"/><path d=\"M17.41 7.96l-1.37-1.37c-.4-.4-.92-.59-1.43-.59-.52 0-1.04.2-1.43.59L10.3 9.45l-7.72 7.72c-.78.78-.78 2.05 0 2.83L4 21.41c.39.39.9.59 1.41.59.51 0 1.02-.2 1.41-.59l7.78-7.78 2.81-2.81c.8-.78.8-2.07 0-2.86zM5.41 20L4 18.59l7.72-7.72 1.47 1.35L5.41 20z\"/>\n",
              "  </svg>\n",
              "      </button>\n",
              "      \n",
              "  <style>\n",
              "    .colab-df-container {\n",
              "      display:flex;\n",
              "      flex-wrap:wrap;\n",
              "      gap: 12px;\n",
              "    }\n",
              "\n",
              "    .colab-df-convert {\n",
              "      background-color: #E8F0FE;\n",
              "      border: none;\n",
              "      border-radius: 50%;\n",
              "      cursor: pointer;\n",
              "      display: none;\n",
              "      fill: #1967D2;\n",
              "      height: 32px;\n",
              "      padding: 0 0 0 0;\n",
              "      width: 32px;\n",
              "    }\n",
              "\n",
              "    .colab-df-convert:hover {\n",
              "      background-color: #E2EBFA;\n",
              "      box-shadow: 0px 1px 2px rgba(60, 64, 67, 0.3), 0px 1px 3px 1px rgba(60, 64, 67, 0.15);\n",
              "      fill: #174EA6;\n",
              "    }\n",
              "\n",
              "    [theme=dark] .colab-df-convert {\n",
              "      background-color: #3B4455;\n",
              "      fill: #D2E3FC;\n",
              "    }\n",
              "\n",
              "    [theme=dark] .colab-df-convert:hover {\n",
              "      background-color: #434B5C;\n",
              "      box-shadow: 0px 1px 3px 1px rgba(0, 0, 0, 0.15);\n",
              "      filter: drop-shadow(0px 1px 2px rgba(0, 0, 0, 0.3));\n",
              "      fill: #FFFFFF;\n",
              "    }\n",
              "  </style>\n",
              "\n",
              "      <script>\n",
              "        const buttonEl =\n",
              "          document.querySelector('#df-f9496b76-21e8-4b26-b430-307b340350d4 button.colab-df-convert');\n",
              "        buttonEl.style.display =\n",
              "          google.colab.kernel.accessAllowed ? 'block' : 'none';\n",
              "\n",
              "        async function convertToInteractive(key) {\n",
              "          const element = document.querySelector('#df-f9496b76-21e8-4b26-b430-307b340350d4');\n",
              "          const dataTable =\n",
              "            await google.colab.kernel.invokeFunction('convertToInteractive',\n",
              "                                                     [key], {});\n",
              "          if (!dataTable) return;\n",
              "\n",
              "          const docLinkHtml = 'Like what you see? Visit the ' +\n",
              "            '<a target=\"_blank\" href=https://colab.research.google.com/notebooks/data_table.ipynb>data table notebook</a>'\n",
              "            + ' to learn more about interactive tables.';\n",
              "          element.innerHTML = '';\n",
              "          dataTable['output_type'] = 'display_data';\n",
              "          await google.colab.output.renderOutput(dataTable, element);\n",
              "          const docLink = document.createElement('div');\n",
              "          docLink.innerHTML = docLinkHtml;\n",
              "          element.appendChild(docLink);\n",
              "        }\n",
              "      </script>\n",
              "    </div>\n",
              "  </div>\n",
              "  "
            ],
            "text/plain": [
              "               date id_station id_parameter  value  unit\n",
              "0  01/01/2021 01:00        ACO           CO    NaN    15\n",
              "1  01/01/2021 01:00        ACO           NO    NaN     1\n",
              "2  01/01/2021 01:00        ACO          NO2    NaN     1\n",
              "3  01/01/2021 01:00        ACO          NOX    NaN     1\n",
              "4  01/01/2021 01:00        ACO           O3    NaN     1"
            ]
          },
          "metadata": {},
          "execution_count": 20
        }
      ]
    },
    {
      "cell_type": "code",
      "source": [
        "PED_O3_levels = contaminacion_2021[\n",
        "                                   (contaminacion_2021['id_station'] == 'PED') & \n",
        "                                   (contaminacion_2021['id_parameter'] == 'O3')].copy()"
      ],
      "metadata": {
        "id": "nI2bmypl2rIW"
      },
      "execution_count": 28,
      "outputs": []
    },
    {
      "cell_type": "code",
      "source": [
        "PED_O3_levels.head()"
      ],
      "metadata": {
        "colab": {
          "base_uri": "https://localhost:8080/",
          "height": 206
        },
        "id": "SmzpSJGH3RP6",
        "outputId": "611e3b0a-da59-4e1b-f1e6-e011ec7bdc68"
      },
      "execution_count": 29,
      "outputs": [
        {
          "output_type": "execute_result",
          "data": {
            "text/html": [
              "\n",
              "  <div id=\"df-d7d6d89f-921a-483e-aa2e-80eaa2583459\">\n",
              "    <div class=\"colab-df-container\">\n",
              "      <div>\n",
              "<style scoped>\n",
              "    .dataframe tbody tr th:only-of-type {\n",
              "        vertical-align: middle;\n",
              "    }\n",
              "\n",
              "    .dataframe tbody tr th {\n",
              "        vertical-align: top;\n",
              "    }\n",
              "\n",
              "    .dataframe thead th {\n",
              "        text-align: right;\n",
              "    }\n",
              "</style>\n",
              "<table border=\"1\" class=\"dataframe\">\n",
              "  <thead>\n",
              "    <tr style=\"text-align: right;\">\n",
              "      <th></th>\n",
              "      <th>date</th>\n",
              "      <th>id_station</th>\n",
              "      <th>id_parameter</th>\n",
              "      <th>value</th>\n",
              "      <th>unit</th>\n",
              "    </tr>\n",
              "  </thead>\n",
              "  <tbody>\n",
              "    <tr>\n",
              "      <th>112</th>\n",
              "      <td>01/01/2021 01:00</td>\n",
              "      <td>PED</td>\n",
              "      <td>O3</td>\n",
              "      <td>8.0</td>\n",
              "      <td>1</td>\n",
              "    </tr>\n",
              "    <tr>\n",
              "      <th>373</th>\n",
              "      <td>01/01/2021 02:00</td>\n",
              "      <td>PED</td>\n",
              "      <td>O3</td>\n",
              "      <td>9.0</td>\n",
              "      <td>1</td>\n",
              "    </tr>\n",
              "    <tr>\n",
              "      <th>634</th>\n",
              "      <td>01/01/2021 03:00</td>\n",
              "      <td>PED</td>\n",
              "      <td>O3</td>\n",
              "      <td>16.0</td>\n",
              "      <td>1</td>\n",
              "    </tr>\n",
              "    <tr>\n",
              "      <th>895</th>\n",
              "      <td>01/01/2021 04:00</td>\n",
              "      <td>PED</td>\n",
              "      <td>O3</td>\n",
              "      <td>17.0</td>\n",
              "      <td>1</td>\n",
              "    </tr>\n",
              "    <tr>\n",
              "      <th>1156</th>\n",
              "      <td>01/01/2021 05:00</td>\n",
              "      <td>PED</td>\n",
              "      <td>O3</td>\n",
              "      <td>12.0</td>\n",
              "      <td>1</td>\n",
              "    </tr>\n",
              "  </tbody>\n",
              "</table>\n",
              "</div>\n",
              "      <button class=\"colab-df-convert\" onclick=\"convertToInteractive('df-d7d6d89f-921a-483e-aa2e-80eaa2583459')\"\n",
              "              title=\"Convert this dataframe to an interactive table.\"\n",
              "              style=\"display:none;\">\n",
              "        \n",
              "  <svg xmlns=\"http://www.w3.org/2000/svg\" height=\"24px\"viewBox=\"0 0 24 24\"\n",
              "       width=\"24px\">\n",
              "    <path d=\"M0 0h24v24H0V0z\" fill=\"none\"/>\n",
              "    <path d=\"M18.56 5.44l.94 2.06.94-2.06 2.06-.94-2.06-.94-.94-2.06-.94 2.06-2.06.94zm-11 1L8.5 8.5l.94-2.06 2.06-.94-2.06-.94L8.5 2.5l-.94 2.06-2.06.94zm10 10l.94 2.06.94-2.06 2.06-.94-2.06-.94-.94-2.06-.94 2.06-2.06.94z\"/><path d=\"M17.41 7.96l-1.37-1.37c-.4-.4-.92-.59-1.43-.59-.52 0-1.04.2-1.43.59L10.3 9.45l-7.72 7.72c-.78.78-.78 2.05 0 2.83L4 21.41c.39.39.9.59 1.41.59.51 0 1.02-.2 1.41-.59l7.78-7.78 2.81-2.81c.8-.78.8-2.07 0-2.86zM5.41 20L4 18.59l7.72-7.72 1.47 1.35L5.41 20z\"/>\n",
              "  </svg>\n",
              "      </button>\n",
              "      \n",
              "  <style>\n",
              "    .colab-df-container {\n",
              "      display:flex;\n",
              "      flex-wrap:wrap;\n",
              "      gap: 12px;\n",
              "    }\n",
              "\n",
              "    .colab-df-convert {\n",
              "      background-color: #E8F0FE;\n",
              "      border: none;\n",
              "      border-radius: 50%;\n",
              "      cursor: pointer;\n",
              "      display: none;\n",
              "      fill: #1967D2;\n",
              "      height: 32px;\n",
              "      padding: 0 0 0 0;\n",
              "      width: 32px;\n",
              "    }\n",
              "\n",
              "    .colab-df-convert:hover {\n",
              "      background-color: #E2EBFA;\n",
              "      box-shadow: 0px 1px 2px rgba(60, 64, 67, 0.3), 0px 1px 3px 1px rgba(60, 64, 67, 0.15);\n",
              "      fill: #174EA6;\n",
              "    }\n",
              "\n",
              "    [theme=dark] .colab-df-convert {\n",
              "      background-color: #3B4455;\n",
              "      fill: #D2E3FC;\n",
              "    }\n",
              "\n",
              "    [theme=dark] .colab-df-convert:hover {\n",
              "      background-color: #434B5C;\n",
              "      box-shadow: 0px 1px 3px 1px rgba(0, 0, 0, 0.15);\n",
              "      filter: drop-shadow(0px 1px 2px rgba(0, 0, 0, 0.3));\n",
              "      fill: #FFFFFF;\n",
              "    }\n",
              "  </style>\n",
              "\n",
              "      <script>\n",
              "        const buttonEl =\n",
              "          document.querySelector('#df-d7d6d89f-921a-483e-aa2e-80eaa2583459 button.colab-df-convert');\n",
              "        buttonEl.style.display =\n",
              "          google.colab.kernel.accessAllowed ? 'block' : 'none';\n",
              "\n",
              "        async function convertToInteractive(key) {\n",
              "          const element = document.querySelector('#df-d7d6d89f-921a-483e-aa2e-80eaa2583459');\n",
              "          const dataTable =\n",
              "            await google.colab.kernel.invokeFunction('convertToInteractive',\n",
              "                                                     [key], {});\n",
              "          if (!dataTable) return;\n",
              "\n",
              "          const docLinkHtml = 'Like what you see? Visit the ' +\n",
              "            '<a target=\"_blank\" href=https://colab.research.google.com/notebooks/data_table.ipynb>data table notebook</a>'\n",
              "            + ' to learn more about interactive tables.';\n",
              "          element.innerHTML = '';\n",
              "          dataTable['output_type'] = 'display_data';\n",
              "          await google.colab.output.renderOutput(dataTable, element);\n",
              "          const docLink = document.createElement('div');\n",
              "          docLink.innerHTML = docLinkHtml;\n",
              "          element.appendChild(docLink);\n",
              "        }\n",
              "      </script>\n",
              "    </div>\n",
              "  </div>\n",
              "  "
            ],
            "text/plain": [
              "                  date id_station id_parameter  value  unit\n",
              "112   01/01/2021 01:00        PED           O3    8.0     1\n",
              "373   01/01/2021 02:00        PED           O3    9.0     1\n",
              "634   01/01/2021 03:00        PED           O3   16.0     1\n",
              "895   01/01/2021 04:00        PED           O3   17.0     1\n",
              "1156  01/01/2021 05:00        PED           O3   12.0     1"
            ]
          },
          "metadata": {},
          "execution_count": 29
        }
      ]
    },
    {
      "cell_type": "code",
      "source": [
        "PED_O3_levels.dtypes"
      ],
      "metadata": {
        "colab": {
          "base_uri": "https://localhost:8080/"
        },
        "id": "ttjnfq-23TaW",
        "outputId": "80cf5ae4-590f-4d01-c456-9fa64ede222f"
      },
      "execution_count": 30,
      "outputs": [
        {
          "output_type": "execute_result",
          "data": {
            "text/plain": [
              "date             object\n",
              "id_station       object\n",
              "id_parameter     object\n",
              "value           float64\n",
              "unit              int64\n",
              "dtype: object"
            ]
          },
          "metadata": {},
          "execution_count": 30
        }
      ]
    },
    {
      "cell_type": "code",
      "source": [
        "d = PED_O3_levels['date']"
      ],
      "metadata": {
        "id": "yU0Y4d713wLP"
      },
      "execution_count": 31,
      "outputs": []
    },
    {
      "cell_type": "code",
      "source": [
        "d"
      ],
      "metadata": {
        "colab": {
          "base_uri": "https://localhost:8080/"
        },
        "id": "qUNLR74M4Jk-",
        "outputId": "357ff3bf-7aa7-4273-9509-fdbbbb89c420"
      },
      "execution_count": 32,
      "outputs": [
        {
          "output_type": "execute_result",
          "data": {
            "text/plain": [
              "112        01/01/2021 01:00\n",
              "373        01/01/2021 02:00\n",
              "634        01/01/2021 03:00\n",
              "895        01/01/2021 04:00\n",
              "1156       01/01/2021 05:00\n",
              "                 ...       \n",
              "2292507    31/12/2021 20:00\n",
              "2292769    31/12/2021 21:00\n",
              "2293031    31/12/2021 22:00\n",
              "2293293    31/12/2021 23:00\n",
              "2293555    31/12/2021 24:00\n",
              "Name: date, Length: 8760, dtype: object"
            ]
          },
          "metadata": {},
          "execution_count": 32
        }
      ]
    },
    {
      "cell_type": "code",
      "source": [
        "pd.to_datetime(d, format='%d/%m/%Y %H:%M')"
      ],
      "metadata": {
        "colab": {
          "base_uri": "https://localhost:8080/",
          "height": 537
        },
        "id": "uc9IkKuI4Kdp",
        "outputId": "ce8ca75b-a7d2-4fb8-9204-0ade3f9a62fe"
      },
      "execution_count": 34,
      "outputs": [
        {
          "output_type": "error",
          "ename": "ValueError",
          "evalue": "ignored",
          "traceback": [
            "\u001b[0;31m---------------------------------------------------------------------------\u001b[0m",
            "\u001b[0;31mTypeError\u001b[0m                                 Traceback (most recent call last)",
            "\u001b[0;32m/usr/local/lib/python3.7/dist-packages/pandas/core/tools/datetimes.py\u001b[0m in \u001b[0;36m_convert_listlike_datetimes\u001b[0;34m(arg, format, name, tz, unit, errors, infer_datetime_format, dayfirst, yearfirst, exact)\u001b[0m\n\u001b[1;32m    449\u001b[0m             \u001b[0;32mtry\u001b[0m\u001b[0;34m:\u001b[0m\u001b[0;34m\u001b[0m\u001b[0;34m\u001b[0m\u001b[0m\n\u001b[0;32m--> 450\u001b[0;31m                 \u001b[0mvalues\u001b[0m\u001b[0;34m,\u001b[0m \u001b[0mtz\u001b[0m \u001b[0;34m=\u001b[0m \u001b[0mconversion\u001b[0m\u001b[0;34m.\u001b[0m\u001b[0mdatetime_to_datetime64\u001b[0m\u001b[0;34m(\u001b[0m\u001b[0marg\u001b[0m\u001b[0;34m)\u001b[0m\u001b[0;34m\u001b[0m\u001b[0;34m\u001b[0m\u001b[0m\n\u001b[0m\u001b[1;32m    451\u001b[0m                 \u001b[0mdta\u001b[0m \u001b[0;34m=\u001b[0m \u001b[0mDatetimeArray\u001b[0m\u001b[0;34m(\u001b[0m\u001b[0mvalues\u001b[0m\u001b[0;34m,\u001b[0m \u001b[0mdtype\u001b[0m\u001b[0;34m=\u001b[0m\u001b[0mtz_to_dtype\u001b[0m\u001b[0;34m(\u001b[0m\u001b[0mtz\u001b[0m\u001b[0;34m)\u001b[0m\u001b[0;34m)\u001b[0m\u001b[0;34m\u001b[0m\u001b[0;34m\u001b[0m\u001b[0m\n",
            "\u001b[0;32mpandas/_libs/tslibs/conversion.pyx\u001b[0m in \u001b[0;36mpandas._libs.tslibs.conversion.datetime_to_datetime64\u001b[0;34m()\u001b[0m\n",
            "\u001b[0;31mTypeError\u001b[0m: Unrecognized value type: <class 'str'>",
            "\nDuring handling of the above exception, another exception occurred:\n",
            "\u001b[0;31mValueError\u001b[0m                                Traceback (most recent call last)",
            "\u001b[0;32m<ipython-input-34-dd9abbf12b78>\u001b[0m in \u001b[0;36m<module>\u001b[0;34m()\u001b[0m\n\u001b[0;32m----> 1\u001b[0;31m \u001b[0mpd\u001b[0m\u001b[0;34m.\u001b[0m\u001b[0mto_datetime\u001b[0m\u001b[0;34m(\u001b[0m\u001b[0md\u001b[0m\u001b[0;34m,\u001b[0m \u001b[0mformat\u001b[0m\u001b[0;34m=\u001b[0m\u001b[0;34m'%d/%m/%Y %H:%M'\u001b[0m\u001b[0;34m)\u001b[0m\u001b[0;34m\u001b[0m\u001b[0;34m\u001b[0m\u001b[0m\n\u001b[0m",
            "\u001b[0;32m/usr/local/lib/python3.7/dist-packages/pandas/core/tools/datetimes.py\u001b[0m in \u001b[0;36mto_datetime\u001b[0;34m(arg, errors, dayfirst, yearfirst, utc, format, exact, unit, infer_datetime_format, origin, cache)\u001b[0m\n\u001b[1;32m    801\u001b[0m             \u001b[0mresult\u001b[0m \u001b[0;34m=\u001b[0m \u001b[0marg\u001b[0m\u001b[0;34m.\u001b[0m\u001b[0mmap\u001b[0m\u001b[0;34m(\u001b[0m\u001b[0mcache_array\u001b[0m\u001b[0;34m)\u001b[0m\u001b[0;34m\u001b[0m\u001b[0;34m\u001b[0m\u001b[0m\n\u001b[1;32m    802\u001b[0m         \u001b[0;32melse\u001b[0m\u001b[0;34m:\u001b[0m\u001b[0;34m\u001b[0m\u001b[0;34m\u001b[0m\u001b[0m\n\u001b[0;32m--> 803\u001b[0;31m             \u001b[0mvalues\u001b[0m \u001b[0;34m=\u001b[0m \u001b[0mconvert_listlike\u001b[0m\u001b[0;34m(\u001b[0m\u001b[0marg\u001b[0m\u001b[0;34m.\u001b[0m\u001b[0m_values\u001b[0m\u001b[0;34m,\u001b[0m \u001b[0mformat\u001b[0m\u001b[0;34m)\u001b[0m\u001b[0;34m\u001b[0m\u001b[0;34m\u001b[0m\u001b[0m\n\u001b[0m\u001b[1;32m    804\u001b[0m             \u001b[0mresult\u001b[0m \u001b[0;34m=\u001b[0m \u001b[0marg\u001b[0m\u001b[0;34m.\u001b[0m\u001b[0m_constructor\u001b[0m\u001b[0;34m(\u001b[0m\u001b[0mvalues\u001b[0m\u001b[0;34m,\u001b[0m \u001b[0mindex\u001b[0m\u001b[0;34m=\u001b[0m\u001b[0marg\u001b[0m\u001b[0;34m.\u001b[0m\u001b[0mindex\u001b[0m\u001b[0;34m,\u001b[0m \u001b[0mname\u001b[0m\u001b[0;34m=\u001b[0m\u001b[0marg\u001b[0m\u001b[0;34m.\u001b[0m\u001b[0mname\u001b[0m\u001b[0;34m)\u001b[0m\u001b[0;34m\u001b[0m\u001b[0;34m\u001b[0m\u001b[0m\n\u001b[1;32m    805\u001b[0m     \u001b[0;32melif\u001b[0m \u001b[0misinstance\u001b[0m\u001b[0;34m(\u001b[0m\u001b[0marg\u001b[0m\u001b[0;34m,\u001b[0m \u001b[0;34m(\u001b[0m\u001b[0mABCDataFrame\u001b[0m\u001b[0;34m,\u001b[0m \u001b[0mabc\u001b[0m\u001b[0;34m.\u001b[0m\u001b[0mMutableMapping\u001b[0m\u001b[0;34m)\u001b[0m\u001b[0;34m)\u001b[0m\u001b[0;34m:\u001b[0m\u001b[0;34m\u001b[0m\u001b[0;34m\u001b[0m\u001b[0m\n",
            "\u001b[0;32m/usr/local/lib/python3.7/dist-packages/pandas/core/tools/datetimes.py\u001b[0m in \u001b[0;36m_convert_listlike_datetimes\u001b[0;34m(arg, format, name, tz, unit, errors, infer_datetime_format, dayfirst, yearfirst, exact)\u001b[0m\n\u001b[1;32m    452\u001b[0m                 \u001b[0;32mreturn\u001b[0m \u001b[0mDatetimeIndex\u001b[0m\u001b[0;34m.\u001b[0m\u001b[0m_simple_new\u001b[0m\u001b[0;34m(\u001b[0m\u001b[0mdta\u001b[0m\u001b[0;34m,\u001b[0m \u001b[0mname\u001b[0m\u001b[0;34m=\u001b[0m\u001b[0mname\u001b[0m\u001b[0;34m)\u001b[0m\u001b[0;34m\u001b[0m\u001b[0;34m\u001b[0m\u001b[0m\n\u001b[1;32m    453\u001b[0m             \u001b[0;32mexcept\u001b[0m \u001b[0;34m(\u001b[0m\u001b[0mValueError\u001b[0m\u001b[0;34m,\u001b[0m \u001b[0mTypeError\u001b[0m\u001b[0;34m)\u001b[0m\u001b[0;34m:\u001b[0m\u001b[0;34m\u001b[0m\u001b[0;34m\u001b[0m\u001b[0m\n\u001b[0;32m--> 454\u001b[0;31m                 \u001b[0;32mraise\u001b[0m \u001b[0me\u001b[0m\u001b[0;34m\u001b[0m\u001b[0;34m\u001b[0m\u001b[0m\n\u001b[0m\u001b[1;32m    455\u001b[0m \u001b[0;34m\u001b[0m\u001b[0m\n\u001b[1;32m    456\u001b[0m     \u001b[0;32mif\u001b[0m \u001b[0mresult\u001b[0m \u001b[0;32mis\u001b[0m \u001b[0;32mNone\u001b[0m\u001b[0;34m:\u001b[0m\u001b[0;34m\u001b[0m\u001b[0;34m\u001b[0m\u001b[0m\n",
            "\u001b[0;32m/usr/local/lib/python3.7/dist-packages/pandas/core/tools/datetimes.py\u001b[0m in \u001b[0;36m_convert_listlike_datetimes\u001b[0;34m(arg, format, name, tz, unit, errors, infer_datetime_format, dayfirst, yearfirst, exact)\u001b[0m\n\u001b[1;32m    416\u001b[0m                 \u001b[0;32mtry\u001b[0m\u001b[0;34m:\u001b[0m\u001b[0;34m\u001b[0m\u001b[0;34m\u001b[0m\u001b[0m\n\u001b[1;32m    417\u001b[0m                     result, timezones = array_strptime(\n\u001b[0;32m--> 418\u001b[0;31m                         \u001b[0marg\u001b[0m\u001b[0;34m,\u001b[0m \u001b[0mformat\u001b[0m\u001b[0;34m,\u001b[0m \u001b[0mexact\u001b[0m\u001b[0;34m=\u001b[0m\u001b[0mexact\u001b[0m\u001b[0;34m,\u001b[0m \u001b[0merrors\u001b[0m\u001b[0;34m=\u001b[0m\u001b[0merrors\u001b[0m\u001b[0;34m\u001b[0m\u001b[0;34m\u001b[0m\u001b[0m\n\u001b[0m\u001b[1;32m    419\u001b[0m                     )\n\u001b[1;32m    420\u001b[0m                     \u001b[0;32mif\u001b[0m \u001b[0;34m\"%Z\"\u001b[0m \u001b[0;32min\u001b[0m \u001b[0mformat\u001b[0m \u001b[0;32mor\u001b[0m \u001b[0;34m\"%z\"\u001b[0m \u001b[0;32min\u001b[0m \u001b[0mformat\u001b[0m\u001b[0;34m:\u001b[0m\u001b[0;34m\u001b[0m\u001b[0;34m\u001b[0m\u001b[0m\n",
            "\u001b[0;32mpandas/_libs/tslibs/strptime.pyx\u001b[0m in \u001b[0;36mpandas._libs.tslibs.strptime.array_strptime\u001b[0;34m()\u001b[0m\n",
            "\u001b[0;31mValueError\u001b[0m: time data '01/01/2021 24:00' does not match format '%d/%m/%Y %H:%M' (match)"
          ]
        }
      ]
    },
    {
      "cell_type": "code",
      "source": [
        "fecha_erronea = '01/01/2021 24:00'"
      ],
      "metadata": {
        "id": "HtHBzFcM5dbk"
      },
      "execution_count": 35,
      "outputs": []
    },
    {
      "cell_type": "code",
      "source": [
        "def fix_24hr(dt):\n",
        "    dt_fix = dt[:-5] + '00' + dt[-3:]\n",
        "    return dt_fix"
      ],
      "metadata": {
        "id": "JCqvVCyV6eNp"
      },
      "execution_count": 45,
      "outputs": []
    },
    {
      "cell_type": "code",
      "source": [
        "fix_24hr('01/01/2021 24:00')"
      ],
      "metadata": {
        "colab": {
          "base_uri": "https://localhost:8080/",
          "height": 35
        },
        "id": "JrFFDwAm7ZI_",
        "outputId": "1a04e503-84f7-4333-c6da-b82793c862dd"
      },
      "execution_count": 46,
      "outputs": [
        {
          "output_type": "execute_result",
          "data": {
            "application/vnd.google.colaboratory.intrinsic+json": {
              "type": "string"
            },
            "text/plain": [
              "'01/01/2021 00:00'"
            ]
          },
          "metadata": {},
          "execution_count": 46
        }
      ]
    },
    {
      "cell_type": "code",
      "source": [
        "def fix_24hr_mine(dt):\n",
        "    date, _ = dt.split(' ')\n",
        "    return f'{date} 00:00'"
      ],
      "metadata": {
        "id": "yeVqGrPO6oYf"
      },
      "execution_count": 47,
      "outputs": []
    },
    {
      "cell_type": "code",
      "source": [
        "fix_24hr_mine('01/01/2021 24:00')"
      ],
      "metadata": {
        "colab": {
          "base_uri": "https://localhost:8080/",
          "height": 35
        },
        "id": "PiPeTqGV8b6q",
        "outputId": "726cea09-f793-43a6-bbe3-faf699b52c00"
      },
      "execution_count": 48,
      "outputs": [
        {
          "output_type": "execute_result",
          "data": {
            "application/vnd.google.colaboratory.intrinsic+json": {
              "type": "string"
            },
            "text/plain": [
              "'01/01/2021 00:00'"
            ]
          },
          "metadata": {},
          "execution_count": 48
        }
      ]
    },
    {
      "cell_type": "code",
      "source": [
        "?d.where"
      ],
      "metadata": {
        "id": "3wIVbIJ58fiE"
      },
      "execution_count": 49,
      "outputs": []
    },
    {
      "cell_type": "code",
      "source": [
        "d.str.contains('24:00')"
      ],
      "metadata": {
        "colab": {
          "base_uri": "https://localhost:8080/"
        },
        "id": "QBd4I58X9VD7",
        "outputId": "139263f3-896f-486b-b5ae-781af04c67cf"
      },
      "execution_count": 50,
      "outputs": [
        {
          "output_type": "execute_result",
          "data": {
            "text/plain": [
              "112        False\n",
              "373        False\n",
              "634        False\n",
              "895        False\n",
              "1156       False\n",
              "           ...  \n",
              "2292507    False\n",
              "2292769    False\n",
              "2293031    False\n",
              "2293293    False\n",
              "2293555     True\n",
              "Name: date, Length: 8760, dtype: bool"
            ]
          },
          "metadata": {},
          "execution_count": 50
        }
      ]
    },
    {
      "cell_type": "code",
      "source": [
        "d.where(~d.str.contains('24:00'), lambda x: x.apply(fix_24hr))"
      ],
      "metadata": {
        "colab": {
          "base_uri": "https://localhost:8080/"
        },
        "id": "5_xoLJpc80Dn",
        "outputId": "d19c0776-1c09-4330-8990-d1b8c6c2e404"
      },
      "execution_count": 53,
      "outputs": [
        {
          "output_type": "execute_result",
          "data": {
            "text/plain": [
              "112        01/01/2021 01:00\n",
              "373        01/01/2021 02:00\n",
              "634        01/01/2021 03:00\n",
              "895        01/01/2021 04:00\n",
              "1156       01/01/2021 05:00\n",
              "                 ...       \n",
              "2292507    31/12/2021 20:00\n",
              "2292769    31/12/2021 21:00\n",
              "2293031    31/12/2021 22:00\n",
              "2293293    31/12/2021 23:00\n",
              "2293555    31/12/2021 00:00\n",
              "Name: date, Length: 8760, dtype: object"
            ]
          },
          "metadata": {},
          "execution_count": 53
        }
      ]
    },
    {
      "cell_type": "code",
      "source": [
        "pd.to_datetime(\n",
        "    d.where(~d.str.contains('24:00'), lambda x: x.apply(fix_24hr)), \n",
        "    format='%d/%m/%Y %H:%M')"
      ],
      "metadata": {
        "colab": {
          "base_uri": "https://localhost:8080/"
        },
        "id": "EQIHYcrl-fNU",
        "outputId": "7eaf060c-2723-4a92-f174-a537ba2e44c1"
      },
      "execution_count": 54,
      "outputs": [
        {
          "output_type": "execute_result",
          "data": {
            "text/plain": [
              "112       2021-01-01 01:00:00\n",
              "373       2021-01-01 02:00:00\n",
              "634       2021-01-01 03:00:00\n",
              "895       2021-01-01 04:00:00\n",
              "1156      2021-01-01 05:00:00\n",
              "                  ...        \n",
              "2292507   2021-12-31 20:00:00\n",
              "2292769   2021-12-31 21:00:00\n",
              "2293031   2021-12-31 22:00:00\n",
              "2293293   2021-12-31 23:00:00\n",
              "2293555   2021-12-31 00:00:00\n",
              "Name: date, Length: 8760, dtype: datetime64[ns]"
            ]
          },
          "metadata": {},
          "execution_count": 54
        }
      ]
    },
    {
      "cell_type": "code",
      "source": [
        "PED_O3_levels['date'] = pd.to_datetime(\n",
        "    d.where(~d.str.contains('24:00'), lambda x: x.apply(fix_24hr)), \n",
        "    format='%d/%m/%Y %H:%M')"
      ],
      "metadata": {
        "id": "k0HGcN6M-1AI"
      },
      "execution_count": 55,
      "outputs": []
    },
    {
      "cell_type": "code",
      "source": [
        "PED_O3_levels.tail()"
      ],
      "metadata": {
        "colab": {
          "base_uri": "https://localhost:8080/",
          "height": 206
        },
        "id": "_O8fGlDW-5jo",
        "outputId": "7bd58938-01f4-4e9d-abc2-0147c9a5ba88"
      },
      "execution_count": 58,
      "outputs": [
        {
          "output_type": "execute_result",
          "data": {
            "text/html": [
              "\n",
              "  <div id=\"df-a0b122b0-2735-4181-a570-bd31149f012d\">\n",
              "    <div class=\"colab-df-container\">\n",
              "      <div>\n",
              "<style scoped>\n",
              "    .dataframe tbody tr th:only-of-type {\n",
              "        vertical-align: middle;\n",
              "    }\n",
              "\n",
              "    .dataframe tbody tr th {\n",
              "        vertical-align: top;\n",
              "    }\n",
              "\n",
              "    .dataframe thead th {\n",
              "        text-align: right;\n",
              "    }\n",
              "</style>\n",
              "<table border=\"1\" class=\"dataframe\">\n",
              "  <thead>\n",
              "    <tr style=\"text-align: right;\">\n",
              "      <th></th>\n",
              "      <th>date</th>\n",
              "      <th>id_station</th>\n",
              "      <th>id_parameter</th>\n",
              "      <th>value</th>\n",
              "      <th>unit</th>\n",
              "    </tr>\n",
              "  </thead>\n",
              "  <tbody>\n",
              "    <tr>\n",
              "      <th>2292507</th>\n",
              "      <td>2021-12-31 20:00:00</td>\n",
              "      <td>PED</td>\n",
              "      <td>O3</td>\n",
              "      <td>16.0</td>\n",
              "      <td>1</td>\n",
              "    </tr>\n",
              "    <tr>\n",
              "      <th>2292769</th>\n",
              "      <td>2021-12-31 21:00:00</td>\n",
              "      <td>PED</td>\n",
              "      <td>O3</td>\n",
              "      <td>28.0</td>\n",
              "      <td>1</td>\n",
              "    </tr>\n",
              "    <tr>\n",
              "      <th>2293031</th>\n",
              "      <td>2021-12-31 22:00:00</td>\n",
              "      <td>PED</td>\n",
              "      <td>O3</td>\n",
              "      <td>19.0</td>\n",
              "      <td>1</td>\n",
              "    </tr>\n",
              "    <tr>\n",
              "      <th>2293293</th>\n",
              "      <td>2021-12-31 23:00:00</td>\n",
              "      <td>PED</td>\n",
              "      <td>O3</td>\n",
              "      <td>12.0</td>\n",
              "      <td>1</td>\n",
              "    </tr>\n",
              "    <tr>\n",
              "      <th>2293555</th>\n",
              "      <td>2021-12-31 00:00:00</td>\n",
              "      <td>PED</td>\n",
              "      <td>O3</td>\n",
              "      <td>6.0</td>\n",
              "      <td>1</td>\n",
              "    </tr>\n",
              "  </tbody>\n",
              "</table>\n",
              "</div>\n",
              "      <button class=\"colab-df-convert\" onclick=\"convertToInteractive('df-a0b122b0-2735-4181-a570-bd31149f012d')\"\n",
              "              title=\"Convert this dataframe to an interactive table.\"\n",
              "              style=\"display:none;\">\n",
              "        \n",
              "  <svg xmlns=\"http://www.w3.org/2000/svg\" height=\"24px\"viewBox=\"0 0 24 24\"\n",
              "       width=\"24px\">\n",
              "    <path d=\"M0 0h24v24H0V0z\" fill=\"none\"/>\n",
              "    <path d=\"M18.56 5.44l.94 2.06.94-2.06 2.06-.94-2.06-.94-.94-2.06-.94 2.06-2.06.94zm-11 1L8.5 8.5l.94-2.06 2.06-.94-2.06-.94L8.5 2.5l-.94 2.06-2.06.94zm10 10l.94 2.06.94-2.06 2.06-.94-2.06-.94-.94-2.06-.94 2.06-2.06.94z\"/><path d=\"M17.41 7.96l-1.37-1.37c-.4-.4-.92-.59-1.43-.59-.52 0-1.04.2-1.43.59L10.3 9.45l-7.72 7.72c-.78.78-.78 2.05 0 2.83L4 21.41c.39.39.9.59 1.41.59.51 0 1.02-.2 1.41-.59l7.78-7.78 2.81-2.81c.8-.78.8-2.07 0-2.86zM5.41 20L4 18.59l7.72-7.72 1.47 1.35L5.41 20z\"/>\n",
              "  </svg>\n",
              "      </button>\n",
              "      \n",
              "  <style>\n",
              "    .colab-df-container {\n",
              "      display:flex;\n",
              "      flex-wrap:wrap;\n",
              "      gap: 12px;\n",
              "    }\n",
              "\n",
              "    .colab-df-convert {\n",
              "      background-color: #E8F0FE;\n",
              "      border: none;\n",
              "      border-radius: 50%;\n",
              "      cursor: pointer;\n",
              "      display: none;\n",
              "      fill: #1967D2;\n",
              "      height: 32px;\n",
              "      padding: 0 0 0 0;\n",
              "      width: 32px;\n",
              "    }\n",
              "\n",
              "    .colab-df-convert:hover {\n",
              "      background-color: #E2EBFA;\n",
              "      box-shadow: 0px 1px 2px rgba(60, 64, 67, 0.3), 0px 1px 3px 1px rgba(60, 64, 67, 0.15);\n",
              "      fill: #174EA6;\n",
              "    }\n",
              "\n",
              "    [theme=dark] .colab-df-convert {\n",
              "      background-color: #3B4455;\n",
              "      fill: #D2E3FC;\n",
              "    }\n",
              "\n",
              "    [theme=dark] .colab-df-convert:hover {\n",
              "      background-color: #434B5C;\n",
              "      box-shadow: 0px 1px 3px 1px rgba(0, 0, 0, 0.15);\n",
              "      filter: drop-shadow(0px 1px 2px rgba(0, 0, 0, 0.3));\n",
              "      fill: #FFFFFF;\n",
              "    }\n",
              "  </style>\n",
              "\n",
              "      <script>\n",
              "        const buttonEl =\n",
              "          document.querySelector('#df-a0b122b0-2735-4181-a570-bd31149f012d button.colab-df-convert');\n",
              "        buttonEl.style.display =\n",
              "          google.colab.kernel.accessAllowed ? 'block' : 'none';\n",
              "\n",
              "        async function convertToInteractive(key) {\n",
              "          const element = document.querySelector('#df-a0b122b0-2735-4181-a570-bd31149f012d');\n",
              "          const dataTable =\n",
              "            await google.colab.kernel.invokeFunction('convertToInteractive',\n",
              "                                                     [key], {});\n",
              "          if (!dataTable) return;\n",
              "\n",
              "          const docLinkHtml = 'Like what you see? Visit the ' +\n",
              "            '<a target=\"_blank\" href=https://colab.research.google.com/notebooks/data_table.ipynb>data table notebook</a>'\n",
              "            + ' to learn more about interactive tables.';\n",
              "          element.innerHTML = '';\n",
              "          dataTable['output_type'] = 'display_data';\n",
              "          await google.colab.output.renderOutput(dataTable, element);\n",
              "          const docLink = document.createElement('div');\n",
              "          docLink.innerHTML = docLinkHtml;\n",
              "          element.appendChild(docLink);\n",
              "        }\n",
              "      </script>\n",
              "    </div>\n",
              "  </div>\n",
              "  "
            ],
            "text/plain": [
              "                       date id_station id_parameter  value  unit\n",
              "2292507 2021-12-31 20:00:00        PED           O3   16.0     1\n",
              "2292769 2021-12-31 21:00:00        PED           O3   28.0     1\n",
              "2293031 2021-12-31 22:00:00        PED           O3   19.0     1\n",
              "2293293 2021-12-31 23:00:00        PED           O3   12.0     1\n",
              "2293555 2021-12-31 00:00:00        PED           O3    6.0     1"
            ]
          },
          "metadata": {},
          "execution_count": 58
        }
      ]
    },
    {
      "cell_type": "code",
      "source": [
        "PED_O3_levels.dtypes"
      ],
      "metadata": {
        "colab": {
          "base_uri": "https://localhost:8080/"
        },
        "id": "rrO8qtQe-70k",
        "outputId": "05656db9-9cca-4e74-bedc-b95dde6462e3"
      },
      "execution_count": 57,
      "outputs": [
        {
          "output_type": "execute_result",
          "data": {
            "text/plain": [
              "date            datetime64[ns]\n",
              "id_station              object\n",
              "id_parameter            object\n",
              "value                  float64\n",
              "unit                     int64\n",
              "dtype: object"
            ]
          },
          "metadata": {},
          "execution_count": 57
        }
      ]
    },
    {
      "cell_type": "code",
      "source": [
        ""
      ],
      "metadata": {
        "id": "IM4HhoP1--ab"
      },
      "execution_count": null,
      "outputs": []
    },
    {
      "cell_type": "code",
      "source": [
        "def square(x):\n",
        "    return x**2\n",
        "\n",
        "square_2 = lambda x: x**2\n",
        "\n",
        "print(square(2))\n",
        "print(square(4))\n",
        "print(square(3))\n",
        "\n",
        "print(square_2(2))\n",
        "print(square_2(4))\n",
        "print(square_2(3))"
      ],
      "metadata": {
        "colab": {
          "base_uri": "https://localhost:8080/"
        },
        "id": "bZRTI_NR9pCC",
        "outputId": "e90f785f-df6e-4e90-dcbf-2c8d34b31a3b"
      },
      "execution_count": 52,
      "outputs": [
        {
          "output_type": "stream",
          "name": "stdout",
          "text": [
            "4\n",
            "16\n",
            "9\n",
            "4\n",
            "16\n",
            "9\n"
          ]
        }
      ]
    },
    {
      "cell_type": "code",
      "source": [
        ""
      ],
      "metadata": {
        "id": "96gwXrhN9zD2"
      },
      "execution_count": null,
      "outputs": []
    }
  ]
}