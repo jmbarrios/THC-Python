{
  "nbformat": 4,
  "nbformat_minor": 0,
  "metadata": {
    "colab": {
      "name": "20211214-perceptron2d_numpy.ipynb",
      "provenance": [],
      "authorship_tag": "ABX9TyPokbMECYXcVhCwskmYKVEg"
    },
    "kernelspec": {
      "name": "python3",
      "display_name": "Python 3"
    },
    "language_info": {
      "name": "python"
    }
  },
  "cells": [
    {
      "cell_type": "markdown",
      "source": [
        "# Volvemos al perceptron 2D"
      ],
      "metadata": {
        "id": "fWvyZyEcbJE4"
      }
    },
    {
      "cell_type": "code",
      "source": [
        "import numpy as np"
      ],
      "metadata": {
        "id": "35bxgXMEbQcC"
      },
      "execution_count": null,
      "outputs": []
    },
    {
      "cell_type": "code",
      "source": [
        "# Repositorio de los datos\n",
        "SEABORN_DATASETS_URL = 'https://raw.githubusercontent.com/mwaskom/seaborn-data/master'\n",
        "\n",
        "datasource = np.DataSource()"
      ],
      "metadata": {
        "id": "Xa4mDrs8bS0e"
      },
      "execution_count": null,
      "outputs": []
    },
    {
      "cell_type": "code",
      "source": [
        "# Cargar los datos\n",
        "with datasource.open(SEABORN_DATASETS_URL + '/penguins.csv') as f:\n",
        "    datos_pinguinos = np.genfromtxt(\n",
        "    f, \n",
        "    delimiter=',', \n",
        "    names=True,\n",
        "    dtype=[\n",
        "           ('species', '|S10'), \n",
        "           ('island', '|S15'),\n",
        "           ('bill_length_mm', float),\n",
        "           ('bill_depth_mm', float),\n",
        "           ('flipper_length_mm', float),\n",
        "           ('body_mass_g', float),\n",
        "           ('sex', '|S10')\n",
        "    ])"
      ],
      "metadata": {
        "id": "LBejt5bnbbZz"
      },
      "execution_count": null,
      "outputs": []
    },
    {
      "cell_type": "code",
      "source": [
        "focus_species = [b'Adelie', b'Gentoo']\n",
        "mask = np.isin(datos_pinguinos['species'], focus_species)"
      ],
      "metadata": {
        "id": "8XAqLlFibiQd"
      },
      "execution_count": null,
      "outputs": []
    },
    {
      "cell_type": "code",
      "source": [
        "data = np.vstack([\n",
        "    datos_pinguinos[mask]['bill_length_mm'],\n",
        "    datos_pinguinos[mask]['bill_depth_mm']\n",
        "])"
      ],
      "metadata": {
        "id": "pi9Bni5NbnIX"
      },
      "execution_count": null,
      "outputs": []
    },
    {
      "cell_type": "code",
      "source": [
        "labels = np.where(datos_pinguinos[mask]['species'] == b'Adelie', 1, -1)"
      ],
      "metadata": {
        "id": "VHAj0zqtbwWg"
      },
      "execution_count": null,
      "outputs": []
    },
    {
      "cell_type": "code",
      "source": [
        "nan_mask = ~np.isnan(data).any(axis=0)"
      ],
      "metadata": {
        "id": "T5LR4CwYb2IW"
      },
      "execution_count": null,
      "outputs": []
    },
    {
      "cell_type": "code",
      "source": [
        "data = data[:, nan_mask]\n",
        "labels = labels[nan_mask]"
      ],
      "metadata": {
        "id": "cS73zTr4b435"
      },
      "execution_count": null,
      "outputs": []
    },
    {
      "cell_type": "code",
      "source": [
        "rng = np.random.default_rng(12345)"
      ],
      "metadata": {
        "id": "QL_V_61jcL3w"
      },
      "execution_count": null,
      "outputs": []
    },
    {
      "cell_type": "code",
      "source": [
        ""
      ],
      "metadata": {
        "id": "8w39bAjmcA9D"
      },
      "execution_count": null,
      "outputs": []
    }
  ]
}