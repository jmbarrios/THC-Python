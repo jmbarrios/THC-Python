{
  "nbformat": 4,
  "nbformat_minor": 0,
  "metadata": {
    "colab": {
      "name": "20211214-perceptron2d_numpy.ipynb",
      "provenance": [],
      "authorship_tag": "ABX9TyPLO2CPrQtnOAE/ML36//1M"
    },
    "kernelspec": {
      "name": "python3",
      "display_name": "Python 3"
    },
    "language_info": {
      "name": "python"
    }
  },
  "cells": [
    {
      "cell_type": "markdown",
      "source": [
        "# Volvemos al perceptron 2D"
      ],
      "metadata": {
        "id": "fWvyZyEcbJE4"
      }
    },
    {
      "cell_type": "code",
      "source": [
        "import numpy as np"
      ],
      "metadata": {
        "id": "35bxgXMEbQcC"
      },
      "execution_count": 1,
      "outputs": []
    },
    {
      "cell_type": "code",
      "source": [
        "# Repositorio de los datos\n",
        "SEABORN_DATASETS_URL = 'https://raw.githubusercontent.com/mwaskom/seaborn-data/master'\n",
        "\n",
        "datasource = np.DataSource()"
      ],
      "metadata": {
        "id": "Xa4mDrs8bS0e"
      },
      "execution_count": 2,
      "outputs": []
    },
    {
      "cell_type": "code",
      "source": [
        "# Cargar los datos\n",
        "with datasource.open(SEABORN_DATASETS_URL + '/penguins.csv') as f:\n",
        "    datos_pinguinos = np.genfromtxt(\n",
        "    f, \n",
        "    delimiter=',', \n",
        "    names=True,\n",
        "    dtype=[\n",
        "           ('species', '|S10'), \n",
        "           ('island', '|S15'),\n",
        "           ('bill_length_mm', float),\n",
        "           ('bill_depth_mm', float),\n",
        "           ('flipper_length_mm', float),\n",
        "           ('body_mass_g', float),\n",
        "           ('sex', '|S10')\n",
        "    ])"
      ],
      "metadata": {
        "id": "LBejt5bnbbZz"
      },
      "execution_count": 3,
      "outputs": []
    },
    {
      "cell_type": "code",
      "source": [
        "datos_pinguinos"
      ],
      "metadata": {
        "id": "FFa5AOeTQa2t",
        "outputId": "9ea886ee-05ef-434b-ce68-2e49d03bddf1",
        "colab": {
          "base_uri": "https://localhost:8080/"
        }
      },
      "execution_count": 4,
      "outputs": [
        {
          "output_type": "execute_result",
          "data": {
            "text/plain": [
              "array([(b'Adelie', b'Torgersen', 39.1, 18.7, 181., 3750., b'MALE'),\n",
              "       (b'Adelie', b'Torgersen', 39.5, 17.4, 186., 3800., b'FEMALE'),\n",
              "       (b'Adelie', b'Torgersen', 40.3, 18. , 195., 3250., b'FEMALE'),\n",
              "       (b'Adelie', b'Torgersen',  nan,  nan,  nan,   nan, b''),\n",
              "       (b'Adelie', b'Torgersen', 36.7, 19.3, 193., 3450., b'FEMALE'),\n",
              "       (b'Adelie', b'Torgersen', 39.3, 20.6, 190., 3650., b'MALE'),\n",
              "       (b'Adelie', b'Torgersen', 38.9, 17.8, 181., 3625., b'FEMALE'),\n",
              "       (b'Adelie', b'Torgersen', 39.2, 19.6, 195., 4675., b'MALE'),\n",
              "       (b'Adelie', b'Torgersen', 34.1, 18.1, 193., 3475., b''),\n",
              "       (b'Adelie', b'Torgersen', 42. , 20.2, 190., 4250., b''),\n",
              "       (b'Adelie', b'Torgersen', 37.8, 17.1, 186., 3300., b''),\n",
              "       (b'Adelie', b'Torgersen', 37.8, 17.3, 180., 3700., b''),\n",
              "       (b'Adelie', b'Torgersen', 41.1, 17.6, 182., 3200., b'FEMALE'),\n",
              "       (b'Adelie', b'Torgersen', 38.6, 21.2, 191., 3800., b'MALE'),\n",
              "       (b'Adelie', b'Torgersen', 34.6, 21.1, 198., 4400., b'MALE'),\n",
              "       (b'Adelie', b'Torgersen', 36.6, 17.8, 185., 3700., b'FEMALE'),\n",
              "       (b'Adelie', b'Torgersen', 38.7, 19. , 195., 3450., b'FEMALE'),\n",
              "       (b'Adelie', b'Torgersen', 42.5, 20.7, 197., 4500., b'MALE'),\n",
              "       (b'Adelie', b'Torgersen', 34.4, 18.4, 184., 3325., b'FEMALE'),\n",
              "       (b'Adelie', b'Torgersen', 46. , 21.5, 194., 4200., b'MALE'),\n",
              "       (b'Adelie', b'Biscoe', 37.8, 18.3, 174., 3400., b'FEMALE'),\n",
              "       (b'Adelie', b'Biscoe', 37.7, 18.7, 180., 3600., b'MALE'),\n",
              "       (b'Adelie', b'Biscoe', 35.9, 19.2, 189., 3800., b'FEMALE'),\n",
              "       (b'Adelie', b'Biscoe', 38.2, 18.1, 185., 3950., b'MALE'),\n",
              "       (b'Adelie', b'Biscoe', 38.8, 17.2, 180., 3800., b'MALE'),\n",
              "       (b'Adelie', b'Biscoe', 35.3, 18.9, 187., 3800., b'FEMALE'),\n",
              "       (b'Adelie', b'Biscoe', 40.6, 18.6, 183., 3550., b'MALE'),\n",
              "       (b'Adelie', b'Biscoe', 40.5, 17.9, 187., 3200., b'FEMALE'),\n",
              "       (b'Adelie', b'Biscoe', 37.9, 18.6, 172., 3150., b'FEMALE'),\n",
              "       (b'Adelie', b'Biscoe', 40.5, 18.9, 180., 3950., b'MALE'),\n",
              "       (b'Adelie', b'Dream', 39.5, 16.7, 178., 3250., b'FEMALE'),\n",
              "       (b'Adelie', b'Dream', 37.2, 18.1, 178., 3900., b'MALE'),\n",
              "       (b'Adelie', b'Dream', 39.5, 17.8, 188., 3300., b'FEMALE'),\n",
              "       (b'Adelie', b'Dream', 40.9, 18.9, 184., 3900., b'MALE'),\n",
              "       (b'Adelie', b'Dream', 36.4, 17. , 195., 3325., b'FEMALE'),\n",
              "       (b'Adelie', b'Dream', 39.2, 21.1, 196., 4150., b'MALE'),\n",
              "       (b'Adelie', b'Dream', 38.8, 20. , 190., 3950., b'MALE'),\n",
              "       (b'Adelie', b'Dream', 42.2, 18.5, 180., 3550., b'FEMALE'),\n",
              "       (b'Adelie', b'Dream', 37.6, 19.3, 181., 3300., b'FEMALE'),\n",
              "       (b'Adelie', b'Dream', 39.8, 19.1, 184., 4650., b'MALE'),\n",
              "       (b'Adelie', b'Dream', 36.5, 18. , 182., 3150., b'FEMALE'),\n",
              "       (b'Adelie', b'Dream', 40.8, 18.4, 195., 3900., b'MALE'),\n",
              "       (b'Adelie', b'Dream', 36. , 18.5, 186., 3100., b'FEMALE'),\n",
              "       (b'Adelie', b'Dream', 44.1, 19.7, 196., 4400., b'MALE'),\n",
              "       (b'Adelie', b'Dream', 37. , 16.9, 185., 3000., b'FEMALE'),\n",
              "       (b'Adelie', b'Dream', 39.6, 18.8, 190., 4600., b'MALE'),\n",
              "       (b'Adelie', b'Dream', 41.1, 19. , 182., 3425., b'MALE'),\n",
              "       (b'Adelie', b'Dream', 37.5, 18.9, 179., 2975., b''),\n",
              "       (b'Adelie', b'Dream', 36. , 17.9, 190., 3450., b'FEMALE'),\n",
              "       (b'Adelie', b'Dream', 42.3, 21.2, 191., 4150., b'MALE'),\n",
              "       (b'Adelie', b'Biscoe', 39.6, 17.7, 186., 3500., b'FEMALE'),\n",
              "       (b'Adelie', b'Biscoe', 40.1, 18.9, 188., 4300., b'MALE'),\n",
              "       (b'Adelie', b'Biscoe', 35. , 17.9, 190., 3450., b'FEMALE'),\n",
              "       (b'Adelie', b'Biscoe', 42. , 19.5, 200., 4050., b'MALE'),\n",
              "       (b'Adelie', b'Biscoe', 34.5, 18.1, 187., 2900., b'FEMALE'),\n",
              "       (b'Adelie', b'Biscoe', 41.4, 18.6, 191., 3700., b'MALE'),\n",
              "       (b'Adelie', b'Biscoe', 39. , 17.5, 186., 3550., b'FEMALE'),\n",
              "       (b'Adelie', b'Biscoe', 40.6, 18.8, 193., 3800., b'MALE'),\n",
              "       (b'Adelie', b'Biscoe', 36.5, 16.6, 181., 2850., b'FEMALE'),\n",
              "       (b'Adelie', b'Biscoe', 37.6, 19.1, 194., 3750., b'MALE'),\n",
              "       (b'Adelie', b'Biscoe', 35.7, 16.9, 185., 3150., b'FEMALE'),\n",
              "       (b'Adelie', b'Biscoe', 41.3, 21.1, 195., 4400., b'MALE'),\n",
              "       (b'Adelie', b'Biscoe', 37.6, 17. , 185., 3600., b'FEMALE'),\n",
              "       (b'Adelie', b'Biscoe', 41.1, 18.2, 192., 4050., b'MALE'),\n",
              "       (b'Adelie', b'Biscoe', 36.4, 17.1, 184., 2850., b'FEMALE'),\n",
              "       (b'Adelie', b'Biscoe', 41.6, 18. , 192., 3950., b'MALE'),\n",
              "       (b'Adelie', b'Biscoe', 35.5, 16.2, 195., 3350., b'FEMALE'),\n",
              "       (b'Adelie', b'Biscoe', 41.1, 19.1, 188., 4100., b'MALE'),\n",
              "       (b'Adelie', b'Torgersen', 35.9, 16.6, 190., 3050., b'FEMALE'),\n",
              "       (b'Adelie', b'Torgersen', 41.8, 19.4, 198., 4450., b'MALE'),\n",
              "       (b'Adelie', b'Torgersen', 33.5, 19. , 190., 3600., b'FEMALE'),\n",
              "       (b'Adelie', b'Torgersen', 39.7, 18.4, 190., 3900., b'MALE'),\n",
              "       (b'Adelie', b'Torgersen', 39.6, 17.2, 196., 3550., b'FEMALE'),\n",
              "       (b'Adelie', b'Torgersen', 45.8, 18.9, 197., 4150., b'MALE'),\n",
              "       (b'Adelie', b'Torgersen', 35.5, 17.5, 190., 3700., b'FEMALE'),\n",
              "       (b'Adelie', b'Torgersen', 42.8, 18.5, 195., 4250., b'MALE'),\n",
              "       (b'Adelie', b'Torgersen', 40.9, 16.8, 191., 3700., b'FEMALE'),\n",
              "       (b'Adelie', b'Torgersen', 37.2, 19.4, 184., 3900., b'MALE'),\n",
              "       (b'Adelie', b'Torgersen', 36.2, 16.1, 187., 3550., b'FEMALE'),\n",
              "       (b'Adelie', b'Torgersen', 42.1, 19.1, 195., 4000., b'MALE'),\n",
              "       (b'Adelie', b'Torgersen', 34.6, 17.2, 189., 3200., b'FEMALE'),\n",
              "       (b'Adelie', b'Torgersen', 42.9, 17.6, 196., 4700., b'MALE'),\n",
              "       (b'Adelie', b'Torgersen', 36.7, 18.8, 187., 3800., b'FEMALE'),\n",
              "       (b'Adelie', b'Torgersen', 35.1, 19.4, 193., 4200., b'MALE'),\n",
              "       (b'Adelie', b'Dream', 37.3, 17.8, 191., 3350., b'FEMALE'),\n",
              "       (b'Adelie', b'Dream', 41.3, 20.3, 194., 3550., b'MALE'),\n",
              "       (b'Adelie', b'Dream', 36.3, 19.5, 190., 3800., b'MALE'),\n",
              "       (b'Adelie', b'Dream', 36.9, 18.6, 189., 3500., b'FEMALE'),\n",
              "       (b'Adelie', b'Dream', 38.3, 19.2, 189., 3950., b'MALE'),\n",
              "       (b'Adelie', b'Dream', 38.9, 18.8, 190., 3600., b'FEMALE'),\n",
              "       (b'Adelie', b'Dream', 35.7, 18. , 202., 3550., b'FEMALE'),\n",
              "       (b'Adelie', b'Dream', 41.1, 18.1, 205., 4300., b'MALE'),\n",
              "       (b'Adelie', b'Dream', 34. , 17.1, 185., 3400., b'FEMALE'),\n",
              "       (b'Adelie', b'Dream', 39.6, 18.1, 186., 4450., b'MALE'),\n",
              "       (b'Adelie', b'Dream', 36.2, 17.3, 187., 3300., b'FEMALE'),\n",
              "       (b'Adelie', b'Dream', 40.8, 18.9, 208., 4300., b'MALE'),\n",
              "       (b'Adelie', b'Dream', 38.1, 18.6, 190., 3700., b'FEMALE'),\n",
              "       (b'Adelie', b'Dream', 40.3, 18.5, 196., 4350., b'MALE'),\n",
              "       (b'Adelie', b'Dream', 33.1, 16.1, 178., 2900., b'FEMALE'),\n",
              "       (b'Adelie', b'Dream', 43.2, 18.5, 192., 4100., b'MALE'),\n",
              "       (b'Adelie', b'Biscoe', 35. , 17.9, 192., 3725., b'FEMALE'),\n",
              "       (b'Adelie', b'Biscoe', 41. , 20. , 203., 4725., b'MALE'),\n",
              "       (b'Adelie', b'Biscoe', 37.7, 16. , 183., 3075., b'FEMALE'),\n",
              "       (b'Adelie', b'Biscoe', 37.8, 20. , 190., 4250., b'MALE'),\n",
              "       (b'Adelie', b'Biscoe', 37.9, 18.6, 193., 2925., b'FEMALE'),\n",
              "       (b'Adelie', b'Biscoe', 39.7, 18.9, 184., 3550., b'MALE'),\n",
              "       (b'Adelie', b'Biscoe', 38.6, 17.2, 199., 3750., b'FEMALE'),\n",
              "       (b'Adelie', b'Biscoe', 38.2, 20. , 190., 3900., b'MALE'),\n",
              "       (b'Adelie', b'Biscoe', 38.1, 17. , 181., 3175., b'FEMALE'),\n",
              "       (b'Adelie', b'Biscoe', 43.2, 19. , 197., 4775., b'MALE'),\n",
              "       (b'Adelie', b'Biscoe', 38.1, 16.5, 198., 3825., b'FEMALE'),\n",
              "       (b'Adelie', b'Biscoe', 45.6, 20.3, 191., 4600., b'MALE'),\n",
              "       (b'Adelie', b'Biscoe', 39.7, 17.7, 193., 3200., b'FEMALE'),\n",
              "       (b'Adelie', b'Biscoe', 42.2, 19.5, 197., 4275., b'MALE'),\n",
              "       (b'Adelie', b'Biscoe', 39.6, 20.7, 191., 3900., b'FEMALE'),\n",
              "       (b'Adelie', b'Biscoe', 42.7, 18.3, 196., 4075., b'MALE'),\n",
              "       (b'Adelie', b'Torgersen', 38.6, 17. , 188., 2900., b'FEMALE'),\n",
              "       (b'Adelie', b'Torgersen', 37.3, 20.5, 199., 3775., b'MALE'),\n",
              "       (b'Adelie', b'Torgersen', 35.7, 17. , 189., 3350., b'FEMALE'),\n",
              "       (b'Adelie', b'Torgersen', 41.1, 18.6, 189., 3325., b'MALE'),\n",
              "       (b'Adelie', b'Torgersen', 36.2, 17.2, 187., 3150., b'FEMALE'),\n",
              "       (b'Adelie', b'Torgersen', 37.7, 19.8, 198., 3500., b'MALE'),\n",
              "       (b'Adelie', b'Torgersen', 40.2, 17. , 176., 3450., b'FEMALE'),\n",
              "       (b'Adelie', b'Torgersen', 41.4, 18.5, 202., 3875., b'MALE'),\n",
              "       (b'Adelie', b'Torgersen', 35.2, 15.9, 186., 3050., b'FEMALE'),\n",
              "       (b'Adelie', b'Torgersen', 40.6, 19. , 199., 4000., b'MALE'),\n",
              "       (b'Adelie', b'Torgersen', 38.8, 17.6, 191., 3275., b'FEMALE'),\n",
              "       (b'Adelie', b'Torgersen', 41.5, 18.3, 195., 4300., b'MALE'),\n",
              "       (b'Adelie', b'Torgersen', 39. , 17.1, 191., 3050., b'FEMALE'),\n",
              "       (b'Adelie', b'Torgersen', 44.1, 18. , 210., 4000., b'MALE'),\n",
              "       (b'Adelie', b'Torgersen', 38.5, 17.9, 190., 3325., b'FEMALE'),\n",
              "       (b'Adelie', b'Torgersen', 43.1, 19.2, 197., 3500., b'MALE'),\n",
              "       (b'Adelie', b'Dream', 36.8, 18.5, 193., 3500., b'FEMALE'),\n",
              "       (b'Adelie', b'Dream', 37.5, 18.5, 199., 4475., b'MALE'),\n",
              "       (b'Adelie', b'Dream', 38.1, 17.6, 187., 3425., b'FEMALE'),\n",
              "       (b'Adelie', b'Dream', 41.1, 17.5, 190., 3900., b'MALE'),\n",
              "       (b'Adelie', b'Dream', 35.6, 17.5, 191., 3175., b'FEMALE'),\n",
              "       (b'Adelie', b'Dream', 40.2, 20.1, 200., 3975., b'MALE'),\n",
              "       (b'Adelie', b'Dream', 37. , 16.5, 185., 3400., b'FEMALE'),\n",
              "       (b'Adelie', b'Dream', 39.7, 17.9, 193., 4250., b'MALE'),\n",
              "       (b'Adelie', b'Dream', 40.2, 17.1, 193., 3400., b'FEMALE'),\n",
              "       (b'Adelie', b'Dream', 40.6, 17.2, 187., 3475., b'MALE'),\n",
              "       (b'Adelie', b'Dream', 32.1, 15.5, 188., 3050., b'FEMALE'),\n",
              "       (b'Adelie', b'Dream', 40.7, 17. , 190., 3725., b'MALE'),\n",
              "       (b'Adelie', b'Dream', 37.3, 16.8, 192., 3000., b'FEMALE'),\n",
              "       (b'Adelie', b'Dream', 39. , 18.7, 185., 3650., b'MALE'),\n",
              "       (b'Adelie', b'Dream', 39.2, 18.6, 190., 4250., b'MALE'),\n",
              "       (b'Adelie', b'Dream', 36.6, 18.4, 184., 3475., b'FEMALE'),\n",
              "       (b'Adelie', b'Dream', 36. , 17.8, 195., 3450., b'FEMALE'),\n",
              "       (b'Adelie', b'Dream', 37.8, 18.1, 193., 3750., b'MALE'),\n",
              "       (b'Adelie', b'Dream', 36. , 17.1, 187., 3700., b'FEMALE'),\n",
              "       (b'Adelie', b'Dream', 41.5, 18.5, 201., 4000., b'MALE'),\n",
              "       (b'Chinstrap', b'Dream', 46.5, 17.9, 192., 3500., b'FEMALE'),\n",
              "       (b'Chinstrap', b'Dream', 50. , 19.5, 196., 3900., b'MALE'),\n",
              "       (b'Chinstrap', b'Dream', 51.3, 19.2, 193., 3650., b'MALE'),\n",
              "       (b'Chinstrap', b'Dream', 45.4, 18.7, 188., 3525., b'FEMALE'),\n",
              "       (b'Chinstrap', b'Dream', 52.7, 19.8, 197., 3725., b'MALE'),\n",
              "       (b'Chinstrap', b'Dream', 45.2, 17.8, 198., 3950., b'FEMALE'),\n",
              "       (b'Chinstrap', b'Dream', 46.1, 18.2, 178., 3250., b'FEMALE'),\n",
              "       (b'Chinstrap', b'Dream', 51.3, 18.2, 197., 3750., b'MALE'),\n",
              "       (b'Chinstrap', b'Dream', 46. , 18.9, 195., 4150., b'FEMALE'),\n",
              "       (b'Chinstrap', b'Dream', 51.3, 19.9, 198., 3700., b'MALE'),\n",
              "       (b'Chinstrap', b'Dream', 46.6, 17.8, 193., 3800., b'FEMALE'),\n",
              "       (b'Chinstrap', b'Dream', 51.7, 20.3, 194., 3775., b'MALE'),\n",
              "       (b'Chinstrap', b'Dream', 47. , 17.3, 185., 3700., b'FEMALE'),\n",
              "       (b'Chinstrap', b'Dream', 52. , 18.1, 201., 4050., b'MALE'),\n",
              "       (b'Chinstrap', b'Dream', 45.9, 17.1, 190., 3575., b'FEMALE'),\n",
              "       (b'Chinstrap', b'Dream', 50.5, 19.6, 201., 4050., b'MALE'),\n",
              "       (b'Chinstrap', b'Dream', 50.3, 20. , 197., 3300., b'MALE'),\n",
              "       (b'Chinstrap', b'Dream', 58. , 17.8, 181., 3700., b'FEMALE'),\n",
              "       (b'Chinstrap', b'Dream', 46.4, 18.6, 190., 3450., b'FEMALE'),\n",
              "       (b'Chinstrap', b'Dream', 49.2, 18.2, 195., 4400., b'MALE'),\n",
              "       (b'Chinstrap', b'Dream', 42.4, 17.3, 181., 3600., b'FEMALE'),\n",
              "       (b'Chinstrap', b'Dream', 48.5, 17.5, 191., 3400., b'MALE'),\n",
              "       (b'Chinstrap', b'Dream', 43.2, 16.6, 187., 2900., b'FEMALE'),\n",
              "       (b'Chinstrap', b'Dream', 50.6, 19.4, 193., 3800., b'MALE'),\n",
              "       (b'Chinstrap', b'Dream', 46.7, 17.9, 195., 3300., b'FEMALE'),\n",
              "       (b'Chinstrap', b'Dream', 52. , 19. , 197., 4150., b'MALE'),\n",
              "       (b'Chinstrap', b'Dream', 50.5, 18.4, 200., 3400., b'FEMALE'),\n",
              "       (b'Chinstrap', b'Dream', 49.5, 19. , 200., 3800., b'MALE'),\n",
              "       (b'Chinstrap', b'Dream', 46.4, 17.8, 191., 3700., b'FEMALE'),\n",
              "       (b'Chinstrap', b'Dream', 52.8, 20. , 205., 4550., b'MALE'),\n",
              "       (b'Chinstrap', b'Dream', 40.9, 16.6, 187., 3200., b'FEMALE'),\n",
              "       (b'Chinstrap', b'Dream', 54.2, 20.8, 201., 4300., b'MALE'),\n",
              "       (b'Chinstrap', b'Dream', 42.5, 16.7, 187., 3350., b'FEMALE'),\n",
              "       (b'Chinstrap', b'Dream', 51. , 18.8, 203., 4100., b'MALE'),\n",
              "       (b'Chinstrap', b'Dream', 49.7, 18.6, 195., 3600., b'MALE'),\n",
              "       (b'Chinstrap', b'Dream', 47.5, 16.8, 199., 3900., b'FEMALE'),\n",
              "       (b'Chinstrap', b'Dream', 47.6, 18.3, 195., 3850., b'FEMALE'),\n",
              "       (b'Chinstrap', b'Dream', 52. , 20.7, 210., 4800., b'MALE'),\n",
              "       (b'Chinstrap', b'Dream', 46.9, 16.6, 192., 2700., b'FEMALE'),\n",
              "       (b'Chinstrap', b'Dream', 53.5, 19.9, 205., 4500., b'MALE'),\n",
              "       (b'Chinstrap', b'Dream', 49. , 19.5, 210., 3950., b'MALE'),\n",
              "       (b'Chinstrap', b'Dream', 46.2, 17.5, 187., 3650., b'FEMALE'),\n",
              "       (b'Chinstrap', b'Dream', 50.9, 19.1, 196., 3550., b'MALE'),\n",
              "       (b'Chinstrap', b'Dream', 45.5, 17. , 196., 3500., b'FEMALE'),\n",
              "       (b'Chinstrap', b'Dream', 50.9, 17.9, 196., 3675., b'FEMALE'),\n",
              "       (b'Chinstrap', b'Dream', 50.8, 18.5, 201., 4450., b'MALE'),\n",
              "       (b'Chinstrap', b'Dream', 50.1, 17.9, 190., 3400., b'FEMALE'),\n",
              "       (b'Chinstrap', b'Dream', 49. , 19.6, 212., 4300., b'MALE'),\n",
              "       (b'Chinstrap', b'Dream', 51.5, 18.7, 187., 3250., b'MALE'),\n",
              "       (b'Chinstrap', b'Dream', 49.8, 17.3, 198., 3675., b'FEMALE'),\n",
              "       (b'Chinstrap', b'Dream', 48.1, 16.4, 199., 3325., b'FEMALE'),\n",
              "       (b'Chinstrap', b'Dream', 51.4, 19. , 201., 3950., b'MALE'),\n",
              "       (b'Chinstrap', b'Dream', 45.7, 17.3, 193., 3600., b'FEMALE'),\n",
              "       (b'Chinstrap', b'Dream', 50.7, 19.7, 203., 4050., b'MALE'),\n",
              "       (b'Chinstrap', b'Dream', 42.5, 17.3, 187., 3350., b'FEMALE'),\n",
              "       (b'Chinstrap', b'Dream', 52.2, 18.8, 197., 3450., b'MALE'),\n",
              "       (b'Chinstrap', b'Dream', 45.2, 16.6, 191., 3250., b'FEMALE'),\n",
              "       (b'Chinstrap', b'Dream', 49.3, 19.9, 203., 4050., b'MALE'),\n",
              "       (b'Chinstrap', b'Dream', 50.2, 18.8, 202., 3800., b'MALE'),\n",
              "       (b'Chinstrap', b'Dream', 45.6, 19.4, 194., 3525., b'FEMALE'),\n",
              "       (b'Chinstrap', b'Dream', 51.9, 19.5, 206., 3950., b'MALE'),\n",
              "       (b'Chinstrap', b'Dream', 46.8, 16.5, 189., 3650., b'FEMALE'),\n",
              "       (b'Chinstrap', b'Dream', 45.7, 17. , 195., 3650., b'FEMALE'),\n",
              "       (b'Chinstrap', b'Dream', 55.8, 19.8, 207., 4000., b'MALE'),\n",
              "       (b'Chinstrap', b'Dream', 43.5, 18.1, 202., 3400., b'FEMALE'),\n",
              "       (b'Chinstrap', b'Dream', 49.6, 18.2, 193., 3775., b'MALE'),\n",
              "       (b'Chinstrap', b'Dream', 50.8, 19. , 210., 4100., b'MALE'),\n",
              "       (b'Chinstrap', b'Dream', 50.2, 18.7, 198., 3775., b'FEMALE'),\n",
              "       (b'Gentoo', b'Biscoe', 46.1, 13.2, 211., 4500., b'FEMALE'),\n",
              "       (b'Gentoo', b'Biscoe', 50. , 16.3, 230., 5700., b'MALE'),\n",
              "       (b'Gentoo', b'Biscoe', 48.7, 14.1, 210., 4450., b'FEMALE'),\n",
              "       (b'Gentoo', b'Biscoe', 50. , 15.2, 218., 5700., b'MALE'),\n",
              "       (b'Gentoo', b'Biscoe', 47.6, 14.5, 215., 5400., b'MALE'),\n",
              "       (b'Gentoo', b'Biscoe', 46.5, 13.5, 210., 4550., b'FEMALE'),\n",
              "       (b'Gentoo', b'Biscoe', 45.4, 14.6, 211., 4800., b'FEMALE'),\n",
              "       (b'Gentoo', b'Biscoe', 46.7, 15.3, 219., 5200., b'MALE'),\n",
              "       (b'Gentoo', b'Biscoe', 43.3, 13.4, 209., 4400., b'FEMALE'),\n",
              "       (b'Gentoo', b'Biscoe', 46.8, 15.4, 215., 5150., b'MALE'),\n",
              "       (b'Gentoo', b'Biscoe', 40.9, 13.7, 214., 4650., b'FEMALE'),\n",
              "       (b'Gentoo', b'Biscoe', 49. , 16.1, 216., 5550., b'MALE'),\n",
              "       (b'Gentoo', b'Biscoe', 45.5, 13.7, 214., 4650., b'FEMALE'),\n",
              "       (b'Gentoo', b'Biscoe', 48.4, 14.6, 213., 5850., b'MALE'),\n",
              "       (b'Gentoo', b'Biscoe', 45.8, 14.6, 210., 4200., b'FEMALE'),\n",
              "       (b'Gentoo', b'Biscoe', 49.3, 15.7, 217., 5850., b'MALE'),\n",
              "       (b'Gentoo', b'Biscoe', 42. , 13.5, 210., 4150., b'FEMALE'),\n",
              "       (b'Gentoo', b'Biscoe', 49.2, 15.2, 221., 6300., b'MALE'),\n",
              "       (b'Gentoo', b'Biscoe', 46.2, 14.5, 209., 4800., b'FEMALE'),\n",
              "       (b'Gentoo', b'Biscoe', 48.7, 15.1, 222., 5350., b'MALE'),\n",
              "       (b'Gentoo', b'Biscoe', 50.2, 14.3, 218., 5700., b'MALE'),\n",
              "       (b'Gentoo', b'Biscoe', 45.1, 14.5, 215., 5000., b'FEMALE'),\n",
              "       (b'Gentoo', b'Biscoe', 46.5, 14.5, 213., 4400., b'FEMALE'),\n",
              "       (b'Gentoo', b'Biscoe', 46.3, 15.8, 215., 5050., b'MALE'),\n",
              "       (b'Gentoo', b'Biscoe', 42.9, 13.1, 215., 5000., b'FEMALE'),\n",
              "       (b'Gentoo', b'Biscoe', 46.1, 15.1, 215., 5100., b'MALE'),\n",
              "       (b'Gentoo', b'Biscoe', 44.5, 14.3, 216., 4100., b''),\n",
              "       (b'Gentoo', b'Biscoe', 47.8, 15. , 215., 5650., b'MALE'),\n",
              "       (b'Gentoo', b'Biscoe', 48.2, 14.3, 210., 4600., b'FEMALE'),\n",
              "       (b'Gentoo', b'Biscoe', 50. , 15.3, 220., 5550., b'MALE'),\n",
              "       (b'Gentoo', b'Biscoe', 47.3, 15.3, 222., 5250., b'MALE'),\n",
              "       (b'Gentoo', b'Biscoe', 42.8, 14.2, 209., 4700., b'FEMALE'),\n",
              "       (b'Gentoo', b'Biscoe', 45.1, 14.5, 207., 5050., b'FEMALE'),\n",
              "       (b'Gentoo', b'Biscoe', 59.6, 17. , 230., 6050., b'MALE'),\n",
              "       (b'Gentoo', b'Biscoe', 49.1, 14.8, 220., 5150., b'FEMALE'),\n",
              "       (b'Gentoo', b'Biscoe', 48.4, 16.3, 220., 5400., b'MALE'),\n",
              "       (b'Gentoo', b'Biscoe', 42.6, 13.7, 213., 4950., b'FEMALE'),\n",
              "       (b'Gentoo', b'Biscoe', 44.4, 17.3, 219., 5250., b'MALE'),\n",
              "       (b'Gentoo', b'Biscoe', 44. , 13.6, 208., 4350., b'FEMALE'),\n",
              "       (b'Gentoo', b'Biscoe', 48.7, 15.7, 208., 5350., b'MALE'),\n",
              "       (b'Gentoo', b'Biscoe', 42.7, 13.7, 208., 3950., b'FEMALE'),\n",
              "       (b'Gentoo', b'Biscoe', 49.6, 16. , 225., 5700., b'MALE'),\n",
              "       (b'Gentoo', b'Biscoe', 45.3, 13.7, 210., 4300., b'FEMALE'),\n",
              "       (b'Gentoo', b'Biscoe', 49.6, 15. , 216., 4750., b'MALE'),\n",
              "       (b'Gentoo', b'Biscoe', 50.5, 15.9, 222., 5550., b'MALE'),\n",
              "       (b'Gentoo', b'Biscoe', 43.6, 13.9, 217., 4900., b'FEMALE'),\n",
              "       (b'Gentoo', b'Biscoe', 45.5, 13.9, 210., 4200., b'FEMALE'),\n",
              "       (b'Gentoo', b'Biscoe', 50.5, 15.9, 225., 5400., b'MALE'),\n",
              "       (b'Gentoo', b'Biscoe', 44.9, 13.3, 213., 5100., b'FEMALE'),\n",
              "       (b'Gentoo', b'Biscoe', 45.2, 15.8, 215., 5300., b'MALE'),\n",
              "       (b'Gentoo', b'Biscoe', 46.6, 14.2, 210., 4850., b'FEMALE'),\n",
              "       (b'Gentoo', b'Biscoe', 48.5, 14.1, 220., 5300., b'MALE'),\n",
              "       (b'Gentoo', b'Biscoe', 45.1, 14.4, 210., 4400., b'FEMALE'),\n",
              "       (b'Gentoo', b'Biscoe', 50.1, 15. , 225., 5000., b'MALE'),\n",
              "       (b'Gentoo', b'Biscoe', 46.5, 14.4, 217., 4900., b'FEMALE'),\n",
              "       (b'Gentoo', b'Biscoe', 45. , 15.4, 220., 5050., b'MALE'),\n",
              "       (b'Gentoo', b'Biscoe', 43.8, 13.9, 208., 4300., b'FEMALE'),\n",
              "       (b'Gentoo', b'Biscoe', 45.5, 15. , 220., 5000., b'MALE'),\n",
              "       (b'Gentoo', b'Biscoe', 43.2, 14.5, 208., 4450., b'FEMALE'),\n",
              "       (b'Gentoo', b'Biscoe', 50.4, 15.3, 224., 5550., b'MALE'),\n",
              "       (b'Gentoo', b'Biscoe', 45.3, 13.8, 208., 4200., b'FEMALE'),\n",
              "       (b'Gentoo', b'Biscoe', 46.2, 14.9, 221., 5300., b'MALE'),\n",
              "       (b'Gentoo', b'Biscoe', 45.7, 13.9, 214., 4400., b'FEMALE'),\n",
              "       (b'Gentoo', b'Biscoe', 54.3, 15.7, 231., 5650., b'MALE'),\n",
              "       (b'Gentoo', b'Biscoe', 45.8, 14.2, 219., 4700., b'FEMALE'),\n",
              "       (b'Gentoo', b'Biscoe', 49.8, 16.8, 230., 5700., b'MALE'),\n",
              "       (b'Gentoo', b'Biscoe', 46.2, 14.4, 214., 4650., b''),\n",
              "       (b'Gentoo', b'Biscoe', 49.5, 16.2, 229., 5800., b'MALE'),\n",
              "       (b'Gentoo', b'Biscoe', 43.5, 14.2, 220., 4700., b'FEMALE'),\n",
              "       (b'Gentoo', b'Biscoe', 50.7, 15. , 223., 5550., b'MALE'),\n",
              "       (b'Gentoo', b'Biscoe', 47.7, 15. , 216., 4750., b'FEMALE'),\n",
              "       (b'Gentoo', b'Biscoe', 46.4, 15.6, 221., 5000., b'MALE'),\n",
              "       (b'Gentoo', b'Biscoe', 48.2, 15.6, 221., 5100., b'MALE'),\n",
              "       (b'Gentoo', b'Biscoe', 46.5, 14.8, 217., 5200., b'FEMALE'),\n",
              "       (b'Gentoo', b'Biscoe', 46.4, 15. , 216., 4700., b'FEMALE'),\n",
              "       (b'Gentoo', b'Biscoe', 48.6, 16. , 230., 5800., b'MALE'),\n",
              "       (b'Gentoo', b'Biscoe', 47.5, 14.2, 209., 4600., b'FEMALE'),\n",
              "       (b'Gentoo', b'Biscoe', 51.1, 16.3, 220., 6000., b'MALE'),\n",
              "       (b'Gentoo', b'Biscoe', 45.2, 13.8, 215., 4750., b'FEMALE'),\n",
              "       (b'Gentoo', b'Biscoe', 45.2, 16.4, 223., 5950., b'MALE'),\n",
              "       (b'Gentoo', b'Biscoe', 49.1, 14.5, 212., 4625., b'FEMALE'),\n",
              "       (b'Gentoo', b'Biscoe', 52.5, 15.6, 221., 5450., b'MALE'),\n",
              "       (b'Gentoo', b'Biscoe', 47.4, 14.6, 212., 4725., b'FEMALE'),\n",
              "       (b'Gentoo', b'Biscoe', 50. , 15.9, 224., 5350., b'MALE'),\n",
              "       (b'Gentoo', b'Biscoe', 44.9, 13.8, 212., 4750., b'FEMALE'),\n",
              "       (b'Gentoo', b'Biscoe', 50.8, 17.3, 228., 5600., b'MALE'),\n",
              "       (b'Gentoo', b'Biscoe', 43.4, 14.4, 218., 4600., b'FEMALE'),\n",
              "       (b'Gentoo', b'Biscoe', 51.3, 14.2, 218., 5300., b'MALE'),\n",
              "       (b'Gentoo', b'Biscoe', 47.5, 14. , 212., 4875., b'FEMALE'),\n",
              "       (b'Gentoo', b'Biscoe', 52.1, 17. , 230., 5550., b'MALE'),\n",
              "       (b'Gentoo', b'Biscoe', 47.5, 15. , 218., 4950., b'FEMALE'),\n",
              "       (b'Gentoo', b'Biscoe', 52.2, 17.1, 228., 5400., b'MALE'),\n",
              "       (b'Gentoo', b'Biscoe', 45.5, 14.5, 212., 4750., b'FEMALE'),\n",
              "       (b'Gentoo', b'Biscoe', 49.5, 16.1, 224., 5650., b'MALE'),\n",
              "       (b'Gentoo', b'Biscoe', 44.5, 14.7, 214., 4850., b'FEMALE'),\n",
              "       (b'Gentoo', b'Biscoe', 50.8, 15.7, 226., 5200., b'MALE'),\n",
              "       (b'Gentoo', b'Biscoe', 49.4, 15.8, 216., 4925., b'MALE'),\n",
              "       (b'Gentoo', b'Biscoe', 46.9, 14.6, 222., 4875., b'FEMALE'),\n",
              "       (b'Gentoo', b'Biscoe', 48.4, 14.4, 203., 4625., b'FEMALE'),\n",
              "       (b'Gentoo', b'Biscoe', 51.1, 16.5, 225., 5250., b'MALE'),\n",
              "       (b'Gentoo', b'Biscoe', 48.5, 15. , 219., 4850., b'FEMALE'),\n",
              "       (b'Gentoo', b'Biscoe', 55.9, 17. , 228., 5600., b'MALE'),\n",
              "       (b'Gentoo', b'Biscoe', 47.2, 15.5, 215., 4975., b'FEMALE'),\n",
              "       (b'Gentoo', b'Biscoe', 49.1, 15. , 228., 5500., b'MALE'),\n",
              "       (b'Gentoo', b'Biscoe', 47.3, 13.8, 216., 4725., b''),\n",
              "       (b'Gentoo', b'Biscoe', 46.8, 16.1, 215., 5500., b'MALE'),\n",
              "       (b'Gentoo', b'Biscoe', 41.7, 14.7, 210., 4700., b'FEMALE'),\n",
              "       (b'Gentoo', b'Biscoe', 53.4, 15.8, 219., 5500., b'MALE'),\n",
              "       (b'Gentoo', b'Biscoe', 43.3, 14. , 208., 4575., b'FEMALE'),\n",
              "       (b'Gentoo', b'Biscoe', 48.1, 15.1, 209., 5500., b'MALE'),\n",
              "       (b'Gentoo', b'Biscoe', 50.5, 15.2, 216., 5000., b'FEMALE'),\n",
              "       (b'Gentoo', b'Biscoe', 49.8, 15.9, 229., 5950., b'MALE'),\n",
              "       (b'Gentoo', b'Biscoe', 43.5, 15.2, 213., 4650., b'FEMALE'),\n",
              "       (b'Gentoo', b'Biscoe', 51.5, 16.3, 230., 5500., b'MALE'),\n",
              "       (b'Gentoo', b'Biscoe', 46.2, 14.1, 217., 4375., b'FEMALE'),\n",
              "       (b'Gentoo', b'Biscoe', 55.1, 16. , 230., 5850., b'MALE'),\n",
              "       (b'Gentoo', b'Biscoe', 44.5, 15.7, 217., 4875., b''),\n",
              "       (b'Gentoo', b'Biscoe', 48.8, 16.2, 222., 6000., b'MALE'),\n",
              "       (b'Gentoo', b'Biscoe', 47.2, 13.7, 214., 4925., b'FEMALE'),\n",
              "       (b'Gentoo', b'Biscoe',  nan,  nan,  nan,   nan, b''),\n",
              "       (b'Gentoo', b'Biscoe', 46.8, 14.3, 215., 4850., b'FEMALE'),\n",
              "       (b'Gentoo', b'Biscoe', 50.4, 15.7, 222., 5750., b'MALE'),\n",
              "       (b'Gentoo', b'Biscoe', 45.2, 14.8, 212., 5200., b'FEMALE'),\n",
              "       (b'Gentoo', b'Biscoe', 49.9, 16.1, 213., 5400., b'MALE')],\n",
              "      dtype=[('species', 'S10'), ('island', 'S15'), ('bill_length_mm', '<f8'), ('bill_depth_mm', '<f8'), ('flipper_length_mm', '<f8'), ('body_mass_g', '<f8'), ('sex', 'S10')])"
            ]
          },
          "metadata": {},
          "execution_count": 4
        }
      ]
    },
    {
      "cell_type": "code",
      "source": [
        "focus_species = [b'Adelie', b'Gentoo']\n",
        "mask = np.isin(datos_pinguinos['species'], focus_species)"
      ],
      "metadata": {
        "id": "8XAqLlFibiQd"
      },
      "execution_count": 5,
      "outputs": []
    },
    {
      "cell_type": "code",
      "source": [
        "mask"
      ],
      "metadata": {
        "id": "07UI4_g0Q1sk",
        "outputId": "5e3eeee3-15b3-4ca5-e753-3fd703d467d1",
        "colab": {
          "base_uri": "https://localhost:8080/"
        }
      },
      "execution_count": 6,
      "outputs": [
        {
          "output_type": "execute_result",
          "data": {
            "text/plain": [
              "array([ True,  True,  True,  True,  True,  True,  True,  True,  True,\n",
              "        True,  True,  True,  True,  True,  True,  True,  True,  True,\n",
              "        True,  True,  True,  True,  True,  True,  True,  True,  True,\n",
              "        True,  True,  True,  True,  True,  True,  True,  True,  True,\n",
              "        True,  True,  True,  True,  True,  True,  True,  True,  True,\n",
              "        True,  True,  True,  True,  True,  True,  True,  True,  True,\n",
              "        True,  True,  True,  True,  True,  True,  True,  True,  True,\n",
              "        True,  True,  True,  True,  True,  True,  True,  True,  True,\n",
              "        True,  True,  True,  True,  True,  True,  True,  True,  True,\n",
              "        True,  True,  True,  True,  True,  True,  True,  True,  True,\n",
              "        True,  True,  True,  True,  True,  True,  True,  True,  True,\n",
              "        True,  True,  True,  True,  True,  True,  True,  True,  True,\n",
              "        True,  True,  True,  True,  True,  True,  True,  True,  True,\n",
              "        True,  True,  True,  True,  True,  True,  True,  True,  True,\n",
              "        True,  True,  True,  True,  True,  True,  True,  True,  True,\n",
              "        True,  True,  True,  True,  True,  True,  True,  True,  True,\n",
              "        True,  True,  True,  True,  True,  True,  True,  True, False,\n",
              "       False, False, False, False, False, False, False, False, False,\n",
              "       False, False, False, False, False, False, False, False, False,\n",
              "       False, False, False, False, False, False, False, False, False,\n",
              "       False, False, False, False, False, False, False, False, False,\n",
              "       False, False, False, False, False, False, False, False, False,\n",
              "       False, False, False, False, False, False, False, False, False,\n",
              "       False, False, False, False, False, False, False, False, False,\n",
              "       False, False, False, False,  True,  True,  True,  True,  True,\n",
              "        True,  True,  True,  True,  True,  True,  True,  True,  True,\n",
              "        True,  True,  True,  True,  True,  True,  True,  True,  True,\n",
              "        True,  True,  True,  True,  True,  True,  True,  True,  True,\n",
              "        True,  True,  True,  True,  True,  True,  True,  True,  True,\n",
              "        True,  True,  True,  True,  True,  True,  True,  True,  True,\n",
              "        True,  True,  True,  True,  True,  True,  True,  True,  True,\n",
              "        True,  True,  True,  True,  True,  True,  True,  True,  True,\n",
              "        True,  True,  True,  True,  True,  True,  True,  True,  True,\n",
              "        True,  True,  True,  True,  True,  True,  True,  True,  True,\n",
              "        True,  True,  True,  True,  True,  True,  True,  True,  True,\n",
              "        True,  True,  True,  True,  True,  True,  True,  True,  True,\n",
              "        True,  True,  True,  True,  True,  True,  True,  True,  True,\n",
              "        True,  True,  True,  True,  True,  True,  True,  True,  True,\n",
              "        True,  True])"
            ]
          },
          "metadata": {},
          "execution_count": 6
        }
      ]
    },
    {
      "cell_type": "code",
      "source": [
        "data = np.vstack([\n",
        "    datos_pinguinos[mask]['bill_length_mm'],\n",
        "    datos_pinguinos[mask]['bill_depth_mm']\n",
        "])"
      ],
      "metadata": {
        "id": "pi9Bni5NbnIX"
      },
      "execution_count": 7,
      "outputs": []
    },
    {
      "cell_type": "code",
      "source": [
        "print(data.shape)\n",
        "print(data[:, :10])"
      ],
      "metadata": {
        "id": "phz6UOIRRHOf",
        "outputId": "9c0bc7a8-c297-4f69-c8f9-836a3416398b",
        "colab": {
          "base_uri": "https://localhost:8080/"
        }
      },
      "execution_count": 8,
      "outputs": [
        {
          "output_type": "stream",
          "name": "stdout",
          "text": [
            "(2, 276)\n",
            "[[39.1 39.5 40.3  nan 36.7 39.3 38.9 39.2 34.1 42. ]\n",
            " [18.7 17.4 18.   nan 19.3 20.6 17.8 19.6 18.1 20.2]]\n"
          ]
        }
      ]
    },
    {
      "cell_type": "code",
      "source": [
        "labels = np.where(datos_pinguinos[mask]['species'] == b'Adelie', 1, -1)"
      ],
      "metadata": {
        "id": "VHAj0zqtbwWg"
      },
      "execution_count": 9,
      "outputs": []
    },
    {
      "cell_type": "code",
      "source": [
        "print(labels.shape)\n",
        "print(labels[:10])"
      ],
      "metadata": {
        "id": "5GIYyyqTRl1P",
        "outputId": "ae8086ca-563f-497d-cf08-4ed95fb75fbd",
        "colab": {
          "base_uri": "https://localhost:8080/"
        }
      },
      "execution_count": 12,
      "outputs": [
        {
          "output_type": "stream",
          "name": "stdout",
          "text": [
            "(276,)\n",
            "[1 1 1 1 1 1 1 1 1 1]\n"
          ]
        }
      ]
    },
    {
      "cell_type": "code",
      "source": [
        "nan_mask = ~np.isnan(data).any(axis=0)"
      ],
      "metadata": {
        "id": "T5LR4CwYb2IW"
      },
      "execution_count": 13,
      "outputs": []
    },
    {
      "cell_type": "code",
      "source": [
        "print(nan_mask)"
      ],
      "metadata": {
        "id": "1W01ZWSxSX9T",
        "outputId": "26d2e35c-6eee-4cef-8ea6-8d8f05322e14",
        "colab": {
          "base_uri": "https://localhost:8080/"
        }
      },
      "execution_count": 14,
      "outputs": [
        {
          "output_type": "stream",
          "name": "stdout",
          "text": [
            "[ True  True  True False  True  True  True  True  True  True  True  True\n",
            "  True  True  True  True  True  True  True  True  True  True  True  True\n",
            "  True  True  True  True  True  True  True  True  True  True  True  True\n",
            "  True  True  True  True  True  True  True  True  True  True  True  True\n",
            "  True  True  True  True  True  True  True  True  True  True  True  True\n",
            "  True  True  True  True  True  True  True  True  True  True  True  True\n",
            "  True  True  True  True  True  True  True  True  True  True  True  True\n",
            "  True  True  True  True  True  True  True  True  True  True  True  True\n",
            "  True  True  True  True  True  True  True  True  True  True  True  True\n",
            "  True  True  True  True  True  True  True  True  True  True  True  True\n",
            "  True  True  True  True  True  True  True  True  True  True  True  True\n",
            "  True  True  True  True  True  True  True  True  True  True  True  True\n",
            "  True  True  True  True  True  True  True  True  True  True  True  True\n",
            "  True  True  True  True  True  True  True  True  True  True  True  True\n",
            "  True  True  True  True  True  True  True  True  True  True  True  True\n",
            "  True  True  True  True  True  True  True  True  True  True  True  True\n",
            "  True  True  True  True  True  True  True  True  True  True  True  True\n",
            "  True  True  True  True  True  True  True  True  True  True  True  True\n",
            "  True  True  True  True  True  True  True  True  True  True  True  True\n",
            "  True  True  True  True  True  True  True  True  True  True  True  True\n",
            "  True  True  True  True  True  True  True  True  True  True  True  True\n",
            "  True  True  True  True  True  True  True  True  True  True  True  True\n",
            "  True  True  True  True  True  True  True False  True  True  True  True]\n"
          ]
        }
      ]
    },
    {
      "cell_type": "code",
      "source": [
        "data = data[:, nan_mask]\n",
        "labels = labels[nan_mask]"
      ],
      "metadata": {
        "id": "cS73zTr4b435"
      },
      "execution_count": 15,
      "outputs": []
    },
    {
      "cell_type": "code",
      "source": [
        "rng = np.random.default_rng(12345) # generador de numeros aleatorios"
      ],
      "metadata": {
        "id": "QL_V_61jcL3w"
      },
      "execution_count": 16,
      "outputs": []
    },
    {
      "cell_type": "code",
      "source": [
        "def train_perceptron(data, labels, max_iter=1000):\n",
        "    ''' ejecuta el algoritmo del perceptron para los datos y sus etiquetas\n",
        "\n",
        "    Parameters\n",
        "    ----------\n",
        "    data: List[List[Number]]\n",
        "        datos de entrenamiento, lista de vetcores de dimensión 2\n",
        "    labels: List[{-1, 1}]\n",
        "        etiqueta de los datos, la entrada i corresponde a la etiqueta del dato i\n",
        "    max_iter: int\n",
        "        número máximo de iteraciones del algoritmo\n",
        "\n",
        "    Returns\n",
        "    -------\n",
        "    Tuple(List[Number], Number)\n",
        "        tupla con los valores para los pesos y el sesgo después del \n",
        "        entrenamiento\n",
        "\n",
        "    Raises\n",
        "    ------\n",
        "    ValueError\n",
        "        si el valor de max_iter no es entero positivo\n",
        "    '''\n",
        "    if not isinstance(max_iter, int) or max_iter <= 0:\n",
        "        raise ValueError('max_iter debe ser entero positivo', max_iter)\n",
        "\n",
        "    # Inicialiazacion\n",
        "    gamma = rng.random()\n",
        "    weights = rng.random(2)\n",
        "    iter_ctn = 0\n",
        "    pred_labels = np.where(weights@data+gamma >= 0, 1, -1) \n",
        "    missclassified = labels != pred_labels\n",
        "    if np.all(~missclassified):\n",
        "        return (weights, gamma)\n",
        "    \n",
        "    # entrenamiento\n",
        "    while np.any(missclassified):\n",
        "        idx = rng.choice(np.where(missclassified == True)[0], 1)\n",
        "        l_star = labels[idx]\n",
        "        data_star = data[:, idx].flatten()\n",
        "        gamma = gamma + l_star\n",
        "        weights = weights + l_star*data_star\n",
        "        pred_labels = np.where(weights@data+gamma >= 0, 1, -1) \n",
        "        missclassified = labels != pred_labels\n",
        "\n",
        "        iter_ctn = iter_ctn + 1\n",
        "        if iter_ctn >= max_iter:\n",
        "            break # esta palabra hace que salgas de cualquier ciclo\n",
        "    \n",
        "    return (weights, gamma)"
      ],
      "metadata": {
        "id": "8w39bAjmcA9D"
      },
      "execution_count": 19,
      "outputs": []
    },
    {
      "cell_type": "code",
      "source": [
        "w, g = train_perceptron(data, labels)"
      ],
      "metadata": {
        "id": "0YUw4awHXy80"
      },
      "execution_count": 20,
      "outputs": []
    },
    {
      "cell_type": "code",
      "source": [
        "print('Pesos:', w)\n",
        "print('Sesgo:', g)"
      ],
      "metadata": {
        "id": "kI_p0rCDX-yz",
        "outputId": "8d706b72-f486-406b-ecec-b81de4ead9b3",
        "colab": {
          "base_uri": "https://localhost:8080/"
        }
      },
      "execution_count": 21,
      "outputs": [
        {
          "output_type": "stream",
          "name": "stdout",
          "text": [
            "Pesos: [-35.86718607  89.29830875]\n",
            "Sesgo: [2.39110955]\n"
          ]
        }
      ]
    },
    {
      "cell_type": "code",
      "source": [
        "pred_label = np.where(w@data+g >= 0, 1, -1) "
      ],
      "metadata": {
        "id": "anzaIlhtYKzM"
      },
      "execution_count": 22,
      "outputs": []
    },
    {
      "cell_type": "code",
      "source": [
        "pred_label == labels"
      ],
      "metadata": {
        "id": "ajLjp-sFYVkq",
        "outputId": "68732027-74dd-4ec9-92c1-ea3335655017",
        "colab": {
          "base_uri": "https://localhost:8080/"
        }
      },
      "execution_count": 24,
      "outputs": [
        {
          "output_type": "execute_result",
          "data": {
            "text/plain": [
              "array([ True,  True,  True,  True,  True,  True,  True,  True,  True,\n",
              "        True,  True,  True,  True,  True,  True,  True,  True,  True,\n",
              "        True,  True,  True,  True,  True,  True,  True,  True,  True,\n",
              "        True,  True,  True,  True,  True,  True,  True,  True,  True,\n",
              "        True,  True,  True,  True,  True,  True,  True,  True,  True,\n",
              "        True,  True,  True,  True,  True,  True,  True,  True,  True,\n",
              "        True,  True,  True,  True,  True,  True,  True,  True,  True,\n",
              "        True,  True,  True,  True,  True,  True,  True,  True,  True,\n",
              "        True,  True,  True,  True,  True,  True,  True,  True,  True,\n",
              "        True,  True,  True,  True,  True,  True,  True,  True,  True,\n",
              "        True,  True,  True,  True,  True,  True,  True,  True,  True,\n",
              "        True,  True,  True,  True,  True,  True,  True,  True,  True,\n",
              "        True,  True,  True,  True,  True,  True,  True,  True,  True,\n",
              "        True,  True,  True,  True,  True,  True,  True,  True,  True,\n",
              "        True,  True,  True,  True,  True,  True,  True,  True,  True,\n",
              "        True,  True,  True,  True,  True,  True,  True,  True,  True,\n",
              "        True,  True,  True,  True,  True,  True,  True,  True,  True,\n",
              "        True,  True,  True,  True,  True,  True,  True,  True,  True,\n",
              "        True,  True,  True,  True,  True,  True,  True,  True,  True,\n",
              "        True,  True,  True,  True,  True,  True,  True,  True,  True,\n",
              "        True,  True,  True,  True,  True,  True,  True,  True,  True,\n",
              "        True,  True,  True,  True,  True,  True,  True,  True,  True,\n",
              "        True,  True,  True,  True,  True,  True,  True,  True,  True,\n",
              "        True,  True,  True,  True,  True,  True,  True,  True,  True,\n",
              "        True,  True,  True,  True,  True,  True,  True,  True,  True,\n",
              "        True,  True,  True,  True,  True,  True,  True,  True,  True,\n",
              "        True,  True,  True,  True,  True,  True,  True,  True,  True,\n",
              "        True,  True,  True,  True,  True,  True,  True,  True,  True,\n",
              "        True,  True,  True,  True,  True,  True,  True,  True,  True,\n",
              "        True,  True,  True,  True,  True,  True,  True,  True,  True,\n",
              "        True,  True,  True,  True])"
            ]
          },
          "metadata": {},
          "execution_count": 24
        }
      ]
    },
    {
      "cell_type": "code",
      "source": [
        ""
      ],
      "metadata": {
        "id": "he2TdDvyYXxR"
      },
      "execution_count": null,
      "outputs": []
    }
  ]
}