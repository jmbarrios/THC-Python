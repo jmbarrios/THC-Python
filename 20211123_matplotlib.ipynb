{
  "nbformat": 4,
  "nbformat_minor": 0,
  "metadata": {
    "colab": {
      "name": "20211123-matplotlib.ipynb",
      "provenance": [],
      "authorship_tag": "ABX9TyPw8n+yVpK8jbePyZFie9Qq",
      "include_colab_link": true
    },
    "kernelspec": {
      "name": "python3",
      "display_name": "Python 3"
    },
    "language_info": {
      "name": "python"
    }
  },
  "cells": [
    {
      "cell_type": "markdown",
      "metadata": {
        "id": "view-in-github",
        "colab_type": "text"
      },
      "source": [
        "<a href=\"https://colab.research.google.com/github/jmbarrios/THC-Python/blob/main/20211123_matplotlib.ipynb\" target=\"_parent\"><img src=\"https://colab.research.google.com/assets/colab-badge.svg\" alt=\"Open In Colab\"/></a>"
      ]
    },
    {
      "cell_type": "markdown",
      "metadata": {
        "id": "GbdKNUlP31kJ"
      },
      "source": [
        "# Recordando la sucesión de Fibonacci \n",
        "\n",
        "Recordamos que la sucesión de Fibonacci está definidad como sigue. \n",
        "\n",
        "Sea $f_1 = f_2 = 0$ y \n",
        "$$\n",
        "    f_{n+1} = f_n + f_{n-1}.\n",
        "$$\n",
        "\n",
        "Ahora si se considera la sucesión de los cocientes de los elementos de la sucesión, esto es \n",
        "$$\n",
        "    F_n = \\frac{f_{n+1}}{f_n}\n",
        "$$\n",
        "\n",
        "se puede demostrar que \n",
        "$$\n",
        "    \\lim_{n\\to\\infty} F_n = φ\n",
        "$$"
      ]
    },
    {
      "cell_type": "code",
      "metadata": {
        "id": "eAUCcI6v5vHZ"
      },
      "source": [
        "import numpy as np\n",
        "\n",
        "def fibonacci(n):\n",
        "    \"\"\"regresa los primeros n elementos de la sucesión de Fibonacci\n",
        "    \n",
        "    Parameters\n",
        "    ----------\n",
        "    n: int número de valores de la sucesión de Fibonacci\n",
        "\n",
        "    Returns\n",
        "    -------\n",
        "    np.array primeros n elementos de la sucesión de Fibonacci\n",
        "    \"\"\"\n",
        "    fib = np.zeros(n+1, dtype=np.float128)\n",
        "    fib[1] = 1\n",
        "\n",
        "    for n in range(2, n+1):\n",
        "        fib[n] = fib[n-1] + fib[n-2]\n",
        "    \n",
        "    return fib[1:]"
      ],
      "execution_count": null,
      "outputs": []
    },
    {
      "cell_type": "code",
      "metadata": {
        "id": "BjPCnl7XGIns"
      },
      "source": [
        ""
      ],
      "execution_count": null,
      "outputs": []
    },
    {
      "cell_type": "markdown",
      "metadata": {
        "id": "KI9dELkRHFxe"
      },
      "source": [
        "# Matplolib\n",
        "\n",
        "La principal biblioteca para graficar en Python es [`matplotlib`](https://matplotlib.org/). "
      ]
    },
    {
      "cell_type": "code",
      "metadata": {
        "id": "yuhgmobMJBO3"
      },
      "source": [
        ""
      ],
      "execution_count": null,
      "outputs": []
    }
  ]
}