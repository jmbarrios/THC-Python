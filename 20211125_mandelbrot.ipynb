{
  "nbformat": 4,
  "nbformat_minor": 0,
  "metadata": {
    "colab": {
      "name": "20211125-mandelbrot.ipynb",
      "provenance": [],
      "authorship_tag": "ABX9TyOHb2f/93SoA1hdn/X/lNH8",
      "include_colab_link": true
    },
    "kernelspec": {
      "name": "python3",
      "display_name": "Python 3"
    },
    "language_info": {
      "name": "python"
    }
  },
  "cells": [
    {
      "cell_type": "markdown",
      "metadata": {
        "id": "view-in-github",
        "colab_type": "text"
      },
      "source": [
        "<a href=\"https://colab.research.google.com/github/jmbarrios/THC-Python/blob/main/20211125_mandelbrot.ipynb\" target=\"_parent\"><img src=\"https://colab.research.google.com/assets/colab-badge.svg\" alt=\"Open In Colab\"/></a>"
      ]
    },
    {
      "cell_type": "markdown",
      "metadata": {
        "id": "or5TiZ8DtHlg"
      },
      "source": [
        "# El conjunto de Mandelbrot\n",
        "\n",
        "Definimos $f_c(z) = z^2 + c$ para $z, c \\in \\mathbb{C}$.\n",
        "\n",
        "El conjunto de Mandelbrot es el conjunto aquellos números complejos $c$ tales que la sucesión\n",
        "\n",
        "$$\n",
        "f_c(0), f_c(f_c(0)), f_c(f_c(f_c(0))),\\ldots\n",
        "$$\n",
        "\n",
        "es acotada. Es decir si $z_0=0$ y $z_{n+1} = z_n^2 + c$ se tiene que \n",
        "\n",
        "$$\n",
        "||z_n|| <= M \\quad \\textrm{para toda }n\\textrm{ en }\\mathbb{N}\n",
        "$$\n",
        "y para alguna $M\\in\\mathbb{R}$.\n",
        "\n",
        "## Una propiedad importante\n",
        "\n",
        "- El conjunto de Mandelbrot está acotado, en si se tiene que para todo $c$ en el conjunto $|| c || \\leq 2$."
      ]
    },
    {
      "cell_type": "code",
      "metadata": {
        "id": "_4BFSR0mvAOx"
      },
      "source": [
        "# Después de usar San Google\n",
        "import numpy as np\n",
        "import matplotlib.pyplot as plt\n",
        "\n",
        "\n",
        "def mandelbrot(height, width, x=-0.5, y=0, zoom=1, max_iterations=100):\n",
        "    x_width = 1.5\n",
        "    y_height = 1.5*height/width\n",
        "    x_from = x - x_width/zoom\n",
        "    x_to = x + x_width/zoom\n",
        "    y_from = y - y_height/zoom\n",
        "    y_to = y + y_height/zoom\n",
        "\n",
        "    x = np.linspace(x_from, x_to, width).reshape((1, width))\n",
        "    y = np.linspace(y_from, y_to, height).reshape((height, 1))\n",
        "    c = x + 1j * y\n",
        "\n",
        "    z = np.zeros(c.shape, dtype=np.complex128)\n",
        "    \n",
        "    div_time = np.zeros(z.shape, dtype=int)\n",
        "    \n",
        "    m = np.full(c.shape, True, dtype=bool)\n",
        "\n",
        "    for i in range(max_iterations):\n",
        "        z[m] = z[m]**2 + c[m]\n",
        "\n",
        "        diverged = np.greater(np.abs(z), 2, out=np.full(c.shape, False), where=m) \n",
        "\n",
        "        div_time[diverged] = i      \n",
        "        m[np.abs(z) > 2] = False    \n",
        "    return div_time"
      ],
      "execution_count": null,
      "outputs": []
    },
    {
      "cell_type": "code",
      "metadata": {
        "id": "IoIjUjByv9kF"
      },
      "source": [
        "plt.figure(figsize = (10, 10))\n",
        "plt.imshow(mandelbrot(1000, 1000), cmap='plasma')"
      ],
      "execution_count": null,
      "outputs": []
    },
    {
      "cell_type": "code",
      "metadata": {
        "id": "lhZK3Lg8wtkZ"
      },
      "source": [
        ""
      ],
      "execution_count": null,
      "outputs": []
    }
  ]
}