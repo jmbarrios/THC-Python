{
  "nbformat": 4,
  "nbformat_minor": 0,
  "metadata": {
    "colab": {
      "name": "20211026-comprension_y_funciones.ipynb",
      "provenance": [],
      "authorship_tag": "ABX9TyOb8IDNRW/IZF0hCKvZhSUo",
      "include_colab_link": true
    },
    "kernelspec": {
      "name": "python3",
      "display_name": "Python 3"
    },
    "language_info": {
      "name": "python"
    }
  },
  "cells": [
    {
      "cell_type": "markdown",
      "metadata": {
        "id": "view-in-github",
        "colab_type": "text"
      },
      "source": [
        "<a href=\"https://colab.research.google.com/github/jmbarrios/THC-Python/blob/main/20211026_comprension_y_funciones.ipynb\" target=\"_parent\"><img src=\"https://colab.research.google.com/assets/colab-badge.svg\" alt=\"Open In Colab\"/></a>"
      ]
    },
    {
      "cell_type": "markdown",
      "metadata": {
        "id": "tJAmDh1mcamV"
      },
      "source": [
        "# Bibliotecas"
      ]
    },
    {
      "cell_type": "code",
      "metadata": {
        "id": "ngEakxlzcz8k"
      },
      "source": [
        "!pip install rich"
      ],
      "execution_count": null,
      "outputs": []
    },
    {
      "cell_type": "code",
      "metadata": {
        "id": "HGhB8SKac2xK"
      },
      "source": [
        "from rich import (print,\n",
        "                  inspect)\n",
        "import pickle"
      ],
      "execution_count": null,
      "outputs": []
    },
    {
      "cell_type": "markdown",
      "metadata": {
        "id": "DCbQT9ybc565"
      },
      "source": [
        "# Cargar archivo de datos\n",
        "\n",
        "Cargaremos un archivo de datos llamado `penguin_data.pkl` que está en nuesto Google Drive en la carpeta `ColabData`."
      ]
    },
    {
      "cell_type": "code",
      "metadata": {
        "id": "i_ySOcVmdQVX"
      },
      "source": [
        "from google.colab import drive\n",
        "drive.mount('/gdrive')"
      ],
      "execution_count": null,
      "outputs": []
    },
    {
      "cell_type": "code",
      "metadata": {
        "id": "gYdFDxf8dQVZ"
      },
      "source": [
        "with open('/gdrive/My Drive/ColabData/penguin_data.pkl', 'rb') as f:\n",
        "    my_data = pickle.load(f)"
      ],
      "execution_count": null,
      "outputs": []
    },
    {
      "cell_type": "code",
      "metadata": {
        "id": "5GtCyP74d4XJ"
      },
      "source": [
        "print('El numero de records es:', len(my_data))\n",
        "print('*'*80)\n",
        "print(my_data[:6])"
      ],
      "execution_count": null,
      "outputs": []
    },
    {
      "cell_type": "markdown",
      "metadata": {
        "id": "x2T_RJAEd9H0"
      },
      "source": [
        "# Comprensión de listas\n",
        "\n",
        "Las comprensiones de listas ofrecen una manera concisa de crear listas. Sus usos comunes son para hacer nuevas listas donde cada elemento es el resultado de algunas operaciones aplicadas a cada miembro de otra secuencia o iterable, o para crear una subsecuencia de esos elementos para satisfacer una condición determinada."
      ]
    },
    {
      "cell_type": "markdown",
      "metadata": {
        "id": "CX6iWu51fRED"
      },
      "source": [
        "- Ver que especies de pingüinos fueron medidos"
      ]
    },
    {
      "cell_type": "code",
      "metadata": {
        "id": "qCNRMx5Gf_Ac"
      },
      "source": [
        ""
      ],
      "execution_count": null,
      "outputs": []
    },
    {
      "cell_type": "markdown",
      "metadata": {
        "id": "ph8H4py3gpTs"
      },
      "source": [
        "- Hacer distintos conjuntos de datos para cada especie"
      ]
    },
    {
      "cell_type": "code",
      "metadata": {
        "id": "r-9Aq_l9g6Nz"
      },
      "source": [
        ""
      ],
      "execution_count": null,
      "outputs": []
    },
    {
      "cell_type": "markdown",
      "metadata": {
        "id": "hKxF8DP0g_wv"
      },
      "source": [
        "## Algunas medidas estadísticas\n",
        "\n",
        "Dado un conjunto de mediciones $\\{x_1, x_2,\\ldots x_n\\}$ podemos calcular las siguientes medidas muestrales estadísticas.\n",
        "\n",
        "- **Media**\n",
        "\n",
        "$$\n",
        "\\bar x = \\frac{1}{n} \\sum_{i=1}^n x_i\n",
        "$$\n",
        "\n",
        "- **Varianza**\n",
        "\n",
        "$$\n",
        "\\bar \\sigma^2 = \\frac{1}{n-1}\\sum_{i=1}^n (x_i - \\bar x)^2\n",
        "$$\n",
        "\n",
        "- **Mediana**\n",
        "\n",
        "- Si $n$ es impar la mediana es el valor $\\frac{n+1}{2}$ de los datos ordenados. \n",
        "- Si $n$ es par es el promedio de los datos en las posiciones $\\frac{n}{2}$ y $\\big(\\frac{n}{2}\\big)+1$."
      ]
    },
    {
      "cell_type": "code",
      "metadata": {
        "id": "YIaaNOS5u7Be"
      },
      "source": [
        ""
      ],
      "execution_count": null,
      "outputs": []
    },
    {
      "cell_type": "markdown",
      "metadata": {
        "id": "xSx_G9n-u7lM"
      },
      "source": [
        "# Funciones"
      ]
    },
    {
      "cell_type": "markdown",
      "metadata": {
        "id": "eyqz15BxvkT1"
      },
      "source": [
        "Hacer las funciones estadísticas que funcionen para cualquier conjunto de datos y medida "
      ]
    },
    {
      "cell_type": "code",
      "metadata": {
        "id": "fP4nLogBwI_v"
      },
      "source": [
        ""
      ],
      "execution_count": null,
      "outputs": []
    }
  ]
}