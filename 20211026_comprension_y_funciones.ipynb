{
  "nbformat": 4,
  "nbformat_minor": 0,
  "metadata": {
    "colab": {
      "name": "20211026-comprension_y_funciones.ipynb",
      "provenance": [],
      "authorship_tag": "ABX9TyOwbn+D93fW1c3yay8dd8aK",
      "include_colab_link": true
    },
    "kernelspec": {
      "name": "python3",
      "display_name": "Python 3"
    },
    "language_info": {
      "name": "python"
    }
  },
  "cells": [
    {
      "cell_type": "markdown",
      "metadata": {
        "id": "view-in-github",
        "colab_type": "text"
      },
      "source": [
        "<a href=\"https://colab.research.google.com/github/jmbarrios/THC-Python/blob/main/20211026_comprension_y_funciones.ipynb\" target=\"_parent\"><img src=\"https://colab.research.google.com/assets/colab-badge.svg\" alt=\"Open In Colab\"/></a>"
      ]
    },
    {
      "cell_type": "markdown",
      "metadata": {
        "id": "tJAmDh1mcamV"
      },
      "source": [
        "# Bibliotecas"
      ]
    },
    {
      "cell_type": "code",
      "metadata": {
        "id": "ngEakxlzcz8k",
        "outputId": "eddb9178-40d6-43da-cb6e-f9ad666a491a",
        "colab": {
          "base_uri": "https://localhost:8080/"
        }
      },
      "source": [
        "!pip install rich"
      ],
      "execution_count": 1,
      "outputs": [
        {
          "output_type": "stream",
          "name": "stdout",
          "text": [
            "Collecting rich\n",
            "  Downloading rich-10.12.0-py3-none-any.whl (212 kB)\n",
            "\u001b[?25l\r\u001b[K     |█▌                              | 10 kB 13.3 MB/s eta 0:00:01\r\u001b[K     |███                             | 20 kB 12.6 MB/s eta 0:00:01\r\u001b[K     |████▋                           | 30 kB 8.6 MB/s eta 0:00:01\r\u001b[K     |██████▏                         | 40 kB 7.8 MB/s eta 0:00:01\r\u001b[K     |███████▊                        | 51 kB 5.5 MB/s eta 0:00:01\r\u001b[K     |█████████▎                      | 61 kB 5.2 MB/s eta 0:00:01\r\u001b[K     |██████████▉                     | 71 kB 4.6 MB/s eta 0:00:01\r\u001b[K     |████████████▍                   | 81 kB 5.1 MB/s eta 0:00:01\r\u001b[K     |██████████████                  | 92 kB 5.2 MB/s eta 0:00:01\r\u001b[K     |███████████████▌                | 102 kB 5.1 MB/s eta 0:00:01\r\u001b[K     |█████████████████               | 112 kB 5.1 MB/s eta 0:00:01\r\u001b[K     |██████████████████▌             | 122 kB 5.1 MB/s eta 0:00:01\r\u001b[K     |████████████████████            | 133 kB 5.1 MB/s eta 0:00:01\r\u001b[K     |█████████████████████▋          | 143 kB 5.1 MB/s eta 0:00:01\r\u001b[K     |███████████████████████▏        | 153 kB 5.1 MB/s eta 0:00:01\r\u001b[K     |████████████████████████▊       | 163 kB 5.1 MB/s eta 0:00:01\r\u001b[K     |██████████████████████████▎     | 174 kB 5.1 MB/s eta 0:00:01\r\u001b[K     |███████████████████████████▉    | 184 kB 5.1 MB/s eta 0:00:01\r\u001b[K     |█████████████████████████████▍  | 194 kB 5.1 MB/s eta 0:00:01\r\u001b[K     |███████████████████████████████ | 204 kB 5.1 MB/s eta 0:00:01\r\u001b[K     |████████████████████████████████| 212 kB 5.1 MB/s \n",
            "\u001b[?25hRequirement already satisfied: pygments<3.0.0,>=2.6.0 in /usr/local/lib/python3.7/dist-packages (from rich) (2.6.1)\n",
            "Collecting commonmark<0.10.0,>=0.9.0\n",
            "  Downloading commonmark-0.9.1-py2.py3-none-any.whl (51 kB)\n",
            "\u001b[K     |████████████████████████████████| 51 kB 2.6 MB/s \n",
            "\u001b[?25hRequirement already satisfied: typing-extensions<4.0.0,>=3.7.4 in /usr/local/lib/python3.7/dist-packages (from rich) (3.7.4.3)\n",
            "Collecting colorama<0.5.0,>=0.4.0\n",
            "  Downloading colorama-0.4.4-py2.py3-none-any.whl (16 kB)\n",
            "Installing collected packages: commonmark, colorama, rich\n",
            "Successfully installed colorama-0.4.4 commonmark-0.9.1 rich-10.12.0\n"
          ]
        }
      ]
    },
    {
      "cell_type": "code",
      "metadata": {
        "id": "HGhB8SKac2xK"
      },
      "source": [
        "from rich import (print,\n",
        "                  inspect)\n",
        "import pickle"
      ],
      "execution_count": 2,
      "outputs": []
    },
    {
      "cell_type": "markdown",
      "metadata": {
        "id": "DCbQT9ybc565"
      },
      "source": [
        "# Cargar archivo de datos\n",
        "\n",
        "Cargaremos un archivo de datos llamado `penguin_data.pkl` que está en nuesto Google Drive en la carpeta `ColabData`."
      ]
    },
    {
      "cell_type": "code",
      "metadata": {
        "id": "i_ySOcVmdQVX",
        "outputId": "6dd2252a-ff39-4acf-c399-91e299f929e2",
        "colab": {
          "base_uri": "https://localhost:8080/"
        }
      },
      "source": [
        "from google.colab import drive\n",
        "drive.mount('/gdrive')"
      ],
      "execution_count": 3,
      "outputs": [
        {
          "output_type": "stream",
          "name": "stdout",
          "text": [
            "Mounted at /gdrive\n"
          ]
        }
      ]
    },
    {
      "cell_type": "code",
      "metadata": {
        "id": "gYdFDxf8dQVZ"
      },
      "source": [
        "with open('/gdrive/My Drive/ColabData/penguin_data.pkl', 'rb') as f:\n",
        "    my_data = pickle.load(f)"
      ],
      "execution_count": 4,
      "outputs": []
    },
    {
      "cell_type": "code",
      "metadata": {
        "id": "5GtCyP74d4XJ",
        "outputId": "b38d1122-92fc-450d-e384-c807a6e518fd",
        "colab": {
          "base_uri": "https://localhost:8080/",
          "height": 1000
        }
      },
      "source": [
        "print('El numero de records es:', len(my_data))\n",
        "print('-'*80)\n",
        "print(my_data[:6])"
      ],
      "execution_count": 6,
      "outputs": [
        {
          "output_type": "display_data",
          "data": {
            "text/html": [
              "<pre style=\"white-space:pre;overflow-x:auto;line-height:normal;font-family:Menlo,'DejaVu Sans Mono',consolas,'Courier New',monospace\">El numero de records es: <span style=\"color: #008080; text-decoration-color: #008080; font-weight: bold\">344</span>\n",
              "</pre>\n"
            ],
            "text/plain": [
              "El numero de records es: \u001b[1;36m344\u001b[0m\n"
            ]
          },
          "metadata": {}
        },
        {
          "output_type": "display_data",
          "data": {
            "text/html": [
              "<pre style=\"white-space:pre;overflow-x:auto;line-height:normal;font-family:Menlo,'DejaVu Sans Mono',consolas,'Courier New',monospace\">--------------------------------------------------------------------------------\n",
              "</pre>\n"
            ],
            "text/plain": [
              "--------------------------------------------------------------------------------\n"
            ]
          },
          "metadata": {}
        },
        {
          "output_type": "display_data",
          "data": {
            "text/html": [
              "<pre style=\"white-space:pre;overflow-x:auto;line-height:normal;font-family:Menlo,'DejaVu Sans Mono',consolas,'Courier New',monospace\"><span style=\"font-weight: bold\">[</span>\n",
              "    <span style=\"font-weight: bold\">{</span>\n",
              "        <span style=\"color: #008000; text-decoration-color: #008000\">'species'</span>: <span style=\"color: #008000; text-decoration-color: #008000\">'Adelie'</span>,\n",
              "        <span style=\"color: #008000; text-decoration-color: #008000\">'island'</span>: <span style=\"color: #008000; text-decoration-color: #008000\">'Torgersen'</span>,\n",
              "        <span style=\"color: #008000; text-decoration-color: #008000\">'bill_length_mm'</span>: <span style=\"color: #008080; text-decoration-color: #008080; font-weight: bold\">39.1</span>,\n",
              "        <span style=\"color: #008000; text-decoration-color: #008000\">'bill_depth_mm'</span>: <span style=\"color: #008080; text-decoration-color: #008080; font-weight: bold\">18.7</span>,\n",
              "        <span style=\"color: #008000; text-decoration-color: #008000\">'flipper_length_mm'</span>: <span style=\"color: #008080; text-decoration-color: #008080; font-weight: bold\">181.0</span>,\n",
              "        <span style=\"color: #008000; text-decoration-color: #008000\">'body_mass_g'</span>: <span style=\"color: #008080; text-decoration-color: #008080; font-weight: bold\">3750.0</span>,\n",
              "        <span style=\"color: #008000; text-decoration-color: #008000\">'sex'</span>: <span style=\"color: #008000; text-decoration-color: #008000\">'Male'</span>\n",
              "    <span style=\"font-weight: bold\">}</span>,\n",
              "    <span style=\"font-weight: bold\">{</span>\n",
              "        <span style=\"color: #008000; text-decoration-color: #008000\">'species'</span>: <span style=\"color: #008000; text-decoration-color: #008000\">'Adelie'</span>,\n",
              "        <span style=\"color: #008000; text-decoration-color: #008000\">'island'</span>: <span style=\"color: #008000; text-decoration-color: #008000\">'Torgersen'</span>,\n",
              "        <span style=\"color: #008000; text-decoration-color: #008000\">'bill_length_mm'</span>: <span style=\"color: #008080; text-decoration-color: #008080; font-weight: bold\">39.5</span>,\n",
              "        <span style=\"color: #008000; text-decoration-color: #008000\">'bill_depth_mm'</span>: <span style=\"color: #008080; text-decoration-color: #008080; font-weight: bold\">17.4</span>,\n",
              "        <span style=\"color: #008000; text-decoration-color: #008000\">'flipper_length_mm'</span>: <span style=\"color: #008080; text-decoration-color: #008080; font-weight: bold\">186.0</span>,\n",
              "        <span style=\"color: #008000; text-decoration-color: #008000\">'body_mass_g'</span>: <span style=\"color: #008080; text-decoration-color: #008080; font-weight: bold\">3800.0</span>,\n",
              "        <span style=\"color: #008000; text-decoration-color: #008000\">'sex'</span>: <span style=\"color: #008000; text-decoration-color: #008000\">'Female'</span>\n",
              "    <span style=\"font-weight: bold\">}</span>,\n",
              "    <span style=\"font-weight: bold\">{</span>\n",
              "        <span style=\"color: #008000; text-decoration-color: #008000\">'species'</span>: <span style=\"color: #008000; text-decoration-color: #008000\">'Adelie'</span>,\n",
              "        <span style=\"color: #008000; text-decoration-color: #008000\">'island'</span>: <span style=\"color: #008000; text-decoration-color: #008000\">'Torgersen'</span>,\n",
              "        <span style=\"color: #008000; text-decoration-color: #008000\">'bill_length_mm'</span>: <span style=\"color: #008080; text-decoration-color: #008080; font-weight: bold\">40.3</span>,\n",
              "        <span style=\"color: #008000; text-decoration-color: #008000\">'bill_depth_mm'</span>: <span style=\"color: #008080; text-decoration-color: #008080; font-weight: bold\">18.0</span>,\n",
              "        <span style=\"color: #008000; text-decoration-color: #008000\">'flipper_length_mm'</span>: <span style=\"color: #008080; text-decoration-color: #008080; font-weight: bold\">195.0</span>,\n",
              "        <span style=\"color: #008000; text-decoration-color: #008000\">'body_mass_g'</span>: <span style=\"color: #008080; text-decoration-color: #008080; font-weight: bold\">3250.0</span>,\n",
              "        <span style=\"color: #008000; text-decoration-color: #008000\">'sex'</span>: <span style=\"color: #008000; text-decoration-color: #008000\">'Female'</span>\n",
              "    <span style=\"font-weight: bold\">}</span>,\n",
              "    <span style=\"font-weight: bold\">{</span>\n",
              "        <span style=\"color: #008000; text-decoration-color: #008000\">'species'</span>: <span style=\"color: #008000; text-decoration-color: #008000\">'Adelie'</span>,\n",
              "        <span style=\"color: #008000; text-decoration-color: #008000\">'island'</span>: <span style=\"color: #008000; text-decoration-color: #008000\">'Torgersen'</span>,\n",
              "        <span style=\"color: #008000; text-decoration-color: #008000\">'bill_length_mm'</span>: <span style=\"color: #800080; text-decoration-color: #800080; font-style: italic\">None</span>,\n",
              "        <span style=\"color: #008000; text-decoration-color: #008000\">'bill_depth_mm'</span>: <span style=\"color: #800080; text-decoration-color: #800080; font-style: italic\">None</span>,\n",
              "        <span style=\"color: #008000; text-decoration-color: #008000\">'flipper_length_mm'</span>: <span style=\"color: #800080; text-decoration-color: #800080; font-style: italic\">None</span>,\n",
              "        <span style=\"color: #008000; text-decoration-color: #008000\">'body_mass_g'</span>: <span style=\"color: #800080; text-decoration-color: #800080; font-style: italic\">None</span>,\n",
              "        <span style=\"color: #008000; text-decoration-color: #008000\">'sex'</span>: <span style=\"color: #800080; text-decoration-color: #800080; font-style: italic\">None</span>\n",
              "    <span style=\"font-weight: bold\">}</span>,\n",
              "    <span style=\"font-weight: bold\">{</span>\n",
              "        <span style=\"color: #008000; text-decoration-color: #008000\">'species'</span>: <span style=\"color: #008000; text-decoration-color: #008000\">'Adelie'</span>,\n",
              "        <span style=\"color: #008000; text-decoration-color: #008000\">'island'</span>: <span style=\"color: #008000; text-decoration-color: #008000\">'Torgersen'</span>,\n",
              "        <span style=\"color: #008000; text-decoration-color: #008000\">'bill_length_mm'</span>: <span style=\"color: #008080; text-decoration-color: #008080; font-weight: bold\">36.7</span>,\n",
              "        <span style=\"color: #008000; text-decoration-color: #008000\">'bill_depth_mm'</span>: <span style=\"color: #008080; text-decoration-color: #008080; font-weight: bold\">19.3</span>,\n",
              "        <span style=\"color: #008000; text-decoration-color: #008000\">'flipper_length_mm'</span>: <span style=\"color: #008080; text-decoration-color: #008080; font-weight: bold\">193.0</span>,\n",
              "        <span style=\"color: #008000; text-decoration-color: #008000\">'body_mass_g'</span>: <span style=\"color: #008080; text-decoration-color: #008080; font-weight: bold\">3450.0</span>,\n",
              "        <span style=\"color: #008000; text-decoration-color: #008000\">'sex'</span>: <span style=\"color: #008000; text-decoration-color: #008000\">'Female'</span>\n",
              "    <span style=\"font-weight: bold\">}</span>,\n",
              "    <span style=\"font-weight: bold\">{</span>\n",
              "        <span style=\"color: #008000; text-decoration-color: #008000\">'species'</span>: <span style=\"color: #008000; text-decoration-color: #008000\">'Adelie'</span>,\n",
              "        <span style=\"color: #008000; text-decoration-color: #008000\">'island'</span>: <span style=\"color: #008000; text-decoration-color: #008000\">'Torgersen'</span>,\n",
              "        <span style=\"color: #008000; text-decoration-color: #008000\">'bill_length_mm'</span>: <span style=\"color: #008080; text-decoration-color: #008080; font-weight: bold\">39.3</span>,\n",
              "        <span style=\"color: #008000; text-decoration-color: #008000\">'bill_depth_mm'</span>: <span style=\"color: #008080; text-decoration-color: #008080; font-weight: bold\">20.6</span>,\n",
              "        <span style=\"color: #008000; text-decoration-color: #008000\">'flipper_length_mm'</span>: <span style=\"color: #008080; text-decoration-color: #008080; font-weight: bold\">190.0</span>,\n",
              "        <span style=\"color: #008000; text-decoration-color: #008000\">'body_mass_g'</span>: <span style=\"color: #008080; text-decoration-color: #008080; font-weight: bold\">3650.0</span>,\n",
              "        <span style=\"color: #008000; text-decoration-color: #008000\">'sex'</span>: <span style=\"color: #008000; text-decoration-color: #008000\">'Male'</span>\n",
              "    <span style=\"font-weight: bold\">}</span>\n",
              "<span style=\"font-weight: bold\">]</span>\n",
              "</pre>\n"
            ],
            "text/plain": [
              "\u001b[1m[\u001b[0m\n",
              "    \u001b[1m{\u001b[0m\n",
              "        \u001b[32m'species'\u001b[0m: \u001b[32m'Adelie'\u001b[0m,\n",
              "        \u001b[32m'island'\u001b[0m: \u001b[32m'Torgersen'\u001b[0m,\n",
              "        \u001b[32m'bill_length_mm'\u001b[0m: \u001b[1;36m39.1\u001b[0m,\n",
              "        \u001b[32m'bill_depth_mm'\u001b[0m: \u001b[1;36m18.7\u001b[0m,\n",
              "        \u001b[32m'flipper_length_mm'\u001b[0m: \u001b[1;36m181.0\u001b[0m,\n",
              "        \u001b[32m'body_mass_g'\u001b[0m: \u001b[1;36m3750.0\u001b[0m,\n",
              "        \u001b[32m'sex'\u001b[0m: \u001b[32m'Male'\u001b[0m\n",
              "    \u001b[1m}\u001b[0m,\n",
              "    \u001b[1m{\u001b[0m\n",
              "        \u001b[32m'species'\u001b[0m: \u001b[32m'Adelie'\u001b[0m,\n",
              "        \u001b[32m'island'\u001b[0m: \u001b[32m'Torgersen'\u001b[0m,\n",
              "        \u001b[32m'bill_length_mm'\u001b[0m: \u001b[1;36m39.5\u001b[0m,\n",
              "        \u001b[32m'bill_depth_mm'\u001b[0m: \u001b[1;36m17.4\u001b[0m,\n",
              "        \u001b[32m'flipper_length_mm'\u001b[0m: \u001b[1;36m186.0\u001b[0m,\n",
              "        \u001b[32m'body_mass_g'\u001b[0m: \u001b[1;36m3800.0\u001b[0m,\n",
              "        \u001b[32m'sex'\u001b[0m: \u001b[32m'Female'\u001b[0m\n",
              "    \u001b[1m}\u001b[0m,\n",
              "    \u001b[1m{\u001b[0m\n",
              "        \u001b[32m'species'\u001b[0m: \u001b[32m'Adelie'\u001b[0m,\n",
              "        \u001b[32m'island'\u001b[0m: \u001b[32m'Torgersen'\u001b[0m,\n",
              "        \u001b[32m'bill_length_mm'\u001b[0m: \u001b[1;36m40.3\u001b[0m,\n",
              "        \u001b[32m'bill_depth_mm'\u001b[0m: \u001b[1;36m18.0\u001b[0m,\n",
              "        \u001b[32m'flipper_length_mm'\u001b[0m: \u001b[1;36m195.0\u001b[0m,\n",
              "        \u001b[32m'body_mass_g'\u001b[0m: \u001b[1;36m3250.0\u001b[0m,\n",
              "        \u001b[32m'sex'\u001b[0m: \u001b[32m'Female'\u001b[0m\n",
              "    \u001b[1m}\u001b[0m,\n",
              "    \u001b[1m{\u001b[0m\n",
              "        \u001b[32m'species'\u001b[0m: \u001b[32m'Adelie'\u001b[0m,\n",
              "        \u001b[32m'island'\u001b[0m: \u001b[32m'Torgersen'\u001b[0m,\n",
              "        \u001b[32m'bill_length_mm'\u001b[0m: \u001b[3;35mNone\u001b[0m,\n",
              "        \u001b[32m'bill_depth_mm'\u001b[0m: \u001b[3;35mNone\u001b[0m,\n",
              "        \u001b[32m'flipper_length_mm'\u001b[0m: \u001b[3;35mNone\u001b[0m,\n",
              "        \u001b[32m'body_mass_g'\u001b[0m: \u001b[3;35mNone\u001b[0m,\n",
              "        \u001b[32m'sex'\u001b[0m: \u001b[3;35mNone\u001b[0m\n",
              "    \u001b[1m}\u001b[0m,\n",
              "    \u001b[1m{\u001b[0m\n",
              "        \u001b[32m'species'\u001b[0m: \u001b[32m'Adelie'\u001b[0m,\n",
              "        \u001b[32m'island'\u001b[0m: \u001b[32m'Torgersen'\u001b[0m,\n",
              "        \u001b[32m'bill_length_mm'\u001b[0m: \u001b[1;36m36.7\u001b[0m,\n",
              "        \u001b[32m'bill_depth_mm'\u001b[0m: \u001b[1;36m19.3\u001b[0m,\n",
              "        \u001b[32m'flipper_length_mm'\u001b[0m: \u001b[1;36m193.0\u001b[0m,\n",
              "        \u001b[32m'body_mass_g'\u001b[0m: \u001b[1;36m3450.0\u001b[0m,\n",
              "        \u001b[32m'sex'\u001b[0m: \u001b[32m'Female'\u001b[0m\n",
              "    \u001b[1m}\u001b[0m,\n",
              "    \u001b[1m{\u001b[0m\n",
              "        \u001b[32m'species'\u001b[0m: \u001b[32m'Adelie'\u001b[0m,\n",
              "        \u001b[32m'island'\u001b[0m: \u001b[32m'Torgersen'\u001b[0m,\n",
              "        \u001b[32m'bill_length_mm'\u001b[0m: \u001b[1;36m39.3\u001b[0m,\n",
              "        \u001b[32m'bill_depth_mm'\u001b[0m: \u001b[1;36m20.6\u001b[0m,\n",
              "        \u001b[32m'flipper_length_mm'\u001b[0m: \u001b[1;36m190.0\u001b[0m,\n",
              "        \u001b[32m'body_mass_g'\u001b[0m: \u001b[1;36m3650.0\u001b[0m,\n",
              "        \u001b[32m'sex'\u001b[0m: \u001b[32m'Male'\u001b[0m\n",
              "    \u001b[1m}\u001b[0m\n",
              "\u001b[1m]\u001b[0m\n"
            ]
          },
          "metadata": {}
        }
      ]
    },
    {
      "cell_type": "markdown",
      "metadata": {
        "id": "x2T_RJAEd9H0"
      },
      "source": [
        "# Comprensión de listas\n",
        "\n",
        "Las comprensiones de listas ofrecen una manera concisa de crear listas. Sus usos comunes son para hacer nuevas listas donde cada elemento es el resultado de algunas operaciones aplicadas a cada miembro de otra secuencia o iterable, o para crear una subsecuencia de esos elementos para satisfacer una condición determinada."
      ]
    },
    {
      "cell_type": "code",
      "metadata": {
        "id": "AO3EQqmWkLz-",
        "outputId": "a11e7fad-ea80-427f-80ff-546d630ddb28",
        "colab": {
          "base_uri": "https://localhost:8080/",
          "height": 34
        }
      },
      "source": [
        "a = [1, 2, 3, 4, 5, 6]\n",
        "print(a)"
      ],
      "execution_count": 7,
      "outputs": [
        {
          "output_type": "display_data",
          "data": {
            "text/html": [
              "<pre style=\"white-space:pre;overflow-x:auto;line-height:normal;font-family:Menlo,'DejaVu Sans Mono',consolas,'Courier New',monospace\"><span style=\"font-weight: bold\">[</span><span style=\"color: #008080; text-decoration-color: #008080; font-weight: bold\">1</span>, <span style=\"color: #008080; text-decoration-color: #008080; font-weight: bold\">2</span>, <span style=\"color: #008080; text-decoration-color: #008080; font-weight: bold\">3</span>, <span style=\"color: #008080; text-decoration-color: #008080; font-weight: bold\">4</span>, <span style=\"color: #008080; text-decoration-color: #008080; font-weight: bold\">5</span>, <span style=\"color: #008080; text-decoration-color: #008080; font-weight: bold\">6</span><span style=\"font-weight: bold\">]</span>\n",
              "</pre>\n"
            ],
            "text/plain": [
              "\u001b[1m[\u001b[0m\u001b[1;36m1\u001b[0m, \u001b[1;36m2\u001b[0m, \u001b[1;36m3\u001b[0m, \u001b[1;36m4\u001b[0m, \u001b[1;36m5\u001b[0m, \u001b[1;36m6\u001b[0m\u001b[1m]\u001b[0m\n"
            ]
          },
          "metadata": {}
        }
      ]
    },
    {
      "cell_type": "code",
      "metadata": {
        "id": "q7VxdZc9kR1C",
        "outputId": "71ce61dc-c912-4117-cb7e-5dedce24f2c3",
        "colab": {
          "base_uri": "https://localhost:8080/",
          "height": 34
        }
      },
      "source": [
        "b = []\n",
        "for e in a:\n",
        "  b.append(e**2)\n",
        "print(b)"
      ],
      "execution_count": 8,
      "outputs": [
        {
          "output_type": "display_data",
          "data": {
            "text/html": [
              "<pre style=\"white-space:pre;overflow-x:auto;line-height:normal;font-family:Menlo,'DejaVu Sans Mono',consolas,'Courier New',monospace\"><span style=\"font-weight: bold\">[</span><span style=\"color: #008080; text-decoration-color: #008080; font-weight: bold\">1</span>, <span style=\"color: #008080; text-decoration-color: #008080; font-weight: bold\">4</span>, <span style=\"color: #008080; text-decoration-color: #008080; font-weight: bold\">9</span>, <span style=\"color: #008080; text-decoration-color: #008080; font-weight: bold\">16</span>, <span style=\"color: #008080; text-decoration-color: #008080; font-weight: bold\">25</span>, <span style=\"color: #008080; text-decoration-color: #008080; font-weight: bold\">36</span><span style=\"font-weight: bold\">]</span>\n",
              "</pre>\n"
            ],
            "text/plain": [
              "\u001b[1m[\u001b[0m\u001b[1;36m1\u001b[0m, \u001b[1;36m4\u001b[0m, \u001b[1;36m9\u001b[0m, \u001b[1;36m16\u001b[0m, \u001b[1;36m25\u001b[0m, \u001b[1;36m36\u001b[0m\u001b[1m]\u001b[0m\n"
            ]
          },
          "metadata": {}
        }
      ]
    },
    {
      "cell_type": "code",
      "metadata": {
        "id": "Kae3J-3vkhOg",
        "outputId": "38b0fc2d-73a5-4200-8d7e-c04af0b5338b",
        "colab": {
          "base_uri": "https://localhost:8080/",
          "height": 34
        }
      },
      "source": [
        "c = [e**2 for e in a]\n",
        "print(c)"
      ],
      "execution_count": 9,
      "outputs": [
        {
          "output_type": "display_data",
          "data": {
            "text/html": [
              "<pre style=\"white-space:pre;overflow-x:auto;line-height:normal;font-family:Menlo,'DejaVu Sans Mono',consolas,'Courier New',monospace\"><span style=\"font-weight: bold\">[</span><span style=\"color: #008080; text-decoration-color: #008080; font-weight: bold\">1</span>, <span style=\"color: #008080; text-decoration-color: #008080; font-weight: bold\">4</span>, <span style=\"color: #008080; text-decoration-color: #008080; font-weight: bold\">9</span>, <span style=\"color: #008080; text-decoration-color: #008080; font-weight: bold\">16</span>, <span style=\"color: #008080; text-decoration-color: #008080; font-weight: bold\">25</span>, <span style=\"color: #008080; text-decoration-color: #008080; font-weight: bold\">36</span><span style=\"font-weight: bold\">]</span>\n",
              "</pre>\n"
            ],
            "text/plain": [
              "\u001b[1m[\u001b[0m\u001b[1;36m1\u001b[0m, \u001b[1;36m4\u001b[0m, \u001b[1;36m9\u001b[0m, \u001b[1;36m16\u001b[0m, \u001b[1;36m25\u001b[0m, \u001b[1;36m36\u001b[0m\u001b[1m]\u001b[0m\n"
            ]
          },
          "metadata": {}
        }
      ]
    },
    {
      "cell_type": "code",
      "metadata": {
        "id": "yDV_MD14lI3l",
        "outputId": "2c4a07a3-72e0-4a3a-c207-0c977919e6d8",
        "colab": {
          "base_uri": "https://localhost:8080/",
          "height": 34
        }
      },
      "source": [
        "# Quiero una lista donde solo tenga los valores pares de la original al cuadrado\n",
        "d = []\n",
        "for e in a:\n",
        "  if e%2 == 0:\n",
        "    d.append(e**2)\n",
        "print(d)"
      ],
      "execution_count": 10,
      "outputs": [
        {
          "output_type": "display_data",
          "data": {
            "text/html": [
              "<pre style=\"white-space:pre;overflow-x:auto;line-height:normal;font-family:Menlo,'DejaVu Sans Mono',consolas,'Courier New',monospace\"><span style=\"font-weight: bold\">[</span><span style=\"color: #008080; text-decoration-color: #008080; font-weight: bold\">4</span>, <span style=\"color: #008080; text-decoration-color: #008080; font-weight: bold\">16</span>, <span style=\"color: #008080; text-decoration-color: #008080; font-weight: bold\">36</span><span style=\"font-weight: bold\">]</span>\n",
              "</pre>\n"
            ],
            "text/plain": [
              "\u001b[1m[\u001b[0m\u001b[1;36m4\u001b[0m, \u001b[1;36m16\u001b[0m, \u001b[1;36m36\u001b[0m\u001b[1m]\u001b[0m\n"
            ]
          },
          "metadata": {}
        }
      ]
    },
    {
      "cell_type": "code",
      "metadata": {
        "id": "WYI8FQyKmCQ-",
        "outputId": "4779dedf-225b-4f1f-8f64-8502e3b30101",
        "colab": {
          "base_uri": "https://localhost:8080/",
          "height": 34
        }
      },
      "source": [
        "f = [e**2 for e in a if e%2 == 0]\n",
        "print(f)"
      ],
      "execution_count": 11,
      "outputs": [
        {
          "output_type": "display_data",
          "data": {
            "text/html": [
              "<pre style=\"white-space:pre;overflow-x:auto;line-height:normal;font-family:Menlo,'DejaVu Sans Mono',consolas,'Courier New',monospace\"><span style=\"font-weight: bold\">[</span><span style=\"color: #008080; text-decoration-color: #008080; font-weight: bold\">4</span>, <span style=\"color: #008080; text-decoration-color: #008080; font-weight: bold\">16</span>, <span style=\"color: #008080; text-decoration-color: #008080; font-weight: bold\">36</span><span style=\"font-weight: bold\">]</span>\n",
              "</pre>\n"
            ],
            "text/plain": [
              "\u001b[1m[\u001b[0m\u001b[1;36m4\u001b[0m, \u001b[1;36m16\u001b[0m, \u001b[1;36m36\u001b[0m\u001b[1m]\u001b[0m\n"
            ]
          },
          "metadata": {}
        }
      ]
    },
    {
      "cell_type": "markdown",
      "metadata": {
        "id": "CX6iWu51fRED"
      },
      "source": [
        "- Ver que especies de pingüinos fueron medidos"
      ]
    },
    {
      "cell_type": "code",
      "metadata": {
        "id": "qCNRMx5Gf_Ac",
        "outputId": "a83715b0-8e34-4a75-ffa8-1490cebdb79e",
        "colab": {
          "base_uri": "https://localhost:8080/",
          "height": 34
        }
      },
      "source": [
        "especies_pinguinos = set([record['species'] for record in my_data])\n",
        "print(especies_pinguinos)"
      ],
      "execution_count": 13,
      "outputs": [
        {
          "output_type": "display_data",
          "data": {
            "text/html": [
              "<pre style=\"white-space:pre;overflow-x:auto;line-height:normal;font-family:Menlo,'DejaVu Sans Mono',consolas,'Courier New',monospace\"><span style=\"font-weight: bold\">{</span><span style=\"color: #008000; text-decoration-color: #008000\">'Adelie'</span>, <span style=\"color: #008000; text-decoration-color: #008000\">'Gentoo'</span>, <span style=\"color: #008000; text-decoration-color: #008000\">'Chinstrap'</span><span style=\"font-weight: bold\">}</span>\n",
              "</pre>\n"
            ],
            "text/plain": [
              "\u001b[1m{\u001b[0m\u001b[32m'Adelie'\u001b[0m, \u001b[32m'Gentoo'\u001b[0m, \u001b[32m'Chinstrap'\u001b[0m\u001b[1m}\u001b[0m\n"
            ]
          },
          "metadata": {}
        }
      ]
    },
    {
      "cell_type": "markdown",
      "metadata": {
        "id": "ph8H4py3gpTs"
      },
      "source": [
        "- Hacer distintos conjuntos de datos para cada especie"
      ]
    },
    {
      "cell_type": "code",
      "metadata": {
        "id": "r-9Aq_l9g6Nz",
        "outputId": "30649f19-1e1d-48ee-fdb2-4fd9e340670c",
        "colab": {
          "base_uri": "https://localhost:8080/",
          "height": 1000
        }
      },
      "source": [
        "gentoo_data = [record for record in my_data if record['species'] == 'Gentoo']\n",
        "adelie_data = [record for record in my_data if record['species'] == 'Adelie']\n",
        "chinstrap_data = [record for record in my_data if record['species'] == 'Chinstrap']\n",
        "\n",
        "print(gentoo_data[:2])\n",
        "print('-'*80)\n",
        "print(adelie_data[:2])\n",
        "print('-'*80)\n",
        "print(chinstrap_data[:2])"
      ],
      "execution_count": 14,
      "outputs": [
        {
          "output_type": "display_data",
          "data": {
            "text/html": [
              "<pre style=\"white-space:pre;overflow-x:auto;line-height:normal;font-family:Menlo,'DejaVu Sans Mono',consolas,'Courier New',monospace\"><span style=\"font-weight: bold\">[</span>\n",
              "    <span style=\"font-weight: bold\">{</span>\n",
              "        <span style=\"color: #008000; text-decoration-color: #008000\">'species'</span>: <span style=\"color: #008000; text-decoration-color: #008000\">'Gentoo'</span>,\n",
              "        <span style=\"color: #008000; text-decoration-color: #008000\">'island'</span>: <span style=\"color: #008000; text-decoration-color: #008000\">'Biscoe'</span>,\n",
              "        <span style=\"color: #008000; text-decoration-color: #008000\">'bill_length_mm'</span>: <span style=\"color: #008080; text-decoration-color: #008080; font-weight: bold\">46.1</span>,\n",
              "        <span style=\"color: #008000; text-decoration-color: #008000\">'bill_depth_mm'</span>: <span style=\"color: #008080; text-decoration-color: #008080; font-weight: bold\">13.2</span>,\n",
              "        <span style=\"color: #008000; text-decoration-color: #008000\">'flipper_length_mm'</span>: <span style=\"color: #008080; text-decoration-color: #008080; font-weight: bold\">211.0</span>,\n",
              "        <span style=\"color: #008000; text-decoration-color: #008000\">'body_mass_g'</span>: <span style=\"color: #008080; text-decoration-color: #008080; font-weight: bold\">4500.0</span>,\n",
              "        <span style=\"color: #008000; text-decoration-color: #008000\">'sex'</span>: <span style=\"color: #008000; text-decoration-color: #008000\">'Female'</span>\n",
              "    <span style=\"font-weight: bold\">}</span>,\n",
              "    <span style=\"font-weight: bold\">{</span>\n",
              "        <span style=\"color: #008000; text-decoration-color: #008000\">'species'</span>: <span style=\"color: #008000; text-decoration-color: #008000\">'Gentoo'</span>,\n",
              "        <span style=\"color: #008000; text-decoration-color: #008000\">'island'</span>: <span style=\"color: #008000; text-decoration-color: #008000\">'Biscoe'</span>,\n",
              "        <span style=\"color: #008000; text-decoration-color: #008000\">'bill_length_mm'</span>: <span style=\"color: #008080; text-decoration-color: #008080; font-weight: bold\">50.0</span>,\n",
              "        <span style=\"color: #008000; text-decoration-color: #008000\">'bill_depth_mm'</span>: <span style=\"color: #008080; text-decoration-color: #008080; font-weight: bold\">16.3</span>,\n",
              "        <span style=\"color: #008000; text-decoration-color: #008000\">'flipper_length_mm'</span>: <span style=\"color: #008080; text-decoration-color: #008080; font-weight: bold\">230.0</span>,\n",
              "        <span style=\"color: #008000; text-decoration-color: #008000\">'body_mass_g'</span>: <span style=\"color: #008080; text-decoration-color: #008080; font-weight: bold\">5700.0</span>,\n",
              "        <span style=\"color: #008000; text-decoration-color: #008000\">'sex'</span>: <span style=\"color: #008000; text-decoration-color: #008000\">'Male'</span>\n",
              "    <span style=\"font-weight: bold\">}</span>\n",
              "<span style=\"font-weight: bold\">]</span>\n",
              "</pre>\n"
            ],
            "text/plain": [
              "\u001b[1m[\u001b[0m\n",
              "    \u001b[1m{\u001b[0m\n",
              "        \u001b[32m'species'\u001b[0m: \u001b[32m'Gentoo'\u001b[0m,\n",
              "        \u001b[32m'island'\u001b[0m: \u001b[32m'Biscoe'\u001b[0m,\n",
              "        \u001b[32m'bill_length_mm'\u001b[0m: \u001b[1;36m46.1\u001b[0m,\n",
              "        \u001b[32m'bill_depth_mm'\u001b[0m: \u001b[1;36m13.2\u001b[0m,\n",
              "        \u001b[32m'flipper_length_mm'\u001b[0m: \u001b[1;36m211.0\u001b[0m,\n",
              "        \u001b[32m'body_mass_g'\u001b[0m: \u001b[1;36m4500.0\u001b[0m,\n",
              "        \u001b[32m'sex'\u001b[0m: \u001b[32m'Female'\u001b[0m\n",
              "    \u001b[1m}\u001b[0m,\n",
              "    \u001b[1m{\u001b[0m\n",
              "        \u001b[32m'species'\u001b[0m: \u001b[32m'Gentoo'\u001b[0m,\n",
              "        \u001b[32m'island'\u001b[0m: \u001b[32m'Biscoe'\u001b[0m,\n",
              "        \u001b[32m'bill_length_mm'\u001b[0m: \u001b[1;36m50.0\u001b[0m,\n",
              "        \u001b[32m'bill_depth_mm'\u001b[0m: \u001b[1;36m16.3\u001b[0m,\n",
              "        \u001b[32m'flipper_length_mm'\u001b[0m: \u001b[1;36m230.0\u001b[0m,\n",
              "        \u001b[32m'body_mass_g'\u001b[0m: \u001b[1;36m5700.0\u001b[0m,\n",
              "        \u001b[32m'sex'\u001b[0m: \u001b[32m'Male'\u001b[0m\n",
              "    \u001b[1m}\u001b[0m\n",
              "\u001b[1m]\u001b[0m\n"
            ]
          },
          "metadata": {}
        },
        {
          "output_type": "display_data",
          "data": {
            "text/html": [
              "<pre style=\"white-space:pre;overflow-x:auto;line-height:normal;font-family:Menlo,'DejaVu Sans Mono',consolas,'Courier New',monospace\">--------------------------------------------------------------------------------\n",
              "</pre>\n"
            ],
            "text/plain": [
              "--------------------------------------------------------------------------------\n"
            ]
          },
          "metadata": {}
        },
        {
          "output_type": "display_data",
          "data": {
            "text/html": [
              "<pre style=\"white-space:pre;overflow-x:auto;line-height:normal;font-family:Menlo,'DejaVu Sans Mono',consolas,'Courier New',monospace\"><span style=\"font-weight: bold\">[</span>\n",
              "    <span style=\"font-weight: bold\">{</span>\n",
              "        <span style=\"color: #008000; text-decoration-color: #008000\">'species'</span>: <span style=\"color: #008000; text-decoration-color: #008000\">'Adelie'</span>,\n",
              "        <span style=\"color: #008000; text-decoration-color: #008000\">'island'</span>: <span style=\"color: #008000; text-decoration-color: #008000\">'Torgersen'</span>,\n",
              "        <span style=\"color: #008000; text-decoration-color: #008000\">'bill_length_mm'</span>: <span style=\"color: #008080; text-decoration-color: #008080; font-weight: bold\">39.1</span>,\n",
              "        <span style=\"color: #008000; text-decoration-color: #008000\">'bill_depth_mm'</span>: <span style=\"color: #008080; text-decoration-color: #008080; font-weight: bold\">18.7</span>,\n",
              "        <span style=\"color: #008000; text-decoration-color: #008000\">'flipper_length_mm'</span>: <span style=\"color: #008080; text-decoration-color: #008080; font-weight: bold\">181.0</span>,\n",
              "        <span style=\"color: #008000; text-decoration-color: #008000\">'body_mass_g'</span>: <span style=\"color: #008080; text-decoration-color: #008080; font-weight: bold\">3750.0</span>,\n",
              "        <span style=\"color: #008000; text-decoration-color: #008000\">'sex'</span>: <span style=\"color: #008000; text-decoration-color: #008000\">'Male'</span>\n",
              "    <span style=\"font-weight: bold\">}</span>,\n",
              "    <span style=\"font-weight: bold\">{</span>\n",
              "        <span style=\"color: #008000; text-decoration-color: #008000\">'species'</span>: <span style=\"color: #008000; text-decoration-color: #008000\">'Adelie'</span>,\n",
              "        <span style=\"color: #008000; text-decoration-color: #008000\">'island'</span>: <span style=\"color: #008000; text-decoration-color: #008000\">'Torgersen'</span>,\n",
              "        <span style=\"color: #008000; text-decoration-color: #008000\">'bill_length_mm'</span>: <span style=\"color: #008080; text-decoration-color: #008080; font-weight: bold\">39.5</span>,\n",
              "        <span style=\"color: #008000; text-decoration-color: #008000\">'bill_depth_mm'</span>: <span style=\"color: #008080; text-decoration-color: #008080; font-weight: bold\">17.4</span>,\n",
              "        <span style=\"color: #008000; text-decoration-color: #008000\">'flipper_length_mm'</span>: <span style=\"color: #008080; text-decoration-color: #008080; font-weight: bold\">186.0</span>,\n",
              "        <span style=\"color: #008000; text-decoration-color: #008000\">'body_mass_g'</span>: <span style=\"color: #008080; text-decoration-color: #008080; font-weight: bold\">3800.0</span>,\n",
              "        <span style=\"color: #008000; text-decoration-color: #008000\">'sex'</span>: <span style=\"color: #008000; text-decoration-color: #008000\">'Female'</span>\n",
              "    <span style=\"font-weight: bold\">}</span>\n",
              "<span style=\"font-weight: bold\">]</span>\n",
              "</pre>\n"
            ],
            "text/plain": [
              "\u001b[1m[\u001b[0m\n",
              "    \u001b[1m{\u001b[0m\n",
              "        \u001b[32m'species'\u001b[0m: \u001b[32m'Adelie'\u001b[0m,\n",
              "        \u001b[32m'island'\u001b[0m: \u001b[32m'Torgersen'\u001b[0m,\n",
              "        \u001b[32m'bill_length_mm'\u001b[0m: \u001b[1;36m39.1\u001b[0m,\n",
              "        \u001b[32m'bill_depth_mm'\u001b[0m: \u001b[1;36m18.7\u001b[0m,\n",
              "        \u001b[32m'flipper_length_mm'\u001b[0m: \u001b[1;36m181.0\u001b[0m,\n",
              "        \u001b[32m'body_mass_g'\u001b[0m: \u001b[1;36m3750.0\u001b[0m,\n",
              "        \u001b[32m'sex'\u001b[0m: \u001b[32m'Male'\u001b[0m\n",
              "    \u001b[1m}\u001b[0m,\n",
              "    \u001b[1m{\u001b[0m\n",
              "        \u001b[32m'species'\u001b[0m: \u001b[32m'Adelie'\u001b[0m,\n",
              "        \u001b[32m'island'\u001b[0m: \u001b[32m'Torgersen'\u001b[0m,\n",
              "        \u001b[32m'bill_length_mm'\u001b[0m: \u001b[1;36m39.5\u001b[0m,\n",
              "        \u001b[32m'bill_depth_mm'\u001b[0m: \u001b[1;36m17.4\u001b[0m,\n",
              "        \u001b[32m'flipper_length_mm'\u001b[0m: \u001b[1;36m186.0\u001b[0m,\n",
              "        \u001b[32m'body_mass_g'\u001b[0m: \u001b[1;36m3800.0\u001b[0m,\n",
              "        \u001b[32m'sex'\u001b[0m: \u001b[32m'Female'\u001b[0m\n",
              "    \u001b[1m}\u001b[0m\n",
              "\u001b[1m]\u001b[0m\n"
            ]
          },
          "metadata": {}
        },
        {
          "output_type": "display_data",
          "data": {
            "text/html": [
              "<pre style=\"white-space:pre;overflow-x:auto;line-height:normal;font-family:Menlo,'DejaVu Sans Mono',consolas,'Courier New',monospace\">--------------------------------------------------------------------------------\n",
              "</pre>\n"
            ],
            "text/plain": [
              "--------------------------------------------------------------------------------\n"
            ]
          },
          "metadata": {}
        },
        {
          "output_type": "display_data",
          "data": {
            "text/html": [
              "<pre style=\"white-space:pre;overflow-x:auto;line-height:normal;font-family:Menlo,'DejaVu Sans Mono',consolas,'Courier New',monospace\"><span style=\"font-weight: bold\">[</span>\n",
              "    <span style=\"font-weight: bold\">{</span>\n",
              "        <span style=\"color: #008000; text-decoration-color: #008000\">'species'</span>: <span style=\"color: #008000; text-decoration-color: #008000\">'Chinstrap'</span>,\n",
              "        <span style=\"color: #008000; text-decoration-color: #008000\">'island'</span>: <span style=\"color: #008000; text-decoration-color: #008000\">'Dream'</span>,\n",
              "        <span style=\"color: #008000; text-decoration-color: #008000\">'bill_length_mm'</span>: <span style=\"color: #008080; text-decoration-color: #008080; font-weight: bold\">46.5</span>,\n",
              "        <span style=\"color: #008000; text-decoration-color: #008000\">'bill_depth_mm'</span>: <span style=\"color: #008080; text-decoration-color: #008080; font-weight: bold\">17.9</span>,\n",
              "        <span style=\"color: #008000; text-decoration-color: #008000\">'flipper_length_mm'</span>: <span style=\"color: #008080; text-decoration-color: #008080; font-weight: bold\">192.0</span>,\n",
              "        <span style=\"color: #008000; text-decoration-color: #008000\">'body_mass_g'</span>: <span style=\"color: #008080; text-decoration-color: #008080; font-weight: bold\">3500.0</span>,\n",
              "        <span style=\"color: #008000; text-decoration-color: #008000\">'sex'</span>: <span style=\"color: #008000; text-decoration-color: #008000\">'Female'</span>\n",
              "    <span style=\"font-weight: bold\">}</span>,\n",
              "    <span style=\"font-weight: bold\">{</span>\n",
              "        <span style=\"color: #008000; text-decoration-color: #008000\">'species'</span>: <span style=\"color: #008000; text-decoration-color: #008000\">'Chinstrap'</span>,\n",
              "        <span style=\"color: #008000; text-decoration-color: #008000\">'island'</span>: <span style=\"color: #008000; text-decoration-color: #008000\">'Dream'</span>,\n",
              "        <span style=\"color: #008000; text-decoration-color: #008000\">'bill_length_mm'</span>: <span style=\"color: #008080; text-decoration-color: #008080; font-weight: bold\">50.0</span>,\n",
              "        <span style=\"color: #008000; text-decoration-color: #008000\">'bill_depth_mm'</span>: <span style=\"color: #008080; text-decoration-color: #008080; font-weight: bold\">19.5</span>,\n",
              "        <span style=\"color: #008000; text-decoration-color: #008000\">'flipper_length_mm'</span>: <span style=\"color: #008080; text-decoration-color: #008080; font-weight: bold\">196.0</span>,\n",
              "        <span style=\"color: #008000; text-decoration-color: #008000\">'body_mass_g'</span>: <span style=\"color: #008080; text-decoration-color: #008080; font-weight: bold\">3900.0</span>,\n",
              "        <span style=\"color: #008000; text-decoration-color: #008000\">'sex'</span>: <span style=\"color: #008000; text-decoration-color: #008000\">'Male'</span>\n",
              "    <span style=\"font-weight: bold\">}</span>\n",
              "<span style=\"font-weight: bold\">]</span>\n",
              "</pre>\n"
            ],
            "text/plain": [
              "\u001b[1m[\u001b[0m\n",
              "    \u001b[1m{\u001b[0m\n",
              "        \u001b[32m'species'\u001b[0m: \u001b[32m'Chinstrap'\u001b[0m,\n",
              "        \u001b[32m'island'\u001b[0m: \u001b[32m'Dream'\u001b[0m,\n",
              "        \u001b[32m'bill_length_mm'\u001b[0m: \u001b[1;36m46.5\u001b[0m,\n",
              "        \u001b[32m'bill_depth_mm'\u001b[0m: \u001b[1;36m17.9\u001b[0m,\n",
              "        \u001b[32m'flipper_length_mm'\u001b[0m: \u001b[1;36m192.0\u001b[0m,\n",
              "        \u001b[32m'body_mass_g'\u001b[0m: \u001b[1;36m3500.0\u001b[0m,\n",
              "        \u001b[32m'sex'\u001b[0m: \u001b[32m'Female'\u001b[0m\n",
              "    \u001b[1m}\u001b[0m,\n",
              "    \u001b[1m{\u001b[0m\n",
              "        \u001b[32m'species'\u001b[0m: \u001b[32m'Chinstrap'\u001b[0m,\n",
              "        \u001b[32m'island'\u001b[0m: \u001b[32m'Dream'\u001b[0m,\n",
              "        \u001b[32m'bill_length_mm'\u001b[0m: \u001b[1;36m50.0\u001b[0m,\n",
              "        \u001b[32m'bill_depth_mm'\u001b[0m: \u001b[1;36m19.5\u001b[0m,\n",
              "        \u001b[32m'flipper_length_mm'\u001b[0m: \u001b[1;36m196.0\u001b[0m,\n",
              "        \u001b[32m'body_mass_g'\u001b[0m: \u001b[1;36m3900.0\u001b[0m,\n",
              "        \u001b[32m'sex'\u001b[0m: \u001b[32m'Male'\u001b[0m\n",
              "    \u001b[1m}\u001b[0m\n",
              "\u001b[1m]\u001b[0m\n"
            ]
          },
          "metadata": {}
        }
      ]
    },
    {
      "cell_type": "code",
      "metadata": {
        "id": "-7Clp_2-pJpP"
      },
      "source": [
        ""
      ],
      "execution_count": null,
      "outputs": []
    },
    {
      "cell_type": "markdown",
      "metadata": {
        "id": "hKxF8DP0g_wv"
      },
      "source": [
        "## Algunas medidas estadísticas\n",
        "\n",
        "Dado un conjunto de mediciones $\\{x_1, x_2,\\ldots x_n\\}$ podemos calcular las siguientes medidas muestrales estadísticas.\n",
        "\n",
        "- **Media muestral**\n",
        "\n",
        "$$\n",
        "\\bar x = \\frac{1}{n} \\sum_{i=1}^n x_i\n",
        "$$\n",
        "\n",
        "- **Varianza muestral**\n",
        "\n",
        "$$\n",
        "\\bar \\sigma^2 = \\frac{1}{n-1}\\sum_{i=1}^n (x_i - \\bar x)^2\n",
        "$$\n",
        "\n",
        "- **Mediana muestral**\n",
        "\n",
        "    - Si $n$ es impar la mediana es el valor $\\frac{n+1}{2}$ de los datos ordenados. \n",
        "    - Si $n$ es par es el promedio de los datos en las posiciones $\\frac{n}{2}$ y $\\big(\\frac{n}{2}\\big)+1$."
      ]
    },
    {
      "cell_type": "code",
      "metadata": {
        "id": "YIaaNOS5u7Be"
      },
      "source": [
        "# Calcular las medidas estadisticas para el gentoo y bill_length_mm\n",
        "gentoo_bill_length = [record['bill_length_mm'] for record in gentoo_data \n",
        "                      if record['bill_length_mm'] != None]\n",
        "print(gentoo_bill_length)"
      ],
      "execution_count": null,
      "outputs": []
    },
    {
      "cell_type": "code",
      "metadata": {
        "id": "kWCZJwBUtOCd",
        "outputId": "27903e6b-dce5-4c83-a0f8-e2b60283b8a0",
        "colab": {
          "base_uri": "https://localhost:8080/",
          "height": 34
        }
      },
      "source": [
        "# Media\n",
        "gentoo_bl_mean = (1/len(gentoo_bill_length))*sum(gentoo_bill_length)\n",
        "print(gentoo_bl_mean)"
      ],
      "execution_count": 18,
      "outputs": [
        {
          "output_type": "display_data",
          "data": {
            "text/html": [
              "<pre style=\"white-space:pre;overflow-x:auto;line-height:normal;font-family:Menlo,'DejaVu Sans Mono',consolas,'Courier New',monospace\"><span style=\"color: #008080; text-decoration-color: #008080; font-weight: bold\">47.50487804878048</span>\n",
              "</pre>\n"
            ],
            "text/plain": [
              "\u001b[1;36m47.50487804878048\u001b[0m\n"
            ]
          },
          "metadata": {}
        }
      ]
    },
    {
      "cell_type": "code",
      "metadata": {
        "id": "iSCb8QtQuVnc",
        "outputId": "2e3a50a2-cbeb-466c-a3a8-5a4c6bdb9418",
        "colab": {
          "base_uri": "https://localhost:8080/",
          "height": 34
        }
      },
      "source": [
        "# Varianza\n",
        "aux = [(el - gentoo_bl_mean)**2 for el in gentoo_bill_length]\n",
        "gentoo_bl_var = (1/(len(gentoo_bill_length)-1))*sum(aux)\n",
        "print(gentoo_bl_var)"
      ],
      "execution_count": 20,
      "outputs": [
        {
          "output_type": "display_data",
          "data": {
            "text/html": [
              "<pre style=\"white-space:pre;overflow-x:auto;line-height:normal;font-family:Menlo,'DejaVu Sans Mono',consolas,'Courier New',monospace\"><span style=\"color: #008080; text-decoration-color: #008080; font-weight: bold\">9.497844862055178</span>\n",
              "</pre>\n"
            ],
            "text/plain": [
              "\u001b[1;36m9.497844862055178\u001b[0m\n"
            ]
          },
          "metadata": {}
        }
      ]
    },
    {
      "cell_type": "code",
      "metadata": {
        "id": "np3gUJlwvIJf",
        "outputId": "a221bc14-d259-49c6-ad7f-c877a9119943",
        "colab": {
          "base_uri": "https://localhost:8080/",
          "height": 34
        }
      },
      "source": [
        "# Mediana\n",
        "if len(gentoo_bill_length) % 2 == 1:\n",
        "    idx = len(gentoo_bill_length) // 2\n",
        "    gentoo_bl_median = sorted(gentoo_bill_length)[idx]\n",
        "elif len(gentoo_bill_length) % 2 ==0:\n",
        "    idx = len(gentoo_bill_length) // 2\n",
        "    gentoo_bl_median = sum(sorted(gentoo_bill_length)[idx-1:idx+1])/2\n",
        "print(gentoo_bl_median)"
      ],
      "execution_count": 21,
      "outputs": [
        {
          "output_type": "display_data",
          "data": {
            "text/html": [
              "<pre style=\"white-space:pre;overflow-x:auto;line-height:normal;font-family:Menlo,'DejaVu Sans Mono',consolas,'Courier New',monospace\"><span style=\"color: #008080; text-decoration-color: #008080; font-weight: bold\">47.3</span>\n",
              "</pre>\n"
            ],
            "text/plain": [
              "\u001b[1;36m47.3\u001b[0m\n"
            ]
          },
          "metadata": {}
        }
      ]
    },
    {
      "cell_type": "code",
      "metadata": {
        "id": "aO90fl7KyD61"
      },
      "source": [
        ""
      ],
      "execution_count": null,
      "outputs": []
    },
    {
      "cell_type": "markdown",
      "metadata": {
        "id": "xSx_G9n-u7lM"
      },
      "source": [
        "# Funciones"
      ]
    },
    {
      "cell_type": "markdown",
      "metadata": {
        "id": "eyqz15BxvkT1"
      },
      "source": [
        "Hacer las funciones estadísticas que funcionen para cualquier conjunto de datos y medida "
      ]
    },
    {
      "cell_type": "code",
      "metadata": {
        "id": "fP4nLogBwI_v"
      },
      "source": [
        "def calculate_statistics(data, target_measure):\n",
        "    ''' calcula la media, varianza y mediana de los datos y la medida objetivo\n",
        "\n",
        "        :param data: list una lista de registros(dict)\n",
        "        :param target_measure: str corresponde a una llave de una medición\n",
        "\n",
        "        Returns un diccionario con los valores de los estadísticos calculados\n",
        "    '''\n",
        "    inner_data = [record[target_measure] for record in data \n",
        "                  if record[target_measure] != None]\n",
        "    # mean\n",
        "    data_mean = (1/len(inner_data))*sum(inner_data)\n",
        "    # var\n",
        "    aux = [(el - data_mean)**2 for el in inner_data]\n",
        "    data_var = (1/(len(inner_data)-1))*sum(aux)\n",
        "    # median\n",
        "    if len(inner_data) % 2 == 1:\n",
        "        idx = len(inner_data) // 2\n",
        "        data_median = sorted(inner_data)[idx]\n",
        "    elif len(inner_data) % 2 == 0:\n",
        "        idx = len(inner_data) // 2\n",
        "        data_median = sum(sorted(inner_data)[idx-1:idx+1])/2\n",
        "\n",
        "    return {'mean': data_mean, 'var': data_var, 'median': data_median}"
      ],
      "execution_count": 31,
      "outputs": []
    },
    {
      "cell_type": "code",
      "metadata": {
        "id": "DSc36U8P10BO",
        "outputId": "c5ec9366-ef39-4db3-e2fb-03d2a954f273",
        "colab": {
          "base_uri": "https://localhost:8080/",
          "height": 34
        }
      },
      "source": [
        "gentoo_bl_stats = calculate_statistics(gentoo_data, 'bill_length_mm')\n",
        "print(gentoo_bl_stats)"
      ],
      "execution_count": 25,
      "outputs": [
        {
          "output_type": "display_data",
          "data": {
            "text/html": [
              "<pre style=\"white-space:pre;overflow-x:auto;line-height:normal;font-family:Menlo,'DejaVu Sans Mono',consolas,'Courier New',monospace\"><span style=\"font-weight: bold\">{</span><span style=\"color: #008000; text-decoration-color: #008000\">'mean'</span>: <span style=\"color: #008080; text-decoration-color: #008080; font-weight: bold\">47.50487804878048</span>, <span style=\"color: #008000; text-decoration-color: #008000\">'var'</span>: <span style=\"color: #008080; text-decoration-color: #008080; font-weight: bold\">9.497844862055178</span>, <span style=\"color: #008000; text-decoration-color: #008000\">'median'</span>: <span style=\"color: #008080; text-decoration-color: #008080; font-weight: bold\">47.3</span><span style=\"font-weight: bold\">}</span>\n",
              "</pre>\n"
            ],
            "text/plain": [
              "\u001b[1m{\u001b[0m\u001b[32m'mean'\u001b[0m: \u001b[1;36m47.50487804878048\u001b[0m, \u001b[32m'var'\u001b[0m: \u001b[1;36m9.497844862055178\u001b[0m, \u001b[32m'median'\u001b[0m: \u001b[1;36m47.3\u001b[0m\u001b[1m}\u001b[0m\n"
            ]
          },
          "metadata": {}
        }
      ]
    },
    {
      "cell_type": "code",
      "metadata": {
        "id": "URAQ8Kdr2FUZ",
        "outputId": "b30ff7d5-ab49-4280-9ea9-280bd0ad8a77",
        "colab": {
          "base_uri": "https://localhost:8080/",
          "height": 34
        }
      },
      "source": [
        "adelie_bl_stats = calculate_statistics(adelie_data, 'bill_length_mm')\n",
        "print(adelie_bl_stats)"
      ],
      "execution_count": 28,
      "outputs": [
        {
          "output_type": "display_data",
          "data": {
            "text/html": [
              "<pre style=\"white-space:pre;overflow-x:auto;line-height:normal;font-family:Menlo,'DejaVu Sans Mono',consolas,'Courier New',monospace\"><span style=\"font-weight: bold\">{</span><span style=\"color: #008000; text-decoration-color: #008000\">'mean'</span>: <span style=\"color: #008080; text-decoration-color: #008080; font-weight: bold\">38.79139072847684</span>, <span style=\"color: #008000; text-decoration-color: #008000\">'var'</span>: <span style=\"color: #008080; text-decoration-color: #008080; font-weight: bold\">7.093725386313469</span>, <span style=\"color: #008000; text-decoration-color: #008000\">'median'</span>: <span style=\"color: #008080; text-decoration-color: #008080; font-weight: bold\">38.8</span><span style=\"font-weight: bold\">}</span>\n",
              "</pre>\n"
            ],
            "text/plain": [
              "\u001b[1m{\u001b[0m\u001b[32m'mean'\u001b[0m: \u001b[1;36m38.79139072847684\u001b[0m, \u001b[32m'var'\u001b[0m: \u001b[1;36m7.093725386313469\u001b[0m, \u001b[32m'median'\u001b[0m: \u001b[1;36m38.8\u001b[0m\u001b[1m}\u001b[0m\n"
            ]
          },
          "metadata": {}
        }
      ]
    },
    {
      "cell_type": "code",
      "metadata": {
        "id": "gvLQTyfB2u1O",
        "outputId": "82ae1136-7393-47ba-e156-40a45c8c47ed",
        "colab": {
          "base_uri": "https://localhost:8080/",
          "height": 34
        }
      },
      "source": [
        "chinstrap_bl_stats = calculate_statistics(chinstrap_data, 'bill_length_mm')\n",
        "print(chinstrap_bl_stats)"
      ],
      "execution_count": 32,
      "outputs": [
        {
          "output_type": "display_data",
          "data": {
            "text/html": [
              "<pre style=\"white-space:pre;overflow-x:auto;line-height:normal;font-family:Menlo,'DejaVu Sans Mono',consolas,'Courier New',monospace\"><span style=\"font-weight: bold\">{</span><span style=\"color: #008000; text-decoration-color: #008000\">'mean'</span>: <span style=\"color: #008080; text-decoration-color: #008080; font-weight: bold\">48.83382352941177</span>, <span style=\"color: #008000; text-decoration-color: #008000\">'var'</span>: <span style=\"color: #008080; text-decoration-color: #008080; font-weight: bold\">11.150629938542579</span>, <span style=\"color: #008000; text-decoration-color: #008000\">'median'</span>: <span style=\"color: #008080; text-decoration-color: #008080; font-weight: bold\">49.55</span><span style=\"font-weight: bold\">}</span>\n",
              "</pre>\n"
            ],
            "text/plain": [
              "\u001b[1m{\u001b[0m\u001b[32m'mean'\u001b[0m: \u001b[1;36m48.83382352941177\u001b[0m, \u001b[32m'var'\u001b[0m: \u001b[1;36m11.150629938542579\u001b[0m, \u001b[32m'median'\u001b[0m: \u001b[1;36m49.55\u001b[0m\u001b[1m}\u001b[0m\n"
            ]
          },
          "metadata": {}
        }
      ]
    },
    {
      "cell_type": "code",
      "metadata": {
        "id": "z8Fsg1W135eW"
      },
      "source": [
        "?calculate_statistics"
      ],
      "execution_count": 33,
      "outputs": []
    },
    {
      "cell_type": "code",
      "metadata": {
        "id": "n2WNYM2s38SG"
      },
      "source": [
        ""
      ],
      "execution_count": null,
      "outputs": []
    }
  ]
}