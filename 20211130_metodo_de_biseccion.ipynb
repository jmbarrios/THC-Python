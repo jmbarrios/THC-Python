{
  "nbformat": 4,
  "nbformat_minor": 0,
  "metadata": {
    "colab": {
      "name": "20211130-metodo-de-biseccion.ipynb",
      "provenance": [],
      "authorship_tag": "ABX9TyN77EPfZ+YsYXJmwerqZaig"
    },
    "kernelspec": {
      "name": "python3",
      "display_name": "Python 3"
    },
    "language_info": {
      "name": "python"
    }
  },
  "cells": [
    {
      "cell_type": "markdown",
      "metadata": {
        "id": "-lLi5KYYAgPe"
      },
      "source": [
        "# Graficación 3D"
      ]
    },
    {
      "cell_type": "code",
      "metadata": {
        "id": "HcU3ShvPAxpz"
      },
      "source": [
        "import numpy as np\n",
        "from matplotlib import pyplot as plt"
      ],
      "execution_count": null,
      "outputs": []
    },
    {
      "cell_type": "code",
      "metadata": {
        "id": "a2boOkr_A6bK"
      },
      "source": [
        "fig = plt.figure(figsize=(10, 10))\n",
        "ax = fig.add_subplot(projection='3d')\n",
        "\n",
        "X = np.linspace(-2, 2, 100)\n",
        "Y = np.linspace(-2, 2, 100)\n",
        "\n",
        "X, Y = np.meshgrid(X, Y)\n",
        "\n",
        "Z = 3*X**2+5*Y**2\n",
        "\n",
        "ax.plot_surface(X, Y, Z, linewidth=0, antialiased=True, cmap='magma')\n",
        "ax.contour(X, Y, Z, linewidths=3)"
      ],
      "execution_count": null,
      "outputs": []
    },
    {
      "cell_type": "markdown",
      "metadata": {
        "id": "SdYUEDmKCL_b"
      },
      "source": [
        "# Graficando cónicas\n",
        "\n",
        "#### Ecuación de la parábola\n",
        "\n",
        "$$ y^2 = 4ax $$\n",
        "\n",
        "#### Ecuación del círculo\n",
        "\n",
        "$$ x^2 + y^2 = r^2 $$\n",
        "\n",
        "#### Ecuación de la elipse\n",
        "\n",
        "$$ \\frac{x^2}{a^2} + \\frac{y^2}{b^2} = 1 $$\n",
        "\n",
        "#### Ecuación de la hiperbola\n",
        "\n",
        "$$ \\frac{x^2}{a^2} 1 \\frac{y^2}{b^2} = 1 $$"
      ]
    },
    {
      "cell_type": "code",
      "metadata": {
        "id": "r8MjmlzlHnM2"
      },
      "source": [
        ""
      ],
      "execution_count": null,
      "outputs": []
    },
    {
      "cell_type": "markdown",
      "metadata": {
        "id": "-sHLxPZAHnul"
      },
      "source": [
        "# Encontrar la raíz de una ecuación\n",
        "\n",
        "## Método de bisección (o búsqueda binaria)\n",
        "\n",
        "Se quiere resolver la ecuación \n",
        "$$\n",
        "    f(x) = 0\n",
        "$$\n",
        "con $f$ continua en $[a,b]$, además $f(a) < 0$ y $f(b)>0$. \n",
        "Lo que haremos es tomar el punto medio del intervalo y ver cuanto vale $f$ ahí, si toma el valor de 0 y acabamos, pero si no entonces el valor será mayor o menor que 0 dependiendo de eso buscaremos el cero en el intervalo correspondiente.\n"
      ]
    },
    {
      "cell_type": "code",
      "metadata": {
        "id": "v5y2pXVec4Vc"
      },
      "source": [
        ""
      ],
      "execution_count": null,
      "outputs": []
    }
  ]
}