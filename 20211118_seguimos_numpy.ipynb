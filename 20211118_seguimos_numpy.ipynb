{
  "nbformat": 4,
  "nbformat_minor": 0,
  "metadata": {
    "colab": {
      "name": "20211118-seguimos-numpy.ipynb",
      "provenance": [],
      "authorship_tag": "ABX9TyPhZzWDUDhAfBU8V+JIDLUv"
    },
    "kernelspec": {
      "name": "python3",
      "display_name": "Python 3"
    },
    "language_info": {
      "name": "python"
    }
  },
  "cells": [
    {
      "cell_type": "markdown",
      "metadata": {
        "id": "V4Rr7x0NDQYC"
      },
      "source": [
        "## La sucesión de Fibonacci\n",
        "\n",
        "![Libro Fibonacci](https://upload.wikimedia.org/wikipedia/commons/thumb/0/04/Liber_abbaci_magliab_f124r.jpg/392px-Liber_abbaci_magliab_f124r.jpg)\n",
        "\n",
        "Esta sucesión fue descrita como una sucesión de cria de conejos. \n",
        "\n",
        "La sucesión se define como:\n",
        "\n",
        "- $a_1=1$\n",
        "- $a_2=1$\n",
        "\n",
        "y para $n>2$, $a_{n+1} = a_n + a_{n-1}$. "
      ]
    },
    {
      "cell_type": "markdown",
      "metadata": {
        "id": "YWte-ai_Epl2"
      },
      "source": [
        "## Implementación naïve "
      ]
    },
    {
      "cell_type": "code",
      "metadata": {
        "id": "G1Zu7VUKE8uU"
      },
      "source": [
        ""
      ],
      "execution_count": null,
      "outputs": []
    },
    {
      "cell_type": "markdown",
      "metadata": {
        "id": "MlvMk0MbE2gB"
      },
      "source": [
        "## Implementación recursiva"
      ]
    },
    {
      "cell_type": "code",
      "metadata": {
        "id": "JeVzTsVwE7wy"
      },
      "source": [
        ""
      ],
      "execution_count": null,
      "outputs": []
    },
    {
      "cell_type": "markdown",
      "metadata": {
        "id": "iIBcH3jGE906"
      },
      "source": [
        "## Implementación matricial"
      ]
    },
    {
      "cell_type": "code",
      "metadata": {
        "id": "YmMvhmtaFA1N"
      },
      "source": [
        ""
      ],
      "execution_count": null,
      "outputs": []
    },
    {
      "cell_type": "markdown",
      "metadata": {
        "id": "LGWw4bl2IKkL"
      },
      "source": [
        "# Fibonacci y la razón aurea\n",
        "\n",
        "![Rectángulo aureo](https://upload.wikimedia.org/wikipedia/commons/thumb/8/8e/SimilarGoldenRectangles.svg/524px-SimilarGoldenRectangles.svg.png)\n",
        "\n",
        "El rectángulo aureo es aquel que cumple\n",
        "\n",
        "$$\n",
        "    \\frac{a+b}{a} = \\frac{a}{b}\n",
        "$$\n",
        "y a este cociente se le denota como $\\varphi=\\frac{1+\\sqrt{5}}{2}$."
      ]
    },
    {
      "cell_type": "code",
      "metadata": {
        "id": "lDBSJzZTK7tY"
      },
      "source": [
        ""
      ],
      "execution_count": null,
      "outputs": []
    }
  ]
}