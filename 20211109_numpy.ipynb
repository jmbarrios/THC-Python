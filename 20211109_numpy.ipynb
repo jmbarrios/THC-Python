{
  "nbformat": 4,
  "nbformat_minor": 0,
  "metadata": {
    "colab": {
      "name": "20211109-numpy.ipynb",
      "provenance": [],
      "authorship_tag": "ABX9TyPBgxJY2rLpaOsFv6M3z6D+",
      "include_colab_link": true
    },
    "kernelspec": {
      "name": "python3",
      "display_name": "Python 3"
    },
    "language_info": {
      "name": "python"
    }
  },
  "cells": [
    {
      "cell_type": "markdown",
      "metadata": {
        "id": "view-in-github",
        "colab_type": "text"
      },
      "source": [
        "<a href=\"https://colab.research.google.com/github/jmbarrios/THC-Python/blob/main/20211109_numpy.ipynb\" target=\"_parent\"><img src=\"https://colab.research.google.com/assets/colab-badge.svg\" alt=\"Open In Colab\"/></a>"
      ]
    },
    {
      "cell_type": "markdown",
      "metadata": {
        "id": "blekocBhA9f3"
      },
      "source": [
        "# Bibliotecas"
      ]
    },
    {
      "cell_type": "code",
      "metadata": {
        "id": "OIrRH9f1BPNA"
      },
      "source": [
        "!pip install rich"
      ],
      "execution_count": null,
      "outputs": []
    },
    {
      "cell_type": "code",
      "metadata": {
        "id": "VnIawIncBewn"
      },
      "source": [
        "from rich import (print,\n",
        "                  inspect)"
      ],
      "execution_count": null,
      "outputs": []
    },
    {
      "cell_type": "markdown",
      "metadata": {
        "id": "CMdB8r-qd1av"
      },
      "source": [
        "# Numpy"
      ]
    },
    {
      "cell_type": "code",
      "metadata": {
        "id": "fBIlKw8tMQLC"
      },
      "source": [
        "import numpy as np"
      ],
      "execution_count": null,
      "outputs": []
    }
  ]
}