{
  "nbformat": 4,
  "nbformat_minor": 0,
  "metadata": {
    "colab": {
      "name": "20211012-Intro.ipynb",
      "provenance": [],
      "include_colab_link": true
    },
    "kernelspec": {
      "name": "python3",
      "display_name": "Python 3"
    },
    "language_info": {
      "name": "python"
    }
  },
  "cells": [
    {
      "cell_type": "markdown",
      "metadata": {
        "id": "view-in-github",
        "colab_type": "text"
      },
      "source": [
        "<a href=\"https://colab.research.google.com/github/jmbarrios/THC-Python/blob/main/20211012_Intro.ipynb\" target=\"_parent\"><img src=\"https://colab.research.google.com/assets/colab-badge.svg\" alt=\"Open In Colab\"/></a>"
      ]
    },
    {
      "cell_type": "markdown",
      "metadata": {
        "id": "rw1N2KMJiUzj"
      },
      "source": [
        "# Introducción a `Python`"
      ]
    },
    {
      "cell_type": "markdown",
      "metadata": {
        "id": "spN89upWigOi"
      },
      "source": [
        "## Agenda\n",
        "\n",
        "* Trabajando en **Colaboratory**\n",
        "* Tipos de datos en `Python`\n",
        "* [Grupal] Investigar sobre los tipos contenedores"
      ]
    },
    {
      "cell_type": "markdown",
      "metadata": {
        "id": "egqzzwF8QzRx"
      },
      "source": [
        "## Trabajando en Colaboratory"
      ]
    },
    {
      "cell_type": "markdown",
      "metadata": {
        "id": "jWmDKObmQ-r8"
      },
      "source": [
        "**Colaboratory** es un ambiente de trabajo _interactivo_ de `Python`, Se basa en la misma tecnología que Jupyter Notebook. \n",
        "\n",
        "En este caso _interactivo_ quiere decir que cuando escribes una intrucción puedes ver su salida en la celda inmediata. Esta manera de trabajo es muy útil cuando estás aprendiendo y explorando instrucciones, pero resulta ineficiente en procesos más generales. **Nota:** gran parte del curso estaremos usando esta manera interactiva de trabajo."
      ]
    },
    {
      "cell_type": "code",
      "metadata": {
        "id": "SP6QYIZLaXmM"
      },
      "source": [
        "import sys\n",
        "print(sys.version)"
      ],
      "execution_count": null,
      "outputs": []
    },
    {
      "cell_type": "code",
      "metadata": {
        "id": "3TkX5lWLSNg8"
      },
      "source": [
        "print('Hola estudiantes de THC')"
      ],
      "execution_count": null,
      "outputs": []
    },
    {
      "cell_type": "markdown",
      "metadata": {
        "id": "z6w37r1ASYlT"
      },
      "source": [
        "Se puede revisar la  documentación de una función de `Python` usando el caracter `?`"
      ]
    },
    {
      "cell_type": "code",
      "metadata": {
        "id": "TIbA2ZQuSVz8"
      },
      "source": [
        "?print"
      ],
      "execution_count": null,
      "outputs": []
    },
    {
      "cell_type": "markdown",
      "metadata": {
        "id": "qEO8QzfNTAhz"
      },
      "source": [
        "### Relación con Google Drive"
      ]
    },
    {
      "cell_type": "markdown",
      "metadata": {
        "id": "V2GvVrp5TNrV"
      },
      "source": [
        "Desde colaboratory nos será posible guardar datos y leer datos que esten en nuestro Google Drive para esto tendremos que montar el directorio."
      ]
    },
    {
      "cell_type": "code",
      "metadata": {
        "colab": {
          "base_uri": "https://localhost:8080/"
        },
        "id": "9EJ5QcOQThuC",
        "outputId": "16f6ca43-5942-40de-b11f-aba69673c30c"
      },
      "source": [
        "from google.colab import drive\n",
        "drive.mount('/gdrive')"
      ],
      "execution_count": null,
      "outputs": [
        {
          "output_type": "stream",
          "name": "stdout",
          "text": [
            "Mounted at /gdrive\n"
          ]
        }
      ]
    },
    {
      "cell_type": "code",
      "metadata": {
        "id": "Ksp_Q6kIUJNa"
      },
      "source": [
        "%ls '/gdrive/MyDrive/ColabData/'"
      ],
      "execution_count": null,
      "outputs": []
    },
    {
      "cell_type": "markdown",
      "metadata": {
        "id": "dJrr2HnrPn8I"
      },
      "source": [
        "## Tipos de datos de Python"
      ]
    },
    {
      "cell_type": "markdown",
      "metadata": {
        "id": "XqFdjFA_Wvm2"
      },
      "source": [
        "### Escalares"
      ]
    },
    {
      "cell_type": "markdown",
      "metadata": {
        "id": "FtsMttLNQeVc"
      },
      "source": [
        "En `Python` se tienen cuatro tipos de datos escalares:\n",
        "\n",
        "* Enteros `int`\n",
        "* Flotantes `float`\n",
        "* Complejos `complex`\n",
        "* Booleanos `bool`\n",
        "\n",
        "Cada uno de estos tipos soporta las operaciones usuales de una calculadora `+`, `-`, `*`, `/` y `%` (módulo)."
      ]
    },
    {
      "cell_type": "markdown",
      "metadata": {
        "id": "NEz0gD2WWllW"
      },
      "source": [
        "### Contenedores"
      ]
    },
    {
      "cell_type": "markdown",
      "metadata": {
        "id": "MfyrOKl6XMo8"
      },
      "source": [
        "Entre los tipos de datos contenedores se tienen:\n",
        "\n",
        "* Listas `list`\n",
        "* Diccionarios `dict`\n",
        "* Palabras `str`\n",
        "* Tuplas `tuple`\n",
        "* Conjuntos `set`"
      ]
    },
    {
      "cell_type": "markdown",
      "metadata": {
        "id": "1P4SVZUSaBED"
      },
      "source": [
        "#### Listas"
      ]
    },
    {
      "cell_type": "markdown",
      "metadata": {
        "id": "2yxuxXUZaDu6"
      },
      "source": [
        "Rebanadas, la sintaxis es\n",
        "\n",
        "    x[<start>:<end>:<stride>]"
      ]
    },
    {
      "cell_type": "markdown",
      "metadata": {
        "id": "yxiN2PLReyzI"
      },
      "source": [
        "#### Palabras"
      ]
    },
    {
      "cell_type": "markdown",
      "metadata": {
        "id": "uNnzxK2-eviW"
      },
      "source": [
        "#### Diccionarios"
      ]
    },
    {
      "cell_type": "markdown",
      "metadata": {
        "id": "cXL6wXyre7hg"
      },
      "source": [
        "#### Tuplas"
      ]
    },
    {
      "cell_type": "markdown",
      "metadata": {
        "id": "oltSQ0sKfGuR"
      },
      "source": [
        "#### Conjuntos"
      ]
    },
    {
      "cell_type": "markdown",
      "metadata": {
        "id": "Xib2EVRLfMiC"
      },
      "source": [
        "Mutable vs inmutable"
      ]
    }
  ]
}