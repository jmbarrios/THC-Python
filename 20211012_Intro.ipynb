{
  "nbformat": 4,
  "nbformat_minor": 0,
  "metadata": {
    "colab": {
      "name": "20211012-Intro.ipynb",
      "provenance": [],
      "include_colab_link": true
    },
    "kernelspec": {
      "name": "python3",
      "display_name": "Python 3"
    },
    "language_info": {
      "name": "python"
    }
  },
  "cells": [
    {
      "cell_type": "markdown",
      "metadata": {
        "id": "view-in-github",
        "colab_type": "text"
      },
      "source": [
        "<a href=\"https://colab.research.google.com/github/jmbarrios/THC-Python/blob/main/20211012_Intro.ipynb\" target=\"_parent\"><img src=\"https://colab.research.google.com/assets/colab-badge.svg\" alt=\"Open In Colab\"/></a>"
      ]
    },
    {
      "cell_type": "markdown",
      "metadata": {
        "id": "rw1N2KMJiUzj"
      },
      "source": [
        "# Introducción a `Python`"
      ]
    },
    {
      "cell_type": "markdown",
      "metadata": {
        "id": "spN89upWigOi"
      },
      "source": [
        "## Agenda\n",
        "\n",
        "* Trabajando en **Colaboratory**\n",
        "* Tipos de datos en `Python`\n",
        "* [Grupal] Investigar sobre los tipos contenedores"
      ]
    },
    {
      "cell_type": "markdown",
      "metadata": {
        "id": "egqzzwF8QzRx"
      },
      "source": [
        "## Trabajando en Colaboratory"
      ]
    },
    {
      "cell_type": "markdown",
      "metadata": {
        "id": "jWmDKObmQ-r8"
      },
      "source": [
        "**Colaboratory** es un ambiente de trabajo _interactivo_ de `Python`, se basa en la misma tecnología que Jupyter Notebook. \n",
        "\n",
        "En este caso _interactivo_ quiere decir que cuando escribes una intrucción puedes ver su salida en la celda inmediata. Esta manera de trabajo es muy útil cuando estás aprendiendo y explorando instrucciones, pero resulta ineficiente en procesos más generales. **Nota:** gran parte del curso estaremos usando esta manera interactiva de trabajo."
      ]
    },
    {
      "cell_type": "code",
      "metadata": {
        "id": "SP6QYIZLaXmM",
        "outputId": "c4550757-66e7-480a-b2d0-462eac630352",
        "colab": {
          "base_uri": "https://localhost:8080/"
        }
      },
      "source": [
        "import sys\n",
        "print(sys.version)"
      ],
      "execution_count": 1,
      "outputs": [
        {
          "output_type": "stream",
          "name": "stdout",
          "text": [
            "3.7.12 (default, Sep 10 2021, 00:21:48) \n",
            "[GCC 7.5.0]\n"
          ]
        }
      ]
    },
    {
      "cell_type": "code",
      "metadata": {
        "id": "3TkX5lWLSNg8",
        "outputId": "847b86d0-ad6f-45ee-af1b-59bb0f0256a2",
        "colab": {
          "base_uri": "https://localhost:8080/"
        }
      },
      "source": [
        "print('Hola estudiantes de THC')"
      ],
      "execution_count": 2,
      "outputs": [
        {
          "output_type": "stream",
          "name": "stdout",
          "text": [
            "Hola estudiantes de THC\n"
          ]
        }
      ]
    },
    {
      "cell_type": "markdown",
      "metadata": {
        "id": "z6w37r1ASYlT"
      },
      "source": [
        "Se puede revisar la  documentación de una función de `Python` usando el caracter `?`"
      ]
    },
    {
      "cell_type": "code",
      "metadata": {
        "id": "TIbA2ZQuSVz8"
      },
      "source": [
        "?print"
      ],
      "execution_count": 3,
      "outputs": []
    },
    {
      "cell_type": "code",
      "metadata": {
        "id": "OsK4bERTfO1e",
        "outputId": "c9a47ad1-f774-4f2d-c8c0-9017da65a293",
        "colab": {
          "base_uri": "https://localhost:8080/"
        }
      },
      "source": [
        "print('Hola', 'Juan', 'Raul', sep=', ')"
      ],
      "execution_count": 4,
      "outputs": [
        {
          "output_type": "stream",
          "name": "stdout",
          "text": [
            "Hola, Juan, Raul\n"
          ]
        }
      ]
    },
    {
      "cell_type": "markdown",
      "metadata": {
        "id": "qEO8QzfNTAhz"
      },
      "source": [
        "### Relación con Google Drive"
      ]
    },
    {
      "cell_type": "markdown",
      "metadata": {
        "id": "V2GvVrp5TNrV"
      },
      "source": [
        "Desde colaboratory nos será posible guardar datos y leer datos que esten en nuestro Google Drive para esto tendremos que montar el directorio."
      ]
    },
    {
      "cell_type": "code",
      "metadata": {
        "colab": {
          "base_uri": "https://localhost:8080/"
        },
        "id": "9EJ5QcOQThuC",
        "outputId": "202fd581-50d6-4ded-f515-e1259c0dd1b1"
      },
      "source": [
        "from google.colab import drive\n",
        "drive.mount('/gdrive')"
      ],
      "execution_count": 5,
      "outputs": [
        {
          "output_type": "stream",
          "name": "stdout",
          "text": [
            "Drive already mounted at /gdrive; to attempt to forcibly remount, call drive.mount(\"/gdrive\", force_remount=True).\n"
          ]
        }
      ]
    },
    {
      "cell_type": "markdown",
      "metadata": {
        "id": "MEFsNk5MBILf"
      },
      "source": [
        "El comando `%ls`, listar, sirve para ver que archivos están en la carpeta en cuestión. \n",
        "\n",
        "Esta instrucción no es un comando de Python y forma parte de un conjunto de comandos propios de colaboratory que se llaman _funciones mágicas_ (_magic functions_)."
      ]
    },
    {
      "cell_type": "code",
      "metadata": {
        "id": "Ksp_Q6kIUJNa",
        "outputId": "d235f0bb-04ab-4b46-a4cb-347e2fd485c4",
        "colab": {
          "base_uri": "https://localhost:8080/"
        }
      },
      "source": [
        "%ls '/gdrive/MyDrive/ColabData/'"
      ],
      "execution_count": 6,
      "outputs": [
        {
          "output_type": "stream",
          "name": "stdout",
          "text": [
            "destiny.jpg  verb_fields.gsheet\n"
          ]
        }
      ]
    },
    {
      "cell_type": "markdown",
      "metadata": {
        "id": "dJrr2HnrPn8I"
      },
      "source": [
        "## Tipos de datos de Python"
      ]
    },
    {
      "cell_type": "markdown",
      "metadata": {
        "id": "XqFdjFA_Wvm2"
      },
      "source": [
        "### Escalares"
      ]
    },
    {
      "cell_type": "markdown",
      "metadata": {
        "id": "FtsMttLNQeVc"
      },
      "source": [
        "En `Python` se tienen cuatro tipos de datos escalares:\n",
        "\n",
        "* Enteros `int`\n",
        "* Flotantes `float`\n",
        "* Complejos `complex`\n",
        "* Booleanos `bool`\n",
        "\n",
        "Cada uno de estos tipos soporta las operaciones usuales de una calculadora `+`, `-`, `*`, `**`, `/` y `%` (módulo)."
      ]
    },
    {
      "cell_type": "code",
      "metadata": {
        "id": "n5woQ4nBiB9b"
      },
      "source": [
        "x = False"
      ],
      "execution_count": 7,
      "outputs": []
    },
    {
      "cell_type": "code",
      "metadata": {
        "id": "ql6Dem-2izhS",
        "outputId": "433e7694-1839-4424-86ec-e6129d13e499",
        "colab": {
          "base_uri": "https://localhost:8080/"
        }
      },
      "source": [
        "type(x)"
      ],
      "execution_count": 8,
      "outputs": [
        {
          "output_type": "execute_result",
          "data": {
            "text/plain": [
              "bool"
            ]
          },
          "metadata": {},
          "execution_count": 8
        }
      ]
    },
    {
      "cell_type": "code",
      "metadata": {
        "id": "xEf0wNUPi74f",
        "outputId": "2f441931-638f-48ab-a1ce-e0fce9715c8f",
        "colab": {
          "base_uri": "https://localhost:8080/"
        }
      },
      "source": [
        "resultado = True*False\n",
        "print(resultado)"
      ],
      "execution_count": 9,
      "outputs": [
        {
          "output_type": "stream",
          "name": "stdout",
          "text": [
            "0\n"
          ]
        }
      ]
    },
    {
      "cell_type": "markdown",
      "metadata": {
        "id": "NW4QBUEcnel4"
      },
      "source": [
        "El cambiar un escalar de un tipo a otro se llama _casting_"
      ]
    },
    {
      "cell_type": "code",
      "metadata": {
        "id": "rkb_OcFpkxdU",
        "outputId": "d6365a5d-4f99-4d0a-9568-22457c103fec",
        "colab": {
          "base_uri": "https://localhost:8080/"
        }
      },
      "source": [
        "x = 43\n",
        "print(x)\n",
        "print(type(x))\n",
        "y = float(x)\n",
        "print(y)\n",
        "print(type(y))"
      ],
      "execution_count": 10,
      "outputs": [
        {
          "output_type": "stream",
          "name": "stdout",
          "text": [
            "43\n",
            "<class 'int'>\n",
            "43.0\n",
            "<class 'float'>\n"
          ]
        }
      ]
    },
    {
      "cell_type": "code",
      "metadata": {
        "id": "n1159x0ZnnjQ",
        "outputId": "7e2a04f1-2481-40c8-ba7f-def48aebbe8a",
        "colab": {
          "base_uri": "https://localhost:8080/"
        }
      },
      "source": [
        "x = 0\n",
        "print(x)\n",
        "print(type(x))\n",
        "y = bool(x)\n",
        "print(y)\n",
        "print(type(y))"
      ],
      "execution_count": 11,
      "outputs": [
        {
          "output_type": "stream",
          "name": "stdout",
          "text": [
            "0\n",
            "<class 'int'>\n",
            "False\n",
            "<class 'bool'>\n"
          ]
        }
      ]
    },
    {
      "cell_type": "markdown",
      "metadata": {
        "id": "NEz0gD2WWllW"
      },
      "source": [
        "### Contenedores"
      ]
    },
    {
      "cell_type": "markdown",
      "metadata": {
        "id": "MfyrOKl6XMo8"
      },
      "source": [
        "Entre los tipos de datos contenedores se tienen:\n",
        "\n",
        "* Listas `list`\n",
        "* Diccionarios `dict`\n",
        "* Palabras `str`\n",
        "* Tuplas `tuple`\n",
        "* Conjuntos `set`"
      ]
    },
    {
      "cell_type": "markdown",
      "metadata": {
        "id": "1P4SVZUSaBED"
      },
      "source": [
        "#### Listas"
      ]
    },
    {
      "cell_type": "markdown",
      "metadata": {
        "id": "q8rwbePcxmGZ"
      },
      "source": [
        "Una lista es un conjunto de elementos en los que va a importar el orden de como se escriben. Los elementos de la lista **no** necesariamente tienen que ser del mismo tipo de dato."
      ]
    },
    {
      "cell_type": "code",
      "metadata": {
        "id": "lGixTwtZos5c"
      },
      "source": [
        "lista = [1, 2, 3, 'rojo', True, 2.5, 2.5+7j]"
      ],
      "execution_count": 12,
      "outputs": []
    },
    {
      "cell_type": "code",
      "metadata": {
        "id": "4nFDVTeco_Pl",
        "outputId": "e13e0897-ce0e-4f43-df60-7606076bad4c",
        "colab": {
          "base_uri": "https://localhost:8080/"
        }
      },
      "source": [
        "type(lista)"
      ],
      "execution_count": 13,
      "outputs": [
        {
          "output_type": "execute_result",
          "data": {
            "text/plain": [
              "list"
            ]
          },
          "metadata": {},
          "execution_count": 13
        }
      ]
    },
    {
      "cell_type": "code",
      "metadata": {
        "id": "0hdLeX5CpDID",
        "outputId": "923840ca-a2fb-4970-9b4d-df5c89b73f98",
        "colab": {
          "base_uri": "https://localhost:8080/"
        }
      },
      "source": [
        "# Para obtener la longitud de una lista se usa la funcion `len`\n",
        "print(len(lista))"
      ],
      "execution_count": 14,
      "outputs": [
        {
          "output_type": "stream",
          "name": "stdout",
          "text": [
            "7\n"
          ]
        }
      ]
    },
    {
      "cell_type": "markdown",
      "metadata": {
        "id": "2yxuxXUZaDu6"
      },
      "source": [
        "Rebanadas, la sintaxis es\n",
        "\n",
        "    x[<start>:<end>:<stride>]"
      ]
    },
    {
      "cell_type": "markdown",
      "metadata": {
        "id": "yxiN2PLReyzI"
      },
      "source": [
        "#### Palabras"
      ]
    },
    {
      "cell_type": "markdown",
      "metadata": {
        "id": "46k7BBQ1yE6h"
      },
      "source": [
        "Una palabra es un conjunto de caracteres, es decir letras, existen tres manera de escribir delimitar una palabra estas son:\n",
        "\n",
        "* con `'` apóstrofo\n",
        "* con `\"` comillas\n",
        "* con `\"\"\"` con tres comillas\n",
        "\n",
        "en las dos primeros no se puede poner saltos de línea en la definición de la palabra en el último si se puede."
      ]
    },
    {
      "cell_type": "code",
      "metadata": {
        "id": "OovE-FRvp8Jv",
        "outputId": "ba402b6d-14a2-49f2-e61e-b558037ea57e",
        "colab": {
          "base_uri": "https://localhost:8080/"
        }
      },
      "source": [
        "nombre = 'Juan M \"el profe\" Barrios'\n",
        "print(nombre)"
      ],
      "execution_count": 15,
      "outputs": [
        {
          "output_type": "stream",
          "name": "stdout",
          "text": [
            "Juan M \"el profe\" Barrios\n"
          ]
        }
      ]
    },
    {
      "cell_type": "code",
      "metadata": {
        "id": "zDipkiJQqC4M",
        "outputId": "2184d4eb-f03d-4723-ae1d-1583fd10d614",
        "colab": {
          "base_uri": "https://localhost:8080/"
        }
      },
      "source": [
        "print(type(nombre))"
      ],
      "execution_count": 16,
      "outputs": [
        {
          "output_type": "stream",
          "name": "stdout",
          "text": [
            "<class 'str'>\n"
          ]
        }
      ]
    },
    {
      "cell_type": "code",
      "metadata": {
        "id": "ZGjBBXgxqGUs",
        "outputId": "ca3f0973-db47-44af-d729-a655233b120d",
        "colab": {
          "base_uri": "https://localhost:8080/"
        }
      },
      "source": [
        "nombre_alumno = \"Erick 'el alumno' Ramírez\"\n",
        "print(nombre_alumno)"
      ],
      "execution_count": 17,
      "outputs": [
        {
          "output_type": "stream",
          "name": "stdout",
          "text": [
            "Erick 'el alumno' Ramírez\n"
          ]
        }
      ]
    },
    {
      "cell_type": "code",
      "metadata": {
        "id": "UIN0NcKJqQgt",
        "outputId": "c8815a0f-22bd-4ea8-f526-589c5ac4e9ec",
        "colab": {
          "base_uri": "https://localhost:8080/"
        }
      },
      "source": [
        "print(type(nombre_alumno))"
      ],
      "execution_count": 18,
      "outputs": [
        {
          "output_type": "stream",
          "name": "stdout",
          "text": [
            "<class 'str'>\n"
          ]
        }
      ]
    },
    {
      "cell_type": "code",
      "metadata": {
        "id": "frrMaxZHqWnJ",
        "outputId": "e24321d6-34d5-4d7f-d331-23f1ae4e3083",
        "colab": {
          "base_uri": "https://localhost:8080/"
        }
      },
      "source": [
        "parrafos = \"\"\"\n",
        "Lorem ipsum\n",
        "dolot\n",
        "\n",
        "otro parrafo\n",
        "\"\"\"\n",
        "print(parrafos)"
      ],
      "execution_count": 19,
      "outputs": [
        {
          "output_type": "stream",
          "name": "stdout",
          "text": [
            "\n",
            "Lorem ipsum\n",
            "dolot\n",
            "\n",
            "otro parrafo\n",
            "\n"
          ]
        }
      ]
    },
    {
      "cell_type": "code",
      "metadata": {
        "id": "jkwSbtCdqoGV",
        "outputId": "63451550-3c3a-49a4-edbb-8d7eefe4d09b",
        "colab": {
          "base_uri": "https://localhost:8080/"
        }
      },
      "source": [
        "print(type(parrafos))"
      ],
      "execution_count": 20,
      "outputs": [
        {
          "output_type": "stream",
          "name": "stdout",
          "text": [
            "<class 'str'>\n"
          ]
        }
      ]
    },
    {
      "cell_type": "markdown",
      "metadata": {
        "id": "uNnzxK2-eviW"
      },
      "source": [
        "#### Diccionarios"
      ]
    },
    {
      "cell_type": "markdown",
      "metadata": {
        "id": "9Zv5KhvisO3q"
      },
      "source": [
        "Sintaxis:\n",
        "\n",
        "{ llave1: valor1, llave2:valor2, ..., llaven: valorn }"
      ]
    },
    {
      "cell_type": "code",
      "metadata": {
        "id": "mJDr05eTrrTL",
        "outputId": "e72e11bb-77bb-49be-a64f-d3725c733efb",
        "colab": {
          "base_uri": "https://localhost:8080/"
        }
      },
      "source": [
        "mi_compra = {'Agua': 15, 'Torta': 25, 'Chocolate': 5}\n",
        "print(mi_compra)"
      ],
      "execution_count": 21,
      "outputs": [
        {
          "output_type": "stream",
          "name": "stdout",
          "text": [
            "{'Agua': 15, 'Torta': 25, 'Chocolate': 5}\n"
          ]
        }
      ]
    },
    {
      "cell_type": "code",
      "metadata": {
        "id": "perqhIftsBIq",
        "outputId": "63fe2eca-9dda-48d8-a7b7-089f4f07a8ea",
        "colab": {
          "base_uri": "https://localhost:8080/"
        }
      },
      "source": [
        "print(type(mi_compra))"
      ],
      "execution_count": 22,
      "outputs": [
        {
          "output_type": "stream",
          "name": "stdout",
          "text": [
            "<class 'dict'>\n"
          ]
        }
      ]
    },
    {
      "cell_type": "markdown",
      "metadata": {
        "id": "cXL6wXyre7hg"
      },
      "source": [
        "#### Tuplas"
      ]
    },
    {
      "cell_type": "code",
      "metadata": {
        "id": "4xvUIxPFsjuH",
        "outputId": "1ab7803e-c86a-44b3-b244-027d7806f5e4",
        "colab": {
          "base_uri": "https://localhost:8080/"
        }
      },
      "source": [
        "tupla = (1, 2, 3, 4, 1, 2, 3, 1, 1, 5, 6)\n",
        "print(tupla)"
      ],
      "execution_count": 23,
      "outputs": [
        {
          "output_type": "stream",
          "name": "stdout",
          "text": [
            "(1, 2, 3, 4, 1, 2, 3, 1, 1, 5, 6)\n"
          ]
        }
      ]
    },
    {
      "cell_type": "code",
      "metadata": {
        "id": "5odapz8nspmZ",
        "outputId": "80a4552e-50e0-44d6-c78c-81dc65fb51f6",
        "colab": {
          "base_uri": "https://localhost:8080/"
        }
      },
      "source": [
        "print(type(tupla))"
      ],
      "execution_count": 24,
      "outputs": [
        {
          "output_type": "stream",
          "name": "stdout",
          "text": [
            "<class 'tuple'>\n"
          ]
        }
      ]
    },
    {
      "cell_type": "code",
      "metadata": {
        "id": "xff4xHPVt0_R",
        "outputId": "60790ad9-17f2-4d1e-f02a-a7f86b287870",
        "colab": {
          "base_uri": "https://localhost:8080/"
        }
      },
      "source": [
        "dir(tupla)"
      ],
      "execution_count": 25,
      "outputs": [
        {
          "output_type": "execute_result",
          "data": {
            "text/plain": [
              "['__add__',\n",
              " '__class__',\n",
              " '__contains__',\n",
              " '__delattr__',\n",
              " '__dir__',\n",
              " '__doc__',\n",
              " '__eq__',\n",
              " '__format__',\n",
              " '__ge__',\n",
              " '__getattribute__',\n",
              " '__getitem__',\n",
              " '__getnewargs__',\n",
              " '__gt__',\n",
              " '__hash__',\n",
              " '__init__',\n",
              " '__init_subclass__',\n",
              " '__iter__',\n",
              " '__le__',\n",
              " '__len__',\n",
              " '__lt__',\n",
              " '__mul__',\n",
              " '__ne__',\n",
              " '__new__',\n",
              " '__reduce__',\n",
              " '__reduce_ex__',\n",
              " '__repr__',\n",
              " '__rmul__',\n",
              " '__setattr__',\n",
              " '__sizeof__',\n",
              " '__str__',\n",
              " '__subclasshook__',\n",
              " 'count',\n",
              " 'index']"
            ]
          },
          "metadata": {},
          "execution_count": 25
        }
      ]
    },
    {
      "cell_type": "code",
      "metadata": {
        "id": "x0DyUOaot6wS"
      },
      "source": [
        "?tupla.count"
      ],
      "execution_count": 26,
      "outputs": []
    },
    {
      "cell_type": "code",
      "metadata": {
        "id": "QSBFx8dhuxnE",
        "outputId": "b250fae7-8084-4851-aea3-2b53b700611a",
        "colab": {
          "base_uri": "https://localhost:8080/"
        }
      },
      "source": [
        "# Regresa el conteo de veces que se encuentra un valor\n",
        "tupla.count(1)"
      ],
      "execution_count": 27,
      "outputs": [
        {
          "output_type": "execute_result",
          "data": {
            "text/plain": [
              "4"
            ]
          },
          "metadata": {},
          "execution_count": 27
        }
      ]
    },
    {
      "cell_type": "code",
      "metadata": {
        "id": "zmCoU3r5uaEP",
        "outputId": "8b1c73ac-437d-4696-fe7f-86800c8231ed",
        "colab": {
          "base_uri": "https://localhost:8080/"
        }
      },
      "source": [
        "tupla.count(25)"
      ],
      "execution_count": 28,
      "outputs": [
        {
          "output_type": "execute_result",
          "data": {
            "text/plain": [
              "0"
            ]
          },
          "metadata": {},
          "execution_count": 28
        }
      ]
    },
    {
      "cell_type": "code",
      "metadata": {
        "id": "1RkKQUveuPxt"
      },
      "source": [
        "?tupla.index"
      ],
      "execution_count": 29,
      "outputs": []
    },
    {
      "cell_type": "code",
      "metadata": {
        "id": "nxF7x31juzgl",
        "outputId": "f5a51a43-086a-4299-dba6-7516964c04be",
        "colab": {
          "base_uri": "https://localhost:8080/"
        }
      },
      "source": [
        "# Regresa el índice donde se encuentra el valor. Si el valor no está se produce un error.\n",
        "tupla.index(1)"
      ],
      "execution_count": 30,
      "outputs": [
        {
          "output_type": "execute_result",
          "data": {
            "text/plain": [
              "0"
            ]
          },
          "metadata": {},
          "execution_count": 30
        }
      ]
    },
    {
      "cell_type": "code",
      "metadata": {
        "id": "Ggbh1tbmu19f",
        "outputId": "a4895474-e98d-491e-da06-241c7f512a9b",
        "colab": {
          "base_uri": "https://localhost:8080/"
        }
      },
      "source": [
        "tupla.index(5)"
      ],
      "execution_count": 31,
      "outputs": [
        {
          "output_type": "execute_result",
          "data": {
            "text/plain": [
              "9"
            ]
          },
          "metadata": {},
          "execution_count": 31
        }
      ]
    },
    {
      "cell_type": "code",
      "metadata": {
        "id": "gL62YUqIu7E0",
        "outputId": "a7317e5d-6e6e-4254-98ed-c1045c8f2a46",
        "colab": {
          "base_uri": "https://localhost:8080/",
          "height": 172
        }
      },
      "source": [
        "tupla.index(25)"
      ],
      "execution_count": 32,
      "outputs": [
        {
          "output_type": "error",
          "ename": "ValueError",
          "evalue": "ignored",
          "traceback": [
            "\u001b[0;31m---------------------------------------------------------------------------\u001b[0m",
            "\u001b[0;31mValueError\u001b[0m                                Traceback (most recent call last)",
            "\u001b[0;32m<ipython-input-32-e3f498984612>\u001b[0m in \u001b[0;36m<module>\u001b[0;34m()\u001b[0m\n\u001b[0;32m----> 1\u001b[0;31m \u001b[0mtupla\u001b[0m\u001b[0;34m.\u001b[0m\u001b[0mindex\u001b[0m\u001b[0;34m(\u001b[0m\u001b[0;36m25\u001b[0m\u001b[0;34m)\u001b[0m\u001b[0;34m\u001b[0m\u001b[0;34m\u001b[0m\u001b[0m\n\u001b[0m",
            "\u001b[0;31mValueError\u001b[0m: tuple.index(x): x not in tuple"
          ]
        }
      ]
    },
    {
      "cell_type": "markdown",
      "metadata": {
        "id": "oltSQ0sKfGuR"
      },
      "source": [
        "#### Conjuntos"
      ]
    },
    {
      "cell_type": "code",
      "metadata": {
        "id": "WY0Gx8vTswIv",
        "outputId": "ad8dce7c-eab1-4ea8-81bd-eb32ebd621b2",
        "colab": {
          "base_uri": "https://localhost:8080/"
        }
      },
      "source": [
        "conjunto = {1, 2, 3, 4, 1, 3, 'torta', 6, 2}\n",
        "print(conjunto)"
      ],
      "execution_count": 33,
      "outputs": [
        {
          "output_type": "stream",
          "name": "stdout",
          "text": [
            "{1, 2, 3, 4, 'torta', 6}\n"
          ]
        }
      ]
    },
    {
      "cell_type": "code",
      "metadata": {
        "id": "cl04Z9iss9fP",
        "outputId": "c8833eef-2677-4a49-cc8b-74623ec09d69",
        "colab": {
          "base_uri": "https://localhost:8080/"
        }
      },
      "source": [
        "print(type(conjunto))"
      ],
      "execution_count": 34,
      "outputs": [
        {
          "output_type": "stream",
          "name": "stdout",
          "text": [
            "<class 'set'>\n"
          ]
        }
      ]
    },
    {
      "cell_type": "markdown",
      "metadata": {
        "id": "Xib2EVRLfMiC"
      },
      "source": [
        "Mutable vs inmutable"
      ]
    }
  ]
}